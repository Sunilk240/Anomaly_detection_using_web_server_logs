{
  "cells": [
    {
      "cell_type": "code",
      "source": [
        "import time"
      ],
      "metadata": {
        "id": "E4PE3dKUjxsN"
      },
      "execution_count": null,
      "outputs": []
    },
    {
      "cell_type": "markdown",
      "source": [
        "## Data Collection / Pre-processing"
      ],
      "metadata": {
        "id": "4t1TJIGoRh0X"
      }
    },
    {
      "cell_type": "code",
      "execution_count": null,
      "metadata": {
        "id": "VTg7JD3d0fRn"
      },
      "outputs": [],
      "source": [
        "from sklearn.feature_extraction.text import TfidfVectorizer\n",
        "from sklearn.model_selection import train_test_split\n",
        "from sklearn.linear_model import LogisticRegression\n",
        "import urllib.parse\n",
        "from sklearn import tree\n",
        "from sklearn import metrics\n",
        "import io\n",
        "from sklearn.svm import LinearSVC\n",
        "from sklearn.metrics import confusion_matrix"
      ]
    },
    {
      "cell_type": "code",
      "execution_count": null,
      "metadata": {
        "id": "2nJA3qCF0fRr"
      },
      "outputs": [],
      "source": [
        "normal_file_raw = 'normalTrafficTraining.txt'\n",
        "anomaly_file_raw = 'anomalousTrafficTest.txt'\n",
        "\n",
        "normal_file_parse = 'normalRequestTraining.txt'\n",
        "anomaly_file_parse = 'anomalousRequestTest.txt'"
      ]
    },
    {
      "cell_type": "code",
      "execution_count": null,
      "metadata": {
        "id": "_0Av8JxY0fRr"
      },
      "outputs": [],
      "source": [
        "def parse_file(file_in, file_out):\n",
        "    fin = open(file_in)\n",
        "    fout = io.open(file_out, \"w\", encoding=\"utf-8\")\n",
        "    lines = fin.readlines()\n",
        "    res = []\n",
        "    for i in range(len(lines)):\n",
        "        line = lines[i].strip()\n",
        "        if line.startswith(\"GET\"):\n",
        "            res.append(\"GET\" + line.split(\" \")[1])\n",
        "        elif line.startswith(\"POST\") or line.startswith(\"PUT\"):\n",
        "            url = line.split(' ')[0] + line.split(' ')[1]\n",
        "            j = 1\n",
        "            while True:\n",
        "                if lines[i + j].startswith(\"Content-Length\"):\n",
        "                    break\n",
        "                j += 1\n",
        "            j += 1\n",
        "            data = lines[i + j + 1].strip()\n",
        "            url += '?' + data\n",
        "            res.append(url)\n",
        "    for line in res:\n",
        "        line = urllib.parse.unquote(line).replace('\\n','').lower()\n",
        "        fout.writelines(line + '\\n')\n",
        "    print (\"finished parse \",len(res),\" requests\")\n",
        "    fout.close()\n",
        "    fin.close()\n",
        "\n",
        "def loadData(file):\n",
        "    with open(file, 'r', encoding=\"utf8\") as f:\n",
        "        data = f.readlines()\n",
        "    result = []\n",
        "    for d in data:\n",
        "        d = d.strip()\n",
        "        if (len(d) > 0):\n",
        "            result.append(d)\n",
        "    return result"
      ]
    },
    {
      "cell_type": "code",
      "execution_count": null,
      "metadata": {
        "id": "dTsdwfi40fRs"
      },
      "outputs": [],
      "source": [
        "parse_file(normal_file_raw,normal_file_parse)\n",
        "parse_file(anomaly_file_raw,anomaly_file_parse)"
      ]
    },
    {
      "cell_type": "code",
      "execution_count": null,
      "metadata": {
        "id": "ju-m7DJE0fRt"
      },
      "outputs": [],
      "source": [
        "bad_requests = loadData('anomalousRequestTest.txt')\n",
        "good_requests = loadData('normalRequestTraining.txt')\n",
        "\n",
        "all_requests = bad_requests + good_requests\n",
        "yBad = [1] * len(bad_requests)\n",
        "yGood = [0] * len(good_requests)\n",
        "y = yBad + yGood"
      ]
    },
    {
      "cell_type": "code",
      "source": [
        "import pandas as pd\n",
        "malicious_urls = bad_requests\n",
        "normal_urls = good_requests\n",
        "data = pd.DataFrame({'URL': malicious_urls + normal_urls, 'Label': [1] * len(malicious_urls) + [0] * len(normal_urls)})"
      ],
      "metadata": {
        "id": "UsVva52ii9Pk"
      },
      "execution_count": null,
      "outputs": []
    },
    {
      "cell_type": "code",
      "source": [
        "data"
      ],
      "metadata": {
        "colab": {
          "base_uri": "https://localhost:8080/"
        },
        "id": "4jYaAahyi_UH",
        "outputId": "15eb7272-ae95-4b62-c480-173e6daea2bc"
      },
      "execution_count": null,
      "outputs": [
        {
          "output_type": "execute_result",
          "data": {
            "text/plain": [
              "                                                     URL  Label\n",
              "0      gethttp://localhost:8080/tienda1/publico/anadi...      1\n",
              "1      posthttp://localhost:8080/tienda1/publico/anad...      1\n",
              "2      gethttp://localhost:8080/tienda1/publico/anadi...      1\n",
              "3      posthttp://localhost:8080/tienda1/publico/anad...      1\n",
              "4            gethttp://localhost:8080/asf-logo-wide.gif~      1\n",
              "...                                                  ...    ...\n",
              "97060    gethttp://localhost:8080/tienda1/imagenes/2.gif      0\n",
              "97061    gethttp://localhost:8080/tienda1/imagenes/3.gif      0\n",
              "97062  gethttp://localhost:8080/tienda1/imagenes/cmen...      0\n",
              "97063  gethttp://localhost:8080/tienda1/imagenes/logo...      0\n",
              "97064  gethttp://localhost:8080/tienda1/imagenes/nues...      0\n",
              "\n",
              "[97065 rows x 2 columns]"
            ],
            "text/html": [
              "\n",
              "  <div id=\"df-a0149ddd-28af-4a57-9436-b7a747942f9b\" class=\"colab-df-container\">\n",
              "    <div>\n",
              "<style scoped>\n",
              "    .dataframe tbody tr th:only-of-type {\n",
              "        vertical-align: middle;\n",
              "    }\n",
              "\n",
              "    .dataframe tbody tr th {\n",
              "        vertical-align: top;\n",
              "    }\n",
              "\n",
              "    .dataframe thead th {\n",
              "        text-align: right;\n",
              "    }\n",
              "</style>\n",
              "<table border=\"1\" class=\"dataframe\">\n",
              "  <thead>\n",
              "    <tr style=\"text-align: right;\">\n",
              "      <th></th>\n",
              "      <th>URL</th>\n",
              "      <th>Label</th>\n",
              "    </tr>\n",
              "  </thead>\n",
              "  <tbody>\n",
              "    <tr>\n",
              "      <th>0</th>\n",
              "      <td>gethttp://localhost:8080/tienda1/publico/anadi...</td>\n",
              "      <td>1</td>\n",
              "    </tr>\n",
              "    <tr>\n",
              "      <th>1</th>\n",
              "      <td>posthttp://localhost:8080/tienda1/publico/anad...</td>\n",
              "      <td>1</td>\n",
              "    </tr>\n",
              "    <tr>\n",
              "      <th>2</th>\n",
              "      <td>gethttp://localhost:8080/tienda1/publico/anadi...</td>\n",
              "      <td>1</td>\n",
              "    </tr>\n",
              "    <tr>\n",
              "      <th>3</th>\n",
              "      <td>posthttp://localhost:8080/tienda1/publico/anad...</td>\n",
              "      <td>1</td>\n",
              "    </tr>\n",
              "    <tr>\n",
              "      <th>4</th>\n",
              "      <td>gethttp://localhost:8080/asf-logo-wide.gif~</td>\n",
              "      <td>1</td>\n",
              "    </tr>\n",
              "    <tr>\n",
              "      <th>...</th>\n",
              "      <td>...</td>\n",
              "      <td>...</td>\n",
              "    </tr>\n",
              "    <tr>\n",
              "      <th>97060</th>\n",
              "      <td>gethttp://localhost:8080/tienda1/imagenes/2.gif</td>\n",
              "      <td>0</td>\n",
              "    </tr>\n",
              "    <tr>\n",
              "      <th>97061</th>\n",
              "      <td>gethttp://localhost:8080/tienda1/imagenes/3.gif</td>\n",
              "      <td>0</td>\n",
              "    </tr>\n",
              "    <tr>\n",
              "      <th>97062</th>\n",
              "      <td>gethttp://localhost:8080/tienda1/imagenes/cmen...</td>\n",
              "      <td>0</td>\n",
              "    </tr>\n",
              "    <tr>\n",
              "      <th>97063</th>\n",
              "      <td>gethttp://localhost:8080/tienda1/imagenes/logo...</td>\n",
              "      <td>0</td>\n",
              "    </tr>\n",
              "    <tr>\n",
              "      <th>97064</th>\n",
              "      <td>gethttp://localhost:8080/tienda1/imagenes/nues...</td>\n",
              "      <td>0</td>\n",
              "    </tr>\n",
              "  </tbody>\n",
              "</table>\n",
              "<p>97065 rows × 2 columns</p>\n",
              "</div>\n",
              "    <div class=\"colab-df-buttons\">\n",
              "\n",
              "  <div class=\"colab-df-container\">\n",
              "    <button class=\"colab-df-convert\" onclick=\"convertToInteractive('df-a0149ddd-28af-4a57-9436-b7a747942f9b')\"\n",
              "            title=\"Convert this dataframe to an interactive table.\"\n",
              "            style=\"display:none;\">\n",
              "\n",
              "  <svg xmlns=\"http://www.w3.org/2000/svg\" height=\"24px\" viewBox=\"0 -960 960 960\">\n",
              "    <path d=\"M120-120v-720h720v720H120Zm60-500h600v-160H180v160Zm220 220h160v-160H400v160Zm0 220h160v-160H400v160ZM180-400h160v-160H180v160Zm440 0h160v-160H620v160ZM180-180h160v-160H180v160Zm440 0h160v-160H620v160Z\"/>\n",
              "  </svg>\n",
              "    </button>\n",
              "\n",
              "  <style>\n",
              "    .colab-df-container {\n",
              "      display:flex;\n",
              "      gap: 12px;\n",
              "    }\n",
              "\n",
              "    .colab-df-convert {\n",
              "      background-color: #E8F0FE;\n",
              "      border: none;\n",
              "      border-radius: 50%;\n",
              "      cursor: pointer;\n",
              "      display: none;\n",
              "      fill: #1967D2;\n",
              "      height: 32px;\n",
              "      padding: 0 0 0 0;\n",
              "      width: 32px;\n",
              "    }\n",
              "\n",
              "    .colab-df-convert:hover {\n",
              "      background-color: #E2EBFA;\n",
              "      box-shadow: 0px 1px 2px rgba(60, 64, 67, 0.3), 0px 1px 3px 1px rgba(60, 64, 67, 0.15);\n",
              "      fill: #174EA6;\n",
              "    }\n",
              "\n",
              "    .colab-df-buttons div {\n",
              "      margin-bottom: 4px;\n",
              "    }\n",
              "\n",
              "    [theme=dark] .colab-df-convert {\n",
              "      background-color: #3B4455;\n",
              "      fill: #D2E3FC;\n",
              "    }\n",
              "\n",
              "    [theme=dark] .colab-df-convert:hover {\n",
              "      background-color: #434B5C;\n",
              "      box-shadow: 0px 1px 3px 1px rgba(0, 0, 0, 0.15);\n",
              "      filter: drop-shadow(0px 1px 2px rgba(0, 0, 0, 0.3));\n",
              "      fill: #FFFFFF;\n",
              "    }\n",
              "  </style>\n",
              "\n",
              "    <script>\n",
              "      const buttonEl =\n",
              "        document.querySelector('#df-a0149ddd-28af-4a57-9436-b7a747942f9b button.colab-df-convert');\n",
              "      buttonEl.style.display =\n",
              "        google.colab.kernel.accessAllowed ? 'block' : 'none';\n",
              "\n",
              "      async function convertToInteractive(key) {\n",
              "        const element = document.querySelector('#df-a0149ddd-28af-4a57-9436-b7a747942f9b');\n",
              "        const dataTable =\n",
              "          await google.colab.kernel.invokeFunction('convertToInteractive',\n",
              "                                                    [key], {});\n",
              "        if (!dataTable) return;\n",
              "\n",
              "        const docLinkHtml = 'Like what you see? Visit the ' +\n",
              "          '<a target=\"_blank\" href=https://colab.research.google.com/notebooks/data_table.ipynb>data table notebook</a>'\n",
              "          + ' to learn more about interactive tables.';\n",
              "        element.innerHTML = '';\n",
              "        dataTable['output_type'] = 'display_data';\n",
              "        await google.colab.output.renderOutput(dataTable, element);\n",
              "        const docLink = document.createElement('div');\n",
              "        docLink.innerHTML = docLinkHtml;\n",
              "        element.appendChild(docLink);\n",
              "      }\n",
              "    </script>\n",
              "  </div>\n",
              "\n",
              "\n",
              "<div id=\"df-fdb79f93-cbf5-411f-87db-63199f9374fe\">\n",
              "  <button class=\"colab-df-quickchart\" onclick=\"quickchart('df-fdb79f93-cbf5-411f-87db-63199f9374fe')\"\n",
              "            title=\"Suggest charts\"\n",
              "            style=\"display:none;\">\n",
              "\n",
              "<svg xmlns=\"http://www.w3.org/2000/svg\" height=\"24px\"viewBox=\"0 0 24 24\"\n",
              "     width=\"24px\">\n",
              "    <g>\n",
              "        <path d=\"M19 3H5c-1.1 0-2 .9-2 2v14c0 1.1.9 2 2 2h14c1.1 0 2-.9 2-2V5c0-1.1-.9-2-2-2zM9 17H7v-7h2v7zm4 0h-2V7h2v10zm4 0h-2v-4h2v4z\"/>\n",
              "    </g>\n",
              "</svg>\n",
              "  </button>\n",
              "\n",
              "<style>\n",
              "  .colab-df-quickchart {\n",
              "      --bg-color: #E8F0FE;\n",
              "      --fill-color: #1967D2;\n",
              "      --hover-bg-color: #E2EBFA;\n",
              "      --hover-fill-color: #174EA6;\n",
              "      --disabled-fill-color: #AAA;\n",
              "      --disabled-bg-color: #DDD;\n",
              "  }\n",
              "\n",
              "  [theme=dark] .colab-df-quickchart {\n",
              "      --bg-color: #3B4455;\n",
              "      --fill-color: #D2E3FC;\n",
              "      --hover-bg-color: #434B5C;\n",
              "      --hover-fill-color: #FFFFFF;\n",
              "      --disabled-bg-color: #3B4455;\n",
              "      --disabled-fill-color: #666;\n",
              "  }\n",
              "\n",
              "  .colab-df-quickchart {\n",
              "    background-color: var(--bg-color);\n",
              "    border: none;\n",
              "    border-radius: 50%;\n",
              "    cursor: pointer;\n",
              "    display: none;\n",
              "    fill: var(--fill-color);\n",
              "    height: 32px;\n",
              "    padding: 0;\n",
              "    width: 32px;\n",
              "  }\n",
              "\n",
              "  .colab-df-quickchart:hover {\n",
              "    background-color: var(--hover-bg-color);\n",
              "    box-shadow: 0 1px 2px rgba(60, 64, 67, 0.3), 0 1px 3px 1px rgba(60, 64, 67, 0.15);\n",
              "    fill: var(--button-hover-fill-color);\n",
              "  }\n",
              "\n",
              "  .colab-df-quickchart-complete:disabled,\n",
              "  .colab-df-quickchart-complete:disabled:hover {\n",
              "    background-color: var(--disabled-bg-color);\n",
              "    fill: var(--disabled-fill-color);\n",
              "    box-shadow: none;\n",
              "  }\n",
              "\n",
              "  .colab-df-spinner {\n",
              "    border: 2px solid var(--fill-color);\n",
              "    border-color: transparent;\n",
              "    border-bottom-color: var(--fill-color);\n",
              "    animation:\n",
              "      spin 1s steps(1) infinite;\n",
              "  }\n",
              "\n",
              "  @keyframes spin {\n",
              "    0% {\n",
              "      border-color: transparent;\n",
              "      border-bottom-color: var(--fill-color);\n",
              "      border-left-color: var(--fill-color);\n",
              "    }\n",
              "    20% {\n",
              "      border-color: transparent;\n",
              "      border-left-color: var(--fill-color);\n",
              "      border-top-color: var(--fill-color);\n",
              "    }\n",
              "    30% {\n",
              "      border-color: transparent;\n",
              "      border-left-color: var(--fill-color);\n",
              "      border-top-color: var(--fill-color);\n",
              "      border-right-color: var(--fill-color);\n",
              "    }\n",
              "    40% {\n",
              "      border-color: transparent;\n",
              "      border-right-color: var(--fill-color);\n",
              "      border-top-color: var(--fill-color);\n",
              "    }\n",
              "    60% {\n",
              "      border-color: transparent;\n",
              "      border-right-color: var(--fill-color);\n",
              "    }\n",
              "    80% {\n",
              "      border-color: transparent;\n",
              "      border-right-color: var(--fill-color);\n",
              "      border-bottom-color: var(--fill-color);\n",
              "    }\n",
              "    90% {\n",
              "      border-color: transparent;\n",
              "      border-bottom-color: var(--fill-color);\n",
              "    }\n",
              "  }\n",
              "</style>\n",
              "\n",
              "  <script>\n",
              "    async function quickchart(key) {\n",
              "      const quickchartButtonEl =\n",
              "        document.querySelector('#' + key + ' button');\n",
              "      quickchartButtonEl.disabled = true;  // To prevent multiple clicks.\n",
              "      quickchartButtonEl.classList.add('colab-df-spinner');\n",
              "      try {\n",
              "        const charts = await google.colab.kernel.invokeFunction(\n",
              "            'suggestCharts', [key], {});\n",
              "      } catch (error) {\n",
              "        console.error('Error during call to suggestCharts:', error);\n",
              "      }\n",
              "      quickchartButtonEl.classList.remove('colab-df-spinner');\n",
              "      quickchartButtonEl.classList.add('colab-df-quickchart-complete');\n",
              "    }\n",
              "    (() => {\n",
              "      let quickchartButtonEl =\n",
              "        document.querySelector('#df-fdb79f93-cbf5-411f-87db-63199f9374fe button');\n",
              "      quickchartButtonEl.style.display =\n",
              "        google.colab.kernel.accessAllowed ? 'block' : 'none';\n",
              "    })();\n",
              "  </script>\n",
              "</div>\n",
              "\n",
              "  <div id=\"id_a513d6eb-2bcb-481e-b6ec-1c7ff62013b3\">\n",
              "    <style>\n",
              "      .colab-df-generate {\n",
              "        background-color: #E8F0FE;\n",
              "        border: none;\n",
              "        border-radius: 50%;\n",
              "        cursor: pointer;\n",
              "        display: none;\n",
              "        fill: #1967D2;\n",
              "        height: 32px;\n",
              "        padding: 0 0 0 0;\n",
              "        width: 32px;\n",
              "      }\n",
              "\n",
              "      .colab-df-generate:hover {\n",
              "        background-color: #E2EBFA;\n",
              "        box-shadow: 0px 1px 2px rgba(60, 64, 67, 0.3), 0px 1px 3px 1px rgba(60, 64, 67, 0.15);\n",
              "        fill: #174EA6;\n",
              "      }\n",
              "\n",
              "      [theme=dark] .colab-df-generate {\n",
              "        background-color: #3B4455;\n",
              "        fill: #D2E3FC;\n",
              "      }\n",
              "\n",
              "      [theme=dark] .colab-df-generate:hover {\n",
              "        background-color: #434B5C;\n",
              "        box-shadow: 0px 1px 3px 1px rgba(0, 0, 0, 0.15);\n",
              "        filter: drop-shadow(0px 1px 2px rgba(0, 0, 0, 0.3));\n",
              "        fill: #FFFFFF;\n",
              "      }\n",
              "    </style>\n",
              "    <button class=\"colab-df-generate\" onclick=\"generateWithVariable('data')\"\n",
              "            title=\"Generate code using this dataframe.\"\n",
              "            style=\"display:none;\">\n",
              "\n",
              "  <svg xmlns=\"http://www.w3.org/2000/svg\" height=\"24px\"viewBox=\"0 0 24 24\"\n",
              "       width=\"24px\">\n",
              "    <path d=\"M7,19H8.4L18.45,9,17,7.55,7,17.6ZM5,21V16.75L18.45,3.32a2,2,0,0,1,2.83,0l1.4,1.43a1.91,1.91,0,0,1,.58,1.4,1.91,1.91,0,0,1-.58,1.4L9.25,21ZM18.45,9,17,7.55Zm-12,3A5.31,5.31,0,0,0,4.9,8.1,5.31,5.31,0,0,0,1,6.5,5.31,5.31,0,0,0,4.9,4.9,5.31,5.31,0,0,0,6.5,1,5.31,5.31,0,0,0,8.1,4.9,5.31,5.31,0,0,0,12,6.5,5.46,5.46,0,0,0,6.5,12Z\"/>\n",
              "  </svg>\n",
              "    </button>\n",
              "    <script>\n",
              "      (() => {\n",
              "      const buttonEl =\n",
              "        document.querySelector('#id_a513d6eb-2bcb-481e-b6ec-1c7ff62013b3 button.colab-df-generate');\n",
              "      buttonEl.style.display =\n",
              "        google.colab.kernel.accessAllowed ? 'block' : 'none';\n",
              "\n",
              "      buttonEl.onclick = () => {\n",
              "        google.colab.notebook.generateWithVariable('data');\n",
              "      }\n",
              "      })();\n",
              "    </script>\n",
              "  </div>\n",
              "\n",
              "    </div>\n",
              "  </div>\n"
            ],
            "application/vnd.google.colaboratory.intrinsic+json": {
              "type": "dataframe",
              "variable_name": "data",
              "summary": "{\n  \"name\": \"data\",\n  \"rows\": 97065,\n  \"fields\": [\n    {\n      \"column\": \"URL\",\n      \"properties\": {\n        \"dtype\": \"category\",\n        \"num_unique_values\": 34174,\n        \"samples\": [\n          \"gethttp://localhost:8080/tienda1/publico/anadir.jsp?id=1&nombre=queso+manchego&precio=39&cantidad=65'+delete+from+users&b1=a\\ufffdadir+al+carrito\",\n          \"posthttp://localhost:8080/tienda1/publico/autenticar.jsp?modo=entrar&login=van_eyk&pwd=t1iesti70&remember=on&b1=entrar\",\n          \"gethttp://localhost:8080/tienda1/publico/pagar.jsp?modoa=insertar&precio=7525&b1=confirmar\"\n        ],\n        \"semantic_type\": \"\",\n        \"description\": \"\"\n      }\n    },\n    {\n      \"column\": \"Label\",\n      \"properties\": {\n        \"dtype\": \"number\",\n        \"std\": 0,\n        \"min\": 0,\n        \"max\": 1,\n        \"num_unique_values\": 2,\n        \"samples\": [\n          0,\n          1\n        ],\n        \"semantic_type\": \"\",\n        \"description\": \"\"\n      }\n    }\n  ]\n}"
            }
          },
          "metadata": {},
          "execution_count": 8
        }
      ]
    },
    {
      "cell_type": "code",
      "source": [
        "data.info()"
      ],
      "metadata": {
        "colab": {
          "base_uri": "https://localhost:8080/"
        },
        "id": "0RdHfc-cjCEq",
        "outputId": "29f52919-788a-47a1-ebf7-c0467007db93"
      },
      "execution_count": null,
      "outputs": [
        {
          "output_type": "stream",
          "name": "stdout",
          "text": [
            "<class 'pandas.core.frame.DataFrame'>\n",
            "RangeIndex: 97065 entries, 0 to 97064\n",
            "Data columns (total 2 columns):\n",
            " #   Column  Non-Null Count  Dtype \n",
            "---  ------  --------------  ----- \n",
            " 0   URL     97065 non-null  object\n",
            " 1   Label   97065 non-null  int64 \n",
            "dtypes: int64(1), object(1)\n",
            "memory usage: 1.5+ MB\n"
          ]
        }
      ]
    },
    {
      "cell_type": "code",
      "source": [
        "data['Label'].value_counts()"
      ],
      "metadata": {
        "colab": {
          "base_uri": "https://localhost:8080/"
        },
        "id": "6bcqEh8ojGE5",
        "outputId": "9feaa1d2-088f-419c-aa1b-e9bc097006e8"
      },
      "execution_count": null,
      "outputs": [
        {
          "output_type": "execute_result",
          "data": {
            "text/plain": [
              "0    72000\n",
              "1    25065\n",
              "Name: Label, dtype: int64"
            ]
          },
          "metadata": {},
          "execution_count": 10
        }
      ]
    },
    {
      "cell_type": "code",
      "source": [
        "data.isnull().sum()"
      ],
      "metadata": {
        "colab": {
          "base_uri": "https://localhost:8080/"
        },
        "id": "pwawN6VljNod",
        "outputId": "8b3d2c88-c489-4468-acd7-aefe3a841079"
      },
      "execution_count": null,
      "outputs": [
        {
          "output_type": "execute_result",
          "data": {
            "text/plain": [
              "URL      0\n",
              "Label    0\n",
              "dtype: int64"
            ]
          },
          "metadata": {},
          "execution_count": 11
        }
      ]
    },
    {
      "cell_type": "markdown",
      "source": [
        "# Scikit-learn"
      ],
      "metadata": {
        "id": "emjK5uBLKAXE"
      }
    },
    {
      "cell_type": "code",
      "source": [
        "vectorizer = TfidfVectorizer(min_df=0.0, analyzer=\"char\", sublinear_tf=True, ngram_range=(3, 3))\n",
        "X = vectorizer.fit_transform(data['URL'])\n",
        "X_train, X_test, y_train, y_test = train_test_split(X, data['Label'], test_size=0.2, random_state=21)"
      ],
      "metadata": {
        "id": "PASNDUfmJVE0"
      },
      "execution_count": null,
      "outputs": []
    },
    {
      "cell_type": "markdown",
      "source": [
        "##logistic regression"
      ],
      "metadata": {
        "id": "NEREaLM3QF9K"
      }
    },
    {
      "cell_type": "code",
      "execution_count": null,
      "metadata": {
        "colab": {
          "base_uri": "https://localhost:8080/"
        },
        "id": "WfnP9UH-0fRt",
        "outputId": "b1b3531e-5a1c-405b-bca7-61926533a14e"
      },
      "outputs": [
        {
          "output_type": "stream",
          "name": "stdout",
          "text": [
            "Score Logistic Regression : 0.9743985988770412\n",
            "Confusion Matrix: \n",
            "[[14339    26]\n",
            " [  471  4577]]\n"
          ]
        },
        {
          "output_type": "stream",
          "name": "stderr",
          "text": [
            "/usr/local/lib/python3.10/dist-packages/sklearn/linear_model/_logistic.py:458: ConvergenceWarning: lbfgs failed to converge (status=1):\n",
            "STOP: TOTAL NO. of ITERATIONS REACHED LIMIT.\n",
            "\n",
            "Increase the number of iterations (max_iter) or scale the data as shown in:\n",
            "    https://scikit-learn.org/stable/modules/preprocessing.html\n",
            "Please also refer to the documentation for alternative solver options:\n",
            "    https://scikit-learn.org/stable/modules/linear_model.html#logistic-regression\n",
            "  n_iter_i = _check_optimize_result(\n"
          ]
        }
      ],
      "source": [
        "#logistic regression\n",
        "lgs = LogisticRegression()\n",
        "\n",
        "\n",
        "start_time = time.time()\n",
        "lgs.fit(X_train, y_train)\n",
        "end_time = time.time()\n",
        "training_time_logistic = end_time - start_time\n",
        "\n",
        "start_time = time.time()\n",
        "y_pred = lgs.predict(X_test)\n",
        "end_time = time.time()\n",
        "prediction_time_logistic = end_time - start_time\n",
        "\n",
        "\n",
        "score_test = metrics.accuracy_score(y_test, y_pred)\n",
        "matrix = confusion_matrix(y_test, y_pred)\n",
        "\n",
        "print (\"Score Logistic Regression :\",score_test)\n",
        "print (\"Confusion Matrix: \")\n",
        "print (matrix)"
      ]
    },
    {
      "cell_type": "code",
      "source": [
        "print(training_time_logistic)\n",
        "print(prediction_time_logistic)"
      ],
      "metadata": {
        "colab": {
          "base_uri": "https://localhost:8080/"
        },
        "id": "cIUpQN-IkfTd",
        "outputId": "4af660b2-cc30-4002-acb1-347442a48918"
      },
      "execution_count": null,
      "outputs": [
        {
          "output_type": "stream",
          "name": "stdout",
          "text": [
            "8.875909090042114\n",
            "0.006536722183227539\n"
          ]
        }
      ]
    },
    {
      "cell_type": "code",
      "source": [
        "import os\n",
        "from joblib import dump\n",
        "\n",
        "dump(lgs, 'logistic_regression_model.joblib')\n",
        "\n",
        "logistic_regression_model_size = os.path.getsize('logistic_regression_model.joblib') / 1024  # Size in KB"
      ],
      "metadata": {
        "id": "lN8u4UPMlOEV"
      },
      "execution_count": null,
      "outputs": []
    },
    {
      "cell_type": "code",
      "source": [
        "logistic_regression_model_size"
      ],
      "metadata": {
        "colab": {
          "base_uri": "https://localhost:8080/"
        },
        "id": "NjXyAPZDlrW9",
        "outputId": "5f62f93e-609a-4bd5-903c-4f7680497403"
      },
      "execution_count": null,
      "outputs": [
        {
          "output_type": "execute_result",
          "data": {
            "text/plain": [
              "256.3896484375"
            ]
          },
          "metadata": {},
          "execution_count": 16
        }
      ]
    },
    {
      "cell_type": "code",
      "source": [
        "from sklearn.metrics import accuracy_score, precision_score, recall_score, f1_score, confusion_matrix, roc_auc_score\n",
        "\n",
        "# Calculate Metrics\n",
        "accuracy = accuracy_score(y_test, y_pred)\n",
        "precision = precision_score(y_test, y_pred)\n",
        "recall = recall_score(y_test, y_pred)\n",
        "f1 = f1_score(y_test, y_pred)\n",
        "conf_matrix = confusion_matrix(y_test, y_pred)\n",
        "roc_auc = roc_auc_score(y_test, y_pred)\n",
        "\n",
        "# Display Metrics\n",
        "print(\"Accuracy:\", accuracy)\n",
        "print(\"Precision:\", precision)\n",
        "print(\"Recall:\", recall)\n",
        "print(\"F1 Score:\", f1)\n",
        "print(\"AUC-ROC Score:\", roc_auc)"
      ],
      "metadata": {
        "colab": {
          "base_uri": "https://localhost:8080/"
        },
        "id": "mFbydP-pgeGX",
        "outputId": "30b2e321-6e37-4177-88f1-642b7476b61e"
      },
      "execution_count": null,
      "outputs": [
        {
          "output_type": "stream",
          "name": "stdout",
          "text": [
            "Accuracy: 0.9743985988770412\n",
            "Precision: 0.9943515098848577\n",
            "Recall: 0.9066957210776545\n",
            "F1 Score: 0.9485027458294476\n",
            "AUC-ROC Score: 0.9524428831632616\n"
          ]
        }
      ]
    },
    {
      "cell_type": "markdown",
      "source": [
        "##Linear SVM"
      ],
      "metadata": {
        "id": "cC4yHWDXQM1e"
      }
    },
    {
      "cell_type": "code",
      "execution_count": null,
      "metadata": {
        "scrolled": true,
        "colab": {
          "base_uri": "https://localhost:8080/"
        },
        "id": "J5ixszU40fRu",
        "outputId": "d10651ad-886a-493d-b6df-89b3d3f413a9"
      },
      "outputs": [
        {
          "output_type": "stream",
          "name": "stdout",
          "text": [
            "Score Linear SVM : 0.9960335857415135\n",
            "Confusion Matrix: \n",
            "[[14347    18]\n",
            " [   59  4989]]\n"
          ]
        }
      ],
      "source": [
        "#Linear SVM\n",
        "linear_svm=LinearSVC(C=1)\n",
        "\n",
        "\n",
        "start_time = time.time()\n",
        "linear_svm.fit(X_train, y_train)\n",
        "end_time = time.time()\n",
        "training_time_linear_svm = end_time - start_time\n",
        "\n",
        "start_time = time.time()\n",
        "y_pred = linear_svm.predict(X_test)\n",
        "end_time = time.time()\n",
        "prediction_time_linear_svm = end_time - start_time\n",
        "\n",
        "\n",
        "score_test = metrics.accuracy_score(y_test, y_pred)\n",
        "matrix = confusion_matrix(y_test, y_pred)\n",
        "print (\"Score Linear SVM :\",score_test)\n",
        "print (\"Confusion Matrix: \")\n",
        "print (matrix)"
      ]
    },
    {
      "cell_type": "code",
      "source": [
        "print(training_time_logistic)\n",
        "print(prediction_time_logistic)"
      ],
      "metadata": {
        "colab": {
          "base_uri": "https://localhost:8080/"
        },
        "id": "GK8QgqWilD51",
        "outputId": "d3bf3bbf-e43e-41ef-cafa-d1e48d28839d"
      },
      "execution_count": null,
      "outputs": [
        {
          "output_type": "stream",
          "name": "stdout",
          "text": [
            "8.875909090042114\n",
            "0.006536722183227539\n"
          ]
        }
      ]
    },
    {
      "cell_type": "code",
      "source": [
        "dump(linear_svm, 'linear_svm_model.joblib')\n",
        "linear_svm_model_size = os.path.getsize('linear_svm_model.joblib') / 1024"
      ],
      "metadata": {
        "id": "4Fy9MZrblZ3f"
      },
      "execution_count": null,
      "outputs": []
    },
    {
      "cell_type": "code",
      "source": [
        "linear_svm_model_size"
      ],
      "metadata": {
        "colab": {
          "base_uri": "https://localhost:8080/"
        },
        "id": "UOZm4bWAl6xe",
        "outputId": "4db80f5e-9d71-40b4-bcdd-001f98e0b106"
      },
      "execution_count": null,
      "outputs": [
        {
          "output_type": "execute_result",
          "data": {
            "text/plain": [
              "256.2451171875"
            ]
          },
          "metadata": {},
          "execution_count": 21
        }
      ]
    },
    {
      "cell_type": "code",
      "source": [
        "# Calculate Metrics\n",
        "accuracy_svm = accuracy_score(y_test, y_pred)\n",
        "precision_svm = precision_score(y_test, y_pred)\n",
        "recall_svm = recall_score(y_test, y_pred)\n",
        "f1_svm = f1_score(y_test, y_pred)\n",
        "conf_matrix_svm = confusion_matrix(y_test, y_pred)\n",
        "roc_auc_svm = roc_auc_score(y_test, y_pred)\n",
        "\n",
        "# Display Metrics\n",
        "print(\"Accuracy:\", accuracy_svm)\n",
        "print(\"Precision:\", precision_svm)\n",
        "print(\"Recall:\", recall_svm)\n",
        "print(\"F1 Score:\", f1_svm)\n",
        "print(\"AUC-ROC Score:\", roc_auc_svm)"
      ],
      "metadata": {
        "colab": {
          "base_uri": "https://localhost:8080/"
        },
        "id": "PH5_i2_Lgfa7",
        "outputId": "42d484b0-0399-4a79-f0e1-f1d2485f72ca"
      },
      "execution_count": null,
      "outputs": [
        {
          "output_type": "stream",
          "name": "stdout",
          "text": [
            "Accuracy: 0.9960335857415135\n",
            "Precision: 0.9964050329538646\n",
            "Recall: 0.9883122028526149\n",
            "F1 Score: 0.99234211834908\n",
            "AUC-ROC Score: 0.993529578627839\n"
          ]
        }
      ]
    },
    {
      "cell_type": "markdown",
      "source": [
        "# Tensorflow"
      ],
      "metadata": {
        "id": "kS1AvyMPJ5qi"
      }
    },
    {
      "cell_type": "markdown",
      "source": [
        "## Logistic Regression"
      ],
      "metadata": {
        "id": "U89cGHoHJ0uN"
      }
    },
    {
      "cell_type": "code",
      "source": [
        "import numpy as np\n",
        "import pandas as pd\n",
        "from sklearn.feature_extraction.text import TfidfVectorizer\n",
        "from sklearn.model_selection import train_test_split\n",
        "from sklearn.metrics import accuracy_score, confusion_matrix\n",
        "import tensorflow as tf\n",
        "\n",
        "X = data['URL']\n",
        "y = data['Label']"
      ],
      "metadata": {
        "id": "7yPGROO5KIMR"
      },
      "execution_count": null,
      "outputs": []
    },
    {
      "cell_type": "code",
      "source": [
        "import pandas as pd\n",
        "from sklearn.model_selection import train_test_split\n",
        "from sklearn.feature_extraction.text import CountVectorizer, TfidfVectorizer\n",
        "from sklearn.preprocessing import StandardScaler\n",
        "from keras.preprocessing.text import Tokenizer\n",
        "from keras.preprocessing.sequence import pad_sequences\n",
        "import numpy as np\n",
        "\n",
        "# Tokenization\n",
        "tokenizer = Tokenizer()\n",
        "tokenizer.fit_on_texts(X)\n",
        "sequences = tokenizer.texts_to_sequences(X)\n",
        "\n",
        "# Sequence Padding\n",
        "max_sequence_length = 666\n",
        "padded_sequences = pad_sequences(sequences, maxlen=max_sequence_length, padding='post', truncating='post')\n",
        "\n",
        "X_train, X_test, y_train, y_test = train_test_split(\n",
        "    padded_sequences, y, test_size=0.2, random_state=42\n",
        ")\n",
        "\n",
        "# Example: Display the shape of the preprocessed data\n",
        "print(\"Padded Sequences Shape:\", padded_sequences.shape)\n",
        "# print(\"Scaled Features Shape:\", scaled_features.shape)\n",
        "print(\"X_train Shape:\", X_train.shape)\n",
        "print(\"X_test Shape:\", X_test.shape)\n",
        "print(\"y_train Shape:\", y_train.shape)\n",
        "print(\"y_test Shape:\", y_test.shape)"
      ],
      "metadata": {
        "colab": {
          "base_uri": "https://localhost:8080/"
        },
        "id": "7GrB7g0jN2_N",
        "outputId": "ee9734b9-d394-4299-b5db-b9240aab608a"
      },
      "execution_count": null,
      "outputs": [
        {
          "output_type": "stream",
          "name": "stdout",
          "text": [
            "Padded Sequences Shape: (97065, 666)\n",
            "X_train Shape: (77652, 666)\n",
            "X_test Shape: (19413, 666)\n",
            "y_train Shape: (77652,)\n",
            "y_test Shape: (19413,)\n"
          ]
        }
      ]
    },
    {
      "cell_type": "markdown",
      "source": [
        "#### 1"
      ],
      "metadata": {
        "id": "6LY-OJonmp0-"
      }
    },
    {
      "cell_type": "code",
      "source": [
        "import tensorflow as tf\n",
        "from tensorflow.keras.models import Sequential\n",
        "from tensorflow.keras.layers import Dense\n",
        "from tensorflow.keras.optimizers import Adam\n",
        "\n",
        "model_logistic_regression = Sequential()\n",
        "\n",
        "# Add a single neuron Dense layer with a sigmoid activation function\n",
        "model_logistic_regression.add(Dense(units=1, activation='sigmoid', input_dim=X_train.shape[1]))\n",
        "\n",
        "# Compile the model\n",
        "optimizer = Adam(learning_rate=0.001)\n",
        "model_logistic_regression.compile(optimizer=optimizer, loss='binary_crossentropy', metrics=['accuracy'])\n",
        "\n",
        "# Train the model\n",
        "start_time = time.time()\n",
        "model_logistic_regression.fit(X_train, y_train, epochs=50, batch_size=512, validation_split=0.2)\n",
        "end_time = time.time()\n",
        "\n",
        "training_time_tensorflow = end_time - start_time"
      ],
      "metadata": {
        "colab": {
          "base_uri": "https://localhost:8080/"
        },
        "id": "sp49rjCIkpzA",
        "outputId": "5750c363-fd0e-4940-ca8c-1600a6579bc8"
      },
      "execution_count": null,
      "outputs": [
        {
          "output_type": "stream",
          "name": "stdout",
          "text": [
            "Epoch 1/50\n",
            "122/122 [==============================] - 1s 6ms/step - loss: 108.7937 - accuracy: 0.4305 - val_loss: 35.1344 - val_accuracy: 0.7092\n",
            "Epoch 2/50\n",
            "122/122 [==============================] - 1s 4ms/step - loss: 15.6843 - accuracy: 0.7253 - val_loss: 2.6765 - val_accuracy: 0.7637\n",
            "Epoch 3/50\n",
            "122/122 [==============================] - 1s 4ms/step - loss: 1.7498 - accuracy: 0.7719 - val_loss: 1.9050 - val_accuracy: 0.7368\n",
            "Epoch 4/50\n",
            "122/122 [==============================] - 0s 4ms/step - loss: 1.4649 - accuracy: 0.7629 - val_loss: 1.3463 - val_accuracy: 0.7833\n",
            "Epoch 5/50\n",
            "122/122 [==============================] - 1s 4ms/step - loss: 1.5116 - accuracy: 0.7696 - val_loss: 1.2859 - val_accuracy: 0.8066\n",
            "Epoch 6/50\n",
            "122/122 [==============================] - 1s 4ms/step - loss: 1.5268 - accuracy: 0.7711 - val_loss: 1.8114 - val_accuracy: 0.7520\n",
            "Epoch 7/50\n",
            "122/122 [==============================] - 1s 4ms/step - loss: 1.5040 - accuracy: 0.7921 - val_loss: 1.5245 - val_accuracy: 0.7777\n",
            "Epoch 8/50\n",
            "122/122 [==============================] - 1s 4ms/step - loss: 1.3672 - accuracy: 0.7914 - val_loss: 1.5315 - val_accuracy: 0.8084\n",
            "Epoch 9/50\n",
            "122/122 [==============================] - 1s 4ms/step - loss: 1.6156 - accuracy: 0.7926 - val_loss: 1.6845 - val_accuracy: 0.8009\n",
            "Epoch 10/50\n",
            "122/122 [==============================] - 0s 4ms/step - loss: 1.6355 - accuracy: 0.7932 - val_loss: 2.0486 - val_accuracy: 0.8088\n",
            "Epoch 11/50\n",
            "122/122 [==============================] - 1s 4ms/step - loss: 1.7020 - accuracy: 0.7921 - val_loss: 1.8243 - val_accuracy: 0.8028\n",
            "Epoch 12/50\n",
            "122/122 [==============================] - 1s 4ms/step - loss: 1.4179 - accuracy: 0.8065 - val_loss: 1.7928 - val_accuracy: 0.7965\n",
            "Epoch 13/50\n",
            "122/122 [==============================] - 0s 3ms/step - loss: 1.5944 - accuracy: 0.8033 - val_loss: 1.4331 - val_accuracy: 0.7717\n",
            "Epoch 14/50\n",
            "122/122 [==============================] - 1s 4ms/step - loss: 1.6030 - accuracy: 0.8063 - val_loss: 1.0738 - val_accuracy: 0.8193\n",
            "Epoch 15/50\n",
            "122/122 [==============================] - 1s 6ms/step - loss: 1.4888 - accuracy: 0.8068 - val_loss: 1.5743 - val_accuracy: 0.7555\n",
            "Epoch 16/50\n",
            "122/122 [==============================] - 1s 6ms/step - loss: 1.4264 - accuracy: 0.8042 - val_loss: 1.3546 - val_accuracy: 0.8081\n",
            "Epoch 17/50\n",
            "122/122 [==============================] - 1s 6ms/step - loss: 1.4728 - accuracy: 0.8062 - val_loss: 1.4461 - val_accuracy: 0.8218\n",
            "Epoch 18/50\n",
            "122/122 [==============================] - 1s 5ms/step - loss: 1.2997 - accuracy: 0.8088 - val_loss: 1.6319 - val_accuracy: 0.8236\n",
            "Epoch 19/50\n",
            "122/122 [==============================] - 1s 4ms/step - loss: 1.2664 - accuracy: 0.8099 - val_loss: 0.9345 - val_accuracy: 0.8202\n",
            "Epoch 20/50\n",
            "122/122 [==============================] - 1s 4ms/step - loss: 1.3276 - accuracy: 0.8088 - val_loss: 2.3418 - val_accuracy: 0.8097\n",
            "Epoch 21/50\n",
            "122/122 [==============================] - 0s 3ms/step - loss: 1.4188 - accuracy: 0.8074 - val_loss: 1.1674 - val_accuracy: 0.8042\n",
            "Epoch 22/50\n",
            "122/122 [==============================] - 0s 3ms/step - loss: 1.3933 - accuracy: 0.8083 - val_loss: 1.3549 - val_accuracy: 0.8164\n",
            "Epoch 23/50\n",
            "122/122 [==============================] - 0s 4ms/step - loss: 1.6029 - accuracy: 0.8079 - val_loss: 1.4538 - val_accuracy: 0.8234\n",
            "Epoch 24/50\n",
            "122/122 [==============================] - 0s 3ms/step - loss: 1.3348 - accuracy: 0.8097 - val_loss: 1.4554 - val_accuracy: 0.7710\n",
            "Epoch 25/50\n",
            "122/122 [==============================] - 0s 4ms/step - loss: 1.4858 - accuracy: 0.8110 - val_loss: 1.6373 - val_accuracy: 0.7728\n",
            "Epoch 26/50\n",
            "122/122 [==============================] - 0s 4ms/step - loss: 1.4669 - accuracy: 0.8091 - val_loss: 1.2252 - val_accuracy: 0.8211\n",
            "Epoch 27/50\n",
            "122/122 [==============================] - 0s 4ms/step - loss: 1.3861 - accuracy: 0.8107 - val_loss: 1.2492 - val_accuracy: 0.7848\n",
            "Epoch 28/50\n",
            "122/122 [==============================] - 1s 5ms/step - loss: 1.5818 - accuracy: 0.8106 - val_loss: 2.1844 - val_accuracy: 0.7707\n",
            "Epoch 29/50\n",
            "122/122 [==============================] - 1s 4ms/step - loss: 1.3316 - accuracy: 0.8109 - val_loss: 1.5959 - val_accuracy: 0.8113\n",
            "Epoch 30/50\n",
            "122/122 [==============================] - 1s 4ms/step - loss: 1.6797 - accuracy: 0.8081 - val_loss: 1.4882 - val_accuracy: 0.8014\n",
            "Epoch 31/50\n",
            "122/122 [==============================] - 0s 3ms/step - loss: 1.3474 - accuracy: 0.8132 - val_loss: 1.7114 - val_accuracy: 0.8182\n",
            "Epoch 32/50\n",
            "122/122 [==============================] - 1s 4ms/step - loss: 1.4009 - accuracy: 0.8126 - val_loss: 1.0434 - val_accuracy: 0.8229\n",
            "Epoch 33/50\n",
            "122/122 [==============================] - 0s 4ms/step - loss: 1.4672 - accuracy: 0.8095 - val_loss: 2.3663 - val_accuracy: 0.8037\n",
            "Epoch 34/50\n",
            "122/122 [==============================] - 0s 4ms/step - loss: 1.2758 - accuracy: 0.8137 - val_loss: 1.1902 - val_accuracy: 0.7844\n",
            "Epoch 35/50\n",
            "122/122 [==============================] - 1s 4ms/step - loss: 1.4381 - accuracy: 0.8114 - val_loss: 1.4710 - val_accuracy: 0.7795\n",
            "Epoch 36/50\n",
            "122/122 [==============================] - 0s 3ms/step - loss: 1.2912 - accuracy: 0.8143 - val_loss: 1.3184 - val_accuracy: 0.8198\n",
            "Epoch 37/50\n",
            "122/122 [==============================] - 0s 3ms/step - loss: 1.3644 - accuracy: 0.8122 - val_loss: 1.9392 - val_accuracy: 0.8209\n",
            "Epoch 38/50\n",
            "122/122 [==============================] - 0s 4ms/step - loss: 1.3610 - accuracy: 0.8147 - val_loss: 1.6465 - val_accuracy: 0.7813\n",
            "Epoch 39/50\n",
            "122/122 [==============================] - 1s 5ms/step - loss: 1.5600 - accuracy: 0.8138 - val_loss: 1.5593 - val_accuracy: 0.8200\n",
            "Epoch 40/50\n",
            "122/122 [==============================] - 1s 6ms/step - loss: 1.4663 - accuracy: 0.8113 - val_loss: 3.1045 - val_accuracy: 0.8216\n",
            "Epoch 41/50\n",
            "122/122 [==============================] - 1s 6ms/step - loss: 1.4344 - accuracy: 0.8115 - val_loss: 1.9080 - val_accuracy: 0.8054\n",
            "Epoch 42/50\n",
            "122/122 [==============================] - 1s 6ms/step - loss: 1.4665 - accuracy: 0.8118 - val_loss: 1.7116 - val_accuracy: 0.8145\n",
            "Epoch 43/50\n",
            "122/122 [==============================] - 0s 4ms/step - loss: 1.4553 - accuracy: 0.8118 - val_loss: 1.5855 - val_accuracy: 0.8036\n",
            "Epoch 44/50\n",
            "122/122 [==============================] - 0s 4ms/step - loss: 1.6161 - accuracy: 0.8100 - val_loss: 1.8570 - val_accuracy: 0.7929\n",
            "Epoch 45/50\n",
            "122/122 [==============================] - 0s 3ms/step - loss: 1.4498 - accuracy: 0.8102 - val_loss: 1.6363 - val_accuracy: 0.8195\n",
            "Epoch 46/50\n",
            "122/122 [==============================] - 0s 4ms/step - loss: 1.4522 - accuracy: 0.8137 - val_loss: 1.2117 - val_accuracy: 0.8216\n",
            "Epoch 47/50\n",
            "122/122 [==============================] - 0s 3ms/step - loss: 1.2991 - accuracy: 0.8116 - val_loss: 1.3912 - val_accuracy: 0.8146\n",
            "Epoch 48/50\n",
            "122/122 [==============================] - 0s 4ms/step - loss: 1.5716 - accuracy: 0.8103 - val_loss: 1.4080 - val_accuracy: 0.8097\n",
            "Epoch 49/50\n",
            "122/122 [==============================] - 0s 4ms/step - loss: 1.6578 - accuracy: 0.8113 - val_loss: 1.3766 - val_accuracy: 0.8269\n",
            "Epoch 50/50\n",
            "122/122 [==============================] - 0s 4ms/step - loss: 1.4971 - accuracy: 0.8141 - val_loss: 1.1745 - val_accuracy: 0.8239\n"
          ]
        }
      ]
    },
    {
      "cell_type": "code",
      "source": [
        "training_time_tensorflow"
      ],
      "metadata": {
        "colab": {
          "base_uri": "https://localhost:8080/"
        },
        "id": "GfaPJ5KpmZo_",
        "outputId": "168d1782-1de4-4112-8259-df9c8fa0f315"
      },
      "execution_count": null,
      "outputs": [
        {
          "output_type": "execute_result",
          "data": {
            "text/plain": [
              "27.220130920410156"
            ]
          },
          "metadata": {},
          "execution_count": 26
        }
      ]
    },
    {
      "cell_type": "code",
      "source": [
        "import os\n",
        "from tensorflow.keras.models import load_model\n",
        "\n",
        "# Assuming model is your trained TensorFlow model\n",
        "model_logistic_regression.save('tensorflow_model.h5')\n",
        "\n",
        "tensorflow_model_size = os.path.getsize('tensorflow_model.h5') / 1024"
      ],
      "metadata": {
        "id": "GArSdxhLmuwd",
        "colab": {
          "base_uri": "https://localhost:8080/"
        },
        "outputId": "ba040aff-20ed-4f39-c247-ceaccc540f3c"
      },
      "execution_count": null,
      "outputs": [
        {
          "output_type": "stream",
          "name": "stderr",
          "text": [
            "/usr/local/lib/python3.10/dist-packages/keras/src/engine/training.py:3103: UserWarning: You are saving your model as an HDF5 file via `model.save()`. This file format is considered legacy. We recommend using instead the native Keras format, e.g. `model.save('my_model.keras')`.\n",
            "  saving_api.save_model(\n"
          ]
        }
      ]
    },
    {
      "cell_type": "code",
      "source": [
        "tensorflow_model_size"
      ],
      "metadata": {
        "colab": {
          "base_uri": "https://localhost:8080/"
        },
        "id": "9DZwxPojm3_t",
        "outputId": "2b62df4f-c466-48cf-d62d-678c89a69d2b"
      },
      "execution_count": null,
      "outputs": [
        {
          "output_type": "execute_result",
          "data": {
            "text/plain": [
              "27.5703125"
            ]
          },
          "metadata": {},
          "execution_count": 28
        }
      ]
    },
    {
      "cell_type": "code",
      "source": [
        "from sklearn.metrics import accuracy_score, precision_score, recall_score, f1_score, confusion_matrix, roc_auc_score\n",
        "\n",
        "# Evaluate the model\n",
        "import time\n",
        "\n",
        "start_time = time.time()\n",
        "y_pred = (model_logistic_regression.predict(X_test) > 0.5).astype(int)\n",
        "end_time = time.time()\n",
        "\n",
        "prediction_time_tensorflow = end_time - start_time\n",
        "\n",
        "# Calculate metrics\n",
        "accuracy_tf = accuracy_score(y_test, y_pred)\n",
        "precision_tf = precision_score(y_test, y_pred)\n",
        "recall_tf = recall_score(y_test, y_pred)\n",
        "f1_tf = f1_score(y_test, y_pred)\n",
        "conf_matrix_tf = confusion_matrix(y_test, y_pred)\n",
        "roc_auc_tf = roc_auc_score(y_test, y_pred)\n",
        "\n",
        "# Print the metrics\n",
        "print(\"Accuracy:\", accuracy_tf)\n",
        "print(\"Precision:\", precision_tf)\n",
        "print(\"Recall:\", recall_tf)\n",
        "print(\"F1 Score:\", f1_tf)\n",
        "print(\"AUC-ROC:\", roc_auc_tf)"
      ],
      "metadata": {
        "colab": {
          "base_uri": "https://localhost:8080/"
        },
        "id": "AwIdudxEm0eb",
        "outputId": "43a60508-7fba-40f6-c746-5546cbc17faf"
      },
      "execution_count": null,
      "outputs": [
        {
          "output_type": "stream",
          "name": "stdout",
          "text": [
            "607/607 [==============================] - 1s 1ms/step\n",
            "Accuracy: 0.8215628702415907\n",
            "Precision: 0.7152130962461191\n",
            "Recall: 0.5079174183203047\n",
            "F1 Score: 0.5939990623534928\n",
            "AUC-ROC: 0.7189822809848888\n"
          ]
        }
      ]
    },
    {
      "cell_type": "code",
      "source": [
        "prediction_time_tensorflow"
      ],
      "metadata": {
        "colab": {
          "base_uri": "https://localhost:8080/"
        },
        "id": "X7ZkSt3Knoql",
        "outputId": "2f79d840-9294-4b3d-d8cc-300471813b98"
      },
      "execution_count": null,
      "outputs": [
        {
          "output_type": "execute_result",
          "data": {
            "text/plain": [
              "1.4538044929504395"
            ]
          },
          "metadata": {},
          "execution_count": 30
        }
      ]
    },
    {
      "cell_type": "code",
      "source": [
        "# Evaluate the TensorFlow model\n",
        "score_test_tf = accuracy_score(y_test, y_pred)\n",
        "matrix_tf = confusion_matrix(y_test, y_pred)\n",
        "\n",
        "print(\"Score Logistic Regression (TensorFlow):\", score_test_tf)\n",
        "print(\"Confusion Matrix (TensorFlow): \")\n",
        "print(matrix_tf)"
      ],
      "metadata": {
        "colab": {
          "base_uri": "https://localhost:8080/"
        },
        "id": "mw7kU7nQnV3g",
        "outputId": "bd137816-545a-405f-a908-fae13b8c4055"
      },
      "execution_count": null,
      "outputs": [
        {
          "output_type": "stream",
          "name": "stdout",
          "text": [
            "Score Logistic Regression (TensorFlow): 0.8215628702415907\n",
            "Confusion Matrix (TensorFlow): \n",
            "[[13415  1009]\n",
            " [ 2455  2534]]\n"
          ]
        }
      ]
    },
    {
      "cell_type": "markdown",
      "source": [
        "#### 2"
      ],
      "metadata": {
        "id": "oIBdEFYKkiYc"
      }
    },
    {
      "cell_type": "code",
      "source": [
        "# Build logistic regression model in TensorFlow\n",
        "model_tf = tf.keras.Sequential([\n",
        "    tf.keras.layers.Input(shape=(X_train.shape[1],)),\n",
        "    tf.keras.layers.Dense(100, activation='relu'),\n",
        "    tf.keras.layers.Dense(50, activation='relu'),\n",
        "    tf.keras.layers.Dense(1, activation='sigmoid')\n",
        "])\n",
        "\n",
        "model_tf.compile(optimizer='adam', loss='binary_crossentropy', metrics=['accuracy'])"
      ],
      "metadata": {
        "id": "794O61ylMwTx"
      },
      "execution_count": null,
      "outputs": []
    },
    {
      "cell_type": "code",
      "source": [
        "import tensorflow as tf\n",
        "early_stopping = tf.keras.callbacks.EarlyStopping(\n",
        "    monitor='val_loss',\n",
        "    min_delta=0.001,\n",
        "    patience=20,\n",
        "    verbose=1,\n",
        "    mode='auto',\n",
        "    baseline=None,\n",
        "    restore_best_weights=False,\n",
        "    start_from_epoch=0\n",
        ")"
      ],
      "metadata": {
        "id": "VcLmkMX0q0Cf"
      },
      "execution_count": null,
      "outputs": []
    },
    {
      "cell_type": "code",
      "source": [
        "# model_tf.fit(X_train, y_train, epochs=50,batch_size = 128)\n",
        "model_tf.fit(X_train, y_train, epochs=50, batch_size=512, validation_split=0.2,callbacks = early_stopping)"
      ],
      "metadata": {
        "colab": {
          "base_uri": "https://localhost:8080/"
        },
        "id": "2h5p5MNANmHS",
        "outputId": "4f2d3923-5687-4e54-e24e-8cd74941f284"
      },
      "execution_count": null,
      "outputs": [
        {
          "output_type": "stream",
          "name": "stdout",
          "text": [
            "Epoch 1/50\n",
            "122/122 [==============================] - 2s 10ms/step - loss: 17.4638 - accuracy: 0.8188 - val_loss: 9.3951 - val_accuracy: 0.8647\n",
            "Epoch 2/50\n",
            "122/122 [==============================] - 1s 9ms/step - loss: 5.6974 - accuracy: 0.8942 - val_loss: 4.9969 - val_accuracy: 0.9039\n",
            "Epoch 3/50\n",
            "122/122 [==============================] - 1s 8ms/step - loss: 3.7915 - accuracy: 0.9050 - val_loss: 4.1737 - val_accuracy: 0.9025\n",
            "Epoch 4/50\n",
            "122/122 [==============================] - 2s 15ms/step - loss: 2.8398 - accuracy: 0.9212 - val_loss: 3.2434 - val_accuracy: 0.9197\n",
            "Epoch 5/50\n",
            "122/122 [==============================] - 2s 15ms/step - loss: 2.1255 - accuracy: 0.9269 - val_loss: 2.5896 - val_accuracy: 0.9335\n",
            "Epoch 6/50\n",
            "122/122 [==============================] - 2s 14ms/step - loss: 1.9148 - accuracy: 0.9300 - val_loss: 2.6482 - val_accuracy: 0.9247\n",
            "Epoch 7/50\n",
            "122/122 [==============================] - 1s 9ms/step - loss: 1.6460 - accuracy: 0.9338 - val_loss: 2.4386 - val_accuracy: 0.9249\n",
            "Epoch 8/50\n",
            "122/122 [==============================] - 1s 9ms/step - loss: 1.3108 - accuracy: 0.9405 - val_loss: 2.3901 - val_accuracy: 0.9319\n",
            "Epoch 9/50\n",
            "122/122 [==============================] - 1s 9ms/step - loss: 1.2773 - accuracy: 0.9388 - val_loss: 2.7227 - val_accuracy: 0.9297\n",
            "Epoch 10/50\n",
            "122/122 [==============================] - 1s 8ms/step - loss: 1.2648 - accuracy: 0.9398 - val_loss: 1.9402 - val_accuracy: 0.9372\n",
            "Epoch 11/50\n",
            "122/122 [==============================] - 1s 9ms/step - loss: 1.1002 - accuracy: 0.9439 - val_loss: 1.6011 - val_accuracy: 0.9439\n",
            "Epoch 12/50\n",
            "122/122 [==============================] - 1s 8ms/step - loss: 0.8697 - accuracy: 0.9478 - val_loss: 1.5493 - val_accuracy: 0.9500\n",
            "Epoch 13/50\n",
            "122/122 [==============================] - 1s 9ms/step - loss: 0.8386 - accuracy: 0.9497 - val_loss: 1.4357 - val_accuracy: 0.9431\n",
            "Epoch 14/50\n",
            "122/122 [==============================] - 2s 14ms/step - loss: 0.7895 - accuracy: 0.9500 - val_loss: 1.2825 - val_accuracy: 0.9516\n",
            "Epoch 15/50\n",
            "122/122 [==============================] - 1s 11ms/step - loss: 0.7813 - accuracy: 0.9506 - val_loss: 1.4533 - val_accuracy: 0.9465\n",
            "Epoch 16/50\n",
            "122/122 [==============================] - 1s 8ms/step - loss: 0.6361 - accuracy: 0.9538 - val_loss: 1.2701 - val_accuracy: 0.9510\n",
            "Epoch 17/50\n",
            "122/122 [==============================] - 1s 9ms/step - loss: 0.6803 - accuracy: 0.9527 - val_loss: 1.3513 - val_accuracy: 0.9433\n",
            "Epoch 18/50\n",
            "122/122 [==============================] - 1s 9ms/step - loss: 0.5770 - accuracy: 0.9556 - val_loss: 1.5961 - val_accuracy: 0.9469\n",
            "Epoch 19/50\n",
            "122/122 [==============================] - 1s 9ms/step - loss: 0.8456 - accuracy: 0.9491 - val_loss: 1.3833 - val_accuracy: 0.9461\n",
            "Epoch 20/50\n",
            "122/122 [==============================] - 1s 9ms/step - loss: 0.6672 - accuracy: 0.9545 - val_loss: 1.1107 - val_accuracy: 0.9497\n",
            "Epoch 21/50\n",
            "122/122 [==============================] - 1s 9ms/step - loss: 0.6919 - accuracy: 0.9529 - val_loss: 0.9959 - val_accuracy: 0.9578\n",
            "Epoch 22/50\n",
            "122/122 [==============================] - 1s 9ms/step - loss: 0.5217 - accuracy: 0.9588 - val_loss: 1.0714 - val_accuracy: 0.9573\n",
            "Epoch 23/50\n",
            "122/122 [==============================] - 1s 9ms/step - loss: 0.4660 - accuracy: 0.9603 - val_loss: 1.0416 - val_accuracy: 0.9505\n",
            "Epoch 24/50\n",
            "122/122 [==============================] - 1s 9ms/step - loss: 0.3702 - accuracy: 0.9634 - val_loss: 1.0380 - val_accuracy: 0.9463\n",
            "Epoch 25/50\n",
            "122/122 [==============================] - 2s 14ms/step - loss: 0.4183 - accuracy: 0.9609 - val_loss: 0.9678 - val_accuracy: 0.9524\n",
            "Epoch 26/50\n",
            "122/122 [==============================] - 1s 12ms/step - loss: 0.3468 - accuracy: 0.9654 - val_loss: 0.9520 - val_accuracy: 0.9575\n",
            "Epoch 27/50\n",
            "122/122 [==============================] - 1s 9ms/step - loss: 0.3266 - accuracy: 0.9644 - val_loss: 0.8840 - val_accuracy: 0.9627\n",
            "Epoch 28/50\n",
            "122/122 [==============================] - 1s 9ms/step - loss: 0.3653 - accuracy: 0.9634 - val_loss: 0.7879 - val_accuracy: 0.9591\n",
            "Epoch 29/50\n",
            "122/122 [==============================] - 1s 9ms/step - loss: 0.3648 - accuracy: 0.9634 - val_loss: 0.9847 - val_accuracy: 0.9567\n",
            "Epoch 30/50\n",
            "122/122 [==============================] - 1s 9ms/step - loss: 0.4280 - accuracy: 0.9616 - val_loss: 0.9923 - val_accuracy: 0.9607\n",
            "Epoch 31/50\n",
            "122/122 [==============================] - 1s 9ms/step - loss: 0.3923 - accuracy: 0.9636 - val_loss: 0.9855 - val_accuracy: 0.9453\n",
            "Epoch 32/50\n",
            "122/122 [==============================] - 1s 8ms/step - loss: 0.3379 - accuracy: 0.9646 - val_loss: 0.8788 - val_accuracy: 0.9605\n",
            "Epoch 33/50\n",
            "122/122 [==============================] - 1s 9ms/step - loss: 0.4073 - accuracy: 0.9632 - val_loss: 0.7967 - val_accuracy: 0.9559\n",
            "Epoch 34/50\n",
            "122/122 [==============================] - 1s 9ms/step - loss: 0.2998 - accuracy: 0.9669 - val_loss: 0.7016 - val_accuracy: 0.9626\n",
            "Epoch 35/50\n",
            "122/122 [==============================] - 1s 9ms/step - loss: 0.3310 - accuracy: 0.9654 - val_loss: 0.9325 - val_accuracy: 0.9486\n",
            "Epoch 36/50\n",
            "122/122 [==============================] - 3s 21ms/step - loss: 0.3236 - accuracy: 0.9649 - val_loss: 0.6934 - val_accuracy: 0.9604\n",
            "Epoch 37/50\n",
            "122/122 [==============================] - 1s 12ms/step - loss: 0.2505 - accuracy: 0.9685 - val_loss: 0.8221 - val_accuracy: 0.9628\n",
            "Epoch 38/50\n",
            "122/122 [==============================] - 1s 9ms/step - loss: 0.3074 - accuracy: 0.9666 - val_loss: 0.6965 - val_accuracy: 0.9613\n",
            "Epoch 39/50\n",
            "122/122 [==============================] - 1s 9ms/step - loss: 0.3247 - accuracy: 0.9661 - val_loss: 0.7026 - val_accuracy: 0.9563\n",
            "Epoch 40/50\n",
            "122/122 [==============================] - 1s 9ms/step - loss: 0.2720 - accuracy: 0.9677 - val_loss: 0.9247 - val_accuracy: 0.9585\n",
            "Epoch 41/50\n",
            "122/122 [==============================] - 1s 9ms/step - loss: 0.3407 - accuracy: 0.9641 - val_loss: 0.7173 - val_accuracy: 0.9609\n",
            "Epoch 42/50\n",
            "122/122 [==============================] - 1s 9ms/step - loss: 0.3013 - accuracy: 0.9675 - val_loss: 0.7144 - val_accuracy: 0.9563\n",
            "Epoch 43/50\n",
            "122/122 [==============================] - 1s 9ms/step - loss: 0.2851 - accuracy: 0.9670 - val_loss: 0.6242 - val_accuracy: 0.9618\n",
            "Epoch 44/50\n",
            "122/122 [==============================] - 1s 9ms/step - loss: 0.2340 - accuracy: 0.9684 - val_loss: 1.0505 - val_accuracy: 0.9545\n",
            "Epoch 45/50\n",
            "122/122 [==============================] - 1s 9ms/step - loss: 0.2676 - accuracy: 0.9675 - val_loss: 0.8525 - val_accuracy: 0.9621\n",
            "Epoch 46/50\n",
            "122/122 [==============================] - 1s 12ms/step - loss: 0.2223 - accuracy: 0.9705 - val_loss: 0.7185 - val_accuracy: 0.9658\n",
            "Epoch 47/50\n",
            "122/122 [==============================] - 2s 14ms/step - loss: 0.2030 - accuracy: 0.9714 - val_loss: 0.6336 - val_accuracy: 0.9641\n",
            "Epoch 48/50\n",
            "122/122 [==============================] - 1s 9ms/step - loss: 0.3263 - accuracy: 0.9657 - val_loss: 0.7228 - val_accuracy: 0.9618\n",
            "Epoch 49/50\n",
            "122/122 [==============================] - 1s 9ms/step - loss: 0.2493 - accuracy: 0.9691 - val_loss: 0.5764 - val_accuracy: 0.9652\n",
            "Epoch 50/50\n",
            "122/122 [==============================] - 1s 9ms/step - loss: 0.2588 - accuracy: 0.9672 - val_loss: 0.7004 - val_accuracy: 0.9595\n"
          ]
        },
        {
          "output_type": "execute_result",
          "data": {
            "text/plain": [
              "<keras.src.callbacks.History at 0x7a3e3bbbda20>"
            ]
          },
          "metadata": {},
          "execution_count": 34
        }
      ]
    },
    {
      "cell_type": "code",
      "source": [
        "from sklearn.metrics import accuracy_score, precision_score, recall_score, f1_score, confusion_matrix, roc_auc_score\n",
        "\n",
        "# Evaluate the model\n",
        "y_pred = (model_tf.predict(X_test) > 0.5).astype(int)\n",
        "\n",
        "# Calculate metrics\n",
        "accuracy_tf = accuracy_score(y_test, y_pred)\n",
        "precision_tf = precision_score(y_test, y_pred)\n",
        "recall_tf = recall_score(y_test, y_pred)\n",
        "f1_tf = f1_score(y_test, y_pred)\n",
        "conf_matrix_tf = confusion_matrix(y_test, y_pred)\n",
        "roc_auc_tf = roc_auc_score(y_test, y_pred)\n",
        "\n",
        "# Print the metrics\n",
        "print(\"Accuracy:\", accuracy_tf)\n",
        "print(\"Precision:\", precision_tf)\n",
        "print(\"Recall:\", recall_tf)\n",
        "print(\"F1 Score:\", f1_tf)\n",
        "print(\"AUC-ROC:\", roc_auc_tf)"
      ],
      "metadata": {
        "colab": {
          "base_uri": "https://localhost:8080/"
        },
        "id": "1TERmr-umEi9",
        "outputId": "738f1d14-0c0d-4996-cdf2-cc520daefada"
      },
      "execution_count": null,
      "outputs": [
        {
          "output_type": "stream",
          "name": "stdout",
          "text": [
            "607/607 [==============================] - 1s 2ms/step\n",
            "Accuracy: 0.9595116674393448\n",
            "Precision: 0.931076923076923\n",
            "Recall: 0.9098015634395671\n",
            "F1 Score: 0.9203163017031629\n",
            "AUC-ROC: 0.9432535271440764\n"
          ]
        }
      ]
    },
    {
      "cell_type": "code",
      "source": [
        "# Evaluate the TensorFlow model\n",
        "score_test_tf = accuracy_score(y_test, y_pred)\n",
        "matrix_tf = confusion_matrix(y_test, y_pred)\n",
        "\n",
        "print(\"Score Logistic Regression (TensorFlow):\", score_test_tf)\n",
        "print(\"Confusion Matrix (TensorFlow): \")\n",
        "print(matrix_tf)"
      ],
      "metadata": {
        "colab": {
          "base_uri": "https://localhost:8080/"
        },
        "id": "-1MxaBt8NUCH",
        "outputId": "cdfa8835-f469-45d2-dbdf-fa0961d41943"
      },
      "execution_count": null,
      "outputs": [
        {
          "output_type": "stream",
          "name": "stdout",
          "text": [
            "Score Logistic Regression (TensorFlow): 0.9595116674393448\n",
            "Confusion Matrix (TensorFlow): \n",
            "[[14088   336]\n",
            " [  450  4539]]\n"
          ]
        }
      ]
    },
    {
      "cell_type": "markdown",
      "source": [
        "## Linear SVM"
      ],
      "metadata": {
        "id": "UAkk8efLdvz3"
      }
    },
    {
      "cell_type": "code",
      "source": [
        "import tensorflow as tf\n",
        "from tensorflow.keras.models import Sequential\n",
        "from tensorflow.keras.layers import Dense\n",
        "from tensorflow.keras.optimizers import Adam"
      ],
      "metadata": {
        "id": "H3ZJVPiU-3da"
      },
      "execution_count": null,
      "outputs": []
    },
    {
      "cell_type": "markdown",
      "source": [
        "#### 1"
      ],
      "metadata": {
        "id": "oqTaTX81-RLN"
      }
    },
    {
      "cell_type": "code",
      "source": [
        "class LinearSVM(tf.keras.Model):\n",
        "    def __init__(self, input_dim):\n",
        "        super(LinearSVM, self).__init__()\n",
        "        self.dense = Dense(units=1, activation='linear', input_dim=input_dim)\n",
        "\n",
        "    def call(self, inputs):\n",
        "        return self.dense(inputs)\n",
        "\n",
        "# Instantiate the model\n",
        "model_linear_svm = LinearSVM(input_dim=X_train.shape[1])\n",
        "\n",
        "# Compile the model with hinge loss (SVM loss)\n",
        "optimizer = Adam(learning_rate=0.001)\n",
        "model_linear_svm.compile(optimizer=optimizer, loss='hinge', metrics=['accuracy'])\n",
        "\n",
        "# Train the model\n",
        "import time\n",
        "\n",
        "start_time = time.time()\n",
        "model_linear_svm.fit(X_train, y_train, epochs=50, batch_size=256, validation_split=0.2)\n",
        "end_time = time.time()\n",
        "\n",
        "training_time_tensorflow = end_time - start_time\n"
      ],
      "metadata": {
        "colab": {
          "base_uri": "https://localhost:8080/"
        },
        "id": "UubUkZaJoN2c",
        "outputId": "6d6bc16a-0eff-4040-cfd8-3a460222f52f"
      },
      "execution_count": null,
      "outputs": [
        {
          "output_type": "stream",
          "name": "stdout",
          "text": [
            "Epoch 1/50\n",
            "243/243 [==============================] - 1s 4ms/step - loss: 46.5408 - accuracy: 0.7072 - val_loss: 5.0249 - val_accuracy: 0.7893\n",
            "Epoch 2/50\n",
            "243/243 [==============================] - 1s 3ms/step - loss: 2.4829 - accuracy: 0.8048 - val_loss: 2.2312 - val_accuracy: 0.8023\n",
            "Epoch 3/50\n",
            "243/243 [==============================] - 1s 3ms/step - loss: 2.2033 - accuracy: 0.8091 - val_loss: 2.3307 - val_accuracy: 0.8141\n",
            "Epoch 4/50\n",
            "243/243 [==============================] - 1s 3ms/step - loss: 2.2517 - accuracy: 0.8086 - val_loss: 1.7274 - val_accuracy: 0.8161\n",
            "Epoch 5/50\n",
            "243/243 [==============================] - 1s 3ms/step - loss: 2.2142 - accuracy: 0.8118 - val_loss: 2.0551 - val_accuracy: 0.8172\n",
            "Epoch 6/50\n",
            "243/243 [==============================] - 1s 3ms/step - loss: 2.0778 - accuracy: 0.8171 - val_loss: 2.8474 - val_accuracy: 0.8175\n",
            "Epoch 7/50\n",
            "243/243 [==============================] - 1s 3ms/step - loss: 2.4490 - accuracy: 0.8188 - val_loss: 1.6794 - val_accuracy: 0.8202\n",
            "Epoch 8/50\n",
            "243/243 [==============================] - 1s 3ms/step - loss: 2.3890 - accuracy: 0.8197 - val_loss: 1.9228 - val_accuracy: 0.8231\n",
            "Epoch 9/50\n",
            "243/243 [==============================] - 1s 3ms/step - loss: 1.9605 - accuracy: 0.8251 - val_loss: 2.4366 - val_accuracy: 0.8363\n",
            "Epoch 10/50\n",
            "243/243 [==============================] - 1s 4ms/step - loss: 2.1749 - accuracy: 0.8298 - val_loss: 2.5436 - val_accuracy: 0.8421\n",
            "Epoch 11/50\n",
            "243/243 [==============================] - 1s 4ms/step - loss: 2.1048 - accuracy: 0.8307 - val_loss: 2.0157 - val_accuracy: 0.8242\n",
            "Epoch 12/50\n",
            "243/243 [==============================] - 1s 4ms/step - loss: 2.0262 - accuracy: 0.8353 - val_loss: 1.8187 - val_accuracy: 0.8255\n",
            "Epoch 13/50\n",
            "243/243 [==============================] - 1s 3ms/step - loss: 2.0596 - accuracy: 0.8333 - val_loss: 2.9125 - val_accuracy: 0.8502\n",
            "Epoch 14/50\n",
            "243/243 [==============================] - 1s 3ms/step - loss: 2.2221 - accuracy: 0.8337 - val_loss: 2.0710 - val_accuracy: 0.8512\n",
            "Epoch 15/50\n",
            "243/243 [==============================] - 1s 3ms/step - loss: 2.2016 - accuracy: 0.8382 - val_loss: 1.7481 - val_accuracy: 0.8353\n",
            "Epoch 16/50\n",
            "243/243 [==============================] - 1s 3ms/step - loss: 1.9528 - accuracy: 0.8386 - val_loss: 1.9442 - val_accuracy: 0.8587\n",
            "Epoch 17/50\n",
            "243/243 [==============================] - 1s 3ms/step - loss: 2.0220 - accuracy: 0.8392 - val_loss: 2.4678 - val_accuracy: 0.8243\n",
            "Epoch 18/50\n",
            "243/243 [==============================] - 1s 3ms/step - loss: 2.0940 - accuracy: 0.8397 - val_loss: 2.6941 - val_accuracy: 0.8291\n",
            "Epoch 19/50\n",
            "243/243 [==============================] - 1s 3ms/step - loss: 2.1830 - accuracy: 0.8363 - val_loss: 1.6515 - val_accuracy: 0.8426\n",
            "Epoch 20/50\n",
            "243/243 [==============================] - 1s 3ms/step - loss: 1.9924 - accuracy: 0.8395 - val_loss: 1.9074 - val_accuracy: 0.8164\n",
            "Epoch 21/50\n",
            "243/243 [==============================] - 1s 3ms/step - loss: 2.1720 - accuracy: 0.8416 - val_loss: 2.6122 - val_accuracy: 0.8394\n",
            "Epoch 22/50\n",
            "243/243 [==============================] - 1s 3ms/step - loss: 2.3364 - accuracy: 0.8397 - val_loss: 2.1051 - val_accuracy: 0.7984\n",
            "Epoch 23/50\n",
            "243/243 [==============================] - 1s 3ms/step - loss: 2.4238 - accuracy: 0.8385 - val_loss: 2.7259 - val_accuracy: 0.8039\n",
            "Epoch 24/50\n",
            "243/243 [==============================] - 1s 3ms/step - loss: 1.9783 - accuracy: 0.8401 - val_loss: 1.8410 - val_accuracy: 0.8457\n",
            "Epoch 25/50\n",
            "243/243 [==============================] - 1s 3ms/step - loss: 1.9392 - accuracy: 0.8402 - val_loss: 1.7981 - val_accuracy: 0.8222\n",
            "Epoch 26/50\n",
            "243/243 [==============================] - 1s 3ms/step - loss: 2.1091 - accuracy: 0.8387 - val_loss: 1.8537 - val_accuracy: 0.8515\n",
            "Epoch 27/50\n",
            "243/243 [==============================] - 1s 4ms/step - loss: 1.9310 - accuracy: 0.8427 - val_loss: 2.3634 - val_accuracy: 0.8162\n",
            "Epoch 28/50\n",
            "243/243 [==============================] - 1s 4ms/step - loss: 2.0654 - accuracy: 0.8410 - val_loss: 2.6081 - val_accuracy: 0.8155\n",
            "Epoch 29/50\n",
            "243/243 [==============================] - 1s 5ms/step - loss: 2.1996 - accuracy: 0.8419 - val_loss: 2.0611 - val_accuracy: 0.8535\n",
            "Epoch 30/50\n",
            "243/243 [==============================] - 1s 3ms/step - loss: 2.0263 - accuracy: 0.8408 - val_loss: 1.2951 - val_accuracy: 0.8586\n",
            "Epoch 31/50\n",
            "243/243 [==============================] - 1s 3ms/step - loss: 2.1342 - accuracy: 0.8433 - val_loss: 1.9381 - val_accuracy: 0.8233\n",
            "Epoch 32/50\n",
            "243/243 [==============================] - 1s 3ms/step - loss: 2.1473 - accuracy: 0.8419 - val_loss: 2.1882 - val_accuracy: 0.8433\n",
            "Epoch 33/50\n",
            "243/243 [==============================] - 1s 3ms/step - loss: 2.3392 - accuracy: 0.8389 - val_loss: 2.0729 - val_accuracy: 0.8410\n",
            "Epoch 34/50\n",
            "243/243 [==============================] - 1s 3ms/step - loss: 2.2021 - accuracy: 0.8401 - val_loss: 2.0030 - val_accuracy: 0.8459\n",
            "Epoch 35/50\n",
            "243/243 [==============================] - 1s 3ms/step - loss: 2.3000 - accuracy: 0.8420 - val_loss: 1.6802 - val_accuracy: 0.8571\n",
            "Epoch 36/50\n",
            "243/243 [==============================] - 1s 3ms/step - loss: 2.1533 - accuracy: 0.8439 - val_loss: 1.6194 - val_accuracy: 0.8432\n",
            "Epoch 37/50\n",
            "243/243 [==============================] - 1s 3ms/step - loss: 1.9466 - accuracy: 0.8424 - val_loss: 2.6005 - val_accuracy: 0.8525\n",
            "Epoch 38/50\n",
            "243/243 [==============================] - 1s 3ms/step - loss: 1.9801 - accuracy: 0.8422 - val_loss: 1.8091 - val_accuracy: 0.8448\n",
            "Epoch 39/50\n",
            "243/243 [==============================] - 1s 3ms/step - loss: 2.2784 - accuracy: 0.8405 - val_loss: 1.8387 - val_accuracy: 0.8394\n",
            "Epoch 40/50\n",
            "243/243 [==============================] - 1s 3ms/step - loss: 2.0050 - accuracy: 0.8454 - val_loss: 2.5431 - val_accuracy: 0.8504\n",
            "Epoch 41/50\n",
            "243/243 [==============================] - 1s 3ms/step - loss: 2.0214 - accuracy: 0.8425 - val_loss: 1.5889 - val_accuracy: 0.8426\n",
            "Epoch 42/50\n",
            "243/243 [==============================] - 1s 3ms/step - loss: 2.0020 - accuracy: 0.8441 - val_loss: 1.8953 - val_accuracy: 0.7984\n",
            "Epoch 43/50\n",
            "243/243 [==============================] - 1s 3ms/step - loss: 2.2107 - accuracy: 0.8422 - val_loss: 2.0624 - val_accuracy: 0.8509\n",
            "Epoch 44/50\n",
            "243/243 [==============================] - 1s 4ms/step - loss: 1.9462 - accuracy: 0.8427 - val_loss: 1.9015 - val_accuracy: 0.8432\n",
            "Epoch 45/50\n",
            "243/243 [==============================] - 1s 4ms/step - loss: 2.0113 - accuracy: 0.8443 - val_loss: 2.1280 - val_accuracy: 0.8314\n",
            "Epoch 46/50\n",
            "243/243 [==============================] - 1s 4ms/step - loss: 2.1700 - accuracy: 0.8447 - val_loss: 1.7171 - val_accuracy: 0.8395\n",
            "Epoch 47/50\n",
            "243/243 [==============================] - 1s 3ms/step - loss: 2.1377 - accuracy: 0.8433 - val_loss: 1.5982 - val_accuracy: 0.8419\n",
            "Epoch 48/50\n",
            "243/243 [==============================] - 1s 3ms/step - loss: 2.0770 - accuracy: 0.8456 - val_loss: 2.0427 - val_accuracy: 0.8549\n",
            "Epoch 49/50\n",
            "243/243 [==============================] - 1s 3ms/step - loss: 2.3077 - accuracy: 0.8438 - val_loss: 2.2142 - val_accuracy: 0.8479\n",
            "Epoch 50/50\n",
            "243/243 [==============================] - 1s 3ms/step - loss: 2.1490 - accuracy: 0.8443 - val_loss: 2.8337 - val_accuracy: 0.8520\n"
          ]
        }
      ]
    },
    {
      "cell_type": "code",
      "source": [
        "training_time_tensorflow"
      ],
      "metadata": {
        "colab": {
          "base_uri": "https://localhost:8080/"
        },
        "id": "5weV-ermn2ve",
        "outputId": "069e9667-816e-4e0b-fd4c-6a86aeba4f35"
      },
      "execution_count": null,
      "outputs": [
        {
          "output_type": "execute_result",
          "data": {
            "text/plain": [
              "41.68709635734558"
            ]
          },
          "metadata": {},
          "execution_count": 39
        }
      ]
    },
    {
      "cell_type": "code",
      "source": [
        "from sklearn.metrics import accuracy_score, precision_score, recall_score, f1_score, confusion_matrix, roc_auc_score\n",
        "\n",
        "# Evaluate the model\n",
        "import time\n",
        "\n",
        "start_time = time.time()\n",
        "y_pred = (model_linear_svm.predict(X_test) > 0.5).astype(int)\n",
        "end_time = time.time()\n",
        "\n",
        "prediction_time_tensorflow = end_time - start_time\n",
        "\n",
        "\n",
        "\n",
        "# Calculate metrics\n",
        "accuracy_tf = accuracy_score(y_test, y_pred)\n",
        "precision_tf = precision_score(y_test, y_pred)\n",
        "recall_tf = recall_score(y_test, y_pred)\n",
        "f1_tf = f1_score(y_test, y_pred)\n",
        "conf_matrix_tf = confusion_matrix(y_test, y_pred)\n",
        "roc_auc_tf = roc_auc_score(y_test, y_pred)\n",
        "\n",
        "# Print the metrics\n",
        "print(\"Accuracy:\", accuracy_tf)\n",
        "print(\"Precision:\", precision_tf)\n",
        "print(\"Recall:\", recall_tf)\n",
        "print(\"F1 Score:\", f1_tf)\n",
        "print(\"AUC-ROC:\", roc_auc_tf)"
      ],
      "metadata": {
        "colab": {
          "base_uri": "https://localhost:8080/"
        },
        "id": "J10bDqkqpbIS",
        "outputId": "1d54741b-605b-4909-c682-63c3b757e00b"
      },
      "execution_count": null,
      "outputs": [
        {
          "output_type": "stream",
          "name": "stdout",
          "text": [
            "607/607 [==============================] - 1s 1ms/step\n",
            "Accuracy: 0.8482460207077731\n",
            "Precision: 0.9866603144354454\n",
            "Recall: 0.41511324914812586\n",
            "F1 Score: 0.5843679458239277\n",
            "AUC-ROC: 0.7065860200260874\n"
          ]
        }
      ]
    },
    {
      "cell_type": "code",
      "source": [
        "prediction_time_tensorflow"
      ],
      "metadata": {
        "colab": {
          "base_uri": "https://localhost:8080/"
        },
        "id": "8zI8YAEFn6C_",
        "outputId": "d08237a2-130e-4e00-e567-9645af1af1ed"
      },
      "execution_count": null,
      "outputs": [
        {
          "output_type": "execute_result",
          "data": {
            "text/plain": [
              "1.4123051166534424"
            ]
          },
          "metadata": {},
          "execution_count": 41
        }
      ]
    },
    {
      "cell_type": "code",
      "source": [
        "# Evaluate the TensorFlow model\n",
        "score_test_tf = accuracy_score(y_test, y_pred)\n",
        "matrix_tf = confusion_matrix(y_test, y_pred)\n",
        "\n",
        "print(\"Score LinearSVM (TensorFlow):\", score_test_tf)\n",
        "print(\"Confusion Matrix (TensorFlow): \")\n",
        "print(matrix_tf)"
      ],
      "metadata": {
        "colab": {
          "base_uri": "https://localhost:8080/"
        },
        "id": "cc04Y96Rn5Cq",
        "outputId": "c51a66bd-ac99-40ee-8a21-94786dbe9458"
      },
      "execution_count": null,
      "outputs": [
        {
          "output_type": "stream",
          "name": "stdout",
          "text": [
            "Score LinearSVM (TensorFlow): 0.8482460207077731\n",
            "Confusion Matrix (TensorFlow): \n",
            "[[14396    28]\n",
            " [ 2918  2071]]\n"
          ]
        }
      ]
    },
    {
      "cell_type": "code",
      "source": [
        "import os\n",
        "import torch\n",
        "\n",
        "# Assuming model_pt is your trained PyTorch model\n",
        "torch.save(model_linear_svm, 'pytorch_model.pth')\n",
        "\n",
        "pytorch_model_size = os.path.getsize('pytorch_model.pth') / 1024"
      ],
      "metadata": {
        "id": "58Wm-kLVn9KM"
      },
      "execution_count": null,
      "outputs": []
    },
    {
      "cell_type": "code",
      "source": [
        "pytorch_model_size"
      ],
      "metadata": {
        "colab": {
          "base_uri": "https://localhost:8080/"
        },
        "id": "FqHf9s-Qpw-A",
        "outputId": "692cd6a8-cf20-4c56-be5e-eaee7b591174"
      },
      "execution_count": null,
      "outputs": [
        {
          "output_type": "execute_result",
          "data": {
            "text/plain": [
              "26.8671875"
            ]
          },
          "metadata": {},
          "execution_count": 44
        }
      ]
    },
    {
      "cell_type": "markdown",
      "source": [
        "#### 2"
      ],
      "metadata": {
        "id": "joNh9hrz_wzM"
      }
    },
    {
      "cell_type": "code",
      "source": [
        "# Create a linear SVM model using TensorFlow\n",
        "model_svm_tf = tf.keras.Sequential([\n",
        "    tf.keras.layers.Input(shape=(X_train.shape[1],)),\n",
        "    # tf.keras.layers.Dense(80, activation='linear'),\n",
        "    tf.keras.layers.Dense(50, activation='linear'),\n",
        "    tf.keras.layers.Dense(1, activation='linear'),  # Linear activation for SVM\n",
        "])\n",
        "\n",
        "# Use Hinge loss for SVM\n",
        "# model_svm_tf.compile(optimizer='adam', loss='hinge', metrics=['accuracy'])\n",
        "model_svm_tf.compile(optimizer=tf.keras.optimizers.Adam(learning_rate=0.001), loss='hinge', metrics=['accuracy'])"
      ],
      "metadata": {
        "id": "86LDC_jAdy05"
      },
      "execution_count": null,
      "outputs": []
    },
    {
      "cell_type": "code",
      "source": [
        "model_svm_tf.fit(X_train, y_train, epochs=50, batch_size=512, validation_split=0.2)"
      ],
      "metadata": {
        "colab": {
          "base_uri": "https://localhost:8080/"
        },
        "id": "AFZpAmMheN3p",
        "outputId": "a9bb9e8a-8e8f-4b35-d106-8c77c0abb320"
      },
      "execution_count": null,
      "outputs": [
        {
          "output_type": "stream",
          "name": "stdout",
          "text": [
            "Epoch 1/50\n",
            "122/122 [==============================] - 2s 10ms/step - loss: 68.2402 - accuracy: 0.7367 - val_loss: 16.8209 - val_accuracy: 0.7773\n",
            "Epoch 2/50\n",
            "122/122 [==============================] - 1s 11ms/step - loss: 8.6928 - accuracy: 0.7802 - val_loss: 6.5319 - val_accuracy: 0.8002\n",
            "Epoch 3/50\n",
            "122/122 [==============================] - 1s 9ms/step - loss: 8.4747 - accuracy: 0.7938 - val_loss: 7.1949 - val_accuracy: 0.7866\n",
            "Epoch 4/50\n",
            "122/122 [==============================] - 1s 6ms/step - loss: 8.3957 - accuracy: 0.8104 - val_loss: 8.4758 - val_accuracy: 0.8399\n",
            "Epoch 5/50\n",
            "122/122 [==============================] - 1s 6ms/step - loss: 8.6094 - accuracy: 0.8139 - val_loss: 8.0111 - val_accuracy: 0.8024\n",
            "Epoch 6/50\n",
            "122/122 [==============================] - 1s 6ms/step - loss: 8.6736 - accuracy: 0.8132 - val_loss: 8.0836 - val_accuracy: 0.8306\n",
            "Epoch 7/50\n",
            "122/122 [==============================] - 1s 7ms/step - loss: 7.2278 - accuracy: 0.8153 - val_loss: 8.7209 - val_accuracy: 0.7786\n",
            "Epoch 8/50\n",
            "122/122 [==============================] - 1s 7ms/step - loss: 7.7330 - accuracy: 0.8116 - val_loss: 10.7956 - val_accuracy: 0.8150\n",
            "Epoch 9/50\n",
            "122/122 [==============================] - 1s 8ms/step - loss: 8.5049 - accuracy: 0.8128 - val_loss: 7.9449 - val_accuracy: 0.8224\n",
            "Epoch 10/50\n",
            "122/122 [==============================] - 1s 10ms/step - loss: 8.4306 - accuracy: 0.8221 - val_loss: 14.1577 - val_accuracy: 0.7819\n",
            "Epoch 11/50\n",
            "122/122 [==============================] - 1s 10ms/step - loss: 8.5938 - accuracy: 0.8237 - val_loss: 8.9899 - val_accuracy: 0.8043\n",
            "Epoch 12/50\n",
            "122/122 [==============================] - 1s 7ms/step - loss: 9.3011 - accuracy: 0.8147 - val_loss: 11.0846 - val_accuracy: 0.8024\n",
            "Epoch 13/50\n",
            "122/122 [==============================] - 1s 6ms/step - loss: 8.8450 - accuracy: 0.8113 - val_loss: 4.4378 - val_accuracy: 0.8197\n",
            "Epoch 14/50\n",
            "122/122 [==============================] - 1s 7ms/step - loss: 7.1878 - accuracy: 0.8237 - val_loss: 8.9455 - val_accuracy: 0.8305\n",
            "Epoch 15/50\n",
            "122/122 [==============================] - 1s 6ms/step - loss: 7.4416 - accuracy: 0.8248 - val_loss: 8.1561 - val_accuracy: 0.7993\n",
            "Epoch 16/50\n",
            "122/122 [==============================] - 1s 7ms/step - loss: 7.0594 - accuracy: 0.8146 - val_loss: 14.7447 - val_accuracy: 0.7906\n",
            "Epoch 17/50\n",
            "122/122 [==============================] - 1s 7ms/step - loss: 7.6451 - accuracy: 0.8212 - val_loss: 9.2606 - val_accuracy: 0.8449\n",
            "Epoch 18/50\n",
            "122/122 [==============================] - 1s 6ms/step - loss: 6.7295 - accuracy: 0.8247 - val_loss: 6.0012 - val_accuracy: 0.8491\n",
            "Epoch 19/50\n",
            "122/122 [==============================] - 1s 7ms/step - loss: 6.5791 - accuracy: 0.8302 - val_loss: 7.6098 - val_accuracy: 0.8140\n",
            "Epoch 20/50\n",
            "122/122 [==============================] - 1s 6ms/step - loss: 7.8180 - accuracy: 0.8252 - val_loss: 6.6551 - val_accuracy: 0.8325\n",
            "Epoch 21/50\n",
            "122/122 [==============================] - 1s 6ms/step - loss: 6.9269 - accuracy: 0.8240 - val_loss: 6.2837 - val_accuracy: 0.8317\n",
            "Epoch 22/50\n",
            "122/122 [==============================] - 1s 6ms/step - loss: 7.5668 - accuracy: 0.8250 - val_loss: 6.7315 - val_accuracy: 0.8281\n",
            "Epoch 23/50\n",
            "122/122 [==============================] - 1s 7ms/step - loss: 7.6119 - accuracy: 0.8274 - val_loss: 7.1986 - val_accuracy: 0.8158\n",
            "Epoch 24/50\n",
            "122/122 [==============================] - 1s 9ms/step - loss: 7.3100 - accuracy: 0.8247 - val_loss: 3.7723 - val_accuracy: 0.8522\n",
            "Epoch 25/50\n",
            "122/122 [==============================] - 1s 11ms/step - loss: 5.7633 - accuracy: 0.8254 - val_loss: 5.4049 - val_accuracy: 0.8264\n",
            "Epoch 26/50\n",
            "122/122 [==============================] - 1s 8ms/step - loss: 5.8204 - accuracy: 0.8345 - val_loss: 9.4049 - val_accuracy: 0.8360\n",
            "Epoch 27/50\n",
            "122/122 [==============================] - 1s 6ms/step - loss: 7.8567 - accuracy: 0.8279 - val_loss: 7.1419 - val_accuracy: 0.8242\n",
            "Epoch 28/50\n",
            "122/122 [==============================] - 1s 6ms/step - loss: 7.1100 - accuracy: 0.8281 - val_loss: 4.6264 - val_accuracy: 0.8162\n",
            "Epoch 29/50\n",
            "122/122 [==============================] - 1s 7ms/step - loss: 6.1197 - accuracy: 0.8264 - val_loss: 7.8864 - val_accuracy: 0.8170\n",
            "Epoch 30/50\n",
            "122/122 [==============================] - 1s 6ms/step - loss: 5.9489 - accuracy: 0.8345 - val_loss: 4.7174 - val_accuracy: 0.7721\n",
            "Epoch 31/50\n",
            "122/122 [==============================] - 1s 6ms/step - loss: 5.5094 - accuracy: 0.8345 - val_loss: 6.9214 - val_accuracy: 0.8480\n",
            "Epoch 32/50\n",
            "122/122 [==============================] - 1s 6ms/step - loss: 5.4957 - accuracy: 0.8387 - val_loss: 4.6226 - val_accuracy: 0.8399\n",
            "Epoch 33/50\n",
            "122/122 [==============================] - 1s 7ms/step - loss: 6.7943 - accuracy: 0.8307 - val_loss: 4.7795 - val_accuracy: 0.8398\n",
            "Epoch 34/50\n",
            "122/122 [==============================] - 1s 7ms/step - loss: 6.2742 - accuracy: 0.8320 - val_loss: 5.5477 - val_accuracy: 0.8131\n",
            "Epoch 35/50\n",
            "122/122 [==============================] - 1s 6ms/step - loss: 5.8037 - accuracy: 0.8254 - val_loss: 6.0083 - val_accuracy: 0.8421\n",
            "Epoch 36/50\n",
            "122/122 [==============================] - 1s 6ms/step - loss: 5.6303 - accuracy: 0.8349 - val_loss: 6.5960 - val_accuracy: 0.8187\n",
            "Epoch 37/50\n",
            "122/122 [==============================] - 1s 6ms/step - loss: 5.5347 - accuracy: 0.8340 - val_loss: 6.7493 - val_accuracy: 0.8443\n",
            "Epoch 38/50\n",
            "122/122 [==============================] - 1s 7ms/step - loss: 6.6351 - accuracy: 0.8285 - val_loss: 5.6624 - val_accuracy: 0.8417\n",
            "Epoch 39/50\n",
            "122/122 [==============================] - 1s 12ms/step - loss: 5.0703 - accuracy: 0.8303 - val_loss: 4.3898 - val_accuracy: 0.8478\n",
            "Epoch 40/50\n",
            "122/122 [==============================] - 1s 10ms/step - loss: 5.2864 - accuracy: 0.8324 - val_loss: 5.5191 - val_accuracy: 0.8558\n",
            "Epoch 41/50\n",
            "122/122 [==============================] - 1s 7ms/step - loss: 6.0136 - accuracy: 0.8327 - val_loss: 5.9089 - val_accuracy: 0.8122\n",
            "Epoch 42/50\n",
            "122/122 [==============================] - 1s 7ms/step - loss: 5.3030 - accuracy: 0.8273 - val_loss: 4.2292 - val_accuracy: 0.8365\n",
            "Epoch 43/50\n",
            "122/122 [==============================] - 1s 6ms/step - loss: 5.5560 - accuracy: 0.8299 - val_loss: 6.6120 - val_accuracy: 0.8634\n",
            "Epoch 44/50\n",
            "122/122 [==============================] - 1s 7ms/step - loss: 5.6127 - accuracy: 0.8300 - val_loss: 5.4507 - val_accuracy: 0.8443\n",
            "Epoch 45/50\n",
            "122/122 [==============================] - 1s 7ms/step - loss: 5.0514 - accuracy: 0.8314 - val_loss: 4.7143 - val_accuracy: 0.8420\n",
            "Epoch 46/50\n",
            "122/122 [==============================] - 1s 6ms/step - loss: 4.8190 - accuracy: 0.8336 - val_loss: 5.0546 - val_accuracy: 0.8567\n",
            "Epoch 47/50\n",
            "122/122 [==============================] - 1s 6ms/step - loss: 4.9268 - accuracy: 0.8405 - val_loss: 4.2419 - val_accuracy: 0.8402\n",
            "Epoch 48/50\n",
            "122/122 [==============================] - 1s 7ms/step - loss: 4.8032 - accuracy: 0.8332 - val_loss: 5.3810 - val_accuracy: 0.8515\n",
            "Epoch 49/50\n",
            "122/122 [==============================] - 1s 7ms/step - loss: 4.9289 - accuracy: 0.8327 - val_loss: 5.8505 - val_accuracy: 0.8410\n",
            "Epoch 50/50\n",
            "122/122 [==============================] - 1s 6ms/step - loss: 4.4760 - accuracy: 0.8365 - val_loss: 3.2637 - val_accuracy: 0.8453\n"
          ]
        },
        {
          "output_type": "execute_result",
          "data": {
            "text/plain": [
              "<keras.src.callbacks.History at 0x7a3e399abaf0>"
            ]
          },
          "metadata": {},
          "execution_count": 46
        }
      ]
    },
    {
      "cell_type": "code",
      "source": [
        "from sklearn.metrics import accuracy_score, precision_score, recall_score, f1_score, confusion_matrix, roc_auc_score\n",
        "\n",
        "# Evaluate the model\n",
        "y_pred = (model_svm_tf.predict(X_test) > 0.5).astype(int)\n",
        "\n",
        "# Calculate metrics\n",
        "accuracy_tf = accuracy_score(y_test, y_pred)\n",
        "precision_tf = precision_score(y_test, y_pred)\n",
        "recall_tf = recall_score(y_test, y_pred)\n",
        "f1_tf = f1_score(y_test, y_pred)\n",
        "conf_matrix_tf = confusion_matrix(y_test, y_pred)\n",
        "roc_auc_tf = roc_auc_score(y_test, y_pred)\n",
        "\n",
        "# Print the metrics\n",
        "print(\"Accuracy:\", accuracy_tf)\n",
        "print(\"Precision:\", precision_tf)\n",
        "print(\"Recall:\", recall_tf)\n",
        "print(\"F1 Score:\", f1_tf)\n",
        "print(\"AUC-ROC:\", roc_auc_tf)"
      ],
      "metadata": {
        "colab": {
          "base_uri": "https://localhost:8080/"
        },
        "id": "lCNCs9h0-dBP",
        "outputId": "090c4855-0ab4-4f70-ca09-7beecac99a24"
      },
      "execution_count": null,
      "outputs": [
        {
          "output_type": "stream",
          "name": "stdout",
          "text": [
            "607/607 [==============================] - 1s 1ms/step\n",
            "Accuracy: 0.8416525009014578\n",
            "Precision: 0.9284116331096197\n",
            "Recall: 0.41591501302866307\n",
            "F1 Score: 0.5744739756367664\n",
            "AUC-ROC: 0.7024111948116138\n"
          ]
        }
      ]
    },
    {
      "cell_type": "code",
      "source": [
        "# Evaluate the TensorFlow model\n",
        "score_test_tf = accuracy_score(y_test, y_pred)\n",
        "matrix_tf = confusion_matrix(y_test, y_pred)\n",
        "\n",
        "print(\"Score LinearSVM (TensorFlow):\", score_test_tf)\n",
        "print(\"Confusion Matrix (TensorFlow): \")\n",
        "print(matrix_tf)"
      ],
      "metadata": {
        "colab": {
          "base_uri": "https://localhost:8080/"
        },
        "id": "B0IKzS8VogbW",
        "outputId": "598038e6-7f12-45af-9d63-f8d28269b93c"
      },
      "execution_count": null,
      "outputs": [
        {
          "output_type": "stream",
          "name": "stdout",
          "text": [
            "Score LinearSVM (TensorFlow): 0.8416525009014578\n",
            "Confusion Matrix (TensorFlow): \n",
            "[[14264   160]\n",
            " [ 2914  2075]]\n"
          ]
        }
      ]
    },
    {
      "cell_type": "code",
      "source": [],
      "metadata": {
        "id": "EM8IQYiGpaFE"
      },
      "execution_count": null,
      "outputs": []
    },
    {
      "cell_type": "markdown",
      "source": [
        "# Pytorch"
      ],
      "metadata": {
        "id": "L5By0QVfW6h9"
      }
    },
    {
      "cell_type": "code",
      "source": [
        "import numpy as np\n",
        "import pandas as pd\n",
        "from sklearn.feature_extraction.text import TfidfVectorizer\n",
        "from sklearn.model_selection import train_test_split\n",
        "from sklearn.metrics import accuracy_score, confusion_matrix\n",
        "import torch\n",
        "import torch.nn as nn\n",
        "import torch.optim as optim\n",
        "from torch.utils.data import TensorDataset, DataLoader\n",
        "from keras.preprocessing.text import Tokenizer\n",
        "from keras.preprocessing.sequence import pad_sequences\n",
        "\n",
        "\n",
        "# Assuming your data is in a DataFrame named df\n",
        "# Extract features and labels\n",
        "X = data['URL']\n",
        "y = data['Label']\n",
        "\n",
        "# # TF-IDF Vectorization\n",
        "# vectorizer = TfidfVectorizer(min_df=0.0, analyzer=\"char\", sublinear_tf=True, ngram_range=(3, 3))\n",
        "# X_tfidf = vectorizer.fit_transform(X)\n",
        "\n",
        "# Tokenization and Sequence Padding (similar to TensorFlow)\n",
        "tokenizer = Tokenizer()\n",
        "tokenizer.fit_on_texts(data['URL'])\n",
        "sequences = tokenizer.texts_to_sequences(data['URL'])\n",
        "max_sequence_length = 666\n",
        "padded_sequences = pad_sequences(sequences, maxlen=max_sequence_length, padding='post', truncating='post')\n",
        "\n",
        "# Split the data into training and testing sets\n",
        "X_train, X_test, y_train, y_test = train_test_split(padded_sequences, y, test_size=0.1, random_state=21)"
      ],
      "metadata": {
        "id": "iI6kbzq4XFX3"
      },
      "execution_count": null,
      "outputs": []
    },
    {
      "cell_type": "code",
      "source": [
        "# Convert y_train to a NumPy array\n",
        "y_train_array = np.array(y_train)\n",
        "\n",
        "# # Convert sparse matrices to dense tensors\n",
        "# X_train_tensor = torch.Tensor(X_train.toarray())\n",
        "# X_test_tensor = torch.Tensor(X_test.toarray())\n",
        "# y_train_tensor = torch.Tensor(y_train_array)\n",
        "\n",
        "# Convert sparse matrices to dense tensors\n",
        "X_train_tensor = torch.Tensor(X_train)\n",
        "X_test_tensor = torch.Tensor(X_test)\n",
        "y_train_tensor = torch.Tensor(y_train_array)"
      ],
      "metadata": {
        "id": "HGVkzW0uYvQ6"
      },
      "execution_count": null,
      "outputs": []
    },
    {
      "cell_type": "markdown",
      "source": [
        "## Logistic Regression"
      ],
      "metadata": {
        "id": "kRXUAI_-XBam"
      }
    },
    {
      "cell_type": "code",
      "source": [
        "# # Define logistic regression model with an MLP\n",
        "# class LogisticRegressionModel(nn.Module):\n",
        "#     def __init__(self, input_size):\n",
        "#         super(LogisticRegressionModel, self).__init__()\n",
        "#         self.linear_relu_stack = nn.Sequential(\n",
        "#             nn.Linear(input_size, 100),\n",
        "#             nn.ReLU(),\n",
        "#             nn.Linear(100, 50),\n",
        "#             nn.ReLU(),\n",
        "#             nn.Linear(50, 1),\n",
        "#             nn.ReLU()\n",
        "#         )\n",
        "#         self.sigmoid = nn.Sigmoid()\n",
        "\n",
        "#     def forward(self, x):\n",
        "#         out = self.linear_relu_stack(x)\n",
        "#         out = self.sigmoid(out)\n",
        "#         return out"
      ],
      "metadata": {
        "id": "l11f0jzdbA3-"
      },
      "execution_count": null,
      "outputs": []
    },
    {
      "cell_type": "code",
      "source": [
        "# Build logistic regression model in PyTorch\n",
        "class LogisticRegressionModel(nn.Module):\n",
        "    def __init__(self, input_size):\n",
        "        super(LogisticRegressionModel, self).__init__()\n",
        "        self.linear = nn.Linear(input_size, 1)\n",
        "\n",
        "        self.sigmoid = nn.Sigmoid()\n",
        "\n",
        "    def forward(self, x):\n",
        "        out = self.linear(x)\n",
        "        out = self.sigmoid(out)\n",
        "        return out\n",
        "\n",
        "input_size_pt = X_train_tensor.shape[1]\n",
        "model_pt = LogisticRegressionModel(input_size_pt)\n",
        "\n",
        "criterion_pt = nn.BCELoss()\n",
        "optimizer_pt = optim.Adam(model_pt.parameters(), lr=0.001)\n",
        "\n",
        "train_dataset = TensorDataset(X_train_tensor, y_train_tensor)\n",
        "train_loader = DataLoader(train_dataset, batch_size=256)"
      ],
      "metadata": {
        "id": "kcWqcjPVYvNs"
      },
      "execution_count": null,
      "outputs": []
    },
    {
      "cell_type": "code",
      "source": [
        "import time\n",
        "\n",
        "start_time = time.time()\n",
        "# Train the model\n",
        "num_epochs_pt = 50\n",
        "for epoch in range(num_epochs_pt):\n",
        "    for inputs, labels in train_loader:\n",
        "        optimizer_pt.zero_grad()\n",
        "        outputs_pt = model_pt(inputs)\n",
        "        loss_pt = criterion_pt(outputs_pt, labels.view(-1, 1))\n",
        "        loss_pt.backward()\n",
        "        optimizer_pt.step()\n",
        "    print(f'Epoch {epoch + 1}/{num_epochs_pt}, Loss: {loss_pt.item()}')\n",
        "end_time = time.time()\n",
        "\n",
        "training_time_pytorch = end_time - start_time"
      ],
      "metadata": {
        "id": "SJktOOpiZOcS",
        "colab": {
          "base_uri": "https://localhost:8080/"
        },
        "outputId": "a2f4be1e-135b-4e72-8994-c1eaef711a8f"
      },
      "execution_count": null,
      "outputs": [
        {
          "output_type": "stream",
          "name": "stdout",
          "text": [
            "Epoch 1/50, Loss: 22.8384952545166\n",
            "Epoch 2/50, Loss: 22.767635345458984\n",
            "Epoch 3/50, Loss: 24.4136905670166\n",
            "Epoch 4/50, Loss: 18.716535568237305\n",
            "Epoch 5/50, Loss: 14.863003730773926\n",
            "Epoch 6/50, Loss: 12.270625114440918\n",
            "Epoch 7/50, Loss: 21.194494247436523\n",
            "Epoch 8/50, Loss: 20.725568771362305\n",
            "Epoch 9/50, Loss: 20.124834060668945\n",
            "Epoch 10/50, Loss: 19.702016830444336\n",
            "Epoch 11/50, Loss: 16.953041076660156\n",
            "Epoch 12/50, Loss: 16.389793395996094\n",
            "Epoch 13/50, Loss: 19.569683074951172\n",
            "Epoch 14/50, Loss: 17.95709800720215\n",
            "Epoch 15/50, Loss: 18.063434600830078\n",
            "Epoch 16/50, Loss: 16.537277221679688\n",
            "Epoch 17/50, Loss: 18.222261428833008\n",
            "Epoch 18/50, Loss: 21.422853469848633\n",
            "Epoch 19/50, Loss: 21.270177841186523\n",
            "Epoch 20/50, Loss: 19.740802764892578\n",
            "Epoch 21/50, Loss: 16.355239868164062\n",
            "Epoch 22/50, Loss: 16.585840225219727\n",
            "Epoch 23/50, Loss: 16.46124839782715\n",
            "Epoch 24/50, Loss: 16.39628791809082\n",
            "Epoch 25/50, Loss: 19.58124351501465\n",
            "Epoch 26/50, Loss: 16.464879989624023\n",
            "Epoch 27/50, Loss: 17.98601722717285\n",
            "Epoch 28/50, Loss: 18.94356346130371\n",
            "Epoch 29/50, Loss: 21.44863510131836\n",
            "Epoch 30/50, Loss: 20.756792068481445\n",
            "Epoch 31/50, Loss: 19.885019302368164\n",
            "Epoch 32/50, Loss: 19.7817440032959\n",
            "Epoch 33/50, Loss: 12.383280754089355\n",
            "Epoch 34/50, Loss: 13.39675521850586\n",
            "Epoch 35/50, Loss: 16.712284088134766\n",
            "Epoch 36/50, Loss: 21.214920043945312\n",
            "Epoch 37/50, Loss: 19.939979553222656\n",
            "Epoch 38/50, Loss: 19.88911247253418\n",
            "Epoch 39/50, Loss: 15.016060829162598\n",
            "Epoch 40/50, Loss: 22.181663513183594\n",
            "Epoch 41/50, Loss: 21.414770126342773\n",
            "Epoch 42/50, Loss: 21.533601760864258\n",
            "Epoch 43/50, Loss: 21.14031982421875\n",
            "Epoch 44/50, Loss: 19.53656578063965\n",
            "Epoch 45/50, Loss: 14.742444038391113\n",
            "Epoch 46/50, Loss: 21.310497283935547\n",
            "Epoch 47/50, Loss: 19.61740493774414\n",
            "Epoch 48/50, Loss: 21.47791290283203\n",
            "Epoch 49/50, Loss: 19.83327293395996\n",
            "Epoch 50/50, Loss: 20.40125846862793\n"
          ]
        }
      ]
    },
    {
      "cell_type": "code",
      "source": [
        "training_time_pytorch"
      ],
      "metadata": {
        "colab": {
          "base_uri": "https://localhost:8080/"
        },
        "id": "l-as9g6goxUv",
        "outputId": "33451b6f-e7ff-4da4-bd5d-ff7d56871255"
      },
      "execution_count": null,
      "outputs": [
        {
          "output_type": "execute_result",
          "data": {
            "text/plain": [
              "57.70058870315552"
            ]
          },
          "metadata": {},
          "execution_count": 54
        }
      ]
    },
    {
      "cell_type": "code",
      "source": [
        "# Predict on the test set\n",
        "import time\n",
        "\n",
        "start_time = time.time()\n",
        "\n",
        "with torch.no_grad():\n",
        "    outputs_pt = model_pt(X_test_tensor)\n",
        "    y_pred_pt = (outputs_pt >= 0.5).float()\n",
        "end_time = time.time()\n",
        "\n",
        "prediction_time_pytorch = end_time - start_time\n",
        "\n",
        "\n",
        "# Convert PyTorch tensor to NumPy array\n",
        "y_pred = y_pred_pt.numpy().astype(int)\n",
        "\n",
        "from sklearn.metrics import accuracy_score, precision_score, recall_score, f1_score, confusion_matrix, roc_auc_score\n",
        "# Evaluate the model\n",
        "with torch.no_grad():\n",
        "    outputs_test_pt = model_pt(X_test_tensor)\n",
        "    y_pred = (outputs_test_pt > 0.5).numpy().astype(int)\n",
        "\n",
        "# Calculate metrics\n",
        "accuracy_tf = accuracy_score(y_test, y_pred)\n",
        "precision_tf = precision_score(y_test, y_pred)\n",
        "recall_tf = recall_score(y_test, y_pred)\n",
        "f1_tf = f1_score(y_test, y_pred)\n",
        "conf_matrix_tf = confusion_matrix(y_test, y_pred)\n",
        "roc_auc_tf = roc_auc_score(y_test, y_pred)\n",
        "\n",
        "# Print the metrics\n",
        "print(\"Accuracy:\", accuracy_tf)\n",
        "print(\"Precision:\", precision_tf)\n",
        "print(\"Recall:\", recall_tf)\n",
        "print(\"F1 Score:\", f1_tf)\n",
        "print(\"AUC-ROC:\", roc_auc_tf)"
      ],
      "metadata": {
        "colab": {
          "base_uri": "https://localhost:8080/"
        },
        "id": "oKQbGkDkZRvw",
        "outputId": "895bce07-de14-43a1-d1a6-dd3bae933b65"
      },
      "execution_count": null,
      "outputs": [
        {
          "output_type": "stream",
          "name": "stdout",
          "text": [
            "Accuracy: 0.8561862573400638\n",
            "Precision: 0.6709096553865259\n",
            "Recall: 0.8654385262314778\n",
            "F1 Score: 0.7558586918502973\n",
            "AUC-ROC: 0.8592102478591508\n"
          ]
        }
      ]
    },
    {
      "cell_type": "code",
      "source": [
        "prediction_time_pytorch"
      ],
      "metadata": {
        "colab": {
          "base_uri": "https://localhost:8080/"
        },
        "id": "4MECO6w-pDYF",
        "outputId": "b3d97995-33b0-42f8-b449-7c8d9df27adf"
      },
      "execution_count": null,
      "outputs": [
        {
          "output_type": "execute_result",
          "data": {
            "text/plain": [
              "0.008027315139770508"
            ]
          },
          "metadata": {},
          "execution_count": 56
        }
      ]
    },
    {
      "cell_type": "code",
      "source": [
        "# Evaluate the PyTorch model\n",
        "matrix_pt = confusion_matrix(y_test, y_pred_pt)\n",
        "\n",
        "print(\"Confusion Matrix (PyTorch): \")\n",
        "print(matrix_pt)"
      ],
      "metadata": {
        "colab": {
          "base_uri": "https://localhost:8080/"
        },
        "id": "ZkX1ClyxFi3R",
        "outputId": "55dfac52-4a02-4319-b237-38c0ddfb5256"
      },
      "execution_count": null,
      "outputs": [
        {
          "output_type": "stream",
          "name": "stdout",
          "text": [
            "Confusion Matrix (PyTorch): \n",
            "[[6150 1060]\n",
            " [ 336 2161]]\n"
          ]
        }
      ]
    },
    {
      "cell_type": "code",
      "source": [
        "import os\n",
        "import torch\n",
        "\n",
        "# Assuming model_pt is your trained PyTorch model\n",
        "torch.save(model_pt, 'pytorch_model.pth')\n",
        "\n",
        "pytorch_model_size = os.path.getsize('pytorch_model.pth') / 1024"
      ],
      "metadata": {
        "id": "T3wNNV4RpLix"
      },
      "execution_count": null,
      "outputs": []
    },
    {
      "cell_type": "code",
      "source": [
        "pytorch_model_size"
      ],
      "metadata": {
        "colab": {
          "base_uri": "https://localhost:8080/"
        },
        "id": "xBEiC6KkpOmg",
        "outputId": "96356773-a26c-4d7c-a227-a766d4d85100"
      },
      "execution_count": null,
      "outputs": [
        {
          "output_type": "execute_result",
          "data": {
            "text/plain": [
              "5.05859375"
            ]
          },
          "metadata": {},
          "execution_count": 59
        }
      ]
    },
    {
      "cell_type": "markdown",
      "source": [
        "## Linear SVM"
      ],
      "metadata": {
        "id": "47yuT5PblZ6B"
      }
    },
    {
      "cell_type": "code",
      "source": [
        "# Define the linear SVM model for binary classification\n",
        "class LinearSVMModelBinary(nn.Module):\n",
        "    def __init__(self, input_size):\n",
        "        super(LinearSVMModelBinary, self).__init__()\n",
        "        self.linear = nn.Linear(input_size, 1)  # Output size is 1 for binary classification\n",
        "\n",
        "    def forward(self, x):\n",
        "        return self.linear(x)\n",
        "\n",
        "# Use Hinge loss for SVM\n",
        "model_svm_pytorch_binary = LinearSVMModelBinary(X_train_tensor.shape[1])\n",
        "criterion_svm_binary = nn.HingeEmbeddingLoss()  # Hinge loss for binary SVM\n",
        "optimizer_svm_binary = optim.SGD(model_svm_pytorch_binary.parameters(), lr=0.01)\n",
        "\n",
        "# Convert y_train_tensor to the appropriate format for binary classification\n",
        "y_train_tensor_binary = 2 * y_train_tensor - 1  # Convert labels to -1 and 1\n",
        "\n",
        "# Create a DataLoader for efficient batch processing\n",
        "train_dataset_binary = TensorDataset(X_train_tensor, y_train_tensor_binary)\n",
        "train_loader_binary = DataLoader(train_dataset_binary, batch_size=256, shuffle=True)\n"
      ],
      "metadata": {
        "id": "pSBM1CsFnnVb"
      },
      "execution_count": null,
      "outputs": []
    },
    {
      "cell_type": "code",
      "source": [
        "# Train the model\n",
        "num_epochs = 50\n",
        "for epoch in range(num_epochs):\n",
        "    for inputs, labels in train_loader_binary:\n",
        "        optimizer_svm_binary.zero_grad()\n",
        "        outputs_binary = model_svm_pytorch_binary(inputs)\n",
        "        loss_binary = criterion_svm_binary(outputs_binary, labels)\n",
        "        loss_binary.backward()\n",
        "        optimizer_svm_binary.step()\n",
        "    print(f'Epoch {epoch + 1}/{num_epochs}, Loss: {loss_binary.item()}')"
      ],
      "metadata": {
        "colab": {
          "base_uri": "https://localhost:8080/"
        },
        "id": "-bBNqPG6sy-S",
        "outputId": "dd1f704f-5367-4da1-a4be-69c8c0979a5e"
      },
      "execution_count": null,
      "outputs": [
        {
          "output_type": "stream",
          "name": "stdout",
          "text": [
            "Epoch 1/50, Loss: 13448.5810546875\n",
            "Epoch 2/50, Loss: 11860.1201171875\n",
            "Epoch 3/50, Loss: 113555.1796875\n",
            "Epoch 4/50, Loss: 29014.673828125\n",
            "Epoch 5/50, Loss: 10052.255859375\n",
            "Epoch 6/50, Loss: 17835.671875\n",
            "Epoch 7/50, Loss: 46286.26171875\n",
            "Epoch 8/50, Loss: 11794.0087890625\n",
            "Epoch 9/50, Loss: 51860.7421875\n",
            "Epoch 10/50, Loss: 41336.12890625\n",
            "Epoch 11/50, Loss: 9379.369140625\n",
            "Epoch 12/50, Loss: 123638.296875\n",
            "Epoch 13/50, Loss: 109784.1953125\n",
            "Epoch 14/50, Loss: 32989.78125\n",
            "Epoch 15/50, Loss: 19832.0234375\n",
            "Epoch 16/50, Loss: 28602.14453125\n",
            "Epoch 17/50, Loss: 75550.453125\n",
            "Epoch 18/50, Loss: 139734.0625\n",
            "Epoch 19/50, Loss: 35905.4453125\n",
            "Epoch 20/50, Loss: 83025.8125\n",
            "Epoch 21/50, Loss: 55967.8984375\n",
            "Epoch 22/50, Loss: 10665.81640625\n",
            "Epoch 23/50, Loss: 78869.328125\n",
            "Epoch 24/50, Loss: 12034.494140625\n",
            "Epoch 25/50, Loss: 14522.9560546875\n",
            "Epoch 26/50, Loss: 13018.76171875\n",
            "Epoch 27/50, Loss: 29753.44140625\n",
            "Epoch 28/50, Loss: 5447.0205078125\n",
            "Epoch 29/50, Loss: 131350.421875\n",
            "Epoch 30/50, Loss: 91651.734375\n",
            "Epoch 31/50, Loss: 30946.6953125\n",
            "Epoch 32/50, Loss: 16751.779296875\n",
            "Epoch 33/50, Loss: 41552.8515625\n",
            "Epoch 34/50, Loss: 23194.443359375\n",
            "Epoch 35/50, Loss: 83001.1953125\n",
            "Epoch 36/50, Loss: 64443.37109375\n",
            "Epoch 37/50, Loss: 37872.00390625\n",
            "Epoch 38/50, Loss: 20576.576171875\n",
            "Epoch 39/50, Loss: 11210.5380859375\n",
            "Epoch 40/50, Loss: 7494.37890625\n",
            "Epoch 41/50, Loss: 98700.375\n",
            "Epoch 42/50, Loss: 14445.740234375\n",
            "Epoch 43/50, Loss: 88597.0234375\n",
            "Epoch 44/50, Loss: 10340.7314453125\n",
            "Epoch 45/50, Loss: 15469.802734375\n",
            "Epoch 46/50, Loss: 50141.70703125\n",
            "Epoch 47/50, Loss: 9894.9794921875\n",
            "Epoch 48/50, Loss: 21226.380859375\n",
            "Epoch 49/50, Loss: 5022.2939453125\n",
            "Epoch 50/50, Loss: 26529.267578125\n"
          ]
        }
      ]
    },
    {
      "cell_type": "code",
      "source": [
        "# Make predictions on the test set\n",
        "with torch.no_grad():\n",
        "    outputs_test_binary = model_svm_pytorch_binary(X_test_tensor)\n",
        "    predictions_binary = (outputs_test_binary > 0).float()\n",
        "\n",
        "# Convert predictions to NumPy array\n",
        "predictions_array_binary = predictions_binary.numpy()\n",
        "\n",
        "# Calculate accuracy\n",
        "accuracy_binary = accuracy_score(y_test, predictions_array_binary)\n",
        "print(f\"Accuracy for Binary Linear SVM: {accuracy_binary}\")"
      ],
      "metadata": {
        "colab": {
          "base_uri": "https://localhost:8080/"
        },
        "id": "EzhXFuJVnnLe",
        "outputId": "24ca1a82-504b-40d2-e96c-4a062cfe5304"
      },
      "execution_count": null,
      "outputs": [
        {
          "output_type": "stream",
          "name": "stdout",
          "text": [
            "Accuracy for Binary Linear SVM: 0.29298444421551456\n"
          ]
        }
      ]
    },
    {
      "cell_type": "code",
      "source": [
        "# Predict on the test set\n",
        "import time\n",
        "\n",
        "start_time = time.time()\n",
        "\n",
        "with torch.no_grad():\n",
        "    outputs_pt = model_svm_pytorch_binary(X_test_tensor)\n",
        "    y_pred_pt = (outputs_pt >= 0.5).float()\n",
        "end_time = time.time()\n",
        "\n",
        "prediction_time_pytorch = end_time - start_time\n",
        "\n",
        "\n",
        "# Convert PyTorch tensor to NumPy array\n",
        "y_pred = y_pred_pt.numpy().astype(int)\n",
        "\n",
        "from sklearn.metrics import accuracy_score, precision_score, recall_score, f1_score, confusion_matrix, roc_auc_score\n",
        "# Evaluate the model\n",
        "with torch.no_grad():\n",
        "    outputs_test_pt = model_svm_pytorch_binary(X_test_tensor)\n",
        "    y_pred = (outputs_test_pt > 0.5).numpy().astype(int)\n",
        "\n",
        "# Calculate metrics\n",
        "accuracy_tf = accuracy_score(y_test, y_pred)\n",
        "precision_tf = precision_score(y_test, y_pred)\n",
        "recall_tf = recall_score(y_test, y_pred)\n",
        "f1_tf = f1_score(y_test, y_pred)\n",
        "conf_matrix_tf = confusion_matrix(y_test, y_pred)\n",
        "roc_auc_tf = roc_auc_score(y_test, y_pred)\n",
        "\n",
        "# Print the metrics\n",
        "print(\"Accuracy:\", accuracy_tf)\n",
        "print(\"Precision:\", precision_tf)\n",
        "print(\"Recall:\", recall_tf)\n",
        "print(\"F1 Score:\", f1_tf)\n",
        "print(\"AUC-ROC:\", roc_auc_tf)"
      ],
      "metadata": {
        "colab": {
          "base_uri": "https://localhost:8080/"
        },
        "id": "O7Ja8wnDPSlo",
        "outputId": "a0612cd8-e519-4d70-82ae-0ebdde55b7b6"
      },
      "execution_count": null,
      "outputs": [
        {
          "output_type": "stream",
          "name": "stdout",
          "text": [
            "Accuracy: 0.29298444421551456\n",
            "Precision: 0.2535561074734703\n",
            "Recall: 0.8994793752503003\n",
            "F1 Score: 0.39559665345662703\n",
            "AUC-ROC: 0.4912098679302819\n"
          ]
        }
      ]
    },
    {
      "cell_type": "code",
      "source": [
        "# Evaluate the PyTorch model\n",
        "matrix_pt = confusion_matrix(y_test, y_pred_pt)\n",
        "\n",
        "print(\"Confusion Matrix (PyTorch): \")\n",
        "print(matrix_pt)"
      ],
      "metadata": {
        "colab": {
          "base_uri": "https://localhost:8080/"
        },
        "id": "8Aws2tXnQaRo",
        "outputId": "2c375017-d21e-4704-956d-fa87e333ff74"
      },
      "execution_count": null,
      "outputs": [
        {
          "output_type": "stream",
          "name": "stdout",
          "text": [
            "Confusion Matrix (PyTorch): \n",
            "[[ 598 6612]\n",
            " [ 251 2246]]\n"
          ]
        }
      ]
    },
    {
      "cell_type": "code",
      "source": [
        "prediction_time_pytorch"
      ],
      "metadata": {
        "colab": {
          "base_uri": "https://localhost:8080/"
        },
        "id": "v1yDNBXqQb8r",
        "outputId": "a86874db-42d9-4aeb-917a-3ad1c780f9c4"
      },
      "execution_count": null,
      "outputs": [
        {
          "output_type": "execute_result",
          "data": {
            "text/plain": [
              "0.0038301944732666016"
            ]
          },
          "metadata": {},
          "execution_count": 65
        }
      ]
    },
    {
      "cell_type": "code",
      "source": [
        "import os\n",
        "import torch\n",
        "\n",
        "# Assuming model_pt is your trained PyTorch model\n",
        "torch.save('LinearSVMModelBinary(nn.Module)', 'pytorch_model.pth')\n",
        "\n",
        "pytorch_model_size = os.path.getsize('pytorch_model.pth') / 1024"
      ],
      "metadata": {
        "id": "6YuAgRkHQtXa"
      },
      "execution_count": null,
      "outputs": []
    },
    {
      "cell_type": "code",
      "source": [
        "pytorch_model_size"
      ],
      "metadata": {
        "colab": {
          "base_uri": "https://localhost:8080/"
        },
        "id": "ImLd_yRoQvFU",
        "outputId": "1c2e10c9-d564-497e-ba5a-bd8a6f61af1f"
      },
      "execution_count": null,
      "outputs": [
        {
          "output_type": "execute_result",
          "data": {
            "text/plain": [
              "0.8671875"
            ]
          },
          "metadata": {},
          "execution_count": 67
        }
      ]
    }
  ],
  "metadata": {
    "kernelspec": {
      "display_name": "Python 3",
      "name": "python3"
    },
    "language_info": {
      "codemirror_mode": {
        "name": "ipython",
        "version": 3
      },
      "file_extension": ".py",
      "mimetype": "text/x-python",
      "name": "python",
      "nbconvert_exporter": "python",
      "pygments_lexer": "ipython3",
      "version": "3.6.4"
    },
    "colab": {
      "provenance": [],
      "collapsed_sections": [
        "4t1TJIGoRh0X",
        "emjK5uBLKAXE",
        "NEREaLM3QF9K",
        "cC4yHWDXQM1e",
        "kS1AvyMPJ5qi",
        "U89cGHoHJ0uN",
        "6LY-OJonmp0-",
        "oIBdEFYKkiYc",
        "UAkk8efLdvz3",
        "oqTaTX81-RLN",
        "joNh9hrz_wzM",
        "L5By0QVfW6h9",
        "kRXUAI_-XBam",
        "47yuT5PblZ6B"
      ],
      "toc_visible": true
    }
  },
  "nbformat": 4,
  "nbformat_minor": 0
}