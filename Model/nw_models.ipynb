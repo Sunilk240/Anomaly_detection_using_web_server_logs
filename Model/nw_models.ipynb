{
  "cells": [
    {
      "cell_type": "markdown",
      "metadata": {
        "id": "CX9C0-48PD-K"
      },
      "source": [
        "## parsing"
      ]
    },
    {
      "cell_type": "code",
      "execution_count": null,
      "metadata": {
        "id": "IWA98WGEKOEb"
      },
      "outputs": [],
      "source": [
        "from sklearn.feature_extraction.text import TfidfVectorizer\n",
        "from sklearn.model_selection import train_test_split\n",
        "from sklearn.linear_model import LogisticRegression\n",
        "import urllib.parse\n",
        "from sklearn import tree\n",
        "from sklearn import metrics\n",
        "import io\n",
        "from sklearn.svm import LinearSVC\n",
        "from sklearn.metrics import confusion_matrix\n",
        "\n",
        "import pandas as pd\n"
      ]
    },
    {
      "cell_type": "code",
      "execution_count": null,
      "metadata": {
        "id": "Zjjpipr_NdfS"
      },
      "outputs": [],
      "source": [
        "normal_file_raw = 'normalTrafficTraining.txt'\n",
        "anomaly_file_raw = 'anomalousTrafficTest.txt'\n",
        "\n",
        "normal_file_parse = 'normalRequestTraining.txt'\n",
        "anomaly_file_parse = 'anomalousRequestTest.txt'"
      ]
    },
    {
      "cell_type": "code",
      "execution_count": null,
      "metadata": {
        "id": "nQ-STgpDNjy0"
      },
      "outputs": [],
      "source": [
        "def parse_file(file_in, file_out):\n",
        "    fin = open(file_in)\n",
        "    fout = io.open(file_out, \"w\", encoding=\"utf-8\")\n",
        "    lines = fin.readlines()\n",
        "    res = []\n",
        "    for i in range(len(lines)):\n",
        "        line = lines[i].strip()\n",
        "        if line.startswith(\"GET\"):\n",
        "            res.append(\"GET\" + line.split(\" \")[1])\n",
        "        elif line.startswith(\"POST\") or line.startswith(\"PUT\"):\n",
        "            url = line.split(' ')[0] + line.split(' ')[1]\n",
        "            j = 1\n",
        "            while True:\n",
        "                if lines[i + j].startswith(\"Content-Length\"):\n",
        "                    break\n",
        "                j += 1\n",
        "            j += 1\n",
        "            data = lines[i + j + 1].strip()\n",
        "            url += '?' + data\n",
        "            res.append(url)\n",
        "    for line in res:\n",
        "        line = urllib.parse.unquote(line).replace('\\n','').lower()\n",
        "        fout.writelines(line + '\\n')\n",
        "    print (\"finished parse \",len(res),\" requests\")\n",
        "    fout.close()\n",
        "    fin.close()\n",
        "\n",
        "def loadData(file):\n",
        "    with open(file, 'r', encoding=\"utf8\") as f:\n",
        "        data = f.readlines()\n",
        "    result = []\n",
        "    for d in data:\n",
        "        d = d.strip()\n",
        "        if (len(d) > 0):\n",
        "            result.append(d)\n",
        "    return result"
      ]
    },
    {
      "cell_type": "code",
      "execution_count": null,
      "metadata": {
        "id": "OGuHk0uRNjwc"
      },
      "outputs": [],
      "source": [
        "parse_file(normal_file_raw,normal_file_parse)\n",
        "parse_file(anomaly_file_raw,anomaly_file_parse)"
      ]
    },
    {
      "cell_type": "markdown",
      "metadata": {
        "id": "R74dSE5JPB3x"
      },
      "source": [
        "## Load data"
      ]
    },
    {
      "cell_type": "code",
      "execution_count": null,
      "metadata": {
        "id": "RAKnJMGbNjt1"
      },
      "outputs": [],
      "source": [
        "bad_requests = loadData('anomalousRequestTest.txt')\n",
        "good_requests = loadData('normalRequestTraining.txt')\n",
        "\n",
        "all_requests = bad_requests + good_requests\n",
        "yBad = [1] * len(bad_requests)\n",
        "yGood = [0] * len(good_requests)\n",
        "y = yBad + yGood"
      ]
    },
    {
      "cell_type": "code",
      "execution_count": null,
      "metadata": {
        "colab": {
          "base_uri": "https://localhost:8080/"
        },
        "id": "LaZV8RUsXaI-",
        "outputId": "56b2c309-9fb7-4280-a91f-122c0f336d52"
      },
      "outputs": [
        {
          "output_type": "execute_result",
          "data": {
            "text/plain": [
              "list"
            ]
          },
          "metadata": {},
          "execution_count": 50
        }
      ],
      "source": [
        "type(y)"
      ]
    },
    {
      "cell_type": "code",
      "execution_count": null,
      "metadata": {
        "colab": {
          "base_uri": "https://localhost:8080/"
        },
        "id": "fBYTSlqOGeGS",
        "outputId": "a5e38197-09d2-4f07-83fc-7ac61dc3fb10"
      },
      "outputs": [
        {
          "output_type": "execute_result",
          "data": {
            "text/plain": [
              "97065"
            ]
          },
          "metadata": {},
          "execution_count": 51
        }
      ],
      "source": [
        "len(y)"
      ]
    },
    {
      "cell_type": "code",
      "execution_count": null,
      "metadata": {
        "id": "_JziUM3SNjrk"
      },
      "outputs": [],
      "source": [
        "malicious_urls = bad_requests\n",
        "normal_urls = good_requests\n",
        "data = pd.DataFrame({'URL': malicious_urls + normal_urls, 'Label': [1] * len(malicious_urls) + [0] * len(normal_urls)})"
      ]
    },
    {
      "cell_type": "code",
      "execution_count": null,
      "metadata": {
        "id": "jhOtXO6Ncpfa"
      },
      "outputs": [],
      "source": [
        "import re\n",
        "data['URL Length'] = data['URL'].apply(len)\n",
        "data['Question Mark Count'] = data['URL'].apply(lambda x: x.count('?'))\n",
        "data['Special Char Count'] = data['URL'].apply(lambda x: sum(c.isalnum() for c in x))\n",
        "data['Digit Count'] = data['URL'].apply(lambda x: sum(c.isdigit() for c in x))\n",
        "data['Slash Count'] = data['URL'].apply(lambda x: x.count('/'))\n",
        "data['Contains IP'] = data['URL'].apply(lambda x: bool(re.search(r'\\d{1,3}\\.\\d{1,3}\\.\\d{1,3}\\.\\d{1,3}', x)))\n",
        "data['Subdomain Count'] = data['URL'].apply(lambda x: len(x.split('.')) - 2)\n",
        "data['Uses HTTPS'] = data['URL'].apply(lambda x: x.startswith('https://'))\n",
        "data['Has TLD'] = data['URL'].apply(lambda x: x.endswith(('.com', '.org', '.net')))"
      ]
    },
    {
      "cell_type": "code",
      "execution_count": null,
      "metadata": {
        "id": "Yuf4SMdMc7C3"
      },
      "outputs": [],
      "source": [
        "data = data[['URL', 'URL Length', 'Question Mark Count',\n",
        "       'Special Char Count', 'Digit Count', 'Slash Count', 'Contains IP',\n",
        "       'Subdomain Count', 'Uses HTTPS', 'Has TLD', 'Label']]"
      ]
    },
    {
      "cell_type": "code",
      "execution_count": null,
      "metadata": {
        "colab": {
          "base_uri": "https://localhost:8080/"
        },
        "id": "Sf6oizUxNjpI",
        "outputId": "ac01b063-3c44-4bb3-ac16-a3cccd7cb60e"
      },
      "outputs": [
        {
          "output_type": "execute_result",
          "data": {
            "text/plain": [
              "                                                     URL  URL Length  \\\n",
              "0      gethttp://localhost:8080/tienda1/publico/anadi...         182   \n",
              "1      posthttp://localhost:8080/tienda1/publico/anad...         183   \n",
              "2      gethttp://localhost:8080/tienda1/publico/anadi...         121   \n",
              "3      posthttp://localhost:8080/tienda1/publico/anad...         122   \n",
              "4            gethttp://localhost:8080/asf-logo-wide.gif~          43   \n",
              "...                                                  ...         ...   \n",
              "97060    gethttp://localhost:8080/tienda1/imagenes/2.gif          47   \n",
              "97061    gethttp://localhost:8080/tienda1/imagenes/3.gif          47   \n",
              "97062  gethttp://localhost:8080/tienda1/imagenes/cmen...          53   \n",
              "97063  gethttp://localhost:8080/tienda1/imagenes/logo...          50   \n",
              "97064  gethttp://localhost:8080/tienda1/imagenes/nues...          59   \n",
              "\n",
              "       Question Mark Count  Special Char Count  Digit Count  Slash Count  \\\n",
              "0                        1                 141            9            5   \n",
              "1                        1                 142            9            5   \n",
              "2                        1                  96           11            6   \n",
              "3                        1                  97           11            6   \n",
              "4                        0                  34            4            3   \n",
              "...                    ...                 ...          ...          ...   \n",
              "97060                    0                  39            6            5   \n",
              "97061                    0                  39            6            5   \n",
              "97062                    0                  45            5            5   \n",
              "97063                    0                  42            5            5   \n",
              "97064                    0                  51            5            5   \n",
              "\n",
              "       Contains IP  Subdomain Count  Uses HTTPS  Has TLD  Label  \n",
              "0            False                0       False    False      1  \n",
              "1            False                0       False    False      1  \n",
              "2            False                0       False    False      1  \n",
              "3            False                0       False    False      1  \n",
              "4            False                0       False    False      1  \n",
              "...            ...              ...         ...      ...    ...  \n",
              "97060        False                0       False    False      0  \n",
              "97061        False                0       False    False      0  \n",
              "97062        False                0       False    False      0  \n",
              "97063        False                0       False    False      0  \n",
              "97064        False                0       False    False      0  \n",
              "\n",
              "[97065 rows x 11 columns]"
            ],
            "text/html": [
              "\n",
              "  <div id=\"df-e0e12c8f-1190-4146-8f04-b3d703f810be\" class=\"colab-df-container\">\n",
              "    <div>\n",
              "<style scoped>\n",
              "    .dataframe tbody tr th:only-of-type {\n",
              "        vertical-align: middle;\n",
              "    }\n",
              "\n",
              "    .dataframe tbody tr th {\n",
              "        vertical-align: top;\n",
              "    }\n",
              "\n",
              "    .dataframe thead th {\n",
              "        text-align: right;\n",
              "    }\n",
              "</style>\n",
              "<table border=\"1\" class=\"dataframe\">\n",
              "  <thead>\n",
              "    <tr style=\"text-align: right;\">\n",
              "      <th></th>\n",
              "      <th>URL</th>\n",
              "      <th>URL Length</th>\n",
              "      <th>Question Mark Count</th>\n",
              "      <th>Special Char Count</th>\n",
              "      <th>Digit Count</th>\n",
              "      <th>Slash Count</th>\n",
              "      <th>Contains IP</th>\n",
              "      <th>Subdomain Count</th>\n",
              "      <th>Uses HTTPS</th>\n",
              "      <th>Has TLD</th>\n",
              "      <th>Label</th>\n",
              "    </tr>\n",
              "  </thead>\n",
              "  <tbody>\n",
              "    <tr>\n",
              "      <th>0</th>\n",
              "      <td>gethttp://localhost:8080/tienda1/publico/anadi...</td>\n",
              "      <td>182</td>\n",
              "      <td>1</td>\n",
              "      <td>141</td>\n",
              "      <td>9</td>\n",
              "      <td>5</td>\n",
              "      <td>False</td>\n",
              "      <td>0</td>\n",
              "      <td>False</td>\n",
              "      <td>False</td>\n",
              "      <td>1</td>\n",
              "    </tr>\n",
              "    <tr>\n",
              "      <th>1</th>\n",
              "      <td>posthttp://localhost:8080/tienda1/publico/anad...</td>\n",
              "      <td>183</td>\n",
              "      <td>1</td>\n",
              "      <td>142</td>\n",
              "      <td>9</td>\n",
              "      <td>5</td>\n",
              "      <td>False</td>\n",
              "      <td>0</td>\n",
              "      <td>False</td>\n",
              "      <td>False</td>\n",
              "      <td>1</td>\n",
              "    </tr>\n",
              "    <tr>\n",
              "      <th>2</th>\n",
              "      <td>gethttp://localhost:8080/tienda1/publico/anadi...</td>\n",
              "      <td>121</td>\n",
              "      <td>1</td>\n",
              "      <td>96</td>\n",
              "      <td>11</td>\n",
              "      <td>6</td>\n",
              "      <td>False</td>\n",
              "      <td>0</td>\n",
              "      <td>False</td>\n",
              "      <td>False</td>\n",
              "      <td>1</td>\n",
              "    </tr>\n",
              "    <tr>\n",
              "      <th>3</th>\n",
              "      <td>posthttp://localhost:8080/tienda1/publico/anad...</td>\n",
              "      <td>122</td>\n",
              "      <td>1</td>\n",
              "      <td>97</td>\n",
              "      <td>11</td>\n",
              "      <td>6</td>\n",
              "      <td>False</td>\n",
              "      <td>0</td>\n",
              "      <td>False</td>\n",
              "      <td>False</td>\n",
              "      <td>1</td>\n",
              "    </tr>\n",
              "    <tr>\n",
              "      <th>4</th>\n",
              "      <td>gethttp://localhost:8080/asf-logo-wide.gif~</td>\n",
              "      <td>43</td>\n",
              "      <td>0</td>\n",
              "      <td>34</td>\n",
              "      <td>4</td>\n",
              "      <td>3</td>\n",
              "      <td>False</td>\n",
              "      <td>0</td>\n",
              "      <td>False</td>\n",
              "      <td>False</td>\n",
              "      <td>1</td>\n",
              "    </tr>\n",
              "    <tr>\n",
              "      <th>...</th>\n",
              "      <td>...</td>\n",
              "      <td>...</td>\n",
              "      <td>...</td>\n",
              "      <td>...</td>\n",
              "      <td>...</td>\n",
              "      <td>...</td>\n",
              "      <td>...</td>\n",
              "      <td>...</td>\n",
              "      <td>...</td>\n",
              "      <td>...</td>\n",
              "      <td>...</td>\n",
              "    </tr>\n",
              "    <tr>\n",
              "      <th>97060</th>\n",
              "      <td>gethttp://localhost:8080/tienda1/imagenes/2.gif</td>\n",
              "      <td>47</td>\n",
              "      <td>0</td>\n",
              "      <td>39</td>\n",
              "      <td>6</td>\n",
              "      <td>5</td>\n",
              "      <td>False</td>\n",
              "      <td>0</td>\n",
              "      <td>False</td>\n",
              "      <td>False</td>\n",
              "      <td>0</td>\n",
              "    </tr>\n",
              "    <tr>\n",
              "      <th>97061</th>\n",
              "      <td>gethttp://localhost:8080/tienda1/imagenes/3.gif</td>\n",
              "      <td>47</td>\n",
              "      <td>0</td>\n",
              "      <td>39</td>\n",
              "      <td>6</td>\n",
              "      <td>5</td>\n",
              "      <td>False</td>\n",
              "      <td>0</td>\n",
              "      <td>False</td>\n",
              "      <td>False</td>\n",
              "      <td>0</td>\n",
              "    </tr>\n",
              "    <tr>\n",
              "      <th>97062</th>\n",
              "      <td>gethttp://localhost:8080/tienda1/imagenes/cmen...</td>\n",
              "      <td>53</td>\n",
              "      <td>0</td>\n",
              "      <td>45</td>\n",
              "      <td>5</td>\n",
              "      <td>5</td>\n",
              "      <td>False</td>\n",
              "      <td>0</td>\n",
              "      <td>False</td>\n",
              "      <td>False</td>\n",
              "      <td>0</td>\n",
              "    </tr>\n",
              "    <tr>\n",
              "      <th>97063</th>\n",
              "      <td>gethttp://localhost:8080/tienda1/imagenes/logo...</td>\n",
              "      <td>50</td>\n",
              "      <td>0</td>\n",
              "      <td>42</td>\n",
              "      <td>5</td>\n",
              "      <td>5</td>\n",
              "      <td>False</td>\n",
              "      <td>0</td>\n",
              "      <td>False</td>\n",
              "      <td>False</td>\n",
              "      <td>0</td>\n",
              "    </tr>\n",
              "    <tr>\n",
              "      <th>97064</th>\n",
              "      <td>gethttp://localhost:8080/tienda1/imagenes/nues...</td>\n",
              "      <td>59</td>\n",
              "      <td>0</td>\n",
              "      <td>51</td>\n",
              "      <td>5</td>\n",
              "      <td>5</td>\n",
              "      <td>False</td>\n",
              "      <td>0</td>\n",
              "      <td>False</td>\n",
              "      <td>False</td>\n",
              "      <td>0</td>\n",
              "    </tr>\n",
              "  </tbody>\n",
              "</table>\n",
              "<p>97065 rows × 11 columns</p>\n",
              "</div>\n",
              "    <div class=\"colab-df-buttons\">\n",
              "\n",
              "  <div class=\"colab-df-container\">\n",
              "    <button class=\"colab-df-convert\" onclick=\"convertToInteractive('df-e0e12c8f-1190-4146-8f04-b3d703f810be')\"\n",
              "            title=\"Convert this dataframe to an interactive table.\"\n",
              "            style=\"display:none;\">\n",
              "\n",
              "  <svg xmlns=\"http://www.w3.org/2000/svg\" height=\"24px\" viewBox=\"0 -960 960 960\">\n",
              "    <path d=\"M120-120v-720h720v720H120Zm60-500h600v-160H180v160Zm220 220h160v-160H400v160Zm0 220h160v-160H400v160ZM180-400h160v-160H180v160Zm440 0h160v-160H620v160ZM180-180h160v-160H180v160Zm440 0h160v-160H620v160Z\"/>\n",
              "  </svg>\n",
              "    </button>\n",
              "\n",
              "  <style>\n",
              "    .colab-df-container {\n",
              "      display:flex;\n",
              "      gap: 12px;\n",
              "    }\n",
              "\n",
              "    .colab-df-convert {\n",
              "      background-color: #E8F0FE;\n",
              "      border: none;\n",
              "      border-radius: 50%;\n",
              "      cursor: pointer;\n",
              "      display: none;\n",
              "      fill: #1967D2;\n",
              "      height: 32px;\n",
              "      padding: 0 0 0 0;\n",
              "      width: 32px;\n",
              "    }\n",
              "\n",
              "    .colab-df-convert:hover {\n",
              "      background-color: #E2EBFA;\n",
              "      box-shadow: 0px 1px 2px rgba(60, 64, 67, 0.3), 0px 1px 3px 1px rgba(60, 64, 67, 0.15);\n",
              "      fill: #174EA6;\n",
              "    }\n",
              "\n",
              "    .colab-df-buttons div {\n",
              "      margin-bottom: 4px;\n",
              "    }\n",
              "\n",
              "    [theme=dark] .colab-df-convert {\n",
              "      background-color: #3B4455;\n",
              "      fill: #D2E3FC;\n",
              "    }\n",
              "\n",
              "    [theme=dark] .colab-df-convert:hover {\n",
              "      background-color: #434B5C;\n",
              "      box-shadow: 0px 1px 3px 1px rgba(0, 0, 0, 0.15);\n",
              "      filter: drop-shadow(0px 1px 2px rgba(0, 0, 0, 0.3));\n",
              "      fill: #FFFFFF;\n",
              "    }\n",
              "  </style>\n",
              "\n",
              "    <script>\n",
              "      const buttonEl =\n",
              "        document.querySelector('#df-e0e12c8f-1190-4146-8f04-b3d703f810be button.colab-df-convert');\n",
              "      buttonEl.style.display =\n",
              "        google.colab.kernel.accessAllowed ? 'block' : 'none';\n",
              "\n",
              "      async function convertToInteractive(key) {\n",
              "        const element = document.querySelector('#df-e0e12c8f-1190-4146-8f04-b3d703f810be');\n",
              "        const dataTable =\n",
              "          await google.colab.kernel.invokeFunction('convertToInteractive',\n",
              "                                                    [key], {});\n",
              "        if (!dataTable) return;\n",
              "\n",
              "        const docLinkHtml = 'Like what you see? Visit the ' +\n",
              "          '<a target=\"_blank\" href=https://colab.research.google.com/notebooks/data_table.ipynb>data table notebook</a>'\n",
              "          + ' to learn more about interactive tables.';\n",
              "        element.innerHTML = '';\n",
              "        dataTable['output_type'] = 'display_data';\n",
              "        await google.colab.output.renderOutput(dataTable, element);\n",
              "        const docLink = document.createElement('div');\n",
              "        docLink.innerHTML = docLinkHtml;\n",
              "        element.appendChild(docLink);\n",
              "      }\n",
              "    </script>\n",
              "  </div>\n",
              "\n",
              "\n",
              "<div id=\"df-bba3bfd2-b285-4bbd-b602-d5cd06163821\">\n",
              "  <button class=\"colab-df-quickchart\" onclick=\"quickchart('df-bba3bfd2-b285-4bbd-b602-d5cd06163821')\"\n",
              "            title=\"Suggest charts\"\n",
              "            style=\"display:none;\">\n",
              "\n",
              "<svg xmlns=\"http://www.w3.org/2000/svg\" height=\"24px\"viewBox=\"0 0 24 24\"\n",
              "     width=\"24px\">\n",
              "    <g>\n",
              "        <path d=\"M19 3H5c-1.1 0-2 .9-2 2v14c0 1.1.9 2 2 2h14c1.1 0 2-.9 2-2V5c0-1.1-.9-2-2-2zM9 17H7v-7h2v7zm4 0h-2V7h2v10zm4 0h-2v-4h2v4z\"/>\n",
              "    </g>\n",
              "</svg>\n",
              "  </button>\n",
              "\n",
              "<style>\n",
              "  .colab-df-quickchart {\n",
              "      --bg-color: #E8F0FE;\n",
              "      --fill-color: #1967D2;\n",
              "      --hover-bg-color: #E2EBFA;\n",
              "      --hover-fill-color: #174EA6;\n",
              "      --disabled-fill-color: #AAA;\n",
              "      --disabled-bg-color: #DDD;\n",
              "  }\n",
              "\n",
              "  [theme=dark] .colab-df-quickchart {\n",
              "      --bg-color: #3B4455;\n",
              "      --fill-color: #D2E3FC;\n",
              "      --hover-bg-color: #434B5C;\n",
              "      --hover-fill-color: #FFFFFF;\n",
              "      --disabled-bg-color: #3B4455;\n",
              "      --disabled-fill-color: #666;\n",
              "  }\n",
              "\n",
              "  .colab-df-quickchart {\n",
              "    background-color: var(--bg-color);\n",
              "    border: none;\n",
              "    border-radius: 50%;\n",
              "    cursor: pointer;\n",
              "    display: none;\n",
              "    fill: var(--fill-color);\n",
              "    height: 32px;\n",
              "    padding: 0;\n",
              "    width: 32px;\n",
              "  }\n",
              "\n",
              "  .colab-df-quickchart:hover {\n",
              "    background-color: var(--hover-bg-color);\n",
              "    box-shadow: 0 1px 2px rgba(60, 64, 67, 0.3), 0 1px 3px 1px rgba(60, 64, 67, 0.15);\n",
              "    fill: var(--button-hover-fill-color);\n",
              "  }\n",
              "\n",
              "  .colab-df-quickchart-complete:disabled,\n",
              "  .colab-df-quickchart-complete:disabled:hover {\n",
              "    background-color: var(--disabled-bg-color);\n",
              "    fill: var(--disabled-fill-color);\n",
              "    box-shadow: none;\n",
              "  }\n",
              "\n",
              "  .colab-df-spinner {\n",
              "    border: 2px solid var(--fill-color);\n",
              "    border-color: transparent;\n",
              "    border-bottom-color: var(--fill-color);\n",
              "    animation:\n",
              "      spin 1s steps(1) infinite;\n",
              "  }\n",
              "\n",
              "  @keyframes spin {\n",
              "    0% {\n",
              "      border-color: transparent;\n",
              "      border-bottom-color: var(--fill-color);\n",
              "      border-left-color: var(--fill-color);\n",
              "    }\n",
              "    20% {\n",
              "      border-color: transparent;\n",
              "      border-left-color: var(--fill-color);\n",
              "      border-top-color: var(--fill-color);\n",
              "    }\n",
              "    30% {\n",
              "      border-color: transparent;\n",
              "      border-left-color: var(--fill-color);\n",
              "      border-top-color: var(--fill-color);\n",
              "      border-right-color: var(--fill-color);\n",
              "    }\n",
              "    40% {\n",
              "      border-color: transparent;\n",
              "      border-right-color: var(--fill-color);\n",
              "      border-top-color: var(--fill-color);\n",
              "    }\n",
              "    60% {\n",
              "      border-color: transparent;\n",
              "      border-right-color: var(--fill-color);\n",
              "    }\n",
              "    80% {\n",
              "      border-color: transparent;\n",
              "      border-right-color: var(--fill-color);\n",
              "      border-bottom-color: var(--fill-color);\n",
              "    }\n",
              "    90% {\n",
              "      border-color: transparent;\n",
              "      border-bottom-color: var(--fill-color);\n",
              "    }\n",
              "  }\n",
              "</style>\n",
              "\n",
              "  <script>\n",
              "    async function quickchart(key) {\n",
              "      const quickchartButtonEl =\n",
              "        document.querySelector('#' + key + ' button');\n",
              "      quickchartButtonEl.disabled = true;  // To prevent multiple clicks.\n",
              "      quickchartButtonEl.classList.add('colab-df-spinner');\n",
              "      try {\n",
              "        const charts = await google.colab.kernel.invokeFunction(\n",
              "            'suggestCharts', [key], {});\n",
              "      } catch (error) {\n",
              "        console.error('Error during call to suggestCharts:', error);\n",
              "      }\n",
              "      quickchartButtonEl.classList.remove('colab-df-spinner');\n",
              "      quickchartButtonEl.classList.add('colab-df-quickchart-complete');\n",
              "    }\n",
              "    (() => {\n",
              "      let quickchartButtonEl =\n",
              "        document.querySelector('#df-bba3bfd2-b285-4bbd-b602-d5cd06163821 button');\n",
              "      quickchartButtonEl.style.display =\n",
              "        google.colab.kernel.accessAllowed ? 'block' : 'none';\n",
              "    })();\n",
              "  </script>\n",
              "</div>\n",
              "\n",
              "  <div id=\"id_5bb78a97-08ed-4632-9d87-81b076dd74cf\">\n",
              "    <style>\n",
              "      .colab-df-generate {\n",
              "        background-color: #E8F0FE;\n",
              "        border: none;\n",
              "        border-radius: 50%;\n",
              "        cursor: pointer;\n",
              "        display: none;\n",
              "        fill: #1967D2;\n",
              "        height: 32px;\n",
              "        padding: 0 0 0 0;\n",
              "        width: 32px;\n",
              "      }\n",
              "\n",
              "      .colab-df-generate:hover {\n",
              "        background-color: #E2EBFA;\n",
              "        box-shadow: 0px 1px 2px rgba(60, 64, 67, 0.3), 0px 1px 3px 1px rgba(60, 64, 67, 0.15);\n",
              "        fill: #174EA6;\n",
              "      }\n",
              "\n",
              "      [theme=dark] .colab-df-generate {\n",
              "        background-color: #3B4455;\n",
              "        fill: #D2E3FC;\n",
              "      }\n",
              "\n",
              "      [theme=dark] .colab-df-generate:hover {\n",
              "        background-color: #434B5C;\n",
              "        box-shadow: 0px 1px 3px 1px rgba(0, 0, 0, 0.15);\n",
              "        filter: drop-shadow(0px 1px 2px rgba(0, 0, 0, 0.3));\n",
              "        fill: #FFFFFF;\n",
              "      }\n",
              "    </style>\n",
              "    <button class=\"colab-df-generate\" onclick=\"generateWithVariable('data')\"\n",
              "            title=\"Generate code using this dataframe.\"\n",
              "            style=\"display:none;\">\n",
              "\n",
              "  <svg xmlns=\"http://www.w3.org/2000/svg\" height=\"24px\"viewBox=\"0 0 24 24\"\n",
              "       width=\"24px\">\n",
              "    <path d=\"M7,19H8.4L18.45,9,17,7.55,7,17.6ZM5,21V16.75L18.45,3.32a2,2,0,0,1,2.83,0l1.4,1.43a1.91,1.91,0,0,1,.58,1.4,1.91,1.91,0,0,1-.58,1.4L9.25,21ZM18.45,9,17,7.55Zm-12,3A5.31,5.31,0,0,0,4.9,8.1,5.31,5.31,0,0,0,1,6.5,5.31,5.31,0,0,0,4.9,4.9,5.31,5.31,0,0,0,6.5,1,5.31,5.31,0,0,0,8.1,4.9,5.31,5.31,0,0,0,12,6.5,5.46,5.46,0,0,0,6.5,12Z\"/>\n",
              "  </svg>\n",
              "    </button>\n",
              "    <script>\n",
              "      (() => {\n",
              "      const buttonEl =\n",
              "        document.querySelector('#id_5bb78a97-08ed-4632-9d87-81b076dd74cf button.colab-df-generate');\n",
              "      buttonEl.style.display =\n",
              "        google.colab.kernel.accessAllowed ? 'block' : 'none';\n",
              "\n",
              "      buttonEl.onclick = () => {\n",
              "        google.colab.notebook.generateWithVariable('data');\n",
              "      }\n",
              "      })();\n",
              "    </script>\n",
              "  </div>\n",
              "\n",
              "    </div>\n",
              "  </div>\n"
            ],
            "application/vnd.google.colaboratory.intrinsic+json": {
              "type": "dataframe",
              "variable_name": "data",
              "summary": "{\n  \"name\": \"data\",\n  \"rows\": 97065,\n  \"fields\": [\n    {\n      \"column\": \"URL\",\n      \"properties\": {\n        \"dtype\": \"category\",\n        \"num_unique_values\": 34174,\n        \"samples\": [\n          \"gethttp://localhost:8080/tienda1/publico/anadir.jsp?id=1&nombre=queso+manchego&precio=39&cantidad=65'+delete+from+users&b1=a\\ufffdadir+al+carrito\",\n          \"posthttp://localhost:8080/tienda1/publico/autenticar.jsp?modo=entrar&login=van_eyk&pwd=t1iesti70&remember=on&b1=entrar\",\n          \"gethttp://localhost:8080/tienda1/publico/pagar.jsp?modoa=insertar&precio=7525&b1=confirmar\"\n        ],\n        \"semantic_type\": \"\",\n        \"description\": \"\"\n      }\n    },\n    {\n      \"column\": \"URL Length\",\n      \"properties\": {\n        \"dtype\": \"number\",\n        \"std\": 86,\n        \"min\": 25,\n        \"max\": 666,\n        \"num_unique_values\": 416,\n        \"samples\": [\n          276,\n          367,\n          612\n        ],\n        \"semantic_type\": \"\",\n        \"description\": \"\"\n      }\n    },\n    {\n      \"column\": \"Question Mark Count\",\n      \"properties\": {\n        \"dtype\": \"number\",\n        \"std\": 0,\n        \"min\": 0,\n        \"max\": 5,\n        \"num_unique_values\": 6,\n        \"samples\": [\n          1,\n          0,\n          5\n        ],\n        \"semantic_type\": \"\",\n        \"description\": \"\"\n      }\n    },\n    {\n      \"column\": \"Special Char Count\",\n      \"properties\": {\n        \"dtype\": \"number\",\n        \"std\": 72,\n        \"min\": 20,\n        \"max\": 509,\n        \"num_unique_values\": 352,\n        \"samples\": [\n          318,\n          73,\n          128\n        ],\n        \"semantic_type\": \"\",\n        \"description\": \"\"\n      }\n    },\n    {\n      \"column\": \"Digit Count\",\n      \"properties\": {\n        \"dtype\": \"number\",\n        \"std\": 14,\n        \"min\": 4,\n        \"max\": 223,\n        \"num_unique_values\": 86,\n        \"samples\": [\n          68,\n          9,\n          188\n        ],\n        \"semantic_type\": \"\",\n        \"description\": \"\"\n      }\n    },\n    {\n      \"column\": \"Slash Count\",\n      \"properties\": {\n        \"dtype\": \"number\",\n        \"std\": 0,\n        \"min\": 2,\n        \"max\": 16,\n        \"num_unique_values\": 11,\n        \"samples\": [\n          10,\n          5,\n          9\n        ],\n        \"semantic_type\": \"\",\n        \"description\": \"\"\n      }\n    },\n    {\n      \"column\": \"Contains IP\",\n      \"properties\": {\n        \"dtype\": \"boolean\",\n        \"num_unique_values\": 1,\n        \"samples\": [\n          false\n        ],\n        \"semantic_type\": \"\",\n        \"description\": \"\"\n      }\n    },\n    {\n      \"column\": \"Subdomain Count\",\n      \"properties\": {\n        \"dtype\": \"number\",\n        \"std\": 0,\n        \"min\": -1,\n        \"max\": 7,\n        \"num_unique_values\": 9,\n        \"samples\": [\n          4\n        ],\n        \"semantic_type\": \"\",\n        \"description\": \"\"\n      }\n    },\n    {\n      \"column\": \"Uses HTTPS\",\n      \"properties\": {\n        \"dtype\": \"boolean\",\n        \"num_unique_values\": 1,\n        \"samples\": [\n          false\n        ],\n        \"semantic_type\": \"\",\n        \"description\": \"\"\n      }\n    },\n    {\n      \"column\": \"Has TLD\",\n      \"properties\": {\n        \"dtype\": \"boolean\",\n        \"num_unique_values\": 2,\n        \"samples\": [\n          true\n        ],\n        \"semantic_type\": \"\",\n        \"description\": \"\"\n      }\n    },\n    {\n      \"column\": \"Label\",\n      \"properties\": {\n        \"dtype\": \"number\",\n        \"std\": 0,\n        \"min\": 0,\n        \"max\": 1,\n        \"num_unique_values\": 2,\n        \"samples\": [\n          0\n        ],\n        \"semantic_type\": \"\",\n        \"description\": \"\"\n      }\n    }\n  ]\n}"
            }
          },
          "metadata": {},
          "execution_count": 55
        }
      ],
      "source": [
        "data"
      ]
    },
    {
      "cell_type": "code",
      "execution_count": null,
      "metadata": {
        "colab": {
          "base_uri": "https://localhost:8080/"
        },
        "id": "js-O_i0gd9mA",
        "outputId": "17c7d2f6-d6c6-443a-9fbb-5ba4dae5a421"
      },
      "outputs": [
        {
          "output_type": "execute_result",
          "data": {
            "text/plain": [
              "0    72000\n",
              "1    25065\n",
              "Name: Label, dtype: int64"
            ]
          },
          "metadata": {},
          "execution_count": 56
        }
      ],
      "source": [
        "data['Label'].value_counts()"
      ]
    },
    {
      "cell_type": "code",
      "execution_count": null,
      "metadata": {
        "colab": {
          "base_uri": "https://localhost:8080/"
        },
        "id": "ACjpwe9HeOwE",
        "outputId": "16eee646-d68e-4c60-c408-dc37659f674d"
      },
      "outputs": [
        {
          "output_type": "stream",
          "name": "stdout",
          "text": [
            "<class 'pandas.core.frame.DataFrame'>\n",
            "RangeIndex: 97065 entries, 0 to 97064\n",
            "Data columns (total 11 columns):\n",
            " #   Column               Non-Null Count  Dtype \n",
            "---  ------               --------------  ----- \n",
            " 0   URL                  97065 non-null  object\n",
            " 1   URL Length           97065 non-null  int64 \n",
            " 2   Question Mark Count  97065 non-null  int64 \n",
            " 3   Special Char Count   97065 non-null  int64 \n",
            " 4   Digit Count          97065 non-null  int64 \n",
            " 5   Slash Count          97065 non-null  int64 \n",
            " 6   Contains IP          97065 non-null  bool  \n",
            " 7   Subdomain Count      97065 non-null  int64 \n",
            " 8   Uses HTTPS           97065 non-null  bool  \n",
            " 9   Has TLD              97065 non-null  bool  \n",
            " 10  Label                97065 non-null  int64 \n",
            "dtypes: bool(3), int64(7), object(1)\n",
            "memory usage: 6.2+ MB\n"
          ]
        }
      ],
      "source": [
        "data.info()"
      ]
    },
    {
      "cell_type": "code",
      "execution_count": null,
      "metadata": {
        "colab": {
          "base_uri": "https://localhost:8080/"
        },
        "id": "4DWiMazQegNa",
        "outputId": "2f0e5f2b-9b6d-4ede-a5ba-7df10a50c75f"
      },
      "outputs": [
        {
          "output_type": "execute_result",
          "data": {
            "text/plain": [
              "URL                    0\n",
              "URL Length             0\n",
              "Question Mark Count    0\n",
              "Special Char Count     0\n",
              "Digit Count            0\n",
              "Slash Count            0\n",
              "Contains IP            0\n",
              "Subdomain Count        0\n",
              "Uses HTTPS             0\n",
              "Has TLD                0\n",
              "Label                  0\n",
              "dtype: int64"
            ]
          },
          "metadata": {},
          "execution_count": 58
        }
      ],
      "source": [
        "data.isnull().sum()"
      ]
    },
    {
      "cell_type": "code",
      "execution_count": null,
      "metadata": {
        "colab": {
          "base_uri": "https://localhost:8080/"
        },
        "id": "Kd8HkKWgNjmj",
        "outputId": "4602a25c-9761-4816-f4a6-333b15858301"
      },
      "outputs": [
        {
          "output_type": "stream",
          "name": "stdout",
          "text": [
            "Malicious URL Lengths: [182, 183, 121, 122, 43, 158, 159, 119, 120, 119, 120, 66, 67, 62, 63, 86, 87, 81, 129, 130, 94, 95, 94, 95, 298, 350, 351, 344, 345, 300, 301, 299, 300, 42, 70, 71, 70, 71, 69, 37, 43, 54, 83, 52, 55, 411, 412, 271, 272, 282, 283, 278, 279, 44, 52, 166, 167, 120, 121, 120, 121, 54, 119, 175, 176, 121, 122, 120, 121, 52, 65, 67, 68, 66, 67, 64, 46, 149, 150, 87, 88, 86, 87, 57, 43, 142, 143, 90, 91, 95, 96, 64, 328, 329, 298, 299, 293, 294, 119, 120, 70, 71, 77, 64, 319, 320, 279, 280, 281, 282, 63, 43, 51, 49, 54, 177, 178, 120, 121, 116, 117, 116, 117, 68, 69, 66, 67, 61, 112, 113, 86, 87, 94, 95, 94, 95, 303, 304, 285, 286, 292, 293, 43, 130, 131, 70, 71, 28, 71, 46, 55, 89, 75, 299, 300, 301, 302, 46, 58, 74, 65, 51, 57, 123, 124, 123, 124, 176, 177, 114, 115, 113, 114, 66, 67, 52, 64, 65, 86, 87, 55, 72, 94, 95, 94, 95, 82, 285, 287, 288, 53, 106, 107, 70, 71, 55, 43, 75, 283, 284, 284, 285, 28, 120, 121, 121, 122, 122, 123, 117, 118, 117, 118, 105, 106, 66, 67, 46, 57, 85, 86, 87, 93, 94, 88, 89, 298, 299, 271, 272, 286, 287, 287, 288, 54, 113, 114, 58, 59, 70, 71, 29, 55, 65, 42, 78, 300, 301, 301, 302, 38, 153, 154, 120, 121, 122, 123, 42, 121, 122, 118, 119, 78, 113, 114, 112, 113, 66, 67, 56, 86, 87, 49, 97, 98, 97, 98, 90, 91, 90, 91, 28, 369, 370, 310, 311, 310, 311, 67, 88, 89, 56, 57, 70, 71, 55, 68, 50, 34, 344, 345, 332, 333, 299, 300, 294, 295, 53, 56, 67, 81, 38, 121, 122, 151, 152, 79, 118, 119, 44, 92, 93, 66, 67, 59, 86, 87, 139, 140, 90, 91, 90, 91, 299, 300, 297, 298, 297, 298, 69, 67, 68, 70, 71, 55, 42, 55, 50, 294, 329, 330, 294, 295, 295, 296, 61, 50, 60, 176, 177, 119, 120, 36, 116, 117, 116, 117, 80, 81, 66, 67, 65, 66, 100, 101, 97, 98, 86, 87, 92, 93, 90, 91, 90, 91, 321, 322, 349, 350, 324, 325, 319, 320, 70, 71, 70, 71, 70, 77, 80, 47, 332, 333, 311, 312, 303, 304, 294, 295, 65, 122, 123, 180, 181, 172, 173, 119, 120, 120, 121, 59, 65, 66, 67, 85, 88, 89, 78, 95, 96, 95, 96, 280, 281, 276, 277, 278, 279, 57, 133, 134, 94, 95, 70, 71, 57, 54, 48, 43, 75, 40, 62, 304, 305, 304, 305, 61, 48, 120, 121, 118, 119, 121, 122, 125, 126, 123, 124, 93, 94, 66, 67, 80, 81, 86, 87, 95, 96, 95, 96, 55, 78, 307, 308, 295, 296, 296, 297, 67, 29, 51, 75, 46, 327, 328, 300, 301, 296, 297, 55, 60, 64, 51, 51, 55, 28, 69, 121, 122, 121, 122, 121, 122, 121, 122, 111, 112, 116, 117, 115, 116, 56, 68, 69, 66, 67, 85, 86, 87, 101, 102, 90, 91, 90, 91, 36, 316, 317, 298, 299, 72, 73, 58, 59, 70, 71, 63, 39, 28, 370, 371, 305, 306, 307, 308, 55, 51, 120, 121, 121, 122, 54, 116, 117, 116, 117, 52, 66, 67, 66, 67, 117, 118, 100, 101, 86, 87, 53, 109, 110, 90, 91, 90, 91, 321, 322, 332, 333, 333, 334, 34, 113, 114, 70, 71, 68, 36, 43, 51, 66, 302, 303, 291, 292, 73, 55, 74, 60, 56, 121, 122, 183, 184, 121, 122, 121, 122, 115, 116, 116, 117, 117, 118, 37, 116, 117, 65, 66, 66, 67, 46, 86, 87, 96, 97, 113, 114, 94, 95, 94, 95, 48, 303, 304, 276, 277, 95, 96, 70, 71, 29, 51, 79, 43, 324, 325, 358, 359, 320, 321, 56, 67, 44, 56, 122, 123, 122, 123, 114, 115, 121, 122, 114, 115, 41, 66, 67, 92, 93, 66, 67, 64, 36, 133, 134, 86, 87, 64, 45, 88, 89, 88, 89, 35, 58, 290, 291, 323, 324, 77, 78, 99, 100, 53, 68, 52, 34, 314, 315, 352, 353, 308, 309, 307, 308, 25, 53, 44, 122, 123, 121, 122, 162, 163, 115, 116, 65, 96, 97, 66, 67, 79, 37, 137, 138, 86, 87, 36, 107, 108, 95, 96, 95, 96, 63, 306, 309, 310, 306, 307, 307, 308, 70, 71, 70, 71, 56, 36, 70, 313, 314, 316, 317, 313, 314, 45, 45, 46, 147, 148, 170, 171, 121, 122, 121, 122, 197, 198, 118, 119, 116, 117, 25, 431, 432, 86, 87, 137, 138, 89, 90, 94, 95, 46, 292, 293, 294, 336, 337, 296, 297, 293, 294, 70, 71, 73, 30, 54, 55, 29, 363, 364, 291, 292, 33, 28, 61, 46, 49, 49, 169, 170, 123, 124, 123, 124, 118, 119, 116, 117, 82, 143, 144, 86, 87, 54, 90, 91, 363, 364, 335, 336, 332, 333, 68, 123, 124, 94, 95, 364, 365, 331, 332, 313, 314, 314, 315, 59, 46, 106, 107, 121, 122, 55, 150, 151, 117, 118, 115, 116, 66, 67, 195, 196, 86, 87, 89, 106, 107, 90, 91, 90, 91, 50, 293, 325, 326, 296, 297, 294, 295, 74, 75, 52, 63, 80, 76, 298, 299, 286, 287, 296, 297, 66, 50, 38, 59, 134, 135, 122, 123, 123, 124, 113, 114, 115, 116, 67, 68, 66, 67, 86, 87, 63, 92, 93, 124, 125, 90, 91, 90, 91, 44, 53, 303, 318, 319, 299, 300, 304, 305, 119, 120, 70, 71, 29, 333, 334, 301, 302, 308, 309, 53, 70, 136, 137, 118, 119, 118, 119, 113, 114, 112, 113, 66, 67, 57, 431, 432, 76, 77, 86, 87, 54, 28, 81, 82, 90, 91, 95, 96, 50, 58, 627, 628, 310, 311, 281, 282, 282, 283, 51, 70, 71, 45, 83, 62, 55, 327, 328, 323, 324, 72, 46, 65, 126, 127, 122, 123, 121, 122, 28, 137, 138, 114, 115, 111, 112, 112, 113, 75, 37, 90, 91, 66, 67, 64, 55, 129, 130, 86, 87, 115, 116, 83, 84, 90, 91, 90, 91, 64, 57, 287, 288, 286, 287, 285, 286, 57, 123, 124, 70, 71, 46, 56, 333, 334, 310, 311, 307, 308, 66, 55, 49, 42, 45, 35, 149, 150, 118, 119, 118, 119, 55, 115, 116, 115, 116, 50, 65, 128, 129, 66, 67, 66, 149, 150, 407, 408, 86, 87, 88, 89, 90, 91, 59, 301, 302, 323, 324, 286, 287, 287, 288, 70, 71, 59, 45, 59, 354, 355, 334, 335, 303, 304, 304, 305, 59, 43, 83, 119, 120, 121, 120, 121, 120, 121, 120, 121, 59, 66, 67, 72, 86, 87, 47, 132, 133, 128, 129, 89, 90, 89, 90, 305, 306, 72, 73, 70, 71, 56, 50, 56, 337, 338, 348, 349, 322, 323, 312, 313, 43, 67, 75, 143, 144, 155, 156, 118, 119, 118, 119, 152, 153, 141, 142, 119, 120, 114, 115, 104, 105, 66, 67, 47, 56, 86, 87, 86, 87, 41, 146, 147, 87, 88, 95, 96, 291, 292, 290, 291, 45, 69, 72, 73, 70, 71, 52, 56, 74, 302, 303, 302, 303, 301, 302, 60, 52, 122, 123, 122, 123, 164, 165, 116, 117, 116, 117, 66, 67, 86, 87, 89, 90, 94, 95, 422, 423, 288, 289, 289, 290, 111, 112, 67, 68, 70, 71, 28, 42, 33, 45, 67, 76, 60, 298, 344, 345, 300, 301, 299, 300, 37, 76, 45, 29, 62, 181, 182, 171, 172, 122, 123, 122, 123, 120, 132, 133, 120, 121, 73, 74, 66, 67, 137, 138, 86, 87, 40, 90, 91, 95, 96, 652, 653, 329, 330, 306, 307, 307, 308, 75, 63, 64, 70, 71, 55, 69, 69, 33, 75, 305, 306, 286, 287, 46, 71, 73, 65, 73, 121, 129, 130, 123, 124, 122, 123, 159, 160, 120, 121, 199, 200, 124, 125, 66, 67, 85, 86, 87, 95, 96, 95, 96, 317, 318, 334, 335, 284, 285, 286, 287, 57, 82, 83, 70, 71, 56, 51, 54, 50, 356, 357, 320, 321, 70, 56, 37, 71, 64, 45, 160, 161, 182, 183, 118, 119, 117, 118, 66, 67, 58, 53, 86, 87, 86, 87, 54, 143, 144, 95, 96, 90, 91, 297, 300, 301, 352, 353, 298, 299, 70, 71, 52, 53, 51, 325, 326, 311, 312, 28, 49, 45, 124, 125, 122, 123, 28, 75, 114, 146, 147, 115, 116, 66, 67, 56, 86, 87, 42, 99, 100, 93, 94, 88, 89, 301, 304, 305, 321, 322, 303, 304, 302, 303, 120, 121, 103, 104, 70, 71, 56, 54, 71, 34, 80, 295, 296, 296, 297, 51, 74, 26, 55, 63, 153, 154, 250, 251, 119, 120, 118, 119, 115, 116, 116, 117, 106, 107, 66, 67, 97, 98, 64, 65, 86, 87, 37, 133, 134, 82, 83, 94, 95, 94, 95, 55, 42, 48, 319, 665, 666, 324, 325, 63, 70, 71, 29, 75, 302, 303, 308, 309, 307, 308, 55, 62, 46, 36, 55, 159, 160, 118, 119, 121, 122, 121, 122, 34, 133, 134, 166, 167, 121, 122, 115, 116, 68, 69, 116, 117, 66, 67, 48, 66, 86, 87, 53, 90, 91, 90, 91, 54, 314, 315, 319, 320, 315, 316, 69, 70, 71, 55, 58, 54, 81, 83, 34, 55, 290, 291, 290, 291, 293, 294, 56, 29, 44, 118, 119, 118, 119, 76, 110, 111, 116, 117, 114, 115, 125, 126, 66, 67, 86, 87, 68, 224, 225, 90, 91, 95, 96, 51, 50, 296, 297, 298, 299, 91, 92, 70, 71, 51, 57, 60, 40, 46, 55, 308, 442, 443, 303, 304, 313, 314, 309, 310, 51, 36, 59, 54, 36, 121, 122, 123, 124, 115, 117, 118, 116, 117, 72, 73, 28, 64, 65, 86, 87, 83, 84, 89, 90, 89, 90, 363, 364, 314, 315, 309, 310, 58, 59, 57, 61, 25, 65, 74, 310, 311, 296, 297, 307, 308, 308, 309, 37, 29, 48, 46, 121, 122, 69, 462, 463, 127, 128, 121, 122, 117, 118, 66, 67, 145, 146, 86, 87, 90, 91, 90, 91, 90, 91, 345, 346, 307, 308, 281, 282, 282, 283, 72, 73, 70, 71, 43, 45, 51, 28, 60, 37, 48, 46, 300, 301, 301, 302, 70, 45, 46, 117, 118, 116, 117, 121, 122, 117, 118, 56, 161, 162, 117, 118, 117, 118, 84, 91, 92, 66, 67, 149, 150, 62, 63, 86, 87, 101, 102, 81, 82, 90, 91, 95, 96, 318, 319, 70, 71, 64, 380, 381, 303, 304, 299, 300, 55, 42, 73, 66, 151, 152, 122, 123, 118, 119, 70, 119, 120, 113, 114, 117, 118, 52, 410, 411, 66, 67, 137, 138, 122, 123, 86, 87, 95, 96, 95, 96, 292, 293, 292, 293, 133, 134, 70, 71, 37, 77, 69, 42, 280, 281, 284, 285, 285, 286, 64, 35, 48, 117, 116, 117, 118, 119, 118, 119, 50, 153, 154, 137, 138, 118, 119, 118, 119, 124, 125, 66, 67, 44, 64, 115, 116, 90, 91, 380, 381, 328, 329, 327, 328, 53, 70, 71, 40, 44, 37, 73, 41, 73, 43, 348, 349, 302, 303, 303, 304, 45, 45, 33, 50, 123, 124, 118, 119, 120, 121, 118, 119, 122, 123, 118, 119, 68, 69, 108, 109, 66, 67, 86, 87, 40, 54, 92, 93, 92, 93, 90, 91, 90, 91, 54, 649, 650, 286, 287, 313, 314, 304, 305, 57, 56, 58, 59, 70, 71, 56, 42, 344, 345, 293, 294, 296, 297, 291, 292, 73, 67, 54, 50, 121, 122, 120, 121, 112, 113, 117, 118, 118, 119, 44, 90, 91, 66, 67, 86, 87, 137, 138, 95, 96, 90, 91, 339, 340, 306, 307, 295, 296, 298, 299, 109, 110, 70, 71, 25, 52, 53, 42, 51, 55, 74, 75, 302, 303, 289, 290, 28, 42, 126, 127, 122, 123, 121, 122, 116, 117, 116, 117, 48, 72, 73, 112, 113, 66, 67, 115, 116, 86, 87, 45, 95, 96, 95, 96, 304, 305, 305, 306, 70, 71, 36, 58, 84, 51, 56, 39, 341, 342, 316, 317, 310, 311, 77, 59, 55, 65, 43, 77, 124, 125, 138, 139, 123, 124, 122, 123, 118, 119, 116, 117, 116, 117, 44, 42, 147, 148, 104, 105, 66, 67, 124, 125, 93, 94, 86, 87, 71, 154, 155, 90, 91, 95, 96, 288, 289, 290, 291, 72, 73, 70, 71, 44, 62, 43, 280, 281, 615, 616, 278, 279, 28, 57, 55, 44, 145, 146, 121, 122, 119, 120, 52, 115, 116, 80, 81, 35, 76, 77, 86, 87, 77, 142, 143, 105, 106, 90, 91, 95, 96, 60, 310, 311, 295, 296, 119, 120, 70, 71, 44, 53, 28, 73, 34, 43, 69, 47, 310, 317, 318, 309, 310, 311, 312, 35, 70, 44, 44, 48, 157, 158, 118, 119, 117, 118, 50, 65, 84, 85, 112, 113, 66, 67, 50, 82, 36, 86, 87, 90, 91, 90, 91, 52, 296, 299, 300, 302, 303, 297, 298, 297, 298, 75, 151, 152, 70, 71, 52, 71, 75, 73, 36, 313, 314, 295, 296, 298, 299, 302, 303, 71, 75, 42, 74, 121, 110, 111, 122, 123, 122, 123, 175, 176, 119, 120, 124, 125, 115, 116, 66, 67, 111, 112, 121, 122, 86, 87, 106, 107, 90, 91, 282, 283, 70, 71, 51, 65, 34, 340, 341, 302, 303, 306, 307, 55, 42, 51, 167, 168, 121, 122, 121, 122, 131, 132, 161, 162, 120, 121, 66, 67, 104, 105, 62, 63, 86, 87, 116, 117, 142, 143, 95, 96, 90, 91, 321, 322, 305, 306, 319, 320, 44, 70, 71, 70, 71, 70, 46, 56, 85, 62, 302, 353, 354, 309, 310, 303, 304, 33, 55, 51, 70, 50, 56, 28, 125, 126, 165, 166, 122, 123, 123, 124, 166, 167, 117, 118, 116, 117, 66, 67, 76, 77, 66, 67, 101, 102, 86, 87, 71, 118, 119, 90, 91, 95, 96, 324, 324, 325, 325, 326, 28, 70, 71, 43, 58, 37, 330, 331, 302, 303, 44, 59, 63, 67, 121, 129, 130, 123, 124, 122, 123, 55, 121, 120, 121, 122, 123, 50, 59, 67, 68, 66, 67, 51, 127, 128, 64, 65, 86, 87, 50, 148, 149, 90, 91, 95, 96, 33, 326, 327, 306, 307, 301, 302, 73, 70, 71, 46, 58, 53, 56, 75, 321, 322, 657, 658, 313, 314, 36, 28, 52, 74, 252, 253, 172, 173, 118, 119, 119, 120, 160, 161, 122, 123, 119, 120, 97, 98, 66, 67, 82, 50, 136, 137, 62, 63, 86, 87, 101, 102, 90, 91, 95, 96, 311, 314, 315, 312, 313, 312, 313, 117, 118, 119, 120, 70, 71, 53, 351, 352, 310, 311, 307, 308, 38, 118, 119, 119, 120, 119, 131, 132, 114, 115, 119, 120, 120, 121, 92, 93, 66, 67, 105, 106, 86, 87, 90, 91, 90, 91, 36, 51, 374, 375, 387, 388, 310, 311, 311, 312, 120, 121, 81, 82, 70, 71, 25, 59, 53, 355, 356, 323, 324, 45, 71, 122, 123, 118, 119, 70, 64, 159, 160, 139, 140, 123, 124, 59, 410, 411, 66, 67, 86, 87, 64, 65, 94, 126, 127, 118, 119, 90, 91, 95, 96, 72, 58, 315, 316, 316, 317, 70, 71, 70, 71, 41, 75, 61, 292, 293, 324, 325, 292, 293, 55, 60, 54, 54, 128, 129, 155, 156, 122, 123, 55, 142, 143, 113, 114, 122, 123, 120, 121, 56, 101, 102, 66, 67, 30, 64, 65, 86, 87, 72, 175, 176, 89, 90, 94, 95, 42, 80, 301, 302, 300, 301, 91, 92, 70, 71, 73, 50, 41, 361, 362, 292, 293, 294, 295, 33, 51, 65, 53, 38, 83, 47, 171, 172, 122, 123, 122, 123, 43, 55, 119, 120, 117, 118, 66, 67, 83, 36, 115, 116, 86, 87, 54, 55, 109, 110, 90, 91, 90, 91, 36, 345, 346, 338, 339, 73, 70, 71, 36, 49, 280, 281, 294, 295, 280, 281, 76, 69, 52, 33, 124, 125, 160, 161, 122, 123, 54, 119, 120, 116, 117, 112, 113, 66, 67, 86, 87, 54, 95, 96, 90, 91, 70, 307, 308, 305, 306, 70, 71, 45, 53, 44, 43, 55, 295, 296, 291, 292, 293, 294, 36, 51, 66, 58, 48, 143, 144, 122, 123, 118, 119, 25, 252, 253, 160, 161, 119, 120, 119, 120, 108, 109, 66, 67, 57, 64, 65, 86, 87, 75, 51, 140, 141, 108, 109, 90, 91, 90, 91, 281, 282, 319, 320, 310, 311, 70, 71, 28, 73, 50, 55, 328, 329, 303, 304, 297, 298, 55, 86, 160, 161, 117, 118, 118, 119, 119, 120, 151, 152, 120, 121, 59, 125, 126, 66, 67, 97, 98, 86, 87, 90, 91, 95, 96, 30, 331, 332, 339, 340, 331, 332, 70, 71, 55, 53, 38, 69, 42, 49, 321, 322, 319, 320, 54, 43, 122, 123, 121, 122, 117, 118, 110, 111, 115, 116, 115, 116, 65, 66, 67, 64, 44, 97, 98, 86, 87, 55, 92, 93, 214, 215, 90, 91, 90, 91, 273, 274, 282, 283, 281, 282, 76, 77, 70, 71, 52, 60, 80, 51, 301, 302, 298, 299, 42, 52, 71, 67, 181, 182, 160, 161, 122, 123, 121, 122, 75, 175, 176, 116, 117, 66, 67, 71, 86, 87, 86, 87, 89, 128, 129, 82, 83, 90, 91, 90, 91, 28, 294, 295, 295, 296, 37, 97, 98, 99, 100, 70, 71, 73, 52, 56, 367, 368, 56, 45, 46, 43, 58, 83, 120, 139, 140, 119, 120, 122, 123, 121, 122, 45, 115, 112, 113, 116, 117, 129, 130, 67, 68, 66, 67, 86, 87, 60, 67, 89, 90, 89, 90, 337, 338, 296, 297, 299, 300, 36, 63, 70, 71, 57, 36, 295, 296, 302, 303, 61, 37, 147, 148, 122, 123, 122, 123, 178, 179, 160, 161, 113, 114, 115, 116, 129, 130, 96, 97, 127, 128, 97, 98, 86, 87, 102, 103, 134, 135, 95, 96, 29, 45, 296, 304, 305, 313, 314, 297, 298, 81, 82, 67, 68, 70, 71, 28, 56, 28, 59, 52, 62, 73, 309, 310, 309, 310, 33, 73, 48, 45, 61, 34, 83, 180, 181, 118, 119, 162, 163, 124, 125, 118, 119, 68, 69, 104, 105, 66, 67, 86, 87, 77, 75, 104, 105, 133, 134, 90, 91, 90, 91, 303, 297, 298, 303, 304, 304, 305, 54, 49, 72, 73, 58, 59, 70, 71, 75, 74, 72, 28, 40, 65, 65, 64, 65, 410, 411, 289, 290, 291, 292, 52, 76, 36, 60, 133, 134, 121, 122, 121, 122, 120, 121, 159, 160, 118, 119, 118, 119, 68, 69, 66, 67, 49, 109, 110, 86, 87, 115, 116, 89, 90, 286, 287, 302, 303, 302, 303, 70, 71, 43, 79, 291, 292, 292, 293, 79, 56, 56, 64, 122, 123, 122, 123, 115, 115, 116, 115, 116, 68, 69, 66, 67, 125, 126, 64, 65, 86, 87, 42, 38, 145, 146, 90, 91, 347, 348, 316, 317, 274, 275, 294, 295, 113, 114, 56, 57, 70, 71, 61, 294, 295, 296, 297, 71, 56, 51, 52, 65, 233, 234, 118, 119, 117, 118, 118, 119, 118, 119, 104, 105, 66, 67, 85, 113, 114, 426, 427, 90, 91, 90, 91, 44, 78, 335, 336, 294, 295, 288, 289, 292, 293, 401, 402, 70, 71, 43, 36, 55, 38, 65, 55, 273, 274, 276, 277, 44, 55, 74, 120, 148, 149, 122, 123, 121, 122, 118, 152, 153, 120, 121, 119, 120, 65, 66, 67, 62, 63, 86, 87, 55, 76, 149, 150, 90, 91, 60, 52, 345, 346, 297, 298, 298, 299, 72, 73, 58, 59, 70, 71, 79, 33, 323, 324, 282, 283, 299, 300, 50, 72, 122, 123, 121, 122, 52, 115, 162, 163, 119, 120, 116, 117, 51, 66, 67, 63, 44, 76, 77, 86, 87, 92, 93, 90, 91, 95, 96, 52, 285, 286, 289, 290, 51, 113, 114, 70, 71, 54, 56, 85, 61, 54, 296, 297, 297, 298, 42, 59, 122, 123, 124, 125, 122, 123, 122, 123, 122, 123, 199, 200, 76, 77, 66, 67, 58, 33, 36, 129, 130, 144, 145, 90, 91, 289, 290, 297, 298, 295, 296, 82, 83, 53, 70, 44, 43, 36, 385, 386, 36, 54, 117, 143, 144, 167, 168, 118, 119, 157, 158, 155, 156, 114, 115, 114, 115, 65, 67, 68, 66, 67, 56, 86, 87, 86, 87, 90, 91, 95, 96, 355, 356, 288, 289, 291, 292, 292, 293, 101, 102, 70, 71, 55, 72, 75, 46, 411, 412, 289, 290, 61, 54, 72, 71, 36, 160, 161, 119, 120, 113, 116, 117, 126, 127, 114, 115, 67, 68, 88, 89, 113, 114, 86, 87, 120, 121, 95, 96, 368, 369, 323, 324, 305, 306, 305, 306, 56, 57, 70, 71, 47, 34, 79, 69, 306, 307, 308, 309, 48, 39, 55, 117, 118, 121, 122, 119, 120, 56, 122, 123, 138, 139, 124, 125, 120, 121, 65, 67, 68, 66, 67, 50, 125, 126, 86, 87, 102, 103, 90, 91, 95, 96, 55, 53, 328, 329, 284, 285, 289, 290, 133, 134, 189, 190, 70, 71, 50, 66, 62, 64, 360, 361, 309, 310, 30, 51, 30, 45, 59, 81, 122, 123, 122, 123, 48, 142, 143, 120, 121, 117, 118, 43, 97, 98, 66, 67, 55, 143, 144, 117, 118, 172, 173, 95, 96, 95, 96, 54, 68, 293, 294, 302, 303, 291, 292, 70, 71, 36, 53, 33, 277, 278, 278, 279, 56, 25, 58, 49, 50, 162, 163, 123, 124, 123, 124, 69, 44, 159, 160, 119, 120, 118, 119, 41, 91, 92, 66, 67, 129, 130, 93, 94, 86, 87, 142, 143, 90, 91, 90, 91, 60, 304, 305, 303, 304, 291, 292, 94, 95, 43, 45, 65, 69, 43, 308, 309, 298, 299, 70, 66, 36, 56, 169, 170, 122, 123, 122, 123, 75, 150, 151, 117, 118, 117, 118, 59, 125, 126, 66, 67, 44, 64, 65, 75, 95, 96, 90, 91, 80, 296, 297, 307, 308, 304, 305, 81, 82, 91, 92, 70, 71, 59, 79, 55, 57, 59, 54, 59, 298, 299, 320, 321, 297, 298, 296, 297, 56, 52, 56, 66, 55, 77, 42, 147, 148, 241, 242, 121, 122, 121, 122, 115, 166, 167, 110, 111, 119, 120, 116, 117, 66, 67, 52, 25, 48, 88, 89, 86, 87, 37, 89, 90, 89, 90, 41, 52, 301, 302, 300, 301, 113, 114, 99, 100, 70, 71, 63, 56, 64, 79, 309, 310, 302, 303, 299, 300, 28, 53, 463, 464, 175, 176, 118, 119, 113, 118, 119, 114, 115, 68, 69, 66, 67, 50, 44, 88, 89, 105, 106, 86, 87, 44, 96, 97, 89, 90, 94, 95, 46, 306, 366, 367, 321, 322, 307, 308, 95, 96, 70, 71, 53, 34, 55, 75, 334, 335, 310, 311, 312, 313, 36, 51, 69, 65, 62, 120, 121, 161, 162, 118, 119, 122, 123, 127, 128, 121, 122, 122, 123, 66, 67, 44, 86, 87, 93, 94, 95, 94, 95, 304, 305, 299, 300, 294, 295, 120, 121, 70, 71, 54, 288, 289, 341, 342, 284, 285, 286, 287, 185, 186, 122, 123, 122, 123, 70, 131, 132, 122, 123, 120, 121, 109, 110, 103, 104, 66, 67, 139, 140, 97, 98, 86, 87, 53, 104, 105, 90, 91, 90, 91, 293, 337, 338, 370, 371, 292, 293, 294, 295, 72, 73, 82, 83, 70, 71, 73, 47, 46, 304, 305, 296, 297, 60, 34, 45, 37, 71, 73, 36, 171, 172, 121, 122, 121, 122, 122, 123, 122, 123, 73, 67, 68, 66, 67, 46, 64, 25, 39, 145, 146, 86, 87, 77, 90, 91, 68, 316, 317, 322, 323, 70, 71, 46, 65, 325, 326, 313, 314, 314, 315, 50, 76, 39, 56, 36, 74, 147, 148, 142, 143, 122, 123, 122, 123, 71, 157, 158, 165, 166, 119, 120, 122, 123, 74, 73, 53, 118, 119, 66, 67, 88, 89, 86, 87, 50, 88, 89, 95, 96, 90, 91, 342, 343, 69, 72, 73, 58, 59, 70, 71, 46, 69, 68, 54, 55, 55, 288, 289, 290, 291, 51, 33, 56, 37, 123, 124, 122, 123, 42, 118, 119, 77, 78, 65, 66, 66, 67, 76, 80, 81, 86, 87, 90, 91, 90, 91, 44, 308, 309, 272, 273, 277, 278, 99, 100, 70, 71, 74, 73, 54, 34, 64, 295, 296, 296, 297, 66, 51, 157, 158, 168, 169, 121, 122, 122, 123, 55, 167, 168, 113, 114, 113, 114, 66, 67, 44, 85, 86, 87, 36, 50, 90, 91, 90, 91, 90, 91, 82, 318, 319, 283, 284, 282, 283, 70, 71, 73, 52, 322, 323, 298, 299, 296, 297, 28, 57, 78, 121, 122, 123, 120, 121, 122, 123, 74, 466, 467, 129, 130, 124, 125, 121, 122, 68, 69, 66, 67, 64, 86, 87, 95, 96, 95, 96, 73, 313, 314, 320, 321, 317, 318, 73, 70, 71, 74, 56, 321, 322, 306, 307, 323, 324, 319, 320, 50, 78, 63, 54, 46, 175, 176, 118, 119, 56, 63, 115, 116, 116, 117, 121, 122, 61, 66, 67, 64, 86, 87, 95, 96, 95, 96, 95, 96, 51, 381, 382, 290, 291, 307, 308, 300, 301, 69, 105, 106, 70, 71, 36, 330, 331, 325, 326, 326, 327, 65, 70, 65, 62, 48, 82, 118, 170, 171, 141, 142, 119, 120, 119, 120, 73, 152, 153, 115, 116, 115, 116, 113, 114, 96, 97, 66, 67, 86, 87, 80, 84, 85, 90, 91, 90, 91, 317, 318, 323, 324, 306, 307, 306, 307, 58, 59, 70, 71, 48, 331, 332, 307, 308, 303, 304, 304, 305, 75, 54, 46, 34, 86, 172, 173, 121, 122, 122, 123, 117, 118, 117, 118, 68, 69, 65, 66, 66, 67, 113, 114, 86, 87, 167, 168, 94, 95, 94, 95, 315, 316, 290, 291, 289, 290, 72, 73, 58, 59, 70, 71, 43, 300, 303, 304, 301, 302, 69, 71, 51, 28, 73, 166, 167, 123, 124, 123, 124, 123, 124, 119, 120, 65, 147, 148, 66, 67, 51, 45, 137, 138, 84, 85, 86, 87, 95, 96, 90, 91, 287, 288, 129, 130, 70, 71, 81, 52, 45, 37, 289, 290, 45, 28, 70, 48, 160, 161, 121, 122, 121, 122, 116, 117, 115, 116, 114, 115, 96, 97, 66, 67, 93, 94, 86, 87, 43, 95, 96, 95, 96, 330, 331, 287, 288, 120, 121, 103, 104, 70, 71, 37, 52, 42, 66, 74, 42, 304, 305, 304, 305, 70, 44, 49, 111, 112, 120, 121, 71, 166, 167, 60, 125, 126, 67, 68, 66, 67, 46, 149, 150, 64, 65, 95, 96, 90, 91, 299, 300, 339, 340, 303, 304, 299, 300, 203, 204, 119, 120, 70, 71, 60, 74, 36, 73, 344, 345, 291, 292, 291, 292, 41, 71, 61, 51, 69, 54, 168, 169, 123, 124, 118, 119, 142, 143, 117, 118, 122, 123, 120, 121, 68, 69, 66, 67, 42, 55, 57, 117, 118, 95, 96, 90, 91, 324, 325, 288, 289, 289, 290, 55, 70, 71, 43, 53, 300, 301, 298, 299, 73, 46, 117, 118, 117, 118, 52, 128, 129, 111, 112, 117, 118, 117, 118, 97, 98, 66, 67, 149, 150, 86, 87, 109, 110, 93, 94, 95, 96, 95, 96, 351, 352, 316, 317, 70, 71, 28, 71, 302, 303, 300, 301, 296, 297, 28, 80, 160, 161, 119, 120, 119, 120, 119, 120, 29, 120, 121, 118, 119, 92, 93, 66, 67, 25, 129, 130, 80, 81, 86, 87, 64, 94, 142, 143, 95, 96, 95, 96, 44, 313, 314, 312, 313, 69, 130, 131, 116, 117, 70, 71, 72, 298, 299, 319, 320, 297, 298, 296, 297, 65, 52, 49, 58, 28, 65, 125, 126, 158, 159, 118, 119, 118, 119, 115, 116, 66, 67, 64, 28, 195, 196, 86, 87, 71, 95, 96, 90, 91, 41, 59, 361, 362, 319, 320, 331, 332, 35, 92, 93, 70, 71, 54, 360, 361, 347, 348, 309, 310, 310, 311, 71, 52, 69, 34, 119, 120, 159, 160, 120, 121, 77, 78, 410, 411, 66, 67, 78, 81, 93, 94, 86, 87, 90, 91, 55, 28, 311, 312, 70, 71, 70, 71, 36, 68, 28, 54, 68, 46, 55, 280, 281, 278, 279, 44, 42, 69, 50, 118, 119, 118, 119, 118, 119, 124, 125, 118, 119, 59, 93, 94, 66, 67, 56, 41, 28, 121, 122, 105, 106, 86, 87, 59, 44, 92, 93, 82, 83, 95, 96, 90, 91, 58, 316, 317, 283, 284, 283, 284, 70, 71, 72, 307, 308, 297, 298, 301, 302, 43, 73, 28, 36, 180, 181, 126, 127, 122, 123, 121, 122, 156, 157, 119, 120, 119, 120, 65, 66, 66, 67, 100, 101, 109, 110, 86, 87, 76, 94, 95, 94, 95, 54, 316, 317, 317, 318, 54, 70, 71, 38, 75, 44, 44, 296, 297, 291, 292, 297, 298, 34, 28, 60, 56, 60, 137, 138, 201, 202, 121, 122, 122, 123, 124, 125, 66, 67, 52, 71, 125, 126, 90, 91, 90, 91, 74, 297, 298, 297, 298, 70, 71, 311, 312, 308, 309, 309, 310, 139, 140, 121, 122, 121, 122, 123, 124, 120, 121, 120, 121, 54, 68, 69, 66, 67, 85, 86, 87, 92, 93, 129, 130, 90, 91, 72, 295, 296, 291, 292, 76, 101, 102, 87, 88, 70, 71, 36, 64, 43, 54, 75, 341, 342, 318, 319, 291, 292, 303, 304, 75, 71, 38, 70, 63, 36, 121, 122, 122, 123, 113, 114, 67, 68, 66, 67, 25, 88, 89, 69, 70, 86, 87, 86, 87, 95, 96, 90, 91, 56, 287, 288, 301, 302, 57, 108, 109, 70, 71, 75, 42, 55, 348, 349, 311, 312, 56, 55, 45, 42, 25, 123, 124, 121, 122, 121, 122, 176, 177, 147, 148, 125, 126, 125, 126, 103, 104, 66, 67, 167, 168, 86, 87, 40, 90, 91, 28, 276, 277, 294, 295, 296, 297, 77, 121, 122, 87, 88, 70, 71, 70, 36, 28, 70, 54, 55, 42, 288, 289, 69, 119, 120, 122, 123, 118, 119, 44, 124, 125, 115, 116, 116, 117, 43, 66, 67, 112, 113, 86, 87, 65, 95, 96, 95, 96, 68, 325, 326, 289, 290, 54, 58, 59, 70, 71, 67, 69, 52, 371, 372, 342, 343, 309, 310, 69, 48, 34, 45, 59, 163, 164, 122, 123, 118, 119, 122, 123, 113, 114, 65, 66, 88, 88, 89, 122, 123, 86, 87, 44, 89, 90, 94, 95, 292, 293, 111, 112, 70, 71, 53, 43, 300, 301, 296, 297, 45, 55, 54, 65, 29, 46, 120, 202, 203, 119, 120, 122, 123, 121, 122, 125, 126, 123, 124, 123, 124, 92, 93, 64, 65, 90, 91, 95, 96, 43, 51, 354, 355, 318, 319, 303, 304, 304, 305, 72, 73, 70, 71, 53, 32, 308, 309, 308, 309, 45, 69, 36, 45, 29, 123, 124, 123, 124, 246, 247, 119, 120, 121, 122, 66, 67, 34, 86, 87, 86, 87, 60, 144, 145, 90, 91, 95, 96, 70, 313, 314, 312, 313, 69, 53, 51, 43, 80, 84, 343, 344, 347, 348, 312, 313, 312, 313, 50, 61, 51, 45, 62, 63, 147, 148, 122, 123, 122, 123, 124, 125, 133, 134, 117, 118, 122, 123, 77, 78, 83, 84, 66, 67, 86, 87, 86, 87, 97, 98, 83, 84, 95, 96, 95, 96, 369, 370, 333, 334, 326, 327, 70, 71, 75, 65, 45, 70, 291, 292, 292, 293, 43, 45, 169, 170, 118, 119, 73, 126, 127, 121, 122, 115, 116, 79, 101, 102, 146, 147, 66, 67, 65, 117, 118, 86, 87, 56, 89, 95, 96, 90, 91, 28, 302, 303, 303, 304, 70, 71, 65, 42, 70, 28, 75, 276, 277, 309, 310, 298, 299, 80, 56, 33, 108, 109, 119, 120, 118, 119, 120, 121, 115, 116, 65, 77, 78, 43, 64, 86, 87, 90, 91, 302, 303, 303, 304, 70, 71, 53, 74, 347, 348, 280, 281, 280, 281, 288, 289, 64, 46, 179, 180, 118, 119, 118, 119, 116, 117, 80, 66, 67, 29, 64, 65, 86, 87, 52, 90, 91, 90, 91, 68, 286, 287, 294, 295, 297, 298, 70, 71, 55, 43, 39, 289, 290, 302, 303, 298, 299, 71, 65, 56, 60, 29, 51, 42, 63, 149, 150, 177, 178, 119, 120, 118, 119, 122, 123, 115, 116, 79, 65, 73, 74, 66, 67, 86, 87, 57, 95, 96, 302, 303, 296, 297, 96, 97, 70, 71, 54, 45, 288, 289, 292, 293, 295, 296, 70, 28, 54, 51, 65, 183, 184, 129, 130, 115, 116, 115, 116, 43, 66, 67, 108, 109, 66, 67, 64, 113, 114, 86, 87, 48, 76, 125, 126, 90, 91, 70, 318, 316, 317, 319, 320, 57, 70, 71, 53, 56, 65, 646, 647, 312, 313, 308, 309, 37, 73, 50, 56, 72, 49, 43, 51, 58, 169, 170, 119, 120, 119, 120, 173, 174, 121, 122, 120, 121, 68, 69, 65, 66, 66, 67, 53, 54, 86, 87, 90, 91, 95, 96, 51, 74, 58, 308, 309, 113, 114, 99, 100, 70, 71, 71, 41, 48, 318, 319, 299, 300, 307, 308, 46, 61, 51, 45, 65, 149, 150, 167, 168, 122, 123, 118, 119, 119, 120, 120, 121, 96, 97, 66, 67, 64, 72, 125, 126, 86, 87, 59, 90, 91, 29, 53, 299, 300, 309, 310, 70, 71, 65, 36, 60, 52, 341, 342, 303, 304, 304, 305, 65, 52, 51, 60, 137, 138, 111, 112, 122, 123, 123, 124, 69, 117, 118, 410, 411, 66, 67, 52, 92, 93, 86, 87, 74, 119, 120, 95, 96, 95, 96, 54, 293, 294, 301, 302, 293, 294, 70, 71, 65, 354, 355, 306, 307, 307, 308, 44, 67, 46, 33, 42, 25, 46, 122, 123, 122, 123, 131, 132, 109, 110, 116, 117, 65, 66, 66, 67, 44, 62, 93, 94, 62, 63, 86, 87, 95, 96, 95, 96, 46, 34, 316, 317, 317, 318, 54, 119, 120, 70, 71, 41, 66, 59, 456, 457, 323, 324, 45, 51, 72, 65, 36, 54, 42, 161, 162, 122, 123, 122, 123, 56, 125, 126, 113, 114, 114, 115, 73, 48, 72, 73, 67, 68, 66, 67, 50, 60, 86, 87, 38, 25, 140, 141, 95, 96, 90, 91, 50, 305, 306, 325, 326, 323, 324, 101, 102, 70, 71, 52, 76, 43, 297, 298, 334, 335, 288, 289, 290, 291, 47, 55, 43, 51, 67, 57, 58, 48, 79, 82, 39, 120, 121, 122, 123, 121, 122, 115, 116, 116, 117, 67, 68, 66, 67, 129, 130, 143, 144, 86, 87, 90, 91, 90, 91, 90, 91, 52, 320, 321, 298, 299, 309, 310, 121, 122, 56, 57, 70, 71, 53, 73, 69, 55, 298, 299, 296, 297, 25, 71, 108, 109, 122, 123, 123, 124, 44, 34, 171, 172, 118, 119, 118, 119, 59, 126, 127, 66, 67, 86, 87, 28, 95, 96, 95, 96, 312, 313, 312, 313, 52, 96, 97, 70, 71, 74, 83, 42, 74, 345, 346, 292, 293, 304, 305, 306, 307, 54, 122, 123, 122, 123, 70, 168, 169, 118, 119, 65, 66, 67, 62, 63, 86, 87, 89, 108, 109, 90, 91, 357, 358, 311, 312, 310, 311, 50, 109, 110, 70, 71, 69, 43, 291, 292, 290, 291, 291, 292, 66, 77, 61, 52, 169, 170, 126, 127, 118, 119, 142, 143, 122, 123, 117, 118, 109, 110, 67, 68, 66, 67, 61, 86, 87, 92, 135, 136, 88, 89, 338, 339, 294, 295, 295, 296, 81, 82, 70, 71, 48, 56, 80, 55, 318, 319, 321, 322, 66, 45, 55, 51, 47, 66, 255, 256, 159, 160, 122, 123, 56, 50, 169, 170, 197, 198, 119, 120, 119, 120, 105, 106, 66, 67, 55, 88, 89, 86, 87, 92, 93, 95, 96, 90, 91, 351, 352, 334, 335, 296, 297, 298, 299, 57, 129, 130, 401, 402, 70, 71, 55, 37, 52, 36, 304, 305, 305, 306, 36, 46, 38, 79, 59, 163, 164, 105, 106, 121, 122, 121, 122, 120, 121, 56, 66, 67, 46, 86, 87, 98, 99, 95, 96, 95, 96, 305, 306, 306, 307, 60, 58, 69, 70, 71, 65, 50, 34, 64, 28, 342, 343, 307, 308, 299, 300, 71, 56, 71, 42, 50, 168, 169, 118, 119, 118, 119, 177, 178, 116, 117, 66, 67, 65, 36, 136, 137, 105, 106, 86, 87, 56, 94, 154, 155, 90, 91, 95, 96, 48, 77, 287, 288, 291, 292, 295, 296, 120, 121, 119, 120, 70, 71, 53, 42, 65, 71, 331, 332, 321, 322, 306, 307, 75, 48, 69, 122, 123, 36, 118, 119, 117, 118, 64, 66, 67, 91, 92, 66, 67, 86, 87, 52, 155, 156, 142, 143, 90, 91, 95, 96, 54, 312, 315, 316, 312, 313, 313, 314, 42, 70, 71, 47, 52, 56, 65, 302, 303, 300, 301, 54, 69, 51, 57, 55, 46, 43, 121, 122, 123, 122, 123, 120, 121, 120, 121, 56, 125, 126, 66, 67, 37, 111, 112, 86, 87, 60, 112, 113, 89, 90, 94, 95, 36, 289, 290, 293, 294, 70, 71, 81, 82, 70, 71, 44, 56, 35, 305, 306, 304, 305, 300, 301, 67, 42, 65, 46, 118, 119, 118, 119, 145, 146, 120, 121, 118, 119, 28, 66, 67, 25, 129, 130, 86, 87, 131, 132, 95, 96, 95, 96, 314, 315, 296, 297, 296, 297, 72, 73, 70, 71, 84, 89, 301, 302, 350, 351, 295, 296, 299, 300, 56, 48, 55, 52, 128, 129, 121, 122, 122, 123, 123, 124, 120, 121, 59, 65, 116, 117, 105, 106, 86, 87, 47, 97, 98, 95, 96, 90, 91, 74, 304, 305, 303, 304, 72, 73, 189, 190, 70, 71, 44, 45, 351, 352, 298, 299, 300, 301, 65, 60, 52, 43, 64, 70, 63, 119, 120, 117, 118, 117, 118, 114, 189, 190, 120, 121, 115, 116, 65, 66, 67, 86, 87, 95, 96, 95, 96, 298, 314, 315, 307, 308, 299, 300, 120, 121, 63, 64, 70, 71, 56, 84, 42, 36, 331, 332, 365, 366, 299, 300, 300, 301, 55, 72, 42, 82, 121, 124, 125, 171, 172, 123, 124, 122, 123, 74, 157, 158, 114, 115, 118, 119, 118, 119, 106, 107, 66, 67, 60, 38, 86, 87, 125, 126, 86, 87, 29, 92, 93, 95, 96, 90, 91, 297, 336, 337, 319, 320, 298, 299, 101, 102, 74, 75, 70, 71, 74, 53, 70, 348, 349, 296, 297, 51, 54, 36, 453, 454, 121, 122, 121, 122, 56, 161, 162, 120, 121, 120, 121, 60, 41, 91, 92, 86, 87, 74, 90, 91, 90, 91, 302, 303, 298, 299, 60, 151, 152, 70, 71, 165, 65, 51, 58, 55, 292, 293, 299, 300, 60, 36, 60, 71, 43, 51, 55, 51, 117, 199, 200, 118, 119, 118, 119, 121, 122, 124, 125, 66, 67, 56, 93, 94, 109, 110, 86, 87, 80, 129, 130, 92, 93, 90, 91, 90, 91, 28, 308, 309, 309, 310, 151, 152, 103, 104, 70, 71, 55, 362, 363, 304, 305, 59, 51, 171, 172, 121, 122, 121, 122, 44, 114, 115, 28, 54, 104, 105, 65, 66, 66, 67, 62, 63, 69, 90, 91, 95, 96, 36, 34, 309, 310, 299, 300, 286, 287, 283, 284, 113, 114, 58, 59, 70, 71, 55, 294, 295, 294, 295, 294, 295, 48, 42, 102, 103, 118, 119, 119, 120, 55, 118, 119, 115, 116, 44, 67, 68, 66, 67, 78, 136, 137, 100, 101, 86, 87, 95, 96, 90, 91, 315, 316, 317, 316, 317, 70, 71, 53, 71, 42, 73, 296, 297, 296, 297, 46, 182, 183, 123, 124, 55, 106, 107, 114, 115, 112, 113, 37, 66, 67, 65, 66, 66, 67, 82, 60, 112, 113, 86, 87, 71, 99, 100, 89, 90, 89, 90, 77, 289, 290, 285, 286, 81, 82, 106, 107, 70, 71, 43, 301, 302, 74, 70, 60, 120, 121, 122, 123, 79, 42, 166, 167, 117, 118, 118, 119, 66, 67, 46, 86, 87, 128, 129, 95, 96, 90, 91, 34, 324, 325, 286, 287, 70, 71, 37, 426, 427, 300, 301, 293, 294, 38, 28, 45, 50, 28, 76, 56, 118, 119, 120, 124, 125, 120, 121, 121, 122, 60, 65, 68, 69, 76, 77, 66, 67, 124, 125, 76, 77, 86, 87, 94, 97, 98, 90, 91, 95, 96, 64, 308, 309, 297, 298, 130, 131, 70, 71, 73, 63, 623, 624, 286, 287, 287, 288, 57, 153, 154, 140, 141, 121, 122, 122, 123, 119, 122, 123, 120, 121, 28, 147, 148, 66, 67, 61, 64, 66, 85, 219, 220, 105, 106, 86, 87, 28, 142, 143, 147, 148, 90, 91, 82, 320, 321, 320, 321, 318, 319, 70, 71, 55, 36, 58, 37, 46, 55, 82, 297, 298, 290, 291, 303, 304, 52, 37, 52, 36, 123, 124, 123, 124, 175, 176, 115, 116, 123, 124, 122, 123, 50, 61, 65, 66, 66, 67, 65, 117, 118, 86, 87, 133, 134, 95, 96, 95, 96, 34, 317, 318, 315, 316, 34, 97, 98, 70, 71, 36, 39, 55, 38, 53, 28, 46, 302, 302, 303, 303, 304, 47, 54, 119, 120, 118, 119, 136, 137, 117, 118, 117, 118, 67, 68, 66, 67, 55, 64, 65, 86, 87, 29, 48, 51, 93, 94, 90, 91, 90, 91, 42, 324, 325, 354, 355, 308, 309, 42, 70, 71, 70, 71, 43, 330, 331, 285, 286, 292, 293, 291, 292, 25, 36, 25, 56, 123, 124, 123, 124, 121, 122, 66, 67, 125, 126, 66, 67, 85, 129, 130, 86, 87, 117, 118, 151, 152, 95, 96, 48, 341, 342, 344, 345, 309, 310, 310, 311, 113, 114, 70, 71, 44, 65, 45, 302, 303, 349, 350, 293, 294, 295, 296, 56, 55, 73, 36, 69, 57, 48, 40, 118, 119, 120, 121, 120, 121, 36, 118, 146, 147, 140, 141, 119, 120, 119, 120, 58, 66, 67, 88, 89, 407, 408, 86, 87, 64, 90, 91, 287, 319, 320, 291, 292, 288, 289, 72, 113, 114, 70, 71, 28, 42, 85, 50, 70, 298, 299, 295, 296, 28, 28, 63, 51, 70, 45, 159, 160, 122, 123, 122, 123, 115, 176, 177, 120, 121, 116, 117, 113, 114, 128, 129, 66, 67, 74, 100, 101, 86, 87, 42, 95, 96, 90, 91, 54, 628, 629, 283, 284, 283, 284, 133, 134, 70, 71, 60, 51, 64, 334, 335, 301, 302, 303, 304, 55, 38, 30, 110, 111, 123, 124, 118, 119, 110, 111, 119, 120, 107, 108, 96, 97, 66, 67, 86, 87, 137, 138, 88, 89, 90, 91, 90, 91, 340, 341, 319, 320, 323, 324, 37, 99, 100, 64, 56, 69, 45, 75, 368, 369, 338, 339, 55, 38, 50, 121, 122, 253, 254, 121, 122, 121, 122, 133, 134, 122, 123, 118, 119, 66, 67, 86, 87, 44, 77, 141, 142, 90, 91, 349, 350, 337, 338, 323, 324, 323, 324, 81, 82, 70, 71, 61, 57, 52, 60, 306, 307, 290, 291, 284, 285, 28, 172, 173, 122, 123, 122, 123, 136, 137, 114, 115, 119, 120, 118, 119, 64, 410, 411, 66, 67, 93, 94, 84, 85, 86, 87, 38, 89, 90, 95, 96, 95, 96, 301, 302, 317, 318, 301, 302, 301, 302, 87, 88, 70, 71, 28, 165, 45, 369, 370, 306, 307, 306, 307, 55, 42, 46, 46, 34, 164, 165, 118, 119, 118, 119, 163, 164, 153, 154, 124, 125, 120, 121, 65, 116, 117, 66, 67, 56, 86, 87, 90, 91, 90, 91, 341, 342, 311, 312, 314, 315, 56, 57, 65, 40, 46, 308, 309, 299, 300, 306, 307, 308, 309, 62, 37, 46, 125, 126, 123, 124, 123, 124, 174, 175, 123, 124, 121, 122, 65, 100, 101, 66, 67, 100, 101, 97, 98, 58, 318, 319, 303, 304, 299, 300, 72, 73, 70, 71, 70, 71, 28, 78, 350, 351, 327, 328, 300, 301, 61, 58, 62, 120, 121, 122, 145, 146, 121, 122, 114, 115, 193, 194, 116, 117, 114, 115, 77, 78, 66, 67, 105, 106, 86, 87, 55, 122, 123, 95, 96, 95, 96, 54, 51, 34, 348, 349, 346, 347, 76, 77, 106, 107, 70, 71, 69, 50, 327, 328, 301, 302, 297, 298, 66, 120, 121, 112, 113, 118, 119, 118, 119, 68, 122, 123, 147, 148, 122, 123, 65, 88, 89, 66, 67, 64, 65, 86, 87, 54, 95, 96, 90, 91, 292, 293, 290, 291, 290, 291, 77, 53, 36, 74, 312, 313, 348, 349, 305, 306, 306, 307, 29, 56, 51, 46, 28, 132, 133, 122, 123, 122, 123, 170, 171, 120, 121, 120, 121, 60, 68, 69, 66, 67, 127, 128, 86, 87, 40, 101, 102, 95, 96, 337, 338, 293, 294, 287, 288, 36, 69, 74, 75, 70, 71, 51, 45, 55, 354, 355, 312, 313, 307, 308, 49, 63, 28, 151, 152, 122, 123, 122, 123, 56, 180, 181, 192, 193, 118, 119, 117, 118, 52, 66, 67, 34, 108, 109, 86, 87, 71, 55, 95, 96, 95, 96, 281, 282, 46, 69, 70, 71, 42, 77, 68, 62, 295, 296, 296, 297, 65, 25, 122, 123, 122, 123, 43, 129, 130, 118, 119, 92, 93, 66, 67, 88, 89, 87, 88, 86, 87, 54, 116, 117, 124, 125, 95, 96, 90, 91, 288, 289, 308, 309, 296, 297, 101, 102, 70, 71, 55, 323, 324, 291, 292, 289, 290, 81, 60, 50, 41, 121, 122, 121, 122, 108, 109, 120, 121, 116, 117, 66, 67, 70, 28, 48, 94, 95, 332, 333, 306, 307, 310, 311, 307, 308, 117, 118, 58, 59, 70, 71, 52, 48, 43, 70, 297, 313, 314, 301, 302, 298, 299, 36, 65, 123, 124, 123, 124, 148, 149, 192, 193, 117, 118, 117, 118, 116, 117, 66, 67, 61, 64, 86, 87, 42, 58, 95, 96, 95, 96, 305, 306, 320, 321, 113, 114, 58, 59, 42, 75, 46, 65, 297, 298, 288, 289, 29, 32, 55, 47, 37, 118, 119, 160, 161, 122, 123, 118, 119, 117, 153, 154, 122, 123, 118, 119, 36, 108, 109, 66, 67, 82, 82, 86, 87, 58, 109, 110, 106, 107, 95, 96, 95, 96, 58, 384, 385, 324, 325, 325, 326, 97, 98, 107, 108, 70, 71, 56, 327, 328, 326, 327, 123, 124, 160, 161, 121, 122, 121, 122, 55, 29, 119, 120, 166, 167, 118, 119, 59, 65, 77, 78, 112, 113, 66, 67, 85, 117, 118, 122, 123, 90, 91, 95, 96, 330, 331, 316, 317, 305, 306, 72, 73, 119, 120, 70, 71, 77, 49, 55, 45, 330, 331, 303, 304, 305, 306, 45, 69, 55, 177, 178, 118, 119, 118, 119, 163, 164, 118, 119, 118, 119, 80, 81, 76, 77, 66, 67, 97, 98, 112, 113, 86, 87, 89, 95, 96, 90, 91, 69, 296, 342, 343, 288, 289, 297, 298, 72, 73, 83, 84, 70, 71, 73, 25, 42, 65, 285, 286, 284, 285, 25, 65, 37, 42, 40, 55, 252, 253, 121, 122, 121, 122, 44, 159, 160, 173, 174, 115, 116, 116, 117, 66, 67, 97, 98, 105, 106, 86, 87, 90, 91, 90, 91, 352, 353, 289, 290, 59, 81, 82, 115, 116, 70, 71, 64, 69, 56, 89, 55, 73, 347, 348, 291, 292, 293, 294, 51, 51, 140, 141, 122, 123, 122, 123, 56, 149, 150, 116, 117, 116, 117, 83, 80, 81, 128, 129, 44, 54, 86, 87, 80, 81, 86, 87, 69, 137, 138, 111, 112, 90, 91, 90, 91, 290, 291, 113, 114, 70, 71, 70, 71, 75, 69, 74, 297, 298, 52, 59, 44, 144, 145, 123, 124, 122, 123, 47, 52, 116, 154, 155, 117, 118, 117, 118, 115, 116, 105, 106, 86, 87, 59, 131, 132, 95, 96, 95, 96, 51, 52, 285, 286, 305, 306, 299, 300, 72, 73, 70, 71, 80, 61, 301, 302, 304, 305, 51, 45, 58, 121, 124, 125, 120, 121, 122, 123, 159, 160, 119, 120, 118, 119, 68, 69, 410, 411, 66, 67, 56, 125, 126, 86, 87, 158, 159, 90, 91, 95, 96, 75, 344, 345, 296, 297, 300, 301, 70, 71, 76, 64, 54, 72, 328, 329, 295, 296, 297, 298, 69, 48, 73, 38, 121, 122, 121, 122, 37, 169, 170, 116, 117, 118, 119, 28, 66, 67, 69, 70, 86, 87, 55, 50, 128, 129, 90, 91, 95, 96, 316, 317, 123, 124, 70, 71, 77, 55, 55, 321, 322, 298, 299, 278, 279, 55, 38, 36, 64, 172, 173, 121, 122, 121, 122, 153, 154, 135, 136, 119, 120, 115, 116, 79, 109, 110, 108, 109, 66, 67, 56, 86, 87, 133, 134, 91, 92, 90, 91, 95, 96, 25, 333, 334, 307, 308, 313, 314, 72, 73, 67, 68, 70, 71, 33, 70, 67, 43, 69, 37, 51, 46, 80, 56, 303, 304, 309, 310, 37, 75, 56, 120, 121, 160, 161, 117, 118, 115, 116, 119, 120, 66, 67, 86, 87, 70, 36, 90, 91, 90, 91, 343, 344, 308, 309, 304, 305, 64, 99, 100, 70, 71, 74, 329, 330, 310, 311, 68, 51, 69, 52, 152, 153, 121, 122, 121, 122, 75, 53, 137, 138, 125, 126, 121, 122, 66, 67, 45, 105, 106, 86, 87, 92, 93, 86, 87, 90, 91, 90, 91, 54, 165, 383, 384, 341, 342, 308, 309, 302, 303, 77, 78, 87, 88, 70, 71, 49, 65, 65, 60, 327, 328, 290, 291, 288, 289, 55, 45, 70, 49, 28, 61, 46, 122, 128, 129, 123, 124, 123, 124, 38, 116, 164, 165, 119, 120, 117, 118, 75, 199, 200, 66, 67, 36, 431, 432, 86, 87, 93, 94, 90, 91, 95, 96, 345, 346, 312, 313, 317, 318, 72, 73, 81, 82, 70, 71, 74, 62, 46, 64, 321, 322, 306, 307, 42, 56, 54, 146, 147, 123, 124, 122, 123, 178, 179, 106, 107, 110, 111, 115, 116, 83, 84, 66, 67, 65, 61, 36, 34, 195, 196, 86, 87, 54, 92, 93, 95, 96, 90, 91, 291, 292, 299, 300, 109, 110, 58, 59, 70, 71, 33, 48, 53, 84, 58, 65, 354, 355, 349, 350, 295, 296, 55, 123, 124, 122, 123, 122, 123, 121, 122, 116, 117, 116, 117, 84, 85, 66, 67, 61, 44, 86, 87, 97, 98, 95, 96, 56, 327, 328, 344, 345, 292, 293, 289, 290, 69, 101, 102, 81, 82, 70, 71, 57, 52, 67, 63, 344, 345, 308, 309, 305, 306, 56, 52, 34, 48, 64, 120, 121, 121, 122, 38, 37, 130, 131, 124, 125, 119, 120, 79, 67, 68, 66, 67, 65, 86, 87, 83, 84, 95, 96, 90, 91, 73, 305, 294, 295, 307, 308, 306, 307, 70, 71, 63, 52, 49, 80, 320, 321, 317, 318, 28, 43, 53, 161, 162, 119, 120, 118, 119, 74, 119, 120, 59, 97, 98, 66, 67, 86, 136, 137, 64, 65, 86, 87, 133, 134, 89, 90, 94, 95, 317, 318, 315, 316, 58, 72, 73, 70, 71, 61, 58, 28, 34, 306, 307, 281, 282, 280, 281, 60, 55, 67, 69, 36, 122, 123, 122, 123, 154, 155, 180, 181, 119, 120, 119, 120, 65, 91, 92, 56, 149, 150, 84, 85, 86, 87, 145, 146, 125, 126, 95, 96, 95, 96, 307, 308, 307, 308, 306, 307, 70, 71, 54, 54, 55, 311, 312, 310, 311, 54, 46, 125, 126, 122, 123, 123, 124, 136, 137, 118, 119, 118, 119, 80, 81, 67, 68, 66, 67, 33, 86, 87, 71, 52, 95, 96, 95, 96, 405, 406, 315, 316, 306, 307, 37, 70, 71, 50, 54, 36, 64, 302, 303, 299, 300, 51, 28, 62, 120, 121, 147, 148, 118, 119, 118, 119, 181, 182, 143, 144, 122, 123, 118, 119, 68, 69, 66, 67, 48, 88, 89, 62, 63, 58, 69, 72, 75, 158, 159, 95, 96, 95, 96, 58, 75, 322, 323, 315, 316, 72, 73, 109, 110, 70, 71, 56, 70, 49, 36, 64, 337, 338, 319, 320, 289, 290, 284, 285, 66, 46, 107, 108, 121, 122, 121, 122, 164, 165, 115, 116, 114, 115, 39, 104, 105, 66, 67, 58, 84, 72, 86, 87, 28, 95, 96, 90, 91, 54, 36, 287, 280, 281, 284, 285, 69, 97, 98, 75, 61, 306, 307, 307, 308, 59, 44, 60, 146, 147, 123, 124, 119, 120, 176, 177, 117, 118, 117, 118, 97, 98, 66, 67, 109, 110, 86, 87, 52, 122, 123, 95, 96, 95, 96, 357, 358, 306, 307, 310, 311, 69, 120, 121, 56, 57, 70, 71, 38, 29, 84, 338, 339, 313, 314, 302, 303, 55, 66, 36, 46, 124, 125, 122, 123, 122, 123, 60, 114, 134, 135, 127, 128, 115, 116, 113, 114, 85, 86, 87, 89, 129, 130, 90, 91, 90, 91, 339, 340, 297, 298, 294, 295, 47, 58, 59, 70, 71, 56, 54, 59, 271, 310, 311, 608, 609, 281, 282, 272, 273, 50, 55, 46, 48, 124, 125, 146, 147, 123, 124, 122, 123, 123, 124, 122, 123, 121, 122, 44, 80, 81, 96, 97, 66, 67, 44, 133, 134, 86, 87, 57, 90, 91, 95, 96, 288, 289, 358, 359, 306, 307, 286, 287, 70, 71, 56, 38, 74, 298, 299, 49, 65, 48, 50, 80, 172, 173, 122, 123, 122, 123, 119, 120, 121, 122, 119, 120, 76, 77, 66, 67, 219, 220, 122, 123, 86, 87, 149, 150, 90, 91, 296, 297, 302, 303, 54, 58, 59, 70, 71, 274, 338, 339, 274, 275, 275, 276, 65, 66, 119, 120, 133, 134, 118, 119, 128, 129, 66, 67, 86, 87, 60, 133, 134, 95, 96, 90, 91, 383, 384, 329, 330, 331, 332, 69, 70, 71, 44, 78, 322, 323, 294, 295, 295, 296, 50, 51, 42, 34, 55, 55, 122, 123, 120, 121, 121, 122, 151, 152, 135, 136, 116, 117, 44, 116, 117, 66, 67, 43, 69, 70, 86, 87, 90, 91, 90, 91, 55, 351, 352, 616, 617, 298, 299, 92, 93, 70, 71, 73, 34, 53, 303, 304, 311, 312, 310, 311, 55, 48, 60, 57, 36, 81, 117, 101, 102, 123, 124, 118, 119, 120, 121, 119, 120, 84, 85, 65, 66, 66, 67, 34, 431, 432, 73, 74, 86, 87, 55, 77, 90, 91, 90, 91, 293, 294, 298, 299, 70, 71, 55, 62, 65, 40, 293, 294, 294, 295, 51, 45, 67, 43, 127, 128, 141, 142, 122, 123, 118, 119, 124, 125, 116, 117, 116, 117, 60, 65, 129, 130, 66, 67, 54, 86, 87, 90, 91, 90, 91, 90, 91, 58, 309, 310, 303, 304, 76, 77, 58, 59, 70, 71, 55, 79, 301, 304, 305, 302, 303, 79, 51, 36, 70, 171, 172, 122, 123, 122, 123, 71, 118, 119, 114, 115, 73, 65, 92, 93, 42, 111, 112, 115, 116, 86, 87, 95, 96, 69, 28, 309, 309, 310, 310, 311, 95, 96, 70, 71, 44, 28, 53, 47, 75, 65, 359, 360, 315, 316, 294, 295, 296, 297, 52, 71, 77, 34, 65, 120, 123, 124, 183, 184, 121, 122, 121, 122, 75, 117, 145, 146, 117, 118, 118, 119, 59, 128, 129, 66, 67, 64, 65, 86, 87, 41, 138, 139, 95, 96, 95, 96, 58, 291, 323, 324, 295, 296, 292, 293, 91, 92, 70, 71, 44, 52, 55, 311, 312, 300, 301, 77, 46, 144, 145, 122, 123, 123, 124, 122, 123, 176, 177, 119, 120, 120, 121, 96, 97, 146, 147, 87, 88, 86, 87, 70, 95, 96, 90, 91, 288, 289, 288, 289, 137, 138, 44, 85, 36, 357, 358, 308, 309, 313, 314, 46, 29, 157, 158, 143, 144, 122, 123, 122, 123, 171, 172, 131, 132, 120, 121, 120, 121, 67, 68, 109, 110, 86, 87, 96, 97, 89, 90, 94, 95, 305, 306, 289, 290, 58, 72, 73, 70, 71, 57, 43, 303, 304, 304, 305, 69, 52, 121, 122, 123, 122, 123, 120, 121, 107, 108, 66, 67, 41, 86, 87, 95, 96, 89, 90, 89, 90, 294, 295, 293, 294, 292, 293, 108, 109, 106, 107, 70, 71, 34, 28, 68, 35, 298, 298, 299, 299, 300, 155, 156, 121, 122, 121, 122, 144, 145, 120, 121, 119, 120, 129, 130, 66, 67, 86, 87, 70, 97, 98, 95, 96, 294, 295, 71, 58, 59, 70, 71, 28, 305, 316, 317, 306, 307, 45, 28, 50, 52, 34, 38, 168, 169, 147, 148, 118, 119, 118, 119, 54, 176, 177, 119, 120, 120, 121, 37, 65, 66, 67, 112, 113, 66, 67, 44, 60, 86, 87, 36, 90, 91, 95, 96, 294, 298, 299, 304, 305, 295, 296, 70, 71, 54, 65, 279, 280, 280, 281, 53, 53, 44, 150, 151, 175, 176, 122, 123, 123, 124, 113, 114, 115, 121, 122, 67, 68, 66, 67, 64, 65, 86, 87, 72, 78, 90, 91, 90, 91, 437, 438, 311, 312, 309, 310, 121, 122, 70, 71, 55, 48, 36, 62, 65, 79, 69, 314, 315, 325, 326, 69, 28, 64, 127, 128, 252, 253, 120, 121, 115, 116, 155, 156, 111, 112, 113, 114, 129, 130, 410, 411, 66, 67, 86, 87, 133, 134, 95, 96, 90, 91, 44, 34, 315, 316, 316, 317, 75, 70, 71, 75, 74, 73, 53, 47, 64, 73, 62, 36, 53, 288, 295, 296, 290, 291, 289, 290, 120, 121, 121, 122, 112, 113, 56, 73, 74, 124, 125, 85, 86, 87, 36, 90, 91, 59, 297, 298, 291, 292, 62, 97, 98, 70, 71, 36, 42, 37, 64, 54, 37, 33, 310, 311, 311, 312, 33, 69, 65, 28, 122, 123, 122, 123, 122, 123, 162, 163, 117, 118, 121, 122, 73, 74, 66, 67, 75, 117, 118, 76, 77, 69, 95, 96, 95, 96, 298, 299, 308, 309, 292, 293, 57, 129, 130, 82, 83, 47, 45, 65, 51, 360, 361, 299, 300, 310, 311, 56, 50, 36, 46, 63, 123, 124, 122, 123, 121, 122, 119, 120, 139, 140, 117, 118, 113, 114, 128, 129, 66, 67, 64, 57, 30, 85, 86, 87, 97, 98, 90, 91, 95, 96, 51, 58, 286, 334, 335, 334, 335, 289, 290, 44, 70, 71, 55, 55, 40, 51, 33, 336, 337, 311, 312, 310, 311, 55, 46, 70, 61, 61, 63, 466, 467, 126, 127, 122, 123, 121, 122, 117, 118, 117, 118, 45, 66, 67, 139, 140, 86, 87, 137, 138, 90, 91, 300, 301, 309, 310, 60, 71, 70, 71, 106, 107, 48, 50, 45, 68, 57, 284, 275, 276, 283, 284, 285, 286, 57, 69, 185, 186, 195, 196, 114, 115, 59, 66, 67, 28, 139, 140, 68, 69, 108, 109, 106, 107, 90, 91, 90, 91, 311, 326, 327, 303, 304, 314, 315, 312, 313, 58, 70, 71, 66, 69, 312, 313, 308, 309, 53, 65, 51, 65, 57, 63, 48, 51, 153, 154, 123, 124, 123, 124, 58, 34, 153, 154, 118, 119, 114, 115, 125, 126, 66, 67, 62, 63, 86, 87, 58, 129, 130, 92, 93, 90, 91, 90, 91, 350, 351, 264, 265, 296, 297, 62, 63, 70, 71, 43, 284, 285, 297, 298, 290, 291, 72, 51, 28, 74, 48, 143, 144, 122, 123, 122, 123, 117, 118, 66, 67, 149, 150, 86, 87, 95, 96, 49, 290, 291, 291, 292, 70, 71, 44, 54, 278, 279, 285, 286, 290, 291, 36, 46, 54, 130, 131, 122, 123, 121, 122, 132, 133, 169, 170, 121, 122, 37, 66, 67, 66, 67, 97, 98, 86, 87, 44, 54, 95, 96, 122, 123, 95, 96, 95, 96, 54, 315, 375, 376, 337, 338, 314, 315, 316, 317, 72, 73, 99, 100, 70, 71, 51, 48, 324, 325, 286, 287, 304, 305, 25, 42, 34, 61, 38, 122, 123, 121, 122, 162, 163, 116, 117, 111, 112, 66, 67, 80, 85, 86, 87, 64, 90, 91, 90, 91, 50, 322, 323, 321, 322, 58, 103, 104, 73, 44, 36, 310, 311, 267, 268, 280, 281, 279, 280, 52, 67, 25, 46, 118, 119, 122, 123, 125, 126, 53, 128, 129, 66, 67, 52, 44, 49, 88, 89, 86, 87, 55, 56, 95, 96, 90, 91, 74, 301, 302, 300, 301, 28, 97, 98, 70, 71, 54, 36, 34, 83, 51, 317, 318, 56, 65, 49, 34, 69, 34, 59, 33, 123, 124, 121, 122, 121, 122, 176, 177, 118, 119, 116, 117, 28, 79, 80, 66, 67, 74, 86, 87, 49, 53, 95, 96, 95, 96, 60, 300, 303, 304, 311, 312, 300, 301, 301, 302, 58, 36, 70, 71, 63, 25, 69, 314, 315, 54, 51, 117, 118, 117, 118, 138, 139, 117, 118, 118, 119, 105, 106, 66, 67, 86, 87, 90, 91, 149, 150, 90, 91, 90, 91, 68, 284, 285, 283, 284, 281, 282, 69, 72, 73, 70, 71, 79, 308, 311, 312, 308, 309, 309, 310, 53, 48, 69, 42, 121, 124, 125, 123, 124, 122, 123, 47, 159, 160, 118, 119, 86, 66, 67, 49, 86, 87, 52, 86, 87, 94, 95, 94, 95, 44, 41, 299, 300, 284, 285, 285, 286, 46, 105, 106, 99, 100, 70, 71, 43, 46, 51, 165, 350, 351, 308, 309, 312, 313, 53, 44, 44, 48, 42, 55, 140, 141, 108, 109, 122, 123, 122, 123, 121, 122, 121, 122, 77, 78, 116, 117, 66, 67, 44, 86, 87, 44, 42, 78, 90, 91, 90, 91, 68, 286, 287, 287, 288, 83, 84, 70, 71, 66, 38, 70, 65, 44, 313, 314, 326, 327, 72, 52, 51, 59, 44, 54, 81, 119, 120, 119, 120, 245, 246, 118, 119, 53, 65, 97, 98, 90, 91, 66, 67, 88, 167, 168, 80, 81, 86, 87, 94, 95, 89, 90, 299, 300, 113, 114, 70, 71, 70, 71, 65, 80, 65, 44, 355, 356, 337, 338, 333, 334, 51, 36, 80, 78, 63, 121, 122, 121, 122, 124, 125, 113, 114, 113, 114, 66, 67, 86, 87, 95, 96, 90, 91, 322, 323, 69, 70, 71, 48, 55, 39, 60, 43, 55, 47, 42, 307, 308, 312, 313, 313, 314, 37, 51, 34, 119, 120, 119, 120, 119, 120, 191, 192, 116, 117, 65, 108, 109, 86, 87, 95, 96, 90, 91, 310, 311, 308, 309, 308, 309, 60, 61, 43, 335, 336, 349, 350, 305, 306, 45, 52, 117, 120, 121, 118, 119, 75, 155, 156, 124, 125, 118, 119, 59, 66, 67, 37, 111, 112, 86, 87, 81, 82, 90, 91, 90, 91, 313, 314, 322, 323, 319, 320, 119, 120, 70, 71, 53, 61, 288, 289, 290, 291, 28, 45, 63, 122, 123, 124, 123, 124, 58, 117, 118, 114, 115, 115, 116, 66, 67, 50, 64, 65, 86, 87, 44, 56, 90, 91, 95, 96, 343, 344, 315, 316, 318, 319, 133, 134, 70, 71, 278, 330, 331, 278, 279, 279, 280, 36, 63, 121, 114, 115, 122, 123, 122, 123, 115, 116, 173, 174, 116, 117, 34, 65, 66, 42, 100, 101, 97, 98, 86, 87, 52, 121, 122, 162, 163, 95, 96, 282, 276, 277, 283, 284, 121, 122, 103, 104, 70, 71, 73, 55, 65, 332, 333, 292, 293, 301, 302, 71, 54, 46, 36, 121, 122, 123, 124, 119, 120, 70, 147, 148, 117, 118, 116, 117, 97, 98, 125, 126, 66, 67, 86, 87, 36, 54, 44, 97, 98, 82, 83, 90, 91, 46, 298, 299, 298, 299, 300, 301, 58, 111, 112, 70, 71, 29, 45, 79, 310, 311, 337, 338, 307, 308, 308, 309, 74, 52, 36, 51, 75, 34, 33, 122, 123, 75, 248, 249, 123, 124, 116, 117, 115, 116, 80, 81, 79, 80, 66, 67, 44, 130, 131, 122, 123, 90, 91, 95, 96, 80, 299, 300, 278, 279, 290, 291, 70, 71, 33, 332, 333, 296, 297, 75, 38, 161, 162, 142, 143, 118, 119, 118, 119, 117, 129, 130, 118, 119, 59, 66, 67, 43, 56, 86, 87, 94, 214, 215, 309, 310, 298, 299, 415, 416, 70, 71, 61, 52, 315, 316, 321, 322, 319, 320, 43, 50, 123, 124, 123, 124, 123, 124, 69, 166, 167, 150, 151, 116, 117, 115, 116, 38, 71, 72, 66, 67, 139, 140, 86, 87, 95, 96, 90, 91, 46, 318, 319, 313, 314, 33, 151, 152, 58, 59, 56, 46, 72, 43, 29, 36, 81, 358, 359, 308, 309, 308, 309, 51, 36, 123, 124, 119, 120, 115, 116, 115, 116, 87, 88, 66, 67, 92, 93, 64, 65, 86, 87, 125, 126, 90, 91, 95, 96, 359, 360, 295, 296, 296, 297, 56, 57, 70, 71, 44, 39, 65, 340, 341, 412, 413, 300, 301, 52, 64, 129, 130, 150, 151, 122, 123, 123, 124, 117, 118, 116, 117, 53, 66, 67, 63, 36, 93, 94, 86, 87, 36, 153, 154, 121, 122, 90, 91, 90, 91, 305, 306, 319, 320, 69, 70, 71, 74, 56, 57, 44, 59, 333, 334, 310, 311, 311, 312, 71, 51, 136, 137, 253, 254, 122, 123, 122, 123, 154, 155, 117, 118, 113, 114, 44, 105, 106, 76, 77, 66, 67, 44, 115, 116, 86, 87, 38, 95, 96, 95, 96, 95, 96, 28, 296, 292, 293, 305, 306, 297, 298, 77, 133, 134, 115, 116, 70, 71, 42, 54, 46, 322, 323, 290, 291, 291, 292, 29, 136, 137, 121, 122, 122, 123, 120, 121, 162, 163, 118, 119, 118, 119, 54, 44, 104, 105, 128, 129, 66, 67, 86, 87, 90, 91, 95, 96, 41, 54, 373, 374, 312, 313, 310, 311, 70, 71, 70, 71, 55, 309, 310, 287, 288, 295, 296, 73, 71, 51, 38, 37, 168, 169, 122, 123, 122, 123, 49, 156, 157, 114, 115, 115, 116, 68, 69, 146, 147, 66, 67, 84, 71, 133, 134, 103, 104, 86, 87, 97, 98, 95, 96, 95, 96, 42, 314, 315, 293, 294, 91, 92, 70, 71, 50, 326, 327, 334, 335, 310, 311, 308, 309, 75, 56, 65, 54, 45, 49, 77, 28, 77, 121, 122, 121, 122, 113, 164, 165, 241, 242, 115, 116, 114, 115, 68, 69, 66, 67, 43, 88, 89, 86, 87, 106, 107, 95, 96, 54, 305, 306, 307, 308, 70, 71, 79, 53, 75, 64, 65, 323, 324, 339, 340, 299, 300, 50, 56, 51, 52, 199, 200, 118, 119, 118, 119, 60, 166, 167, 118, 119, 125, 126, 36, 146, 147, 47, 60, 122, 123, 86, 87, 117, 118, 95, 96, 95, 96, 288, 289, 296, 297, 70, 71, 28, 76, 37, 84, 286, 287, 283, 284, 81, 43, 57, 45, 43, 47, 153, 154, 119, 120, 118, 119, 126, 127, 123, 124, 129, 130, 67, 68, 66, 67, 29, 57, 163, 164, 90, 91, 41, 295, 296, 296, 297, 70, 71, 55, 43, 302, 303, 296, 297, 33, 72, 76, 123, 124, 122, 123, 75, 176, 177, 115, 116, 116, 117, 44, 129, 130, 65, 66, 66, 67, 133, 134, 86, 87, 99, 100, 88, 89, 72, 309, 310, 316, 317, 316, 317, 120, 121, 106, 107, 70, 71, 65, 53, 70, 57, 28, 295, 296, 286, 287, 299, 300, 295, 296, 44, 36, 25, 55, 152, 153, 130, 131, 121, 122, 121, 122, 126, 127, 115, 116, 66, 67, 66, 67, 57, 80, 93, 94, 86, 87, 38, 117, 118, 90, 91, 95, 96, 45, 358, 359, 284, 285, 284, 285, 57, 69, 72, 73, 103, 104, 70, 71, 70, 43, 44, 56, 336, 337, 359, 360, 317, 318, 314, 315, 61, 69, 51, 70, 156, 157, 178, 179, 121, 122, 113, 114, 113, 114, 109, 110, 66, 67, 86, 87, 105, 106, 95, 96, 95, 96, 302, 303, 273, 274, 275, 276, 277, 278, 69, 107, 108, 70, 71, 68, 74, 75, 42, 56, 51, 321, 322, 304, 305, 320, 321, 310, 311, 74, 52, 51, 28, 73, 54, 46, 170, 171, 121, 122, 121, 122, 117, 118, 115, 116, 46, 119, 120, 66, 67, 64, 85, 86, 87, 42, 90, 91, 90, 91, 36, 335, 336, 301, 302, 53, 106, 107, 70, 71, 43, 52, 54, 292, 293, 294, 295, 291, 292, 45, 52, 54, 251, 252, 189, 190, 70, 119, 159, 160, 177, 178, 122, 123, 120, 121, 77, 68, 69, 66, 67, 51, 85, 88, 89, 86, 87, 67, 95, 96, 95, 96, 327, 328, 332, 333, 301, 302, 302, 303, 45, 70, 71, 72, 55, 82, 50, 302, 303, 292, 293, 291, 292, 45, 64, 70, 47, 55, 122, 123, 123, 124, 56, 140, 141, 121, 122, 120, 121, 124, 125, 66, 67, 97, 98, 407, 408, 44, 141, 142, 149, 150, 90, 91, 90, 91, 64, 319, 320, 322, 323, 47, 58, 59, 70, 71, 48, 69, 54, 36, 34, 85, 48, 334, 335, 320, 321, 298, 299, 303, 304, 38, 64, 51, 71, 28, 55, 121, 122, 237, 238, 121, 122, 121, 122, 55, 152, 153, 122, 123, 116, 117, 117, 118, 43, 80, 81, 66, 67, 108, 109, 86, 87, 75, 113, 114, 95, 96, 51, 59, 306, 307, 305, 306, 121, 122, 70, 71, 55, 56, 38, 54, 52, 45, 366, 367, 307, 308, 306, 307, 44, 42, 178, 179, 122, 123, 121, 122, 118, 119, 115, 116, 68, 69, 66, 67, 60, 125, 126, 86, 87, 58, 56, 434, 435, 86, 87, 94, 95, 89, 90, 336, 337, 283, 284, 286, 287, 57, 52, 72, 73, 54, 33, 36, 343, 344, 293, 294, 292, 293, 51, 65, 28, 65, 121, 124, 125, 122, 123, 199, 200, 119, 120, 118, 119, 70, 65, 104, 105, 67, 68, 66, 67, 50, 86, 87, 129, 130, 219, 220, 90, 91, 297, 298, 295, 296, 70, 71, 51, 68, 55, 46, 69, 55, 50, 363, 364, 351, 352, 307, 308, 310, 311, 57, 51, 158, 159, 117, 118, 118, 119, 55, 29, 116, 124, 125, 116, 117, 117, 118, 199, 200, 115, 116, 66, 67, 149, 150, 86, 87, 59, 89, 90, 91, 64, 312, 313, 305, 306, 312, 313, 310, 311, 52, 116, 117, 70, 71, 36, 51, 63, 42, 275, 276, 277, 276, 277, 55, 63, 71, 49, 122, 123, 122, 123, 118, 158, 159, 151, 152, 119, 120, 119, 120, 66, 67, 97, 98, 86, 87, 132, 133, 90, 91, 90, 91, 70, 296, 297, 351, 352, 298, 299, 296, 297, 81, 82, 70, 71, 77, 44, 47, 325, 326, 313, 314, 311, 312, 60, 64, 51, 140, 141, 118, 119, 118, 119, 114, 117, 118, 115, 116, 71, 72, 66, 67, 37, 64, 58, 86, 87, 89, 90, 91, 90, 91, 90, 91, 342, 343, 304, 305, 96, 97, 70, 71, 67, 54, 36, 73, 296, 297, 293, 294, 59, 72, 30, 59, 29, 122, 123, 122, 123, 43, 119, 120, 118, 119, 39, 66, 67, 75, 219, 220, 101, 102, 86, 87, 38, 44, 137, 138, 95, 96, 90, 91, 362, 363, 319, 320, 319, 320, 58, 109, 110, 70, 71, 70, 75, 53, 37, 54, 50, 345, 346, 301, 302, 282, 283, 56, 46, 56, 51, 76, 69, 28, 46, 122, 123, 122, 123, 117, 118, 158, 159, 117, 118, 117, 118, 79, 108, 109, 66, 67, 85, 93, 94, 86, 87, 109, 110, 101, 102, 90, 91, 95, 96, 46, 306, 307, 302, 303, 70, 71, 46, 55, 79, 25, 321, 349, 350, 367, 368, 322, 323, 69, 65, 106, 107, 121, 122, 36, 73, 111, 112, 154, 155, 117, 118, 111, 112, 68, 69, 66, 67, 53, 33, 64, 65, 86, 87, 68, 72, 146, 147, 90, 91, 95, 96, 28, 321, 325, 326, 322, 323, 72, 73, 41, 74, 50, 65, 75, 55, 40, 290, 290, 291, 74, 48, 51, 33, 36, 39, 51, 122, 123, 118, 119, 116, 117, 115, 116, 79, 66, 67, 37, 104, 105, 86, 87, 36, 90, 91, 95, 96, 386, 387, 320, 321, 321, 322, 323, 324, 70, 71, 49, 43, 67, 68, 34, 40, 79, 70, 339, 340, 312, 313, 313, 314, 45, 75, 122, 117, 118, 123, 124, 123, 124, 55, 121, 122, 122, 123, 78, 91, 92, 66, 67, 112, 113, 86, 87, 89, 90, 89, 90, 82, 369, 370, 325, 326, 331, 332, 82, 70, 71, 82, 42, 303, 304, 304, 305, 25, 69, 29, 54, 87, 122, 123, 123, 124, 122, 123, 117, 118, 65, 66, 66, 67, 49, 76, 56, 125, 126, 64, 65, 86, 87, 96, 97, 117, 118, 95, 96, 90, 91, 296, 297, 301, 302, 305, 306, 57, 75, 401, 402, 70, 71, 81, 53, 55, 65, 36, 334, 335, 298, 299, 301, 302, 303, 304, 56, 73, 50, 48, 63, 28, 29, 172, 173, 122, 123, 122, 123, 36, 252, 253, 197, 198, 126, 127, 119, 120, 84, 85, 125, 126, 66, 67, 64, 86, 87, 62, 63, 86, 87, 149, 150, 90, 91, 90, 91, 311, 312, 69, 73, 59, 45, 64, 309, 310, 286, 287, 287, 288, 51, 74, 28, 171, 172, 143, 144, 119, 120, 118, 119, 118, 119, 65, 66, 67, 88, 89, 86, 87, 90, 91, 90, 91, 284, 285, 289, 290, 119, 120, 28, 275, 278, 279, 276, 277, 28, 36, 42, 50, 61, 105, 106, 122, 123, 122, 123, 179, 180, 119, 120, 119, 120, 66, 67, 69, 70, 94, 95, 94, 95, 277, 278, 291, 292, 291, 292, 72, 73, 81, 82, 70, 71, 54, 84, 281, 284, 285, 284, 285, 282, 283, 52, 126, 127, 144, 145, 118, 119, 119, 120, 172, 173, 159, 160, 119, 120, 119, 120, 56, 63, 66, 67, 80, 133, 134, 125, 126, 86, 87, 90, 91, 125, 126, 95, 96, 90, 91, 36, 73, 55, 288, 289, 287, 288, 36, 121, 122, 70, 71, 40, 78, 66, 79, 309, 310, 281, 282, 282, 283, 56, 51, 56, 56, 36, 46, 149, 150, 121, 122, 121, 122, 155, 156, 116, 117, 410, 411, 66, 67, 86, 87, 71, 89, 90, 91, 90, 91, 90, 91, 307, 308, 305, 306, 38, 203, 204, 36, 69, 74, 295, 296, 42, 61, 36, 28, 181, 182, 123, 124, 122, 123, 118, 119, 75, 122, 123, 86, 87, 70, 95, 96, 55, 55, 322, 323, 304, 305, 306, 307, 62, 70, 71, 38, 48, 57, 317, 318, 291, 292, 292, 293, 57, 37, 72, 148, 149, 122, 123, 122, 123, 48, 128, 129, 34, 66, 67, 115, 116, 66, 67, 64, 44, 129, 130, 143, 144, 86, 87, 122, 123, 90, 91, 294, 295, 348, 349, 299, 300, 294, 295, 189, 190, 70, 71, 44, 35, 85, 64, 358, 359, 286, 287, 295, 296, 65, 28, 60, 121, 122, 122, 123, 127, 128, 117, 118, 116, 117, 96, 97, 66, 67, 57, 92, 93, 109, 110, 86, 87, 54, 95, 96, 95, 96, 41, 301, 302, 299, 300, 301, 302, 72, 73, 87, 88, 70, 71, 68, 55, 312, 313, 283, 284, 281, 282, 55, 75, 120, 121, 124, 125, 123, 124, 122, 123, 117, 118, 66, 67, 407, 408, 86, 87, 95, 96, 90, 91, 371, 372, 324, 325, 70, 71, 70, 71, 53, 52, 330, 331, 302, 303, 66, 57, 55, 74, 36, 182, 183, 122, 123, 122, 123, 122, 123, 118, 119, 65, 66, 67, 55, 117, 118, 86, 87, 36, 119, 120, 82, 83, 89, 90, 94, 95, 304, 305, 295, 296, 303, 304, 304, 305, 70, 71, 65, 298, 299, 281, 282, 286, 287, 287, 288, 69, 51, 55, 28, 144, 145, 124, 125, 119, 120, 164, 165, 124, 125, 119, 120, 46, 52, 108, 109, 66, 67, 86, 87, 71, 138, 139, 90, 91, 95, 96, 383, 384, 309, 310, 311, 312, 70, 71, 84, 64, 85, 291, 292, 298, 299, 297, 298, 55, 57, 29, 50, 124, 125, 123, 124, 191, 192, 113, 114, 112, 113, 48, 96, 97, 66, 67, 113, 114, 90, 91, 90, 91, 51, 54, 56, 275, 276, 279, 280, 69, 52, 88, 283, 284, 295, 296, 292, 293, 60, 37, 121, 122, 121, 122, 73, 180, 181, 117, 118, 75, 72, 73, 90, 91, 66, 67, 51, 76, 85, 136, 137, 86, 87, 55, 89, 90, 90, 91, 95, 96, 51, 356, 357, 296, 297, 309, 310, 70, 71, 50, 54, 89, 300, 320, 321, 301, 302, 28, 77, 164, 165, 200, 201, 121, 122, 121, 122, 113, 177, 178, 119, 120, 93, 94, 96, 97, 66, 67, 124, 125, 125, 126, 86, 87, 46, 89, 128, 129, 144, 145, 95, 96, 90, 91, 311, 312, 312, 313, 70, 71, 68, 79, 28, 350, 351, 311, 312, 312, 313, 35, 37, 37, 66, 129, 130, 118, 119, 118, 119, 169, 170, 116, 117, 116, 117, 92, 93, 66, 67, 33, 86, 87, 55, 42, 124, 125, 95, 96, 95, 96, 371, 372, 365, 366, 307, 308, 308, 309, 43, 78, 79, 70, 71, 74, 52, 50, 310, 311, 332, 333, 309, 310, 308, 309, 36, 36, 83, 121, 122, 123, 122, 123, 122, 123, 120, 121, 120, 121, 66, 67, 37, 100, 101, 86, 87, 167, 168, 89, 90, 94, 95, 52, 80, 302, 303, 308, 309, 304, 305, 43, 111, 112, 103, 104, 70, 71, 66, 57, 55, 28, 368, 369, 317, 318, 318, 319, 48, 77, 120, 121, 118, 119, 75, 123, 124, 121, 122, 121, 122, 79, 80, 66, 67, 84, 109, 110, 86, 87, 94, 95, 89, 90, 295, 296, 101, 102, 70, 71, 56, 70, 83, 65, 310, 311, 308, 309, 36, 46, 77, 120, 121, 122, 121, 122, 176, 177, 117, 118, 116, 117, 411, 412, 66, 67, 88, 89, 80, 81, 86, 87, 55, 115, 116, 149, 150, 95, 96, 77, 311, 312, 316, 317, 67, 68, 70, 71, 69, 77, 298, 299, 300, 301, 65, 66, 54, 118, 119, 118, 119, 114, 165, 166, 114, 115, 115, 116, 66, 67, 83, 86, 87, 73, 95, 96, 95, 96, 95, 96, 46, 295, 296, 300, 301, 300, 301, 57, 69, 70, 71, 43, 69, 66, 46, 309, 310, 287, 288, 60, 70, 34, 51, 59, 42, 120, 121, 118, 119, 138, 139, 164, 165, 116, 117, 68, 69, 112, 113, 66, 67, 44, 47, 86, 87, 134, 135, 95, 96, 289, 290, 287, 288, 289, 290, 59, 44, 69, 58, 59, 70, 71, 56, 63, 441, 442, 316, 317, 317, 318, 65, 81, 123, 124, 159, 160, 121, 122, 121, 122, 192, 193, 116, 117, 117, 118, 147, 148, 128, 129, 36, 93, 94, 90, 91, 90, 91, 36, 305, 306, 299, 300, 288, 289, 77, 35, 56, 57, 81, 41, 65, 35, 64, 52, 42, 38, 65, 101, 102, 118, 119, 118, 119, 123, 124, 120, 121, 93, 94, 410, 411, 66, 67, 47, 64, 65, 86, 87, 42, 77, 138, 139, 95, 96, 95, 96, 41, 281, 282, 70, 71, 35, 305, 306, 309, 310, 54, 55, 41, 37, 66, 36, 123, 124, 119, 120, 153, 154, 114, 115, 114, 115, 65, 115, 116, 66, 67, 48, 88, 89, 89, 90, 86, 87, 48, 90, 91, 90, 91, 90, 91, 70, 299, 300, 51, 87, 88, 70, 71, 38, 54, 306, 307, 305, 306, 304, 305, 34, 48, 51, 234, 235, 119, 120, 118, 119, 55, 120, 121, 119, 120, 65, 66, 66, 67, 50, 69, 158, 159, 95, 96, 95, 96, 73, 353, 354, 301, 302, 304, 305, 306, 307, 70, 71, 55, 53, 318, 319, 314, 315, 310, 311, 316, 317, 46, 52, 47, 173, 174, 122, 123, 122, 123, 119, 120, 113, 114, 115, 116, 129, 130, 66, 67, 88, 89, 86, 87, 41, 60, 121, 122, 92, 93, 90, 91, 90, 91, 300, 301, 298, 299, 107, 108, 70, 71, 56, 77, 60, 28, 338, 339, 282, 283, 283, 284, 35, 122, 123, 122, 123, 122, 123, 56, 163, 164, 116, 117, 120, 121, 120, 121, 67, 68, 66, 67, 64, 65, 86, 87, 95, 96, 90, 91, 58, 308, 307, 308, 309, 310, 70, 71, 51, 33, 345, 346, 308, 309, 301, 302, 30, 55, 28, 37, 65, 43, 122, 123, 122, 123, 118, 119, 75, 97, 98, 66, 67, 86, 87, 58, 88, 89, 95, 96, 95, 96, 275, 282, 283, 261, 262, 276, 277, 276, 277, 48, 81, 82, 115, 116, 70, 71, 33, 286, 322, 323, 289, 290, 287, 288, 35, 51, 60, 132, 133, 122, 123, 121, 122, 119, 120, 92, 93, 66, 67, 117, 118, 86, 87, 79, 41, 106, 107, 103, 104, 95, 96, 95, 96, 360, 361, 323, 324, 322, 323, 51, 105, 106, 70, 71, 67, 79, 54, 296, 297, 285, 286, 286, 287, 294, 295, 56, 36, 45, 64, 140, 141, 119, 120, 119, 120, 118, 119, 76, 77, 66, 67, 46, 59, 86, 87, 28, 94, 90, 91, 95, 96, 48, 285, 286, 70, 71, 54, 323, 324, 300, 301, 301, 302, 57, 69, 44, 34, 122, 123, 120, 121, 120, 121, 119, 120, 36, 65, 66, 67, 25, 88, 89, 69, 70, 86, 87, 140, 141, 88, 89, 93, 94, 77, 314, 315, 314, 315, 108, 109, 70, 71, 55, 60, 45, 286, 287, 286, 287, 284, 285, 54, 40, 51, 47, 37, 55, 70, 185, 186, 122, 123, 123, 124, 122, 123, 65, 119, 120, 119, 120, 66, 67, 29, 25, 84, 85, 86, 87, 95, 96, 90, 91, 55, 309, 306, 307, 310, 311, 72, 42, 121, 122, 70, 71, 64, 48, 55, 33, 28, 355, 356, 325, 326, 307, 308, 308, 309, 56, 38, 48, 51, 33, 60, 134, 135, 171, 172, 122, 123, 123, 124, 179, 180, 128, 129, 119, 120, 66, 67, 103, 104, 143, 144, 86, 87, 121, 122, 90, 91, 358, 359, 299, 300, 298, 299, 55, 117, 118, 58, 59, 70, 71, 71, 51, 55, 286, 287, 325, 326, 291, 292, 42, 121, 122, 123, 120, 121, 118, 119, 65, 66, 67, 108, 109, 86, 87, 77, 95, 96, 90, 91, 343, 344, 304, 305, 305, 306, 70, 71, 70, 71, 36, 73, 48, 74, 651, 652, 310, 311, 305, 306, 306, 307, 79, 75, 60, 36, 54, 123, 124, 157, 158, 122, 123, 123, 124, 163, 164, 122, 123, 116, 117, 60, 68, 69, 66, 67, 80, 219, 220, 52, 95, 96, 90, 91, 286, 287, 302, 303, 77, 56, 57, 165, 74, 350, 351, 316, 317, 303, 304, 52, 51, 57, 64, 146, 147, 60, 115, 163, 164, 116, 117, 116, 117, 66, 67, 73, 74, 33, 97, 98, 83, 84, 90, 91, 95, 96, 58, 52, 348, 349, 294, 295, 295, 296, 70, 71, 29, 45, 302, 303, 286, 287, 283, 284, 25, 83, 51, 29, 123, 124, 119, 120, 118, 119, 80, 81, 66, 67, 88, 89, 93, 94, 28, 76, 97, 98, 113, 114, 95, 96, 36, 77, 333, 334, 304, 305, 306, 307, 117, 118, 70, 71, 56, 36, 69, 56, 71, 302, 303, 312, 313, 307, 308, 59, 46, 164, 165, 119, 120, 119, 120, 55, 114, 115, 34, 84, 85, 65, 66, 66, 67, 50, 86, 87, 54, 95, 96, 90, 91, 68, 43, 291, 292, 288, 289, 289, 290, 57, 60, 53, 73, 65, 64, 293, 294, 295, 295, 296, 294, 295, 59, 52, 52, 147, 148, 120, 121, 118, 119, 120, 120, 121, 72, 73, 66, 67, 86, 87, 57, 146, 147, 90, 91, 95, 96, 52, 42, 345, 346, 284, 285, 70, 71, 54, 281, 282, 289, 290, 289, 290, 66, 59, 44, 71, 51, 46, 61, 55, 81, 158, 159, 122, 123, 121, 122, 120, 121, 92, 93, 66, 67, 44, 44, 85, 86, 87, 165, 46, 155, 156, 95, 96, 95, 96, 52, 343, 344, 360, 361, 291, 292, 119, 120, 77, 45, 66, 346, 347, 298, 299, 320, 321, 55, 468, 469, 123, 124, 123, 124, 131, 132, 116, 117, 117, 118, 50, 88, 89, 65, 66, 66, 67, 85, 86, 87, 89, 131, 132, 84, 85, 95, 96, 90, 91, 310, 311, 306, 307, 308, 309, 70, 71, 53, 28, 36, 84, 333, 334, 342, 343, 313, 314, 311, 312, 71, 55, 171, 172, 101, 102, 119, 120, 118, 119, 161, 162, 121, 122, 68, 69, 72, 73, 66, 67, 63, 76, 129, 130, 62, 63, 86, 87, 91, 92, 90, 91, 95, 96, 70, 379, 380, 340, 341, 329, 330, 117, 118, 70, 71, 65, 29, 34, 85, 54, 378, 379, 335, 336, 310, 311, 297, 298, 28, 50, 52, 51, 48, 122, 123, 122, 123, 33, 179, 180, 118, 119, 116, 117, 66, 67, 86, 87, 25, 89, 90, 89, 90, 312, 376, 377, 358, 359, 310, 311, 313, 314, 83, 84, 70, 71, 43, 43, 350, 351, 331, 332, 305, 306, 297, 298, 45, 71, 36, 81, 74, 46, 118, 119, 122, 123, 118, 119, 124, 125, 79, 80, 66, 67, 219, 220, 100, 101, 86, 87, 50, 141, 142, 90, 91, 95, 96, 345, 346, 333, 334, 306, 307, 109, 110, 99, 100, 70, 71, 50, 50, 330, 331, 332, 333, 296, 297, 304, 305, 65, 46, 75, 36, 30, 146, 147, 123, 124, 119, 120, 121, 122, 59, 80, 81, 100, 101, 66, 67, 86, 87, 72, 90, 91, 90, 91, 63, 366, 367, 312, 313, 415, 416, 70, 71, 36, 43, 343, 344, 647, 648, 302, 303, 308, 309, 36, 43, 51, 48, 44, 122, 123, 43, 120, 121, 112, 113, 65, 66, 66, 67, 74, 85, 86, 87, 129, 130, 95, 96, 90, 91, 41, 337, 338, 283, 284, 69, 54, 75, 54, 79, 353, 354, 291, 292, 290, 291, 48, 167, 168, 123, 124, 122, 123, 166, 167, 179, 180, 119, 120, 119, 120, 44, 105, 106, 90, 91, 66, 67, 86, 87, 125, 126, 95, 96, 370, 371, 350, 351, 327, 328, 327, 328, 115, 116, 43, 55, 75, 42, 59, 303, 385, 386, 318, 319, 305, 306, 304, 305, 45, 48, 65, 72, 168, 169, 118, 119, 123, 124, 161, 162, 120, 121, 44, 65, 109, 110, 66, 67, 137, 138, 86, 87, 150, 151, 127, 128, 90, 91, 90, 91, 36, 40, 285, 286, 70, 71, 71, 58, 54, 290, 291, 274, 275, 288, 289, 290, 291, 122, 123, 118, 119, 35, 121, 122, 116, 117, 116, 117, 66, 67, 116, 117, 66, 67, 46, 28, 167, 168, 60, 57, 90, 91, 90, 91, 44, 58, 304, 305, 330, 331, 289, 290, 290, 291, 70, 71, 28, 47, 77, 44, 69, 34, 36, 80, 300, 301, 301, 302, 56, 57, 121, 116, 117, 122, 123, 113, 115, 116, 66, 67, 54, 65, 143, 144, 86, 87, 30, 81, 148, 149, 95, 96, 95, 96, 52, 317, 318, 425, 426, 311, 312, 311, 312, 44, 72, 73, 70, 71, 38, 63, 84, 285, 286, 318, 319, 291, 292, 285, 286, 79, 38, 41, 37, 122, 123, 65, 119, 120, 118, 119, 74, 96, 97, 34, 149, 150, 86, 87, 72, 146, 147, 144, 145, 95, 96, 95, 96, 355, 356, 295, 296, 320, 321, 203, 204, 76, 52, 312, 313, 308, 309, 74, 29, 121, 123, 124, 131, 132, 118, 119, 113, 114, 53, 125, 126, 79, 80, 66, 67, 70, 80, 149, 150, 101, 102, 86, 87, 51, 36, 62, 87, 88, 89, 338, 339, 307, 308, 91, 92, 70, 71, 70, 64, 165, 53, 75, 56, 320, 321, 311, 312, 38, 45, 29, 48, 64, 450, 451, 122, 123, 122, 123, 242, 243, 122, 123, 115, 116, 66, 67, 64, 28, 88, 89, 86, 87, 42, 143, 144, 95, 96, 90, 91, 36, 332, 333, 299, 300, 312, 313, 60, 46, 70, 71, 62, 43, 55, 274, 275, 275, 276, 75, 178, 179, 118, 119, 123, 124, 166, 167, 113, 114, 112, 113, 112, 113, 66, 67, 28, 117, 118, 62, 63, 86, 87, 90, 91, 90, 91, 56, 306, 307, 286, 287, 288, 289, 284, 285, 49, 75, 46, 64, 43, 55, 46, 63, 295, 296, 293, 294, 72, 75, 65, 67, 47, 65, 116, 148, 149, 159, 160, 119, 120, 117, 118, 60, 115, 116, 115, 116, 65, 97, 98, 104, 105, 66, 67, 42, 92, 93, 86, 87, 56, 52, 95, 96, 37, 298, 299, 300, 301, 28, 53, 151, 152, 70, 71, 55, 345, 346, 330, 331, 292, 293, 37, 29, 73, 139, 140, 121, 122, 121, 122, 131, 132, 121, 122, 48, 65, 66, 66, 67, 75, 93, 94, 86, 87, 142, 143, 116, 117, 90, 91, 95, 96, 29, 46, 327, 328, 313, 314, 313, 314, 69, 103, 104, 70, 71, 36, 53, 73, 286, 287, 321, 322, 293, 294, 286, 287, 79, 51, 43, 73, 159, 160, 122, 123, 123, 124, 108, 109, 113, 114, 91, 92, 112, 113, 66, 67, 49, 85, 133, 134, 73, 74, 86, 87, 79, 95, 96, 90, 91, 54, 345, 346, 300, 301, 306, 307, 302, 303, 70, 71, 70, 71, 29, 74, 42, 51, 296, 297, 294, 295, 75, 52, 120, 121, 119, 120, 118, 119, 118, 119, 56, 141, 142, 123, 124, 119, 120, 119, 120, 66, 67, 29, 64, 65, 86, 87, 89, 97, 98, 111, 112, 90, 91, 77, 318, 319, 320, 70, 71, 69, 37, 49, 72, 50, 360, 361, 319, 320, 336, 337, 333, 334, 67, 42, 164, 165, 120, 121, 121, 122, 122, 123, 120, 121, 68, 69, 410, 411, 66, 67, 28, 86, 87, 78, 110, 111, 106, 107, 46, 271, 272, 270, 271, 81, 82, 83, 70, 71, 63, 306, 307, 303, 304, 289, 290, 306, 307, 55, 25, 36, 39, 121, 122, 123, 122, 123, 68, 50, 115, 116, 77, 80, 81, 66, 67, 97, 98, 86, 87, 56, 154, 155, 130, 131, 95, 96, 95, 96, 321, 322, 319, 320, 75, 84, 85, 70, 71, 64, 65, 292, 293, 277, 278, 292, 293, 56, 119, 120, 119, 120, 181, 182, 119, 120, 118, 119, 65, 109, 110, 66, 67, 42, 64, 65, 80, 92, 93, 90, 91, 95, 96, 281, 282, 315, 316, 309, 310, 69, 121, 122, 109, 110, 70, 71, 43, 50, 51, 60, 306, 307, 310, 311, 46, 45, 59, 52, 161, 162, 116, 117, 122, 123, 118, 119, 115, 117, 118, 121, 122, 116, 117, 129, 130, 115, 116, 66, 67, 61, 36, 51, 86, 87, 97, 98, 90, 91, 95, 96, 43, 361, 362, 285, 286, 280, 281, 36, 72, 73, 106, 107, 70, 71, 53, 40, 289, 290, 287, 288, 29, 118, 119, 118, 119, 118, 119, 119, 120, 119, 120, 43, 71, 72, 66, 67, 30, 136, 137, 64, 65, 86, 87, 90, 91, 90, 91, 74, 291, 292, 294, 295, 56, 57, 70, 71, 55, 56, 80, 295, 294, 295, 296, 297, 71, 37, 52, 52, 48, 54, 43, 120, 121, 122, 121, 122, 144, 145, 109, 110, 114, 115, 113, 114, 43, 36, 66, 67, 113, 114, 86, 87, 91, 92, 103, 104, 94, 95, 89, 90, 294, 295, 326, 327, 289, 290, 292, 293, 57, 97, 98, 78, 79, 70, 71, 46, 55, 66, 61, 84, 54, 294, 295, 304, 305, 303, 304, 69, 55, 37, 36, 59, 56, 173, 174, 123, 124, 122, 123, 152, 153, 177, 178, 117, 118, 126, 127, 66, 67, 78, 55, 56, 115, 116, 52, 124, 125, 90, 91, 90, 91, 297, 298, 291, 292, 69, 103, 104, 70, 71, 54, 50, 55, 44, 82, 50, 291, 292, 292, 293, 46, 55, 37, 34, 62, 50, 119, 120, 118, 119, 74, 200, 201, 120, 121, 88, 89, 76, 77, 66, 67, 76, 88, 89, 86, 87, 141, 142, 95, 96, 342, 343, 362, 363, 319, 320, 317, 318, 70, 71, 40, 69, 302, 303, 287, 288, 288, 289, 52, 43, 38, 51, 468, 469, 121, 122, 123, 124, 116, 117, 116, 117, 91, 92, 103, 104, 66, 67, 65, 117, 118, 86, 87, 36, 133, 134, 95, 96, 95, 96, 399, 400, 274, 275, 274, 275, 56, 57, 70, 71, 34, 36, 53, 50, 51, 61, 82, 366, 367, 297, 298, 303, 304, 69, 28, 63, 61, 50, 255, 256, 123, 124, 120, 121, 122, 123, 37, 166, 167, 109, 110, 113, 114, 115, 116, 411, 412, 66, 67, 86, 87, 89, 90, 89, 90, 89, 90, 44, 290, 291, 300, 301, 296, 297, 133, 134, 62, 63, 70, 71, 26, 68, 51, 49, 55, 52, 304, 305, 374, 375, 308, 309, 297, 298, 118, 119, 118, 119, 112, 160, 161, 138, 139, 113, 114, 113, 114, 55, 147, 148, 66, 67, 51, 64, 108, 109, 86, 87, 91, 92, 94, 95, 94, 95, 390, 391, 307, 308, 70, 71, 29, 55, 165, 331, 332, 296, 297, 28, 55, 46, 158, 159, 118, 119, 118, 119, 56, 115, 169, 170, 116, 117, 69, 28, 66, 67, 127, 128, 86, 87, 77, 137, 138, 90, 91, 90, 91, 295, 296, 295, 296, 58, 59, 70, 71, 69, 42, 55, 34, 306, 307, 307, 308, 81, 36, 124, 125, 127, 128, 122, 123, 122, 123, 71, 120, 121, 121, 122, 68, 69, 128, 129, 66, 67, 117, 118, 86, 87, 65, 55, 45, 145, 146, 130, 131, 95, 96, 343, 344, 307, 308, 84, 85, 58, 59, 70, 71, 36, 51, 42, 348, 349, 307, 308, 56, 52, 52, 37, 118, 119, 123, 124, 118, 119, 159, 160, 118, 119, 114, 115, 79, 84, 85, 125, 126, 66, 67, 52, 145, 146, 86, 87, 95, 96, 90, 91, 68, 328, 329, 334, 335, 44, 72, 73, 70, 71, 71, 62, 43, 47, 80, 64, 277, 278, 269, 270, 277, 278, 275, 276, 47, 51, 110, 111, 120, 121, 122, 123, 116, 161, 162, 120, 121, 117, 118, 77, 66, 67, 56, 58, 85, 86, 87, 81, 82, 95, 96, 90, 91, 73, 291, 292, 295, 296, 296, 297, 58, 59, 70, 71, 75, 40, 73, 48, 661, 662, 321, 322, 324, 325, 45, 53, 124, 125, 122, 123, 138, 139, 112, 113, 116, 117, 71, 72, 66, 67, 28, 86, 87, 60, 92, 93, 214, 215, 95, 96, 90, 91, 44, 299, 300, 301, 302, 71, 120, 121, 70, 71, 53, 64, 36, 65, 279, 280, 301, 302, 299, 300, 47, 79, 54, 71, 136, 137, 118, 119, 119, 120, 164, 165, 122, 123, 101, 102, 104, 105, 66, 67, 44, 86, 87, 75, 162, 163, 95, 96, 90, 91, 55, 630, 631, 304, 305, 293, 294, 70, 71, 54, 50, 46, 65, 350, 351, 319, 320, 63, 58, 133, 134, 168, 169, 123, 124, 119, 120, 143, 144, 119, 120, 72, 73, 66, 67, 56, 88, 89, 167, 168, 94, 95, 94, 95, 55, 325, 326, 348, 349, 315, 316, 319, 320, 57, 87, 88, 70, 71, 44, 36, 74, 89, 89, 42, 288, 289, 287, 288, 71, 51, 165, 42, 64, 169, 170, 124, 125, 122, 123, 120, 121, 121, 122, 411, 412, 66, 67, 48, 97, 98, 86, 87, 55, 45, 106, 107, 95, 96, 95, 96, 298, 346, 347, 296, 297, 299, 300, 57, 72, 73, 70, 71, 33, 317, 315, 316, 325, 326, 318, 319, 52, 66, 52, 36, 62, 122, 123, 122, 123, 69, 117, 159, 160, 112, 113, 122, 123, 118, 119, 80, 81, 66, 67, 71, 153, 154, 90, 91, 90, 91, 58, 326, 327, 293, 294, 295, 296, 87, 88, 70, 71, 55, 55, 291, 318, 319, 291, 292, 292, 293, 48, 77, 168, 169, 118, 119, 118, 119, 144, 145, 163, 164, 80, 81, 83, 84, 66, 67, 64, 65, 86, 87, 28, 96, 97, 91, 92, 89, 90, 94, 95, 44, 295, 296, 286, 287, 293, 294, 34, 111, 112, 91, 92, 70, 71, 55, 50, 56, 53, 288, 288, 289, 289, 290, 74, 69, 75, 44, 54, 63, 77, 159, 160, 118, 119, 118, 119, 79, 47, 136, 137, 114, 115, 114, 115, 129, 130, 65, 66, 66, 67, 48, 88, 89, 64, 65, 86, 87, 67, 95, 96, 72, 314, 315, 309, 310, 309, 310, 70, 71, 53, 44, 62, 55, 300, 301, 303, 304, 298, 299, 45, 121, 122, 123, 122, 123, 116, 117, 119, 120, 116, 117, 146, 147, 66, 67, 75, 86, 87, 96, 97, 95, 96, 90, 91, 43, 316, 317, 308, 309, 311, 312, 310, 311, 101, 102, 70, 71, 38, 68, 48, 28, 301, 316, 317, 299, 300, 302, 303, 50, 47, 70, 71, 52, 130, 131, 122, 123, 121, 122, 116, 117, 120, 121, 120, 121, 116, 117, 67, 68, 66, 67, 89, 90, 86, 87, 171, 172, 95, 96, 90, 91, 297, 298, 203, 204, 58, 59, 290, 289, 290, 291, 292, 36, 58, 42, 202, 203, 121, 122, 121, 122, 117, 118, 120, 121, 115, 116, 66, 67, 86, 87, 59, 89, 90, 89, 90, 54, 291, 292, 304, 305, 77, 78, 55, 62, 75, 36, 314, 356, 357, 314, 315, 315, 316, 65, 56, 59, 48, 46, 172, 173, 123, 124, 121, 122, 52, 115, 127, 128, 117, 118, 116, 117, 79, 119, 120, 91, 92, 66, 67, 112, 113, 86, 87, 125, 126, 90, 91, 90, 91, 54, 58, 333, 334, 283, 284, 289, 290, 290, 291, 58, 59, 70, 71, 59, 28, 35, 50, 317, 318, 318, 319, 80, 56, 71, 71, 168, 169, 122, 123, 120, 121, 117, 118, 118, 119, 104, 105, 66, 67, 117, 118, 93, 94, 86, 87, 57, 58, 132, 133, 95, 96, 90, 91, 296, 299, 300, 297, 298, 58, 59, 65, 55, 305, 319, 320, 305, 306, 306, 307, 52, 70, 46, 48, 158, 159, 127, 128, 119, 120, 119, 120, 162, 163, 117, 118, 115, 116, 115, 116, 66, 67, 96, 97, 66, 67, 86, 87, 40, 223, 224, 95, 96, 90, 91, 305, 343, 344, 307, 308, 306, 307, 36, 101, 102, 70, 71, 64, 61, 84, 42, 306, 307, 292, 293, 293, 294, 52, 36, 50, 55, 119, 120, 121, 122, 119, 120, 113, 114, 121, 122, 113, 114, 66, 67, 64, 86, 87, 45, 89, 133, 134, 219, 220, 90, 91, 90, 91, 328, 329, 325, 326, 326, 327, 76, 77, 70, 71, 54, 75, 297, 298, 297, 298, 72, 36, 70, 50, 203, 204, 127, 128, 123, 124, 65, 141, 142, 116, 117, 116, 117, 55, 117, 118, 65, 66, 66, 67, 51, 36, 129, 130, 86, 87, 90, 91, 90, 91, 54, 49, 344, 345, 327, 328, 28, 97, 98, 70, 71, 53, 44, 47, 41, 28, 300, 301, 295, 296, 299, 300, 298, 299, 65, 55, 36, 124, 125, 120, 121, 122, 123, 165, 166, 164, 165, 117, 118, 118, 119, 66, 67, 56, 94, 130, 131, 95, 96, 95, 96, 308, 309, 294, 295, 296, 297, 297, 298, 81, 82, 64, 55, 54, 55, 86, 45, 319, 320, 299, 300, 297, 298, 40, 124, 125, 116, 117, 114, 115, 63, 66, 67, 41, 88, 89, 112, 113, 86, 87, 72, 94, 95, 94, 95, 55, 60, 327, 328, 324, 325, 286, 287, 286, 287, 415, 416, 70, 71, 53, 50, 78, 320, 321, 314, 315, 75, 65, 36, 184, 185, 121, 122, 121, 122, 111, 112, 116, 117, 112, 113, 66, 67, 61, 44, 407, 408, 86, 87, 90, 91, 95, 96, 69, 320, 321, 316, 317, 306, 307, 36, 70, 71, 59, 42, 59, 65, 310, 311, 305, 306, 297, 298, 50, 71, 73, 66, 157, 158, 121, 122, 122, 123, 60, 75, 183, 184, 143, 144, 120, 121, 101, 102, 66, 67, 85, 93, 94, 86, 87, 47, 130, 131, 90, 91, 95, 96, 75, 37, 295, 356, 357, 339, 340, 297, 298, 296, 297, 123, 124, 70, 71, 79, 46, 65, 299, 300, 298, 299, 43, 165, 123, 124, 122, 123, 117, 118, 117, 118, 66, 67, 78, 127, 128, 69, 70, 86, 87, 94, 95, 89, 90, 58, 349, 350, 311, 312, 310, 311, 69, 107, 108, 70, 71, 80, 58, 356, 357, 305, 306, 306, 307, 60, 51, 45, 66, 46, 122, 123, 121, 122, 55, 117, 118, 118, 119, 66, 67, 48, 85, 92, 93, 90, 91, 338, 339, 313, 314, 312, 313, 42, 70, 71, 44, 56, 33, 82, 65, 37, 295, 296, 45, 44, 64, 66, 153, 154, 118, 119, 118, 119, 113, 114, 115, 114, 115, 74, 91, 92, 66, 67, 103, 104, 74, 91, 92, 90, 91, 95, 96, 350, 351, 321, 322, 323, 324, 58, 70, 71, 54, 70, 78, 60, 69, 288, 289, 63, 44, 62, 46, 51, 46, 122, 123, 122, 123, 121, 173, 174, 163, 164, 121, 122, 122, 123, 116, 117, 66, 67, 143, 144, 86, 87, 140, 141, 90, 91, 90, 91, 54, 293, 294, 289, 290, 69, 70, 71, 56, 65, 55, 70, 359, 360, 292, 293, 299, 300, 66, 28, 51, 25, 120, 121, 161, 162, 118, 119, 118, 119, 56, 118, 119, 120, 121, 66, 67, 86, 87, 75, 52, 57, 93, 94, 90, 91, 95, 96, 318, 319, 331, 332, 279, 280, 280, 281, 115, 116, 70, 71, 28, 57, 45, 304, 305, 36, 65, 40, 42, 120, 171, 172, 104, 105, 121, 122, 121, 122, 116, 117, 118, 48, 117, 118, 66, 67, 129, 130, 125, 126, 86, 87, 58, 100, 101, 90, 91, 90, 91, 58, 338, 339, 340, 341, 297, 298, 295, 296, 57, 70, 71, 43, 38, 79, 319, 320, 313, 314, 64, 75, 122, 123, 123, 124, 122, 123, 122, 123, 36, 108, 109, 76, 77, 86, 87, 26, 145, 146, 90, 91, 95, 96, 72, 324, 325, 277, 278, 58, 36, 115, 116, 50, 62, 84, 74, 288, 289, 311, 312, 287, 288, 288, 289, 55, 77, 71, 33, 136, 137, 118, 119, 118, 119, 52, 132, 133, 118, 119, 116, 117, 66, 67, 54, 56, 76, 77, 86, 87, 46, 93, 94, 95, 96, 90, 91, 346, 347, 309, 310, 311, 312, 72, 73, 56, 57, 70, 71, 56, 44, 52, 48, 293, 294, 315, 316, 298, 299, 76, 36, 48, 28, 169, 170, 123, 124, 122, 123, 122, 123, 70, 120, 121, 120, 121, 43, 73, 74, 106, 107, 66, 67, 56, 86, 87, 36, 95, 96, 95, 96, 34, 43, 265, 266, 277, 278, 274, 275, 77, 108, 109, 70, 71, 165, 63, 52, 288, 289, 284, 285, 51, 42, 178, 179, 124, 125, 119, 120, 54, 116, 117, 115, 116, 66, 67, 76, 86, 87, 81, 90, 91, 95, 96, 90, 91, 51, 34, 279, 280, 277, 278, 105, 106, 81, 82, 70, 71, 48, 34, 294, 295, 316, 317, 310, 311, 48, 51, 37, 29, 127, 128, 121, 122, 121, 122, 110, 111, 111, 112, 59, 92, 93, 66, 67, 88, 89, 143, 144, 86, 87, 163, 164, 90, 91, 90, 91, 58, 312, 313, 313, 314, 107, 108, 70, 71, 40, 71, 54, 306, 307, 310, 311, 304, 305, 28, 71, 51, 81, 63, 62, 34, 128, 129, 119, 120, 52, 150, 151, 119, 120, 119, 120, 66, 67, 25, 36, 86, 87, 36, 76, 104, 105, 144, 145, 90, 91, 90, 91, 78, 320, 321, 329, 330, 299, 300, 295, 296, 70, 71, 64, 78, 53, 344, 345, 280, 281, 281, 282, 34, 52, 48, 61, 43, 54, 78, 170, 171, 122, 123, 122, 123, 133, 134, 121, 122, 122, 123, 96, 97, 66, 67, 48, 81, 97, 98, 86, 87, 89, 153, 154, 90, 91, 90, 91, 56, 73, 311, 312, 318, 319, 316, 317, 56, 84, 85, 99, 100, 70, 71, 43, 45, 315, 347, 348, 373, 374, 327, 328, 69, 50, 58, 60, 33, 117, 127, 128, 118, 119, 118, 119, 72, 121, 122, 120, 121, 73, 74, 128, 129, 66, 67, 129, 130, 86, 87, 79, 158, 159, 90, 91, 95, 96, 28, 73, 302, 303, 303, 304, 117, 118, 106, 107, 70, 71, 36, 50, 56, 37, 297, 298, 65, 81, 54, 36, 54, 39, 249, 250, 119, 120, 119, 120, 117, 118, 117, 118, 65, 100, 101, 66, 67, 84, 129, 130, 86, 87, 78, 148, 149, 94, 95, 89, 90, 330, 331, 301, 302, 296, 297, 415, 416, 99, 100, 70, 71, 55, 49, 51, 423, 424, 316, 317, 306, 307, 71, 52, 75, 51, 34, 121, 122, 122, 123, 121, 122, 110, 111, 118, 119, 116, 117, 46, 66, 67, 66, 67, 44, 121, 122, 96, 97, 95, 96, 90, 91, 54, 28, 283, 284, 291, 292, 288, 289, 70, 71, 60, 55, 55, 283, 284, 284, 285, 61, 55, 28, 51, 140, 141, 142, 143, 118, 119, 118, 119, 62, 122, 123, 124, 123, 124, 92, 93, 66, 67, 80, 146, 147, 86, 87, 81, 90, 91, 95, 96, 90, 91, 40, 336, 337, 345, 346, 310, 311, 311, 312, 73, 108, 109, 70, 71, 57, 64, 56, 338, 339, 296, 297, 56, 51, 51, 72, 64, 43, 52, 121, 122, 119, 120, 115, 123, 124, 135, 136, 116, 117, 116, 117, 75, 75, 92, 93, 66, 67, 86, 87, 51, 36, 58, 95, 96, 90, 91, 336, 337, 321, 322, 322, 323, 70, 71, 75, 43, 55, 53, 66, 54, 82, 328, 329, 302, 303, 301, 302, 46, 45, 138, 139, 122, 123, 122, 123, 56, 115, 116, 113, 114, 66, 67, 86, 87, 86, 87, 90, 91, 90, 91, 90, 91, 62, 646, 647, 280, 281, 299, 300, 301, 302, 28, 99, 100, 70, 71, 75, 49, 45, 44, 42, 80, 352, 353, 329, 330, 57, 53, 28, 148, 149, 123, 124, 122, 123, 28, 167, 168, 117, 118, 116, 117, 38, 105, 106, 79, 80, 66, 67, 122, 123, 86, 87, 70, 64, 89, 136, 137, 90, 91, 90, 91, 75, 292, 293, 290, 291, 58, 78, 111, 112, 109, 110, 70, 71, 45, 63, 36, 42, 75, 296, 328, 329, 301, 302, 297, 298, 52, 49, 38, 59, 54, 73, 185, 186, 183, 184, 121, 122, 122, 123, 115, 118, 119, 116, 117, 116, 117, 73, 65, 66, 67, 25, 145, 146, 86, 87, 71, 71, 149, 150, 90, 91, 90, 91, 64, 58, 282, 283, 283, 284, 133, 134, 103, 104, 70, 71, 29, 81, 52, 56, 306, 307, 304, 305, 46, 123, 124, 121, 122, 69, 116, 117, 97, 98, 92, 93, 66, 67, 85, 86, 87, 62, 63, 86, 87, 112, 113, 89, 90, 94, 95, 54, 369, 370, 313, 314, 328, 329, 326, 327, 103, 104, 70, 71, 55, 281, 282, 280, 281, 75, 26, 48, 62, 65, 118, 150, 151, 121, 122, 116, 117, 110, 111, 113, 114, 114, 115, 112, 113, 66, 67, 85, 92, 93, 86, 87, 113, 114, 95, 96, 95, 96, 281, 323, 324, 282, 283, 282, 283, 59, 44, 38, 33, 75, 288, 289, 289, 290, 64, 45, 46, 46, 29, 139, 140, 124, 125, 123, 124, 142, 143, 116, 117, 117, 118, 65, 66, 66, 67, 149, 150, 86, 87, 71, 145, 146, 95, 96, 95, 96, 72, 59, 42, 323, 324, 316, 317, 310, 311, 95, 96, 70, 71, 44, 28, 55, 337, 338, 288, 289, 287, 288, 77, 55, 78, 66, 121, 136, 137, 121, 122, 122, 123, 154, 155, 122, 123, 117, 118, 73, 74, 66, 67, 112, 113, 407, 408, 86, 87, 36, 128, 129, 124, 125, 90, 91, 341, 342, 304, 305, 305, 306, 60, 58, 59, 70, 71, 56, 34, 75, 53, 294, 295, 288, 289, 290, 291, 72, 52, 51, 54, 83, 122, 123, 122, 123, 169, 170, 120, 121, 118, 119, 199, 200, 66, 67, 79, 133, 134, 54, 112, 113, 90, 91, 90, 91, 58, 316, 317, 312, 313, 75, 81, 82, 56, 57, 70, 71, 67, 71, 25, 343, 344, 305, 306, 316, 317, 47, 57, 65, 28, 169, 170, 118, 119, 118, 119, 161, 162, 116, 117, 117, 118, 118, 119, 101, 102, 79, 65, 41, 69, 90, 91, 90, 91, 54, 54, 321, 322, 286, 287, 70, 71, 58, 59, 70, 71, 42, 74, 36, 48, 47, 75, 299, 300, 287, 288, 70, 46, 143, 144, 122, 123, 117, 118, 52, 74, 117, 168, 169, 165, 166, 119, 120, 118, 119, 47, 199, 200, 79, 80, 66, 67, 62, 63, 86, 87, 60, 38, 77, 153, 154, 117, 118, 90, 91, 90, 91, 54, 305, 306, 353, 354, 296, 297, 69, 72, 73, 70, 71, 65, 59, 45, 89, 319, 320, 337, 338, 292, 293, 71, 46, 70, 161, 162, 122, 123, 122, 123, 65, 122, 123, 121, 122, 67, 68, 66, 67, 100, 101, 62, 63, 86, 87, 52, 97, 98, 90, 91, 90, 91, 34, 363, 364, 334, 335, 301, 302, 304, 305, 70, 71, 79, 33, 350, 351, 304, 305, 60, 51, 60, 42, 51, 121, 123, 124, 122, 123, 117, 118, 119, 120, 115, 116, 67, 68, 57, 86, 87, 56, 42, 94, 95, 89, 90, 293, 294, 295, 121, 122, 70, 71, 57, 60, 36, 312, 313, 338, 339, 320, 321, 312, 313, 44, 45, 71, 44, 69, 58, 68, 64, 120, 147, 148, 121, 122, 121, 122, 73, 119, 142, 143, 120, 121, 66, 67, 36, 50, 106, 107, 432, 433, 95, 96, 95, 96, 44, 33, 297, 298, 291, 292, 292, 293, 77, 78, 137, 138, 70, 71, 55, 60, 308, 309, 298, 299, 56, 50, 52, 46, 38, 122, 123, 118, 119, 51, 73, 111, 112, 114, 115, 115, 116, 72, 73, 198, 199, 66, 67, 64, 65, 86, 87, 28, 43, 95, 96, 292, 293, 103, 104, 70, 71, 52, 43, 80, 82, 55, 57, 52, 266, 267, 275, 276, 264, 265, 25, 55, 50, 58, 76, 131, 132, 122, 123, 117, 118, 136, 137, 453, 454, 119, 120, 114, 115, 97, 98, 66, 67, 64, 86, 87, 86, 87, 102, 103, 89, 90, 89, 90, 333, 334, 295, 296, 81, 129, 130, 70, 71, 56, 75, 74, 294, 295, 294, 295, 60, 80, 141, 142, 122, 123, 123, 124, 115, 116, 116, 117, 118, 119, 66, 67, 52, 86, 87, 33, 97, 98, 144, 145, 95, 96, 95, 96, 446, 447, 352, 353, 295, 296, 313, 314, 67, 68, 70, 71, 64, 65, 74, 280, 281, 290, 291, 280, 281, 52, 51, 43, 51, 61, 169, 170, 123, 124, 118, 119, 110, 111, 118, 119, 116, 117, 66, 67, 85, 86, 87, 63, 92, 93, 88, 89, 95, 96, 90, 91, 64, 45, 290, 291, 288, 289, 70, 71, 28, 59, 45, 28, 71, 322, 323, 288, 289, 284, 285, 51, 45, 58, 52, 118, 119, 119, 120, 127, 128, 122, 123, 66, 67, 60, 41, 149, 150, 74, 95, 96, 90, 91, 50, 343, 344, 303, 304, 299, 300, 72, 73, 58, 59, 70, 71, 42, 57, 321, 322, 306, 307, 37, 118, 119, 118, 119, 118, 119, 117, 118, 115, 116, 115, 116, 107, 108, 66, 67, 83, 54, 97, 98, 64, 65, 86, 87, 57, 54, 149, 150, 145, 146, 90, 91, 375, 376, 311, 312, 312, 313, 36, 55, 65, 55, 323, 324, 319, 320, 320, 321, 321, 322, 55, 51, 119, 120, 119, 120, 42, 122, 123, 80, 81, 66, 67, 195, 196, 86, 87, 56, 75, 91, 92, 90, 91, 95, 96, 41, 294, 295, 322, 323, 291, 292, 292, 293, 70, 71, 54, 78, 52, 294, 295, 310, 311, 55, 50, 57, 66, 119, 122, 123, 120, 121, 25, 117, 165, 166, 118, 119, 118, 119, 67, 68, 66, 67, 80, 44, 86, 87, 125, 126, 86, 87, 55, 36, 94, 95, 94, 95, 64, 54, 44, 306, 307, 323, 324, 401, 402, 70, 71, 57, 45, 75, 69, 38, 283, 285, 286, 294, 295, 284, 285, 60, 45, 46, 126, 127, 122, 123, 122, 123, 69, 118, 119, 115, 116, 109, 110, 96, 97, 66, 67, 61, 219, 220, 44, 113, 114, 95, 96, 95, 96, 70, 300, 301, 292, 293, 71, 117, 118, 70, 71, 56, 41, 52, 64, 65, 332, 333, 361, 362, 309, 310, 310, 311, 52, 52, 71, 56, 42, 54, 71, 46, 161, 162, 118, 119, 118, 119, 50, 125, 126, 123, 124, 97, 98, 66, 67, 62, 63, 86, 87, 71, 95, 96, 90, 91, 305, 306, 286, 287, 37, 56, 57, 70, 71, 44, 54, 54, 49, 64, 37, 64, 317, 318, 297, 298, 298, 299, 69, 54, 65, 84, 45, 34, 160, 161, 122, 123, 45, 47, 116, 170, 171, 119, 120, 117, 118, 129, 130, 61, 36, 51, 145, 146, 73, 74, 34, 90, 91, 133, 134, 90, 91, 90, 91, 334, 335, 302, 303, 303, 304, 308, 309, 133, 134, 56, 79, 285, 419, 420, 320, 321, 286, 287, 36, 44, 36, 51, 51, 60, 72, 45, 122, 123, 124, 161, 162, 121, 122, 116, 117, 118, 119, 91, 92, 66, 67, 82, 86, 87, 56, 158, 159, 54, 55, 48, 291, 292, 296, 297, 296, 297, 55, 49, 49, 273, 274, 285, 286, 281, 282, 72, 51, 45, 76, 36, 59, 72, 121, 140, 141, 162, 163, 122, 123, 122, 123, 123, 124, 123, 124, 28, 43, 64, 65, 116, 117, 67, 68, 86, 87, 140, 141, 90, 91, 90, 91, 54, 334, 335, 302, 303, 291, 292, 76, 63, 64, 54, 45, 65, 55, 310, 311, 309, 310, 308, 309, 59, 121, 122, 160, 161, 149, 150, 116, 117, 117, 118, 65, 66, 66, 67, 105, 106, 86, 87, 94, 95, 96, 95, 96, 54, 316, 317, 322, 323, 323, 324, 57, 41, 70, 71, 43, 85, 70, 56, 285, 286, 293, 294, 294, 295, 53, 77, 54, 158, 159, 124, 125, 118, 119, 119, 120, 69, 139, 140, 118, 119, 118, 119, 77, 66, 67, 66, 67, 86, 87, 75, 90, 91, 92, 93, 90, 91, 90, 91, 58, 308, 323, 324, 326, 327, 298, 299, 309, 310, 70, 71, 69, 65, 43, 66, 302, 303, 303, 304, 48, 106, 107, 121, 122, 121, 122, 123, 124, 122, 123, 121, 122, 34, 66, 67, 86, 87, 176, 177, 131, 132, 95, 96, 95, 96, 55, 34, 357, 358, 283, 284, 296, 297, 294, 295, 54, 70, 71, 44, 72, 45, 36, 334, 335, 332, 333, 298, 299, 299, 300, 55, 123, 124, 121, 122, 65, 166, 167, 117, 118, 103, 104, 66, 67, 66, 28, 85, 88, 89, 86, 87, 93, 94, 90, 91, 90, 91, 58, 332, 333, 286, 287, 292, 293, 293, 294, 77, 67, 68, 70, 71, 43, 67, 60, 52, 309, 310, 310, 311, 37, 48, 36, 50, 87, 160, 161, 121, 122, 122, 123, 181, 182, 119, 120, 118, 119, 68, 69, 66, 67, 136, 137, 93, 94, 86, 87, 28, 150, 151, 95, 96, 304, 304, 305, 305, 306, 129, 130, 70, 71, 38, 56, 283, 284, 328, 329, 283, 284, 56, 28, 68, 51, 140, 141, 122, 123, 35, 123, 124, 124, 125, 121, 122, 74, 83, 88, 89, 407, 408, 86, 87, 57, 94, 95, 302, 303, 303, 304, 120, 121, 70, 71, 54, 80, 340, 341, 280, 281, 281, 282, 46, 55, 79, 36, 46, 118, 119, 119, 120, 120, 121, 55, 72, 117, 191, 192, 118, 119, 118, 119, 97, 98, 66, 67, 62, 63, 86, 87, 90, 91, 95, 96, 326, 327, 309, 310, 308, 309, 70, 71, 77, 290, 291, 324, 325, 285, 286, 64, 49, 166, 167, 123, 124, 119, 120, 55, 170, 171, 119, 120, 120, 121, 113, 114, 86, 87, 47, 122, 123, 95, 96, 95, 96, 330, 331, 312, 313, 315, 316, 44, 70, 71, 42, 84, 165, 314, 315, 313, 314, 314, 315, 67, 71, 65, 36, 143, 144, 119, 120, 118, 119, 118, 119, 116, 117, 125, 126, 118, 119, 66, 67, 83, 86, 87, 140, 141, 92, 93, 90, 91, 90, 91, 58, 62, 348, 349, 295, 296, 295, 296, 70, 71, 65, 44, 36, 266, 267, 297, 298, 290, 291, 72, 35, 463, 464, 159, 160, 120, 121, 118, 119, 160, 161, 116, 117, 117, 118, 59, 68, 69, 66, 67, 125, 126, 122, 123, 86, 87, 104, 105, 108, 109, 90, 91, 90, 91, 343, 344, 328, 329, 329, 330, 76, 77, 107, 108, 70, 71, 55, 295, 296, 342, 343, 288, 289, 295, 296, 46, 55, 28, 28, 121, 172, 173, 122, 123, 36, 116, 117, 114, 115, 117, 118, 83, 84, 66, 67, 82, 143, 144, 86, 87, 57, 89, 100, 101, 95, 96, 90, 91, 37, 62, 63, 372, 373, 334, 335, 329, 330, 72, 35, 120, 121, 70, 71, 34, 70, 52, 83, 75, 28, 280, 281, 288, 289, 289, 290, 55, 56, 122, 123, 122, 123, 149, 150, 113, 114, 114, 115, 198, 199, 66, 67, 52, 58, 137, 138, 125, 126, 86, 87, 76, 94, 106, 107, 90, 91, 95, 96, 33, 325, 326, 319, 320, 151, 152, 70, 71, 50, 45, 74, 36, 314, 362, 363, 348, 349, 316, 317, 315, 316, 53, 72, 44, 46, 120, 121, 120, 121, 137, 138, 121, 122, 119, 120, 80, 97, 98, 115, 116, 66, 67, 61, 54, 108, 109, 86, 87, 115, 116, 82, 83, 90, 91, 90, 91, 304, 305, 305, 306, 70, 71, 55, 43, 44, 85, 70, 60, 295, 296, 297, 298, 56, 30, 170, 171, 123, 124, 122, 123, 142, 143, 117, 118, 115, 116, 88, 89, 52, 117, 118, 86, 87, 50, 94, 95, 94, 95, 41, 333, 334, 339, 340, 339, 340, 91, 92, 70, 71, 41, 68, 68, 53, 68, 310, 311, 308, 309, 45, 61, 60, 201, 202, 134, 135, 120, 121, 120, 121, 74, 119, 120, 120, 121, 61, 68, 69, 65, 66, 66, 67, 49, 101, 102, 90, 91, 302, 303, 308, 309, 294, 295, 103, 104, 70, 71, 62, 63, 28, 54, 36, 82, 316, 317, 314, 315, 34, 46, 124, 125, 238, 239, 122, 123, 122, 123, 117, 118, 115, 116, 97, 98, 67, 68, 115, 116, 86, 87, 38, 28, 90, 91, 90, 91, 377, 378, 314, 315, 314, 315, 109, 110, 62, 63, 70, 71, 32, 48, 36, 49, 298, 299, 293, 294, 36, 51, 42, 122, 123, 122, 123, 75, 119, 120, 122, 123, 66, 67, 149, 150, 86, 87, 36, 71, 153, 154, 95, 96, 90, 91, 325, 326, 306, 307, 313, 314, 101, 102, 83, 84, 70, 71, 49, 35, 55, 29, 68, 300, 301, 312, 313, 71, 51, 36, 158, 159, 122, 123, 118, 119, 162, 163, 124, 125, 121, 122, 116, 117, 66, 67, 28, 112, 113, 86, 87, 29, 144, 145, 95, 96, 90, 91, 297, 298, 313, 314, 311, 312, 117, 118, 36, 35, 40, 65, 309, 310, 305, 306, 58, 45, 38, 159, 160, 122, 123, 122, 123, 116, 117, 117, 118, 66, 67, 89, 90, 86, 87, 75, 90, 91, 90, 91, 37, 44, 317, 318, 72, 73, 70, 71, 28, 67, 51, 43, 309, 310, 39, 51, 70, 61, 78, 82, 133, 134, 122, 123, 122, 123, 113, 114, 114, 115, 113, 114, 80, 96, 97, 66, 67, 54, 431, 432, 86, 87, 44, 82, 83, 95, 96, 90, 91, 36, 325, 326, 278, 279, 279, 280, 72, 73, 83, 84, 70, 71, 60, 354, 355, 306, 307, 307, 308, 65, 41, 75, 54, 45, 36, 165, 185, 186, 122, 123, 122, 123, 120, 121, 170, 171, 116, 117, 118, 119, 96, 97, 83, 85, 113, 114, 93, 94, 86, 87, 55, 90, 91, 95, 96, 28, 366, 367, 313, 314, 312, 313, 69, 70, 71, 43, 52, 65, 61, 46, 328, 329, 301, 302, 36, 56, 122, 123, 122, 123, 173, 174, 116, 117, 116, 117, 65, 119, 120, 112, 113, 66, 67, 54, 124, 125, 86, 87, 50, 92, 93, 90, 91, 95, 96, 82, 347, 348, 297, 298, 300, 301, 70, 71, 73, 74, 52, 65, 84, 44, 54, 307, 308, 308, 309, 42, 53, 139, 140, 138, 139, 122, 123, 121, 122, 125, 126, 121, 122, 66, 67, 66, 67, 36, 149, 150, 121, 122, 86, 87, 28, 87, 88, 95, 96, 90, 91, 86, 343, 344, 296, 297, 297, 298, 72, 72, 73, 103, 104, 70, 71, 54, 78, 60, 329, 330, 300, 301, 286, 287, 282, 283, 26, 37, 58, 51, 63, 52, 122, 123, 122, 123, 118, 119, 118, 119, 28, 80, 81, 71, 72, 66, 67, 56, 113, 114, 73, 90, 91, 90, 91, 357, 358, 286, 287, 294, 295, 294, 295, 120, 121, 116, 117, 70, 71, 55, 44, 38, 56, 65, 309, 310, 308, 309, 55, 30, 61, 42, 50, 28, 42, 62, 168, 169, 122, 123, 122, 123, 55, 123, 123, 124, 47, 68, 69, 66, 67, 133, 134, 86, 87, 90, 91, 95, 96, 54, 44, 371, 372, 321, 322, 330, 331, 97, 98, 70, 71, 64, 69, 357, 358, 341, 342, 306, 307, 306, 307, 42, 46, 164, 165, 121, 122, 121, 122, 116, 117, 114, 115, 73, 80, 126, 127, 66, 67, 57, 86, 87, 57, 55, 143, 144, 88, 89, 93, 94, 68, 337, 338, 302, 303, 303, 304, 45, 94, 95, 70, 71, 51, 44, 65, 46, 353, 354, 341, 342, 313, 314, 314, 315, 51, 60, 58, 104, 105, 119, 120, 55, 180, 181, 174, 175, 117, 118, 66, 67, 88, 89, 62, 63, 86, 87, 28, 89, 435, 436, 132, 133, 95, 96, 336, 337, 301, 302, 290, 291, 289, 290, 70, 71, 40, 291, 425, 426, 306, 307, 292, 293, 28, 79, 45, 62, 165, 121, 122, 54, 190, 191, 121, 122, 118, 119, 66, 67, 86, 87, 70, 153, 154, 95, 96, 90, 91, 50, 36, 50, 306, 307, 307, 308, 117, 118, 70, 71, 56, 36, 290, 293, 294, 295, 296, 291, 292, 60, 51, 52, 48, 48, 74, 60, 121, 157, 158, 164, 165, 122, 123, 122, 123, 170, 171, 161, 162, 117, 118, 117, 118, 46, 66, 67, 145, 146, 86, 87, 94, 95, 96, 95, 96, 95, 96, 356, 357, 321, 322, 70, 71, 54, 46, 73, 335, 336, 307, 308, 301, 302, 45, 53, 48, 165, 166, 120, 121, 120, 121, 120, 121, 116, 117, 108, 109, 66, 67, 28, 86, 87, 48, 88, 89, 95, 96, 90, 91, 309, 310, 309, 310, 50, 151, 152, 70, 71, 57, 28, 53, 321, 322, 77, 168, 169, 142, 143, 122, 123, 121, 122, 50, 118, 119, 116, 117, 113, 114, 100, 101, 66, 67, 64, 65, 86, 87, 138, 139, 113, 114, 90, 91, 58, 282, 283, 77, 133, 134, 58, 59, 70, 71, 43, 43, 309, 310, 305, 306, 303, 304, 45, 68, 50, 46, 165, 166, 135, 136, 124, 125, 122, 123, 74, 174, 175, 120, 121, 65, 67, 68, 58, 61, 86, 87, 49, 90, 91, 90, 91, 274, 275, 278, 279, 70, 71, 74, 38, 44, 56, 49, 42, 343, 344, 288, 289, 293, 294, 46, 57, 46, 53, 51, 35, 467, 468, 121, 122, 122, 123, 122, 123, 113, 114, 154, 155, 118, 119, 113, 114, 65, 66, 67, 195, 196, 86, 87, 89, 143, 144, 137, 138, 90, 91, 54, 305, 306, 307, 308, 74, 43, 308, 309, 309, 310, 45, 46, 51, 123, 124, 122, 123, 160, 161, 122, 123, 121, 122, 128, 129, 66, 67, 86, 87, 44, 137, 138, 95, 96, 95, 96, 318, 319, 323, 324, 299, 300, 300, 301, 44, 56, 57, 70, 71, 41, 295, 296, 293, 294, 81, 52, 60, 151, 152, 122, 123, 123, 124, 116, 117, 117, 118, 66, 67, 72, 44, 112, 113, 86, 87, 92, 93, 90, 91, 49, 287, 288, 290, 291, 291, 292, 70, 71, 77, 60, 48, 353, 354, 315, 316, 314, 315, 43, 48, 44, 59, 46, 129, 130, 121, 122, 122, 123, 113, 114, 116, 117, 116, 117, 115, 116, 66, 67, 86, 87, 94, 113, 114, 95, 96, 95, 96, 41, 58, 313, 314, 310, 311, 310, 311, 311, 312, 72, 73, 63, 64, 70, 71, 49, 53, 56, 48, 69, 64, 317, 318, 320, 321, 46, 28, 76, 36, 78, 45, 183, 184, 122, 123, 75, 123, 124, 65, 79, 80, 66, 67, 44, 133, 134, 86, 87, 49, 83, 84, 95, 96, 95, 96, 55, 63, 338, 339, 344, 345, 311, 312, 312, 313, 70, 71, 99, 100, 48, 65, 51, 300, 301, 302, 303, 302, 303, 28, 28, 34, 54, 74, 123, 124, 119, 120, 123, 124, 119, 120, 121, 122, 73, 59, 65, 65, 66, 66, 67, 92, 93, 112, 113, 56, 88, 89, 90, 91, 90, 91, 358, 359, 303, 304, 314, 315, 311, 312, 113, 114, 91, 92, 70, 71, 34, 73, 55, 34, 290, 291, 283, 284, 283, 284, 65, 48, 67, 45, 28, 66, 43, 44, 121, 122, 121, 122, 119, 120, 70, 160, 161, 176, 177, 123, 124, 119, 120, 41, 65, 66, 66, 67, 64, 65, 86, 87, 55, 137, 138, 113, 114, 89, 90, 94, 95, 352, 353, 329, 330, 330, 331, 56, 57, 70, 71, 54, 43, 44, 278, 279, 280, 289, 290, 279, 280, 51, 45, 36, 42, 77, 43, 56, 45, 122, 123, 122, 123, 122, 123, 180, 181, 120, 121, 119, 120, 73, 74, 71, 72, 66, 67, 80, 53, 72, 36, 167, 168, 86, 87, 126, 127, 116, 117, 90, 91, 95, 96, 44, 361, 362, 334, 335, 310, 311, 311, 312, 54, 81, 82, 58, 59, 70, 71, 25, 50, 25, 45, 341, 342, 349, 350, 305, 306, 306, 307, 75, 40, 48, 65, 122, 123, 52, 122, 123, 118, 119, 116, 117, 104, 105, 86, 87, 90, 91, 90, 91, 317, 318, 301, 302, 303, 304, 63, 70, 71, 43, 65, 71, 60, 314, 315, 315, 316, 36, 70, 25, 55, 44, 122, 123, 123, 124, 122, 123, 250, 251, 192, 193, 121, 122, 117, 118, 92, 93, 66, 67, 46, 45, 105, 106, 86, 87, 71, 57, 223, 224, 116, 117, 95, 96, 287, 288, 58, 69, 203, 204, 70, 71, 55, 54, 46, 280, 281, 71, 120, 121, 119, 120, 56, 123, 124, 110, 111, 117, 118, 116, 117, 77, 78, 198, 199, 66, 67, 85, 86, 87, 94, 220, 221, 95, 96, 95, 96, 297, 298, 298, 299, 129, 130, 67, 68, 70, 71, 52, 28, 61, 83, 333, 334, 293, 294, 293, 294, 295, 296, 54, 66, 42, 70, 60, 463, 464, 123, 124, 118, 119, 171, 172, 118, 119, 50, 92, 93, 67, 68, 66, 67, 37, 109, 110, 86, 87, 59, 143, 144, 95, 96, 90, 91, 352, 353, 287, 288, 289, 290, 50, 70, 71, 53, 36, 30, 66, 54, 282, 283, 280, 281, 61, 54, 182, 183, 122, 123, 122, 123, 121, 122, 118, 119, 119, 120, 66, 67, 84, 85, 86, 87, 69, 95, 96, 95, 96, 302, 303, 303, 304, 203, 204, 70, 71, 55, 54, 78, 296, 297, 298, 297, 298, 45, 68, 62, 37, 161, 162, 118, 119, 201, 202, 117, 118, 120, 121, 44, 119, 120, 112, 113, 66, 67, 34, 129, 130, 105, 106, 86, 87, 55, 64, 133, 134, 124, 125, 90, 91, 51, 291, 292, 292, 293, 70, 71, 72, 43, 55, 50, 314, 315, 316, 317, 82, 61, 59, 72, 66, 65, 162, 163, 145, 146, 121, 122, 121, 122, 114, 115, 113, 114, 73, 74, 66, 67, 109, 110, 86, 87, 64, 327, 328, 355, 356, 324, 325, 327, 328, 69, 52, 383, 384, 339, 340, 318, 319, 320, 321, 55, 37, 72, 71, 122, 123, 122, 123, 177, 178, 116, 117, 116, 117, 97, 98, 66, 67, 64, 85, 137, 138, 109, 110, 86, 87, 48, 143, 144, 93, 94, 292, 293, 337, 338, 298, 299, 290, 291, 33, 69, 117, 118, 70, 71, 70, 28, 36, 55, 308, 309, 309, 310, 308, 309, 51, 72, 25, 79, 34, 162, 163, 118, 119, 119, 120, 142, 143, 122, 123, 122, 123, 92, 93, 66, 67, 84, 136, 137, 88, 89, 28, 56, 36, 33, 108, 109, 335, 336, 284, 285, 286, 287, 78, 70, 71, 87, 88, 70, 71, 69, 85, 58, 322, 323, 314, 315, 299, 300, 287, 288, 36, 51, 122, 123, 121, 122, 152, 153, 118, 119, 118, 119, 113, 114, 67, 68, 66, 67, 143, 144, 86, 87, 51, 89, 90, 89, 90, 51, 277, 278, 278, 279, 75, 75, 66, 321, 322, 335, 336, 302, 303, 303, 304, 75, 73, 124, 125, 119, 120, 162, 163, 117, 118, 119, 120, 38, 68, 69, 72, 73, 66, 67, 64, 85, 86, 87, 72, 131, 132, 90, 91, 95, 96, 298, 299, 69, 108, 109, 70, 71, 50, 352, 353, 316, 317, 317, 318, 43, 62, 75, 33, 124, 125, 127, 128, 122, 123, 122, 123, 150, 151, 114, 115, 113, 114, 65, 66, 125, 126, 80, 81, 86, 87, 147, 148, 88, 89, 94, 95, 94, 95, 289, 290, 288, 289, 56, 57, 70, 71, 54, 65, 298, 299, 65, 38, 467, 468, 127, 128, 122, 123, 122, 123, 461, 462, 125, 126, 116, 117, 108, 109, 66, 67, 49, 88, 89, 100, 101, 86, 87, 90, 91, 90, 91, 44, 69, 401, 402, 70, 71, 60, 74, 54, 56, 319, 320, 306, 307, 308, 309, 41, 56, 37, 51, 52, 63, 143, 144, 122, 123, 57, 133, 134, 119, 120, 119, 120, 66, 67, 34, 72, 86, 87, 54, 142, 143, 95, 96, 28, 298, 299, 280, 281, 277, 278, 71, 76, 109, 110, 70, 71, 34, 165, 352, 353, 289, 290, 287, 288, 28, 55, 51, 54, 51, 54, 123, 124, 123, 124, 117, 118, 117, 118, 73, 112, 113, 66, 67, 78, 86, 87, 29, 57, 51, 92, 93, 83, 84, 90, 91, 90, 91, 44, 340, 341, 287, 288, 294, 295, 293, 294, 71, 109, 110, 70, 71, 51, 54, 58, 60, 70, 331, 332, 306, 307, 297, 298, 65, 34, 48, 117, 169, 170, 143, 144, 122, 123, 118, 119, 160, 161, 113, 114, 113, 114, 66, 67, 112, 113, 86, 87, 74, 90, 91, 113, 114, 95, 96, 90, 91, 34, 46, 287, 288, 77, 70, 71, 41, 50, 34, 69, 55, 74, 56, 290, 291, 42, 67, 62, 80, 54, 122, 123, 121, 122, 37, 182, 183, 115, 116, 119, 120, 48, 44, 66, 67, 129, 130, 86, 87, 43, 116, 117, 82, 83, 95, 96, 90, 91, 69, 54, 338, 339, 340, 341, 60, 70, 71, 71, 80, 54, 286, 287, 279, 280, 284, 285, 279, 280, 70, 70, 45, 51, 116, 118, 119, 122, 123, 117, 118, 114, 115, 114, 115, 68, 69, 91, 92, 66, 67, 64, 84, 85, 86, 87, 36, 74, 94, 95, 94, 95, 335, 336, 286, 287, 58, 70, 71, 60, 55, 69, 36, 54, 434, 435, 287, 288, 310, 311, 301, 302, 48, 63, 61, 54, 56, 117, 181, 182, 120, 121, 118, 119, 80, 118, 170, 171, 119, 120, 66, 67, 133, 134, 86, 87, 28, 95, 96, 90, 91, 95, 96, 64, 38, 46, 317, 318, 287, 288, 282, 283, 123, 124, 70, 71, 70, 71, 28, 28, 344, 345, 347, 348, 64, 66, 65, 64, 29, 171, 172, 123, 124, 122, 123, 118, 119, 122, 123, 59, 92, 93, 66, 67, 56, 86, 87, 73, 116, 117, 95, 96, 302, 303, 286, 287, 302, 303, 302, 303, 70, 71, 119, 120, 70, 71, 46, 65, 34, 41, 281, 282, 290, 291, 56, 46, 66, 28, 61, 46, 120, 121, 110, 111, 119, 120, 118, 119, 48, 119, 120, 119, 120, 117, 118, 119, 120, 66, 67, 56, 86, 87, 95, 96, 90, 91, 43, 51, 44, 34, 611, 612, 283, 284, 281, 282, 54, 70, 71, 70, 71, 64, 279, 284, 285, 280, 281, 50, 43, 50, 45, 156, 157, 122, 123, 166, 167, 116, 117, 118, 119, 60, 68, 69, 92, 93, 66, 67, 70, 133, 134, 86, 87, 82, 140, 141, 141, 142, 95, 96, 90, 91, 54, 298, 299, 287, 288, 70, 71, 54, 43, 88, 293, 294, 294, 295, 77, 83, 55, 149, 150, 123, 124, 123, 124, 123, 124, 121, 122, 66, 67, 88, 89, 86, 87, 121, 122, 90, 91, 95, 96, 78, 359, 360, 280, 281, 295, 296, 296, 297, 58, 59, 70, 71, 56, 54, 89, 57, 45, 55, 293, 294, 291, 292, 74, 42, 55, 69, 54, 59, 50, 121, 122, 137, 138, 120, 121, 121, 122, 44, 55, 129, 130, 118, 119, 67, 68, 66, 67, 42, 125, 126, 86, 87, 92, 93, 90, 91, 90, 91, 413, 414, 297, 298, 296, 297, 83, 84, 70, 71, 36, 56, 36, 299, 300, 317, 318, 297, 298, 57, 73, 48, 166, 167, 117, 118, 117, 118, 161, 162, 121, 122, 117, 118, 122, 123, 66, 67, 88, 89, 86, 87, 140, 141, 90, 91, 95, 96, 36, 333, 334, 313, 314, 313, 314, 67, 57, 69, 70, 71, 75, 310, 311, 299, 300, 71, 65, 51, 25, 54, 147, 148, 123, 124, 122, 123, 120, 121, 118, 119, 56, 118, 119, 66, 67, 112, 113, 86, 87, 55, 129, 130, 95, 96, 95, 96, 54, 313, 314, 285, 286, 314, 315, 311, 312, 76, 58, 59, 70, 71, 25, 54, 51, 75, 325, 407, 408, 328, 329, 326, 327, 43, 41, 48, 65, 72, 60, 64, 65, 124, 125, 133, 134, 122, 123, 122, 123, 79, 49, 461, 462, 118, 119, 116, 117, 66, 67, 56, 86, 87, 133, 134, 95, 96, 90, 91, 308, 352, 353, 306, 307, 309, 310, 69, 101, 102, 70, 71, 74, 43, 70, 280, 281, 285, 286, 43, 120, 122, 123, 121, 122, 132, 133, 127, 128, 121, 122, 118, 119, 112, 113, 66, 67, 85, 86, 87, 32, 94, 176, 177, 95, 96, 297, 298, 314, 315, 303, 304, 76, 70, 71, 63, 86, 42, 55, 346, 347, 295, 296, 296, 297, 37, 38, 43, 48, 54, 52, 38, 167, 168, 105, 106, 120, 121, 120, 121, 163, 164, 119, 120, 66, 67, 198, 199, 66, 67, 43, 74, 65, 76, 77, 86, 87, 94, 95, 96, 95, 96, 453, 454, 335, 336, 321, 322, 320, 321, 117, 118, 63, 64, 70, 71, 37, 43, 64, 90, 271, 272, 272, 273, 74, 42, 87, 158, 159, 121, 122, 121, 122, 158, 159, 160, 161, 115, 116, 115, 116, 48, 199, 200, 103, 104, 66, 67, 139, 140, 62, 63, 86, 87, 93, 94, 95, 96, 95, 96, 61, 318, 319, 304, 305, 316, 317, 76, 101, 102, 70, 71, 70, 71, 348, 349, 292, 293, 52, 46, 36, 118, 119, 49, 114, 115, 117, 118, 66, 67, 112, 113, 62, 63, 86, 87, 89, 90, 94, 95, 297, 298, 285, 286, 70, 71, 25, 68, 51, 299, 300, 301, 302, 55, 60, 46, 38, 59, 123, 124, 118, 119, 55, 46, 144, 145, 110, 111, 110, 111, 60, 104, 105, 112, 113, 139, 140, 69, 142, 143, 90, 91, 95, 96, 69, 367, 368, 305, 306, 308, 309, 70, 71, 70, 71, 34, 55, 75, 351, 352, 338, 339, 318, 319, 320, 321, 53, 80, 50, 50, 43, 120, 121, 163, 164, 118, 119, 118, 119, 55, 120, 127, 128, 120, 121, 121, 122, 121, 122, 66, 67, 46, 86, 87, 42, 97, 98, 95, 96, 95, 96, 313, 314, 116, 117, 70, 71, 66, 65, 44, 295, 296, 302, 303, 303, 304, 74, 34, 38, 63, 118, 119, 118, 119, 116, 117, 115, 116, 117, 118, 66, 67, 71, 62, 63, 86, 87, 75, 296, 297, 352, 353, 293, 294, 294, 295, 70, 71, 28, 51, 48, 299, 300, 298, 299, 46, 36, 51, 63, 155, 156, 122, 123, 122, 123, 54, 107, 108, 113, 114, 113, 114, 65, 67, 68, 66, 67, 85, 86, 87, 90, 91, 90, 91, 55, 56, 291, 292, 298, 299, 59, 70, 71, 38, 73, 62, 55, 302, 303, 309, 310, 52, 46, 159, 160, 121, 122, 121, 122, 136, 137, 122, 123, 66, 67, 86, 87, 95, 96, 90, 91, 95, 96, 55, 361, 362, 311, 312, 314, 315, 81, 82, 70, 71, 53, 71, 51, 51, 79, 55, 282, 283, 285, 286, 280, 281, 34, 63, 177, 178, 120, 121, 118, 119, 71, 117, 140, 141, 121, 122, 118, 119, 66, 67, 60, 44, 112, 113, 95, 96, 90, 91, 344, 345, 120, 121, 70, 71, 54, 54, 323, 324, 307, 308, 42, 71, 73, 65, 120, 121, 122, 123, 128, 129, 140, 141, 116, 117, 44, 116, 117, 118, 119, 66, 67, 78, 85, 86, 87, 90, 91, 317, 318, 321, 322, 315, 316, 315, 316, 105, 106, 87, 88, 70, 71, 55, 51, 342, 343, 309, 310, 49, 54, 47, 120, 143, 144, 172, 173, 121, 122, 121, 122, 147, 148, 112, 113, 117, 118, 116, 117, 93, 94, 128, 129, 66, 67, 85, 86, 87, 143, 144, 116, 117, 95, 96, 310, 311, 308, 309, 307, 308, 60, 69, 129, 130, 106, 107, 70, 71, 69, 36, 56, 52, 28, 377, 378, 330, 331, 332, 333, 74, 101, 102, 118, 119, 118, 119, 160, 161, 115, 116, 116, 117, 56, 77, 78, 67, 68, 88, 89, 93, 94, 86, 87, 94, 95, 96, 95, 96, 25, 294, 295, 80, 70, 71, 56, 57, 70, 71, 44, 55, 51, 342, 343, 285, 286, 291, 292, 292, 293, 51, 36, 37, 61, 62, 122, 123, 36, 168, 169, 112, 113, 116, 117, 118, 119, 44, 117, 118, 100, 101, 66, 67, 108, 109, 86, 87, 59, 90, 91, 52, 29, 357, 358, 317, 318, 318, 319, 25, 109, 110, 70, 71, 74, 36, 49, 43, 341, 342, 303, 304, 300, 301, 46, 45, 71, 28, 55, 36, 122, 123, 122, 123, 44, 154, 155, 125, 126, 113, 114, 54, 65, 66, 67, 45, 28, 301, 302, 279, 280, 51, 70, 71, 51, 50, 55, 44, 297, 298, 299, 300, 298, 299, 43, 42, 61, 117, 118, 119, 120, 118, 119, 46, 113, 114, 115, 116, 115, 116, 115, 116, 66, 67, 45, 72, 53, 136, 137, 60, 64, 95, 96, 144, 145, 90, 91, 64, 302, 303, 297, 298, 57, 77, 96, 97, 87, 88, 70, 71, 25, 36, 40, 33, 79, 45, 37, 353, 354, 296, 297, 287, 288, 290, 291, 34, 119, 120, 119, 120, 120, 121, 119, 120, 66, 67, 45, 105, 106, 86, 87, 89, 90, 300, 302, 303, 301, 302, 44, 77, 70, 71, 55, 298, 299, 295, 296, 40, 57, 71, 40, 136, 137, 121, 122, 122, 123, 119, 119, 120, 120, 121, 66, 67, 51, 100, 101, 101, 102, 123, 124, 95, 96, 90, 91, 43, 288, 289, 299, 300, 296, 297, 288, 289, 69, 77, 78, 70, 71, 72, 77, 33, 341, 342, 371, 372, 297, 298, 298, 299, 75, 43, 71, 37, 36, 118, 119, 119, 175, 176, 124, 125, 120, 121, 75, 65, 108, 109, 66, 67, 68, 86, 87, 129, 130, 95, 96, 58, 290, 291, 295, 296, 299, 300, 47, 133, 134, 70, 71, 39, 42, 74, 300, 301, 293, 294, 50, 36, 61, 66, 173, 174, 122, 123, 122, 123, 170, 171, 120, 121, 116, 117, 411, 412, 66, 67, 61, 51, 86, 87, 90, 91, 93, 94, 88, 89, 355, 356, 300, 301, 296, 297, 70, 71, 70, 71, 47, 55, 79, 332, 333, 289, 290, 290, 291, 67, 36, 48, 37, 36, 57, 158, 159, 121, 122, 121, 122, 123, 124, 116, 117, 66, 67, 28, 62, 63, 86, 87, 86, 87, 95, 96, 165, 449, 450, 345, 346, 313, 314, 316, 317, 63, 64, 70, 71, 55, 46, 301, 302, 296, 297, 296, 297, 301, 302, 71, 51, 37, 148, 149, 122, 123, 122, 123, 163, 164, 119, 120, 120, 121, 65, 113, 114, 108, 109, 86, 87, 94, 95, 94, 95, 94, 95, 287, 288, 287, 288, 285, 286, 91, 92, 70, 71, 50, 37, 62, 65, 297, 298, 293, 294, 28, 51, 83, 64, 124, 125, 122, 123, 122, 123, 113, 114, 118, 119, 117, 118, 118, 119, 66, 67, 84, 62, 97, 98, 112, 113, 86, 87, 71, 95, 96, 338, 339, 295, 296, 295, 296, 63, 111, 112, 70, 71, 69, 61, 43, 65, 34, 332, 333, 287, 288, 294, 295, 69, 53, 116, 117, 118, 119, 118, 119, 144, 145, 113, 114, 120, 121, 119, 120, 80, 86, 87, 89, 90, 94, 95, 290, 291, 295, 296, 297, 298, 69, 101, 102, 70, 71, 49, 64, 284, 285, 284, 285, 58, 51, 33, 56, 162, 163, 119, 120, 119, 120, 44, 162, 163, 145, 146, 116, 117, 115, 116, 73, 74, 67, 68, 66, 67, 46, 85, 86, 87, 89, 90, 95, 96, 55, 82, 39, 314, 315, 311, 312, 312, 313, 42, 70, 71, 65, 53, 54, 44, 36, 64, 299, 350, 351, 332, 333, 298, 299, 300, 301, 56, 46, 72, 28, 117, 249, 250, 118, 119, 118, 119, 36, 114, 125, 126, 115, 116, 115, 116, 65, 67, 68, 66, 67, 34, 146, 147, 86, 87, 52, 109, 110, 95, 96, 53, 264, 265, 285, 286, 287, 288, 70, 71, 56, 65, 83, 65, 282, 283, 282, 283, 55, 45, 56, 121, 151, 152, 122, 123, 122, 123, 54, 115, 116, 115, 116, 93, 94, 92, 93, 66, 67, 56, 86, 87, 55, 136, 137, 90, 91, 95, 96, 58, 328, 329, 302, 303, 326, 327, 326, 327, 117, 118, 58, 59, 70, 71, 61, 56, 55, 32, 310, 311, 287, 288, 61, 65, 69, 123, 124, 123, 124, 54, 119, 120, 113, 114, 66, 67, 36, 103, 104, 86, 87, 56, 57, 91, 92, 95, 96, 95, 96, 64, 29, 298, 299, 297, 298, 117, 118, 103, 104, 70, 71, 65, 57, 58, 38, 61, 288, 289, 274, 275, 301, 302, 288, 289, 55, 54, 77, 160, 161, 121, 122, 121, 122, 69, 122, 123, 117, 118, 120, 121, 73, 66, 67, 72, 57, 97, 98, 95, 96, 95, 96, 340, 341, 300, 301, 289, 290, 101, 102, 70, 71, 34, 42, 64, 318, 319, 298, 299, 51, 29, 69, 45, 51, 58, 83, 153, 154, 122, 123, 122, 123, 170, 171, 122, 123, 117, 118, 79, 80, 66, 67, 104, 105, 101, 102, 86, 87, 26, 83, 84, 95, 96, 331, 332, 273, 274, 290, 291, 69, 70, 71, 72, 36, 34, 285, 286, 293, 294, 293, 294, 70, 71, 73, 48, 123, 124, 122, 123, 123, 124, 116, 117, 115, 116, 68, 69, 66, 67, 51, 85, 86, 87, 54, 223, 224, 90, 91, 90, 91, 288, 332, 333, 287, 288, 289, 290, 78, 79, 70, 71, 46, 79, 48, 65, 43, 301, 304, 305, 53, 71, 139, 140, 120, 121, 121, 122, 124, 125, 119, 120, 56, 65, 66, 66, 67, 64, 65, 86, 87, 95, 96, 162, 163, 95, 96, 95, 96, 338, 339, 315, 316, 311, 312, 70, 71, 63, 74, 340, 341, 327, 328, 302, 303, 54, 73, 56, 180, 181, 122, 123, 122, 123, 157, 158, 120, 121, 120, 121, 80, 81, 65, 66, 66, 67, 104, 105, 109, 110, 86, 87, 38, 90, 91, 95, 96, 90, 91, 73, 53, 300, 301, 291, 292, 69, 107, 108, 70, 71, 61, 62, 45, 37, 68, 53, 302, 303, 300, 301, 300, 301, 70, 71, 51, 43, 72, 37, 122, 121, 122, 123, 124, 120, 121, 66, 67, 121, 122, 86, 87, 435, 436, 81, 82, 95, 96, 90, 91, 38, 370, 371, 324, 325, 73, 101, 102, 189, 190, 70, 71, 56, 53, 70, 69, 329, 330, 284, 285, 286, 287, 52, 60, 42, 67, 76, 120, 121, 144, 145, 120, 121, 118, 119, 65, 138, 139, 121, 122, 114, 115, 66, 67, 64, 86, 87, 435, 436, 83, 84, 95, 96, 90, 91, 368, 369, 335, 336, 316, 317, 318, 319, 106, 107, 70, 71, 43, 75, 55, 64, 358, 359, 315, 316, 28, 59, 41, 110, 111, 118, 119, 118, 119, 58, 49, 136, 137, 119, 120, 119, 120, 83, 66, 67, 25, 44, 133, 134, 62, 63, 86, 87, 83, 84, 90, 91, 367, 368, 320, 321, 316, 317, 84, 85, 74, 75, 70, 71, 61, 70, 42, 66, 52, 360, 361, 315, 316, 300, 301, 55, 60, 164, 165, 118, 119, 118, 119, 121, 122, 121, 122, 49, 66, 67, 66, 67, 53, 85, 86, 87, 117, 118, 95, 96, 95, 96, 351, 352, 308, 309, 309, 310, 308, 309, 120, 121, 70, 71, 60, 29, 65, 40, 54, 320, 321, 295, 296, 293, 294, 71, 28, 117, 118, 119, 118, 119, 167, 168, 120, 121, 120, 121, 61, 66, 67, 66, 67, 83, 64, 65, 86, 87, 28, 76, 90, 91, 95, 96, 48, 74, 316, 317, 317, 318, 70, 71, 51, 50, 38, 289, 290, 51, 45, 122, 161, 162, 124, 125, 123, 124, 65, 118, 119, 121, 122, 129, 130, 66, 67, 65, 57, 86, 87, 69, 70, 86, 87, 48, 90, 91, 95, 96, 44, 332, 333, 285, 286, 415, 416, 119, 120, 70, 71, 34, 73, 301, 302, 302, 303, 75, 82, 75, 33, 122, 123, 121, 122, 28, 126, 127, 120, 121, 60, 77, 78, 106, 107, 137, 138, 86, 87, 56, 41, 25, 92, 93, 95, 96, 90, 91, 355, 356, 298, 299, 303, 304, 69, 401, 402, 70, 71, 37, 52, 70, 28, 73, 365, 366, 307, 308, 305, 306, 51, 47, 179, 180, 123, 124, 121, 122, 54, 118, 119, 118, 119, 118, 119, 83, 65, 66, 67, 44, 69, 136, 137, 86, 87, 51, 158, 159, 90, 91, 95, 96, 344, 345, 280, 281, 130, 131, 70, 71, 67, 60, 60, 54, 291, 292, 292, 293, 69, 28, 155, 156, 117, 118, 117, 118, 54, 164, 165, 119, 120, 119, 120, 66, 67, 90, 91, 66, 67, 93, 94, 86, 87, 95, 96, 95, 96, 647, 648, 299, 300, 302, 303, 25, 50, 113, 114, 53, 44, 61, 56, 54, 85, 278, 279, 276, 277, 56, 43, 71, 83, 122, 123, 121, 122, 36, 148, 149, 114, 115, 84, 66, 67, 64, 125, 126, 86, 87, 69, 97, 98, 95, 96, 95, 96, 296, 297, 296, 297, 133, 134, 70, 71, 71, 48, 78, 47, 80, 78, 36, 52, 309, 310, 301, 302, 303, 304, 56, 79, 55, 51, 121, 148, 149, 159, 160, 122, 123, 122, 123, 126, 127, 119, 120, 115, 116, 59, 65, 199, 200, 66, 67, 53, 86, 87, 36, 90, 91, 144, 145, 90, 91, 90, 91, 58, 317, 318, 291, 292, 292, 293, 58, 52, 96, 97, 106, 107, 70, 71, 55, 65, 350, 351, 288, 289, 287, 288, 36, 43, 69, 142, 143, 119, 120, 117, 118, 156, 157, 118, 119, 121, 122, 79, 112, 113, 66, 67, 66, 54, 85, 80, 81, 86, 87, 44, 89, 90, 94, 95, 290, 291, 287, 288, 70, 71, 54, 55, 34, 29, 60, 310, 311, 313, 314, 66, 58, 121, 121, 122, 122, 123, 55, 456, 457, 117, 118, 117, 118, 36, 96, 97, 66, 67, 83, 54, 88, 89, 62, 63, 86, 87, 138, 139, 95, 96, 95, 96, 58, 316, 325, 326, 317, 318, 41, 120, 121, 70, 71, 49, 53, 70, 51, 78, 36, 64, 316, 317, 292, 293, 76, 52, 28, 54, 28, 114, 115, 121, 122, 121, 122, 44, 116, 117, 65, 72, 73, 66, 67, 35, 133, 134, 83, 84, 95, 96, 95, 96, 306, 307, 309, 310, 119, 120, 70, 71, 75, 48, 62, 298, 299, 295, 296, 298, 299, 55, 46, 64, 123, 124, 122, 123, 194, 195, 119, 120, 119, 120, 73, 126, 127, 76, 77, 66, 67, 105, 106, 86, 87, 44, 119, 120, 90, 91, 56, 29, 319, 359, 360, 322, 323, 343, 344, 320, 321, 70, 71, 69, 50, 364, 365, 431, 432, 313, 314, 314, 315, 75, 45, 49, 86, 48, 169, 170, 164, 165, 122, 123, 44, 75, 163, 164, 195, 196, 121, 122, 120, 121, 66, 67, 70, 149, 150, 112, 113, 86, 87, 37, 140, 141, 144, 145, 90, 91, 90, 91, 78, 325, 326, 319, 320, 321, 322, 70, 71, 50, 51, 88, 368, 369, 308, 309, 287, 288, 45, 51, 51, 62, 54, 118, 119, 118, 119, 129, 130, 115, 116, 116, 117, 115, 116, 72, 73, 66, 67, 86, 87, 94, 95, 94, 95, 54, 45, 306, 307, 306, 307, 297, 298, 70, 71, 56, 41, 52, 46, 37, 68, 51, 29, 45, 282, 283, 48, 56, 60, 120, 121, 122, 123, 125, 126, 125, 126, 60, 77, 90, 91, 66, 67, 143, 144, 86, 87, 60, 93, 94, 95, 96, 64, 74, 312, 313, 111, 112, 70, 71, 37, 45, 280, 281, 280, 281, 59, 64, 42, 117, 123, 124, 118, 119, 117, 118, 117, 118, 36, 66, 67, 93, 94, 75, 101, 102, 111, 112, 89, 90, 94, 95, 351, 352, 330, 331, 306, 307, 308, 309, 401, 402, 70, 71, 54, 295, 296, 297, 37, 51, 77, 118, 454, 455, 119, 120, 46, 253, 254, 152, 153, 119, 120, 120, 121, 68, 69, 66, 67, 64, 65, 86, 87, 46, 95, 96, 90, 91, 310, 311, 319, 320, 123, 124, 70, 71, 37, 74, 281, 282, 282, 283, 47, 51, 79, 63, 35, 46, 180, 181, 122, 123, 155, 156, 160, 161, 120, 121, 120, 121, 60, 125, 126, 66, 67, 28, 86, 87, 55, 90, 91, 401, 402, 295, 296, 62, 117, 118, 70, 71, 28, 327, 328, 302, 303, 303, 304, 74, 65, 46, 44, 121, 147, 148, 124, 125, 122, 123, 117, 118, 116, 117, 91, 92, 104, 105, 66, 67, 57, 112, 113, 86, 87, 77, 145, 146, 131, 132, 90, 91, 29, 292, 293, 301, 302, 301, 302, 54, 99, 100, 70, 71, 76, 71, 76, 54, 302, 303, 299, 300, 300, 301, 52, 52, 50, 61, 49, 36, 61, 36, 180, 181, 120, 121, 122, 123, 121, 122, 56, 117, 120, 121, 119, 120, 118, 119, 43, 71, 72, 66, 67, 104, 105, 62, 63, 86, 87, 106, 107, 90, 91, 90, 91, 291, 292, 290, 291, 58, 69, 58, 59, 70, 71, 48, 38, 73, 28, 83, 42, 37, 307, 311, 312, 310, 311, 308, 309, 56, 34, 46, 42, 63, 61, 130, 131, 121, 122, 121, 122, 72, 133, 134, 117, 118, 118, 119, 68, 69, 67, 68, 66, 67, 101, 102, 86, 87, 228, 229, 116, 117, 90, 91, 95, 96, 38, 50, 321, 322, 353, 354, 311, 312, 319, 320, 91, 92, 70, 71, 45, 79, 305, 306, 306, 307, 69, 77, 48, 50, 34, 129, 130, 110, 111, 118, 119, 118, 119, 117, 124, 125, 118, 119, 118, 119, 66, 67, 86, 136, 137, 60, 145, 146, 83, 84, 90, 91, 95, 96, 300, 301, 69, 70, 71, 165, 51, 70, 304, 305, 305, 306, 51, 48, 46, 122, 123, 118, 119, 151, 152, 118, 119, 64, 66, 67, 50, 76, 133, 134, 64, 65, 86, 87, 153, 154, 94, 95, 94, 95, 46, 301, 302, 290, 291, 290, 291, 44, 69, 70, 71, 70, 71, 43, 70, 80, 352, 353, 320, 321, 321, 322, 65, 56, 46, 122, 123, 122, 123, 36, 250, 251, 162, 163, 118, 119, 117, 118, 47, 65, 80, 64, 146, 147, 62, 63, 86, 87, 435, 436, 90, 91, 36, 45, 313, 314, 308, 309, 72, 73, 70, 71, 43, 54, 36, 45, 55, 295, 349, 350, 295, 296, 296, 297, 56, 48, 63]\n",
            "Normal URL Lengths: [42, 118, 119, 117, 118, 65, 66, 52, 85, 86, 53, 94, 95, 54, 276, 277, 69, 70, 52, 49, 50, 51, 61, 60, 61, 51, 281, 282, 51, 51, 47, 47, 47, 53, 50, 59, 42, 122, 123, 120, 121, 65, 66, 52, 85, 86, 53, 93, 94, 54, 281, 282, 69, 70, 52, 49, 50, 51, 61, 60, 61, 51, 288, 289, 51, 51, 47, 47, 47, 53, 50, 59, 42, 121, 122, 115, 116, 65, 66, 52, 85, 86, 53, 94, 95, 54, 286, 287, 69, 70, 52, 49, 50, 51, 61, 60, 61, 51, 319, 320, 51, 51, 47, 47, 47, 53, 50, 59, 42, 117, 118, 115, 116, 65, 66, 52, 85, 86, 53, 89, 90, 54, 311, 312, 69, 70, 52, 49, 50, 51, 61, 60, 61, 51, 311, 312, 51, 51, 47, 47, 47, 53, 50, 59, 42, 120, 121, 118, 119, 65, 66, 52, 85, 86, 53, 88, 89, 54, 288, 289, 69, 70, 52, 49, 50, 51, 61, 60, 61, 51, 311, 312, 51, 51, 47, 47, 47, 53, 50, 59, 42, 122, 123, 120, 121, 65, 66, 52, 85, 86, 53, 89, 90, 54, 298, 299, 69, 70, 52, 49, 50, 51, 61, 60, 61, 51, 282, 283, 51, 51, 47, 47, 47, 53, 50, 59, 42, 120, 121, 123, 124, 65, 66, 52, 85, 86, 53, 89, 90, 54, 317, 318, 69, 70, 52, 49, 50, 51, 61, 60, 61, 51, 309, 310, 51, 51, 47, 47, 47, 53, 50, 59, 42, 122, 123, 122, 123, 65, 66, 52, 85, 86, 53, 89, 90, 54, 301, 302, 69, 70, 52, 49, 50, 51, 61, 60, 61, 51, 296, 297, 51, 51, 47, 47, 47, 53, 50, 59, 42, 117, 118, 114, 115, 65, 66, 52, 85, 86, 53, 89, 90, 54, 292, 293, 69, 70, 52, 49, 50, 51, 61, 60, 61, 51, 288, 289, 51, 51, 47, 47, 47, 53, 50, 59, 42, 121, 122, 116, 117, 65, 66, 52, 85, 86, 53, 88, 89, 54, 304, 305, 69, 70, 52, 49, 50, 51, 61, 60, 61, 51, 290, 291, 51, 51, 47, 47, 47, 53, 50, 59, 42, 121, 122, 119, 120, 65, 66, 52, 85, 86, 53, 94, 95, 54, 305, 306, 69, 70, 52, 49, 50, 51, 61, 60, 61, 51, 292, 293, 51, 51, 47, 47, 47, 53, 50, 59, 42, 120, 121, 114, 115, 65, 66, 52, 85, 86, 53, 88, 89, 54, 283, 284, 69, 70, 52, 49, 50, 51, 61, 60, 61, 51, 315, 316, 51, 51, 47, 47, 47, 53, 50, 59, 42, 117, 118, 119, 120, 65, 66, 52, 85, 86, 53, 89, 90, 54, 293, 294, 69, 70, 52, 49, 50, 51, 61, 60, 61, 51, 290, 291, 51, 51, 47, 47, 47, 53, 50, 59, 42, 121, 122, 116, 117, 65, 66, 52, 85, 86, 53, 89, 90, 54, 285, 286, 69, 70, 52, 49, 50, 51, 61, 60, 61, 51, 308, 309, 51, 51, 47, 47, 47, 53, 50, 59, 42, 119, 120, 111, 112, 65, 66, 52, 85, 86, 53, 89, 90, 54, 313, 314, 69, 70, 52, 49, 50, 51, 61, 60, 61, 51, 305, 306, 51, 51, 47, 47, 47, 53, 50, 59, 42, 121, 122, 117, 118, 65, 66, 52, 85, 86, 53, 89, 90, 54, 312, 313, 69, 70, 52, 49, 50, 51, 61, 60, 61, 51, 305, 306, 51, 51, 47, 47, 47, 53, 50, 59, 42, 121, 122, 119, 120, 65, 66, 52, 85, 86, 53, 94, 95, 54, 292, 293, 69, 70, 52, 49, 50, 51, 61, 60, 61, 51, 281, 282, 51, 51, 47, 47, 47, 53, 50, 59, 42, 118, 119, 119, 120, 65, 66, 52, 85, 86, 53, 94, 95, 54, 294, 295, 69, 70, 52, 49, 50, 51, 61, 60, 61, 51, 296, 297, 51, 51, 47, 47, 47, 53, 50, 59, 42, 117, 118, 116, 117, 65, 66, 52, 85, 86, 53, 94, 95, 54, 314, 315, 69, 70, 52, 49, 50, 51, 61, 60, 61, 51, 298, 299, 51, 51, 47, 47, 47, 53, 50, 59, 42, 117, 118, 115, 116, 65, 66, 52, 85, 86, 53, 89, 90, 54, 311, 312, 69, 70, 52, 49, 50, 51, 61, 60, 61, 51, 301, 302, 51, 51, 47, 47, 47, 53, 50, 59, 42, 118, 119, 120, 121, 65, 66, 52, 85, 86, 53, 94, 95, 54, 294, 295, 69, 70, 52, 49, 50, 51, 61, 60, 61, 51, 313, 314, 51, 51, 47, 47, 47, 53, 50, 59, 42, 118, 119, 115, 116, 65, 66, 52, 85, 86, 53, 94, 95, 54, 305, 306, 69, 70, 52, 49, 50, 51, 61, 60, 61, 51, 311, 312, 51, 51, 47, 47, 47, 53, 50, 59, 42, 120, 121, 121, 122, 65, 66, 52, 85, 86, 53, 94, 95, 54, 292, 293, 69, 70, 52, 49, 50, 51, 61, 60, 61, 51, 280, 281, 51, 51, 47, 47, 47, 53, 50, 59, 42, 118, 119, 123, 124, 65, 66, 52, 85, 86, 53, 93, 94, 54, 296, 297, 69, 70, 52, 49, 50, 51, 61, 60, 61, 51, 303, 304, 51, 51, 47, 47, 47, 53, 50, 59, 42, 116, 117, 112, 113, 65, 66, 52, 85, 86, 53, 89, 90, 54, 301, 302, 69, 70, 52, 49, 50, 51, 61, 60, 61, 51, 299, 300, 51, 51, 47, 47, 47, 53, 50, 59, 42, 120, 121, 114, 115, 65, 66, 52, 85, 86, 53, 94, 95, 54, 312, 313, 69, 70, 52, 49, 50, 51, 61, 60, 61, 51, 303, 304, 51, 51, 47, 47, 47, 53, 50, 59, 42, 120, 121, 118, 119, 65, 66, 52, 85, 86, 53, 89, 90, 54, 309, 310, 69, 70, 52, 49, 50, 51, 61, 60, 61, 51, 296, 297, 51, 51, 47, 47, 47, 53, 50, 59, 42, 120, 121, 119, 120, 65, 66, 52, 85, 86, 53, 94, 95, 54, 296, 297, 69, 70, 52, 49, 50, 51, 61, 60, 61, 51, 318, 319, 51, 51, 47, 47, 47, 53, 50, 59, 42, 120, 121, 118, 119, 65, 66, 52, 85, 86, 53, 89, 90, 54, 270, 271, 69, 70, 52, 49, 50, 51, 61, 60, 61, 51, 281, 282, 51, 51, 47, 47, 47, 53, 50, 59, 42, 121, 122, 117, 118, 65, 66, 52, 85, 86, 53, 89, 90, 54, 301, 302, 69, 70, 52, 49, 50, 51, 61, 60, 61, 51, 303, 304, 51, 51, 47, 47, 47, 53, 50, 59, 42, 116, 117, 113, 114, 65, 66, 52, 85, 86, 53, 89, 90, 54, 283, 284, 69, 70, 52, 49, 50, 51, 61, 60, 61, 51, 293, 294, 51, 51, 47, 47, 47, 53, 50, 59, 42, 120, 121, 116, 117, 65, 66, 52, 85, 86, 53, 93, 94, 54, 289, 290, 69, 70, 52, 49, 50, 51, 61, 60, 61, 51, 298, 299, 51, 51, 47, 47, 47, 53, 50, 59, 42, 120, 121, 113, 114, 65, 66, 52, 85, 86, 53, 94, 95, 54, 286, 287, 69, 70, 52, 49, 50, 51, 61, 60, 61, 51, 296, 297, 51, 51, 47, 47, 47, 53, 50, 59, 42, 122, 123, 110, 111, 65, 66, 52, 85, 86, 53, 89, 90, 54, 293, 294, 69, 70, 52, 49, 50, 51, 61, 60, 61, 51, 309, 310, 51, 51, 47, 47, 47, 53, 50, 59, 42, 118, 119, 113, 114, 65, 66, 52, 85, 86, 53, 94, 95, 54, 296, 297, 69, 70, 52, 49, 50, 51, 61, 60, 61, 51, 295, 296, 51, 51, 47, 47, 47, 53, 50, 59, 42, 118, 119, 118, 119, 65, 66, 52, 85, 86, 53, 94, 95, 54, 293, 294, 69, 70, 52, 49, 50, 51, 61, 60, 61, 51, 309, 310, 51, 51, 47, 47, 47, 53, 50, 59, 42, 117, 118, 119, 120, 65, 66, 52, 85, 86, 53, 89, 90, 54, 303, 304, 69, 70, 52, 49, 50, 51, 61, 60, 61, 51, 305, 306, 51, 51, 47, 47, 47, 53, 50, 59, 42, 118, 119, 115, 116, 65, 66, 52, 85, 86, 53, 89, 90, 54, 297, 298, 69, 70, 52, 49, 50, 51, 61, 60, 61, 51, 291, 292, 51, 51, 47, 47, 47, 53, 50, 59, 42, 117, 118, 121, 122, 65, 66, 52, 85, 86, 53, 94, 95, 54, 312, 313, 69, 70, 52, 49, 50, 51, 61, 60, 61, 51, 309, 310, 51, 51, 47, 47, 47, 53, 50, 59, 42, 118, 119, 114, 115, 65, 66, 52, 85, 86, 53, 94, 95, 54, 281, 282, 69, 70, 52, 49, 50, 51, 61, 60, 61, 51, 300, 301, 51, 51, 47, 47, 47, 53, 50, 59, 42, 117, 118, 122, 123, 65, 66, 52, 85, 86, 53, 89, 90, 54, 303, 304, 69, 70, 52, 49, 50, 51, 61, 60, 61, 51, 340, 341, 51, 51, 47, 47, 47, 53, 50, 59, 42, 122, 123, 119, 120, 65, 66, 52, 85, 86, 53, 94, 95, 54, 296, 297, 69, 70, 52, 49, 50, 51, 61, 60, 61, 51, 307, 308, 51, 51, 47, 47, 47, 53, 50, 59, 42, 121, 122, 113, 114, 65, 66, 52, 85, 86, 53, 89, 90, 54, 295, 296, 69, 70, 52, 49, 50, 51, 61, 60, 61, 51, 305, 306, 51, 51, 47, 47, 47, 53, 50, 59, 42, 122, 123, 116, 117, 65, 66, 52, 85, 86, 53, 94, 95, 54, 310, 311, 69, 70, 52, 49, 50, 51, 61, 60, 61, 51, 302, 303, 51, 51, 47, 47, 47, 53, 50, 59, 42, 120, 121, 116, 117, 65, 66, 52, 85, 86, 53, 89, 90, 54, 300, 301, 69, 70, 52, 49, 50, 51, 61, 60, 61, 51, 300, 301, 51, 51, 47, 47, 47, 53, 50, 59, 42, 122, 123, 124, 125, 65, 66, 52, 85, 86, 53, 94, 95, 54, 288, 289, 69, 70, 52, 49, 50, 51, 61, 60, 61, 51, 320, 321, 51, 51, 47, 47, 47, 53, 50, 59, 42, 122, 123, 113, 114, 65, 66, 52, 85, 86, 53, 88, 89, 54, 299, 300, 69, 70, 52, 49, 50, 51, 61, 60, 61, 51, 310, 311, 51, 51, 47, 47, 47, 53, 50, 59, 42, 117, 118, 119, 120, 65, 66, 52, 85, 86, 53, 89, 90, 54, 325, 326, 69, 70, 52, 49, 50, 51, 61, 60, 61, 51, 295, 296, 51, 51, 47, 47, 47, 53, 50, 59, 42, 119, 120, 120, 121, 65, 66, 52, 85, 86, 53, 94, 95, 54, 290, 291, 69, 70, 52, 49, 50, 51, 61, 60, 61, 51, 273, 274, 51, 51, 47, 47, 47, 53, 50, 59, 42, 122, 123, 121, 122, 65, 66, 52, 85, 86, 53, 94, 95, 54, 302, 303, 69, 70, 52, 49, 50, 51, 61, 60, 61, 51, 316, 317, 51, 51, 47, 47, 47, 53, 50, 59, 42, 120, 121, 119, 120, 65, 66, 52, 85, 86, 53, 94, 95, 54, 290, 291, 69, 70, 52, 49, 50, 51, 61, 60, 61, 51, 298, 299, 51, 51, 47, 47, 47, 53, 50, 59, 42, 121, 122, 120, 121, 65, 66, 52, 85, 86, 53, 89, 90, 54, 305, 306, 69, 70, 52, 49, 50, 51, 61, 60, 61, 51, 297, 298, 51, 51, 47, 47, 47, 53, 50, 59, 42, 121, 122, 110, 111, 65, 66, 52, 85, 86, 53, 89, 90, 54, 283, 284, 69, 70, 52, 49, 50, 51, 61, 60, 61, 51, 310, 311, 51, 51, 47, 47, 47, 53, 50, 59, 42, 122, 123, 119, 120, 65, 66, 52, 85, 86, 53, 94, 95, 54, 319, 320, 69, 70, 52, 49, 50, 51, 61, 60, 61, 51, 318, 319, 51, 51, 47, 47, 47, 53, 50, 59, 42, 117, 118, 114, 115, 65, 66, 52, 85, 86, 53, 89, 90, 54, 310, 311, 69, 70, 52, 49, 50, 51, 61, 60, 61, 51, 297, 298, 51, 51, 47, 47, 47, 53, 50, 59, 42, 121, 122, 120, 121, 65, 66, 52, 85, 86, 53, 88, 89, 54, 297, 298, 69, 70, 52, 49, 50, 51, 61, 60, 61, 51, 300, 301, 51, 51, 47, 47, 47, 53, 50, 59, 42, 120, 121, 116, 117, 65, 66, 52, 85, 86, 53, 94, 95, 54, 295, 296, 69, 70, 52, 49, 50, 51, 61, 60, 61, 51, 293, 294, 51, 51, 47, 47, 47, 53, 50, 59, 42, 118, 119, 114, 115, 65, 66, 52, 85, 86, 53, 89, 90, 54, 296, 297, 69, 70, 52, 49, 50, 51, 61, 60, 61, 51, 299, 300, 51, 51, 47, 47, 47, 53, 50, 59, 42, 120, 121, 114, 115, 65, 66, 52, 85, 86, 53, 89, 90, 54, 295, 296, 69, 70, 52, 49, 50, 51, 61, 60, 61, 51, 281, 282, 51, 51, 47, 47, 47, 53, 50, 59, 42, 120, 121, 112, 113, 65, 66, 52, 85, 86, 53, 89, 90, 54, 297, 298, 69, 70, 52, 49, 50, 51, 61, 60, 61, 51, 292, 293, 51, 51, 47, 47, 47, 53, 50, 59, 42, 121, 122, 111, 112, 65, 66, 52, 85, 86, 53, 94, 95, 54, 279, 280, 69, 70, 52, 49, 50, 51, 61, 60, 61, 51, 280, 281, 51, 51, 47, 47, 47, 53, 50, 59, 42, 120, 121, 119, 120, 65, 66, 52, 85, 86, 53, 89, 90, 54, 302, 303, 69, 70, 52, 49, 50, 51, 61, 60, 61, 51, 295, 296, 51, 51, 47, 47, 47, 53, 50, 59, 42, 117, 118, 114, 115, 65, 66, 52, 85, 86, 53, 89, 90, 54, 300, 301, 69, 70, 52, 49, 50, 51, 61, 60, 61, 51, 330, 331, 51, 51, 47, 47, 47, 53, 50, 59, 42, 117, 118, 114, 115, 65, 66, 52, 85, 86, 53, 89, 90, 54, 284, 285, 69, 70, 52, 49, 50, 51, 61, 60, 61, 51, 311, 312, 51, 51, 47, 47, 47, 53, 50, 59, 42, 117, 118, 115, 116, 65, 66, 52, 85, 86, 53, 94, 95, 54, 292, 293, 69, 70, 52, 49, 50, 51, 61, 60, 61, 51, 292, 293, 51, 51, 47, 47, 47, 53, 50, 59, 42, 121, 122, 118, 119, 65, 66, 52, 85, 86, 53, 94, 95, 54, 293, 294, 69, 70, 52, 49, 50, 51, 61, 60, 61, 51, 292, 293, 51, 51, 47, 47, 47, 53, 50, 59, 42, 121, 122, 120, 121, 65, 66, 52, 85, 86, 53, 89, 90, 54, 310, 311, 69, 70, 52, 49, 50, 51, 61, 60, 61, 51, 301, 302, 51, 51, 47, 47, 47, 53, 50, 59, 42, 117, 118, 118, 119, 65, 66, 52, 85, 86, 53, 94, 95, 54, 305, 306, 69, 70, 52, 49, 50, 51, 61, 60, 61, 51, 321, 322, 51, 51, 47, 47, 47, 53, 50, 59, 42, 122, 123, 119, 120, 65, 66, 52, 85, 86, 53, 89, 90, 54, 304, 305, 69, 70, 52, 49, 50, 51, 61, 60, 61, 51, 289, 290, 51, 51, 47, 47, 47, 53, 50, 59, 42, 121, 122, 116, 117, 65, 66, 52, 85, 86, 53, 94, 95, 54, 305, 306, 69, 70, 52, 49, 50, 51, 61, 60, 61, 51, 316, 317, 51, 51, 47, 47, 47, 53, 50, 59, 42, 116, 117, 117, 118, 65, 66, 52, 85, 86, 53, 94, 95, 54, 291, 292, 69, 70, 52, 49, 50, 51, 61, 60, 61, 51, 279, 280, 51, 51, 47, 47, 47, 53, 50, 59, 42, 122, 123, 114, 115, 65, 66, 52, 85, 86, 53, 94, 95, 54, 322, 323, 69, 70, 52, 49, 50, 51, 61, 60, 61, 51, 296, 297, 51, 51, 47, 47, 47, 53, 50, 59, 42, 120, 121, 118, 119, 65, 66, 52, 85, 86, 53, 89, 90, 54, 312, 313, 69, 70, 52, 49, 50, 51, 61, 60, 61, 51, 292, 293, 51, 51, 47, 47, 47, 53, 50, 59, 42, 117, 118, 117, 118, 65, 66, 52, 85, 86, 53, 94, 95, 54, 290, 291, 69, 70, 52, 49, 50, 51, 61, 60, 61, 51, 298, 299, 51, 51, 47, 47, 47, 53, 50, 59, 42, 121, 122, 114, 115, 65, 66, 52, 85, 86, 53, 89, 90, 54, 305, 306, 69, 70, 52, 49, 50, 51, 61, 60, 61, 51, 280, 281, 51, 51, 47, 47, 47, 53, 50, 59, 42, 120, 121, 115, 116, 65, 66, 52, 85, 86, 53, 94, 95, 54, 309, 310, 69, 70, 52, 49, 50, 51, 61, 60, 61, 51, 288, 289, 51, 51, 47, 47, 47, 53, 50, 59, 42, 121, 122, 119, 120, 65, 66, 52, 85, 86, 53, 94, 95, 54, 303, 304, 69, 70, 52, 49, 50, 51, 61, 60, 61, 51, 284, 285, 51, 51, 47, 47, 47, 53, 50, 59, 42, 117, 118, 114, 115, 65, 66, 52, 85, 86, 53, 92, 93, 54, 301, 302, 69, 70, 52, 49, 50, 51, 61, 60, 61, 51, 285, 286, 51, 51, 47, 47, 47, 53, 50, 59, 42, 118, 119, 121, 122, 65, 66, 52, 85, 86, 53, 88, 89, 54, 314, 315, 69, 70, 52, 49, 50, 51, 61, 60, 61, 51, 303, 304, 51, 51, 47, 47, 47, 53, 50, 59, 42, 117, 118, 119, 120, 65, 66, 52, 85, 86, 53, 89, 90, 54, 310, 311, 69, 70, 52, 49, 50, 51, 61, 60, 61, 51, 282, 283, 51, 51, 47, 47, 47, 53, 50, 59, 42, 120, 121, 118, 119, 65, 66, 52, 85, 86, 53, 89, 90, 54, 313, 314, 69, 70, 52, 49, 50, 51, 61, 60, 61, 51, 286, 287, 51, 51, 47, 47, 47, 53, 50, 59, 42, 120, 121, 119, 120, 65, 66, 52, 85, 86, 53, 94, 95, 54, 287, 288, 69, 70, 52, 49, 50, 51, 61, 60, 61, 51, 296, 297, 51, 51, 47, 47, 47, 53, 50, 59, 42, 118, 119, 116, 117, 65, 66, 52, 85, 86, 53, 93, 94, 54, 309, 310, 69, 70, 52, 49, 50, 51, 61, 60, 61, 51, 315, 316, 51, 51, 47, 47, 47, 53, 50, 59, 42, 118, 119, 114, 115, 65, 66, 52, 85, 86, 53, 94, 95, 54, 307, 308, 69, 70, 52, 49, 50, 51, 61, 60, 61, 51, 292, 293, 51, 51, 47, 47, 47, 53, 50, 59, 42, 117, 118, 122, 123, 65, 66, 52, 85, 86, 53, 94, 95, 54, 321, 322, 69, 70, 52, 49, 50, 51, 61, 60, 61, 51, 310, 311, 51, 51, 47, 47, 47, 53, 50, 59, 42, 117, 118, 115, 116, 65, 66, 52, 85, 86, 53, 89, 90, 54, 321, 322, 69, 70, 52, 49, 50, 51, 61, 60, 61, 51, 307, 308, 51, 51, 47, 47, 47, 53, 50, 59, 42, 117, 118, 121, 122, 65, 66, 52, 85, 86, 53, 94, 95, 54, 283, 284, 69, 70, 52, 49, 50, 51, 61, 60, 61, 51, 352, 353, 51, 51, 47, 47, 47, 53, 50, 59, 42, 122, 123, 117, 118, 65, 66, 52, 85, 86, 53, 88, 89, 54, 291, 292, 69, 70, 52, 49, 50, 51, 61, 60, 61, 51, 320, 321, 51, 51, 47, 47, 47, 53, 50, 59, 42, 121, 122, 109, 110, 65, 66, 52, 85, 86, 53, 89, 90, 54, 290, 291, 69, 70, 52, 49, 50, 51, 61, 60, 61, 51, 302, 303, 51, 51, 47, 47, 47, 53, 50, 59, 42, 119, 120, 120, 121, 65, 66, 52, 85, 86, 53, 89, 90, 54, 302, 303, 69, 70, 52, 49, 50, 51, 61, 60, 61, 51, 320, 321, 51, 51, 47, 47, 47, 53, 50, 59, 42, 121, 122, 119, 120, 65, 66, 52, 85, 86, 53, 89, 90, 54, 289, 290, 69, 70, 52, 49, 50, 51, 61, 60, 61, 51, 291, 292, 51, 51, 47, 47, 47, 53, 50, 59, 42, 121, 122, 117, 118, 65, 66, 52, 85, 86, 53, 93, 94, 54, 322, 323, 69, 70, 52, 49, 50, 51, 61, 60, 61, 51, 287, 288, 51, 51, 47, 47, 47, 53, 50, 59, 42, 116, 117, 119, 120, 65, 66, 52, 85, 86, 53, 89, 90, 54, 298, 299, 69, 70, 52, 49, 50, 51, 61, 60, 61, 51, 285, 286, 51, 51, 47, 47, 47, 53, 50, 59, 42, 122, 123, 111, 112, 65, 66, 52, 85, 86, 53, 89, 90, 54, 292, 293, 69, 70, 52, 49, 50, 51, 61, 60, 61, 51, 291, 292, 51, 51, 47, 47, 47, 53, 50, 59, 42, 117, 118, 115, 116, 65, 66, 52, 85, 86, 53, 89, 90, 54, 307, 308, 69, 70, 52, 49, 50, 51, 61, 60, 61, 51, 317, 318, 51, 51, 47, 47, 47, 53, 50, 59, 42, 121, 122, 113, 114, 65, 66, 52, 85, 86, 53, 89, 90, 54, 301, 302, 69, 70, 52, 49, 50, 51, 61, 60, 61, 51, 303, 304, 51, 51, 47, 47, 47, 53, 50, 59, 42, 121, 122, 119, 120, 65, 66, 52, 85, 86, 53, 89, 90, 54, 286, 287, 69, 70, 52, 49, 50, 51, 61, 60, 61, 51, 291, 292, 51, 51, 47, 47, 47, 53, 50, 59, 42, 121, 122, 120, 121, 65, 66, 52, 85, 86, 53, 89, 90, 54, 298, 299, 69, 70, 52, 49, 50, 51, 61, 60, 61, 51, 293, 294, 51, 51, 47, 47, 47, 53, 50, 59, 42, 120, 121, 115, 116, 65, 66, 52, 85, 86, 53, 89, 90, 54, 278, 279, 69, 70, 52, 49, 50, 51, 61, 60, 61, 51, 277, 278, 51, 51, 47, 47, 47, 53, 50, 59, 42, 120, 121, 117, 118, 65, 66, 52, 85, 86, 53, 94, 95, 54, 308, 309, 69, 70, 52, 49, 50, 51, 61, 60, 61, 51, 297, 298, 51, 51, 47, 47, 47, 53, 50, 59, 42, 121, 122, 114, 115, 65, 66, 52, 85, 86, 53, 89, 90, 54, 295, 296, 69, 70, 52, 49, 50, 51, 61, 60, 61, 51, 290, 291, 51, 51, 47, 47, 47, 53, 50, 59, 42, 120, 121, 116, 117, 65, 66, 52, 85, 86, 53, 89, 90, 54, 302, 303, 69, 70, 52, 49, 50, 51, 61, 60, 61, 51, 276, 277, 51, 51, 47, 47, 47, 53, 50, 59, 42, 117, 118, 116, 117, 65, 66, 52, 85, 86, 53, 89, 90, 54, 310, 311, 69, 70, 52, 49, 50, 51, 61, 60, 61, 51, 304, 305, 51, 51, 47, 47, 47, 53, 50, 59, 42, 121, 122, 116, 117, 65, 66, 52, 85, 86, 53, 89, 90, 54, 328, 329, 69, 70, 52, 49, 50, 51, 61, 60, 61, 51, 303, 304, 51, 51, 47, 47, 47, 53, 50, 59, 42, 120, 121, 113, 114, 65, 66, 52, 85, 86, 53, 89, 90, 54, 318, 319, 69, 70, 52, 49, 50, 51, 61, 60, 61, 51, 309, 310, 51, 51, 47, 47, 47, 53, 50, 59, 42, 118, 119, 120, 121, 65, 66, 52, 85, 86, 53, 94, 95, 54, 302, 303, 69, 70, 52, 49, 50, 51, 61, 60, 61, 51, 288, 289, 51, 51, 47, 47, 47, 53, 50, 59, 42, 117, 118, 120, 121, 65, 66, 52, 85, 86, 53, 89, 90, 54, 293, 294, 69, 70, 52, 49, 50, 51, 61, 60, 61, 51, 301, 302, 51, 51, 47, 47, 47, 53, 50, 59, 42, 118, 119, 117, 118, 65, 66, 52, 85, 86, 53, 94, 95, 54, 302, 303, 69, 70, 52, 49, 50, 51, 61, 60, 61, 51, 301, 302, 51, 51, 47, 47, 47, 53, 50, 59, 42, 121, 122, 113, 114, 65, 66, 52, 85, 86, 53, 94, 95, 54, 318, 319, 69, 70, 52, 49, 50, 51, 61, 60, 61, 51, 296, 297, 51, 51, 47, 47, 47, 53, 50, 59, 42, 121, 122, 115, 116, 65, 66, 52, 85, 86, 53, 89, 90, 54, 336, 337, 69, 70, 52, 49, 50, 51, 61, 60, 61, 51, 293, 294, 51, 51, 47, 47, 47, 53, 50, 59, 42, 120, 121, 114, 115, 65, 66, 52, 85, 86, 53, 88, 89, 54, 318, 319, 69, 70, 52, 49, 50, 51, 61, 60, 61, 51, 300, 301, 51, 51, 47, 47, 47, 53, 50, 59, 42, 120, 121, 120, 121, 65, 66, 52, 85, 86, 53, 89, 90, 54, 295, 296, 69, 70, 52, 49, 50, 51, 61, 60, 61, 51, 317, 318, 51, 51, 47, 47, 47, 53, 50, 59, 42, 118, 119, 115, 116, 65, 66, 52, 85, 86, 53, 89, 90, 54, 304, 305, 69, 70, 52, 49, 50, 51, 61, 60, 61, 51, 305, 306, 51, 51, 47, 47, 47, 53, 50, 59, 42, 121, 122, 121, 122, 65, 66, 52, 85, 86, 53, 94, 95, 54, 298, 299, 69, 70, 52, 49, 50, 51, 61, 60, 61, 51, 296, 297, 51, 51, 47, 47, 47, 53, 50, 59, 42, 119, 120, 117, 118, 65, 66, 52, 85, 86, 53, 94, 95, 54, 289, 290, 69, 70, 52, 49, 50, 51, 61, 60, 61, 51, 301, 302, 51, 51, 47, 47, 47, 53, 50, 59, 42, 122, 123, 119, 120, 65, 66, 52, 85, 86, 53, 89, 90, 54, 308, 309, 69, 70, 52, 49, 50, 51, 61, 60, 61, 51, 302, 303, 51, 51, 47, 47, 47, 53, 50, 59, 42, 117, 118, 118, 119, 65, 66, 52, 85, 86, 53, 94, 95, 54, 288, 289, 69, 70, 52, 49, 50, 51, 61, 60, 61, 51, 291, 292, 51, 51, 47, 47, 47, 53, 50, 59, 42, 121, 122, 118, 119, 65, 66, 52, 85, 86, 53, 89, 90, 54, 291, 292, 69, 70, 52, 49, 50, 51, 61, 60, 61, 51, 292, 293, 51, 51, 47, 47, 47, 53, 50, 59, 42, 118, 119, 115, 116, 65, 66, 52, 85, 86, 53, 94, 95, 54, 309, 310, 69, 70, 52, 49, 50, 51, 61, 60, 61, 51, 302, 303, 51, 51, 47, 47, 47, 53, 50, 59, 42, 121, 122, 117, 118, 65, 66, 52, 85, 86, 53, 89, 90, 54, 308, 309, 69, 70, 52, 49, 50, 51, 61, 60, 61, 51, 312, 313, 51, 51, 47, 47, 47, 53, 50, 59, 42, 121, 122, 114, 115, 65, 66, 52, 85, 86, 53, 94, 95, 54, 314, 315, 69, 70, 52, 49, 50, 51, 61, 60, 61, 51, 276, 277, 51, 51, 47, 47, 47, 53, 50, 59, 42, 120, 121, 117, 118, 65, 66, 52, 85, 86, 53, 94, 95, 54, 283, 284, 69, 70, 52, 49, 50, 51, 61, 60, 61, 51, 293, 294, 51, 51, 47, 47, 47, 53, 50, 59, 42, 120, 121, 119, 120, 65, 66, 52, 85, 86, 53, 89, 90, 54, 334, 335, 69, 70, 52, 49, 50, 51, 61, 60, 61, 51, 300, 301, 51, 51, 47, 47, 47, 53, 50, 59, 42, 121, 122, 115, 116, 65, 66, 52, 85, 86, 53, 93, 94, 54, 287, 288, 69, 70, 52, 49, 50, 51, 61, 60, 61, 51, 315, 316, 51, 51, 47, 47, 47, 53, 50, 59, 42, 120, 121, 119, 120, 65, 66, 52, 85, 86, 53, 89, 90, 54, 302, 303, 69, 70, 52, 49, 50, 51, 61, 60, 61, 51, 299, 300, 51, 51, 47, 47, 47, 53, 50, 59, 42, 120, 121, 119, 120, 65, 66, 52, 85, 86, 53, 94, 95, 54, 288, 289, 69, 70, 52, 49, 50, 51, 61, 60, 61, 51, 311, 312, 51, 51, 47, 47, 47, 53, 50, 59, 42, 117, 118, 118, 119, 65, 66, 52, 85, 86, 53, 94, 95, 54, 312, 313, 69, 70, 52, 49, 50, 51, 61, 60, 61, 51, 292, 293, 51, 51, 47, 47, 47, 53, 50, 59, 42, 121, 122, 115, 116, 65, 66, 52, 85, 86, 53, 94, 95, 54, 288, 289, 69, 70, 52, 49, 50, 51, 61, 60, 61, 51, 320, 321, 51, 51, 47, 47, 47, 53, 50, 59, 42, 121, 122, 118, 119, 65, 66, 52, 85, 86, 53, 89, 90, 54, 295, 296, 69, 70, 52, 49, 50, 51, 61, 60, 61, 51, 283, 284, 51, 51, 47, 47, 47, 53, 50, 59, 42, 120, 121, 122, 123, 65, 66, 52, 85, 86, 53, 89, 90, 54, 300, 301, 69, 70, 52, 49, 50, 51, 61, 60, 61, 51, 297, 298, 51, 51, 47, 47, 47, 53, 50, 59, 42, 121, 122, 111, 112, 65, 66, 52, 85, 86, 53, 94, 95, 54, 321, 322, 69, 70, 52, 49, 50, 51, 61, 60, 61, 51, 296, 297, 51, 51, 47, 47, 47, 53, 50, 59, 42, 121, 122, 111, 112, 65, 66, 52, 85, 86, 53, 89, 90, 54, 303, 304, 69, 70, 52, 49, 50, 51, 61, 60, 61, 51, 281, 282, 51, 51, 47, 47, 47, 53, 50, 59, 42, 117, 118, 118, 119, 65, 66, 52, 85, 86, 53, 89, 90, 54, 303, 304, 69, 70, 52, 49, 50, 51, 61, 60, 61, 51, 311, 312, 51, 51, 47, 47, 47, 53, 50, 59, 42, 120, 121, 118, 119, 65, 66, 52, 85, 86, 53, 89, 90, 54, 286, 287, 69, 70, 52, 49, 50, 51, 61, 60, 61, 51, 289, 290, 51, 51, 47, 47, 47, 53, 50, 59, 42, 121, 122, 119, 120, 65, 66, 52, 85, 86, 53, 94, 95, 54, 284, 285, 69, 70, 52, 49, 50, 51, 61, 60, 61, 51, 302, 303, 51, 51, 47, 47, 47, 53, 50, 59, 42, 117, 118, 115, 116, 65, 66, 52, 85, 86, 53, 94, 95, 54, 313, 314, 69, 70, 52, 49, 50, 51, 61, 60, 61, 51, 304, 305, 51, 51, 47, 47, 47, 53, 50, 59, 42, 120, 121, 118, 119, 65, 66, 52, 85, 86, 53, 89, 90, 54, 290, 291, 69, 70, 52, 49, 50, 51, 61, 60, 61, 51, 278, 279, 51, 51, 47, 47, 47, 53, 50, 59, 42, 121, 122, 114, 115, 65, 66, 52, 85, 86, 53, 94, 95, 54, 315, 316, 69, 70, 52, 49, 50, 51, 61, 60, 61, 51, 290, 291, 51, 51, 47, 47, 47, 53, 50, 59, 42, 121, 122, 117, 118, 65, 66, 52, 85, 86, 53, 89, 90, 54, 297, 298, 69, 70, 52, 49, 50, 51, 61, 60, 61, 51, 304, 305, 51, 51, 47, 47, 47, 53, 50, 59, 42, 117, 118, 116, 117, 65, 66, 52, 85, 86, 53, 89, 90, 54, 308, 309, 69, 70, 52, 49, 50, 51, 61, 60, 61, 51, 300, 301, 51, 51, 47, 47, 47, 53, 50, 59, 42, 120, 121, 117, 118, 65, 66, 52, 85, 86, 53, 89, 90, 54, 300, 301, 69, 70, 52, 49, 50, 51, 61, 60, 61, 51, 292, 293, 51, 51, 47, 47, 47, 53, 50, 59, 42, 117, 118, 119, 120, 65, 66, 52, 85, 86, 53, 94, 95, 54, 290, 291, 69, 70, 52, 49, 50, 51, 61, 60, 61, 51, 280, 281, 51, 51, 47, 47, 47, 53, 50, 59, 42, 121, 122, 116, 117, 65, 66, 52, 85, 86, 53, 94, 95, 54, 294, 295, 69, 70, 52, 49, 50, 51, 61, 60, 61, 51, 296, 297, 51, 51, 47, 47, 47, 53, 50, 59, 42, 117, 118, 114, 115, 65, 66, 52, 85, 86, 53, 94, 95, 54, 297, 298, 69, 70, 52, 49, 50, 51, 61, 60, 61, 51, 313, 314, 51, 51, 47, 47, 47, 53, 50, 59, 42, 121, 122, 116, 117, 65, 66, 52, 85, 86, 53, 88, 89, 54, 307, 308, 69, 70, 52, 49, 50, 51, 61, 60, 61, 51, 293, 294, 51, 51, 47, 47, 47, 53, 50, 59, 42, 117, 118, 116, 117, 65, 66, 52, 85, 86, 53, 92, 93, 54, 319, 320, 69, 70, 52, 49, 50, 51, 61, 60, 61, 51, 306, 307, 51, 51, 47, 47, 47, 53, 50, 59, 42, 122, 123, 122, 123, 65, 66, 52, 85, 86, 53, 89, 90, 54, 317, 318, 69, 70, 52, 49, 50, 51, 61, 60, 61, 51, 308, 309, 51, 51, 47, 47, 47, 53, 50, 59, 42, 117, 118, 123, 124, 65, 66, 52, 85, 86, 53, 93, 94, 54, 315, 316, 69, 70, 52, 49, 50, 51, 61, 60, 61, 51, 291, 292, 51, 51, 47, 47, 47, 53, 50, 59, 42, 117, 118, 117, 118, 65, 66, 52, 85, 86, 53, 94, 95, 54, 303, 304, 69, 70, 52, 49, 50, 51, 61, 60, 61, 51, 306, 307, 51, 51, 47, 47, 47, 53, 50, 59, 42, 118, 119, 113, 114, 65, 66, 52, 85, 86, 53, 94, 95, 54, 298, 299, 69, 70, 52, 49, 50, 51, 61, 60, 61, 51, 291, 292, 51, 51, 47, 47, 47, 53, 50, 59, 42, 121, 122, 118, 119, 65, 66, 52, 85, 86, 53, 89, 90, 54, 276, 277, 69, 70, 52, 49, 50, 51, 61, 60, 61, 51, 291, 292, 51, 51, 47, 47, 47, 53, 50, 59, 42, 122, 123, 117, 118, 65, 66, 52, 85, 86, 53, 94, 95, 54, 298, 299, 69, 70, 52, 49, 50, 51, 61, 60, 61, 51, 300, 301, 51, 51, 47, 47, 47, 53, 50, 59, 42, 117, 118, 120, 121, 65, 66, 52, 85, 86, 53, 89, 90, 54, 301, 302, 69, 70, 52, 49, 50, 51, 61, 60, 61, 51, 284, 285, 51, 51, 47, 47, 47, 53, 50, 59, 42, 117, 118, 116, 117, 65, 66, 52, 85, 86, 53, 89, 90, 54, 289, 290, 69, 70, 52, 49, 50, 51, 61, 60, 61, 51, 282, 283, 51, 51, 47, 47, 47, 53, 50, 59, 42, 121, 122, 111, 112, 65, 66, 52, 85, 86, 53, 94, 95, 54, 302, 303, 69, 70, 52, 49, 50, 51, 61, 60, 61, 51, 286, 287, 51, 51, 47, 47, 47, 53, 50, 59, 42, 118, 119, 118, 119, 65, 66, 52, 85, 86, 53, 94, 95, 54, 338, 339, 69, 70, 52, 49, 50, 51, 61, 60, 61, 51, 307, 308, 51, 51, 47, 47, 47, 53, 50, 59, 42, 120, 121, 119, 120, 65, 66, 52, 85, 86, 53, 94, 95, 54, 319, 320, 69, 70, 52, 49, 50, 51, 61, 60, 61, 51, 298, 299, 51, 51, 47, 47, 47, 53, 50, 59, 42, 117, 118, 116, 117, 65, 66, 52, 85, 86, 53, 89, 90, 54, 296, 297, 69, 70, 52, 49, 50, 51, 61, 60, 61, 51, 308, 309, 51, 51, 47, 47, 47, 53, 50, 59, 42, 118, 119, 121, 122, 65, 66, 52, 85, 86, 53, 89, 90, 54, 307, 308, 69, 70, 52, 49, 50, 51, 61, 60, 61, 51, 309, 310, 51, 51, 47, 47, 47, 53, 50, 59, 42, 120, 121, 117, 118, 65, 66, 52, 85, 86, 53, 94, 95, 54, 267, 268, 69, 70, 52, 49, 50, 51, 61, 60, 61, 51, 287, 288, 51, 51, 47, 47, 47, 53, 50, 59, 42, 117, 118, 115, 116, 65, 66, 52, 85, 86, 53, 89, 90, 54, 296, 297, 69, 70, 52, 49, 50, 51, 61, 60, 61, 51, 332, 333, 51, 51, 47, 47, 47, 53, 50, 59, 42, 120, 121, 124, 125, 65, 66, 52, 85, 86, 53, 94, 95, 54, 297, 298, 69, 70, 52, 49, 50, 51, 61, 60, 61, 51, 301, 302, 51, 51, 47, 47, 47, 53, 50, 59, 42, 118, 119, 117, 118, 65, 66, 52, 85, 86, 53, 94, 95, 54, 282, 283, 69, 70, 52, 49, 50, 51, 61, 60, 61, 51, 293, 294, 51, 51, 47, 47, 47, 53, 50, 59, 42, 121, 122, 119, 120, 65, 66, 52, 85, 86, 53, 94, 95, 54, 312, 313, 69, 70, 52, 49, 50, 51, 61, 60, 61, 51, 295, 296, 51, 51, 47, 47, 47, 53, 50, 59, 42, 121, 122, 120, 121, 65, 66, 52, 85, 86, 53, 89, 90, 54, 328, 329, 69, 70, 52, 49, 50, 51, 61, 60, 61, 51, 278, 279, 51, 51, 47, 47, 47, 53, 50, 59, 42, 117, 118, 116, 117, 65, 66, 52, 85, 86, 53, 89, 90, 54, 296, 297, 69, 70, 52, 49, 50, 51, 61, 60, 61, 51, 316, 317, 51, 51, 47, 47, 47, 53, 50, 59, 42, 117, 118, 109, 110, 65, 66, 52, 85, 86, 53, 89, 90, 54, 307, 308, 69, 70, 52, 49, 50, 51, 61, 60, 61, 51, 318, 319, 51, 51, 47, 47, 47, 53, 50, 59, 42, 118, 119, 120, 121, 65, 66, 52, 85, 86, 53, 94, 95, 54, 303, 304, 69, 70, 52, 49, 50, 51, 61, 60, 61, 51, 297, 298, 51, 51, 47, 47, 47, 53, 50, 59, 42, 122, 123, 117, 118, 65, 66, 52, 85, 86, 53, 89, 90, 54, 291, 292, 69, 70, 52, 49, 50, 51, 61, 60, 61, 51, 278, 279, 51, 51, 47, 47, 47, 53, 50, 59, 42, 122, 123, 117, 118, 65, 66, 52, 85, 86, 53, 94, 95, 54, 304, 305, 69, 70, 52, 49, 50, 51, 61, 60, 61, 51, 309, 310, 51, 51, 47, 47, 47, 53, 50, 59, 42, 122, 123, 117, 118, 65, 66, 52, 85, 86, 53, 94, 95, 54, 287, 288, 69, 70, 52, 49, 50, 51, 61, 60, 61, 51, 285, 286, 51, 51, 47, 47, 47, 53, 50, 59, 42, 121, 122, 114, 115, 65, 66, 52, 85, 86, 53, 89, 90, 54, 290, 291, 69, 70, 52, 49, 50, 51, 61, 60, 61, 51, 284, 285, 51, 51, 47, 47, 47, 53, 50, 59, 42, 117, 118, 118, 119, 65, 66, 52, 85, 86, 53, 89, 90, 54, 291, 292, 69, 70, 52, 49, 50, 51, 61, 60, 61, 51, 301, 302, 51, 51, 47, 47, 47, 53, 50, 59, 42, 117, 118, 116, 117, 65, 66, 52, 85, 86, 53, 94, 95, 54, 305, 306, 69, 70, 52, 49, 50, 51, 61, 60, 61, 51, 284, 285, 51, 51, 47, 47, 47, 53, 50, 59, 42, 120, 121, 118, 119, 65, 66, 52, 85, 86, 53, 94, 95, 54, 321, 322, 69, 70, 52, 49, 50, 51, 61, 60, 61, 51, 285, 286, 51, 51, 47, 47, 47, 53, 50, 59, 42, 117, 118, 116, 117, 65, 66, 52, 85, 86, 53, 89, 90, 54, 315, 316, 69, 70, 52, 49, 50, 51, 61, 60, 61, 51, 283, 284, 51, 51, 47, 47, 47, 53, 50, 59, 42, 120, 121, 116, 117, 65, 66, 52, 85, 86, 53, 89, 90, 54, 300, 301, 69, 70, 52, 49, 50, 51, 61, 60, 61, 51, 313, 314, 51, 51, 47, 47, 47, 53, 50, 59, 42, 117, 118, 116, 117, 65, 66, 52, 85, 86, 53, 89, 90, 54, 325, 326, 69, 70, 52, 49, 50, 51, 61, 60, 61, 51, 325, 326, 51, 51, 47, 47, 47, 53, 50, 59, 42, 120, 121, 117, 118, 65, 66, 52, 85, 86, 53, 88, 89, 54, 294, 295, 69, 70, 52, 49, 50, 51, 61, 60, 61, 51, 292, 293, 51, 51, 47, 47, 47, 53, 50, 59, 42, 120, 121, 124, 125, 65, 66, 52, 85, 86, 53, 94, 95, 54, 283, 284, 69, 70, 52, 49, 50, 51, 61, 60, 61, 51, 303, 304, 51, 51, 47, 47, 47, 53, 50, 59, 42, 121, 122, 115, 116, 65, 66, 52, 85, 86, 53, 94, 95, 54, 274, 275, 69, 70, 52, 49, 50, 51, 61, 60, 61, 51, 320, 321, 51, 51, 47, 47, 47, 53, 50, 59, 42, 121, 122, 115, 116, 65, 66, 52, 85, 86, 53, 89, 90, 54, 296, 297, 69, 70, 52, 49, 50, 51, 61, 60, 61, 51, 315, 316, 51, 51, 47, 47, 47, 53, 50, 59, 42, 116, 117, 117, 118, 65, 66, 52, 85, 86, 53, 94, 95, 54, 291, 292, 69, 70, 52, 49, 50, 51, 61, 60, 61, 51, 313, 314, 51, 51, 47, 47, 47, 53, 50, 59, 42, 118, 119, 116, 117, 65, 66, 52, 85, 86, 53, 94, 95, 54, 300, 301, 69, 70, 52, 49, 50, 51, 61, 60, 61, 51, 302, 303, 51, 51, 47, 47, 47, 53, 50, 59, 42, 117, 118, 113, 114, 65, 66, 52, 85, 86, 53, 94, 95, 54, 300, 301, 69, 70, 52, 49, 50, 51, 61, 60, 61, 51, 299, 300, 51, 51, 47, 47, 47, 53, 50, 59, 42, 118, 119, 119, 120, 65, 66, 52, 85, 86, 53, 94, 95, 54, 302, 303, 69, 70, 52, 49, 50, 51, 61, 60, 61, 51, 303, 304, 51, 51, 47, 47, 47, 53, 50, 59, 42, 117, 118, 118, 119, 65, 66, 52, 85, 86, 53, 89, 90, 54, 290, 291, 69, 70, 52, 49, 50, 51, 61, 60, 61, 51, 292, 293, 51, 51, 47, 47, 47, 53, 50, 59, 42, 117, 118, 117, 118, 65, 66, 52, 85, 86, 53, 94, 95, 54, 300, 301, 69, 70, 52, 49, 50, 51, 61, 60, 61, 51, 304, 305, 51, 51, 47, 47, 47, 53, 50, 59, 42, 121, 122, 117, 118, 65, 66, 52, 85, 86, 53, 89, 90, 54, 291, 292, 69, 70, 52, 49, 50, 51, 61, 60, 61, 51, 298, 299, 51, 51, 47, 47, 47, 53, 50, 59, 42, 121, 122, 119, 120, 65, 66, 52, 85, 86, 53, 89, 90, 54, 286, 287, 69, 70, 52, 49, 50, 51, 61, 60, 61, 51, 306, 307, 51, 51, 47, 47, 47, 53, 50, 59, 42, 120, 121, 123, 124, 65, 66, 52, 85, 86, 53, 89, 90, 54, 288, 289, 69, 70, 52, 49, 50, 51, 61, 60, 61, 51, 304, 305, 51, 51, 47, 47, 47, 53, 50, 59, 42, 121, 122, 121, 122, 65, 66, 52, 85, 86, 53, 94, 95, 54, 296, 297, 69, 70, 52, 49, 50, 51, 61, 60, 61, 51, 291, 292, 51, 51, 47, 47, 47, 53, 50, 59, 42, 121, 122, 117, 118, 65, 66, 52, 85, 86, 53, 94, 95, 54, 302, 303, 69, 70, 52, 49, 50, 51, 61, 60, 61, 51, 299, 300, 51, 51, 47, 47, 47, 53, 50, 59, 42, 120, 121, 122, 123, 65, 66, 52, 85, 86, 53, 89, 90, 54, 302, 303, 69, 70, 52, 49, 50, 51, 61, 60, 61, 51, 315, 316, 51, 51, 47, 47, 47, 53, 50, 59, 42, 117, 118, 117, 118, 65, 66, 52, 85, 86, 53, 89, 90, 54, 297, 298, 69, 70, 52, 49, 50, 51, 61, 60, 61, 51, 318, 319, 51, 51, 47, 47, 47, 53, 50, 59, 42, 121, 122, 115, 116, 65, 66, 52, 85, 86, 53, 89, 90, 54, 285, 286, 69, 70, 52, 49, 50, 51, 61, 60, 61, 51, 311, 312, 51, 51, 47, 47, 47, 53, 50, 59, 42, 122, 123, 120, 121, 65, 66, 52, 85, 86, 53, 94, 95, 54, 322, 323, 69, 70, 52, 49, 50, 51, 61, 60, 61, 51, 279, 280, 51, 51, 47, 47, 47, 53, 50, 59, 42, 121, 122, 115, 116, 65, 66, 52, 85, 86, 53, 89, 90, 54, 281, 282, 69, 70, 52, 49, 50, 51, 61, 60, 61, 51, 298, 299, 51, 51, 47, 47, 47, 53, 50, 59, 42, 117, 118, 119, 120, 65, 66, 52, 85, 86, 53, 94, 95, 54, 311, 312, 69, 70, 52, 49, 50, 51, 61, 60, 61, 51, 303, 304, 51, 51, 47, 47, 47, 53, 50, 59, 42, 121, 122, 118, 119, 65, 66, 52, 85, 86, 53, 94, 95, 54, 283, 284, 69, 70, 52, 49, 50, 51, 61, 60, 61, 51, 305, 306, 51, 51, 47, 47, 47, 53, 50, 59, 42, 117, 118, 117, 118, 65, 66, 52, 85, 86, 53, 89, 90, 54, 275, 276, 69, 70, 52, 49, 50, 51, 61, 60, 61, 51, 290, 291, 51, 51, 47, 47, 47, 53, 50, 59, 42, 120, 121, 116, 117, 65, 66, 52, 85, 86, 53, 89, 90, 54, 325, 326, 69, 70, 52, 49, 50, 51, 61, 60, 61, 51, 288, 289, 51, 51, 47, 47, 47, 53, 50, 59, 42, 117, 118, 115, 116, 65, 66, 52, 85, 86, 53, 94, 95, 54, 295, 296, 69, 70, 52, 49, 50, 51, 61, 60, 61, 51, 297, 298, 51, 51, 47, 47, 47, 53, 50, 59, 42, 117, 118, 115, 116, 65, 66, 52, 85, 86, 53, 94, 95, 54, 286, 287, 69, 70, 52, 49, 50, 51, 61, 60, 61, 51, 301, 302, 51, 51, 47, 47, 47, 53, 50, 59, 42, 121, 122, 113, 114, 65, 66, 52, 85, 86, 53, 89, 90, 54, 308, 309, 69, 70, 52, 49, 50, 51, 61, 60, 61, 51, 302, 303, 51, 51, 47, 47, 47, 53, 50, 59, 42, 117, 118, 117, 118, 65, 66, 52, 85, 86, 53, 93, 94, 54, 283, 284, 69, 70, 52, 49, 50, 51, 61, 60, 61, 51, 279, 280, 51, 51, 47, 47, 47, 53, 50, 59, 42, 120, 121, 115, 116, 65, 66, 52, 85, 86, 53, 93, 94, 54, 324, 325, 69, 70, 52, 49, 50, 51, 61, 60, 61, 51, 293, 294, 51, 51, 47, 47, 47, 53, 50, 59, 42, 117, 118, 117, 118, 65, 66, 52, 85, 86, 53, 93, 94, 54, 296, 297, 69, 70, 52, 49, 50, 51, 61, 60, 61, 51, 298, 299, 51, 51, 47, 47, 47, 53, 50, 59, 42, 117, 118, 124, 125, 65, 66, 52, 85, 86, 53, 94, 95, 54, 299, 300, 69, 70, 52, 49, 50, 51, 61, 60, 61, 51, 292, 293, 51, 51, 47, 47, 47, 53, 50, 59, 42, 121, 122, 119, 120, 65, 66, 52, 85, 86, 53, 89, 90, 54, 286, 287, 69, 70, 52, 49, 50, 51, 61, 60, 61, 51, 305, 306, 51, 51, 47, 47, 47, 53, 50, 59, 42, 117, 118, 114, 115, 65, 66, 52, 85, 86, 53, 94, 95, 54, 296, 297, 69, 70, 52, 49, 50, 51, 61, 60, 61, 51, 291, 292, 51, 51, 47, 47, 47, 53, 50, 59, 42, 121, 122, 118, 119, 65, 66, 52, 85, 86, 53, 94, 95, 54, 293, 294, 69, 70, 52, 49, 50, 51, 61, 60, 61, 51, 300, 301, 51, 51, 47, 47, 47, 53, 50, 59, 42, 117, 118, 119, 120, 65, 66, 52, 85, 86, 53, 94, 95, 54, 313, 314, 69, 70, 52, 49, 50, 51, 61, 60, 61, 51, 277, 278, 51, 51, 47, 47, 47, 53, 50, 59, 42, 116, 117, 118, 119, 65, 66, 52, 85, 86, 53, 94, 95, 54, 294, 295, 69, 70, 52, 49, 50, 51, 61, 60, 61, 51, 297, 298, 51, 51, 47, 47, 47, 53, 50, 59, 42, 121, 122, 120, 121, 65, 66, 52, 85, 86, 53, 94, 95, 54, 302, 303, 69, 70, 52, 49, 50, 51, 61, 60, 61, 51, 299, 300, 51, 51, 47, 47, 47, 53, 50, 59, 42, 121, 122, 119, 120, 65, 66, 52, 85, 86, 53, 94, 95, 54, 294, 295, 69, 70, 52, 49, 50, 51, 61, 60, 61, 51, 307, 308, 51, 51, 47, 47, 47, 53, 50, 59, 42, 121, 122, 114, 115, 65, 66, 52, 85, 86, 53, 94, 95, 54, 288, 289, 69, 70, 52, 49, 50, 51, 61, 60, 61, 51, 301, 302, 51, 51, 47, 47, 47, 53, 50, 59, 42, 118, 119, 116, 117, 65, 66, 52, 85, 86, 53, 94, 95, 54, 310, 311, 69, 70, 52, 49, 50, 51, 61, 60, 61, 51, 288, 289, 51, 51, 47, 47, 47, 53, 50, 59, 42, 120, 121, 113, 114, 65, 66, 52, 85, 86, 53, 89, 90, 54, 294, 295, 69, 70, 52, 49, 50, 51, 61, 60, 61, 51, 277, 278, 51, 51, 47, 47, 47, 53, 50, 59, 42, 121, 122, 118, 119, 65, 66, 52, 85, 86, 53, 94, 95, 54, 292, 293, 69, 70, 52, 49, 50, 51, 61, 60, 61, 51, 292, 293, 51, 51, 47, 47, 47, 53, 50, 59, 42, 120, 121, 121, 122, 65, 66, 52, 85, 86, 53, 89, 90, 54, 302, 303, 69, 70, 52, 49, 50, 51, 61, 60, 61, 51, 295, 296, 51, 51, 47, 47, 47, 53, 50, 59, 42, 117, 118, 113, 114, 65, 66, 52, 85, 86, 53, 89, 90, 54, 282, 283, 69, 70, 52, 49, 50, 51, 61, 60, 61, 51, 294, 295, 51, 51, 47, 47, 47, 53, 50, 59, 42, 120, 121, 117, 118, 65, 66, 52, 85, 86, 53, 89, 90, 54, 314, 315, 69, 70, 52, 49, 50, 51, 61, 60, 61, 51, 291, 292, 51, 51, 47, 47, 47, 53, 50, 59, 42, 121, 122, 120, 121, 65, 66, 52, 85, 86, 53, 89, 90, 54, 291, 292, 69, 70, 52, 49, 50, 51, 61, 60, 61, 51, 313, 314, 51, 51, 47, 47, 47, 53, 50, 59, 42, 120, 121, 113, 114, 65, 66, 52, 85, 86, 53, 94, 95, 54, 294, 295, 69, 70, 52, 49, 50, 51, 61, 60, 61, 51, 289, 290, 51, 51, 47, 47, 47, 53, 50, 59, 42, 120, 121, 117, 118, 65, 66, 52, 85, 86, 53, 89, 90, 54, 301, 302, 69, 70, 52, 49, 50, 51, 61, 60, 61, 51, 327, 328, 51, 51, 47, 47, 47, 53, 50, 59, 42, 117, 118, 115, 116, 65, 66, 52, 85, 86, 53, 89, 90, 54, 315, 316, 69, 70, 52, 49, 50, 51, 61, 60, 61, 51, 310, 311, 51, 51, 47, 47, 47, 53, 50, 59, 42, 121, 122, 120, 121, 65, 66, 52, 85, 86, 53, 89, 90, 54, 281, 282, 69, 70, 52, 49, 50, 51, 61, 60, 61, 51, 313, 314, 51, 51, 47, 47, 47, 53, 50, 59, 42, 121, 122, 120, 121, 65, 66, 52, 85, 86, 53, 93, 94, 54, 303, 304, 69, 70, 52, 49, 50, 51, 61, 60, 61, 51, 282, 283, 51, 51, 47, 47, 47, 53, 50, 59, 42, 122, 123, 123, 124, 65, 66, 52, 85, 86, 53, 94, 95, 54, 314, 315, 69, 70, 52, 49, 50, 51, 61, 60, 61, 51, 301, 302, 51, 51, 47, 47, 47, 53, 50, 59, 42, 121, 122, 117, 118, 65, 66, 52, 85, 86, 53, 89, 90, 54, 297, 298, 69, 70, 52, 49, 50, 51, 61, 60, 61, 51, 268, 269, 51, 51, 47, 47, 47, 53, 50, 59, 42, 118, 119, 119, 120, 65, 66, 52, 85, 86, 53, 89, 90, 54, 311, 312, 69, 70, 52, 49, 50, 51, 61, 60, 61, 51, 336, 337, 51, 51, 47, 47, 47, 53, 50, 59, 42, 117, 118, 117, 118, 65, 66, 52, 85, 86, 53, 89, 90, 54, 297, 298, 69, 70, 52, 49, 50, 51, 61, 60, 61, 51, 299, 300, 51, 51, 47, 47, 47, 53, 50, 59, 42, 120, 121, 116, 117, 65, 66, 52, 85, 86, 53, 92, 93, 54, 288, 289, 69, 70, 52, 49, 50, 51, 61, 60, 61, 51, 306, 307, 51, 51, 47, 47, 47, 53, 50, 59, 42, 117, 118, 113, 114, 65, 66, 52, 85, 86, 53, 94, 95, 54, 306, 307, 69, 70, 52, 49, 50, 51, 61, 60, 61, 51, 303, 304, 51, 51, 47, 47, 47, 53, 50, 59, 42, 117, 118, 122, 123, 65, 66, 52, 85, 86, 53, 89, 90, 54, 309, 310, 69, 70, 52, 49, 50, 51, 61, 60, 61, 51, 306, 307, 51, 51, 47, 47, 47, 53, 50, 59, 42, 117, 118, 116, 117, 65, 66, 52, 85, 86, 53, 89, 90, 54, 295, 296, 69, 70, 52, 49, 50, 51, 61, 60, 61, 51, 309, 310, 51, 51, 47, 47, 47, 53, 50, 59, 42, 118, 119, 116, 117, 65, 66, 52, 85, 86, 53, 89, 90, 54, 292, 293, 69, 70, 52, 49, 50, 51, 61, 60, 61, 51, 314, 315, 51, 51, 47, 47, 47, 53, 50, 59, 42, 118, 119, 114, 115, 65, 66, 52, 85, 86, 53, 89, 90, 54, 296, 297, 69, 70, 52, 49, 50, 51, 61, 60, 61, 51, 300, 301, 51, 51, 47, 47, 47, 53, 50, 59, 42, 117, 118, 118, 119, 65, 66, 52, 85, 86, 53, 89, 90, 54, 300, 301, 69, 70, 52, 49, 50, 51, 61, 60, 61, 51, 277, 278, 51, 51, 47, 47, 47, 53, 50, 59, 42, 122, 123, 121, 122, 65, 66, 52, 85, 86, 53, 94, 95, 54, 284, 285, 69, 70, 52, 49, 50, 51, 61, 60, 61, 51, 280, 281, 51, 51, 47, 47, 47, 53, 50, 59, 42, 120, 121, 114, 115, 65, 66, 52, 85, 86, 53, 89, 90, 54, 293, 294, 69, 70, 52, 49, 50, 51, 61, 60, 61, 51, 282, 283, 51, 51, 47, 47, 47, 53, 50, 59, 42, 122, 123, 122, 123, 65, 66, 52, 85, 86, 53, 89, 90, 54, 296, 297, 69, 70, 52, 49, 50, 51, 61, 60, 61, 51, 331, 332, 51, 51, 47, 47, 47, 53, 50, 59, 42, 121, 122, 118, 119, 65, 66, 52, 85, 86, 53, 89, 90, 54, 288, 289, 69, 70, 52, 49, 50, 51, 61, 60, 61, 51, 305, 306, 51, 51, 47, 47, 47, 53, 50, 59, 42, 121, 122, 119, 120, 65, 66, 52, 85, 86, 53, 89, 90, 54, 287, 288, 69, 70, 52, 49, 50, 51, 61, 60, 61, 51, 316, 317, 51, 51, 47, 47, 47, 53, 50, 59, 42, 120, 121, 118, 119, 65, 66, 52, 85, 86, 53, 94, 95, 54, 308, 309, 69, 70, 52, 49, 50, 51, 61, 60, 61, 51, 274, 275, 51, 51, 47, 47, 47, 53, 50, 59, 42, 121, 122, 120, 121, 65, 66, 52, 85, 86, 53, 93, 94, 54, 305, 306, 69, 70, 52, 49, 50, 51, 61, 60, 61, 51, 308, 309, 51, 51, 47, 47, 47, 53, 50, 59, 42, 118, 119, 119, 120, 65, 66, 52, 85, 86, 53, 89, 90, 54, 288, 289, 69, 70, 52, 49, 50, 51, 61, 60, 61, 51, 299, 300, 51, 51, 47, 47, 47, 53, 50, 59, 42, 121, 122, 115, 116, 65, 66, 52, 85, 86, 53, 89, 90, 54, 289, 290, 69, 70, 52, 49, 50, 51, 61, 60, 61, 51, 287, 288, 51, 51, 47, 47, 47, 53, 50, 59, 42, 121, 122, 118, 119, 65, 66, 52, 85, 86, 53, 89, 90, 54, 304, 305, 69, 70, 52, 49, 50, 51, 61, 60, 61, 51, 294, 295, 51, 51, 47, 47, 47, 53, 50, 59, 42, 117, 118, 119, 120, 65, 66, 52, 85, 86, 53, 94, 95, 54, 275, 276, 69, 70, 52, 49, 50, 51, 61, 60, 61, 51, 292, 293, 51, 51, 47, 47, 47, 53, 50, 59, 42, 120, 121, 117, 118, 65, 66, 52, 85, 86, 53, 94, 95, 54, 291, 292, 69, 70, 52, 49, 50, 51, 61, 60, 61, 51, 296, 297, 51, 51, 47, 47, 47, 53, 50, 59, 42, 120, 121, 115, 116, 65, 66, 52, 85, 86, 53, 89, 90, 54, 314, 315, 69, 70, 52, 49, 50, 51, 61, 60, 61, 51, 300, 301, 51, 51, 47, 47, 47, 53, 50, 59, 42, 122, 123, 115, 116, 65, 66, 52, 85, 86, 53, 89, 90, 54, 306, 307, 69, 70, 52, 49, 50, 51, 61, 60, 61, 51, 300, 301, 51, 51, 47, 47, 47, 53, 50, 59, 42, 121, 122, 117, 118, 65, 66, 52, 85, 86, 53, 89, 90, 54, 304, 305, 69, 70, 52, 49, 50, 51, 61, 60, 61, 51, 267, 268, 51, 51, 47, 47, 47, 53, 50, 59, 42, 121, 122, 116, 117, 65, 66, 52, 85, 86, 53, 94, 95, 54, 325, 326, 69, 70, 52, 49, 50, 51, 61, 60, 61, 51, 300, 301, 51, 51, 47, 47, 47, 53, 50, 59, 42, 118, 119, 116, 117, 65, 66, 52, 85, 86, 53, 94, 95, 54, 295, 296, 69, 70, 52, 49, 50, 51, 61, 60, 61, 51, 300, 301, 51, 51, 47, 47, 47, 53, 50, 59, 42, 121, 122, 113, 114, 65, 66, 52, 85, 86, 53, 89, 90, 54, 295, 296, 69, 70, 52, 49, 50, 51, 61, 60, 61, 51, 297, 298, 51, 51, 47, 47, 47, 53, 50, 59, 42, 117, 118, 117, 118, 65, 66, 52, 85, 86, 53, 94, 95, 54, 298, 299, 69, 70, 52, 49, 50, 51, 61, 60, 61, 51, 302, 303, 51, 51, 47, 47, 47, 53, 50, 59, 42, 118, 119, 117, 118, 65, 66, 52, 85, 86, 53, 89, 90, 54, 296, 297, 69, 70, 52, 49, 50, 51, 61, 60, 61, 51, 276, 277, 51, 51, 47, 47, 47, 53, 50, 59, 42, 122, 123, 116, 117, 65, 66, 52, 85, 86, 53, 94, 95, 54, 282, 283, 69, 70, 52, 49, 50, 51, 61, 60, 61, 51, 283, 284, 51, 51, 47, 47, 47, 53, 50, 59, 42, 118, 119, 115, 116, 65, 66, 52, 85, 86, 53, 94, 95, 54, 308, 309, 69, 70, 52, 49, 50, 51, 61, 60, 61, 51, 315, 316, 51, 51, 47, 47, 47, 53, 50, 59, 42, 120, 121, 113, 114, 65, 66, 52, 85, 86, 53, 94, 95, 54, 307, 308, 69, 70, 52, 49, 50, 51, 61, 60, 61, 51, 288, 289, 51, 51, 47, 47, 47, 53, 50, 59, 42, 117, 118, 117, 118, 65, 66, 52, 85, 86, 53, 89, 90, 54, 295, 296, 69, 70, 52, 49, 50, 51, 61, 60, 61, 51, 303, 304, 51, 51, 47, 47, 47, 53, 50, 59, 42, 120, 121, 119, 120, 65, 66, 52, 85, 86, 53, 89, 90, 54, 290, 291, 69, 70, 52, 49, 50, 51, 61, 60, 61, 51, 325, 326, 51, 51, 47, 47, 47, 53, 50, 59, 42, 121, 122, 113, 114, 65, 66, 52, 85, 86, 53, 94, 95, 54, 303, 304, 69, 70, 52, 49, 50, 51, 61, 60, 61, 51, 297, 298, 51, 51, 47, 47, 47, 53, 50, 59, 42, 120, 121, 122, 123, 65, 66, 52, 85, 86, 53, 93, 94, 54, 293, 294, 69, 70, 52, 49, 50, 51, 61, 60, 61, 51, 300, 301, 51, 51, 47, 47, 47, 53, 50, 59, 42, 121, 122, 119, 120, 65, 66, 52, 85, 86, 53, 89, 90, 54, 298, 299, 69, 70, 52, 49, 50, 51, 61, 60, 61, 51, 277, 278, 51, 51, 47, 47, 47, 53, 50, 59, 42, 120, 121, 110, 111, 65, 66, 52, 85, 86, 53, 94, 95, 54, 304, 305, 69, 70, 52, 49, 50, 51, 61, 60, 61, 51, 292, 293, 51, 51, 47, 47, 47, 53, 50, 59, 42, 121, 122, 115, 116, 65, 66, 52, 85, 86, 53, 94, 95, 54, 302, 303, 69, 70, 52, 49, 50, 51, 61, 60, 61, 51, 284, 285, 51, 51, 47, 47, 47, 53, 50, 59, 42, 120, 121, 111, 112, 65, 66, 52, 85, 86, 53, 94, 95, 54, 307, 308, 69, 70, 52, 49, 50, 51, 61, 60, 61, 51, 291, 292, 51, 51, 47, 47, 47, 53, 50, 59, 42, 121, 122, 113, 114, 65, 66, 52, 85, 86, 53, 89, 90, 54, 295, 296, 69, 70, 52, 49, 50, 51, 61, 60, 61, 51, 303, 304, 51, 51, 47, 47, 47, 53, 50, 59, 42, 119, 120, 117, 118, 65, 66, 52, 85, 86, 53, 88, 89, 54, 301, 302, 69, 70, 52, 49, 50, 51, 61, 60, 61, 51, 315, 316, 51, 51, 47, 47, 47, 53, 50, 59, 42, 122, 123, 122, 123, 65, 66, 52, 85, 86, 53, 89, 90, 54, 311, 312, 69, 70, 52, 49, 50, 51, 61, 60, 61, 51, 301, 302, 51, 51, 47, 47, 47, 53, 50, 59, 42, 119, 120, 112, 113, 65, 66, 52, 85, 86, 53, 94, 95, 54, 295, 296, 69, 70, 52, 49, 50, 51, 61, 60, 61, 51, 329, 330, 51, 51, 47, 47, 47, 53, 50, 59, 42, 117, 118, 115, 116, 65, 66, 52, 85, 86, 53, 94, 95, 54, 293, 294, 69, 70, 52, 49, 50, 51, 61, 60, 61, 51, 313, 314, 51, 51, 47, 47, 47, 53, 50, 59, 42, 122, 123, 117, 118, 65, 66, 52, 85, 86, 53, 89, 90, 54, 299, 300, 69, 70, 52, 49, 50, 51, 61, 60, 61, 51, 302, 303, 51, 51, 47, 47, 47, 53, 50, 59, 42, 122, 123, 117, 118, 65, 66, 52, 85, 86, 53, 94, 95, 54, 293, 294, 69, 70, 52, 49, 50, 51, 61, 60, 61, 51, 283, 284, 51, 51, 47, 47, 47, 53, 50, 59, 42, 120, 121, 116, 117, 65, 66, 52, 85, 86, 53, 94, 95, 54, 296, 297, 69, 70, 52, 49, 50, 51, 61, 60, 61, 51, 298, 299, 51, 51, 47, 47, 47, 53, 50, 59, 42, 121, 122, 119, 120, 65, 66, 52, 85, 86, 53, 94, 95, 54, 321, 322, 69, 70, 52, 49, 50, 51, 61, 60, 61, 51, 286, 287, 51, 51, 47, 47, 47, 53, 50, 59, 42, 121, 122, 116, 117, 65, 66, 52, 85, 86, 53, 94, 95, 54, 282, 283, 69, 70, 52, 49, 50, 51, 61, 60, 61, 51, 281, 282, 51, 51, 47, 47, 47, 53, 50, 59, 42, 117, 118, 117, 118, 65, 66, 52, 85, 86, 53, 94, 95, 54, 283, 284, 69, 70, 52, 49, 50, 51, 61, 60, 61, 51, 308, 309, 51, 51, 47, 47, 47, 53, 50, 59, 42, 120, 121, 115, 116, 65, 66, 52, 85, 86, 53, 89, 90, 54, 296, 297, 69, 70, 52, 49, 50, 51, 61, 60, 61, 51, 291, 292, 51, 51, 47, 47, 47, 53, 50, 59, 42, 120, 121, 116, 117, 65, 66, 52, 85, 86, 53, 89, 90, 54, 282, 283, 69, 70, 52, 49, 50, 51, 61, 60, 61, 51, 297, 298, 51, 51, 47, 47, 47, 53, 50, 59, 42, 120, 121, 115, 116, 65, 66, 52, 85, 86, 53, 94, 95, 54, 297, 298, 69, 70, 52, 49, 50, 51, 61, 60, 61, 51, 279, 280, 51, 51, 47, 47, 47, 53, 50, 59, 42, 121, 122, 114, 115, 65, 66, 52, 85, 86, 53, 89, 90, 54, 293, 294, 69, 70, 52, 49, 50, 51, 61, 60, 61, 51, 287, 288, 51, 51, 47, 47, 47, 53, 50, 59, 42, 121, 122, 114, 115, 65, 66, 52, 85, 86, 53, 89, 90, 54, 307, 308, 69, 70, 52, 49, 50, 51, 61, 60, 61, 51, 282, 283, 51, 51, 47, 47, 47, 53, 50, 59, 42, 117, 118, 118, 119, 65, 66, 52, 85, 86, 53, 94, 95, 54, 300, 301, 69, 70, 52, 49, 50, 51, 61, 60, 61, 51, 283, 284, 51, 51, 47, 47, 47, 53, 50, 59, 42, 121, 122, 115, 116, 65, 66, 52, 85, 86, 53, 94, 95, 54, 299, 300, 69, 70, 52, 49, 50, 51, 61, 60, 61, 51, 290, 291, 51, 51, 47, 47, 47, 53, 50, 59, 42, 117, 118, 119, 120, 65, 66, 52, 85, 86, 53, 89, 90, 54, 310, 311, 69, 70, 52, 49, 50, 51, 61, 60, 61, 51, 298, 299, 51, 51, 47, 47, 47, 53, 50, 59, 42, 121, 122, 112, 113, 65, 66, 52, 85, 86, 53, 89, 90, 54, 282, 283, 69, 70, 52, 49, 50, 51, 61, 60, 61, 51, 313, 314, 51, 51, 47, 47, 47, 53, 50, 59, 42, 120, 121, 117, 118, 65, 66, 52, 85, 86, 53, 89, 90, 54, 303, 304, 69, 70, 52, 49, 50, 51, 61, 60, 61, 51, 301, 302, 51, 51, 47, 47, 47, 53, 50, 59, 42, 118, 119, 113, 114, 65, 66, 52, 85, 86, 53, 89, 90, 54, 284, 285, 69, 70, 52, 49, 50, 51, 61, 60, 61, 51, 319, 320, 51, 51, 47, 47, 47, 53, 50, 59, 42, 121, 122, 115, 116, 65, 66, 52, 85, 86, 53, 94, 95, 54, 309, 310, 69, 70, 52, 49, 50, 51, 61, 60, 61, 51, 300, 301, 51, 51, 47, 47, 47, 53, 50, 59, 42, 118, 119, 113, 114, 65, 66, 52, 85, 86, 53, 94, 95, 54, 286, 287, 69, 70, 52, 49, 50, 51, 61, 60, 61, 51, 295, 296, 51, 51, 47, 47, 47, 53, 50, 59, 42, 117, 118, 118, 119, 65, 66, 52, 85, 86, 53, 89, 90, 54, 293, 294, 69, 70, 52, 49, 50, 51, 61, 60, 61, 51, 315, 316, 51, 51, 47, 47, 47, 53, 50, 59, 42, 117, 118, 116, 117, 65, 66, 52, 85, 86, 53, 94, 95, 54, 306, 307, 69, 70, 52, 49, 50, 51, 61, 60, 61, 51, 302, 303, 51, 51, 47, 47, 47, 53, 50, 59, 42, 121, 122, 120, 121, 65, 66, 52, 85, 86, 53, 93, 94, 54, 307, 308, 69, 70, 52, 49, 50, 51, 61, 60, 61, 51, 281, 282, 51, 51, 47, 47, 47, 53, 50, 59, 42, 117, 118, 117, 118, 65, 66, 52, 85, 86, 53, 92, 93, 54, 275, 276, 69, 70, 52, 49, 50, 51, 61, 60, 61, 51, 299, 300, 51, 51, 47, 47, 47, 53, 50, 59, 42, 120, 121, 118, 119, 65, 66, 52, 85, 86, 53, 89, 90, 54, 307, 308, 69, 70, 52, 49, 50, 51, 61, 60, 61, 51, 294, 295, 51, 51, 47, 47, 47, 53, 50, 59, 42, 117, 118, 114, 115, 65, 66, 52, 85, 86, 53, 89, 90, 54, 296, 297, 69, 70, 52, 49, 50, 51, 61, 60, 61, 51, 294, 295, 51, 51, 47, 47, 47, 53, 50, 59, 42, 120, 121, 118, 119, 65, 66, 52, 85, 86, 53, 89, 90, 54, 284, 285, 69, 70, 52, 49, 50, 51, 61, 60, 61, 51, 305, 306, 51, 51, 47, 47, 47, 53, 50, 59, 42, 121, 122, 114, 115, 65, 66, 52, 85, 86, 53, 94, 95, 54, 284, 285, 69, 70, 52, 49, 50, 51, 61, 60, 61, 51, 302, 303, 51, 51, 47, 47, 47, 53, 50, 59, 42, 120, 121, 118, 119, 65, 66, 52, 85, 86, 53, 89, 90, 54, 284, 285, 69, 70, 52, 49, 50, 51, 61, 60, 61, 51, 299, 300, 51, 51, 47, 47, 47, 53, 50, 59, 42, 121, 122, 118, 119, 65, 66, 52, 85, 86, 53, 89, 90, 54, 291, 292, 69, 70, 52, 49, 50, 51, 61, 60, 61, 51, 295, 296, 51, 51, 47, 47, 47, 53, 50, 59, 42, 118, 119, 122, 123, 65, 66, 52, 85, 86, 53, 94, 95, 54, 304, 305, 69, 70, 52, 49, 50, 51, 61, 60, 61, 51, 285, 286, 51, 51, 47, 47, 47, 53, 50, 59, 42, 117, 118, 117, 118, 65, 66, 52, 85, 86, 53, 94, 95, 54, 276, 277, 69, 70, 52, 49, 50, 51, 61, 60, 61, 51, 302, 303, 51, 51, 47, 47, 47, 53, 50, 59, 42, 121, 122, 114, 115, 65, 66, 52, 85, 86, 53, 94, 95, 54, 303, 304, 69, 70, 52, 49, 50, 51, 61, 60, 61, 51, 315, 316, 51, 51, 47, 47, 47, 53, 50, 59, 42, 121, 122, 117, 118, 65, 66, 52, 85, 86, 53, 94, 95, 54, 311, 312, 69, 70, 52, 49, 50, 51, 61, 60, 61, 51, 299, 300, 51, 51, 47, 47, 47, 53, 50, 59, 42, 117, 118, 117, 118, 65, 66, 52, 85, 86, 53, 94, 95, 54, 295, 296, 69, 70, 52, 49, 50, 51, 61, 60, 61, 51, 290, 291, 51, 51, 47, 47, 47, 53, 50, 59, 42, 122, 123, 113, 114, 65, 66, 52, 85, 86, 53, 88, 89, 54, 288, 289, 69, 70, 52, 49, 50, 51, 61, 60, 61, 51, 300, 301, 51, 51, 47, 47, 47, 53, 50, 59, 42, 120, 121, 113, 114, 65, 66, 52, 85, 86, 53, 89, 90, 54, 286, 287, 69, 70, 52, 49, 50, 51, 61, 60, 61, 51, 294, 295, 51, 51, 47, 47, 47, 53, 50, 59, 42, 118, 119, 117, 118, 65, 66, 52, 85, 86, 53, 93, 94, 54, 295, 296, 69, 70, 52, 49, 50, 51, 61, 60, 61, 51, 305, 306, 51, 51, 47, 47, 47, 53, 50, 59, 42, 117, 118, 118, 119, 65, 66, 52, 85, 86, 53, 94, 95, 54, 285, 286, 69, 70, 52, 49, 50, 51, 61, 60, 61, 51, 298, 299, 51, 51, 47, 47, 47, 53, 50, 59, 42, 121, 122, 119, 120, 65, 66, 52, 85, 86, 53, 89, 90, 54, 305, 306, 69, 70, 52, 49, 50, 51, 61, 60, 61, 51, 313, 314, 51, 51, 47, 47, 47, 53, 50, 59, 42, 117, 118, 115, 116, 65, 66, 52, 85, 86, 53, 94, 95, 54, 287, 288, 69, 70, 52, 49, 50, 51, 61, 60, 61, 51, 282, 283, 51, 51, 47, 47, 47, 53, 50, 59, 42, 117, 118, 114, 115, 65, 66, 52, 85, 86, 53, 94, 95, 54, 312, 313, 69, 70, 52, 49, 50, 51, 61, 60, 61, 51, 299, 300, 51, 51, 47, 47, 47, 53, 50, 59, 42, 121, 122, 116, 117, 65, 66, 52, 85, 86, 53, 94, 95, 54, 328, 329, 69, 70, 52, 49, 50, 51, 61, 60, 61, 51, 316, 317, 51, 51, 47, 47, 47, 53, 50, 59, 42, 121, 122, 117, 118, 65, 66, 52, 85, 86, 53, 94, 95, 54, 294, 295, 69, 70, 52, 49, 50, 51, 61, 60, 61, 51, 296, 297, 51, 51, 47, 47, 47, 53, 50, 59, 42, 121, 122, 115, 116, 65, 66, 52, 85, 86, 53, 89, 90, 54, 290, 291, 69, 70, 52, 49, 50, 51, 61, 60, 61, 51, 295, 296, 51, 51, 47, 47, 47, 53, 50, 59, 42, 120, 121, 116, 117, 65, 66, 52, 85, 86, 53, 94, 95, 54, 292, 293, 69, 70, 52, 49, 50, 51, 61, 60, 61, 51, 286, 287, 51, 51, 47, 47, 47, 53, 50, 59, 42, 118, 119, 116, 117, 65, 66, 52, 85, 86, 53, 94, 95, 54, 295, 296, 69, 70, 52, 49, 50, 51, 61, 60, 61, 51, 313, 314, 51, 51, 47, 47, 47, 53, 50, 59, 42, 120, 121, 115, 116, 65, 66, 52, 85, 86, 53, 94, 95, 54, 303, 304, 69, 70, 52, 49, 50, 51, 61, 60, 61, 51, 288, 289, 51, 51, 47, 47, 47, 53, 50, 59, 42, 121, 122, 118, 119, 65, 66, 52, 85, 86, 53, 94, 95, 54, 291, 292, 69, 70, 52, 49, 50, 51, 61, 60, 61, 51, 287, 288, 51, 51, 47, 47, 47, 53, 50, 59, 42, 118, 119, 119, 120, 65, 66, 52, 85, 86, 53, 89, 90, 54, 283, 284, 69, 70, 52, 49, 50, 51, 61, 60, 61, 51, 294, 295, 51, 51, 47, 47, 47, 53, 50, 59, 42, 122, 123, 115, 116, 65, 66, 52, 85, 86, 53, 94, 95, 54, 292, 293, 69, 70, 52, 49, 50, 51, 61, 60, 61, 51, 273, 274, 51, 51, 47, 47, 47, 53, 50, 59, 42, 117, 118, 115, 116, 65, 66, 52, 85, 86, 53, 89, 90, 54, 291, 292, 69, 70, 52, 49, 50, 51, 61, 60, 61, 51, 283, 284, 51, 51, 47, 47, 47, 53, 50, 59, 42, 120, 121, 116, 117, 65, 66, 52, 85, 86, 53, 89, 90, 54, 276, 277, 69, 70, 52, 49, 50, 51, 61, 60, 61, 51, 307, 308, 51, 51, 47, 47, 47, 53, 50, 59, 42, 120, 121, 111, 112, 65, 66, 52, 85, 86, 53, 89, 90, 54, 292, 293, 69, 70, 52, 49, 50, 51, 61, 60, 61, 51, 311, 312, 51, 51, 47, 47, 47, 53, 50, 59, 42, 121, 122, 117, 118, 65, 66, 52, 85, 86, 53, 94, 95, 54, 288, 289, 69, 70, 52, 49, 50, 51, 61, 60, 61, 51, 289, 290, 51, 51, 47, 47, 47, 53, 50, 59, 42, 118, 119, 115, 116, 65, 66, 52, 85, 86, 53, 94, 95, 54, 310, 311, 69, 70, 52, 49, 50, 51, 61, 60, 61, 51, 285, 286, 51, 51, 47, 47, 47, 53, 50, 59, 42, 121, 122, 113, 114, 65, 66, 52, 85, 86, 53, 94, 95, 54, 296, 297, 69, 70, 52, 49, 50, 51, 61, 60, 61, 51, 293, 294, 51, 51, 47, 47, 47, 53, 50, 59, 42, 122, 123, 119, 120, 65, 66, 52, 85, 86, 53, 94, 95, 54, 307, 308, 69, 70, 52, 49, 50, 51, 61, 60, 61, 51, 292, 293, 51, 51, 47, 47, 47, 53, 50, 59, 42, 121, 122, 119, 120, 65, 66, 52, 85, 86, 53, 94, 95, 54, 294, 295, 69, 70, 52, 49, 50, 51, 61, 60, 61, 51, 315, 316, 51, 51, 47, 47, 47, 53, 50, 59, 42, 120, 121, 117, 118, 65, 66, 52, 85, 86, 53, 89, 90, 54, 306, 307, 69, 70, 52, 49, 50, 51, 61, 60, 61, 51, 300, 301, 51, 51, 47, 47, 47, 53, 50, 59, 42, 118, 119, 113, 114, 65, 66, 52, 85, 86, 53, 94, 95, 54, 303, 304, 69, 70, 52, 49, 50, 51, 61, 60, 61, 51, 297, 298, 51, 51, 47, 47, 47, 53, 50, 59, 42, 117, 118, 117, 118, 65, 66, 52, 85, 86, 53, 89, 90, 54, 283, 284, 69, 70, 52, 49, 50, 51, 61, 60, 61, 51, 332, 333, 51, 51, 47, 47, 47, 53, 50, 59, 42, 121, 122, 113, 114, 65, 66, 52, 85, 86, 53, 89, 90, 54, 316, 317, 69, 70, 52, 49, 50, 51, 61, 60, 61, 51, 317, 318, 51, 51, 47, 47, 47, 53, 50, 59, 42, 120, 121, 122, 123, 65, 66, 52, 85, 86, 53, 93, 94, 54, 303, 304, 69, 70, 52, 49, 50, 51, 61, 60, 61, 51, 294, 295, 51, 51, 47, 47, 47, 53, 50, 59, 42, 121, 122, 114, 115, 65, 66, 52, 85, 86, 53, 94, 95, 54, 301, 302, 69, 70, 52, 49, 50, 51, 61, 60, 61, 51, 318, 319, 51, 51, 47, 47, 47, 53, 50, 59, 42, 120, 121, 120, 121, 65, 66, 52, 85, 86, 53, 89, 90, 54, 276, 277, 69, 70, 52, 49, 50, 51, 61, 60, 61, 51, 294, 295, 51, 51, 47, 47, 47, 53, 50, 59, 42, 120, 121, 119, 120, 65, 66, 52, 85, 86, 53, 89, 90, 54, 312, 313, 69, 70, 52, 49, 50, 51, 61, 60, 61, 51, 331, 332, 51, 51, 47, 47, 47, 53, 50, 59, 42, 120, 121, 118, 119, 65, 66, 52, 85, 86, 53, 94, 95, 54, 335, 336, 69, 70, 52, 49, 50, 51, 61, 60, 61, 51, 315, 316, 51, 51, 47, 47, 47, 53, 50, 59, 42, 121, 122, 116, 117, 65, 66, 52, 85, 86, 53, 89, 90, 54, 313, 314, 69, 70, 52, 49, 50, 51, 61, 60, 61, 51, 298, 299, 51, 51, 47, 47, 47, 53, 50, 59, 42, 120, 121, 114, 115, 65, 66, 52, 85, 86, 53, 94, 95, 54, 300, 301, 69, 70, 52, 49, 50, 51, 61, 60, 61, 51, 321, 322, 51, 51, 47, 47, 47, 53, 50, 59, 42, 121, 122, 118, 119, 65, 66, 52, 85, 86, 53, 92, 93, 54, 298, 299, 69, 70, 52, 49, 50, 51, 61, 60, 61, 51, 300, 301, 51, 51, 47, 47, 47, 53, 50, 59, 42, 121, 122, 116, 117, 65, 66, 52, 85, 86, 53, 93, 94, 54, 296, 297, 69, 70, 52, 49, 50, 51, 61, 60, 61, 51, 304, 305, 51, 51, 47, 47, 47, 53, 50, 59, 42, 117, 118, 118, 119, 65, 66, 52, 85, 86, 53, 94, 95, 54, 299, 300, 69, 70, 52, 49, 50, 51, 61, 60, 61, 51, 309, 310, 51, 51, 47, 47, 47, 53, 50, 59, 42, 120, 121, 115, 116, 65, 66, 52, 85, 86, 53, 89, 90, 54, 287, 288, 69, 70, 52, 49, 50, 51, 61, 60, 61, 51, 290, 291, 51, 51, 47, 47, 47, 53, 50, 59, 42, 120, 121, 116, 117, 65, 66, 52, 85, 86, 53, 89, 90, 54, 321, 322, 69, 70, 52, 49, 50, 51, 61, 60, 61, 51, 285, 286, 51, 51, 47, 47, 47, 53, 50, 59, 42, 118, 119, 119, 120, 65, 66, 52, 85, 86, 53, 89, 90, 54, 311, 312, 69, 70, 52, 49, 50, 51, 61, 60, 61, 51, 311, 312, 51, 51, 47, 47, 47, 53, 50, 59, 42, 120, 121, 121, 122, 65, 66, 52, 85, 86, 53, 94, 95, 54, 308, 309, 69, 70, 52, 49, 50, 51, 61, 60, 61, 51, 316, 317, 51, 51, 47, 47, 47, 53, 50, 59, 42, 121, 122, 116, 117, 65, 66, 52, 85, 86, 53, 89, 90, 54, 295, 296, 69, 70, 52, 49, 50, 51, 61, 60, 61, 51, 308, 309, 51, 51, 47, 47, 47, 53, 50, 59, 42, 120, 121, 118, 119, 65, 66, 52, 85, 86, 53, 94, 95, 54, 293, 294, 69, 70, 52, 49, 50, 51, 61, 60, 61, 51, 299, 300, 51, 51, 47, 47, 47, 53, 50, 59, 42, 121, 122, 120, 121, 65, 66, 52, 85, 86, 53, 94, 95, 54, 288, 289, 69, 70, 52, 49, 50, 51, 61, 60, 61, 51, 287, 288, 51, 51, 47, 47, 47, 53, 50, 59, 42, 118, 119, 114, 115, 65, 66, 52, 85, 86, 53, 89, 90, 54, 306, 307, 69, 70, 52, 49, 50, 51, 61, 60, 61, 51, 305, 306, 51, 51, 47, 47, 47, 53, 50, 59, 42, 117, 118, 117, 118, 65, 66, 52, 85, 86, 53, 89, 90, 54, 295, 296, 69, 70, 52, 49, 50, 51, 61, 60, 61, 51, 284, 285, 51, 51, 47, 47, 47, 53, 50, 59, 42, 117, 118, 113, 114, 65, 66, 52, 85, 86, 53, 94, 95, 54, 300, 301, 69, 70, 52, 49, 50, 51, 61, 60, 61, 51, 293, 294, 51, 51, 47, 47, 47, 53, 50, 59, 42, 121, 122, 116, 117, 65, 66, 52, 85, 86, 53, 88, 89, 54, 321, 322, 69, 70, 52, 49, 50, 51, 61, 60, 61, 51, 303, 304, 51, 51, 47, 47, 47, 53, 50, 59, 42, 122, 123, 117, 118, 65, 66, 52, 85, 86, 53, 89, 90, 54, 305, 306, 69, 70, 52, 49, 50, 51, 61, 60, 61, 51, 276, 277, 51, 51, 47, 47, 47, 53, 50, 59, 42, 120, 121, 118, 119, 65, 66, 52, 85, 86, 53, 94, 95, 54, 336, 337, 69, 70, 52, 49, 50, 51, 61, 60, 61, 51, 279, 280, 51, 51, 47, 47, 47, 53, 50, 59, 42, 121, 122, 118, 119, 65, 66, 52, 85, 86, 53, 89, 90, 54, 297, 298, 69, 70, 52, 49, 50, 51, 61, 60, 61, 51, 273, 274, 51, 51, 47, 47, 47, 53, 50, 59, 42, 121, 122, 119, 120, 65, 66, 52, 85, 86, 53, 94, 95, 54, 295, 296, 69, 70, 52, 49, 50, 51, 61, 60, 61, 51, 298, 299, 51, 51, 47, 47, 47, 53, 50, 59, 42, 121, 122, 120, 121, 65, 66, 52, 85, 86, 53, 94, 95, 54, 315, 316, 69, 70, 52, 49, 50, 51, 61, 60, 61, 51, 300, 301, 51, 51, 47, 47, 47, 53, 50, 59, 42, 117, 118, 115, 116, 65, 66, 52, 85, 86, 53, 94, 95, 54, 310, 311, 69, 70, 52, 49, 50, 51, 61, 60, 61, 51, 302, 303, 51, 51, 47, 47, 47, 53, 50, 59, 42, 121, 122, 115, 116, 65, 66, 52, 85, 86, 53, 94, 95, 54, 300, 301, 69, 70, 52, 49, 50, 51, 61, 60, 61, 51, 288, 289, 51, 51, 47, 47, 47, 53, 50, 59, 42, 117, 118, 114, 115, 65, 66, 52, 85, 86, 53, 94, 95, 54, 292, 293, 69, 70, 52, 49, 50, 51, 61, 60, 61, 51, 293, 294, 51, 51, 47, 47, 47, 53, 50, 59, 42, 120, 121, 117, 118, 65, 66, 52, 85, 86, 53, 94, 95, 54, 302, 303, 69, 70, 52, 49, 50, 51, 61, 60, 61, 51, 308, 309, 51, 51, 47, 47, 47, 53, 50, 59, 42, 121, 122, 123, 124, 65, 66, 52, 85, 86, 53, 89, 90, 54, 282, 283, 69, 70, 52, 49, 50, 51, 61, 60, 61, 51, 316, 317, 51, 51, 47, 47, 47, 53, 50, 59, 42, 120, 121, 112, 113, 65, 66, 52, 85, 86, 53, 89, 90, 54, 277, 278, 69, 70, 52, 49, 50, 51, 61, 60, 61, 51, 302, 303, 51, 51, 47, 47, 47, 53, 50, 59, 42, 120, 121, 123, 124, 65, 66, 52, 85, 86, 53, 89, 90, 54, 278, 279, 69, 70, 52, 49, 50, 51, 61, 60, 61, 51, 305, 306, 51, 51, 47, 47, 47, 53, 50, 59, 42, 121, 122, 120, 121, 65, 66, 52, 85, 86, 53, 89, 90, 54, 287, 288, 69, 70, 52, 49, 50, 51, 61, 60, 61, 51, 295, 296, 51, 51, 47, 47, 47, 53, 50, 59, 42, 121, 122, 117, 118, 65, 66, 52, 85, 86, 53, 89, 90, 54, 283, 284, 69, 70, 52, 49, 50, 51, 61, 60, 61, 51, 275, 276, 51, 51, 47, 47, 47, 53, 50, 59, 42, 120, 121, 120, 121, 65, 66, 52, 85, 86, 53, 94, 95, 54, 290, 291, 69, 70, 52, 49, 50, 51, 61, 60, 61, 51, 278, 279, 51, 51, 47, 47, 47, 53, 50, 59, 42, 121, 122, 118, 119, 65, 66, 52, 85, 86, 53, 94, 95, 54, 314, 315, 69, 70, 52, 49, 50, 51, 61, 60, 61, 51, 298, 299, 51, 51, 47, 47, 47, 53, 50, 59, 42, 121, 122, 114, 115, 65, 66, 52, 85, 86, 53, 89, 90, 54, 278, 279, 69, 70, 52, 49, 50, 51, 61, 60, 61, 51, 283, 284, 51, 51, 47, 47, 47, 53, 50, 59, 42, 118, 119, 116, 117, 65, 66, 52, 85, 86, 53, 94, 95, 54, 286, 287, 69, 70, 52, 49, 50, 51, 61, 60, 61, 51, 314, 315, 51, 51, 47, 47, 47, 53, 50, 59, 42, 121, 122, 118, 119, 65, 66, 52, 85, 86, 53, 94, 95, 54, 314, 315, 69, 70, 52, 49, 50, 51, 61, 60, 61, 51, 295, 296, 51, 51, 47, 47, 47, 53, 50, 59, 42, 117, 118, 114, 115, 65, 66, 52, 85, 86, 53, 94, 95, 54, 320, 321, 69, 70, 52, 49, 50, 51, 61, 60, 61, 51, 289, 290, 51, 51, 47, 47, 47, 53, 50, 59, 42, 118, 119, 116, 117, 65, 66, 52, 85, 86, 53, 89, 90, 54, 301, 302, 69, 70, 52, 49, 50, 51, 61, 60, 61, 51, 304, 305, 51, 51, 47, 47, 47, 53, 50, 59, 42, 122, 123, 117, 118, 65, 66, 52, 85, 86, 53, 89, 90, 54, 326, 327, 69, 70, 52, 49, 50, 51, 61, 60, 61, 51, 285, 286, 51, 51, 47, 47, 47, 53, 50, 59, 42, 120, 121, 122, 123, 65, 66, 52, 85, 86, 53, 94, 95, 54, 295, 296, 69, 70, 52, 49, 50, 51, 61, 60, 61, 51, 285, 286, 51, 51, 47, 47, 47, 53, 50, 59, 42, 117, 118, 117, 118, 65, 66, 52, 85, 86, 53, 89, 90, 54, 312, 313, 69, 70, 52, 49, 50, 51, 61, 60, 61, 51, 288, 289, 51, 51, 47, 47, 47, 53, 50, 59, 42, 121, 122, 116, 117, 65, 66, 52, 85, 86, 53, 94, 95, 54, 301, 302, 69, 70, 52, 49, 50, 51, 61, 60, 61, 51, 285, 286, 51, 51, 47, 47, 47, 53, 50, 59, 42, 121, 122, 125, 126, 65, 66, 52, 85, 86, 53, 89, 90, 54, 312, 313, 69, 70, 52, 49, 50, 51, 61, 60, 61, 51, 291, 292, 51, 51, 47, 47, 47, 53, 50, 59, 42, 117, 118, 119, 120, 65, 66, 52, 85, 86, 53, 89, 90, 54, 330, 331, 69, 70, 52, 49, 50, 51, 61, 60, 61, 51, 296, 297, 51, 51, 47, 47, 47, 53, 50, 59, 42, 120, 121, 115, 116, 65, 66, 52, 85, 86, 53, 94, 95, 54, 294, 295, 69, 70, 52, 49, 50, 51, 61, 60, 61, 51, 289, 290, 51, 51, 47, 47, 47, 53, 50, 59, 42, 120, 121, 116, 117, 65, 66, 52, 85, 86, 53, 94, 95, 54, 280, 281, 69, 70, 52, 49, 50, 51, 61, 60, 61, 51, 286, 287, 51, 51, 47, 47, 47, 53, 50, 59, 42, 117, 118, 115, 116, 65, 66, 52, 85, 86, 53, 94, 95, 54, 299, 300, 69, 70, 52, 49, 50, 51, 61, 60, 61, 51, 314, 315, 51, 51, 47, 47, 47, 53, 50, 59, 42, 121, 122, 118, 119, 65, 66, 52, 85, 86, 53, 94, 95, 54, 277, 278, 69, 70, 52, 49, 50, 51, 61, 60, 61, 51, 328, 329, 51, 51, 47, 47, 47, 53, 50, 59, 42, 120, 121, 117, 118, 65, 66, 52, 85, 86, 53, 89, 90, 54, 290, 291, 69, 70, 52, 49, 50, 51, 61, 60, 61, 51, 293, 294, 51, 51, 47, 47, 47, 53, 50, 59, 42, 121, 122, 119, 120, 65, 66, 52, 85, 86, 53, 89, 90, 54, 279, 280, 69, 70, 52, 49, 50, 51, 61, 60, 61, 51, 290, 291, 51, 51, 47, 47, 47, 53, 50, 59, 42, 118, 119, 114, 115, 65, 66, 52, 85, 86, 53, 94, 95, 54, 305, 306, 69, 70, 52, 49, 50, 51, 61, 60, 61, 51, 299, 300, 51, 51, 47, 47, 47, 53, 50, 59, 42, 118, 119, 123, 124, 65, 66, 52, 85, 86, 53, 94, 95, 54, 290, 291, 69, 70, 52, 49, 50, 51, 61, 60, 61, 51, 297, 298, 51, 51, 47, 47, 47, 53, 50, 59, 42, 117, 118, 116, 117, 65, 66, 52, 85, 86, 53, 89, 90, 54, 293, 294, 69, 70, 52, 49, 50, 51, 61, 60, 61, 51, 300, 301, 51, 51, 47, 47, 47, 53, 50, 59, 42, 121, 122, 114, 115, 65, 66, 52, 85, 86, 53, 89, 90, 54, 304, 305, 69, 70, 52, 49, 50, 51, 61, 60, 61, 51, 284, 285, 51, 51, 47, 47, 47, 53, 50, 59, 42, 122, 123, 113, 114, 65, 66, 52, 85, 86, 53, 88, 89, 54, 288, 289, 69, 70, 52, 49, 50, 51, 61, 60, 61, 51, 300, 301, 51, 51, 47, 47, 47, 53, 50, 59, 42, 117, 118, 117, 118, 65, 66, 52, 85, 86, 53, 89, 90, 54, 280, 281, 69, 70, 52, 49, 50, 51, 61, 60, 61, 51, 316, 317, 51, 51, 47, 47, 47, 53, 50, 59, 42, 122, 123, 113, 114, 65, 66, 52, 85, 86, 53, 89, 90, 54, 301, 302, 69, 70, 52, 49, 50, 51, 61, 60, 61, 51, 309, 310, 51, 51, 47, 47, 47, 53, 50, 59, 42, 120, 121, 114, 115, 65, 66, 52, 85, 86, 53, 94, 95, 54, 293, 294, 69, 70, 52, 49, 50, 51, 61, 60, 61, 51, 292, 293, 51, 51, 47, 47, 47, 53, 50, 59, 42, 121, 122, 114, 115, 65, 66, 52, 85, 86, 53, 89, 90, 54, 310, 311, 69, 70, 52, 49, 50, 51, 61, 60, 61, 51, 288, 289, 51, 51, 47, 47, 47, 53, 50, 59, 42, 121, 122, 116, 117, 65, 66, 52, 85, 86, 53, 89, 90, 54, 314, 315, 69, 70, 52, 49, 50, 51, 61, 60, 61, 51, 292, 293, 51, 51, 47, 47, 47, 53, 50, 59, 42, 120, 121, 113, 114, 65, 66, 52, 85, 86, 53, 89, 90, 54, 316, 317, 69, 70, 52, 49, 50, 51, 61, 60, 61, 51, 319, 320, 51, 51, 47, 47, 47, 53, 50, 59, 42, 121, 122, 116, 117, 65, 66, 52, 85, 86, 53, 89, 90, 54, 297, 298, 69, 70, 52, 49, 50, 51, 61, 60, 61, 51, 277, 278, 51, 51, 47, 47, 47, 53, 50, 59, 42, 122, 123, 116, 117, 65, 66, 52, 85, 86, 53, 89, 90, 54, 284, 285, 69, 70, 52, 49, 50, 51, 61, 60, 61, 51, 297, 298, 51, 51, 47, 47, 47, 53, 50, 59, 42, 121, 122, 115, 116, 65, 66, 52, 85, 86, 53, 94, 95, 54, 303, 304, 69, 70, 52, 49, 50, 51, 61, 60, 61, 51, 302, 303, 51, 51, 47, 47, 47, 53, 50, 59, 42, 120, 121, 119, 120, 65, 66, 52, 85, 86, 53, 93, 94, 54, 332, 333, 69, 70, 52, 49, 50, 51, 61, 60, 61, 51, 306, 307, 51, 51, 47, 47, 47, 53, 50, 59, 42, 117, 118, 118, 119, 65, 66, 52, 85, 86, 53, 94, 95, 54, 293, 294, 69, 70, 52, 49, 50, 51, 61, 60, 61, 51, 283, 284, 51, 51, 47, 47, 47, 53, 50, 59, 42, 121, 122, 120, 121, 65, 66, 52, 85, 86, 53, 89, 90, 54, 300, 301, 69, 70, 52, 49, 50, 51, 61, 60, 61, 51, 294, 295, 51, 51, 47, 47, 47, 53, 50, 59, 42, 120, 121, 117, 118, 65, 66, 52, 85, 86, 53, 94, 95, 54, 287, 288, 69, 70, 52, 49, 50, 51, 61, 60, 61, 51, 295, 296, 51, 51, 47, 47, 47, 53, 50, 59, 42, 117, 118, 120, 121, 65, 66, 52, 85, 86, 53, 94, 95, 54, 296, 297, 69, 70, 52, 49, 50, 51, 61, 60, 61, 51, 324, 325, 51, 51, 47, 47, 47, 53, 50, 59, 42, 120, 121, 123, 124, 65, 66, 52, 85, 86, 53, 89, 90, 54, 294, 295, 69, 70, 52, 49, 50, 51, 61, 60, 61, 51, 298, 299, 51, 51, 47, 47, 47, 53, 50, 59, 42, 121, 122, 116, 117, 65, 66, 52, 85, 86, 53, 89, 90, 54, 308, 309, 69, 70, 52, 49, 50, 51, 61, 60, 61, 51, 295, 296, 51, 51, 47, 47, 47, 53, 50, 59, 42, 117, 118, 118, 119, 65, 66, 52, 85, 86, 53, 89, 90, 54, 319, 320, 69, 70, 52, 49, 50, 51, 61, 60, 61, 51, 299, 300, 51, 51, 47, 47, 47, 53, 50, 59, 42, 122, 123, 118, 119, 65, 66, 52, 85, 86, 53, 89, 90, 54, 294, 295, 69, 70, 52, 49, 50, 51, 61, 60, 61, 51, 318, 319, 51, 51, 47, 47, 47, 53, 50, 59, 42, 121, 122, 112, 113, 65, 66, 52, 85, 86, 53, 89, 90, 54, 302, 303, 69, 70, 52, 49, 50, 51, 61, 60, 61, 51, 308, 309, 51, 51, 47, 47, 47, 53, 50, 59, 42, 117, 118, 114, 115, 65, 66, 52, 85, 86, 53, 89, 90, 54, 299, 300, 69, 70, 52, 49, 50, 51, 61, 60, 61, 51, 283, 284, 51, 51, 47, 47, 47, 53, 50, 59, 42, 121, 122, 118, 119, 65, 66, 52, 85, 86, 53, 94, 95, 54, 289, 290, 69, 70, 52, 49, 50, 51, 61, 60, 61, 51, 305, 306, 51, 51, 47, 47, 47, 53, 50, 59, 42, 121, 122, 112, 113, 65, 66, 52, 85, 86, 53, 89, 90, 54, 290, 291, 69, 70, 52, 49, 50, 51, 61, 60, 61, 51, 298, 299, 51, 51, 47, 47, 47, 53, 50, 59, 42, 117, 118, 112, 113, 65, 66, 52, 85, 86, 53, 89, 90, 54, 321, 322, 69, 70, 52, 49, 50, 51, 61, 60, 61, 51, 293, 294, 51, 51, 47, 47, 47, 53, 50, 59, 42, 121, 122, 113, 114, 65, 66, 52, 85, 86, 53, 89, 90, 54, 304, 305, 69, 70, 52, 49, 50, 51, 61, 60, 61, 51, 298, 299, 51, 51, 47, 47, 47, 53, 50, 59, 42, 117, 118, 119, 120, 65, 66, 52, 85, 86, 53, 94, 95, 54, 323, 324, 69, 70, 52, 49, 50, 51, 61, 60, 61, 51, 304, 305, 51, 51, 47, 47, 47, 53, 50, 59, 42, 118, 119, 118, 119, 65, 66, 52, 85, 86, 53, 89, 90, 54, 288, 289, 69, 70, 52, 49, 50, 51, 61, 60, 61, 51, 298, 299, 51, 51, 47, 47, 47, 53, 50, 59, 42, 116, 117, 117, 118, 65, 66, 52, 85, 86, 53, 94, 95, 54, 289, 290, 69, 70, 52, 49, 50, 51, 61, 60, 61, 51, 316, 317, 51, 51, 47, 47, 47, 53, 50, 59, 42, 117, 118, 120, 121, 65, 66, 52, 85, 86, 53, 94, 95, 54, 325, 326, 69, 70, 52, 49, 50, 51, 61, 60, 61, 51, 305, 306, 51, 51, 47, 47, 47, 53, 50, 59, 42, 122, 123, 114, 115, 65, 66, 52, 85, 86, 53, 89, 90, 54, 313, 314, 69, 70, 52, 49, 50, 51, 61, 60, 61, 51, 313, 314, 51, 51, 47, 47, 47, 53, 50, 59, 42, 121, 122, 118, 119, 65, 66, 52, 85, 86, 53, 94, 95, 54, 301, 302, 69, 70, 52, 49, 50, 51, 61, 60, 61, 51, 283, 284, 51, 51, 47, 47, 47, 53, 50, 59, 42, 122, 123, 114, 115, 65, 66, 52, 85, 86, 53, 94, 95, 54, 296, 297, 69, 70, 52, 49, 50, 51, 61, 60, 61, 51, 299, 300, 51, 51, 47, 47, 47, 53, 50, 59, 42, 121, 122, 114, 115, 65, 66, 52, 85, 86, 53, 89, 90, 54, 300, 301, 69, 70, 52, 49, 50, 51, 61, 60, 61, 51, 325, 326, 51, 51, 47, 47, 47, 53, 50, 59, 42, 117, 118, 114, 115, 65, 66, 52, 85, 86, 53, 94, 95, 54, 291, 292, 69, 70, 52, 49, 50, 51, 61, 60, 61, 51, 284, 285, 51, 51, 47, 47, 47, 53, 50, 59, 42, 117, 118, 116, 117, 65, 66, 52, 85, 86, 53, 89, 90, 54, 290, 291, 69, 70, 52, 49, 50, 51, 61, 60, 61, 51, 276, 277, 51, 51, 47, 47, 47, 53, 50, 59, 42, 121, 122, 121, 122, 65, 66, 52, 85, 86, 53, 89, 90, 54, 302, 303, 69, 70, 52, 49, 50, 51, 61, 60, 61, 51, 295, 296, 51, 51, 47, 47, 47, 53, 50, 59, 42, 121, 122, 116, 117, 65, 66, 52, 85, 86, 53, 89, 90, 54, 295, 296, 69, 70, 52, 49, 50, 51, 61, 60, 61, 51, 299, 300, 51, 51, 47, 47, 47, 53, 50, 59, 42, 121, 122, 118, 119, 65, 66, 52, 85, 86, 53, 94, 95, 54, 302, 303, 69, 70, 52, 49, 50, 51, 61, 60, 61, 51, 304, 305, 51, 51, 47, 47, 47, 53, 50, 59, 42, 122, 123, 115, 116, 65, 66, 52, 85, 86, 53, 94, 95, 54, 321, 322, 69, 70, 52, 49, 50, 51, 61, 60, 61, 51, 288, 289, 51, 51, 47, 47, 47, 53, 50, 59, 42, 118, 119, 117, 118, 65, 66, 52, 85, 86, 53, 94, 95, 54, 297, 298, 69, 70, 52, 49, 50, 51, 61, 60, 61, 51, 302, 303, 51, 51, 47, 47, 47, 53, 50, 59, 42, 120, 121, 116, 117, 65, 66, 52, 85, 86, 53, 94, 95, 54, 306, 307, 69, 70, 52, 49, 50, 51, 61, 60, 61, 51, 283, 284, 51, 51, 47, 47, 47, 53, 50, 59, 42, 120, 121, 117, 118, 65, 66, 52, 85, 86, 53, 94, 95, 54, 289, 290, 69, 70, 52, 49, 50, 51, 61, 60, 61, 51, 278, 279, 51, 51, 47, 47, 47, 53, 50, 59, 42, 117, 118, 114, 115, 65, 66, 52, 85, 86, 53, 89, 90, 54, 309, 310, 69, 70, 52, 49, 50, 51, 61, 60, 61, 51, 297, 298, 51, 51, 47, 47, 47, 53, 50, 59, 42, 121, 122, 119, 120, 65, 66, 52, 85, 86, 53, 89, 90, 54, 318, 319, 69, 70, 52, 49, 50, 51, 61, 60, 61, 51, 309, 310, 51, 51, 47, 47, 47, 53, 50, 59, 42, 120, 121, 116, 117, 65, 66, 52, 85, 86, 53, 93, 94, 54, 300, 301, 69, 70, 52, 49, 50, 51, 61, 60, 61, 51, 293, 294, 51, 51, 47, 47, 47, 53, 50, 59, 42, 120, 121, 115, 116, 65, 66, 52, 85, 86, 53, 93, 94, 54, 311, 312, 69, 70, 52, 49, 50, 51, 61, 60, 61, 51, 301, 302, 51, 51, 47, 47, 47, 53, 50, 59, 42, 121, 122, 116, 117, 65, 66, 52, 85, 86, 53, 89, 90, 54, 316, 317, 69, 70, 52, 49, 50, 51, 61, 60, 61, 51, 298, 299, 51, 51, 47, 47, 47, 53, 50, 59, 42, 122, 123, 113, 114, 65, 66, 52, 85, 86, 53, 89, 90, 54, 281, 282, 69, 70, 52, 49, 50, 51, 61, 60, 61, 51, 291, 292, 51, 51, 47, 47, 47, 53, 50, 59, 42, 121, 122, 121, 122, 65, 66, 52, 85, 86, 53, 94, 95, 54, 287, 288, 69, 70, 52, 49, 50, 51, 61, 60, 61, 51, 303, 304, 51, 51, 47, 47, 47, 53, 50, 59, 42, 117, 118, 115, 116, 65, 66, 52, 85, 86, 53, 89, 90, 54, 292, 293, 69, 70, 52, 49, 50, 51, 61, 60, 61, 51, 281, 282, 51, 51, 47, 47, 47, 53, 50, 59, 42, 121, 122, 114, 115, 65, 66, 52, 85, 86, 53, 94, 95, 54, 299, 300, 69, 70, 52, 49, 50, 51, 61, 60, 61, 51, 291, 292, 51, 51, 47, 47, 47, 53, 50, 59, 42, 117, 118, 119, 120, 65, 66, 52, 85, 86, 53, 89, 90, 54, 300, 301, 69, 70, 52, 49, 50, 51, 61, 60, 61, 51, 281, 282, 51, 51, 47, 47, 47, 53, 50, 59, 42, 117, 118, 116, 117, 65, 66, 52, 85, 86, 53, 94, 95, 54, 314, 315, 69, 70, 52, 49, 50, 51, 61, 60, 61, 51, 322, 323, 51, 51, 47, 47, 47, 53, 50, 59, 42, 121, 122, 116, 117, 65, 66, 52, 85, 86, 53, 94, 95, 54, 301, 302, 69, 70, 52, 49, 50, 51, 61, 60, 61, 51, 297, 298, 51, 51, 47, 47, 47, 53, 50, 59, 42, 122, 123, 122, 123, 65, 66, 52, 85, 86, 53, 94, 95, 54, 314, 315, 69, 70, 52, 49, 50, 51, 61, 60, 61, 51, 310, 311, 51, 51, 47, 47, 47, 53, 50, 59, 42, 121, 122, 120, 121, 65, 66, 52, 85, 86, 53, 94, 95, 54, 299, 300, 69, 70, 52, 49, 50, 51, 61, 60, 61, 51, 301, 302, 51, 51, 47, 47, 47, 53, 50, 59, 42, 121, 122, 120, 121, 65, 66, 52, 85, 86, 53, 89, 90, 54, 289, 290, 69, 70, 52, 49, 50, 51, 61, 60, 61, 51, 295, 296, 51, 51, 47, 47, 47, 53, 50, 59, 42, 120, 121, 115, 116, 65, 66, 52, 85, 86, 53, 94, 95, 54, 293, 294, 69, 70, 52, 49, 50, 51, 61, 60, 61, 51, 316, 317, 51, 51, 47, 47, 47, 53, 50, 59, 42, 117, 118, 115, 116, 65, 66, 52, 85, 86, 53, 89, 90, 54, 300, 301, 69, 70, 52, 49, 50, 51, 61, 60, 61, 51, 296, 297, 51, 51, 47, 47, 47, 53, 50, 59, 42, 117, 118, 116, 117, 65, 66, 52, 85, 86, 53, 94, 95, 54, 293, 294, 69, 70, 52, 49, 50, 51, 61, 60, 61, 51, 305, 306, 51, 51, 47, 47, 47, 53, 50, 59, 42, 117, 118, 114, 115, 65, 66, 52, 85, 86, 53, 94, 95, 54, 282, 283, 69, 70, 52, 49, 50, 51, 61, 60, 61, 51, 305, 306, 51, 51, 47, 47, 47, 53, 50, 59, 42, 120, 121, 116, 117, 65, 66, 52, 85, 86, 53, 94, 95, 54, 306, 307, 69, 70, 52, 49, 50, 51, 61, 60, 61, 51, 289, 290, 51, 51, 47, 47, 47, 53, 50, 59, 42, 117, 118, 117, 118, 65, 66, 52, 85, 86, 53, 94, 95, 54, 282, 283, 69, 70, 52, 49, 50, 51, 61, 60, 61, 51, 313, 314, 51, 51, 47, 47, 47, 53, 50, 59, 42, 120, 121, 125, 126, 65, 66, 52, 85, 86, 53, 94, 95, 54, 286, 287, 69, 70, 52, 49, 50, 51, 61, 60, 61, 51, 286, 287, 51, 51, 47, 47, 47, 53, 50, 59, 42, 121, 122, 117, 118, 65, 66, 52, 85, 86, 53, 88, 89, 54, 301, 302, 69, 70, 52, 49, 50, 51, 61, 60, 61, 51, 302, 303, 51, 51, 47, 47, 47, 53, 50, 59, 42, 121, 122, 116, 117, 65, 66, 52, 85, 86, 53, 94, 95, 54, 309, 310, 69, 70, 52, 49, 50, 51, 61, 60, 61, 51, 285, 286, 51, 51, 47, 47, 47, 53, 50, 59, 42, 121, 122, 121, 122, 65, 66, 52, 85, 86, 53, 89, 90, 54, 290, 291, 69, 70, 52, 49, 50, 51, 61, 60, 61, 51, 289, 290, 51, 51, 47, 47, 47, 53, 50, 59, 42, 118, 119, 112, 113, 65, 66, 52, 85, 86, 53, 89, 90, 54, 287, 288, 69, 70, 52, 49, 50, 51, 61, 60, 61, 51, 301, 302, 51, 51, 47, 47, 47, 53, 50, 59, 42, 117, 118, 115, 116, 65, 66, 52, 85, 86, 53, 94, 95, 54, 284, 285, 69, 70, 52, 49, 50, 51, 61, 60, 61, 51, 296, 297, 51, 51, 47, 47, 47, 53, 50, 59, 42, 120, 121, 117, 118, 65, 66, 52, 85, 86, 53, 94, 95, 54, 277, 278, 69, 70, 52, 49, 50, 51, 61, 60, 61, 51, 306, 307, 51, 51, 47, 47, 47, 53, 50, 59, 42, 122, 123, 123, 124, 65, 66, 52, 85, 86, 53, 94, 95, 54, 318, 319, 69, 70, 52, 49, 50, 51, 61, 60, 61, 51, 305, 306, 51, 51, 47, 47, 47, 53, 50, 59, 42, 120, 121, 112, 113, 65, 66, 52, 85, 86, 53, 89, 90, 54, 312, 313, 69, 70, 52, 49, 50, 51, 61, 60, 61, 51, 310, 311, 51, 51, 47, 47, 47, 53, 50, 59, 42, 120, 121, 121, 122, 65, 66, 52, 85, 86, 53, 94, 95, 54, 294, 295, 69, 70, 52, 49, 50, 51, 61, 60, 61, 51, 307, 308, 51, 51, 47, 47, 47, 53, 50, 59, 42, 118, 119, 118, 119, 65, 66, 52, 85, 86, 53, 94, 95, 54, 285, 286, 69, 70, 52, 49, 50, 51, 61, 60, 61, 51, 298, 299, 51, 51, 47, 47, 47, 53, 50, 59, 42, 121, 122, 115, 116, 65, 66, 52, 85, 86, 53, 89, 90, 54, 298, 299, 69, 70, 52, 49, 50, 51, 61, 60, 61, 51, 291, 292, 51, 51, 47, 47, 47, 53, 50, 59, 42, 119, 120, 117, 118, 65, 66, 52, 85, 86, 53, 89, 90, 54, 295, 296, 69, 70, 52, 49, 50, 51, 61, 60, 61, 51, 296, 297, 51, 51, 47, 47, 47, 53, 50, 59, 42, 118, 119, 114, 115, 65, 66, 52, 85, 86, 53, 94, 95, 54, 303, 304, 69, 70, 52, 49, 50, 51, 61, 60, 61, 51, 293, 294, 51, 51, 47, 47, 47, 53, 50, 59, 42, 121, 122, 115, 116, 65, 66, 52, 85, 86, 53, 89, 90, 54, 296, 297, 69, 70, 52, 49, 50, 51, 61, 60, 61, 51, 313, 314, 51, 51, 47, 47, 47, 53, 50, 59, 42, 117, 118, 120, 121, 65, 66, 52, 85, 86, 53, 88, 89, 54, 320, 321, 69, 70, 52, 49, 50, 51, 61, 60, 61, 51, 299, 300, 51, 51, 47, 47, 47, 53, 50, 59, 42, 117, 118, 114, 115, 65, 66, 52, 85, 86, 53, 89, 90, 54, 309, 310, 69, 70, 52, 49, 50, 51, 61, 60, 61, 51, 313, 314, 51, 51, 47, 47, 47, 53, 50, 59, 42, 121, 122, 120, 121, 65, 66, 52, 85, 86, 53, 88, 89, 54, 280, 281, 69, 70, 52, 49, 50, 51, 61, 60, 61, 51, 310, 311, 51, 51, 47, 47, 47, 53, 50, 59, 42, 120, 121, 117, 118, 65, 66, 52, 85, 86, 53, 94, 95, 54, 288, 289, 69, 70, 52, 49, 50, 51, 61, 60, 61, 51, 287, 288, 51, 51, 47, 47, 47, 53, 50, 59, 42, 120, 121, 115, 116, 65, 66, 52, 85, 86, 53, 94, 95, 54, 306, 307, 69, 70, 52, 49, 50, 51, 61, 60, 61, 51, 336, 337, 51, 51, 47, 47, 47, 53, 50, 59, 42, 116, 117, 115, 116, 65, 66, 52, 85, 86, 53, 88, 89, 54, 303, 304, 69, 70, 52, 49, 50, 51, 61, 60, 61, 51, 289, 290, 51, 51, 47, 47, 47, 53, 50, 59, 42, 121, 122, 120, 121, 65, 66, 52, 85, 86, 53, 94, 95, 54, 289, 290, 69, 70, 52, 49, 50, 51, 61, 60, 61, 51, 308, 309, 51, 51, 47, 47, 47, 53, 50, 59, 42, 117, 118, 115, 116, 65, 66, 52, 85, 86, 53, 94, 95, 54, 302, 303, 69, 70, 52, 49, 50, 51, 61, 60, 61, 51, 295, 296, 51, 51, 47, 47, 47, 53, 50, 59, 42, 121, 122, 115, 116, 65, 66, 52, 85, 86, 53, 94, 95, 54, 305, 306, 69, 70, 52, 49, 50, 51, 61, 60, 61, 51, 303, 304, 51, 51, 47, 47, 47, 53, 50, 59, 42, 117, 118, 118, 119, 65, 66, 52, 85, 86, 53, 94, 95, 54, 300, 301, 69, 70, 52, 49, 50, 51, 61, 60, 61, 51, 298, 299, 51, 51, 47, 47, 47, 53, 50, 59, 42, 119, 120, 114, 115, 65, 66, 52, 85, 86, 53, 89, 90, 54, 296, 297, 69, 70, 52, 49, 50, 51, 61, 60, 61, 51, 320, 321, 51, 51, 47, 47, 47, 53, 50, 59, 42, 117, 118, 117, 118, 65, 66, 52, 85, 86, 53, 94, 95, 54, 305, 306, 69, 70, 52, 49, 50, 51, 61, 60, 61, 51, 296, 297, 51, 51, 47, 47, 47, 53, 50, 59, 42, 117, 118, 115, 116, 65, 66, 52, 85, 86, 53, 94, 95, 54, 281, 282, 69, 70, 52, 49, 50, 51, 61, 60, 61, 51, 295, 296, 51, 51, 47, 47, 47, 53, 50, 59, 42, 117, 118, 111, 112, 65, 66, 52, 85, 86, 53, 89, 90, 54, 311, 312, 69, 70, 52, 49, 50, 51, 61, 60, 61, 51, 301, 302, 51, 51, 47, 47, 47, 53, 50, 59, 42, 121, 122, 118, 119, 65, 66, 52, 85, 86, 53, 94, 95, 54, 304, 305, 69, 70, 52, 49, 50, 51, 61, 60, 61, 51, 301, 302, 51, 51, 47, 47, 47, 53, 50, 59, 42, 121, 122, 114, 115, 65, 66, 52, 85, 86, 53, 89, 90, 54, 288, 289, 69, 70, 52, 49, 50, 51, 61, 60, 61, 51, 311, 312, 51, 51, 47, 47, 47, 53, 50, 59, 42, 122, 123, 124, 125, 65, 66, 52, 85, 86, 53, 94, 95, 54, 301, 302, 69, 70, 52, 49, 50, 51, 61, 60, 61, 51, 285, 286, 51, 51, 47, 47, 47, 53, 50, 59, 42, 120, 121, 117, 118, 65, 66, 52, 85, 86, 53, 94, 95, 54, 303, 304, 69, 70, 52, 49, 50, 51, 61, 60, 61, 51, 282, 283, 51, 51, 47, 47, 47, 53, 50, 59, 42, 121, 122, 118, 119, 65, 66, 52, 85, 86, 53, 89, 90, 54, 285, 286, 69, 70, 52, 49, 50, 51, 61, 60, 61, 51, 299, 300, 51, 51, 47, 47, 47, 53, 50, 59, 42, 118, 119, 118, 119, 65, 66, 52, 85, 86, 53, 94, 95, 54, 288, 289, 69, 70, 52, 49, 50, 51, 61, 60, 61, 51, 289, 290, 51, 51, 47, 47, 47, 53, 50, 59, 42, 121, 122, 115, 116, 65, 66, 52, 85, 86, 53, 94, 95, 54, 297, 298, 69, 70, 52, 49, 50, 51, 61, 60, 61, 51, 298, 299, 51, 51, 47, 47, 47, 53, 50, 59, 42, 117, 118, 112, 113, 65, 66, 52, 85, 86, 53, 94, 95, 54, 301, 302, 69, 70, 52, 49, 50, 51, 61, 60, 61, 51, 300, 301, 51, 51, 47, 47, 47, 53, 50, 59, 42, 118, 119, 121, 122, 65, 66, 52, 85, 86, 53, 94, 95, 54, 331, 332, 69, 70, 52, 49, 50, 51, 61, 60, 61, 51, 290, 291, 51, 51, 47, 47, 47, 53, 50, 59, 42, 118, 119, 117, 118, 65, 66, 52, 85, 86, 53, 93, 94, 54, 300, 301, 69, 70, 52, 49, 50, 51, 61, 60, 61, 51, 288, 289, 51, 51, 47, 47, 47, 53, 50, 59, 42, 121, 122, 122, 123, 65, 66, 52, 85, 86, 53, 88, 89, 54, 294, 295, 69, 70, 52, 49, 50, 51, 61, 60, 61, 51, 297, 298, 51, 51, 47, 47, 47, 53, 50, 59, 42, 116, 117, 117, 118, 65, 66, 52, 85, 86, 53, 94, 95, 54, 307, 308, 69, 70, 52, 49, 50, 51, 61, 60, 61, 51, 297, 298, 51, 51, 47, 47, 47, 53, 50, 59, 42, 121, 122, 119, 120, 65, 66, 52, 85, 86, 53, 94, 95, 54, 305, 306, 69, 70, 52, 49, 50, 51, 61, 60, 61, 51, 267, 268, 51, 51, 47, 47, 47, 53, 50, 59, 42, 118, 119, 121, 122, 65, 66, 52, 85, 86, 53, 89, 90, 54, 297, 298, 69, 70, 52, 49, 50, 51, 61, 60, 61, 51, 305, 306, 51, 51, 47, 47, 47, 53, 50, 59, 42, 121, 122, 117, 118, 65, 66, 52, 85, 86, 53, 89, 90, 54, 289, 290, 69, 70, 52, 49, 50, 51, 61, 60, 61, 51, 313, 314, 51, 51, 47, 47, 47, 53, 50, 59, 42, 120, 121, 120, 121, 65, 66, 52, 85, 86, 53, 89, 90, 54, 333, 334, 69, 70, 52, 49, 50, 51, 61, 60, 61, 51, 304, 305, 51, 51, 47, 47, 47, 53, 50, 59, 42, 120, 121, 118, 119, 65, 66, 52, 85, 86, 53, 93, 94, 54, 284, 285, 69, 70, 52, 49, 50, 51, 61, 60, 61, 51, 297, 298, 51, 51, 47, 47, 47, 53, 50, 59, 42, 122, 123, 115, 116, 65, 66, 52, 85, 86, 53, 89, 90, 54, 292, 293, 69, 70, 52, 49, 50, 51, 61, 60, 61, 51, 282, 283, 51, 51, 47, 47, 47, 53, 50, 59, 42, 121, 122, 122, 123, 65, 66, 52, 85, 86, 53, 94, 95, 54, 286, 287, 69, 70, 52, 49, 50, 51, 61, 60, 61, 51, 279, 280, 51, 51, 47, 47, 47, 53, 50, 59, 42, 120, 121, 120, 121, 65, 66, 52, 85, 86, 53, 89, 90, 54, 328, 329, 69, 70, 52, 49, 50, 51, 61, 60, 61, 51, 319, 320, 51, 51, 47, 47, 47, 53, 50, 59, 42, 121, 122, 116, 117, 65, 66, 52, 85, 86, 53, 94, 95, 54, 306, 307, 69, 70, 52, 49, 50, 51, 61, 60, 61, 51, 276, 277, 51, 51, 47, 47, 47, 53, 50, 59, 42, 118, 119, 120, 121, 65, 66, 52, 85, 86, 53, 89, 90, 54, 288, 289, 69, 70, 52, 49, 50, 51, 61, 60, 61, 51, 313, 314, 51, 51, 47, 47, 47, 53, 50, 59, 42, 121, 122, 118, 119, 65, 66, 52, 85, 86, 53, 89, 90, 54, 310, 311, 69, 70, 52, 49, 50, 51, 61, 60, 61, 51, 303, 304, 51, 51, 47, 47, 47, 53, 50, 59, 42, 121, 122, 113, 114, 65, 66, 52, 85, 86, 53, 94, 95, 54, 291, 292, 69, 70, 52, 49, 50, 51, 61, 60, 61, 51, 313, 314, 51, 51, 47, 47, 47, 53, 50, 59, 42, 121, 122, 108, 109, 65, 66, 52, 85, 86, 53, 94, 95, 54, 284, 285, 69, 70, 52, 49, 50, 51, 61, 60, 61, 51, 286, 287, 51, 51, 47, 47, 47, 53, 50, 59, 42, 117, 118, 118, 119, 65, 66, 52, 85, 86, 53, 89, 90, 54, 273, 274, 69, 70, 52, 49, 50, 51, 61, 60, 61, 51, 297, 298, 51, 51, 47, 47, 47, 53, 50, 59, 42, 118, 119, 113, 114, 65, 66, 52, 85, 86, 53, 92, 93, 54, 298, 299, 69, 70, 52, 49, 50, 51, 61, 60, 61, 51, 287, 288, 51, 51, 47, 47, 47, 53, 50, 59, 42, 117, 118, 115, 116, 65, 66, 52, 85, 86, 53, 94, 95, 54, 303, 304, 69, 70, 52, 49, 50, 51, 61, 60, 61, 51, 299, 300, 51, 51, 47, 47, 47, 53, 50, 59, 42, 121, 122, 118, 119, 65, 66, 52, 85, 86, 53, 89, 90, 54, 296, 297, 69, 70, 52, 49, 50, 51, 61, 60, 61, 51, 294, 295, 51, 51, 47, 47, 47, 53, 50, 59, 42, 118, 119, 119, 120, 65, 66, 52, 85, 86, 53, 89, 90, 54, 295, 296, 69, 70, 52, 49, 50, 51, 61, 60, 61, 51, 336, 337, 51, 51, 47, 47, 47, 53, 50, 59, 42, 122, 123, 119, 120, 65, 66, 52, 85, 86, 53, 94, 95, 54, 321, 322, 69, 70, 52, 49, 50, 51, 61, 60, 61, 51, 282, 283, 51, 51, 47, 47, 47, 53, 50, 59, 42, 121, 122, 119, 120, 65, 66, 52, 85, 86, 53, 94, 95, 54, 297, 298, 69, 70, 52, 49, 50, 51, 61, 60, 61, 51, 293, 294, 51, 51, 47, 47, 47, 53, 50, 59, 42, 121, 122, 118, 119, 65, 66, 52, 85, 86, 53, 89, 90, 54, 307, 308, 69, 70, 52, 49, 50, 51, 61, 60, 61, 51, 304, 305, 51, 51, 47, 47, 47, 53, 50, 59, 42, 121, 122, 120, 121, 65, 66, 52, 85, 86, 53, 94, 95, 54, 310, 311, 69, 70, 52, 49, 50, 51, 61, 60, 61, 51, 310, 311, 51, 51, 47, 47, 47, 53, 50, 59, 42, 121, 122, 117, 118, 65, 66, 52, 85, 86, 53, 89, 90, 54, 309, 310, 69, 70, 52, 49, 50, 51, 61, 60, 61, 51, 312, 313, 51, 51, 47, 47, 47, 53, 50, 59, 42, 117, 118, 115, 116, 65, 66, 52, 85, 86, 53, 89, 90, 54, 309, 310, 69, 70, 52, 49, 50, 51, 61, 60, 61, 51, 293, 294, 51, 51, 47, 47, 47, 53, 50, 59, 42, 116, 117, 119, 120, 65, 66, 52, 85, 86, 53, 89, 90, 54, 318, 319, 69, 70, 52, 49, 50, 51, 61, 60, 61, 51, 287, 288, 51, 51, 47, 47, 47, 53, 50, 59, 42, 118, 119, 113, 114, 65, 66, 52, 85, 86, 53, 89, 90, 54, 282, 283, 69, 70, 52, 49, 50, 51, 61, 60, 61, 51, 279, 280, 51, 51, 47, 47, 47, 53, 50, 59, 42, 117, 118, 123, 124, 65, 66, 52, 85, 86, 53, 94, 95, 54, 293, 294, 69, 70, 52, 49, 50, 51, 61, 60, 61, 51, 297, 298, 51, 51, 47, 47, 47, 53, 50, 59, 42, 120, 121, 116, 117, 65, 66, 52, 85, 86, 53, 94, 95, 54, 295, 296, 69, 70, 52, 49, 50, 51, 61, 60, 61, 51, 314, 315, 51, 51, 47, 47, 47, 53, 50, 59, 42, 117, 118, 112, 113, 65, 66, 52, 85, 86, 53, 89, 90, 54, 294, 295, 69, 70, 52, 49, 50, 51, 61, 60, 61, 51, 299, 300, 51, 51, 47, 47, 47, 53, 50, 59, 42, 119, 120, 119, 120, 65, 66, 52, 85, 86, 53, 89, 90, 54, 306, 307, 69, 70, 52, 49, 50, 51, 61, 60, 61, 51, 288, 289, 51, 51, 47, 47, 47, 53, 50, 59, 42, 117, 118, 116, 117, 65, 66, 52, 85, 86, 53, 94, 95, 54, 295, 296, 69, 70, 52, 49, 50, 51, 61, 60, 61, 51, 332, 333, 51, 51, 47, 47, 47, 53, 50, 59, 42, 120, 121, 113, 114, 65, 66, 52, 85, 86, 53, 88, 89, 54, 322, 323, 69, 70, 52, 49, 50, 51, 61, 60, 61, 51, 290, 291, 51, 51, 47, 47, 47, 53, 50, 59, 42, 122, 123, 119, 120, 65, 66, 52, 85, 86, 53, 89, 90, 54, 307, 308, 69, 70, 52, 49, 50, 51, 61, 60, 61, 51, 287, 288, 51, 51, 47, 47, 47, 53, 50, 59, 42, 120, 121, 112, 113, 65, 66, 52, 85, 86, 53, 94, 95, 54, 283, 284, 69, 70, 52, 49, 50, 51, 61, 60, 61, 51, 299, 300, 51, 51, 47, 47, 47, 53, 50, 59, 42, 122, 123, 116, 117, 65, 66, 52, 85, 86, 53, 94, 95, 54, 305, 306, 69, 70, 52, 49, 50, 51, 61, 60, 61, 51, 302, 303, 51, 51, 47, 47, 47, 53, 50, 59, 42, 122, 123, 114, 115, 65, 66, 52, 85, 86, 53, 94, 95, 54, 314, 315, 69, 70, 52, 49, 50, 51, 61, 60, 61, 51, 290, 291, 51, 51, 47, 47, 47, 53, 50, 59, 42, 117, 118, 114, 115, 65, 66, 52, 85, 86, 53, 88, 89, 54, 282, 283, 69, 70, 52, 49, 50, 51, 61, 60, 61, 51, 288, 289, 51, 51, 47, 47, 47, 53, 50, 59, 42, 117, 118, 116, 117, 65, 66, 52, 85, 86, 53, 89, 90, 54, 302, 303, 69, 70, 52, 49, 50, 51, 61, 60, 61, 51, 289, 290, 51, 51, 47, 47, 47, 53, 50, 59, 42, 117, 118, 116, 117, 65, 66, 52, 85, 86, 53, 94, 95, 54, 303, 304, 69, 70, 52, 49, 50, 51, 61, 60, 61, 51, 309, 310, 51, 51, 47, 47, 47, 53, 50, 59, 42, 122, 123, 118, 119, 65, 66, 52, 85, 86, 53, 89, 90, 54, 310, 311, 69, 70, 52, 49, 50, 51, 61, 60, 61, 51, 304, 305, 51, 51, 47, 47, 47, 53, 50, 59, 42, 122, 123, 117, 118, 65, 66, 52, 85, 86, 53, 94, 95, 54, 284, 285, 69, 70, 52, 49, 50, 51, 61, 60, 61, 51, 291, 292, 51, 51, 47, 47, 47, 53, 50, 59, 42, 118, 119, 116, 117, 65, 66, 52, 85, 86, 53, 94, 95, 54, 316, 317, 69, 70, 52, 49, 50, 51, 61, 60, 61, 51, 316, 317, 51, 51, 47, 47, 47, 53, 50, 59, 42, 121, 122, 119, 120, 65, 66, 52, 85, 86, 53, 94, 95, 54, 291, 292, 69, 70, 52, 49, 50, 51, 61, 60, 61, 51, 279, 280, 51, 51, 47, 47, 47, 53, 50, 59, 42, 120, 121, 118, 119, 65, 66, 52, 85, 86, 53, 88, 89, 54, 298, 299, 69, 70, 52, 49, 50, 51, 61, 60, 61, 51, 312, 313, 51, 51, 47, 47, 47, 53, 50, 59, 42, 121, 122, 120, 121, 65, 66, 52, 85, 86, 53, 94, 95, 54, 323, 324, 69, 70, 52, 49, 50, 51, 61, 60, 61, 51, 306, 307, 51, 51, 47, 47, 47, 53, 50, 59, 42, 121, 122, 121, 122, 65, 66, 52, 85, 86, 53, 94, 95, 54, 297, 298, 69, 70, 52, 49, 50, 51, 61, 60, 61, 51, 295, 296, 51, 51, 47, 47, 47, 53, 50, 59, 42, 117, 118, 114, 115, 65, 66, 52, 85, 86, 53, 93, 94, 54, 300, 301, 69, 70, 52, 49, 50, 51, 61, 60, 61, 51, 289, 290, 51, 51, 47, 47, 47, 53, 50, 59, 42, 120, 121, 114, 115, 65, 66, 52, 85, 86, 53, 89, 90, 54, 283, 284, 69, 70, 52, 49, 50, 51, 61, 60, 61, 51, 285, 286, 51, 51, 47, 47, 47, 53, 50, 59, 42, 122, 123, 113, 114, 65, 66, 52, 85, 86, 53, 94, 95, 54, 295, 296, 69, 70, 52, 49, 50, 51, 61, 60, 61, 51, 300, 301, 51, 51, 47, 47, 47, 53, 50, 59, 42, 117, 118, 121, 122, 65, 66, 52, 85, 86, 53, 89, 90, 54, 289, 290, 69, 70, 52, 49, 50, 51, 61, 60, 61, 51, 290, 291, 51, 51, 47, 47, 47, 53, 50, 59, 42, 121, 122, 114, 115, 65, 66, 52, 85, 86, 53, 89, 90, 54, 304, 305, 69, 70, 52, 49, 50, 51, 61, 60, 61, 51, 299, 300, 51, 51, 47, 47, 47, 53, 50, 59, 42, 117, 118, 116, 117, 65, 66, 52, 85, 86, 53, 94, 95, 54, 295, 296, 69, 70, 52, 49, 50, 51, 61, 60, 61, 51, 302, 303, 51, 51, 47, 47, 47, 53, 50, 59, 42, 117, 118, 116, 117, 65, 66, 52, 85, 86, 53, 89, 90, 54, 267, 268, 69, 70, 52, 49, 50, 51, 61, 60, 61, 51, 299, 300, 51, 51, 47, 47, 47, 53, 50, 59, 42, 120, 121, 117, 118, 65, 66, 52, 85, 86, 53, 88, 89, 54, 288, 289, 69, 70, 52, 49, 50, 51, 61, 60, 61, 51, 307, 308, 51, 51, 47, 47, 47, 53, 50, 59, 42, 118, 119, 116, 117, 65, 66, 52, 85, 86, 53, 89, 90, 54, 320, 321, 69, 70, 52, 49, 50, 51, 61, 60, 61, 51, 281, 282, 51, 51, 47, 47, 47, 53, 50, 59, 42, 121, 122, 111, 112, 65, 66, 52, 85, 86, 53, 94, 95, 54, 310, 311, 69, 70, 52, 49, 50, 51, 61, 60, 61, 51, 289, 290, 51, 51, 47, 47, 47, 53, 50, 59, 42, 121, 122, 115, 116, 65, 66, 52, 85, 86, 53, 94, 95, 54, 298, 299, 69, 70, 52, 49, 50, 51, 61, 60, 61, 51, 296, 297, 51, 51, 47, 47, 47, 53, 50, 59, 42, 120, 121, 112, 113, 65, 66, 52, 85, 86, 53, 89, 90, 54, 308, 309, 69, 70, 52, 49, 50, 51, 61, 60, 61, 51, 285, 286, 51, 51, 47, 47, 47, 53, 50, 59, 42, 121, 122, 120, 121, 65, 66, 52, 85, 86, 53, 89, 90, 54, 270, 271, 69, 70, 52, 49, 50, 51, 61, 60, 61, 51, 291, 292, 51, 51, 47, 47, 47, 53, 50, 59, 42, 118, 119, 120, 121, 65, 66, 52, 85, 86, 53, 89, 90, 54, 271, 272, 69, 70, 52, 49, 50, 51, 61, 60, 61, 51, 321, 322, 51, 51, 47, 47, 47, 53, 50, 59, 42, 117, 118, 115, 116, 65, 66, 52, 85, 86, 53, 94, 95, 54, 310, 311, 69, 70, 52, 49, 50, 51, 61, 60, 61, 51, 300, 301, 51, 51, 47, 47, 47, 53, 50, 59, 42, 117, 118, 118, 119, 65, 66, 52, 85, 86, 53, 89, 90, 54, 304, 305, 69, 70, 52, 49, 50, 51, 61, 60, 61, 51, 305, 306, 51, 51, 47, 47, 47, 53, 50, 59, 42, 121, 122, 118, 119, 65, 66, 52, 85, 86, 53, 94, 95, 54, 295, 296, 69, 70, 52, 49, 50, 51, 61, 60, 61, 51, 310, 311, 51, 51, 47, 47, 47, 53, 50, 59, 42, 121, 122, 121, 122, 65, 66, 52, 85, 86, 53, 89, 90, 54, 277, 278, 69, 70, 52, 49, 50, 51, 61, 60, 61, 51, 292, 293, 51, 51, 47, 47, 47, 53, 50, 59, 42, 118, 119, 118, 119, 65, 66, 52, 85, 86, 53, 94, 95, 54, 285, 286, 69, 70, 52, 49, 50, 51, 61, 60, 61, 51, 315, 316, 51, 51, 47, 47, 47, 53, 50, 59, 42, 118, 119, 115, 116, 65, 66, 52, 85, 86, 53, 89, 90, 54, 294, 295, 69, 70, 52, 49, 50, 51, 61, 60, 61, 51, 287, 288, 51, 51, 47, 47, 47, 53, 50, 59, 42, 120, 121, 114, 115, 65, 66, 52, 85, 86, 53, 89, 90, 54, 314, 315, 69, 70, 52, 49, 50, 51, 61, 60, 61, 51, 323, 324, 51, 51, 47, 47, 47, 53, 50, 59, 42, 120, 121, 116, 117, 65, 66, 52, 85, 86, 53, 94, 95, 54, 327, 328, 69, 70, 52, 49, 50, 51, 61, 60, 61, 51, 314, 315, 51, 51, 47, 47, 47, 53, 50, 59, 42, 121, 122, 120, 121, 65, 66, 52, 85, 86, 53, 89, 90, 54, 303, 304, 69, 70, 52, 49, 50, 51, 61, 60, 61, 51, 303, 304, 51, 51, 47, 47, 47, 53, 50, 59, 42, 117, 118, 117, 118, 65, 66, 52, 85, 86, 53, 89, 90, 54, 303, 304, 69, 70, 52, 49, 50, 51, 61, 60, 61, 51, 305, 306, 51, 51, 47, 47, 47, 53, 50, 59, 42, 121, 122, 118, 119, 65, 66, 52, 85, 86, 53, 94, 95, 54, 303, 304, 69, 70, 52, 49, 50, 51, 61, 60, 61, 51, 275, 276, 51, 51, 47, 47, 47, 53, 50, 59, 42, 121, 122, 118, 119, 65, 66, 52, 85, 86, 53, 94, 95, 54, 315, 316, 69, 70, 52, 49, 50, 51, 61, 60, 61, 51, 295, 296, 51, 51, 47, 47, 47, 53, 50, 59, 42, 118, 119, 116, 117, 65, 66, 52, 85, 86, 53, 89, 90, 54, 295, 296, 69, 70, 52, 49, 50, 51, 61, 60, 61, 51, 311, 312, 51, 51, 47, 47, 47, 53, 50, 59, 42, 118, 119, 115, 116, 65, 66, 52, 85, 86, 53, 94, 95, 54, 318, 319, 69, 70, 52, 49, 50, 51, 61, 60, 61, 51, 308, 309, 51, 51, 47, 47, 47, 53, 50, 59, 42, 118, 119, 117, 118, 65, 66, 52, 85, 86, 53, 94, 95, 54, 285, 286, 69, 70, 52, 49, 50, 51, 61, 60, 61, 51, 299, 300, 51, 51, 47, 47, 47, 53, 50, 59, 42, 120, 121, 120, 121, 65, 66, 52, 85, 86, 53, 94, 95, 54, 293, 294, 69, 70, 52, 49, 50, 51, 61, 60, 61, 51, 287, 288, 51, 51, 47, 47, 47, 53, 50, 59, 42, 118, 119, 122, 123, 65, 66, 52, 85, 86, 53, 94, 95, 54, 299, 300, 69, 70, 52, 49, 50, 51, 61, 60, 61, 51, 279, 280, 51, 51, 47, 47, 47, 53, 50, 59, 42, 118, 119, 115, 116, 65, 66, 52, 85, 86, 53, 93, 94, 54, 313, 314, 69, 70, 52, 49, 50, 51, 61, 60, 61, 51, 298, 299, 51, 51, 47, 47, 47, 53, 50, 59, 42, 117, 118, 115, 116, 65, 66, 52, 85, 86, 53, 89, 90, 54, 301, 302, 69, 70, 52, 49, 50, 51, 61, 60, 61, 51, 296, 297, 51, 51, 47, 47, 47, 53, 50, 59, 42, 121, 122, 117, 118, 65, 66, 52, 85, 86, 53, 89, 90, 54, 305, 306, 69, 70, 52, 49, 50, 51, 61, 60, 61, 51, 310, 311, 51, 51, 47, 47, 47, 53, 50, 59, 42, 116, 117, 118, 119, 65, 66, 52, 85, 86, 53, 89, 90, 54, 300, 301, 69, 70, 52, 49, 50, 51, 61, 60, 61, 51, 305, 306, 51, 51, 47, 47, 47, 53, 50, 59, 42, 121, 122, 113, 114, 65, 66, 52, 85, 86, 53, 89, 90, 54, 287, 288, 69, 70, 52, 49, 50, 51, 61, 60, 61, 51, 286, 287, 51, 51, 47, 47, 47, 53, 50, 59, 42, 121, 122, 117, 118, 65, 66, 52, 85, 86, 53, 89, 90, 54, 312, 313, 69, 70, 52, 49, 50, 51, 61, 60, 61, 51, 295, 296, 51, 51, 47, 47, 47, 53, 50, 59, 42, 117, 118, 116, 117, 65, 66, 52, 85, 86, 53, 89, 90, 54, 301, 302, 69, 70, 52, 49, 50, 51, 61, 60, 61, 51, 304, 305, 51, 51, 47, 47, 47, 53, 50, 59, 42, 120, 121, 118, 119, 65, 66, 52, 85, 86, 53, 89, 90, 54, 305, 306, 69, 70, 52, 49, 50, 51, 61, 60, 61, 51, 304, 305, 51, 51, 47, 47, 47, 53, 50, 59, 42, 121, 122, 112, 113, 65, 66, 52, 85, 86, 53, 89, 90, 54, 308, 309, 69, 70, 52, 49, 50, 51, 61, 60, 61, 51, 304, 305, 51, 51, 47, 47, 47, 53, 50, 59, 42, 122, 123, 113, 114, 65, 66, 52, 85, 86, 53, 89, 90, 54, 309, 310, 69, 70, 52, 49, 50, 51, 61, 60, 61, 51, 282, 283, 51, 51, 47, 47, 47, 53, 50, 59, 42, 120, 121, 118, 119, 65, 66, 52, 85, 86, 53, 89, 90, 54, 291, 292, 69, 70, 52, 49, 50, 51, 61, 60, 61, 51, 305, 306, 51, 51, 47, 47, 47, 53, 50, 59, 42, 122, 123, 119, 120, 65, 66, 52, 85, 86, 53, 89, 90, 54, 288, 289, 69, 70, 52, 49, 50, 51, 61, 60, 61, 51, 302, 303, 51, 51, 47, 47, 47, 53, 50, 59, 42, 120, 121, 113, 114, 65, 66, 52, 85, 86, 53, 94, 95, 54, 313, 314, 69, 70, 52, 49, 50, 51, 61, 60, 61, 51, 307, 308, 51, 51, 47, 47, 47, 53, 50, 59, 42, 117, 118, 116, 117, 65, 66, 52, 85, 86, 53, 89, 90, 54, 303, 304, 69, 70, 52, 49, 50, 51, 61, 60, 61, 51, 286, 287, 51, 51, 47, 47, 47, 53, 50, 59, 42, 122, 123, 118, 119, 65, 66, 52, 85, 86, 53, 94, 95, 54, 306, 307, 69, 70, 52, 49, 50, 51, 61, 60, 61, 51, 312, 313, 51, 51, 47, 47, 47, 53, 50, 59, 42, 119, 120, 124, 125, 65, 66, 52, 85, 86, 53, 93, 94, 54, 292, 293, 69, 70, 52, 49, 50, 51, 61, 60, 61, 51, 312, 313, 51, 51, 47, 47, 47, 53, 50, 59, 42, 117, 118, 117, 118, 65, 66, 52, 85, 86, 53, 94, 95, 54, 302, 303, 69, 70, 52, 49, 50, 51, 61, 60, 61, 51, 287, 288, 51, 51, 47, 47, 47, 53, 50, 59, 42, 116, 117, 113, 114, 65, 66, 52, 85, 86, 53, 93, 94, 54, 304, 305, 69, 70, 52, 49, 50, 51, 61, 60, 61, 51, 289, 290, 51, 51, 47, 47, 47, 53, 50, 59, 42, 120, 121, 118, 119, 65, 66, 52, 85, 86, 53, 89, 90, 54, 292, 293, 69, 70, 52, 49, 50, 51, 61, 60, 61, 51, 289, 290, 51, 51, 47, 47, 47, 53, 50, 59, 42, 122, 123, 113, 114, 65, 66, 52, 85, 86, 53, 87, 88, 54, 280, 281, 69, 70, 52, 49, 50, 51, 61, 60, 61, 51, 284, 285, 51, 51, 47, 47, 47, 53, 50, 59, 42, 117, 118, 116, 117, 65, 66, 52, 85, 86, 53, 94, 95, 54, 309, 310, 69, 70, 52, 49, 50, 51, 61, 60, 61, 51, 291, 292, 51, 51, 47, 47, 47, 53, 50, 59, 42, 121, 122, 127, 128, 65, 66, 52, 85, 86, 53, 89, 90, 54, 297, 298, 69, 70, 52, 49, 50, 51, 61, 60, 61, 51, 276, 277, 51, 51, 47, 47, 47, 53, 50, 59, 42, 117, 118, 116, 117, 65, 66, 52, 85, 86, 53, 89, 90, 54, 308, 309, 69, 70, 52, 49, 50, 51, 61, 60, 61, 51, 299, 300, 51, 51, 47, 47, 47, 53, 50, 59, 42, 117, 118, 121, 122, 65, 66, 52, 85, 86, 53, 89, 90, 54, 308, 309, 69, 70, 52, 49, 50, 51, 61, 60, 61, 51, 302, 303, 51, 51, 47, 47, 47, 53, 50, 59, 42, 117, 118, 115, 116, 65, 66, 52, 85, 86, 53, 94, 95, 54, 308, 309, 69, 70, 52, 49, 50, 51, 61, 60, 61, 51, 280, 281, 51, 51, 47, 47, 47, 53, 50, 59, 42, 120, 121, 122, 123, 65, 66, 52, 85, 86, 53, 89, 90, 54, 322, 323, 69, 70, 52, 49, 50, 51, 61, 60, 61, 51, 275, 276, 51, 51, 47, 47, 47, 53, 50, 59, 42, 121, 122, 117, 118, 65, 66, 52, 85, 86, 53, 94, 95, 54, 298, 299, 69, 70, 52, 49, 50, 51, 61, 60, 61, 51, 283, 284, 51, 51, 47, 47, 47, 53, 50, 59, 42, 117, 118, 119, 120, 65, 66, 52, 85, 86, 53, 89, 90, 54, 288, 289, 69, 70, 52, 49, 50, 51, 61, 60, 61, 51, 306, 307, 51, 51, 47, 47, 47, 53, 50, 59, 42, 117, 118, 117, 118, 65, 66, 52, 85, 86, 53, 89, 90, 54, 303, 304, 69, 70, 52, 49, 50, 51, 61, 60, 61, 51, 306, 307, 51, 51, 47, 47, 47, 53, 50, 59, 42, 121, 122, 115, 116, 65, 66, 52, 85, 86, 53, 94, 95, 54, 296, 297, 69, 70, 52, 49, 50, 51, 61, 60, 61, 51, 299, 300, 51, 51, 47, 47, 47, 53, 50, 59, 42, 117, 118, 122, 123, 65, 66, 52, 85, 86, 53, 94, 95, 54, 302, 303, 69, 70, 52, 49, 50, 51, 61, 60, 61, 51, 307, 308, 51, 51, 47, 47, 47, 53, 50, 59, 42, 121, 122, 121, 122, 65, 66, 52, 85, 86, 53, 88, 89, 54, 303, 304, 69, 70, 52, 49, 50, 51, 61, 60, 61, 51, 272, 273, 51, 51, 47, 47, 47, 53, 50, 59, 42, 121, 122, 114, 115, 65, 66, 52, 85, 86, 53, 94, 95, 54, 300, 301, 69, 70, 52, 49, 50, 51, 61, 60, 61, 51, 301, 302, 51, 51, 47, 47, 47, 53, 50, 59, 42, 120, 121, 114, 115, 65, 66, 52, 85, 86, 53, 89, 90, 54, 317, 318, 69, 70, 52, 49, 50, 51, 61, 60, 61, 51, 314, 315, 51, 51, 47, 47, 47, 53, 50, 59, 42, 117, 118, 115, 116, 65, 66, 52, 85, 86, 53, 88, 89, 54, 300, 301, 69, 70, 52, 49, 50, 51, 61, 60, 61, 51, 315, 316, 51, 51, 47, 47, 47, 53, 50, 59, 42, 122, 123, 116, 117, 65, 66, 52, 85, 86, 53, 88, 89, 54, 301, 302, 69, 70, 52, 49, 50, 51, 61, 60, 61, 51, 308, 309, 51, 51, 47, 47, 47, 53, 50, 59, 42, 117, 118, 114, 115, 65, 66, 52, 85, 86, 53, 94, 95, 54, 299, 300, 69, 70, 52, 49, 50, 51, 61, 60, 61, 51, 317, 318, 51, 51, 47, 47, 47, 53, 50, 59, 42, 118, 119, 118, 119, 65, 66, 52, 85, 86, 53, 94, 95, 54, 306, 307, 69, 70, 52, 49, 50, 51, 61, 60, 61, 51, 293, 294, 51, 51, 47, 47, 47, 53, 50, 59, 42, 120, 121, 117, 118, 65, 66, 52, 85, 86, 53, 89, 90, 54, 296, 297, 69, 70, 52, 49, 50, 51, 61, 60, 61, 51, 307, 308, 51, 51, 47, 47, 47, 53, 50, 59, 42, 117, 118, 120, 121, 65, 66, 52, 85, 86, 53, 89, 90, 54, 289, 290, 69, 70, 52, 49, 50, 51, 61, 60, 61, 51, 324, 325, 51, 51, 47, 47, 47, 53, 50, 59, 42, 120, 121, 119, 120, 65, 66, 52, 85, 86, 53, 89, 90, 54, 292, 293, 69, 70, 52, 49, 50, 51, 61, 60, 61, 51, 292, 293, 51, 51, 47, 47, 47, 53, 50, 59, 42, 121, 122, 115, 116, 65, 66, 52, 85, 86, 53, 94, 95, 54, 302, 303, 69, 70, 52, 49, 50, 51, 61, 60, 61, 51, 295, 296, 51, 51, 47, 47, 47, 53, 50, 59, 42, 117, 118, 118, 119, 65, 66, 52, 85, 86, 53, 94, 95, 54, 291, 292, 69, 70, 52, 49, 50, 51, 61, 60, 61, 51, 295, 296, 51, 51, 47, 47, 47, 53, 50, 59, 42, 118, 119, 112, 113, 65, 66, 52, 85, 86, 53, 89, 90, 54, 285, 286, 69, 70, 52, 49, 50, 51, 61, 60, 61, 51, 285, 286, 51, 51, 47, 47, 47, 53, 50, 59, 42, 121, 122, 116, 117, 65, 66, 52, 85, 86, 53, 94, 95, 54, 332, 333, 69, 70, 52, 49, 50, 51, 61, 60, 61, 51, 297, 298, 51, 51, 47, 47, 47, 53, 50, 59, 42, 121, 122, 117, 118, 65, 66, 52, 85, 86, 53, 89, 90, 54, 296, 297, 69, 70, 52, 49, 50, 51, 61, 60, 61, 51, 309, 310, 51, 51, 47, 47, 47, 53, 50, 59, 42, 120, 121, 116, 117, 65, 66, 52, 85, 86, 53, 94, 95, 54, 304, 305, 69, 70, 52, 49, 50, 51, 61, 60, 61, 51, 317, 318, 51, 51, 47, 47, 47, 53, 50, 59, 42, 121, 122, 118, 119, 65, 66, 52, 85, 86, 53, 89, 90, 54, 321, 322, 69, 70, 52, 49, 50, 51, 61, 60, 61, 51, 312, 313, 51, 51, 47, 47, 47, 53, 50, 59, 42, 120, 121, 112, 113, 65, 66, 52, 85, 86, 53, 94, 95, 54, 289, 290, 69, 70, 52, 49, 50, 51, 61, 60, 61, 51, 298, 299, 51, 51, 47, 47, 47, 53, 50, 59, 42, 121, 122, 120, 121, 65, 66, 52, 85, 86, 53, 89, 90, 54, 296, 297, 69, 70, 52, 49, 50, 51, 61, 60, 61, 51, 318, 319, 51, 51, 47, 47, 47, 53, 50, 59, 42, 122, 123, 118, 119, 65, 66, 52, 85, 86, 53, 94, 95, 54, 293, 294, 69, 70, 52, 49, 50, 51, 61, 60, 61, 51, 302, 303, 51, 51, 47, 47, 47, 53, 50, 59, 42, 121, 122, 120, 121, 65, 66, 52, 85, 86, 53, 94, 95, 54, 319, 320, 69, 70, 52, 49, 50, 51, 61, 60, 61, 51, 317, 318, 51, 51, 47, 47, 47, 53, 50, 59, 42, 121, 122, 114, 115, 65, 66, 52, 85, 86, 53, 94, 95, 54, 303, 304, 69, 70, 52, 49, 50, 51, 61, 60, 61, 51, 317, 318, 51, 51, 47, 47, 47, 53, 50, 59, 42, 121, 122, 113, 114, 65, 66, 52, 85, 86, 53, 89, 90, 54, 298, 299, 69, 70, 52, 49, 50, 51, 61, 60, 61, 51, 322, 323, 51, 51, 47, 47, 47, 53, 50, 59, 42, 118, 119, 113, 114, 65, 66, 52, 85, 86, 53, 94, 95, 54, 283, 284, 69, 70, 52, 49, 50, 51, 61, 60, 61, 51, 313, 314, 51, 51, 47, 47, 47, 53, 50, 59, 42, 118, 119, 113, 114, 65, 66, 52, 85, 86, 53, 89, 90, 54, 278, 279, 69, 70, 52, 49, 50, 51, 61, 60, 61, 51, 285, 286, 51, 51, 47, 47, 47, 53, 50, 59, 42, 122, 123, 119, 120, 65, 66, 52, 85, 86, 53, 89, 90, 54, 299, 300, 69, 70, 52, 49, 50, 51, 61, 60, 61, 51, 295, 296, 51, 51, 47, 47, 47, 53, 50, 59, 42, 120, 121, 113, 114, 65, 66, 52, 85, 86, 53, 94, 95, 54, 294, 295, 69, 70, 52, 49, 50, 51, 61, 60, 61, 51, 298, 299, 51, 51, 47, 47, 47, 53, 50, 59, 42, 120, 121, 110, 111, 65, 66, 52, 85, 86, 53, 94, 95, 54, 319, 320, 69, 70, 52, 49, 50, 51, 61, 60, 61, 51, 309, 310, 51, 51, 47, 47, 47, 53, 50, 59, 42, 121, 122, 117, 118, 65, 66, 52, 85, 86, 53, 89, 90, 54, 351, 352, 69, 70, 52, 49, 50, 51, 61, 60, 61, 51, 300, 301, 51, 51, 47, 47, 47, 53, 50, 59, 42, 117, 118, 117, 118, 65, 66, 52, 85, 86, 53, 86, 87, 54, 281, 282, 69, 70, 52, 49, 50, 51, 61, 60, 61, 51, 282, 283, 51, 51, 47, 47, 47, 53, 50, 59, 42, 117, 118, 117, 118, 65, 66, 52, 85, 86, 53, 89, 90, 54, 309, 310, 69, 70, 52, 49, 50, 51, 61, 60, 61, 51, 319, 320, 51, 51, 47, 47, 47, 53, 50, 59, 42, 117, 118, 115, 116, 65, 66, 52, 85, 86, 53, 94, 95, 54, 308, 309, 69, 70, 52, 49, 50, 51, 61, 60, 61, 51, 304, 305, 51, 51, 47, 47, 47, 53, 50, 59, 42, 119, 120, 124, 125, 65, 66, 52, 85, 86, 53, 94, 95, 54, 290, 291, 69, 70, 52, 49, 50, 51, 61, 60, 61, 51, 320, 321, 51, 51, 47, 47, 47, 53, 50, 59, 42, 117, 118, 118, 119, 65, 66, 52, 85, 86, 53, 89, 90, 54, 319, 320, 69, 70, 52, 49, 50, 51, 61, 60, 61, 51, 307, 308, 51, 51, 47, 47, 47, 53, 50, 59, 42, 121, 122, 118, 119, 65, 66, 52, 85, 86, 53, 89, 90, 54, 294, 295, 69, 70, 52, 49, 50, 51, 61, 60, 61, 51, 292, 293, 51, 51, 47, 47, 47, 53, 50, 59, 42, 117, 118, 120, 121, 65, 66, 52, 85, 86, 53, 89, 90, 54, 297, 298, 69, 70, 52, 49, 50, 51, 61, 60, 61, 51, 310, 311, 51, 51, 47, 47, 47, 53, 50, 59, 42, 121, 122, 115, 116, 65, 66, 52, 85, 86, 53, 89, 90, 54, 295, 296, 69, 70, 52, 49, 50, 51, 61, 60, 61, 51, 296, 297, 51, 51, 47, 47, 47, 53, 50, 59, 42, 117, 118, 116, 117, 65, 66, 52, 85, 86, 53, 94, 95, 54, 302, 303, 69, 70, 52, 49, 50, 51, 61, 60, 61, 51, 291, 292, 51, 51, 47, 47, 47, 53, 50, 59, 42, 120, 121, 112, 113, 65, 66, 52, 85, 86, 53, 89, 90, 54, 314, 315, 69, 70, 52, 49, 50, 51, 61, 60, 61, 51, 305, 306, 51, 51, 47, 47, 47, 53, 50, 59, 42, 122, 123, 122, 123, 65, 66, 52, 85, 86, 53, 94, 95, 54, 290, 291, 69, 70, 52, 49, 50, 51, 61, 60, 61, 51, 315, 316, 51, 51, 47, 47, 47, 53, 50, 59, 42, 121, 122, 113, 114, 65, 66, 52, 85, 86, 53, 89, 90, 54, 297, 298, 69, 70, 52, 49, 50, 51, 61, 60, 61, 51, 304, 305, 51, 51, 47, 47, 47, 53, 50, 59, 42, 121, 122, 115, 116, 65, 66, 52, 85, 86, 53, 94, 95, 54, 283, 284, 69, 70, 52, 49, 50, 51, 61, 60, 61, 51, 282, 283, 51, 51, 47, 47, 47, 53, 50, 59, 42, 122, 123, 115, 116, 65, 66, 52, 85, 86, 53, 89, 90, 54, 314, 315, 69, 70, 52, 49, 50, 51, 61, 60, 61, 51, 291, 292, 51, 51, 47, 47, 47, 53, 50, 59, 42, 121, 122, 123, 124, 65, 66, 52, 85, 86, 53, 94, 95, 54, 296, 297, 69, 70, 52, 49, 50, 51, 61, 60, 61, 51, 301, 302, 51, 51, 47, 47, 47, 53, 50, 59, 42, 120, 121, 117, 118, 65, 66, 52, 85, 86, 53, 89, 90, 54, 303, 304, 69, 70, 52, 49, 50, 51, 61, 60, 61, 51, 287, 288, 51, 51, 47, 47, 47, 53, 50, 59, 42, 122, 123, 117, 118, 65, 66, 52, 85, 86, 53, 89, 90, 54, 332, 333, 69, 70, 52, 49, 50, 51, 61, 60, 61, 51, 289, 290, 51, 51, 47, 47, 47, 53, 50, 59, 42, 120, 121, 113, 114, 65, 66, 52, 85, 86, 53, 89, 90, 54, 318, 319, 69, 70, 52, 49, 50, 51, 61, 60, 61, 51, 310, 311, 51, 51, 47, 47, 47, 53, 50, 59, 42, 122, 123, 116, 117, 65, 66, 52, 85, 86, 53, 94, 95, 54, 280, 281, 69, 70, 52, 49, 50, 51, 61, 60, 61, 51, 296, 297, 51, 51, 47, 47, 47, 53, 50, 59, 42, 122, 123, 114, 115, 65, 66, 52, 85, 86, 53, 89, 90, 54, 309, 310, 69, 70, 52, 49, 50, 51, 61, 60, 61, 51, 284, 285, 51, 51, 47, 47, 47, 53, 50, 59, 42, 122, 123, 118, 119, 65, 66, 52, 85, 86, 53, 94, 95, 54, 297, 298, 69, 70, 52, 49, 50, 51, 61, 60, 61, 51, 276, 277, 51, 51, 47, 47, 47, 53, 50, 59, 42, 121, 122, 113, 114, 65, 66, 52, 85, 86, 53, 94, 95, 54, 296, 297, 69, 70, 52, 49, 50, 51, 61, 60, 61, 51, 279, 280, 51, 51, 47, 47, 47, 53, 50, 59, 42, 117, 118, 115, 116, 65, 66, 52, 85, 86, 53, 94, 95, 54, 281, 282, 69, 70, 52, 49, 50, 51, 61, 60, 61, 51, 297, 298, 51, 51, 47, 47, 47, 53, 50, 59, 42, 121, 122, 115, 116, 65, 66, 52, 85, 86, 53, 89, 90, 54, 299, 300, 69, 70, 52, 49, 50, 51, 61, 60, 61, 51, 322, 323, 51, 51, 47, 47, 47, 53, 50, 59, 42, 122, 123, 118, 119, 65, 66, 52, 85, 86, 53, 89, 90, 54, 297, 298, 69, 70, 52, 49, 50, 51, 61, 60, 61, 51, 288, 289, 51, 51, 47, 47, 47, 53, 50, 59, 42, 121, 122, 118, 119, 65, 66, 52, 85, 86, 53, 89, 90, 54, 313, 314, 69, 70, 52, 49, 50, 51, 61, 60, 61, 51, 302, 303, 51, 51, 47, 47, 47, 53, 50, 59, 42, 122, 123, 118, 119, 65, 66, 52, 85, 86, 53, 94, 95, 54, 298, 299, 69, 70, 52, 49, 50, 51, 61, 60, 61, 51, 319, 320, 51, 51, 47, 47, 47, 53, 50, 59, 42, 121, 122, 119, 120, 65, 66, 52, 85, 86, 53, 94, 95, 54, 304, 305, 69, 70, 52, 49, 50, 51, 61, 60, 61, 51, 294, 295, 51, 51, 47, 47, 47, 53, 50, 59, 42, 120, 121, 116, 117, 65, 66, 52, 85, 86, 53, 89, 90, 54, 306, 307, 69, 70, 52, 49, 50, 51, 61, 60, 61, 51, 290, 291, 51, 51, 47, 47, 47, 53, 50, 59, 42, 117, 118, 121, 122, 65, 66, 52, 85, 86, 53, 89, 90, 54, 283, 284, 69, 70, 52, 49, 50, 51, 61, 60, 61, 51, 308, 309, 51, 51, 47, 47, 47, 53, 50, 59, 42, 121, 122, 114, 115, 65, 66, 52, 85, 86, 53, 89, 90, 54, 284, 285, 69, 70, 52, 49, 50, 51, 61, 60, 61, 51, 310, 311, 51, 51, 47, 47, 47, 53, 50, 59, 42, 117, 118, 121, 122, 65, 66, 52, 85, 86, 53, 94, 95, 54, 285, 286, 69, 70, 52, 49, 50, 51, 61, 60, 61, 51, 297, 298, 51, 51, 47, 47, 47, 53, 50, 59, 42, 121, 122, 112, 113, 65, 66, 52, 85, 86, 53, 94, 95, 54, 293, 294, 69, 70, 52, 49, 50, 51, 61, 60, 61, 51, 311, 312, 51, 51, 47, 47, 47, 53, 50, 59, 42, 117, 118, 119, 120, 65, 66, 52, 85, 86, 53, 93, 94, 54, 285, 286, 69, 70, 52, 49, 50, 51, 61, 60, 61, 51, 302, 303, 51, 51, 47, 47, 47, 53, 50, 59, 42, 122, 123, 120, 121, 65, 66, 52, 85, 86, 53, 89, 90, 54, 295, 296, 69, 70, 52, 49, 50, 51, 61, 60, 61, 51, 293, 294, 51, 51, 47, 47, 47, 53, 50, 59, 42, 120, 121, 116, 117, 65, 66, 52, 85, 86, 53, 94, 95, 54, 293, 294, 69, 70, 52, 49, 50, 51, 61, 60, 61, 51, 294, 295, 51, 51, 47, 47, 47, 53, 50, 59, 42, 120, 121, 114, 115, 65, 66, 52, 85, 86, 53, 89, 90, 54, 287, 288, 69, 70, 52, 49, 50, 51, 61, 60, 61, 51, 285, 286, 51, 51, 47, 47, 47, 53, 50, 59, 42, 121, 122, 116, 117, 65, 66, 52, 85, 86, 53, 89, 90, 54, 285, 286, 69, 70, 52, 49, 50, 51, 61, 60, 61, 51, 300, 301, 51, 51, 47, 47, 47, 53, 50, 59, 42, 120, 121, 117, 118, 65, 66, 52, 85, 86, 53, 89, 90, 54, 292, 293, 69, 70, 52, 49, 50, 51, 61, 60, 61, 51, 278, 279, 51, 51, 47, 47, 47, 53, 50, 59, 42, 122, 123, 114, 115, 65, 66, 52, 85, 86, 53, 89, 90, 54, 325, 326, 69, 70, 52, 49, 50, 51, 61, 60, 61, 51, 308, 309, 51, 51, 47, 47, 47, 53, 50, 59, 42, 117, 118, 118, 119, 65, 66, 52, 85, 86, 53, 89, 90, 54, 277, 278, 69, 70, 52, 49, 50, 51, 61, 60, 61, 51, 299, 300, 51, 51, 47, 47, 47, 53, 50, 59, 42, 121, 122, 117, 118, 65, 66, 52, 85, 86, 53, 89, 90, 54, 307, 308, 69, 70, 52, 49, 50, 51, 61, 60, 61, 51, 311, 312, 51, 51, 47, 47, 47, 53, 50, 59, 42, 121, 122, 113, 114, 65, 66, 52, 85, 86, 53, 94, 95, 54, 326, 327, 69, 70, 52, 49, 50, 51, 61, 60, 61, 51, 299, 300, 51, 51, 47, 47, 47, 53, 50, 59, 42, 120, 121, 117, 118, 65, 66, 52, 85, 86, 53, 93, 94, 54, 318, 319, 69, 70, 52, 49, 50, 51, 61, 60, 61, 51, 297, 298, 51, 51, 47, 47, 47, 53, 50, 59, 42, 121, 122, 116, 117, 65, 66, 52, 85, 86, 53, 89, 90, 54, 293, 294, 69, 70, 52, 49, 50, 51, 61, 60, 61, 51, 342, 343, 51, 51, 47, 47, 47, 53, 50, 59, 42, 121, 122, 117, 118, 65, 66, 52, 85, 86, 53, 89, 90, 54, 312, 313, 69, 70, 52, 49, 50, 51, 61, 60, 61, 51, 312, 313, 51, 51, 47, 47, 47, 53, 50, 59, 42, 121, 122, 117, 118, 65, 66, 52, 85, 86, 53, 94, 95, 54, 301, 302, 69, 70, 52, 49, 50, 51, 61, 60, 61, 51, 302, 303, 51, 51, 47, 47, 47, 53, 50, 59, 42, 121, 122, 110, 111, 65, 66, 52, 85, 86, 53, 94, 95, 54, 287, 288, 69, 70, 52, 49, 50, 51, 61, 60, 61, 51, 306, 307, 51, 51, 47, 47, 47, 53, 50, 59, 42, 121, 122, 119, 120, 65, 66, 52, 85, 86, 53, 88, 89, 54, 288, 289, 69, 70, 52, 49, 50, 51, 61, 60, 61, 51, 294, 295, 51, 51, 47, 47, 47, 53, 50, 59, 42, 121, 122, 116, 117, 65, 66, 52, 85, 86, 53, 89, 90, 54, 308, 309, 69, 70, 52, 49, 50, 51, 61, 60, 61, 51, 304, 305, 51, 51, 47, 47, 47, 53, 50, 59, 42, 116, 117, 116, 117, 65, 66, 52, 85, 86, 53, 94, 95, 54, 294, 295, 69, 70, 52, 49, 50, 51, 61, 60, 61, 51, 291, 292, 51, 51, 47, 47, 47, 53, 50, 59, 42, 121, 122, 117, 118, 65, 66, 52, 85, 86, 53, 89, 90, 54, 289, 290, 69, 70, 52, 49, 50, 51, 61, 60, 61, 51, 295, 296, 51, 51, 47, 47, 47, 53, 50, 59, 42, 121, 122, 118, 119, 65, 66, 52, 85, 86, 53, 89, 90, 54, 286, 287, 69, 70, 52, 49, 50, 51, 61, 60, 61, 51, 289, 290, 51, 51, 47, 47, 47, 53, 50, 59, 42, 121, 122, 110, 111, 65, 66, 52, 85, 86, 53, 89, 90, 54, 326, 327, 69, 70, 52, 49, 50, 51, 61, 60, 61, 51, 283, 284, 51, 51, 47, 47, 47, 53, 50, 59, 42, 121, 122, 120, 121, 65, 66, 52, 85, 86, 53, 89, 90, 54, 315, 316, 69, 70, 52, 49, 50, 51, 61, 60, 61, 51, 280, 281, 51, 51, 47, 47, 47, 53, 50, 59, 42, 120, 121, 117, 118, 65, 66, 52, 85, 86, 53, 94, 95, 54, 288, 289, 69, 70, 52, 49, 50, 51, 61, 60, 61, 51, 277, 278, 51, 51, 47, 47, 47, 53, 50, 59, 42, 117, 118, 118, 119, 65, 66, 52, 85, 86, 53, 93, 94, 54, 317, 318, 69, 70, 52, 49, 50, 51, 61, 60, 61, 51, 289, 290, 51, 51, 47, 47, 47, 53, 50, 59, 42, 120, 121, 113, 114, 65, 66, 52, 85, 86, 53, 89, 90, 54, 303, 304, 69, 70, 52, 49, 50, 51, 61, 60, 61, 51, 295, 296, 51, 51, 47, 47, 47, 53, 50, 59, 42, 117, 118, 116, 117, 65, 66, 52, 85, 86, 53, 94, 95, 54, 281, 282, 69, 70, 52, 49, 50, 51, 61, 60, 61, 51, 284, 285, 51, 51, 47, 47, 47, 53, 50, 59, 42, 120, 121, 117, 118, 65, 66, 52, 85, 86, 53, 89, 90, 54, 298, 299, 69, 70, 52, 49, 50, 51, 61, 60, 61, 51, 308, 309, 51, 51, 47, 47, 47, 53, 50, 59, 42, 118, 119, 123, 124, 65, 66, 52, 85, 86, 53, 94, 95, 54, 312, 313, 69, 70, 52, 49, 50, 51, 61, 60, 61, 51, 289, 290, 51, 51, 47, 47, 47, 53, 50, 59, 42, 121, 122, 117, 118, 65, 66, 52, 85, 86, 53, 94, 95, 54, 319, 320, 69, 70, 52, 49, 50, 51, 61, 60, 61, 51, 275, 276, 51, 51, 47, 47, 47, 53, 50, 59, 42, 120, 121, 117, 118, 65, 66, 52, 85, 86, 53, 94, 95, 54, 298, 299, 69, 70, 52, 49, 50, 51, 61, 60, 61, 51, 285, 286, 51, 51, 47, 47, 47, 53, 50, 59, 42, 120, 121, 115, 116, 65, 66, 52, 85, 86, 53, 89, 90, 54, 313, 314, 69, 70, 52, 49, 50, 51, 61, 60, 61, 51, 308, 309, 51, 51, 47, 47, 47, 53, 50, 59, 42, 118, 119, 118, 119, 65, 66, 52, 85, 86, 53, 94, 95, 54, 315, 316, 69, 70, 52, 49, 50, 51, 61, 60, 61, 51, 283, 284, 51, 51, 47, 47, 47, 53, 50, 59, 42, 120, 121, 116, 117, 65, 66, 52, 85, 86, 53, 89, 90, 54, 289, 290, 69, 70, 52, 49, 50, 51, 61, 60, 61, 51, 292, 293, 51, 51, 47, 47, 47, 53, 50, 59, 42, 120, 121, 114, 115, 65, 66, 52, 85, 86, 53, 89, 90, 54, 287, 288, 69, 70, 52, 49, 50, 51, 61, 60, 61, 51, 307, 308, 51, 51, 47, 47, 47, 53, 50, 59, 42, 118, 119, 115, 116, 65, 66, 52, 85, 86, 53, 94, 95, 54, 303, 304, 69, 70, 52, 49, 50, 51, 61, 60, 61, 51, 326, 327, 51, 51, 47, 47, 47, 53, 50, 59, 42, 120, 121, 116, 117, 65, 66, 52, 85, 86, 53, 94, 95, 54, 294, 295, 69, 70, 52, 49, 50, 51, 61, 60, 61, 51, 302, 303, 51, 51, 47, 47, 47, 53, 50, 59, 42, 120, 121, 119, 120, 65, 66, 52, 85, 86, 53, 89, 90, 54, 288, 289, 69, 70, 52, 49, 50, 51, 61, 60, 61, 51, 304, 305, 51, 51, 47, 47, 47, 53, 50, 59, 42, 122, 123, 117, 118, 65, 66, 52, 85, 86, 53, 94, 95, 54, 285, 286, 69, 70, 52, 49, 50, 51, 61, 60, 61, 51, 290, 291, 51, 51, 47, 47, 47, 53, 50, 59, 42, 120, 121, 119, 120, 65, 66, 52, 85, 86, 53, 89, 90, 54, 315, 316, 69, 70, 52, 49, 50, 51, 61, 60, 61, 51, 298, 299, 51, 51, 47, 47, 47, 53, 50, 59, 42, 121, 122, 119, 120, 65, 66, 52, 85, 86, 53, 89, 90, 54, 323, 324, 69, 70, 52, 49, 50, 51, 61, 60, 61, 51, 310, 311, 51, 51, 47, 47, 47, 53, 50, 59, 42, 117, 118, 116, 117, 65, 66, 52, 85, 86, 53, 89, 90, 54, 305, 306, 69, 70, 52, 49, 50, 51, 61, 60, 61, 51, 298, 299, 51, 51, 47, 47, 47, 53, 50, 59, 42, 116, 117, 117, 118, 65, 66, 52, 85, 86, 53, 94, 95, 54, 306, 307, 69, 70, 52, 49, 50, 51, 61, 60, 61, 51, 295, 296, 51, 51, 47, 47, 47, 53, 50, 59, 42, 120, 121, 118, 119, 65, 66, 52, 85, 86, 53, 89, 90, 54, 301, 302, 69, 70, 52, 49, 50, 51, 61, 60, 61, 51, 294, 295, 51, 51, 47, 47, 47, 53, 50, 59, 42, 120, 121, 119, 120, 65, 66, 52, 85, 86, 53, 94, 95, 54, 304, 305, 69, 70, 52, 49, 50, 51, 61, 60, 61, 51, 301, 302, 51, 51, 47, 47, 47, 53, 50, 59, 42, 120, 121, 123, 124, 65, 66, 52, 85, 86, 53, 89, 90, 54, 302, 303, 69, 70, 52, 49, 50, 51, 61, 60, 61, 51, 300, 301, 51, 51, 47, 47, 47, 53, 50, 59, 42, 120, 121, 118, 119, 65, 66, 52, 85, 86, 53, 89, 90, 54, 294, 295, 69, 70, 52, 49, 50, 51, 61, 60, 61, 51, 288, 289, 51, 51, 47, 47, 47, 53, 50, 59, 42, 117, 118, 119, 120, 65, 66, 52, 85, 86, 53, 89, 90, 54, 305, 306, 69, 70, 52, 49, 50, 51, 61, 60, 61, 51, 290, 291, 51, 51, 47, 47, 47, 53, 50, 59, 42, 118, 119, 118, 119, 65, 66, 52, 85, 86, 53, 89, 90, 54, 285, 286, 69, 70, 52, 49, 50, 51, 61, 60, 61, 51, 294, 295, 51, 51, 47, 47, 47, 53, 50, 59, 42, 118, 119, 121, 122, 65, 66, 52, 85, 86, 53, 89, 90, 54, 298, 299, 69, 70, 52, 49, 50, 51, 61, 60, 61, 51, 298, 299, 51, 51, 47, 47, 47, 53, 50, 59, 42, 120, 121, 119, 120, 65, 66, 52, 85, 86, 53, 94, 95, 54, 294, 295, 69, 70, 52, 49, 50, 51, 61, 60, 61, 51, 296, 297, 51, 51, 47, 47, 47, 53, 50, 59, 42, 120, 121, 119, 120, 65, 66, 52, 85, 86, 53, 94, 95, 54, 273, 274, 69, 70, 52, 49, 50, 51, 61, 60, 61, 51, 310, 311, 51, 51, 47, 47, 47, 53, 50, 59, 42, 121, 122, 117, 118, 65, 66, 52, 85, 86, 53, 94, 95, 54, 299, 300, 69, 70, 52, 49, 50, 51, 61, 60, 61, 51, 295, 296, 51, 51, 47, 47, 47, 53, 50, 59, 42, 120, 121, 120, 121, 65, 66, 52, 85, 86, 53, 94, 95, 54, 315, 316, 69, 70, 52, 49, 50, 51, 61, 60, 61, 51, 293, 294, 51, 51, 47, 47, 47, 53, 50, 59, 42, 118, 119, 119, 120, 65, 66, 52, 85, 86, 53, 94, 95, 54, 288, 289, 69, 70, 52, 49, 50, 51, 61, 60, 61, 51, 300, 301, 51, 51, 47, 47, 47, 53, 50, 59, 42, 120, 121, 116, 117, 65, 66, 52, 85, 86, 53, 89, 90, 54, 292, 293, 69, 70, 52, 49, 50, 51, 61, 60, 61, 51, 296, 297, 51, 51, 47, 47, 47, 53, 50, 59, 42, 120, 121, 117, 118, 65, 66, 52, 85, 86, 53, 94, 95, 54, 293, 294, 69, 70, 52, 49, 50, 51, 61, 60, 61, 51, 292, 293, 51, 51, 47, 47, 47, 53, 50, 59, 42, 120, 121, 117, 118, 65, 66, 52, 85, 86, 53, 89, 90, 54, 273, 274, 69, 70, 52, 49, 50, 51, 61, 60, 61, 51, 274, 275, 51, 51, 47, 47, 47, 53, 50, 59, 42, 117, 118, 115, 116, 65, 66, 52, 85, 86, 53, 94, 95, 54, 287, 288, 69, 70, 52, 49, 50, 51, 61, 60, 61, 51, 293, 294, 51, 51, 47, 47, 47, 53, 50, 59, 42, 121, 122, 115, 116, 65, 66, 52, 85, 86, 53, 89, 90, 54, 279, 280, 69, 70, 52, 49, 50, 51, 61, 60, 61, 51, 299, 300, 51, 51, 47, 47, 47, 53, 50, 59, 42, 121, 122, 115, 116, 65, 66, 52, 85, 86, 53, 89, 90, 54, 299, 300, 69, 70, 52, 49, 50, 51, 61, 60, 61, 51, 284, 285, 51, 51, 47, 47, 47, 53, 50, 59, 42, 121, 122, 114, 115, 65, 66, 52, 85, 86, 53, 94, 95, 54, 315, 316, 69, 70, 52, 49, 50, 51, 61, 60, 61, 51, 312, 313, 51, 51, 47, 47, 47, 53, 50, 59, 42, 121, 122, 111, 112, 65, 66, 52, 85, 86, 53, 88, 89, 54, 306, 307, 69, 70, 52, 49, 50, 51, 61, 60, 61, 51, 300, 301, 51, 51, 47, 47, 47, 53, 50, 59, 42, 117, 118, 121, 122, 65, 66, 52, 85, 86, 53, 94, 95, 54, 296, 297, 69, 70, 52, 49, 50, 51, 61, 60, 61, 51, 308, 309, 51, 51, 47, 47, 47, 53, 50, 59, 42, 117, 118, 113, 114, 65, 66, 52, 85, 86, 53, 94, 95, 54, 300, 301, 69, 70, 52, 49, 50, 51, 61, 60, 61, 51, 283, 284, 51, 51, 47, 47, 47, 53, 50, 59, 42, 120, 121, 120, 121, 65, 66, 52, 85, 86, 53, 88, 89, 54, 310, 311, 69, 70, 52, 49, 50, 51, 61, 60, 61, 51, 283, 284, 51, 51, 47, 47, 47, 53, 50, 59, 42, 121, 122, 122, 123, 65, 66, 52, 85, 86, 53, 89, 90, 54, 309, 310, 69, 70, 52, 49, 50, 51, 61, 60, 61, 51, 309, 310, 51, 51, 47, 47, 47, 53, 50, 59, 42, 117, 118, 116, 117, 65, 66, 52, 85, 86, 53, 89, 90, 54, 302, 303, 69, 70, 52, 49, 50, 51, 61, 60, 61, 51, 302, 303, 51, 51, 47, 47, 47, 53, 50, 59, 42, 120, 121, 114, 115, 65, 66, 52, 85, 86, 53, 89, 90, 54, 299, 300, 69, 70, 52, 49, 50, 51, 61, 60, 61, 51, 291, 292, 51, 51, 47, 47, 47, 53, 50, 59, 42, 120, 121, 113, 114, 65, 66, 52, 85, 86, 53, 89, 90, 54, 315, 316, 69, 70, 52, 49, 50, 51, 61, 60, 61, 51, 298, 299, 51, 51, 47, 47, 47, 53, 50, 59, 42, 122, 123, 114, 115, 65, 66, 52, 85, 86, 53, 94, 95, 54, 313, 314, 69, 70, 52, 49, 50, 51, 61, 60, 61, 51, 303, 304, 51, 51, 47, 47, 47, 53, 50, 59, 42, 117, 118, 118, 119, 65, 66, 52, 85, 86, 53, 89, 90, 54, 305, 306, 69, 70, 52, 49, 50, 51, 61, 60, 61, 51, 290, 291, 51, 51, 47, 47, 47, 53, 50, 59, 42, 121, 122, 113, 114, 65, 66, 52, 85, 86, 53, 94, 95, 54, 304, 305, 69, 70, 52, 49, 50, 51, 61, 60, 61, 51, 281, 282, 51, 51, 47, 47, 47, 53, 50, 59, 42, 118, 119, 117, 118, 65, 66, 52, 85, 86, 53, 89, 90, 54, 333, 334, 69, 70, 52, 49, 50, 51, 61, 60, 61, 51, 287, 288, 51, 51, 47, 47, 47, 53, 50, 59, 42, 117, 118, 120, 121, 65, 66, 52, 85, 86, 53, 94, 95, 54, 301, 302, 69, 70, 52, 49, 50, 51, 61, 60, 61, 51, 310, 311, 51, 51, 47, 47, 47, 53, 50, 59, 42, 120, 121, 118, 119, 65, 66, 52, 85, 86, 53, 89, 90, 54, 312, 313, 69, 70, 52, 49, 50, 51, 61, 60, 61, 51, 315, 316, 51, 51, 47, 47, 47, 53, 50, 59, 42, 121, 122, 119, 120, 65, 66, 52, 85, 86, 53, 94, 95, 54, 296, 297, 69, 70, 52, 49, 50, 51, 61, 60, 61, 51, 294, 295, 51, 51, 47, 47, 47, 53, 50, 59, 42, 121, 122, 115, 116, 65, 66, 52, 85, 86, 53, 88, 89, 54, 286, 287, 69, 70, 52, 49, 50, 51, 61, 60, 61, 51, 302, 303, 51, 51, 47, 47, 47, 53, 50, 59, 42, 121, 122, 120, 121, 65, 66, 52, 85, 86, 53, 94, 95, 54, 291, 292, 69, 70, 52, 49, 50, 51, 61, 60, 61, 51, 304, 305, 51, 51, 47, 47, 47, 53, 50, 59, 42, 116, 117, 118, 119, 65, 66, 52, 85, 86, 53, 94, 95, 54, 305, 306, 69, 70, 52, 49, 50, 51, 61, 60, 61, 51, 310, 311, 51, 51, 47, 47, 47, 53, 50, 59, 42, 121, 122, 115, 116, 65, 66, 52, 85, 86, 53, 93, 94, 54, 285, 286, 69, 70, 52, 49, 50, 51, 61, 60, 61, 51, 303, 304, 51, 51, 47, 47, 47, 53, 50, 59, 42, 120, 121, 116, 117, 65, 66, 52, 85, 86, 53, 89, 90, 54, 305, 306, 69, 70, 52, 49, 50, 51, 61, 60, 61, 51, 297, 298, 51, 51, 47, 47, 47, 53, 50, 59, 42, 122, 123, 114, 115, 65, 66, 52, 85, 86, 53, 94, 95, 54, 291, 292, 69, 70, 52, 49, 50, 51, 61, 60, 61, 51, 305, 306, 51, 51, 47, 47, 47, 53, 50, 59, 42, 120, 121, 117, 118, 65, 66, 52, 85, 86, 53, 94, 95, 54, 294, 295, 69, 70, 52, 49, 50, 51, 61, 60, 61, 51, 290, 291, 51, 51, 47, 47, 47, 53, 50, 59, 42, 120, 121, 108, 109, 65, 66, 52, 85, 86, 53, 94, 95, 54, 319, 320, 69, 70, 52, 49, 50, 51, 61, 60, 61, 51, 281, 282, 51, 51, 47, 47, 47, 53, 50, 59, 42, 118, 119, 117, 118, 65, 66, 52, 85, 86, 53, 94, 95, 54, 311, 312, 69, 70, 52, 49, 50, 51, 61, 60, 61, 51, 290, 291, 51, 51, 47, 47, 47, 53, 50, 59, 42, 120, 121, 118, 119, 65, 66, 52, 85, 86, 53, 94, 95, 54, 297, 298, 69, 70, 52, 49, 50, 51, 61, 60, 61, 51, 303, 304, 51, 51, 47, 47, 47, 53, 50, 59, 42, 121, 122, 116, 117, 65, 66, 52, 85, 86, 53, 94, 95, 54, 291, 292, 69, 70, 52, 49, 50, 51, 61, 60, 61, 51, 282, 283, 51, 51, 47, 47, 47, 53, 50, 59, 42, 118, 119, 114, 115, 65, 66, 52, 85, 86, 53, 89, 90, 54, 282, 283, 69, 70, 52, 49, 50, 51, 61, 60, 61, 51, 295, 296, 51, 51, 47, 47, 47, 53, 50, 59, 42, 118, 119, 120, 121, 65, 66, 52, 85, 86, 53, 89, 90, 54, 305, 306, 69, 70, 52, 49, 50, 51, 61, 60, 61, 51, 301, 302, 51, 51, 47, 47, 47, 53, 50, 59, 42, 121, 122, 119, 120, 65, 66, 52, 85, 86, 53, 89, 90, 54, 308, 309, 69, 70, 52, 49, 50, 51, 61, 60, 61, 51, 303, 304, 51, 51, 47, 47, 47, 53, 50, 59, 42, 117, 118, 119, 120, 65, 66, 52, 85, 86, 53, 94, 95, 54, 288, 289, 69, 70, 52, 49, 50, 51, 61, 60, 61, 51, 297, 298, 51, 51, 47, 47, 47, 53, 50, 59, 42, 120, 121, 116, 117, 65, 66, 52, 85, 86, 53, 94, 95, 54, 299, 300, 69, 70, 52, 49, 50, 51, 61, 60, 61, 51, 268, 269, 51, 51, 47, 47, 47, 53, 50, 59, 42, 121, 122, 114, 115, 65, 66, 52, 85, 86, 53, 89, 90, 54, 304, 305, 69, 70, 52, 49, 50, 51, 61, 60, 61, 51, 303, 304, 51, 51, 47, 47, 47, 53, 50, 59, 42, 121, 122, 122, 123, 65, 66, 52, 85, 86, 53, 88, 89, 54, 314, 315, 69, 70, 52, 49, 50, 51, 61, 60, 61, 51, 275, 276, 51, 51, 47, 47, 47, 53, 50, 59, 42, 120, 121, 115, 116, 65, 66, 52, 85, 86, 53, 89, 90, 54, 293, 294, 69, 70, 52, 49, 50, 51, 61, 60, 61, 51, 300, 301, 51, 51, 47, 47, 47, 53, 50, 59, 42, 121, 122, 118, 119, 65, 66, 52, 85, 86, 53, 89, 90, 54, 298, 299, 69, 70, 52, 49, 50, 51, 61, 60, 61, 51, 285, 286, 51, 51, 47, 47, 47, 53, 50, 59, 42, 119, 120, 116, 117, 65, 66, 52, 85, 86, 53, 94, 95, 54, 316, 317, 69, 70, 52, 49, 50, 51, 61, 60, 61, 51, 295, 296, 51, 51, 47, 47, 47, 53, 50, 59, 42, 121, 122, 115, 116, 65, 66, 52, 85, 86, 53, 94, 95, 54, 292, 293, 69, 70, 52, 49, 50, 51, 61, 60, 61, 51, 307, 308, 51, 51, 47, 47, 47, 53, 50, 59, 42, 121, 122, 117, 118, 65, 66, 52, 85, 86, 53, 94, 95, 54, 301, 302, 69, 70, 52, 49, 50, 51, 61, 60, 61, 51, 285, 286, 51, 51, 47, 47, 47, 53, 50, 59, 42, 120, 121, 119, 120, 65, 66, 52, 85, 86, 53, 94, 95, 54, 271, 272, 69, 70, 52, 49, 50, 51, 61, 60, 61, 51, 295, 296, 51, 51, 47, 47, 47, 53, 50, 59, 42, 118, 119, 116, 117, 65, 66, 52, 85, 86, 53, 89, 90, 54, 290, 291, 69, 70, 52, 49, 50, 51, 61, 60, 61, 51, 305, 306, 51, 51, 47, 47, 47, 53, 50, 59, 42, 118, 119, 115, 116, 65, 66, 52, 85, 86, 53, 94, 95, 54, 313, 314, 69, 70, 52, 49, 50, 51, 61, 60, 61, 51, 276, 277, 51, 51, 47, 47, 47, 53, 50, 59, 42, 117, 118, 111, 112, 65, 66, 52, 85, 86, 53, 94, 95, 54, 297, 298, 69, 70, 52, 49, 50, 51, 61, 60, 61, 51, 297, 298, 51, 51, 47, 47, 47, 53, 50, 59, 42, 118, 119, 117, 118, 65, 66, 52, 85, 86, 53, 94, 95, 54, 295, 296, 69, 70, 52, 49, 50, 51, 61, 60, 61, 51, 307, 308, 51, 51, 47, 47, 47, 53, 50, 59, 42, 121, 122, 120, 121, 65, 66, 52, 85, 86, 53, 94, 95, 54, 299, 300, 69, 70, 52, 49, 50, 51, 61, 60, 61, 51, 307, 308, 51, 51, 47, 47, 47, 53, 50, 59, 42, 121, 122, 115, 116, 65, 66, 52, 85, 86, 53, 89, 90, 54, 311, 312, 69, 70, 52, 49, 50, 51, 61, 60, 61, 51, 277, 278, 51, 51, 47, 47, 47, 53, 50, 59, 42, 120, 121, 115, 116, 65, 66, 52, 85, 86, 53, 88, 89, 54, 297, 298, 69, 70, 52, 49, 50, 51, 61, 60, 61, 51, 311, 312, 51, 51, 47, 47, 47, 53, 50, 59, 42, 120, 121, 120, 121, 65, 66, 52, 85, 86, 53, 93, 94, 54, 299, 300, 69, 70, 52, 49, 50, 51, 61, 60, 61, 51, 291, 292, 51, 51, 47, 47, 47, 53, 50, 59, 42, 121, 122, 114, 115, 65, 66, 52, 85, 86, 53, 89, 90, 54, 283, 284, 69, 70, 52, 49, 50, 51, 61, 60, 61, 51, 291, 292, 51, 51, 47, 47, 47, 53, 50, 59, 42, 116, 117, 119, 120, 65, 66, 52, 85, 86, 53, 89, 90, 54, 290, 291, 69, 70, 52, 49, 50, 51, 61, 60, 61, 51, 286, 287, 51, 51, 47, 47, 47, 53, 50, 59, 42, 117, 118, 115, 116, 65, 66, 52, 85, 86, 53, 89, 90, 54, 305, 306, 69, 70, 52, 49, 50, 51, 61, 60, 61, 51, 277, 278, 51, 51, 47, 47, 47, 53, 50, 59, 42, 121, 122, 118, 119, 65, 66, 52, 85, 86, 53, 94, 95, 54, 305, 306, 69, 70, 52, 49, 50, 51, 61, 60, 61, 51, 303, 304, 51, 51, 47, 47, 47, 53, 50, 59, 42, 118, 119, 117, 118, 65, 66, 52, 85, 86, 53, 91, 92, 54, 292, 293, 69, 70, 52, 49, 50, 51, 61, 60, 61, 51, 292, 293, 51, 51, 47, 47, 47, 53, 50, 59, 42, 118, 119, 111, 112, 65, 66, 52, 85, 86, 53, 89, 90, 54, 302, 303, 69, 70, 52, 49, 50, 51, 61, 60, 61, 51, 303, 304, 51, 51, 47, 47, 47, 53, 50, 59, 42, 121, 122, 118, 119, 65, 66, 52, 85, 86, 53, 94, 95, 54, 300, 301, 69, 70, 52, 49, 50, 51, 61, 60, 61, 51, 306, 307, 51, 51, 47, 47, 47, 53, 50, 59, 42, 121, 122, 118, 119, 65, 66, 52, 85, 86, 53, 89, 90, 54, 294, 295, 69, 70, 52, 49, 50, 51, 61, 60, 61, 51, 298, 299, 51, 51, 47, 47, 47, 53, 50, 59, 42, 120, 121, 116, 117, 65, 66, 52, 85, 86, 53, 89, 90, 54, 289, 290, 69, 70, 52, 49, 50, 51, 61, 60, 61, 51, 307, 308, 51, 51, 47, 47, 47, 53, 50, 59, 42, 117, 118, 115, 116, 65, 66, 52, 85, 86, 53, 94, 95, 54, 281, 282, 69, 70, 52, 49, 50, 51, 61, 60, 61, 51, 308, 309, 51, 51, 47, 47, 47, 53, 50, 59, 42, 120, 121, 112, 113, 65, 66, 52, 85, 86, 53, 89, 90, 54, 295, 296, 69, 70, 52, 49, 50, 51, 61, 60, 61, 51, 305, 306, 51, 51, 47, 47, 47, 53, 50, 59, 42, 118, 119, 112, 113, 65, 66, 52, 85, 86, 53, 89, 90, 54, 289, 290, 69, 70, 52, 49, 50, 51, 61, 60, 61, 51, 298, 299, 51, 51, 47, 47, 47, 53, 50, 59, 42, 118, 119, 119, 120, 65, 66, 52, 85, 86, 53, 93, 94, 54, 287, 288, 69, 70, 52, 49, 50, 51, 61, 60, 61, 51, 287, 288, 51, 51, 47, 47, 47, 53, 50, 59, 42, 117, 118, 117, 118, 65, 66, 52, 85, 86, 53, 89, 90, 54, 300, 301, 69, 70, 52, 49, 50, 51, 61, 60, 61, 51, 288, 289, 51, 51, 47, 47, 47, 53, 50, 59, 42, 120, 121, 114, 115, 65, 66, 52, 85, 86, 53, 89, 90, 54, 284, 285, 69, 70, 52, 49, 50, 51, 61, 60, 61, 51, 292, 293, 51, 51, 47, 47, 47, 53, 50, 59, 42, 117, 118, 118, 119, 65, 66, 52, 85, 86, 53, 89, 90, 54, 289, 290, 69, 70, 52, 49, 50, 51, 61, 60, 61, 51, 305, 306, 51, 51, 47, 47, 47, 53, 50, 59, 42, 118, 119, 110, 111, 65, 66, 52, 85, 86, 53, 94, 95, 54, 289, 290, 69, 70, 52, 49, 50, 51, 61, 60, 61, 51, 320, 321, 51, 51, 47, 47, 47, 53, 50, 59, 42, 118, 119, 117, 118, 65, 66, 52, 85, 86, 53, 89, 90, 54, 292, 293, 69, 70, 52, 49, 50, 51, 61, 60, 61, 51, 292, 293, 51, 51, 47, 47, 47, 53, 50, 59, 42, 120, 121, 115, 116, 65, 66, 52, 85, 86, 53, 94, 95, 54, 273, 274, 69, 70, 52, 49, 50, 51, 61, 60, 61, 51, 296, 297, 51, 51, 47, 47, 47, 53, 50, 59, 42, 117, 118, 113, 114, 65, 66, 52, 85, 86, 53, 89, 90, 54, 310, 311, 69, 70, 52, 49, 50, 51, 61, 60, 61, 51, 301, 302, 51, 51, 47, 47, 47, 53, 50, 59, 42, 117, 118, 116, 117, 65, 66, 52, 85, 86, 53, 94, 95, 54, 293, 294, 69, 70, 52, 49, 50, 51, 61, 60, 61, 51, 298, 299, 51, 51, 47, 47, 47, 53, 50, 59, 42, 117, 118, 117, 118, 65, 66, 52, 85, 86, 53, 94, 95, 54, 311, 312, 69, 70, 52, 49, 50, 51, 61, 60, 61, 51, 332, 333, 51, 51, 47, 47, 47, 53, 50, 59, 42, 118, 119, 119, 120, 65, 66, 52, 85, 86, 53, 94, 95, 54, 289, 290, 69, 70, 52, 49, 50, 51, 61, 60, 61, 51, 299, 300, 51, 51, 47, 47, 47, 53, 50, 59, 42, 121, 122, 114, 115, 65, 66, 52, 85, 86, 53, 94, 95, 54, 298, 299, 69, 70, 52, 49, 50, 51, 61, 60, 61, 51, 291, 292, 51, 51, 47, 47, 47, 53, 50, 59, 42, 121, 122, 119, 120, 65, 66, 52, 85, 86, 53, 94, 95, 54, 316, 317, 69, 70, 52, 49, 50, 51, 61, 60, 61, 51, 327, 328, 51, 51, 47, 47, 47, 53, 50, 59, 42, 121, 122, 118, 119, 65, 66, 52, 85, 86, 53, 94, 95, 54, 309, 310, 69, 70, 52, 49, 50, 51, 61, 60, 61, 51, 313, 314, 51, 51, 47, 47, 47, 53, 50, 59, 42, 120, 121, 111, 112, 65, 66, 52, 85, 86, 53, 89, 90, 54, 288, 289, 69, 70, 52, 49, 50, 51, 61, 60, 61, 51, 284, 285, 51, 51, 47, 47, 47, 53, 50, 59, 42, 120, 121, 118, 119, 65, 66, 52, 85, 86, 53, 94, 95, 54, 290, 291, 69, 70, 52, 49, 50, 51, 61, 60, 61, 51, 319, 320, 51, 51, 47, 47, 47, 53, 50, 59, 42, 120, 121, 120, 121, 65, 66, 52, 85, 86, 53, 89, 90, 54, 302, 303, 69, 70, 52, 49, 50, 51, 61, 60, 61, 51, 295, 296, 51, 51, 47, 47, 47, 53, 50, 59, 42, 120, 121, 118, 119, 65, 66, 52, 85, 86, 53, 89, 90, 54, 317, 318, 69, 70, 52, 49, 50, 51, 61, 60, 61, 51, 272, 273, 51, 51, 47, 47, 47, 53, 50, 59, 42, 121, 122, 118, 119, 65, 66, 52, 85, 86, 53, 89, 90, 54, 284, 285, 69, 70, 52, 49, 50, 51, 61, 60, 61, 51, 295, 296, 51, 51, 47, 47, 47, 53, 50, 59, 42, 122, 123, 123, 124, 65, 66, 52, 85, 86, 53, 94, 95, 54, 327, 328, 69, 70, 52, 49, 50, 51, 61, 60, 61, 51, 298, 299, 51, 51, 47, 47, 47, 53, 50, 59, 42, 120, 121, 118, 119, 65, 66, 52, 85, 86, 53, 93, 94, 54, 293, 294, 69, 70, 52, 49, 50, 51, 61, 60, 61, 51, 288, 289, 51, 51, 47, 47, 47, 53, 50, 59, 42, 116, 117, 113, 114, 65, 66, 52, 85, 86, 53, 89, 90, 54, 303, 304, 69, 70, 52, 49, 50, 51, 61, 60, 61, 51, 286, 287, 51, 51, 47, 47, 47, 53, 50, 59, 42, 122, 123, 116, 117, 65, 66, 52, 85, 86, 53, 93, 94, 54, 301, 302, 69, 70, 52, 49, 50, 51, 61, 60, 61, 51, 313, 314, 51, 51, 47, 47, 47, 53, 50, 59, 42, 120, 121, 116, 117, 65, 66, 52, 85, 86, 53, 94, 95, 54, 288, 289, 69, 70, 52, 49, 50, 51, 61, 60, 61, 51, 290, 291, 51, 51, 47, 47, 47, 53, 50, 59, 42, 122, 123, 116, 117, 65, 66, 52, 85, 86, 53, 94, 95, 54, 293, 294, 69, 70, 52, 49, 50, 51, 61, 60, 61, 51, 286, 287, 51, 51, 47, 47, 47, 53, 50, 59, 42, 120, 121, 115, 116, 65, 66, 52, 85, 86, 53, 89, 90, 54, 282, 283, 69, 70, 52, 49, 50, 51, 61, 60, 61, 51, 302, 303, 51, 51, 47, 47, 47, 53, 50, 59, 42, 122, 123, 113, 114, 65, 66, 52, 85, 86, 53, 89, 90, 54, 300, 301, 69, 70, 52, 49, 50, 51, 61, 60, 61, 51, 299, 300, 51, 51, 47, 47, 47, 53, 50, 59, 42, 117, 118, 118, 119, 65, 66, 52, 85, 86, 53, 92, 93, 54, 286, 287, 69, 70, 52, 49, 50, 51, 61, 60, 61, 51, 293, 294, 51, 51, 47, 47, 47, 53, 50, 59, 42, 117, 118, 116, 117, 65, 66, 52, 85, 86, 53, 89, 90, 54, 291, 292, 69, 70, 52, 49, 50, 51, 61, 60, 61, 51, 295, 296, 51, 51, 47, 47, 47, 53, 50, 59, 42, 118, 119, 113, 114, 65, 66, 52, 85, 86, 53, 94, 95, 54, 288, 289, 69, 70, 52, 49, 50, 51, 61, 60, 61, 51, 314, 315, 51, 51, 47, 47, 47, 53, 50, 59, 42, 120, 121, 114, 115, 65, 66, 52, 85, 86, 53, 94, 95, 54, 319, 320, 69, 70, 52, 49, 50, 51, 61, 60, 61, 51, 308, 309, 51, 51, 47, 47, 47, 53, 50, 59, 42, 121, 122, 119, 120, 65, 66, 52, 85, 86, 53, 89, 90, 54, 293, 294, 69, 70, 52, 49, 50, 51, 61, 60, 61, 51, 289, 290, 51, 51, 47, 47, 47, 53, 50, 59, 42, 117, 118, 115, 116, 65, 66, 52, 85, 86, 53, 89, 90, 54, 284, 285, 69, 70, 52, 49, 50, 51, 61, 60, 61, 51, 329, 330, 51, 51, 47, 47, 47, 53, 50, 59, 42, 117, 118, 117, 118, 65, 66, 52, 85, 86, 53, 89, 90, 54, 311, 312, 69, 70, 52, 49, 50, 51, 61, 60, 61, 51, 305, 306, 51, 51, 47, 47, 47, 53, 50, 59, 42, 120, 121, 113, 114, 65, 66, 52, 85, 86, 53, 89, 90, 54, 290, 291, 69, 70, 52, 49, 50, 51, 61, 60, 61, 51, 306, 307, 51, 51, 47, 47, 47, 53, 50, 59, 42, 118, 119, 121, 122, 65, 66, 52, 85, 86, 53, 89, 90, 54, 287, 288, 69, 70, 52, 49, 50, 51, 61, 60, 61, 51, 275, 276, 51, 51, 47, 47, 47, 53, 50, 59, 42, 121, 122, 116, 117, 65, 66, 52, 85, 86, 53, 94, 95, 54, 279, 280, 69, 70, 52, 49, 50, 51, 61, 60, 61, 51, 303, 304, 51, 51, 47, 47, 47, 53, 50, 59, 42, 117, 118, 120, 121, 65, 66, 52, 85, 86, 53, 89, 90, 54, 285, 286, 69, 70, 52, 49, 50, 51, 61, 60, 61, 51, 311, 312, 51, 51, 47, 47, 47, 53, 50, 59, 42, 120, 121, 117, 118, 65, 66, 52, 85, 86, 53, 94, 95, 54, 291, 292, 69, 70, 52, 49, 50, 51, 61, 60, 61, 51, 296, 297, 51, 51, 47, 47, 47, 53, 50, 59, 42, 119, 120, 113, 114, 65, 66, 52, 85, 86, 53, 94, 95, 54, 300, 301, 69, 70, 52, 49, 50, 51, 61, 60, 61, 51, 301, 302, 51, 51, 47, 47, 47, 53, 50, 59, 42, 121, 122, 120, 121, 65, 66, 52, 85, 86, 53, 89, 90, 54, 321, 322, 69, 70, 52, 49, 50, 51, 61, 60, 61, 51, 304, 305, 51, 51, 47, 47, 47, 53, 50, 59, 42, 122, 123, 117, 118, 65, 66, 52, 85, 86, 53, 89, 90, 54, 302, 303, 69, 70, 52, 49, 50, 51, 61, 60, 61, 51, 285, 286, 51, 51, 47, 47, 47, 53, 50, 59, 42, 118, 119, 119, 120, 65, 66, 52, 85, 86, 53, 89, 90, 54, 310, 311, 69, 70, 52, 49, 50, 51, 61, 60, 61, 51, 298, 299, 51, 51, 47, 47, 47, 53, 50, 59, 42, 118, 119, 112, 113, 65, 66, 52, 85, 86, 53, 89, 90, 54, 290, 291, 69, 70, 52, 49, 50, 51, 61, 60, 61, 51, 289, 290, 51, 51, 47, 47, 47, 53, 50, 59, 42, 117, 118, 115, 116, 65, 66, 52, 85, 86, 53, 88, 89, 54, 296, 297, 69, 70, 52, 49, 50, 51, 61, 60, 61, 51, 301, 302, 51, 51, 47, 47, 47, 53, 50, 59, 42, 121, 122, 117, 118, 65, 66, 52, 85, 86, 53, 89, 90, 54, 310, 311, 69, 70, 52, 49, 50, 51, 61, 60, 61, 51, 284, 285, 51, 51, 47, 47, 47, 53, 50, 59, 42, 118, 119, 115, 116, 65, 66, 52, 85, 86, 53, 94, 95, 54, 330, 331, 69, 70, 52, 49, 50, 51, 61, 60, 61, 51, 290, 291, 51, 51, 47, 47, 47, 53, 50, 59, 42, 117, 118, 118, 119, 65, 66, 52, 85, 86, 53, 89, 90, 54, 277, 278, 69, 70, 52, 49, 50, 51, 61, 60, 61, 51, 293, 294, 51, 51, 47, 47, 47, 53, 50, 59, 42, 121, 122, 119, 120, 65, 66, 52, 85, 86, 53, 94, 95, 54, 285, 286, 69, 70, 52, 49, 50, 51, 61, 60, 61, 51, 295, 296, 51, 51, 47, 47, 47, 53, 50, 59, 42, 121, 122, 117, 118, 65, 66, 52, 85, 86, 53, 94, 95, 54, 302, 303, 69, 70, 52, 49, 50, 51, 61, 60, 61, 51, 305, 306, 51, 51, 47, 47, 47, 53, 50, 59, 42, 121, 122, 118, 119, 65, 66, 52, 85, 86, 53, 94, 95, 54, 302, 303, 69, 70, 52, 49, 50, 51, 61, 60, 61, 51, 301, 302, 51, 51, 47, 47, 47, 53, 50, 59, 42, 118, 119, 112, 113, 65, 66, 52, 85, 86, 53, 94, 95, 54, 307, 308, 69, 70, 52, 49, 50, 51, 61, 60, 61, 51, 307, 308, 51, 51, 47, 47, 47, 53, 50, 59, 42, 117, 118, 110, 111, 65, 66, 52, 85, 86, 53, 89, 90, 54, 293, 294, 69, 70, 52, 49, 50, 51, 61, 60, 61, 51, 292, 293, 51, 51, 47, 47, 47, 53, 50, 59, 42, 118, 119, 119, 120, 65, 66, 52, 85, 86, 53, 89, 90, 54, 314, 315, 69, 70, 52, 49, 50, 51, 61, 60, 61, 51, 270, 271, 51, 51, 47, 47, 47, 53, 50, 59, 42, 121, 122, 113, 114, 65, 66, 52, 85, 86, 53, 89, 90, 54, 302, 303, 69, 70, 52, 49, 50, 51, 61, 60, 61, 51, 279, 280, 51, 51, 47, 47, 47, 53, 50, 59, 42, 117, 118, 113, 114, 65, 66, 52, 85, 86, 53, 94, 95, 54, 292, 293, 69, 70, 52, 49, 50, 51, 61, 60, 61, 51, 299, 300, 51, 51, 47, 47, 47, 53, 50, 59, 42, 117, 118, 112, 113, 65, 66, 52, 85, 86, 53, 94, 95, 54, 301, 302, 69, 70, 52, 49, 50, 51, 61, 60, 61, 51, 320, 321, 51, 51, 47, 47, 47, 53, 50, 59, 42, 121, 122, 117, 118, 65, 66, 52, 85, 86, 53, 94, 95, 54, 294, 295, 69, 70, 52, 49, 50, 51, 61, 60, 61, 51, 284, 285, 51, 51, 47, 47, 47, 53, 50, 59, 42, 121, 122, 116, 117, 65, 66, 52, 85, 86, 53, 94, 95, 54, 308, 309, 69, 70, 52, 49, 50, 51, 61, 60, 61, 51, 327, 328, 51, 51, 47, 47, 47, 53, 50, 59, 42, 118, 119, 113, 114, 65, 66, 52, 85, 86, 53, 89, 90, 54, 300, 301, 69, 70, 52, 49, 50, 51, 61, 60, 61, 51, 302, 303, 51, 51, 47, 47, 47, 53, 50, 59, 42, 120, 121, 115, 116, 65, 66, 52, 85, 86, 53, 94, 95, 54, 303, 304, 69, 70, 52, 49, 50, 51, 61, 60, 61, 51, 320, 321, 51, 51, 47, 47, 47, 53, 50, 59, 42, 121, 122, 119, 120, 65, 66, 52, 85, 86, 53, 94, 95, 54, 283, 284, 69, 70, 52, 49, 50, 51, 61, 60, 61, 51, 314, 315, 51, 51, 47, 47, 47, 53, 50, 59, 42, 120, 121, 114, 115, 65, 66, 52, 85, 86, 53, 94, 95, 54, 307, 308, 69, 70, 52, 49, 50, 51, 61, 60, 61, 51, 315, 316, 51, 51, 47, 47, 47, 53, 50, 59, 42, 117, 118, 120, 121, 65, 66, 52, 85, 86, 53, 89, 90, 54, 303, 304, 69, 70, 52, 49, 50, 51, 61, 60, 61, 51, 315, 316, 51, 51, 47, 47, 47, 53, 50, 59, 42, 121, 122, 117, 118, 65, 66, 52, 85, 86, 53, 94, 95, 54, 308, 309, 69, 70, 52, 49, 50, 51, 61, 60, 61, 51, 289, 290, 51, 51, 47, 47, 47, 53, 50, 59, 42, 118, 119, 114, 115, 65, 66, 52, 85, 86, 53, 94, 95, 54, 299, 300, 69, 70, 52, 49, 50, 51, 61, 60, 61, 51, 303, 304, 51, 51, 47, 47, 47, 53, 50, 59, 42, 120, 121, 117, 118, 65, 66, 52, 85, 86, 53, 94, 95, 54, 314, 315, 69, 70, 52, 49, 50, 51, 61, 60, 61, 51, 287, 288, 51, 51, 47, 47, 47, 53, 50, 59, 42, 122, 123, 117, 118, 65, 66, 52, 85, 86, 53, 89, 90, 54, 289, 290, 69, 70, 52, 49, 50, 51, 61, 60, 61, 51, 298, 299, 51, 51, 47, 47, 47, 53, 50, 59, 42, 121, 122, 117, 118, 65, 66, 52, 85, 86, 53, 89, 90, 54, 294, 295, 69, 70, 52, 49, 50, 51, 61, 60, 61, 51, 311, 312, 51, 51, 47, 47, 47, 53, 50, 59, 42, 117, 118, 111, 112, 65, 66, 52, 85, 86, 53, 89, 90, 54, 311, 312, 69, 70, 52, 49, 50, 51, 61, 60, 61, 51, 284, 285, 51, 51, 47, 47, 47, 53, 50, 59, 42, 120, 121, 116, 117, 65, 66, 52, 85, 86, 53, 89, 90, 54, 287, 288, 69, 70, 52, 49, 50, 51, 61, 60, 61, 51, 305, 306, 51, 51, 47, 47, 47, 53, 50, 59, 42, 117, 118, 114, 115, 65, 66, 52, 85, 86, 53, 93, 94, 54, 296, 297, 69, 70, 52, 49, 50, 51, 61, 60, 61, 51, 294, 295, 51, 51, 47, 47, 47, 53, 50, 59, 42, 117, 118, 118, 119, 65, 66, 52, 85, 86, 53, 94, 95, 54, 300, 301, 69, 70, 52, 49, 50, 51, 61, 60, 61, 51, 283, 284, 51, 51, 47, 47, 47, 53, 50, 59, 42, 121, 122, 111, 112, 65, 66, 52, 85, 86, 53, 89, 90, 54, 296, 297, 69, 70, 52, 49, 50, 51, 61, 60, 61, 51, 314, 315, 51, 51, 47, 47, 47, 53, 50, 59, 42, 120, 121, 118, 119, 65, 66, 52, 85, 86, 53, 94, 95, 54, 311, 312, 69, 70, 52, 49, 50, 51, 61, 60, 61, 51, 290, 291, 51, 51, 47, 47, 47, 53, 50, 59, 42, 122, 123, 122, 123, 65, 66, 52, 85, 86, 53, 89, 90, 54, 321, 322, 69, 70, 52, 49, 50, 51, 61, 60, 61, 51, 317, 318, 51, 51, 47, 47, 47, 53, 50, 59, 42, 117, 118, 115, 116, 65, 66, 52, 85, 86, 53, 94, 95, 54, 280, 281, 69, 70, 52, 49, 50, 51, 61, 60, 61, 51, 300, 301, 51, 51, 47, 47, 47, 53, 50, 59, 42, 121, 122, 115, 116, 65, 66, 52, 85, 86, 53, 94, 95, 54, 297, 298, 69, 70, 52, 49, 50, 51, 61, 60, 61, 51, 316, 317, 51, 51, 47, 47, 47, 53, 50, 59, 42, 119, 120, 112, 113, 65, 66, 52, 85, 86, 53, 94, 95, 54, 320, 321, 69, 70, 52, 49, 50, 51, 61, 60, 61, 51, 298, 299, 51, 51, 47, 47, 47, 53, 50, 59, 42, 117, 118, 115, 116, 65, 66, 52, 85, 86, 53, 89, 90, 54, 276, 277, 69, 70, 52, 49, 50, 51, 61, 60, 61, 51, 293, 294, 51, 51, 47, 47, 47, 53, 50, 59, 42, 117, 118, 117, 118, 65, 66, 52, 85, 86, 53, 94, 95, 54, 283, 284, 69, 70, 52, 49, 50, 51, 61, 60, 61, 51, 322, 323, 51, 51, 47, 47, 47, 53, 50, 59, 42, 121, 122, 119, 120, 65, 66, 52, 85, 86, 53, 93, 94, 54, 286, 287, 69, 70, 52, 49, 50, 51, 61, 60, 61, 51, 298, 299, 51, 51, 47, 47, 47, 53, 50, 59, 42, 120, 121, 120, 121, 65, 66, 52, 85, 86, 53, 88, 89, 54, 307, 308, 69, 70, 52, 49, 50, 51, 61, 60, 61, 51, 299, 300, 51, 51, 47, 47, 47, 53, 50, 59, 42, 121, 122, 120, 121, 65, 66, 52, 85, 86, 53, 94, 95, 54, 299, 300, 69, 70, 52, 49, 50, 51, 61, 60, 61, 51, 319, 320, 51, 51, 47, 47, 47, 53, 50, 59, 42, 117, 118, 115, 116, 65, 66, 52, 85, 86, 53, 94, 95, 54, 299, 300, 69, 70, 52, 49, 50, 51, 61, 60, 61, 51, 300, 301, 51, 51, 47, 47, 47, 53, 50, 59, 42, 119, 120, 116, 117, 65, 66, 52, 85, 86, 53, 94, 95, 54, 298, 299, 69, 70, 52, 49, 50, 51, 61, 60, 61, 51, 286, 287, 51, 51, 47, 47, 47, 53, 50, 59, 42, 121, 122, 121, 122, 65, 66, 52, 85, 86, 53, 89, 90, 54, 308, 309, 69, 70, 52, 49, 50, 51, 61, 60, 61, 51, 309, 310, 51, 51, 47, 47, 47, 53, 50, 59, 42, 122, 123, 115, 116, 65, 66, 52, 85, 86, 53, 89, 90, 54, 306, 307, 69, 70, 52, 49, 50, 51, 61, 60, 61, 51, 298, 299, 51, 51, 47, 47, 47, 53, 50, 59, 42, 121, 122, 114, 115, 65, 66, 52, 85, 86, 53, 94, 95, 54, 287, 288, 69, 70, 52, 49, 50, 51, 61, 60, 61, 51, 290, 291, 51, 51, 47, 47, 47, 53, 50, 59, 42, 121, 122, 112, 113, 65, 66, 52, 85, 86, 53, 94, 95, 54, 279, 280, 69, 70, 52, 49, 50, 51, 61, 60, 61, 51, 285, 286, 51, 51, 47, 47, 47, 53, 50, 59, 42, 121, 122, 113, 114, 65, 66, 52, 85, 86, 53, 89, 90, 54, 308, 309, 69, 70, 52, 49, 50, 51, 61, 60, 61, 51, 291, 292, 51, 51, 47, 47, 47, 53, 50, 59, 42, 117, 118, 125, 126, 65, 66, 52, 85, 86, 53, 94, 95, 54, 280, 281, 69, 70, 52, 49, 50, 51, 61, 60, 61, 51, 295, 296, 51, 51, 47, 47, 47, 53, 50, 59, 42, 121, 122, 118, 119, 65, 66, 52, 85, 86, 53, 89, 90, 54, 311, 312, 69, 70, 52, 49, 50, 51, 61, 60, 61, 51, 319, 320, 51, 51, 47, 47, 47, 53, 50, 59, 42, 121, 122, 120, 121, 65, 66, 52, 85, 86, 53, 89, 90, 54, 286, 287, 69, 70, 52, 49, 50, 51, 61, 60, 61, 51, 297, 298, 51, 51, 47, 47, 47, 53, 50, 59, 42, 120, 121, 119, 120, 65, 66, 52, 85, 86, 53, 89, 90, 54, 298, 299, 69, 70, 52, 49, 50, 51, 61, 60, 61, 51, 308, 309, 51, 51, 47, 47, 47, 53, 50, 59, 42, 120, 121, 119, 120, 65, 66, 52, 85, 86, 53, 89, 90, 54, 285, 286, 69, 70, 52, 49, 50, 51, 61, 60, 61, 51, 301, 302, 51, 51, 47, 47, 47, 53, 50, 59, 42, 120, 121, 116, 117, 65, 66, 52, 85, 86, 53, 89, 90, 54, 296, 297, 69, 70, 52, 49, 50, 51, 61, 60, 61, 51, 288, 289, 51, 51, 47, 47, 47, 53, 50, 59, 42, 121, 122, 115, 116, 65, 66, 52, 85, 86, 53, 94, 95, 54, 306, 307, 69, 70, 52, 49, 50, 51, 61, 60, 61, 51, 310, 311, 51, 51, 47, 47, 47, 53, 50, 59, 42, 116, 117, 115, 116, 65, 66, 52, 85, 86, 53, 89, 90, 54, 316, 317, 69, 70, 52, 49, 50, 51, 61, 60, 61, 51, 298, 299, 51, 51, 47, 47, 47, 53, 50, 59, 42, 120, 121, 114, 115, 65, 66, 52, 85, 86, 53, 94, 95, 54, 296, 297, 69, 70, 52, 49, 50, 51, 61, 60, 61, 51, 311, 312, 51, 51, 47, 47, 47, 53, 50, 59, 42, 117, 118, 121, 122, 65, 66, 52, 85, 86, 53, 89, 90, 54, 314, 315, 69, 70, 52, 49, 50, 51, 61, 60, 61, 51, 304, 305, 51, 51, 47, 47, 47, 53, 50, 59, 42, 117, 118, 118, 119, 65, 66, 52, 85, 86, 53, 89, 90, 54, 299, 300, 69, 70, 52, 49, 50, 51, 61, 60, 61, 51, 303, 304, 51, 51, 47, 47, 47, 53, 50, 59, 42, 120, 121, 116, 117, 65, 66, 52, 85, 86, 53, 89, 90, 54, 292, 293, 69, 70, 52, 49, 50, 51, 61, 60, 61, 51, 300, 301, 51, 51, 47, 47, 47, 53, 50, 59, 42, 118, 119, 119, 120, 65, 66, 52, 85, 86, 53, 89, 90, 54, 286, 287, 69, 70, 52, 49, 50, 51, 61, 60, 61, 51, 295, 296, 51, 51, 47, 47, 47, 53, 50, 59, 42, 117, 118, 117, 118, 65, 66, 52, 85, 86, 53, 94, 95, 54, 312, 313, 69, 70, 52, 49, 50, 51, 61, 60, 61, 51, 322, 323, 51, 51, 47, 47, 47, 53, 50, 59, 42, 120, 121, 112, 113, 65, 66, 52, 85, 86, 53, 94, 95, 54, 285, 286, 69, 70, 52, 49, 50, 51, 61, 60, 61, 51, 270, 271, 51, 51, 47, 47, 47, 53, 50, 59, 42, 117, 118, 114, 115, 65, 66, 52, 85, 86, 53, 94, 95, 54, 307, 308, 69, 70, 52, 49, 50, 51, 61, 60, 61, 51, 319, 320, 51, 51, 47, 47, 47, 53, 50, 59, 42, 120, 121, 113, 114, 65, 66, 52, 85, 86, 53, 94, 95, 54, 282, 283, 69, 70, 52, 49, 50, 51, 61, 60, 61, 51, 323, 324, 51, 51, 47, 47, 47, 53, 50, 59, 42, 120, 121, 115, 116, 65, 66, 52, 85, 86, 53, 88, 89, 54, 311, 312, 69, 70, 52, 49, 50, 51, 61, 60, 61, 51, 287, 288, 51, 51, 47, 47, 47, 53, 50, 59, 42, 120, 121, 116, 117, 65, 66, 52, 85, 86, 53, 94, 95, 54, 280, 281, 69, 70, 52, 49, 50, 51, 61, 60, 61, 51, 281, 282, 51, 51, 47, 47, 47, 53, 50, 59, 42, 122, 123, 116, 117, 65, 66, 52, 85, 86, 53, 94, 95, 54, 293, 294, 69, 70, 52, 49, 50, 51, 61, 60, 61, 51, 310, 311, 51, 51, 47, 47, 47, 53, 50, 59, 42, 121, 122, 121, 122, 65, 66, 52, 85, 86, 53, 89, 90, 54, 280, 281, 69, 70, 52, 49, 50, 51, 61, 60, 61, 51, 286, 287, 51, 51, 47, 47, 47, 53, 50, 59, 42, 121, 122, 117, 118, 65, 66, 52, 85, 86, 53, 93, 94, 54, 303, 304, 69, 70, 52, 49, 50, 51, 61, 60, 61, 51, 299, 300, 51, 51, 47, 47, 47, 53, 50, 59, 42, 117, 118, 111, 112, 65, 66, 52, 85, 86, 53, 94, 95, 54, 306, 307, 69, 70, 52, 49, 50, 51, 61, 60, 61, 51, 303, 304, 51, 51, 47, 47, 47, 53, 50, 59, 42, 120, 121, 118, 119, 65, 66, 52, 85, 86, 53, 89, 90, 54, 304, 305, 69, 70, 52, 49, 50, 51, 61, 60, 61, 51, 295, 296, 51, 51, 47, 47, 47, 53, 50, 59, 42, 117, 118, 120, 121, 65, 66, 52, 85, 86, 53, 89, 90, 54, 293, 294, 69, 70, 52, 49, 50, 51, 61, 60, 61, 51, 303, 304, 51, 51, 47, 47, 47, 53, 50, 59, 42, 121, 122, 117, 118, 65, 66, 52, 85, 86, 53, 93, 94, 54, 297, 298, 69, 70, 52, 49, 50, 51, 61, 60, 61, 51, 278, 279, 51, 51, 47, 47, 47, 53, 50, 59, 42, 118, 119, 114, 115, 65, 66, 52, 85, 86, 53, 94, 95, 54, 294, 295, 69, 70, 52, 49, 50, 51, 61, 60, 61, 51, 292, 293, 51, 51, 47, 47, 47, 53, 50, 59, 42, 121, 122, 121, 122, 65, 66, 52, 85, 86, 53, 89, 90, 54, 304, 305, 69, 70, 52, 49, 50, 51, 61, 60, 61, 51, 290, 291, 51, 51, 47, 47, 47, 53, 50, 59, 42, 120, 121, 122, 123, 65, 66, 52, 85, 86, 53, 89, 90, 54, 297, 298, 69, 70, 52, 49, 50, 51, 61, 60, 61, 51, 290, 291, 51, 51, 47, 47, 47, 53, 50, 59, 42, 117, 118, 117, 118, 65, 66, 52, 85, 86, 53, 94, 95, 54, 306, 307, 69, 70, 52, 49, 50, 51, 61, 60, 61, 51, 279, 280, 51, 51, 47, 47, 47, 53, 50, 59, 42, 121, 122, 116, 117, 65, 66, 52, 85, 86, 53, 94, 95, 54, 288, 289, 69, 70, 52, 49, 50, 51, 61, 60, 61, 51, 294, 295, 51, 51, 47, 47, 47, 53, 50, 59, 42, 121, 122, 114, 115, 65, 66, 52, 85, 86, 53, 94, 95, 54, 313, 314, 69, 70, 52, 49, 50, 51, 61, 60, 61, 51, 293, 294, 51, 51, 47, 47, 47, 53, 50, 59, 42, 120, 121, 114, 115, 65, 66, 52, 85, 86, 53, 94, 95, 54, 289, 290, 69, 70, 52, 49, 50, 51, 61, 60, 61, 51, 288, 289, 51, 51, 47, 47, 47, 53, 50, 59, 42, 117, 118, 118, 119, 65, 66, 52, 85, 86, 53, 94, 95, 54, 283, 284, 69, 70, 52, 49, 50, 51, 61, 60, 61, 51, 312, 313, 51, 51, 47, 47, 47, 53, 50, 59, 42, 121, 122, 115, 116, 65, 66, 52, 85, 86, 53, 89, 90, 54, 299, 300, 69, 70, 52, 49, 50, 51, 61, 60, 61, 51, 282, 283, 51, 51, 47, 47, 47, 53, 50, 59, 42, 121, 122, 116, 117, 65, 66, 52, 85, 86, 53, 94, 95, 54, 288, 289, 69, 70, 52, 49, 50, 51, 61, 60, 61, 51, 290, 291, 51, 51, 47, 47, 47, 53, 50, 59, 42, 120, 121, 117, 118, 65, 66, 52, 85, 86, 53, 94, 95, 54, 294, 295, 69, 70, 52, 49, 50, 51, 61, 60, 61, 51, 303, 304, 51, 51, 47, 47, 47, 53, 50, 59, 42, 121, 122, 121, 122, 65, 66, 52, 85, 86, 53, 94, 95, 54, 316, 317, 69, 70, 52, 49, 50, 51, 61, 60, 61, 51, 289, 290, 51, 51, 47, 47, 47, 53, 50, 59, 42, 121, 122, 113, 114, 65, 66, 52, 85, 86, 53, 89, 90, 54, 296, 297, 69, 70, 52, 49, 50, 51, 61, 60, 61, 51, 285, 286, 51, 51, 47, 47, 47, 53, 50, 59, 42, 121, 122, 116, 117, 65, 66, 52, 85, 86, 53, 94, 95, 54, 306, 307, 69, 70, 52, 49, 50, 51, 61, 60, 61, 51, 302, 303, 51, 51, 47, 47, 47, 53, 50, 59, 42, 120, 121, 122, 123, 65, 66, 52, 85, 86, 53, 89, 90, 54, 324, 325, 69, 70, 52, 49, 50, 51, 61, 60, 61, 51, 287, 288, 51, 51, 47, 47, 47, 53, 50, 59, 42, 117, 118, 116, 117, 65, 66, 52, 85, 86, 53, 89, 90, 54, 311, 312, 69, 70, 52, 49, 50, 51, 61, 60, 61, 51, 324, 325, 51, 51, 47, 47, 47, 53, 50, 59, 42, 117, 118, 118, 119, 65, 66, 52, 85, 86, 53, 93, 94, 54, 290, 291, 69, 70, 52, 49, 50, 51, 61, 60, 61, 51, 288, 289, 51, 51, 47, 47, 47, 53, 50, 59, 42, 118, 119, 113, 114, 65, 66, 52, 85, 86, 53, 94, 95, 54, 315, 316, 69, 70, 52, 49, 50, 51, 61, 60, 61, 51, 284, 285, 51, 51, 47, 47, 47, 53, 50, 59, 42, 121, 122, 119, 120, 65, 66, 52, 85, 86, 53, 89, 90, 54, 307, 308, 69, 70, 52, 49, 50, 51, 61, 60, 61, 51, 315, 316, 51, 51, 47, 47, 47, 53, 50, 59, 42, 117, 118, 123, 124, 65, 66, 52, 85, 86, 53, 94, 95, 54, 328, 329, 69, 70, 52, 49, 50, 51, 61, 60, 61, 51, 306, 307, 51, 51, 47, 47, 47, 53, 50, 59, 42, 119, 120, 121, 122, 65, 66, 52, 85, 86, 53, 94, 95, 54, 301, 302, 69, 70, 52, 49, 50, 51, 61, 60, 61, 51, 308, 309, 51, 51, 47, 47, 47, 53, 50, 59, 42, 121, 122, 114, 115, 65, 66, 52, 85, 86, 53, 94, 95, 54, 288, 289, 69, 70, 52, 49, 50, 51, 61, 60, 61, 51, 314, 315, 51, 51, 47, 47, 47, 53, 50, 59, 42, 120, 121, 118, 119, 65, 66, 52, 85, 86, 53, 94, 95, 54, 287, 288, 69, 70, 52, 49, 50, 51, 61, 60, 61, 51, 291, 292, 51, 51, 47, 47, 47, 53, 50, 59, 42, 117, 118, 117, 118, 65, 66, 52, 85, 86, 53, 89, 90, 54, 329, 330, 69, 70, 52, 49, 50, 51, 61, 60, 61, 51, 304, 305, 51, 51, 47, 47, 47, 53, 50, 59, 42, 121, 122, 115, 116, 65, 66, 52, 85, 86, 53, 89, 90, 54, 298, 299, 69, 70, 52, 49, 50, 51, 61, 60, 61, 51, 290, 291, 51, 51, 47, 47, 47, 53, 50, 59, 42, 121, 122, 118, 119, 65, 66, 52, 85, 86, 53, 94, 95, 54, 285, 286, 69, 70, 52, 49, 50, 51, 61, 60, 61, 51, 307, 308, 51, 51, 47, 47, 47, 53, 50, 59, 42, 117, 118, 118, 119, 65, 66, 52, 85, 86, 53, 89, 90, 54, 304, 305, 69, 70, 52, 49, 50, 51, 61, 60, 61, 51, 284, 285, 51, 51, 47, 47, 47, 53, 50, 59, 42, 117, 118, 118, 119, 65, 66, 52, 85, 86, 53, 94, 95, 54, 305, 306, 69, 70, 52, 49, 50, 51, 61, 60, 61, 51, 287, 288, 51, 51, 47, 47, 47, 53, 50, 59, 42, 117, 118, 116, 117, 65, 66, 52, 85, 86, 53, 89, 90, 54, 309, 310, 69, 70, 52, 49, 50, 51, 61, 60, 61, 51, 302, 303, 51, 51, 47, 47, 47, 53, 50, 59, 42, 121, 122, 115, 116, 65, 66, 52, 85, 86, 53, 94, 95, 54, 311, 312, 69, 70, 52, 49, 50, 51, 61, 60, 61, 51, 291, 292, 51, 51, 47, 47, 47, 53, 50, 59, 42, 120, 121, 117, 118, 65, 66, 52, 85, 86, 53, 94, 95, 54, 296, 297, 69, 70, 52, 49, 50, 51, 61, 60, 61, 51, 294, 295, 51, 51, 47, 47, 47, 53, 50, 59, 42, 117, 118, 112, 113, 65, 66, 52, 85, 86, 53, 94, 95, 54, 297, 298, 69, 70, 52, 49, 50, 51, 61, 60, 61, 51, 306, 307, 51, 51, 47, 47, 47, 53, 50, 59, 42, 117, 118, 119, 120, 65, 66, 52, 85, 86, 53, 94, 95, 54, 318, 319, 69, 70, 52, 49, 50, 51, 61, 60, 61, 51, 307, 308, 51, 51, 47, 47, 47, 53, 50, 59, 42, 121, 122, 114, 115, 65, 66, 52, 85, 86, 53, 94, 95, 54, 292, 293, 69, 70, 52, 49, 50, 51, 61, 60, 61, 51, 284, 285, 51, 51, 47, 47, 47, 53, 50, 59, 42, 116, 117, 110, 111, 65, 66, 52, 85, 86, 53, 94, 95, 54, 298, 299, 69, 70, 52, 49, 50, 51, 61, 60, 61, 51, 305, 306, 51, 51, 47, 47, 47, 53, 50, 59, 42, 117, 118, 117, 118, 65, 66, 52, 85, 86, 53, 94, 95, 54, 311, 312, 69, 70, 52, 49, 50, 51, 61, 60, 61, 51, 289, 290, 51, 51, 47, 47, 47, 53, 50, 59, 42, 116, 117, 116, 117, 65, 66, 52, 85, 86, 53, 89, 90, 54, 295, 296, 69, 70, 52, 49, 50, 51, 61, 60, 61, 51, 295, 296, 51, 51, 47, 47, 47, 53, 50, 59, 42, 122, 123, 114, 115, 65, 66, 52, 85, 86, 53, 94, 95, 54, 307, 308, 69, 70, 52, 49, 50, 51, 61, 60, 61, 51, 309, 310, 51, 51, 47, 47, 47, 53, 50, 59, 42, 122, 123, 123, 124, 65, 66, 52, 85, 86, 53, 94, 95, 54, 289, 290, 69, 70, 52, 49, 50, 51, 61, 60, 61, 51, 304, 305, 51, 51, 47, 47, 47, 53, 50, 59, 42, 118, 119, 114, 115, 65, 66, 52, 85, 86, 53, 89, 90, 54, 285, 286, 69, 70, 52, 49, 50, 51, 61, 60, 61, 51, 281, 282, 51, 51, 47, 47, 47, 53, 50, 59, 42, 121, 122, 116, 117, 65, 66, 52, 85, 86, 53, 94, 95, 54, 288, 289, 69, 70, 52, 49, 50, 51, 61, 60, 61, 51, 298, 299, 51, 51, 47, 47, 47, 53, 50, 59, 42, 120, 121, 116, 117, 65, 66, 52, 85, 86, 53, 89, 90, 54, 305, 306, 69, 70, 52, 49, 50, 51, 61, 60, 61, 51, 305, 306, 51, 51, 47, 47, 47, 53, 50, 59, 42, 121, 122, 114, 115, 65, 66, 52, 85, 86, 53, 94, 95, 54, 287, 288, 69, 70, 52, 49, 50, 51, 61, 60, 61, 51, 271, 272, 51, 51, 47, 47, 47, 53, 50, 59, 42, 120, 121, 119, 120, 65, 66, 52, 85, 86, 53, 94, 95, 54, 309, 310, 69, 70, 52, 49, 50, 51, 61, 60, 61, 51, 310, 311, 51, 51, 47, 47, 47, 53, 50, 59, 42, 119, 120, 120, 121, 65, 66, 52, 85, 86, 53, 89, 90, 54, 312, 313, 69, 70, 52, 49, 50, 51, 61, 60, 61, 51, 284, 285, 51, 51, 47, 47, 47, 53, 50, 59, 42, 117, 118, 117, 118, 65, 66, 52, 85, 86, 53, 89, 90, 54, 292, 293, 69, 70, 52, 49, 50, 51, 61, 60, 61, 51, 290, 291, 51, 51, 47, 47, 47, 53, 50, 59, 42, 122, 123, 117, 118, 65, 66, 52, 85, 86, 53, 93, 94, 54, 288, 289, 69, 70, 52, 49, 50, 51, 61, 60, 61, 51, 306, 307, 51, 51, 47, 47, 47, 53, 50, 59, 42, 117, 118, 118, 119, 65, 66, 52, 85, 86, 53, 89, 90, 54, 303, 304, 69, 70, 52, 49, 50, 51, 61, 60, 61, 51, 278, 279, 51, 51, 47, 47, 47, 53, 50, 59, 42, 120, 121, 114, 115, 65, 66, 52, 85, 86, 53, 88, 89, 54, 304, 305, 69, 70, 52, 49, 50, 51, 61, 60, 61, 51, 312, 313, 51, 51, 47, 47, 47, 53, 50, 59, 42, 117, 118, 114, 115, 65, 66, 52, 85, 86, 53, 94, 95, 54, 307, 308, 69, 70, 52, 49, 50, 51, 61, 60, 61, 51, 306, 307, 51, 51, 47, 47, 47, 53, 50, 59, 42, 120, 121, 118, 119, 65, 66, 52, 85, 86, 53, 89, 90, 54, 300, 301, 69, 70, 52, 49, 50, 51, 61, 60, 61, 51, 297, 298, 51, 51, 47, 47, 47, 53, 50, 59, 42, 121, 122, 116, 117, 65, 66, 52, 85, 86, 53, 89, 90, 54, 280, 281, 69, 70, 52, 49, 50, 51, 61, 60, 61, 51, 311, 312, 51, 51, 47, 47, 47, 53, 50, 59, 42, 121, 122, 117, 118, 65, 66, 52, 85, 86, 53, 94, 95, 54, 285, 286, 69, 70, 52, 49, 50, 51, 61, 60, 61, 51, 347, 348, 51, 51, 47, 47, 47, 53, 50, 59, 42, 117, 118, 126, 127, 65, 66, 52, 85, 86, 53, 88, 89, 54, 320, 321, 69, 70, 52, 49, 50, 51, 61, 60, 61, 51, 310, 311, 51, 51, 47, 47, 47, 53, 50, 59, 42, 121, 122, 116, 117, 65, 66, 52, 85, 86, 53, 89, 90, 54, 289, 290, 69, 70, 52, 49, 50, 51, 61, 60, 61, 51, 312, 313, 51, 51, 47, 47, 47, 53, 50, 59, 42, 117, 118, 117, 118, 65, 66, 52, 85, 86, 53, 89, 90, 54, 305, 306, 69, 70, 52, 49, 50, 51, 61, 60, 61, 51, 301, 302, 51, 51, 47, 47, 47, 53, 50, 59, 42, 121, 122, 111, 112, 65, 66, 52, 85, 86, 53, 89, 90, 54, 309, 310, 69, 70, 52, 49, 50, 51, 61, 60, 61, 51, 291, 292, 51, 51, 47, 47, 47, 53, 50, 59, 42, 121, 122, 120, 121, 65, 66, 52, 85, 86, 53, 89, 90, 54, 295, 296, 69, 70, 52, 49, 50, 51, 61, 60, 61, 51, 312, 313, 51, 51, 47, 47, 47, 53, 50, 59, 42, 118, 119, 116, 117, 65, 66, 52, 85, 86, 53, 94, 95, 54, 316, 317, 69, 70, 52, 49, 50, 51, 61, 60, 61, 51, 294, 295, 51, 51, 47, 47, 47, 53, 50, 59, 42, 121, 122, 117, 118, 65, 66, 52, 85, 86, 53, 89, 90, 54, 307, 308, 69, 70, 52, 49, 50, 51, 61, 60, 61, 51, 284, 285, 51, 51, 47, 47, 47, 53, 50, 59, 42, 120, 121, 118, 119, 65, 66, 52, 85, 86, 53, 89, 90, 54, 298, 299, 69, 70, 52, 49, 50, 51, 61, 60, 61, 51, 309, 310, 51, 51, 47, 47, 47, 53, 50, 59, 42, 117, 118, 118, 119, 65, 66, 52, 85, 86, 53, 94, 95, 54, 306, 307, 69, 70, 52, 49, 50, 51, 61, 60, 61, 51, 340, 341, 51, 51, 47, 47, 47, 53, 50, 59, 42, 121, 122, 112, 113, 65, 66, 52, 85, 86, 53, 94, 95, 54, 272, 273, 69, 70, 52, 49, 50, 51, 61, 60, 61, 51, 295, 296, 51, 51, 47, 47, 47, 53, 50, 59, 42, 117, 118, 117, 118, 65, 66, 52, 85, 86, 53, 94, 95, 54, 291, 292, 69, 70, 52, 49, 50, 51, 61, 60, 61, 51, 284, 285, 51, 51, 47, 47, 47, 53, 50, 59, 42, 120, 121, 119, 120, 65, 66, 52, 85, 86, 53, 94, 95, 54, 300, 301, 69, 70, 52, 49, 50, 51, 61, 60, 61, 51, 310, 311, 51, 51, 47, 47, 47, 53, 50, 59, 42, 120, 121, 125, 126, 65, 66, 52, 85, 86, 53, 89, 90, 54, 299, 300, 69, 70, 52, 49, 50, 51, 61, 60, 61, 51, 307, 308, 51, 51, 47, 47, 47, 53, 50, 59, 42, 117, 118, 119, 120, 65, 66, 52, 85, 86, 53, 87, 88, 54, 302, 303, 69, 70, 52, 49, 50, 51, 61, 60, 61, 51, 295, 296, 51, 51, 47, 47, 47, 53, 50, 59, 42, 117, 118, 118, 119, 65, 66, 52, 85, 86, 53, 89, 90, 54, 287, 288, 69, 70, 52, 49, 50, 51, 61, 60, 61, 51, 278, 279, 51, 51, 47, 47, 47, 53, 50, 59, 42, 121, 122, 118, 119, 65, 66, 52, 85, 86, 53, 94, 95, 54, 302, 303, 69, 70, 52, 49, 50, 51, 61, 60, 61, 51, 292, 293, 51, 51, 47, 47, 47, 53, 50, 59, 42, 121, 122, 117, 118, 65, 66, 52, 85, 86, 53, 94, 95, 54, 291, 292, 69, 70, 52, 49, 50, 51, 61, 60, 61, 51, 295, 296, 51, 51, 47, 47, 47, 53, 50, 59, 42, 118, 119, 116, 117, 65, 66, 52, 85, 86, 53, 94, 95, 54, 290, 291, 69, 70, 52, 49, 50, 51, 61, 60, 61, 51, 301, 302, 51, 51, 47, 47, 47, 53, 50, 59, 42, 121, 122, 112, 113, 65, 66, 52, 85, 86, 53, 94, 95, 54, 317, 318, 69, 70, 52, 49, 50, 51, 61, 60, 61, 51, 270, 271, 51, 51, 47, 47, 47, 53, 50, 59, 42, 121, 122, 115, 116, 65, 66, 52, 85, 86, 53, 94, 95, 54, 305, 306, 69, 70, 52, 49, 50, 51, 61, 60, 61, 51, 297, 298, 51, 51, 47, 47, 47, 53, 50, 59, 42, 120, 121, 121, 122, 65, 66, 52, 85, 86, 53, 89, 90, 54, 308, 309, 69, 70, 52, 49, 50, 51, 61, 60, 61, 51, 316, 317, 51, 51, 47, 47, 47, 53, 50, 59, 42, 122, 123, 113, 114, 65, 66, 52, 85, 86, 53, 94, 95, 54, 283, 284, 69, 70, 52, 49, 50, 51, 61, 60, 61, 51, 321, 322, 51, 51, 47, 47, 47, 53, 50, 59, 42, 121, 122, 117, 118, 65, 66, 52, 85, 86, 53, 94, 95, 54, 286, 287, 69, 70, 52, 49, 50, 51, 61, 60, 61, 51, 290, 291, 51, 51, 47, 47, 47, 53, 50, 59, 42, 117, 118, 114, 115, 65, 66, 52, 85, 86, 53, 89, 90, 54, 300, 301, 69, 70, 52, 49, 50, 51, 61, 60, 61, 51, 306, 307, 51, 51, 47, 47, 47, 53, 50, 59, 42, 122, 123, 119, 120, 65, 66, 52, 85, 86, 53, 94, 95, 54, 290, 291, 69, 70, 52, 49, 50, 51, 61, 60, 61, 51, 293, 294, 51, 51, 47, 47, 47, 53, 50, 59, 42, 122, 123, 114, 115, 65, 66, 52, 85, 86, 53, 93, 94, 54, 316, 317, 69, 70, 52, 49, 50, 51, 61, 60, 61, 51, 304, 305, 51, 51, 47, 47, 47, 53, 50, 59, 42, 118, 119, 117, 118, 65, 66, 52, 85, 86, 53, 89, 90, 54, 300, 301, 69, 70, 52, 49, 50, 51, 61, 60, 61, 51, 308, 309, 51, 51, 47, 47, 47, 53, 50, 59, 42, 118, 119, 112, 113, 65, 66, 52, 85, 86, 53, 89, 90, 54, 320, 321, 69, 70, 52, 49, 50, 51, 61, 60, 61, 51, 284, 285, 51, 51, 47, 47, 47, 53, 50, 59, 42, 122, 123, 113, 114, 65, 66, 52, 85, 86, 53, 89, 90, 54, 304, 305, 69, 70, 52, 49, 50, 51, 61, 60, 61, 51, 301, 302, 51, 51, 47, 47, 47, 53, 50, 59, 42, 122, 123, 116, 117, 65, 66, 52, 85, 86, 53, 89, 90, 54, 308, 309, 69, 70, 52, 49, 50, 51, 61, 60, 61, 51, 309, 310, 51, 51, 47, 47, 47, 53, 50, 59, 42, 121, 122, 121, 122, 65, 66, 52, 85, 86, 53, 94, 95, 54, 290, 291, 69, 70, 52, 49, 50, 51, 61, 60, 61, 51, 310, 311, 51, 51, 47, 47, 47, 53, 50, 59, 42, 121, 122, 115, 116, 65, 66, 52, 85, 86, 53, 94, 95, 54, 285, 286, 69, 70, 52, 49, 50, 51, 61, 60, 61, 51, 310, 311, 51, 51, 47, 47, 47, 53, 50, 59, 42, 120, 121, 122, 123, 65, 66, 52, 85, 86, 53, 88, 89, 54, 291, 292, 69, 70, 52, 49, 50, 51, 61, 60, 61, 51, 329, 330, 51, 51, 47, 47, 47, 53, 50, 59, 42, 120, 121, 115, 116, 65, 66, 52, 85, 86, 53, 89, 90, 54, 321, 322, 69, 70, 52, 49, 50, 51, 61, 60, 61, 51, 291, 292, 51, 51, 47, 47, 47, 53, 50, 59, 42, 121, 122, 118, 119, 65, 66, 52, 85, 86, 53, 94, 95, 54, 289, 290, 69, 70, 52, 49, 50, 51, 61, 60, 61, 51, 314, 315, 51, 51, 47, 47, 47, 53, 50, 59, 42, 117, 118, 116, 117, 65, 66, 52, 85, 86, 53, 94, 95, 54, 291, 292, 69, 70, 52, 49, 50, 51, 61, 60, 61, 51, 305, 306, 51, 51, 47, 47, 47, 53, 50, 59, 42, 122, 123, 115, 116, 65, 66, 52, 85, 86, 53, 89, 90, 54, 287, 288, 69, 70, 52, 49, 50, 51, 61, 60, 61, 51, 305, 306, 51, 51, 47, 47, 47, 53, 50, 59, 42, 121, 122, 117, 118, 65, 66, 52, 85, 86, 53, 88, 89, 54, 299, 300, 69, 70, 52, 49, 50, 51, 61, 60, 61, 51, 299, 300, 51, 51, 47, 47, 47, 53, 50, 59, 42, 120, 121, 116, 117, 65, 66, 52, 85, 86, 53, 94, 95, 54, 285, 286, 69, 70, 52, 49, 50, 51, 61, 60, 61, 51, 300, 301, 51, 51, 47, 47, 47, 53, 50, 59, 42, 121, 122, 120, 121, 65, 66, 52, 85, 86, 53, 94, 95, 54, 302, 303, 69, 70, 52, 49, 50, 51, 61, 60, 61, 51, 283, 284, 51, 51, 47, 47, 47, 53, 50, 59, 42, 120, 121, 116, 117, 65, 66, 52, 85, 86, 53, 94, 95, 54, 291, 292, 69, 70, 52, 49, 50, 51, 61, 60, 61, 51, 296, 297, 51, 51, 47, 47, 47, 53, 50, 59, 42, 121, 122, 114, 115, 65, 66, 52, 85, 86, 53, 89, 90, 54, 290, 291, 69, 70, 52, 49, 50, 51, 61, 60, 61, 51, 280, 281, 51, 51, 47, 47, 47, 53, 50, 59, 42, 121, 122, 116, 117, 65, 66, 52, 85, 86, 53, 89, 90, 54, 285, 286, 69, 70, 52, 49, 50, 51, 61, 60, 61, 51, 296, 297, 51, 51, 47, 47, 47, 53, 50, 59, 42, 117, 118, 117, 118, 65, 66, 52, 85, 86, 53, 94, 95, 54, 317, 318, 69, 70, 52, 49, 50, 51, 61, 60, 61, 51, 295, 296, 51, 51, 47, 47, 47, 53, 50, 59, 42, 117, 118, 116, 117, 65, 66, 52, 85, 86, 53, 89, 90, 54, 300, 301, 69, 70, 52, 49, 50, 51, 61, 60, 61, 51, 302, 303, 51, 51, 47, 47, 47, 53, 50, 59, 42, 117, 118, 117, 118, 65, 66, 52, 85, 86, 53, 89, 90, 54, 342, 343, 69, 70, 52, 49, 50, 51, 61, 60, 61, 51, 294, 295, 51, 51, 47, 47, 47, 53, 50, 59, 42, 118, 119, 118, 119, 65, 66, 52, 85, 86, 53, 94, 95, 54, 312, 313, 69, 70, 52, 49, 50, 51, 61, 60, 61, 51, 313, 314, 51, 51, 47, 47, 47, 53, 50, 59, 42, 118, 119, 118, 119, 65, 66, 52, 85, 86, 53, 89, 90, 54, 297, 298, 69, 70, 52, 49, 50, 51, 61, 60, 61, 51, 290, 291, 51, 51, 47, 47, 47, 53, 50, 59, 42, 120, 121, 122, 123, 65, 66, 52, 85, 86, 53, 94, 95, 54, 289, 290, 69, 70, 52, 49, 50, 51, 61, 60, 61, 51, 307, 308, 51, 51, 47, 47, 47, 53, 50, 59, 42, 122, 123, 115, 116, 65, 66, 52, 85, 86, 53, 88, 89, 54, 316, 317, 69, 70, 52, 49, 50, 51, 61, 60, 61, 51, 327, 328, 51, 51, 47, 47, 47, 53, 50, 59, 42, 122, 123, 117, 118, 65, 66, 52, 85, 86, 53, 89, 90, 54, 308, 309, 69, 70, 52, 49, 50, 51, 61, 60, 61, 51, 289, 290, 51, 51, 47, 47, 47, 53, 50, 59, 42, 120, 121, 116, 117, 65, 66, 52, 85, 86, 53, 88, 89, 54, 300, 301, 69, 70, 52, 49, 50, 51, 61, 60, 61, 51, 311, 312, 51, 51, 47, 47, 47, 53, 50, 59, 42, 120, 121, 117, 118, 65, 66, 52, 85, 86, 53, 94, 95, 54, 288, 289, 69, 70, 52, 49, 50, 51, 61, 60, 61, 51, 307, 308, 51, 51, 47, 47, 47, 53, 50, 59, 42, 121, 122, 119, 120, 65, 66, 52, 85, 86, 53, 89, 90, 54, 316, 317, 69, 70, 52, 49, 50, 51, 61, 60, 61, 51, 279, 280, 51, 51, 47, 47, 47, 53, 50, 59, 42, 117, 118, 120, 121, 65, 66, 52, 85, 86, 53, 94, 95, 54, 311, 312, 69, 70, 52, 49, 50, 51, 61, 60, 61, 51, 317, 318, 51, 51, 47, 47, 47, 53, 50, 59, 42, 117, 118, 121, 122, 65, 66, 52, 85, 86, 53, 94, 95, 54, 306, 307, 69, 70, 52, 49, 50, 51, 61, 60, 61, 51, 306, 307, 51, 51, 47, 47, 47, 53, 50, 59, 42, 122, 123, 121, 122, 65, 66, 52, 85, 86, 53, 89, 90, 54, 286, 287, 69, 70, 52, 49, 50, 51, 61, 60, 61, 51, 293, 294, 51, 51, 47, 47, 47, 53, 50, 59, 42, 121, 122, 119, 120, 65, 66, 52, 85, 86, 53, 94, 95, 54, 296, 297, 69, 70, 52, 49, 50, 51, 61, 60, 61, 51, 321, 322, 51, 51, 47, 47, 47, 53, 50, 59, 42, 117, 118, 116, 117, 65, 66, 52, 85, 86, 53, 89, 90, 54, 321, 322, 69, 70, 52, 49, 50, 51, 61, 60, 61, 51, 317, 318, 51, 51, 47, 47, 47, 53, 50, 59, 42, 121, 122, 115, 116, 65, 66, 52, 85, 86, 53, 89, 90, 54, 309, 310, 69, 70, 52, 49, 50, 51, 61, 60, 61, 51, 295, 296, 51, 51, 47, 47, 47, 53, 50, 59, 42, 120, 121, 117, 118, 65, 66, 52, 85, 86, 53, 89, 90, 54, 306, 307, 69, 70, 52, 49, 50, 51, 61, 60, 61, 51, 294, 295, 51, 51, 47, 47, 47, 53, 50, 59, 42, 120, 121, 118, 119, 65, 66, 52, 85, 86, 53, 94, 95, 54, 308, 309, 69, 70, 52, 49, 50, 51, 61, 60, 61, 51, 293, 294, 51, 51, 47, 47, 47, 53, 50, 59, 42, 121, 122, 115, 116, 65, 66, 52, 85, 86, 53, 89, 90, 54, 290, 291, 69, 70, 52, 49, 50, 51, 61, 60, 61, 51, 308, 309, 51, 51, 47, 47, 47, 53, 50, 59, 42, 121, 122, 120, 121, 65, 66, 52, 85, 86, 53, 94, 95, 54, 324, 325, 69, 70, 52, 49, 50, 51, 61, 60, 61, 51, 296, 297, 51, 51, 47, 47, 47, 53, 50, 59, 42, 117, 118, 113, 114, 65, 66, 52, 85, 86, 53, 94, 95, 54, 312, 313, 69, 70, 52, 49, 50, 51, 61, 60, 61, 51, 288, 289, 51, 51, 47, 47, 47, 53, 50, 59, 42, 121, 122, 114, 115, 65, 66, 52, 85, 86, 53, 94, 95, 54, 287, 288, 69, 70, 52, 49, 50, 51, 61, 60, 61, 51, 293, 294, 51, 51, 47, 47, 47, 53, 50, 59, 42, 118, 119, 115, 116, 65, 66, 52, 85, 86, 53, 94, 95, 54, 309, 310, 69, 70, 52, 49, 50, 51, 61, 60, 61, 51, 293, 294, 51, 51, 47, 47, 47, 53, 50, 59, 42, 121, 122, 121, 122, 65, 66, 52, 85, 86, 53, 89, 90, 54, 302, 303, 69, 70, 52, 49, 50, 51, 61, 60, 61, 51, 302, 303, 51, 51, 47, 47, 47, 53, 50, 59, 42, 117, 118, 116, 117, 65, 66, 52, 85, 86, 53, 89, 90, 54, 293, 294, 69, 70, 52, 49, 50, 51, 61, 60, 61, 51, 292, 293, 51, 51, 47, 47, 47, 53, 50, 59, 42, 120, 121, 113, 114, 65, 66, 52, 85, 86, 53, 93, 94, 54, 322, 323, 69, 70, 52, 49, 50, 51, 61, 60, 61, 51, 295, 296, 51, 51, 47, 47, 47, 53, 50, 59, 42, 122, 123, 117, 118, 65, 66, 52, 85, 86, 53, 89, 90, 54, 308, 309, 69, 70, 52, 49, 50, 51, 61, 60, 61, 51, 290, 291, 51, 51, 47, 47, 47, 53, 50, 59, 42, 120, 121, 116, 117, 65, 66, 52, 85, 86, 53, 94, 95, 54, 312, 313, 69, 70, 52, 49, 50, 51, 61, 60, 61, 51, 284, 285, 51, 51, 47, 47, 47, 53, 50, 59, 42, 121, 122, 116, 117, 65, 66, 52, 85, 86, 53, 94, 95, 54, 304, 305, 69, 70, 52, 49, 50, 51, 61, 60, 61, 51, 310, 311, 51, 51, 47, 47, 47, 53, 50, 59, 42, 121, 122, 119, 120, 65, 66, 52, 85, 86, 53, 94, 95, 54, 313, 314, 69, 70, 52, 49, 50, 51, 61, 60, 61, 51, 292, 293, 51, 51, 47, 47, 47, 53, 50, 59, 42, 120, 121, 110, 111, 65, 66, 52, 85, 86, 53, 94, 95, 54, 309, 310, 69, 70, 52, 49, 50, 51, 61, 60, 61, 51, 281, 282, 51, 51, 47, 47, 47, 53, 50, 59, 42, 117, 118, 119, 120, 65, 66, 52, 85, 86, 53, 94, 95, 54, 289, 290, 69, 70, 52, 49, 50, 51, 61, 60, 61, 51, 306, 307, 51, 51, 47, 47, 47, 53, 50, 59, 42, 120, 121, 115, 116, 65, 66, 52, 85, 86, 53, 94, 95, 54, 300, 301, 69, 70, 52, 49, 50, 51, 61, 60, 61, 51, 300, 301, 51, 51, 47, 47, 47, 53, 50, 59, 42, 117, 118, 118, 119, 65, 66, 52, 85, 86, 53, 94, 95, 54, 300, 301, 69, 70, 52, 49, 50, 51, 61, 60, 61, 51, 323, 324, 51, 51, 47, 47, 47, 53, 50, 59, 42, 117, 118, 118, 119, 65, 66, 52, 85, 86, 53, 94, 95, 54, 300, 301, 69, 70, 52, 49, 50, 51, 61, 60, 61, 51, 284, 285, 51, 51, 47, 47, 47, 53, 50, 59, 42, 117, 118, 118, 119, 65, 66, 52, 85, 86, 53, 89, 90, 54, 291, 292, 69, 70, 52, 49, 50, 51, 61, 60, 61, 51, 306, 307, 51, 51, 47, 47, 47, 53, 50, 59, 42, 121, 122, 115, 116, 65, 66, 52, 85, 86, 53, 89, 90, 54, 289, 290, 69, 70, 52, 49, 50, 51, 61, 60, 61, 51, 297, 298, 51, 51, 47, 47, 47, 53, 50, 59, 42, 121, 122, 120, 121, 65, 66, 52, 85, 86, 53, 94, 95, 54, 314, 315, 69, 70, 52, 49, 50, 51, 61, 60, 61, 51, 271, 272, 51, 51, 47, 47, 47, 53, 50, 59, 42, 122, 123, 116, 117, 65, 66, 52, 85, 86, 53, 89, 90, 54, 281, 282, 69, 70, 52, 49, 50, 51, 61, 60, 61, 51, 293, 294, 51, 51, 47, 47, 47, 53, 50, 59, 42, 122, 123, 115, 116, 65, 66, 52, 85, 86, 53, 89, 90, 54, 336, 337, 69, 70, 52, 49, 50, 51, 61, 60, 61, 51, 310, 311, 51, 51, 47, 47, 47, 53, 50, 59, 42, 117, 118, 121, 122, 65, 66, 52, 85, 86, 53, 94, 95, 54, 293, 294, 69, 70, 52, 49, 50, 51, 61, 60, 61, 51, 300, 301, 51, 51, 47, 47, 47, 53, 50, 59, 42, 120, 121, 121, 122, 65, 66, 52, 85, 86, 53, 89, 90, 54, 326, 327, 69, 70, 52, 49, 50, 51, 61, 60, 61, 51, 289, 290, 51, 51, 47, 47, 47, 53, 50, 59, 42, 116, 117, 115, 116, 65, 66, 52, 85, 86, 53, 89, 90, 54, 314, 315, 69, 70, 52, 49, 50, 51, 61, 60, 61, 51, 304, 305, 51, 51, 47, 47, 47, 53, 50, 59, 42, 121, 122, 111, 112, 65, 66, 52, 85, 86, 53, 94, 95, 54, 298, 299, 69, 70, 52, 49, 50, 51, 61, 60, 61, 51, 295, 296, 51, 51, 47, 47, 47, 53, 50, 59, 42, 120, 121, 124, 125, 65, 66, 52, 85, 86, 53, 87, 88, 54, 301, 302, 69, 70, 52, 49, 50, 51, 61, 60, 61, 51, 303, 304, 51, 51, 47, 47, 47, 53, 50, 59, 42, 117, 118, 116, 117, 65, 66, 52, 85, 86, 53, 89, 90, 54, 283, 284, 69, 70, 52, 49, 50, 51, 61, 60, 61, 51, 303, 304, 51, 51, 47, 47, 47, 53, 50, 59, 42, 118, 119, 116, 117, 65, 66, 52, 85, 86, 53, 89, 90, 54, 306, 307, 69, 70, 52, 49, 50, 51, 61, 60, 61, 51, 305, 306, 51, 51, 47, 47, 47, 53, 50, 59, 42, 121, 122, 116, 117, 65, 66, 52, 85, 86, 53, 94, 95, 54, 308, 309, 69, 70, 52, 49, 50, 51, 61, 60, 61, 51, 305, 306, 51, 51, 47, 47, 47, 53, 50, 59, 42, 121, 122, 115, 116, 65, 66, 52, 85, 86, 53, 89, 90, 54, 312, 313, 69, 70, 52, 49, 50, 51, 61, 60, 61, 51, 300, 301, 51, 51, 47, 47, 47, 53, 50, 59, 42, 121, 122, 114, 115, 65, 66, 52, 85, 86, 53, 89, 90, 54, 305, 306, 69, 70, 52, 49, 50, 51, 61, 60, 61, 51, 293, 294, 51, 51, 47, 47, 47, 53, 50, 59, 42, 120, 121, 115, 116, 65, 66, 52, 85, 86, 53, 89, 90, 54, 299, 300, 69, 70, 52, 49, 50, 51, 61, 60, 61, 51, 300, 301, 51, 51, 47, 47, 47, 53, 50, 59, 42, 116, 117, 117, 118, 65, 66, 52, 85, 86, 53, 94, 95, 54, 289, 290, 69, 70, 52, 49, 50, 51, 61, 60, 61, 51, 289, 290, 51, 51, 47, 47, 47, 53, 50, 59, 42, 117, 118, 113, 114, 65, 66, 52, 85, 86, 53, 94, 95, 54, 293, 294, 69, 70, 52, 49, 50, 51, 61, 60, 61, 51, 290, 291, 51, 51, 47, 47, 47, 53, 50, 59, 42, 122, 123, 117, 118, 65, 66, 52, 85, 86, 53, 89, 90, 54, 284, 285, 69, 70, 52, 49, 50, 51, 61, 60, 61, 51, 293, 294, 51, 51, 47, 47, 47, 53, 50, 59, 42, 120, 121, 116, 117, 65, 66, 52, 85, 86, 53, 89, 90, 54, 290, 291, 69, 70, 52, 49, 50, 51, 61, 60, 61, 51, 283, 284, 51, 51, 47, 47, 47, 53, 50, 59, 42, 120, 121, 112, 113, 65, 66, 52, 85, 86, 53, 94, 95, 54, 299, 300, 69, 70, 52, 49, 50, 51, 61, 60, 61, 51, 283, 284, 51, 51, 47, 47, 47, 53, 50, 59, 42, 121, 122, 115, 116, 65, 66, 52, 85, 86, 53, 94, 95, 54, 309, 310, 69, 70, 52, 49, 50, 51, 61, 60, 61, 51, 273, 274, 51, 51, 47, 47, 47, 53, 50, 59, 42, 121, 122, 114, 115, 65, 66, 52, 85, 86, 53, 89, 90, 54, 296, 297, 69, 70, 52, 49, 50, 51, 61, 60, 61, 51, 280, 281, 51, 51, 47, 47, 47, 53, 50, 59, 42, 120, 121, 114, 115, 65, 66, 52, 85, 86, 53, 89, 90, 54, 321, 322, 69, 70, 52, 49, 50, 51, 61, 60, 61, 51, 300, 301, 51, 51, 47, 47, 47, 53, 50, 59, 42, 119, 120, 116, 117, 65, 66, 52, 85, 86, 53, 89, 90, 54, 285, 286, 69, 70, 52, 49, 50, 51, 61, 60, 61, 51, 296, 297, 51, 51, 47, 47, 47, 53, 50, 59, 42, 117, 118, 116, 117, 65, 66, 52, 85, 86, 53, 89, 90, 54, 285, 286, 69, 70, 52, 49, 50, 51, 61, 60, 61, 51, 279, 280, 51, 51, 47, 47, 47, 53, 50, 59, 42, 118, 119, 121, 122, 65, 66, 52, 85, 86, 53, 94, 95, 54, 300, 301, 69, 70, 52, 49, 50, 51, 61, 60, 61, 51, 294, 295, 51, 51, 47, 47, 47, 53, 50, 59, 42, 121, 122, 119, 120, 65, 66, 52, 85, 86, 53, 94, 95, 54, 311, 312, 69, 70, 52, 49, 50, 51, 61, 60, 61, 51, 310, 311, 51, 51, 47, 47, 47, 53, 50, 59, 42, 122, 123, 123, 124, 65, 66, 52, 85, 86, 53, 94, 95, 54, 286, 287, 69, 70, 52, 49, 50, 51, 61, 60, 61, 51, 314, 315, 51, 51, 47, 47, 47, 53, 50, 59, 42, 121, 122, 114, 115, 65, 66, 52, 85, 86, 53, 88, 89, 54, 300, 301, 69, 70, 52, 49, 50, 51, 61, 60, 61, 51, 298, 299, 51, 51, 47, 47, 47, 53, 50, 59, 42, 120, 121, 113, 114, 65, 66, 52, 85, 86, 53, 89, 90, 54, 297, 298, 69, 70, 52, 49, 50, 51, 61, 60, 61, 51, 316, 317, 51, 51, 47, 47, 47, 53, 50, 59, 42, 121, 122, 118, 119, 65, 66, 52, 85, 86, 53, 89, 90, 54, 309, 310, 69, 70, 52, 49, 50, 51, 61, 60, 61, 51, 317, 318, 51, 51, 47, 47, 47, 53, 50, 59, 42, 120, 121, 114, 115, 65, 66, 52, 85, 86, 53, 89, 90, 54, 295, 296, 69, 70, 52, 49, 50, 51, 61, 60, 61, 51, 295, 296, 51, 51, 47, 47, 47, 53, 50, 59, 42, 117, 118, 123, 124, 65, 66, 52, 85, 86, 53, 89, 90, 54, 300, 301, 69, 70, 52, 49, 50, 51, 61, 60, 61, 51, 301, 302, 51, 51, 47, 47, 47, 53, 50, 59, 42, 117, 118, 112, 113, 65, 66, 52, 85, 86, 53, 94, 95, 54, 287, 288, 69, 70, 52, 49, 50, 51, 61, 60, 61, 51, 314, 315, 51, 51, 47, 47, 47, 53, 50, 59, 42, 120, 121, 123, 124, 65, 66, 52, 85, 86, 53, 94, 95, 54, 295, 296, 69, 70, 52, 49, 50, 51, 61, 60, 61, 51, 286, 287, 51, 51, 47, 47, 47, 53, 50, 59, 42, 118, 119, 116, 117, 65, 66, 52, 85, 86, 53, 92, 93, 54, 284, 285, 69, 70, 52, 49, 50, 51, 61, 60, 61, 51, 317, 318, 51, 51, 47, 47, 47, 53, 50, 59, 42, 120, 121, 120, 121, 65, 66, 52, 85, 86, 53, 89, 90, 54, 283, 284, 69, 70, 52, 49, 50, 51, 61, 60, 61, 51, 280, 281, 51, 51, 47, 47, 47, 53, 50, 59, 42, 121, 122, 111, 112, 65, 66, 52, 85, 86, 53, 94, 95, 54, 297, 298, 69, 70, 52, 49, 50, 51, 61, 60, 61, 51, 286, 287, 51, 51, 47, 47, 47, 53, 50, 59, 42, 120, 121, 115, 116, 65, 66, 52, 85, 86, 53, 86, 87, 54, 307, 308, 69, 70, 52, 49, 50, 51, 61, 60, 61, 51, 286, 287, 51, 51, 47, 47, 47, 53, 50, 59, 42, 118, 119, 114, 115, 65, 66, 52, 85, 86, 53, 94, 95, 54, 311, 312, 69, 70, 52, 49, 50, 51, 61, 60, 61, 51, 279, 280, 51, 51, 47, 47, 47, 53, 50, 59, 42, 121, 122, 115, 116, 65, 66, 52, 85, 86, 53, 94, 95, 54, 309, 310, 69, 70, 52, 49, 50, 51, 61, 60, 61, 51, 302, 303, 51, 51, 47, 47, 47, 53, 50, 59, 42, 117, 118, 117, 118, 65, 66, 52, 85, 86, 53, 94, 95, 54, 291, 292, 69, 70, 52, 49, 50, 51, 61, 60, 61, 51, 294, 295, 51, 51, 47, 47, 47, 53, 50, 59, 42, 117, 118, 116, 117, 65, 66, 52, 85, 86, 53, 89, 90, 54, 296, 297, 69, 70, 52, 49, 50, 51, 61, 60, 61, 51, 304, 305, 51, 51, 47, 47, 47, 53, 50, 59, 42, 120, 121, 116, 117, 65, 66, 52, 85, 86, 53, 89, 90, 54, 293, 294, 69, 70, 52, 49, 50, 51, 61, 60, 61, 51, 292, 293, 51, 51, 47, 47, 47, 53, 50, 59, 42, 122, 123, 116, 117, 65, 66, 52, 85, 86, 53, 87, 88, 54, 301, 302, 69, 70, 52, 49, 50, 51, 61, 60, 61, 51, 290, 291, 51, 51, 47, 47, 47, 53, 50, 59, 42, 120, 121, 113, 114, 65, 66, 52, 85, 86, 53, 93, 94, 54, 305, 306, 69, 70, 52, 49, 50, 51, 61, 60, 61, 51, 319, 320, 51, 51, 47, 47, 47, 53, 50, 59, 42, 117, 118, 114, 115, 65, 66, 52, 85, 86, 53, 94, 95, 54, 303, 304, 69, 70, 52, 49, 50, 51, 61, 60, 61, 51, 289, 290, 51, 51, 47, 47, 47, 53, 50, 59, 42, 121, 122, 121, 122, 65, 66, 52, 85, 86, 53, 94, 95, 54, 294, 295, 69, 70, 52, 49, 50, 51, 61, 60, 61, 51, 280, 281, 51, 51, 47, 47, 47, 53, 50, 59, 42, 121, 122, 119, 120, 65, 66, 52, 85, 86, 53, 89, 90, 54, 299, 300, 69, 70, 52, 49, 50, 51, 61, 60, 61, 51, 321, 322, 51, 51, 47, 47, 47, 53, 50, 59, 42, 121, 122, 118, 119, 65, 66, 52, 85, 86, 53, 94, 95, 54, 293, 294, 69, 70, 52, 49, 50, 51, 61, 60, 61, 51, 308, 309, 51, 51, 47, 47, 47, 53, 50, 59, 42, 119, 120, 116, 117, 65, 66, 52, 85, 86, 53, 94, 95, 54, 289, 290, 69, 70, 52, 49, 50, 51, 61, 60, 61, 51, 281, 282, 51, 51, 47, 47, 47, 53, 50, 59, 42, 121, 122, 117, 118, 65, 66, 52, 85, 86, 53, 89, 90, 54, 309, 310, 69, 70, 52, 49, 50, 51, 61, 60, 61, 51, 322, 323, 51, 51, 47, 47, 47, 53, 50, 59, 42, 117, 118, 118, 119, 65, 66, 52, 85, 86, 53, 93, 94, 54, 294, 295, 69, 70, 52, 49, 50, 51, 61, 60, 61, 51, 311, 312, 51, 51, 47, 47, 47, 53, 50, 59, 42, 121, 122, 116, 117, 65, 66, 52, 85, 86, 53, 94, 95, 54, 307, 308, 69, 70, 52, 49, 50, 51, 61, 60, 61, 51, 295, 296, 51, 51, 47, 47, 47, 53, 50, 59, 42, 121, 122, 119, 120, 65, 66, 52, 85, 86, 53, 89, 90, 54, 312, 313, 69, 70, 52, 49, 50, 51, 61, 60, 61, 51, 320, 321, 51, 51, 47, 47, 47, 53, 50, 59, 42, 118, 119, 115, 116, 65, 66, 52, 85, 86, 53, 94, 95, 54, 275, 276, 69, 70, 52, 49, 50, 51, 61, 60, 61, 51, 298, 299, 51, 51, 47, 47, 47, 53, 50, 59, 42, 118, 119, 114, 115, 65, 66, 52, 85, 86, 53, 94, 95, 54, 299, 300, 69, 70, 52, 49, 50, 51, 61, 60, 61, 51, 293, 294, 51, 51, 47, 47, 47, 53, 50, 59, 42, 117, 118, 115, 116, 65, 66, 52, 85, 86, 53, 94, 95, 54, 298, 299, 69, 70, 52, 49, 50, 51, 61, 60, 61, 51, 281, 282, 51, 51, 47, 47, 47, 53, 50, 59, 42, 121, 122, 115, 116, 65, 66, 52, 85, 86, 53, 89, 90, 54, 301, 302, 69, 70, 52, 49, 50, 51, 61, 60, 61, 51, 291, 292, 51, 51, 47, 47, 47, 53, 50, 59, 42, 117, 118, 124, 125, 65, 66, 52, 85, 86, 53, 94, 95, 54, 289, 290, 69, 70, 52, 49, 50, 51, 61, 60, 61, 51, 291, 292, 51, 51, 47, 47, 47, 53, 50, 59, 42, 122, 123, 118, 119, 65, 66, 52, 85, 86, 53, 94, 95, 54, 299, 300, 69, 70, 52, 49, 50, 51, 61, 60, 61, 51, 315, 316, 51, 51, 47, 47, 47, 53, 50, 59, 42, 120, 121, 117, 118, 65, 66, 52, 85, 86, 53, 94, 95, 54, 291, 292, 69, 70, 52, 49, 50, 51, 61, 60, 61, 51, 287, 288, 51, 51, 47, 47, 47, 53, 50, 59, 42, 122, 123, 118, 119, 65, 66, 52, 85, 86, 53, 94, 95, 54, 307, 308, 69, 70, 52, 49, 50, 51, 61, 60, 61, 51, 298, 299, 51, 51, 47, 47, 47, 53, 50, 59, 42, 116, 117, 117, 118, 65, 66, 52, 85, 86, 53, 94, 95, 54, 279, 280, 69, 70, 52, 49, 50, 51, 61, 60, 61, 51, 301, 302, 51, 51, 47, 47, 47, 53, 50, 59, 42, 120, 121, 121, 122, 65, 66, 52, 85, 86, 53, 89, 90, 54, 306, 307, 69, 70, 52, 49, 50, 51, 61, 60, 61, 51, 280, 281, 51, 51, 47, 47, 47, 53, 50, 59, 42, 117, 118, 116, 117, 65, 66, 52, 85, 86, 53, 89, 90, 54, 298, 299, 69, 70, 52, 49, 50, 51, 61, 60, 61, 51, 283, 284, 51, 51, 47, 47, 47, 53, 50, 59, 42, 121, 122, 117, 118, 65, 66, 52, 85, 86, 53, 93, 94, 54, 300, 301, 69, 70, 52, 49, 50, 51, 61, 60, 61, 51, 284, 285, 51, 51, 47, 47, 47, 53, 50, 59, 42, 121, 122, 114, 115, 65, 66, 52, 85, 86, 53, 94, 95, 54, 302, 303, 69, 70, 52, 49, 50, 51, 61, 60, 61, 51, 293, 294, 51, 51, 47, 47, 47, 53, 50, 59, 42, 117, 118, 118, 119, 65, 66, 52, 85, 86, 53, 94, 95, 54, 317, 318, 69, 70, 52, 49, 50, 51, 61, 60, 61, 51, 302, 303, 51, 51, 47, 47, 47, 53, 50, 59, 42, 121, 122, 119, 120, 65, 66, 52, 85, 86, 53, 89, 90, 54, 292, 293, 69, 70, 52, 49, 50, 51, 61, 60, 61, 51, 281, 282, 51, 51, 47, 47, 47, 53, 50, 59, 42, 118, 119, 115, 116, 65, 66, 52, 85, 86, 53, 94, 95, 54, 298, 299, 69, 70, 52, 49, 50, 51, 61, 60, 61, 51, 305, 306, 51, 51, 47, 47, 47, 53, 50, 59, 42, 120, 121, 121, 122, 65, 66, 52, 85, 86, 53, 94, 95, 54, 304, 305, 69, 70, 52, 49, 50, 51, 61, 60, 61, 51, 314, 315, 51, 51, 47, 47, 47, 53, 50, 59, 42, 118, 119, 117, 118, 65, 66, 52, 85, 86, 53, 89, 90, 54, 286, 287, 69, 70, 52, 49, 50, 51, 61, 60, 61, 51, 300, 301, 51, 51, 47, 47, 47, 53, 50, 59, 42, 120, 121, 120, 121, 65, 66, 52, 85, 86, 53, 94, 95, 54, 283, 284, 69, 70, 52, 49, 50, 51, 61, 60, 61, 51, 300, 301, 51, 51, 47, 47, 47, 53, 50, 59, 42, 118, 119, 117, 118, 65, 66, 52, 85, 86, 53, 89, 90, 54, 305, 306, 69, 70, 52, 49, 50, 51, 61, 60, 61, 51, 291, 292, 51, 51, 47, 47, 47, 53, 50, 59, 42, 117, 118, 113, 114, 65, 66, 52, 85, 86, 53, 94, 95, 54, 305, 306, 69, 70, 52, 49, 50, 51, 61, 60, 61, 51, 285, 286, 51, 51, 47, 47, 47, 53, 50, 59, 42, 121, 122, 114, 115, 65, 66, 52, 85, 86, 53, 89, 90, 54, 322, 323, 69, 70, 52, 49, 50, 51, 61, 60, 61, 51, 307, 308, 51, 51, 47, 47, 47, 53, 50, 59, 42, 120, 121, 121, 122, 65, 66, 52, 85, 86, 53, 89, 90, 54, 320, 321, 69, 70, 52, 49, 50, 51, 61, 60, 61, 51, 285, 286, 51, 51, 47, 47, 47, 53, 50, 59, 42, 120, 121, 115, 116, 65, 66, 52, 85, 86, 53, 94, 95, 54, 311, 312, 69, 70, 52, 49, 50, 51, 61, 60, 61, 51, 301, 302, 51, 51, 47, 47, 47, 53, 50, 59, 42, 120, 121, 121, 122, 65, 66, 52, 85, 86, 53, 89, 90, 54, 272, 273, 69, 70, 52, 49, 50, 51, 61, 60, 61, 51, 321, 322, 51, 51, 47, 47, 47, 53, 50, 59, 42, 117, 118, 124, 125, 65, 66, 52, 85, 86, 53, 89, 90, 54, 315, 316, 69, 70, 52, 49, 50, 51, 61, 60, 61, 51, 293, 294, 51, 51, 47, 47, 47, 53, 50, 59, 42, 120, 121, 115, 116, 65, 66, 52, 85, 86, 53, 89, 90, 54, 307, 308, 69, 70, 52, 49, 50, 51, 61, 60, 61, 51, 287, 288, 51, 51, 47, 47, 47, 53, 50, 59, 42, 120, 121, 118, 119, 65, 66, 52, 85, 86, 53, 94, 95, 54, 307, 308, 69, 70, 52, 49, 50, 51, 61, 60, 61, 51, 274, 275, 51, 51, 47, 47, 47, 53, 50, 59, 42, 117, 118, 113, 114, 65, 66, 52, 85, 86, 53, 89, 90, 54, 306, 307, 69, 70, 52, 49, 50, 51, 61, 60, 61, 51, 277, 278, 51, 51, 47, 47, 47, 53, 50, 59, 42, 122, 123, 116, 117, 65, 66, 52, 85, 86, 53, 89, 90, 54, 315, 316, 69, 70, 52, 49, 50, 51, 61, 60, 61, 51, 311, 312, 51, 51, 47, 47, 47, 53, 50, 59, 42, 122, 123, 115, 116, 65, 66, 52, 85, 86, 53, 94, 95, 54, 313, 314, 69, 70, 52, 49, 50, 51, 61, 60, 61, 51, 293, 294, 51, 51, 47, 47, 47, 53, 50, 59, 42, 120, 121, 118, 119, 65, 66, 52, 85, 86, 53, 89, 90, 54, 288, 289, 69, 70, 52, 49, 50, 51, 61, 60, 61, 51, 310, 311, 51, 51, 47, 47, 47, 53, 50, 59, 42, 120, 121, 118, 119, 65, 66, 52, 85, 86, 53, 89, 90, 54, 306, 307, 69, 70, 52, 49, 50, 51, 61, 60, 61, 51, 337, 338, 51, 51, 47, 47, 47, 53, 50, 59, 42, 117, 118, 116, 117, 65, 66, 52, 85, 86, 53, 94, 95, 54, 303, 304, 69, 70, 52, 49, 50, 51, 61, 60, 61, 51, 292, 293, 51, 51, 47, 47, 47, 53, 50, 59, 42, 122, 123, 113, 114, 65, 66, 52, 85, 86, 53, 94, 95, 54, 298, 299, 69, 70, 52, 49, 50, 51, 61, 60, 61, 51, 298, 299, 51, 51, 47, 47, 47, 53, 50, 59, 42, 117, 118, 119, 120, 65, 66, 52, 85, 86, 53, 94, 95, 54, 289, 290, 69, 70, 52, 49, 50, 51, 61, 60, 61, 51, 311, 312, 51, 51, 47, 47, 47, 53, 50, 59, 42, 119, 120, 115, 116, 65, 66, 52, 85, 86, 53, 92, 93, 54, 299, 300, 69, 70, 52, 49, 50, 51, 61, 60, 61, 51, 283, 284, 51, 51, 47, 47, 47, 53, 50, 59, 42, 120, 121, 116, 117, 65, 66, 52, 85, 86, 53, 94, 95, 54, 309, 310, 69, 70, 52, 49, 50, 51, 61, 60, 61, 51, 303, 304, 51, 51, 47, 47, 47, 53, 50, 59, 42, 122, 123, 119, 120, 65, 66, 52, 85, 86, 53, 94, 95, 54, 325, 326, 69, 70, 52, 49, 50, 51, 61, 60, 61, 51, 285, 286, 51, 51, 47, 47, 47, 53, 50, 59, 42, 121, 122, 116, 117, 65, 66, 52, 85, 86, 53, 88, 89, 54, 316, 317, 69, 70, 52, 49, 50, 51, 61, 60, 61, 51, 307, 308, 51, 51, 47, 47, 47, 53, 50, 59, 42, 117, 118, 124, 125, 65, 66, 52, 85, 86, 53, 94, 95, 54, 323, 324, 69, 70, 52, 49, 50, 51, 61, 60, 61, 51, 317, 318, 51, 51, 47, 47, 47, 53, 50, 59, 42, 120, 121, 115, 116, 65, 66, 52, 85, 86, 53, 93, 94, 54, 305, 306, 69, 70, 52, 49, 50, 51, 61, 60, 61, 51, 309, 310, 51, 51, 47, 47, 47, 53, 50, 59, 42, 120, 121, 118, 119, 65, 66, 52, 85, 86, 53, 94, 95, 54, 281, 282, 69, 70, 52, 49, 50, 51, 61, 60, 61, 51, 295, 296, 51, 51, 47, 47, 47, 53, 50, 59, 42, 120, 121, 119, 120, 65, 66, 52, 85, 86, 53, 94, 95, 54, 284, 285, 69, 70, 52, 49, 50, 51, 61, 60, 61, 51, 300, 301, 51, 51, 47, 47, 47, 53, 50, 59, 42, 118, 119, 117, 118, 65, 66, 52, 85, 86, 53, 89, 90, 54, 296, 297, 69, 70, 52, 49, 50, 51, 61, 60, 61, 51, 312, 313, 51, 51, 47, 47, 47, 53, 50, 59, 42, 121, 122, 120, 121, 65, 66, 52, 85, 86, 53, 94, 95, 54, 290, 291, 69, 70, 52, 49, 50, 51, 61, 60, 61, 51, 305, 306, 51, 51, 47, 47, 47, 53, 50, 59, 42, 118, 119, 121, 122, 65, 66, 52, 85, 86, 53, 94, 95, 54, 310, 311, 69, 70, 52, 49, 50, 51, 61, 60, 61, 51, 293, 294, 51, 51, 47, 47, 47, 53, 50, 59, 42, 122, 123, 116, 117, 65, 66, 52, 85, 86, 53, 89, 90, 54, 320, 321, 69, 70, 52, 49, 50, 51, 61, 60, 61, 51, 299, 300, 51, 51, 47, 47, 47, 53, 50, 59, 42, 120, 121, 117, 118, 65, 66, 52, 85, 86, 53, 94, 95, 54, 302, 303, 69, 70, 52, 49, 50, 51, 61, 60, 61, 51, 292, 293, 51, 51, 47, 47, 47, 53, 50, 59, 42, 117, 118, 116, 117, 65, 66, 52, 85, 86, 53, 89, 90, 54, 291, 292, 69, 70, 52, 49, 50, 51, 61, 60, 61, 51, 292, 293, 51, 51, 47, 47, 47, 53, 50, 59, 42, 121, 122, 115, 116, 65, 66, 52, 85, 86, 53, 94, 95, 54, 307, 308, 69, 70, 52, 49, 50, 51, 61, 60, 61, 51, 295, 296, 51, 51, 47, 47, 47, 53, 50, 59, 42, 120, 121, 118, 119, 65, 66, 52, 85, 86, 53, 89, 90, 54, 307, 308, 69, 70, 52, 49, 50, 51, 61, 60, 61, 51, 311, 312, 51, 51, 47, 47, 47, 53, 50, 59, 42, 121, 122, 115, 116, 65, 66, 52, 85, 86, 53, 94, 95, 54, 304, 305, 69, 70, 52, 49, 50, 51, 61, 60, 61, 51, 299, 300, 51, 51, 47, 47, 47, 53, 50, 59, 42, 120, 121, 116, 117, 65, 66, 52, 85, 86, 53, 89, 90, 54, 306, 307, 69, 70, 52, 49, 50, 51, 61, 60, 61, 51, 299, 300, 51, 51, 47, 47, 47, 53, 50, 59, 42, 118, 119, 114, 115, 65, 66, 52, 85, 86, 53, 89, 90, 54, 315, 316, 69, 70, 52, 49, 50, 51, 61, 60, 61, 51, 307, 308, 51, 51, 47, 47, 47, 53, 50, 59, 42, 120, 121, 114, 115, 65, 66, 52, 85, 86, 53, 89, 90, 54, 278, 279, 69, 70, 52, 49, 50, 51, 61, 60, 61, 51, 309, 310, 51, 51, 47, 47, 47, 53, 50, 59, 42, 119, 120, 114, 115, 65, 66, 52, 85, 86, 53, 94, 95, 54, 317, 318, 69, 70, 52, 49, 50, 51, 61, 60, 61, 51, 301, 302, 51, 51, 47, 47, 47, 53, 50, 59, 42, 121, 122, 115, 116, 65, 66, 52, 85, 86, 53, 89, 90, 54, 300, 301, 69, 70, 52, 49, 50, 51, 61, 60, 61, 51, 293, 294, 51, 51, 47, 47, 47, 53, 50, 59, 42, 121, 122, 114, 115, 65, 66, 52, 85, 86, 53, 88, 89, 54, 304, 305, 69, 70, 52, 49, 50, 51, 61, 60, 61, 51, 301, 302, 51, 51, 47, 47, 47, 53, 50, 59, 42, 117, 118, 118, 119, 65, 66, 52, 85, 86, 53, 93, 94, 54, 324, 325, 69, 70, 52, 49, 50, 51, 61, 60, 61, 51, 314, 315, 51, 51, 47, 47, 47, 53, 50, 59, 42, 120, 121, 117, 118, 65, 66, 52, 85, 86, 53, 94, 95, 54, 314, 315, 69, 70, 52, 49, 50, 51, 61, 60, 61, 51, 294, 295, 51, 51, 47, 47, 47, 53, 50, 59, 42, 117, 118, 111, 112, 65, 66, 52, 85, 86, 53, 94, 95, 54, 310, 311, 69, 70, 52, 49, 50, 51, 61, 60, 61, 51, 312, 313, 51, 51, 47, 47, 47, 53, 50, 59, 42, 120, 121, 117, 118, 65, 66, 52, 85, 86, 53, 94, 95, 54, 283, 284, 69, 70, 52, 49, 50, 51, 61, 60, 61, 51, 305, 306, 51, 51, 47, 47, 47, 53, 50, 59, 42, 120, 121, 117, 118, 65, 66, 52, 85, 86, 53, 89, 90, 54, 311, 312, 69, 70, 52, 49, 50, 51, 61, 60, 61, 51, 299, 300, 51, 51, 47, 47, 47, 53, 50, 59, 42, 121, 122, 113, 114, 65, 66, 52, 85, 86, 53, 94, 95, 54, 295, 296, 69, 70, 52, 49, 50, 51, 61, 60, 61, 51, 309, 310, 51, 51, 47, 47, 47, 53, 50, 59, 42, 122, 123, 116, 117, 65, 66, 52, 85, 86, 53, 94, 95, 54, 301, 302, 69, 70, 52, 49, 50, 51, 61, 60, 61, 51, 291, 292, 51, 51, 47, 47, 47, 53, 50, 59, 42, 117, 118, 112, 113, 65, 66, 52, 85, 86, 53, 89, 90, 54, 296, 297, 69, 70, 52, 49, 50, 51, 61, 60, 61, 51, 296, 297, 51, 51, 47, 47, 47, 53, 50, 59, 42, 121, 122, 117, 118, 65, 66, 52, 85, 86, 53, 89, 90, 54, 306, 307, 69, 70, 52, 49, 50, 51, 61, 60, 61, 51, 292, 293, 51, 51, 47, 47, 47, 53, 50, 59, 42, 117, 118, 117, 118, 65, 66, 52, 85, 86, 53, 89, 90, 54, 309, 310, 69, 70, 52, 49, 50, 51, 61, 60, 61, 51, 279, 280, 51, 51, 47, 47, 47, 53, 50, 59, 42, 121, 122, 112, 113, 65, 66, 52, 85, 86, 53, 89, 90, 54, 315, 316, 69, 70, 52, 49, 50, 51, 61, 60, 61, 51, 287, 288, 51, 51, 47, 47, 47, 53, 50, 59, 42, 117, 118, 111, 112, 65, 66, 52, 85, 86, 53, 94, 95, 54, 320, 321, 69, 70, 52, 49, 50, 51, 61, 60, 61, 51, 305, 306, 51, 51, 47, 47, 47, 53, 50, 59, 42, 122, 123, 118, 119, 65, 66, 52, 85, 86, 53, 89, 90, 54, 297, 298, 69, 70, 52, 49, 50, 51, 61, 60, 61, 51, 297, 298, 51, 51, 47, 47, 47, 53, 50, 59, 42, 121, 122, 118, 119, 65, 66, 52, 85, 86, 53, 89, 90, 54, 295, 296, 69, 70, 52, 49, 50, 51, 61, 60, 61, 51, 290, 291, 51, 51, 47, 47, 47, 53, 50, 59, 42, 121, 122, 114, 115, 65, 66, 52, 85, 86, 53, 89, 90, 54, 301, 302, 69, 70, 52, 49, 50, 51, 61, 60, 61, 51, 292, 293, 51, 51, 47, 47, 47, 53, 50, 59, 42, 118, 119, 122, 123, 65, 66, 52, 85, 86, 53, 89, 90, 54, 290, 291, 69, 70, 52, 49, 50, 51, 61, 60, 61, 51, 294, 295, 51, 51, 47, 47, 47, 53, 50, 59, 42, 122, 123, 121, 122, 65, 66, 52, 85, 86, 53, 94, 95, 54, 298, 299, 69, 70, 52, 49, 50, 51, 61, 60, 61, 51, 278, 279, 51, 51, 47, 47, 47, 53, 50, 59, 42, 121, 122, 118, 119, 65, 66, 52, 85, 86, 53, 89, 90, 54, 317, 318, 69, 70, 52, 49, 50, 51, 61, 60, 61, 51, 297, 298, 51, 51, 47, 47, 47, 53, 50, 59, 42, 117, 118, 115, 116, 65, 66, 52, 85, 86, 53, 89, 90, 54, 288, 289, 69, 70, 52, 49, 50, 51, 61, 60, 61, 51, 292, 293, 51, 51, 47, 47, 47, 53, 50, 59, 42, 121, 122, 117, 118, 65, 66, 52, 85, 86, 53, 89, 90, 54, 294, 295, 69, 70, 52, 49, 50, 51, 61, 60, 61, 51, 288, 289, 51, 51, 47, 47, 47, 53, 50, 59, 42, 118, 119, 111, 112, 65, 66, 52, 85, 86, 53, 89, 90, 54, 296, 297, 69, 70, 52, 49, 50, 51, 61, 60, 61, 51, 302, 303, 51, 51, 47, 47, 47, 53, 50, 59, 42, 118, 119, 115, 116, 65, 66, 52, 85, 86, 53, 89, 90, 54, 303, 304, 69, 70, 52, 49, 50, 51, 61, 60, 61, 51, 290, 291, 51, 51, 47, 47, 47, 53, 50, 59, 42, 117, 118, 122, 123, 65, 66, 52, 85, 86, 53, 89, 90, 54, 318, 319, 69, 70, 52, 49, 50, 51, 61, 60, 61, 51, 294, 295, 51, 51, 47, 47, 47, 53, 50, 59, 42, 122, 123, 120, 121, 65, 66, 52, 85, 86, 53, 94, 95, 54, 277, 278, 69, 70, 52, 49, 50, 51, 61, 60, 61, 51, 299, 300, 51, 51, 47, 47, 47, 53, 50, 59, 42, 121, 122, 120, 121, 65, 66, 52, 85, 86, 53, 94, 95, 54, 291, 292, 69, 70, 52, 49, 50, 51, 61, 60, 61, 51, 316, 317, 51, 51, 47, 47, 47, 53, 50, 59, 42, 121, 122, 119, 120, 65, 66, 52, 85, 86, 53, 88, 89, 54, 301, 302, 69, 70, 52, 49, 50, 51, 61, 60, 61, 51, 327, 328, 51, 51, 47, 47, 47, 53, 50, 59, 42, 117, 118, 120, 121, 65, 66, 52, 85, 86, 53, 89, 90, 54, 302, 303, 69, 70, 52, 49, 50, 51, 61, 60, 61, 51, 304, 305, 51, 51, 47, 47, 47, 53, 50, 59, 42, 117, 118, 116, 117, 65, 66, 52, 85, 86, 53, 94, 95, 54, 303, 304, 69, 70, 52, 49, 50, 51, 61, 60, 61, 51, 284, 285, 51, 51, 47, 47, 47, 53, 50, 59, 42, 120, 121, 120, 121, 65, 66, 52, 85, 86, 53, 89, 90, 54, 285, 286, 69, 70, 52, 49, 50, 51, 61, 60, 61, 51, 303, 304, 51, 51, 47, 47, 47, 53, 50, 59, 42, 118, 119, 121, 122, 65, 66, 52, 85, 86, 53, 94, 95, 54, 282, 283, 69, 70, 52, 49, 50, 51, 61, 60, 61, 51, 284, 285, 51, 51, 47, 47, 47, 53, 50, 59, 42, 117, 118, 127, 128, 65, 66, 52, 85, 86, 53, 94, 95, 54, 287, 288, 69, 70, 52, 49, 50, 51, 61, 60, 61, 51, 290, 291, 51, 51, 47, 47, 47, 53, 50, 59, 42, 121, 122, 114, 115, 65, 66, 52, 85, 86, 53, 94, 95, 54, 271, 272, 69, 70, 52, 49, 50, 51, 61, 60, 61, 51, 306, 307, 51, 51, 47, 47, 47, 53, 50, 59, 42, 117, 118, 116, 117, 65, 66, 52, 85, 86, 53, 89, 90, 54, 310, 311, 69, 70, 52, 49, 50, 51, 61, 60, 61, 51, 283, 284, 51, 51, 47, 47, 47, 53, 50, 59, 42, 119, 120, 115, 116, 65, 66, 52, 85, 86, 53, 89, 90, 54, 287, 288, 69, 70, 52, 49, 50, 51, 61, 60, 61, 51, 308, 309, 51, 51, 47, 47, 47, 53, 50, 59, 42, 118, 119, 119, 120, 65, 66, 52, 85, 86, 53, 88, 89, 54, 295, 296, 69, 70, 52, 49, 50, 51, 61, 60, 61, 51, 285, 286, 51, 51, 47, 47, 47, 53, 50, 59, 42, 120, 121, 121, 122, 65, 66, 52, 85, 86, 53, 94, 95, 54, 340, 341, 69, 70, 52, 49, 50, 51, 61, 60, 61, 51, 315, 316, 51, 51, 47, 47, 47, 53, 50, 59, 42, 120, 121, 116, 117, 65, 66, 52, 85, 86, 53, 94, 95, 54, 304, 305, 69, 70, 52, 49, 50, 51, 61, 60, 61, 51, 289, 290, 51, 51, 47, 47, 47, 53, 50, 59, 42, 121, 122, 111, 112, 65, 66, 52, 85, 86, 53, 89, 90, 54, 304, 305, 69, 70, 52, 49, 50, 51, 61, 60, 61, 51, 283, 284, 51, 51, 47, 47, 47, 53, 50, 59, 42, 121, 122, 113, 114, 65, 66, 52, 85, 86, 53, 89, 90, 54, 287, 288, 69, 70, 52, 49, 50, 51, 61, 60, 61, 51, 309, 310, 51, 51, 47, 47, 47, 53, 50, 59, 42, 118, 119, 114, 115, 65, 66, 52, 85, 86, 53, 89, 90, 54, 313, 314, 69, 70, 52, 49, 50, 51, 61, 60, 61, 51, 309, 310, 51, 51, 47, 47, 47, 53, 50, 59, 42, 120, 121, 117, 118, 65, 66, 52, 85, 86, 53, 89, 90, 54, 308, 309, 69, 70, 52, 49, 50, 51, 61, 60, 61, 51, 280, 281, 51, 51, 47, 47, 47, 53, 50, 59, 42, 121, 122, 118, 119, 65, 66, 52, 85, 86, 53, 89, 90, 54, 287, 288, 69, 70, 52, 49, 50, 51, 61, 60, 61, 51, 292, 293, 51, 51, 47, 47, 47, 53, 50, 59, 42, 121, 122, 120, 121, 65, 66, 52, 85, 86, 53, 94, 95, 54, 307, 308, 69, 70, 52, 49, 50, 51, 61, 60, 61, 51, 300, 301, 51, 51, 47, 47, 47, 53, 50, 59, 42, 116, 117, 120, 121, 65, 66, 52, 85, 86, 53, 93, 94, 54, 292, 293, 69, 70, 52, 49, 50, 51, 61, 60, 61, 51, 298, 299, 51, 51, 47, 47, 47, 53, 50, 59, 42, 121, 122, 123, 124, 65, 66, 52, 85, 86, 53, 89, 90, 54, 308, 309, 69, 70, 52, 49, 50, 51, 61, 60, 61, 51, 318, 319, 51, 51, 47, 47, 47, 53, 50, 59, 42, 121, 122, 115, 116, 65, 66, 52, 85, 86, 53, 94, 95, 54, 284, 285, 69, 70, 52, 49, 50, 51, 61, 60, 61, 51, 309, 310, 51, 51, 47, 47, 47, 53, 50, 59, 42, 117, 118, 116, 117, 65, 66, 52, 85, 86, 53, 94, 95, 54, 299, 300, 69, 70, 52, 49, 50, 51, 61, 60, 61, 51, 296, 297, 51, 51, 47, 47, 47, 53, 50, 59, 42, 120, 121, 115, 116, 65, 66, 52, 85, 86, 53, 89, 90, 54, 321, 322, 69, 70, 52, 49, 50, 51, 61, 60, 61, 51, 318, 319, 51, 51, 47, 47, 47, 53, 50, 59, 42, 117, 118, 121, 122, 65, 66, 52, 85, 86, 53, 94, 95, 54, 353, 354, 69, 70, 52, 49, 50, 51, 61, 60, 61, 51, 302, 303, 51, 51, 47, 47, 47, 53, 50, 59, 42, 121, 122, 121, 122, 65, 66, 52, 85, 86, 53, 88, 89, 54, 309, 310, 69, 70, 52, 49, 50, 51, 61, 60, 61, 51, 296, 297, 51, 51, 47, 47, 47, 53, 50, 59, 42, 118, 119, 116, 117, 65, 66, 52, 85, 86, 53, 94, 95, 54, 302, 303, 69, 70, 52, 49, 50, 51, 61, 60, 61, 51, 304, 305, 51, 51, 47, 47, 47, 53, 50, 59, 42, 121, 122, 117, 118, 65, 66, 52, 85, 86, 53, 89, 90, 54, 304, 305, 69, 70, 52, 49, 50, 51, 61, 60, 61, 51, 285, 286, 51, 51, 47, 47, 47, 53, 50, 59, 42, 120, 121, 118, 119, 65, 66, 52, 85, 86, 53, 94, 95, 54, 288, 289, 69, 70, 52, 49, 50, 51, 61, 60, 61, 51, 312, 313, 51, 51, 47, 47, 47, 53, 50, 59, 42, 120, 121, 114, 115, 65, 66, 52, 85, 86, 53, 89, 90, 54, 294, 295, 69, 70, 52, 49, 50, 51, 61, 60, 61, 51, 294, 295, 51, 51, 47, 47, 47, 53, 50, 59, 42, 121, 122, 123, 124, 65, 66, 52, 85, 86, 53, 94, 95, 54, 303, 304, 69, 70, 52, 49, 50, 51, 61, 60, 61, 51, 288, 289, 51, 51, 47, 47, 47, 53, 50, 59, 42, 118, 119, 116, 117, 65, 66, 52, 85, 86, 53, 94, 95, 54, 276, 277, 69, 70, 52, 49, 50, 51, 61, 60, 61, 51, 287, 288, 51, 51, 47, 47, 47, 53, 50, 59, 42, 117, 118, 127, 128, 65, 66, 52, 85, 86, 53, 89, 90, 54, 310, 311, 69, 70, 52, 49, 50, 51, 61, 60, 61, 51, 323, 324, 51, 51, 47, 47, 47, 53, 50, 59, 42, 121, 122, 115, 116, 65, 66, 52, 85, 86, 53, 89, 90, 54, 297, 298, 69, 70, 52, 49, 50, 51, 61, 60, 61, 51, 297, 298, 51, 51, 47, 47, 47, 53, 50, 59, 42, 122, 123, 120, 121, 65, 66, 52, 85, 86, 53, 94, 95, 54, 312, 313, 69, 70, 52, 49, 50, 51, 61, 60, 61, 51, 303, 304, 51, 51, 47, 47, 47, 53, 50, 59, 42, 120, 121, 115, 116, 65, 66, 52, 85, 86, 53, 89, 90, 54, 298, 299, 69, 70, 52, 49, 50, 51, 61, 60, 61, 51, 312, 313, 51, 51, 47, 47, 47, 53, 50, 59, 42, 119, 120, 119, 120, 65, 66, 52, 85, 86, 53, 89, 90, 54, 300, 301, 69, 70, 52, 49, 50, 51, 61, 60, 61, 51, 280, 281, 51, 51, 47, 47, 47, 53, 50, 59, 42, 121, 122, 120, 121, 65, 66, 52, 85, 86, 53, 94, 95, 54, 304, 305, 69, 70, 52, 49, 50, 51, 61, 60, 61, 51, 278, 279, 51, 51, 47, 47, 47, 53, 50, 59, 42, 121, 122, 120, 121, 65, 66, 52, 85, 86, 53, 89, 90, 54, 295, 296, 69, 70, 52, 49, 50, 51, 61, 60, 61, 51, 314, 315, 51, 51, 47, 47, 47, 53, 50, 59, 42, 118, 119, 117, 118, 65, 66, 52, 85, 86, 53, 89, 90, 54, 295, 296, 69, 70, 52, 49, 50, 51, 61, 60, 61, 51, 292, 293, 51, 51, 47, 47, 47, 53, 50, 59, 42, 122, 123, 116, 117, 65, 66, 52, 85, 86, 53, 94, 95, 54, 286, 287, 69, 70, 52, 49, 50, 51, 61, 60, 61, 51, 297, 298, 51, 51, 47, 47, 47, 53, 50, 59, 42, 122, 123, 113, 114, 65, 66, 52, 85, 86, 53, 88, 89, 54, 321, 322, 69, 70, 52, 49, 50, 51, 61, 60, 61, 51, 299, 300, 51, 51, 47, 47, 47, 53, 50, 59, 42, 120, 121, 114, 115, 65, 66, 52, 85, 86, 53, 94, 95, 54, 286, 287, 69, 70, 52, 49, 50, 51, 61, 60, 61, 51, 284, 285, 51, 51, 47, 47, 47, 53, 50, 59, 42, 121, 122, 114, 115, 65, 66, 52, 85, 86, 53, 94, 95, 54, 283, 284, 69, 70, 52, 49, 50, 51, 61, 60, 61, 51, 275, 276, 51, 51, 47, 47, 47, 53, 50, 59, 42, 120, 121, 120, 121, 65, 66, 52, 85, 86, 53, 89, 90, 54, 292, 293, 69, 70, 52, 49, 50, 51, 61, 60, 61, 51, 293, 294, 51, 51, 47, 47, 47, 53, 50, 59, 42, 120, 121, 116, 117, 65, 66, 52, 85, 86, 53, 89, 90, 54, 311, 312, 69, 70, 52, 49, 50, 51, 61, 60, 61, 51, 293, 294, 51, 51, 47, 47, 47, 53, 50, 59, 42, 116, 117, 117, 118, 65, 66, 52, 85, 86, 53, 88, 89, 54, 296, 297, 69, 70, 52, 49, 50, 51, 61, 60, 61, 51, 315, 316, 51, 51, 47, 47, 47, 53, 50, 59, 42, 118, 119, 114, 115, 65, 66, 52, 85, 86, 53, 94, 95, 54, 295, 296, 69, 70, 52, 49, 50, 51, 61, 60, 61, 51, 304, 305, 51, 51, 47, 47, 47, 53, 50, 59, 42, 122, 123, 121, 122, 65, 66, 52, 85, 86, 53, 94, 95, 54, 306, 307, 69, 70, 52, 49, 50, 51, 61, 60, 61, 51, 288, 289, 51, 51, 47, 47, 47, 53, 50, 59, 42, 118, 119, 124, 125, 65, 66, 52, 85, 86, 53, 94, 95, 54, 284, 285, 69, 70, 52, 49, 50, 51, 61, 60, 61, 51, 295, 296, 51, 51, 47, 47, 47, 53, 50, 59, 42, 117, 118, 117, 118, 65, 66, 52, 85, 86, 53, 94, 95, 54, 296, 297, 69, 70, 52, 49, 50, 51, 61, 60, 61, 51, 289, 290, 51, 51, 47, 47, 47, 53, 50, 59, 42, 119, 120, 117, 118, 65, 66, 52, 85, 86, 53, 89, 90, 54, 299, 300, 69, 70, 52, 49, 50, 51, 61, 60, 61, 51, 317, 318, 51, 51, 47, 47, 47, 53, 50, 59, 42, 117, 118, 119, 120, 65, 66, 52, 85, 86, 53, 89, 90, 54, 282, 283, 69, 70, 52, 49, 50, 51, 61, 60, 61, 51, 288, 289, 51, 51, 47, 47, 47, 53, 50, 59, 42, 121, 122, 122, 123, 65, 66, 52, 85, 86, 53, 88, 89, 54, 319, 320, 69, 70, 52, 49, 50, 51, 61, 60, 61, 51, 300, 301, 51, 51, 47, 47, 47, 53, 50, 59, 42, 118, 119, 118, 119, 65, 66, 52, 85, 86, 53, 89, 90, 54, 296, 297, 69, 70, 52, 49, 50, 51, 61, 60, 61, 51, 284, 285, 51, 51, 47, 47, 47, 53, 50, 59, 42, 121, 122, 116, 117, 65, 66, 52, 85, 86, 53, 89, 90, 54, 309, 310, 69, 70, 52, 49, 50, 51, 61, 60, 61, 51, 322, 323, 51, 51, 47, 47, 47, 53, 50, 59, 42, 121, 122, 118, 119, 65, 66, 52, 85, 86, 53, 87, 88, 54, 290, 291, 69, 70, 52, 49, 50, 51, 61, 60, 61, 51, 296, 297, 51, 51, 47, 47, 47, 53, 50, 59, 42, 117, 118, 116, 117, 65, 66, 52, 85, 86, 53, 89, 90, 54, 311, 312, 69, 70, 52, 49, 50, 51, 61, 60, 61, 51, 297, 298, 51, 51, 47, 47, 47, 53, 50, 59, 42, 118, 119, 116, 117, 65, 66, 52, 85, 86, 53, 94, 95, 54, 301, 302, 69, 70, 52, 49, 50, 51, 61, 60, 61, 51, 283, 284, 51, 51, 47, 47, 47, 53, 50, 59, 42, 117, 118, 114, 115, 65, 66, 52, 85, 86, 53, 89, 90, 54, 307, 308, 69, 70, 52, 49, 50, 51, 61, 60, 61, 51, 319, 320, 51, 51, 47, 47, 47, 53, 50, 59, 42, 122, 123, 117, 118, 65, 66, 52, 85, 86, 53, 94, 95, 54, 290, 291, 69, 70, 52, 49, 50, 51, 61, 60, 61, 51, 298, 299, 51, 51, 47, 47, 47, 53, 50, 59, 42, 121, 122, 119, 120, 65, 66, 52, 85, 86, 53, 94, 95, 54, 309, 310, 69, 70, 52, 49, 50, 51, 61, 60, 61, 51, 294, 295, 51, 51, 47, 47, 47, 53, 50, 59, 42, 120, 121, 116, 117, 65, 66, 52, 85, 86, 53, 89, 90, 54, 300, 301, 69, 70, 52, 49, 50, 51, 61, 60, 61, 51, 298, 299, 51, 51, 47, 47, 47, 53, 50, 59, 42, 122, 123, 120, 121, 65, 66, 52, 85, 86, 53, 94, 95, 54, 281, 282, 69, 70, 52, 49, 50, 51, 61, 60, 61, 51, 287, 288, 51, 51, 47, 47, 47, 53, 50, 59, 42, 117, 118, 117, 118, 65, 66, 52, 85, 86, 53, 89, 90, 54, 297, 298, 69, 70, 52, 49, 50, 51, 61, 60, 61, 51, 290, 291, 51, 51, 47, 47, 47, 53, 50, 59, 42, 121, 122, 116, 117, 65, 66, 52, 85, 86, 53, 89, 90, 54, 297, 298, 69, 70, 52, 49, 50, 51, 61, 60, 61, 51, 313, 314, 51, 51, 47, 47, 47, 53, 50, 59, 42, 118, 119, 115, 116, 65, 66, 52, 85, 86, 53, 89, 90, 54, 308, 309, 69, 70, 52, 49, 50, 51, 61, 60, 61, 51, 284, 285, 51, 51, 47, 47, 47, 53, 50, 59, 42, 117, 118, 121, 122, 65, 66, 52, 85, 86, 53, 89, 90, 54, 305, 306, 69, 70, 52, 49, 50, 51, 61, 60, 61, 51, 322, 323, 51, 51, 47, 47, 47, 53, 50, 59, 42, 120, 121, 117, 118, 65, 66, 52, 85, 86, 53, 94, 95, 54, 294, 295, 69, 70, 52, 49, 50, 51, 61, 60, 61, 51, 304, 305, 51, 51, 47, 47, 47, 53, 50, 59, 42, 121, 122, 120, 121, 65, 66, 52, 85, 86, 53, 94, 95, 54, 328, 329, 69, 70, 52, 49, 50, 51, 61, 60, 61, 51, 317, 318, 51, 51, 47, 47, 47, 53, 50, 59, 42, 120, 121, 117, 118, 65, 66, 52, 85, 86, 53, 94, 95, 54, 302, 303, 69, 70, 52, 49, 50, 51, 61, 60, 61, 51, 328, 329, 51, 51, 47, 47, 47, 53, 50, 59, 42, 120, 121, 117, 118, 65, 66, 52, 85, 86, 53, 89, 90, 54, 299, 300, 69, 70, 52, 49, 50, 51, 61, 60, 61, 51, 307, 308, 51, 51, 47, 47, 47, 53, 50, 59, 42, 118, 119, 114, 115, 65, 66, 52, 85, 86, 53, 94, 95, 54, 298, 299, 69, 70, 52, 49, 50, 51, 61, 60, 61, 51, 299, 300, 51, 51, 47, 47, 47, 53, 50, 59, 42, 117, 118, 117, 118, 65, 66, 52, 85, 86, 53, 94, 95, 54, 300, 301, 69, 70, 52, 49, 50, 51, 61, 60, 61, 51, 316, 317, 51, 51, 47, 47, 47, 53, 50, 59, 42, 118, 119, 118, 119, 65, 66, 52, 85, 86, 53, 94, 95, 54, 309, 310, 69, 70, 52, 49, 50, 51, 61, 60, 61, 51, 301, 302, 51, 51, 47, 47, 47, 53, 50, 59, 42, 121, 122, 113, 114, 65, 66, 52, 85, 86, 53, 89, 90, 54, 300, 301, 69, 70, 52, 49, 50, 51, 61, 60, 61, 51, 299, 300, 51, 51, 47, 47, 47, 53, 50, 59, 42, 117, 118, 121, 122, 65, 66, 52, 85, 86, 53, 89, 90, 54, 293, 294, 69, 70, 52, 49, 50, 51, 61, 60, 61, 51, 308, 309, 51, 51, 47, 47, 47, 53, 50, 59, 42, 121, 122, 118, 119, 65, 66, 52, 85, 86, 53, 89, 90, 54, 309, 310, 69, 70, 52, 49, 50, 51, 61, 60, 61, 51, 299, 300, 51, 51, 47, 47, 47, 53, 50, 59, 42, 121, 122, 111, 112, 65, 66, 52, 85, 86, 53, 89, 90, 54, 294, 295, 69, 70, 52, 49, 50, 51, 61, 60, 61, 51, 297, 298, 51, 51, 47, 47, 47, 53, 50, 59, 42, 117, 118, 119, 120, 65, 66, 52, 85, 86, 53, 93, 94, 54, 313, 314, 69, 70, 52, 49, 50, 51, 61, 60, 61, 51, 285, 286, 51, 51, 47, 47, 47, 53, 50, 59, 42, 121, 122, 113, 114, 65, 66, 52, 85, 86, 53, 89, 90, 54, 284, 285, 69, 70, 52, 49, 50, 51, 61, 60, 61, 51, 298, 299, 51, 51, 47, 47, 47, 53, 50, 59, 42, 120, 121, 120, 121, 65, 66, 52, 85, 86, 53, 89, 90, 54, 281, 282, 69, 70, 52, 49, 50, 51, 61, 60, 61, 51, 290, 291, 51, 51, 47, 47, 47, 53, 50, 59, 42, 117, 118, 113, 114, 65, 66, 52, 85, 86, 53, 89, 90, 54, 306, 307, 69, 70, 52, 49, 50, 51, 61, 60, 61, 51, 299, 300, 51, 51, 47, 47, 47, 53, 50, 59, 42, 117, 118, 112, 113, 65, 66, 52, 85, 86, 53, 89, 90, 54, 286, 287, 69, 70, 52, 49, 50, 51, 61, 60, 61, 51, 325, 326, 51, 51, 47, 47, 47, 53, 50, 59, 42, 121, 122, 116, 117, 65, 66, 52, 85, 86, 53, 89, 90, 54, 319, 320, 69, 70, 52, 49, 50, 51, 61, 60, 61, 51, 308, 309, 51, 51, 47, 47, 47, 53, 50, 59, 42, 121, 122, 117, 118, 65, 66, 52, 85, 86, 53, 89, 90, 54, 300, 301, 69, 70, 52, 49, 50, 51, 61, 60, 61, 51, 316, 317, 51, 51, 47, 47, 47, 53, 50, 59, 42, 121, 122, 119, 120, 65, 66, 52, 85, 86, 53, 89, 90, 54, 304, 305, 69, 70, 52, 49, 50, 51, 61, 60, 61, 51, 296, 297, 51, 51, 47, 47, 47, 53, 50, 59, 42, 121, 122, 118, 119, 65, 66, 52, 85, 86, 53, 89, 90, 54, 299, 300, 69, 70, 52, 49, 50, 51, 61, 60, 61, 51, 302, 303, 51, 51, 47, 47, 47, 53, 50, 59, 42, 122, 123, 119, 120, 65, 66, 52, 85, 86, 53, 93, 94, 54, 309, 310, 69, 70, 52, 49, 50, 51, 61, 60, 61, 51, 305, 306, 51, 51, 47, 47, 47, 53, 50, 59, 42, 117, 118, 118, 119, 65, 66, 52, 85, 86, 53, 94, 95, 54, 283, 284, 69, 70, 52, 49, 50, 51, 61, 60, 61, 51, 297, 298, 51, 51, 47, 47, 47, 53, 50, 59, 42, 120, 121, 114, 115, 65, 66, 52, 85, 86, 53, 94, 95, 54, 308, 309, 69, 70, 52, 49, 50, 51, 61, 60, 61, 51, 327, 328, 51, 51, 47, 47, 47, 53, 50, 59, 42, 121, 122, 114, 115, 65, 66, 52, 85, 86, 53, 94, 95, 54, 300, 301, 69, 70, 52, 49, 50, 51, 61, 60, 61, 51, 298, 299, 51, 51, 47, 47, 47, 53, 50, 59, 42, 117, 118, 121, 122, 65, 66, 52, 85, 86, 53, 89, 90, 54, 312, 313, 69, 70, 52, 49, 50, 51, 61, 60, 61, 51, 287, 288, 51, 51, 47, 47, 47, 53, 50, 59, 42, 122, 123, 118, 119, 65, 66, 52, 85, 86, 53, 89, 90, 54, 301, 302, 69, 70, 52, 49, 50, 51, 61, 60, 61, 51, 303, 304, 51, 51, 47, 47, 47, 53, 50, 59, 42, 117, 118, 118, 119, 65, 66, 52, 85, 86, 53, 89, 90, 54, 292, 293, 69, 70, 52, 49, 50, 51, 61, 60, 61, 51, 307, 308, 51, 51, 47, 47, 47, 53, 50, 59, 42, 117, 118, 120, 121, 65, 66, 52, 85, 86, 53, 89, 90, 54, 309, 310, 69, 70, 52, 49, 50, 51, 61, 60, 61, 51, 296, 297, 51, 51, 47, 47, 47, 53, 50, 59, 42, 117, 118, 115, 116, 65, 66, 52, 85, 86, 53, 94, 95, 54, 282, 283, 69, 70, 52, 49, 50, 51, 61, 60, 61, 51, 305, 306, 51, 51, 47, 47, 47, 53, 50, 59, 42, 118, 119, 120, 121, 65, 66, 52, 85, 86, 53, 89, 90, 54, 298, 299, 69, 70, 52, 49, 50, 51, 61, 60, 61, 51, 288, 289, 51, 51, 47, 47, 47, 53, 50, 59, 42, 120, 121, 114, 115, 65, 66, 52, 85, 86, 53, 89, 90, 54, 306, 307, 69, 70, 52, 49, 50, 51, 61, 60, 61, 51, 274, 275, 51, 51, 47, 47, 47, 53, 50, 59, 42, 122, 123, 118, 119, 65, 66, 52, 85, 86, 53, 89, 90, 54, 300, 301, 69, 70, 52, 49, 50, 51, 61, 60, 61, 51, 305, 306, 51, 51, 47, 47, 47, 53, 50, 59, 42, 117, 118, 113, 114, 65, 66, 52, 85, 86, 53, 94, 95, 54, 300, 301, 69, 70, 52, 49, 50, 51, 61, 60, 61, 51, 288, 289, 51, 51, 47, 47, 47, 53, 50, 59, 42, 121, 122, 118, 119, 65, 66, 52, 85, 86, 53, 94, 95, 54, 297, 298, 69, 70, 52, 49, 50, 51, 61, 60, 61, 51, 299, 300, 51, 51, 47, 47, 47, 53, 50, 59, 42, 117, 118, 118, 119, 65, 66, 52, 85, 86, 53, 94, 95, 54, 287, 288, 69, 70, 52, 49, 50, 51, 61, 60, 61, 51, 297, 298, 51, 51, 47, 47, 47, 53, 50, 59, 42, 117, 118, 117, 118, 65, 66, 52, 85, 86, 53, 94, 95, 54, 300, 301, 69, 70, 52, 49, 50, 51, 61, 60, 61, 51, 314, 315, 51, 51, 47, 47, 47, 53, 50, 59, 42, 119, 120, 115, 116, 65, 66, 52, 85, 86, 53, 94, 95, 54, 294, 295, 69, 70, 52, 49, 50, 51, 61, 60, 61, 51, 288, 289, 51, 51, 47, 47, 47, 53, 50, 59, 42, 118, 119, 117, 118, 65, 66, 52, 85, 86, 53, 94, 95, 54, 313, 314, 69, 70, 52, 49, 50, 51, 61, 60, 61, 51, 288, 289, 51, 51, 47, 47, 47, 53, 50, 59, 42, 118, 119, 118, 119, 65, 66, 52, 85, 86, 53, 94, 95, 54, 302, 303, 69, 70, 52, 49, 50, 51, 61, 60, 61, 51, 286, 287, 51, 51, 47, 47, 47, 53, 50, 59, 42, 119, 120, 120, 121, 65, 66, 52, 85, 86, 53, 94, 95, 54, 297, 298, 69, 70, 52, 49, 50, 51, 61, 60, 61, 51, 295, 296, 51, 51, 47, 47, 47, 53, 50, 59, 42, 121, 122, 114, 115, 65, 66, 52, 85, 86, 53, 94, 95, 54, 314, 315, 69, 70, 52, 49, 50, 51, 61, 60, 61, 51, 292, 293, 51, 51, 47, 47, 47, 53, 50, 59, 42, 117, 118, 114, 115, 65, 66, 52, 85, 86, 53, 89, 90, 54, 286, 287, 69, 70, 52, 49, 50, 51, 61, 60, 61, 51, 305, 306, 51, 51, 47, 47, 47, 53, 50, 59, 42, 117, 118, 115, 116, 65, 66, 52, 85, 86, 53, 89, 90, 54, 274, 275, 69, 70, 52, 49, 50, 51, 61, 60, 61, 51, 307, 308, 51, 51, 47, 47, 47, 53, 50, 59, 42, 120, 121, 114, 115, 65, 66, 52, 85, 86, 53, 89, 90, 54, 323, 324, 69, 70, 52, 49, 50, 51, 61, 60, 61, 51, 316, 317, 51, 51, 47, 47, 47, 53, 50, 59, 42, 121, 122, 115, 116, 65, 66, 52, 85, 86, 53, 91, 92, 54, 298, 299, 69, 70, 52, 49, 50, 51, 61, 60, 61, 51, 293, 294, 51, 51, 47, 47, 47, 53, 50, 59, 42, 120, 121, 115, 116, 65, 66, 52, 85, 86, 53, 94, 95, 54, 284, 285, 69, 70, 52, 49, 50, 51, 61, 60, 61, 51, 281, 282, 51, 51, 47, 47, 47, 53, 50, 59, 42, 117, 118, 116, 117, 65, 66, 52, 85, 86, 53, 89, 90, 54, 338, 339, 69, 70, 52, 49, 50, 51, 61, 60, 61, 51, 306, 307, 51, 51, 47, 47, 47, 53, 50, 59, 42, 122, 123, 115, 116, 65, 66, 52, 85, 86, 53, 94, 95, 54, 297, 298, 69, 70, 52, 49, 50, 51, 61, 60, 61, 51, 301, 302, 51, 51, 47, 47, 47, 53, 50, 59, 42, 120, 121, 120, 121, 65, 66, 52, 85, 86, 53, 89, 90, 54, 308, 309, 69, 70, 52, 49, 50, 51, 61, 60, 61, 51, 315, 316, 51, 51, 47, 47, 47, 53, 50, 59, 42, 122, 123, 115, 116, 65, 66, 52, 85, 86, 53, 89, 90, 54, 296, 297, 69, 70, 52, 49, 50, 51, 61, 60, 61, 51, 296, 297, 51, 51, 47, 47, 47, 53, 50, 59, 42, 121, 122, 118, 119, 65, 66, 52, 85, 86, 53, 94, 95, 54, 315, 316, 69, 70, 52, 49, 50, 51, 61, 60, 61, 51, 309, 310, 51, 51, 47, 47, 47, 53, 50, 59, 42, 120, 121, 119, 120, 65, 66, 52, 85, 86, 53, 89, 90, 54, 315, 316, 69, 70, 52, 49, 50, 51, 61, 60, 61, 51, 313, 314, 51, 51, 47, 47, 47, 53, 50, 59, 42, 120, 121, 108, 109, 65, 66, 52, 85, 86, 53, 94, 95, 54, 311, 312, 69, 70, 52, 49, 50, 51, 61, 60, 61, 51, 297, 298, 51, 51, 47, 47, 47, 53, 50, 59, 42, 117, 118, 115, 116, 65, 66, 52, 85, 86, 53, 89, 90, 54, 293, 294, 69, 70, 52, 49, 50, 51, 61, 60, 61, 51, 338, 339, 51, 51, 47, 47, 47, 53, 50, 59, 42, 117, 118, 117, 118, 65, 66, 52, 85, 86, 53, 94, 95, 54, 282, 283, 69, 70, 52, 49, 50, 51, 61, 60, 61, 51, 288, 289, 51, 51, 47, 47, 47, 53, 50, 59, 42, 122, 123, 116, 117, 65, 66, 52, 85, 86, 53, 94, 95, 54, 280, 281, 69, 70, 52, 49, 50, 51, 61, 60, 61, 51, 302, 303, 51, 51, 47, 47, 47, 53, 50, 59, 42, 121, 122, 119, 120, 65, 66, 52, 85, 86, 53, 88, 89, 54, 286, 287, 69, 70, 52, 49, 50, 51, 61, 60, 61, 51, 310, 311, 51, 51, 47, 47, 47, 53, 50, 59, 42, 121, 122, 117, 118, 65, 66, 52, 85, 86, 53, 94, 95, 54, 294, 295, 69, 70, 52, 49, 50, 51, 61, 60, 61, 51, 275, 276, 51, 51, 47, 47, 47, 53, 50, 59, 42, 117, 118, 117, 118, 65, 66, 52, 85, 86, 53, 89, 90, 54, 290, 291, 69, 70, 52, 49, 50, 51, 61, 60, 61, 51, 286, 287, 51, 51, 47, 47, 47, 53, 50, 59, 42, 121, 122, 114, 115, 65, 66, 52, 85, 86, 53, 89, 90, 54, 286, 287, 69, 70, 52, 49, 50, 51, 61, 60, 61, 51, 290, 291, 51, 51, 47, 47, 47, 53, 50, 59, 42, 121, 122, 117, 118, 65, 66, 52, 85, 86, 53, 94, 95, 54, 305, 306, 69, 70, 52, 49, 50, 51, 61, 60, 61, 51, 304, 305, 51, 51, 47, 47, 47, 53, 50, 59, 42, 121, 122, 118, 119, 65, 66, 52, 85, 86, 53, 89, 90, 54, 286, 287, 69, 70, 52, 49, 50, 51, 61, 60, 61, 51, 278, 279, 51, 51, 47, 47, 47, 53, 50, 59, 42, 119, 120, 119, 120, 65, 66, 52, 85, 86, 53, 93, 94, 54, 323, 324, 69, 70, 52, 49, 50, 51, 61, 60, 61, 51, 289, 290, 51, 51, 47, 47, 47, 53, 50, 59, 42, 120, 121, 116, 117, 65, 66, 52, 85, 86, 53, 94, 95, 54, 298, 299, 69, 70, 52, 49, 50, 51, 61, 60, 61, 51, 304, 305, 51, 51, 47, 47, 47, 53, 50, 59, 42, 121, 122, 117, 118, 65, 66, 52, 85, 86, 53, 89, 90, 54, 300, 301, 69, 70, 52, 49, 50, 51, 61, 60, 61, 51, 313, 314, 51, 51, 47, 47, 47, 53, 50, 59, 42, 121, 122, 120, 121, 65, 66, 52, 85, 86, 53, 94, 95, 54, 296, 297, 69, 70, 52, 49, 50, 51, 61, 60, 61, 51, 291, 292, 51, 51, 47, 47, 47, 53, 50, 59, 42, 118, 119, 117, 118, 65, 66, 52, 85, 86, 53, 94, 95, 54, 281, 282, 69, 70, 52, 49, 50, 51, 61, 60, 61, 51, 285, 286, 51, 51, 47, 47, 47, 53, 50, 59, 42, 121, 122, 115, 116, 65, 66, 52, 85, 86, 53, 93, 94, 54, 304, 305, 69, 70, 52, 49, 50, 51, 61, 60, 61, 51, 293, 294, 51, 51, 47, 47, 47, 53, 50, 59, 42, 120, 121, 115, 116, 65, 66, 52, 85, 86, 53, 94, 95, 54, 302, 303, 69, 70, 52, 49, 50, 51, 61, 60, 61, 51, 303, 304, 51, 51, 47, 47, 47, 53, 50, 59, 42, 121, 122, 113, 114, 65, 66, 52, 85, 86, 53, 89, 90, 54, 296, 297, 69, 70, 52, 49, 50, 51, 61, 60, 61, 51, 288, 289, 51, 51, 47, 47, 47, 53, 50, 59, 42, 117, 118, 118, 119, 65, 66, 52, 85, 86, 53, 89, 90, 54, 295, 296, 69, 70, 52, 49, 50, 51, 61, 60, 61, 51, 325, 326, 51, 51, 47, 47, 47, 53, 50, 59, 42, 121, 122, 119, 120, 65, 66, 52, 85, 86, 53, 89, 90, 54, 289, 290, 69, 70, 52, 49, 50, 51, 61, 60, 61, 51, 319, 320, 51, 51, 47, 47, 47, 53, 50, 59, 42, 121, 122, 116, 117, 65, 66, 52, 85, 86, 53, 92, 93, 54, 317, 318, 69, 70, 52, 49, 50, 51, 61, 60, 61, 51, 308, 309, 51, 51, 47, 47, 47, 53, 50, 59, 42, 119, 120, 116, 117, 65, 66, 52, 85, 86, 53, 94, 95, 54, 308, 309, 69, 70, 52, 49, 50, 51, 61, 60, 61, 51, 294, 295, 51, 51, 47, 47, 47, 53, 50, 59, 42, 121, 122, 116, 117, 65, 66, 52, 85, 86, 53, 89, 90, 54, 273, 274, 69, 70, 52, 49, 50, 51, 61, 60, 61, 51, 295, 296, 51, 51, 47, 47, 47, 53, 50, 59, 42, 117, 118, 114, 115, 65, 66, 52, 85, 86, 53, 94, 95, 54, 278, 279, 69, 70, 52, 49, 50, 51, 61, 60, 61, 51, 286, 287, 51, 51, 47, 47, 47, 53, 50, 59, 42, 120, 121, 121, 122, 65, 66, 52, 85, 86, 53, 89, 90, 54, 284, 285, 69, 70, 52, 49, 50, 51, 61, 60, 61, 51, 297, 298, 51, 51, 47, 47, 47, 53, 50, 59, 42, 122, 123, 112, 113, 65, 66, 52, 85, 86, 53, 89, 90, 54, 302, 303, 69, 70, 52, 49, 50, 51, 61, 60, 61, 51, 294, 295, 51, 51, 47, 47, 47, 53, 50, 59, 42, 122, 123, 117, 118, 65, 66, 52, 85, 86, 53, 89, 90, 54, 309, 310, 69, 70, 52, 49, 50, 51, 61, 60, 61, 51, 289, 290, 51, 51, 47, 47, 47, 53, 50, 59, 42, 122, 123, 118, 119, 65, 66, 52, 85, 86, 53, 88, 89, 54, 300, 301, 69, 70, 52, 49, 50, 51, 61, 60, 61, 51, 297, 298, 51, 51, 47, 47, 47, 53, 50, 59, 42, 121, 122, 118, 119, 65, 66, 52, 85, 86, 53, 94, 95, 54, 286, 287, 69, 70, 52, 49, 50, 51, 61, 60, 61, 51, 306, 307, 51, 51, 47, 47, 47, 53, 50, 59, 42, 117, 118, 111, 112, 65, 66, 52, 85, 86, 53, 94, 95, 54, 318, 319, 69, 70, 52, 49, 50, 51, 61, 60, 61, 51, 297, 298, 51, 51, 47, 47, 47, 53, 50, 59, 42, 117, 118, 118, 119, 65, 66, 52, 85, 86, 53, 89, 90, 54, 291, 292, 69, 70, 52, 49, 50, 51, 61, 60, 61, 51, 305, 306, 51, 51, 47, 47, 47, 53, 50, 59, 42, 120, 121, 119, 120, 65, 66, 52, 85, 86, 53, 94, 95, 54, 287, 288, 69, 70, 52, 49, 50, 51, 61, 60, 61, 51, 315, 316, 51, 51, 47, 47, 47, 53, 50, 59, 42, 120, 121, 120, 121, 65, 66, 52, 85, 86, 53, 94, 95, 54, 320, 321, 69, 70, 52, 49, 50, 51, 61, 60, 61, 51, 299, 300, 51, 51, 47, 47, 47, 53, 50, 59, 42, 116, 117, 113, 114, 65, 66, 52, 85, 86, 53, 89, 90, 54, 304, 305, 69, 70, 52, 49, 50, 51, 61, 60, 61, 51, 300, 301, 51, 51, 47, 47, 47, 53, 50, 59, 42, 121, 122, 117, 118, 65, 66, 52, 85, 86, 53, 88, 89, 54, 300, 301, 69, 70, 52, 49, 50, 51, 61, 60, 61, 51, 319, 320, 51, 51, 47, 47, 47, 53, 50, 59, 42, 121, 122, 109, 110, 65, 66, 52, 85, 86, 53, 94, 95, 54, 282, 283, 69, 70, 52, 49, 50, 51, 61, 60, 61, 51, 306, 307, 51, 51, 47, 47, 47, 53, 50, 59, 42, 117, 118, 118, 119, 65, 66, 52, 85, 86, 53, 94, 95, 54, 288, 289, 69, 70, 52, 49, 50, 51, 61, 60, 61, 51, 312, 313, 51, 51, 47, 47, 47, 53, 50, 59, 42, 121, 122, 113, 114, 65, 66, 52, 85, 86, 53, 94, 95, 54, 321, 322, 69, 70, 52, 49, 50, 51, 61, 60, 61, 51, 281, 282, 51, 51, 47, 47, 47, 53, 50, 59, 42, 117, 118, 115, 116, 65, 66, 52, 85, 86, 53, 89, 90, 54, 296, 297, 69, 70, 52, 49, 50, 51, 61, 60, 61, 51, 294, 295, 51, 51, 47, 47, 47, 53, 50, 59, 42, 117, 118, 118, 119, 65, 66, 52, 85, 86, 53, 89, 90, 54, 295, 296, 69, 70, 52, 49, 50, 51, 61, 60, 61, 51, 309, 310, 51, 51, 47, 47, 47, 53, 50, 59, 42, 120, 121, 120, 121, 65, 66, 52, 85, 86, 53, 89, 90, 54, 295, 296, 69, 70, 52, 49, 50, 51, 61, 60, 61, 51, 311, 312, 51, 51, 47, 47, 47, 53, 50, 59, 42, 121, 122, 115, 116, 65, 66, 52, 85, 86, 53, 94, 95, 54, 319, 320, 69, 70, 52, 49, 50, 51, 61, 60, 61, 51, 288, 289, 51, 51, 47, 47, 47, 53, 50, 59, 42, 119, 120, 113, 114, 65, 66, 52, 85, 86, 53, 89, 90, 54, 305, 306, 69, 70, 52, 49, 50, 51, 61, 60, 61, 51, 307, 308, 51, 51, 47, 47, 47, 53, 50, 59, 42, 119, 120, 116, 117, 65, 66, 52, 85, 86, 53, 94, 95, 54, 284, 285, 69, 70, 52, 49, 50, 51, 61, 60, 61, 51, 296, 297, 51, 51, 47, 47, 47, 53, 50, 59, 42, 117, 118, 116, 117, 65, 66, 52, 85, 86, 53, 94, 95, 54, 295, 296, 69, 70, 52, 49, 50, 51, 61, 60, 61, 51, 278, 279, 51, 51, 47, 47, 47, 53, 50, 59, 42, 120, 121, 112, 113, 65, 66, 52, 85, 86, 53, 89, 90, 54, 303, 304, 69, 70, 52, 49, 50, 51, 61, 60, 61, 51, 288, 289, 51, 51, 47, 47, 47, 53, 50, 59, 42, 119, 120, 118, 119, 65, 66, 52, 85, 86, 53, 93, 94, 54, 293, 294, 69, 70, 52, 49, 50, 51, 61, 60, 61, 51, 318, 319, 51, 51, 47, 47, 47, 53, 50, 59, 42, 117, 118, 113, 114, 65, 66, 52, 85, 86, 53, 89, 90, 54, 296, 297, 69, 70, 52, 49, 50, 51, 61, 60, 61, 51, 299, 300, 51, 51, 47, 47, 47, 53, 50, 59, 42, 120, 121, 116, 117, 65, 66, 52, 85, 86, 53, 94, 95, 54, 285, 286, 69, 70, 52, 49, 50, 51, 61, 60, 61, 51, 294, 295, 51, 51, 47, 47, 47, 53, 50, 59, 42, 121, 122, 116, 117, 65, 66, 52, 85, 86, 53, 94, 95, 54, 318, 319, 69, 70, 52, 49, 50, 51, 61, 60, 61, 51, 312, 313, 51, 51, 47, 47, 47, 53, 50, 59, 42, 117, 118, 116, 117, 65, 66, 52, 85, 86, 53, 94, 95, 54, 275, 276, 69, 70, 52, 49, 50, 51, 61, 60, 61, 51, 301, 302, 51, 51, 47, 47, 47, 53, 50, 59, 42, 121, 122, 120, 121, 65, 66, 52, 85, 86, 53, 94, 95, 54, 288, 289, 69, 70, 52, 49, 50, 51, 61, 60, 61, 51, 305, 306, 51, 51, 47, 47, 47, 53, 50, 59, 42, 120, 121, 118, 119, 65, 66, 52, 85, 86, 53, 88, 89, 54, 278, 279, 69, 70, 52, 49, 50, 51, 61, 60, 61, 51, 290, 291, 51, 51, 47, 47, 47, 53, 50, 59, 42, 121, 122, 114, 115, 65, 66, 52, 85, 86, 53, 94, 95, 54, 300, 301, 69, 70, 52, 49, 50, 51, 61, 60, 61, 51, 296, 297, 51, 51, 47, 47, 47, 53, 50, 59, 42, 120, 121, 119, 120, 65, 66, 52, 85, 86, 53, 89, 90, 54, 284, 285, 69, 70, 52, 49, 50, 51, 61, 60, 61, 51, 325, 326, 51, 51, 47, 47, 47, 53, 50, 59, 42, 120, 121, 116, 117, 65, 66, 52, 85, 86, 53, 89, 90, 54, 312, 313, 69, 70, 52, 49, 50, 51, 61, 60, 61, 51, 318, 319, 51, 51, 47, 47, 47, 53, 50, 59, 42, 120, 121, 115, 116, 65, 66, 52, 85, 86, 53, 94, 95, 54, 279, 280, 69, 70, 52, 49, 50, 51, 61, 60, 61, 51, 285, 286, 51, 51, 47, 47, 47, 53, 50, 59, 42, 121, 122, 115, 116, 65, 66, 52, 85, 86, 53, 94, 95, 54, 297, 298, 69, 70, 52, 49, 50, 51, 61, 60, 61, 51, 306, 307, 51, 51, 47, 47, 47, 53, 50, 59, 42, 121, 122, 118, 119, 65, 66, 52, 85, 86, 53, 94, 95, 54, 299, 300, 69, 70, 52, 49, 50, 51, 61, 60, 61, 51, 289, 290, 51, 51, 47, 47, 47, 53, 50, 59, 42, 121, 122, 115, 116, 65, 66, 52, 85, 86, 53, 89, 90, 54, 314, 315, 69, 70, 52, 49, 50, 51, 61, 60, 61, 51, 301, 302, 51, 51, 47, 47, 47, 53, 50, 59, 42, 120, 121, 120, 121, 65, 66, 52, 85, 86, 53, 94, 95, 54, 316, 317, 69, 70, 52, 49, 50, 51, 61, 60, 61, 51, 309, 310, 51, 51, 47, 47, 47, 53, 50, 59, 42, 118, 119, 114, 115, 65, 66, 52, 85, 86, 53, 89, 90, 54, 277, 278, 69, 70, 52, 49, 50, 51, 61, 60, 61, 51, 318, 319, 51, 51, 47, 47, 47, 53, 50, 59, 42, 120, 121, 115, 116, 65, 66, 52, 85, 86, 53, 94, 95, 54, 316, 317, 69, 70, 52, 49, 50, 51, 61, 60, 61, 51, 298, 299, 51, 51, 47, 47, 47, 53, 50, 59, 42, 121, 122, 117, 118, 65, 66, 52, 85, 86, 53, 94, 95, 54, 294, 295, 69, 70, 52, 49, 50, 51, 61, 60, 61, 51, 292, 293, 51, 51, 47, 47, 47, 53, 50, 59, 42, 118, 119, 116, 117, 65, 66, 52, 85, 86, 53, 89, 90, 54, 309, 310, 69, 70, 52, 49, 50, 51, 61, 60, 61, 51, 298, 299, 51, 51, 47, 47, 47, 53, 50, 59, 42, 121, 122, 117, 118, 65, 66, 52, 85, 86, 53, 89, 90, 54, 288, 289, 69, 70, 52, 49, 50, 51, 61, 60, 61, 51, 319, 320, 51, 51, 47, 47, 47, 53, 50, 59, 42, 121, 122, 116, 117, 65, 66, 52, 85, 86, 53, 94, 95, 54, 280, 281, 69, 70, 52, 49, 50, 51, 61, 60, 61, 51, 275, 276, 51, 51, 47, 47, 47, 53, 50, 59, 42, 120, 121, 118, 119, 65, 66, 52, 85, 86, 53, 94, 95, 54, 293, 294, 69, 70, 52, 49, 50, 51, 61, 60, 61, 51, 302, 303, 51, 51, 47, 47, 47, 53, 50, 59, 42, 120, 121, 113, 114, 65, 66, 52, 85, 86, 53, 94, 95, 54, 296, 297, 69, 70, 52, 49, 50, 51, 61, 60, 61, 51, 273, 274, 51, 51, 47, 47, 47, 53, 50, 59, 42, 120, 121, 116, 117, 65, 66, 52, 85, 86, 53, 94, 95, 54, 307, 308, 69, 70, 52, 49, 50, 51, 61, 60, 61, 51, 291, 292, 51, 51, 47, 47, 47, 53, 50, 59, 42, 120, 121, 116, 117, 65, 66, 52, 85, 86, 53, 94, 95, 54, 309, 310, 69, 70, 52, 49, 50, 51, 61, 60, 61, 51, 289, 290, 51, 51, 47, 47, 47, 53, 50, 59, 42, 117, 118, 120, 121, 65, 66, 52, 85, 86, 53, 93, 94, 54, 288, 289, 69, 70, 52, 49, 50, 51, 61, 60, 61, 51, 311, 312, 51, 51, 47, 47, 47, 53, 50, 59, 42, 121, 122, 115, 116, 65, 66, 52, 85, 86, 53, 89, 90, 54, 322, 323, 69, 70, 52, 49, 50, 51, 61, 60, 61, 51, 299, 300, 51, 51, 47, 47, 47, 53, 50, 59, 42, 121, 122, 115, 116, 65, 66, 52, 85, 86, 53, 94, 95, 54, 300, 301, 69, 70, 52, 49, 50, 51, 61, 60, 61, 51, 298, 299, 51, 51, 47, 47, 47, 53, 50, 59, 42, 117, 118, 119, 120, 65, 66, 52, 85, 86, 53, 94, 95, 54, 294, 295, 69, 70, 52, 49, 50, 51, 61, 60, 61, 51, 309, 310, 51, 51, 47, 47, 47, 53, 50, 59, 42, 117, 118, 117, 118, 65, 66, 52, 85, 86, 53, 89, 90, 54, 281, 282, 69, 70, 52, 49, 50, 51, 61, 60, 61, 51, 296, 297, 51, 51, 47, 47, 47, 53, 50, 59, 42, 121, 122, 116, 117, 65, 66, 52, 85, 86, 53, 94, 95, 54, 281, 282, 69, 70, 52, 49, 50, 51, 61, 60, 61, 51, 286, 287, 51, 51, 47, 47, 47, 53, 50, 59, 42, 121, 122, 121, 122, 65, 66, 52, 85, 86, 53, 89, 90, 54, 275, 276, 69, 70, 52, 49, 50, 51, 61, 60, 61, 51, 300, 301, 51, 51, 47, 47, 47, 53, 50, 59, 42, 122, 123, 119, 120, 65, 66, 52, 85, 86, 53, 94, 95, 54, 304, 305, 69, 70, 52, 49, 50, 51, 61, 60, 61, 51, 315, 316, 51, 51, 47, 47, 47, 53, 50, 59, 42, 121, 122, 111, 112, 65, 66, 52, 85, 86, 53, 89, 90, 54, 303, 304, 69, 70, 52, 49, 50, 51, 61, 60, 61, 51, 319, 320, 51, 51, 47, 47, 47, 53, 50, 59, 42, 120, 121, 117, 118, 65, 66, 52, 85, 86, 53, 94, 95, 54, 302, 303, 69, 70, 52, 49, 50, 51, 61, 60, 61, 51, 282, 283, 51, 51, 47, 47, 47, 53, 50, 59, 42, 117, 118, 118, 119, 65, 66, 52, 85, 86, 53, 94, 95, 54, 298, 299, 69, 70, 52, 49, 50, 51, 61, 60, 61, 51, 310, 311, 51, 51, 47, 47, 47, 53, 50, 59, 42, 117, 118, 116, 117, 65, 66, 52, 85, 86, 53, 94, 95, 54, 291, 292, 69, 70, 52, 49, 50, 51, 61, 60, 61, 51, 294, 295, 51, 51, 47, 47, 47, 53, 50, 59, 42, 117, 118, 120, 121, 65, 66, 52, 85, 86, 53, 94, 95, 54, 312, 313, 69, 70, 52, 49, 50, 51, 61, 60, 61, 51, 304, 305, 51, 51, 47, 47, 47, 53, 50, 59, 42, 117, 118, 115, 116, 65, 66, 52, 85, 86, 53, 94, 95, 54, 297, 298, 69, 70, 52, 49, 50, 51, 61, 60, 61, 51, 307, 308, 51, 51, 47, 47, 47, 53, 50, 59, 42, 117, 118, 118, 119, 65, 66, 52, 85, 86, 53, 94, 95, 54, 293, 294, 69, 70, 52, 49, 50, 51, 61, 60, 61, 51, 291, 292, 51, 51, 47, 47, 47, 53, 50, 59, 42, 121, 122, 122, 123, 65, 66, 52, 85, 86, 53, 89, 90, 54, 311, 312, 69, 70, 52, 49, 50, 51, 61, 60, 61, 51, 297, 298, 51, 51, 47, 47, 47, 53, 50, 59, 42, 121, 122, 120, 121, 65, 66, 52, 85, 86, 53, 89, 90, 54, 297, 298, 69, 70, 52, 49, 50, 51, 61, 60, 61, 51, 307, 308, 51, 51, 47, 47, 47, 53, 50, 59, 42, 117, 118, 116, 117, 65, 66, 52, 85, 86, 53, 94, 95, 54, 297, 298, 69, 70, 52, 49, 50, 51, 61, 60, 61, 51, 307, 308, 51, 51, 47, 47, 47, 53, 50, 59, 42, 121, 122, 112, 113, 65, 66, 52, 85, 86, 53, 94, 95, 54, 288, 289, 69, 70, 52, 49, 50, 51, 61, 60, 61, 51, 293, 294, 51, 51, 47, 47, 47, 53, 50, 59, 42, 121, 122, 118, 119, 65, 66, 52, 85, 86, 53, 94, 95, 54, 296, 297, 69, 70, 52, 49, 50, 51, 61, 60, 61, 51, 305, 306, 51, 51, 47, 47, 47, 53, 50, 59, 42, 120, 121, 115, 116, 65, 66, 52, 85, 86, 53, 89, 90, 54, 289, 290, 69, 70, 52, 49, 50, 51, 61, 60, 61, 51, 285, 286, 51, 51, 47, 47, 47, 53, 50, 59, 42, 120, 121, 118, 119, 65, 66, 52, 85, 86, 53, 94, 95, 54, 313, 314, 69, 70, 52, 49, 50, 51, 61, 60, 61, 51, 284, 285, 51, 51, 47, 47, 47, 53, 50, 59, 42, 117, 118, 116, 117, 65, 66, 52, 85, 86, 53, 89, 90, 54, 301, 302, 69, 70, 52, 49, 50, 51, 61, 60, 61, 51, 302, 303, 51, 51, 47, 47, 47, 53, 50, 59, 42, 117, 118, 120, 121, 65, 66, 52, 85, 86, 53, 89, 90, 54, 311, 312, 69, 70, 52, 49, 50, 51, 61, 60, 61, 51, 289, 290, 51, 51, 47, 47, 47, 53, 50, 59, 42, 121, 122, 119, 120, 65, 66, 52, 85, 86, 53, 94, 95, 54, 305, 306, 69, 70, 52, 49, 50, 51, 61, 60, 61, 51, 307, 308, 51, 51, 47, 47, 47, 53, 50, 59, 42, 121, 122, 117, 118, 65, 66, 52, 85, 86, 53, 89, 90, 54, 313, 314, 69, 70, 52, 49, 50, 51, 61, 60, 61, 51, 296, 297, 51, 51, 47, 47, 47, 53, 50, 59, 42, 117, 118, 114, 115, 65, 66, 52, 85, 86, 53, 89, 90, 54, 284, 285, 69, 70, 52, 49, 50, 51, 61, 60, 61, 51, 307, 308, 51, 51, 47, 47, 47, 53, 50, 59, 42, 117, 118, 117, 118, 65, 66, 52, 85, 86, 53, 94, 95, 54, 297, 298, 69, 70, 52, 49, 50, 51, 61, 60, 61, 51, 304, 305, 51, 51, 47, 47, 47, 53, 50, 59, 42, 118, 119, 114, 115, 65, 66, 52, 85, 86, 53, 89, 90, 54, 289, 290, 69, 70, 52, 49, 50, 51, 61, 60, 61, 51, 303, 304, 51, 51, 47, 47, 47, 53, 50, 59, 42, 117, 118, 121, 122, 65, 66, 52, 85, 86, 53, 93, 94, 54, 305, 306, 69, 70, 52, 49, 50, 51, 61, 60, 61, 51, 306, 307, 51, 51, 47, 47, 47, 53, 50, 59, 42, 116, 117, 119, 120, 65, 66, 52, 85, 86, 53, 94, 95, 54, 308, 309, 69, 70, 52, 49, 50, 51, 61, 60, 61, 51, 297, 298, 51, 51, 47, 47, 47, 53, 50, 59, 42, 120, 121, 118, 119, 65, 66, 52, 85, 86, 53, 94, 95, 54, 301, 302, 69, 70, 52, 49, 50, 51, 61, 60, 61, 51, 300, 301, 51, 51, 47, 47, 47, 53, 50, 59, 42, 118, 119, 120, 121, 65, 66, 52, 85, 86, 53, 89, 90, 54, 297, 298, 69, 70, 52, 49, 50, 51, 61, 60, 61, 51, 287, 288, 51, 51, 47, 47, 47, 53, 50, 59, 42, 120, 121, 111, 112, 65, 66, 52, 85, 86, 53, 89, 90, 54, 298, 299, 69, 70, 52, 49, 50, 51, 61, 60, 61, 51, 291, 292, 51, 51, 47, 47, 47, 53, 50, 59, 42, 117, 118, 120, 121, 65, 66, 52, 85, 86, 53, 94, 95, 54, 304, 305, 69, 70, 52, 49, 50, 51, 61, 60, 61, 51, 296, 297, 51, 51, 47, 47, 47, 53, 50, 59, 42, 120, 121, 115, 116, 65, 66, 52, 85, 86, 53, 94, 95, 54, 301, 302, 69, 70, 52, 49, 50, 51, 61, 60, 61, 51, 327, 328, 51, 51, 47, 47, 47, 53, 50, 59, 42, 121, 122, 119, 120, 65, 66, 52, 85, 86, 53, 89, 90, 54, 284, 285, 69, 70, 52, 49, 50, 51, 61, 60, 61, 51, 301, 302, 51, 51, 47, 47, 47, 53, 50, 59, 42, 121, 122, 114, 115, 65, 66, 52, 85, 86, 53, 89, 90, 54, 298, 299, 69, 70, 52, 49, 50, 51, 61, 60, 61, 51, 295, 296, 51, 51, 47, 47, 47, 53, 50, 59, 42, 120, 121, 115, 116, 65, 66, 52, 85, 86, 53, 89, 90, 54, 319, 320, 69, 70, 52, 49, 50, 51, 61, 60, 61, 51, 323, 324, 51, 51, 47, 47, 47, 53, 50, 59, 42, 122, 123, 121, 122, 65, 66, 52, 85, 86, 53, 89, 90, 54, 297, 298, 69, 70, 52, 49, 50, 51, 61, 60, 61, 51, 288, 289, 51, 51, 47, 47, 47, 53, 50, 59, 42, 121, 122, 114, 115, 65, 66, 52, 85, 86, 53, 89, 90, 54, 303, 304, 69, 70, 52, 49, 50, 51, 61, 60, 61, 51, 288, 289, 51, 51, 47, 47, 47, 53, 50, 59, 42, 118, 119, 124, 125, 65, 66, 52, 85, 86, 53, 89, 90, 54, 322, 323, 69, 70, 52, 49, 50, 51, 61, 60, 61, 51, 317, 318, 51, 51, 47, 47, 47, 53, 50, 59, 42, 121, 122, 114, 115, 65, 66, 52, 85, 86, 53, 94, 95, 54, 330, 331, 69, 70, 52, 49, 50, 51, 61, 60, 61, 51, 282, 283, 51, 51, 47, 47, 47, 53, 50, 59, 42, 120, 121, 114, 115, 65, 66, 52, 85, 86, 53, 94, 95, 54, 349, 350, 69, 70, 52, 49, 50, 51, 61, 60, 61, 51, 291, 292, 51, 51, 47, 47, 47, 53, 50, 59, 42, 118, 119, 118, 119, 65, 66, 52, 85, 86, 53, 88, 89, 54, 282, 283, 69, 70, 52, 49, 50, 51, 61, 60, 61, 51, 312, 313, 51, 51, 47, 47, 47, 53, 50, 59, 42, 121, 122, 114, 115, 65, 66, 52, 85, 86, 53, 94, 95, 54, 295, 296, 69, 70, 52, 49, 50, 51, 61, 60, 61, 51, 322, 323, 51, 51, 47, 47, 47, 53, 50, 59, 42, 118, 119, 114, 115, 65, 66, 52, 85, 86, 53, 94, 95, 54, 312, 313, 69, 70, 52, 49, 50, 51, 61, 60, 61, 51, 313, 314, 51, 51, 47, 47, 47, 53, 50, 59, 42, 121, 122, 119, 120, 65, 66, 52, 85, 86, 53, 94, 95, 54, 305, 306, 69, 70, 52, 49, 50, 51, 61, 60, 61, 51, 304, 305, 51, 51, 47, 47, 47, 53, 50, 59, 42, 122, 123, 112, 113, 65, 66, 52, 85, 86, 53, 94, 95, 54, 298, 299, 69, 70, 52, 49, 50, 51, 61, 60, 61, 51, 314, 315, 51, 51, 47, 47, 47, 53, 50, 59, 42, 122, 123, 119, 120, 65, 66, 52, 85, 86, 53, 94, 95, 54, 319, 320, 69, 70, 52, 49, 50, 51, 61, 60, 61, 51, 294, 295, 51, 51, 47, 47, 47, 53, 50, 59, 42, 116, 117, 116, 117, 65, 66, 52, 85, 86, 53, 89, 90, 54, 281, 282, 69, 70, 52, 49, 50, 51, 61, 60, 61, 51, 294, 295, 51, 51, 47, 47, 47, 53, 50, 59, 42, 120, 121, 115, 116, 65, 66, 52, 85, 86, 53, 94, 95, 54, 288, 289, 69, 70, 52, 49, 50, 51, 61, 60, 61, 51, 290, 291, 51, 51, 47, 47, 47, 53, 50, 59, 42, 121, 122, 120, 121, 65, 66, 52, 85, 86, 53, 94, 95, 54, 289, 290, 69, 70, 52, 49, 50, 51, 61, 60, 61, 51, 299, 300, 51, 51, 47, 47, 47, 53, 50, 59, 42, 122, 123, 118, 119, 65, 66, 52, 85, 86, 53, 88, 89, 54, 315, 316, 69, 70, 52, 49, 50, 51, 61, 60, 61, 51, 295, 296, 51, 51, 47, 47, 47, 53, 50, 59, 42, 122, 123, 121, 122, 65, 66, 52, 85, 86, 53, 94, 95, 54, 286, 287, 69, 70, 52, 49, 50, 51, 61, 60, 61, 51, 292, 293, 51, 51, 47, 47, 47, 53, 50, 59, 42, 121, 122, 117, 118, 65, 66, 52, 85, 86, 53, 94, 95, 54, 298, 299, 69, 70, 52, 49, 50, 51, 61, 60, 61, 51, 331, 332, 51, 51, 47, 47, 47, 53, 50, 59, 42, 121, 122, 112, 113, 65, 66, 52, 85, 86, 53, 94, 95, 54, 290, 291, 69, 70, 52, 49, 50, 51, 61, 60, 61, 51, 287, 288, 51, 51, 47, 47, 47, 53, 50, 59, 42, 117, 118, 124, 125, 65, 66, 52, 85, 86, 53, 94, 95, 54, 298, 299, 69, 70, 52, 49, 50, 51, 61, 60, 61, 51, 301, 302, 51, 51, 47, 47, 47, 53, 50, 59, 42, 122, 123, 117, 118, 65, 66, 52, 85, 86, 53, 89, 90, 54, 318, 319, 69, 70, 52, 49, 50, 51, 61, 60, 61, 51, 335, 336, 51, 51, 47, 47, 47, 53, 50, 59, 42, 120, 121, 115, 116, 65, 66, 52, 85, 86, 53, 94, 95, 54, 309, 310, 69, 70, 52, 49, 50, 51, 61, 60, 61, 51, 329, 330, 51, 51, 47, 47, 47, 53, 50, 59, 42, 121, 122, 118, 119, 65, 66, 52, 85, 86, 53, 94, 95, 54, 290, 291, 69, 70, 52, 49, 50, 51, 61, 60, 61, 51, 311, 312, 51, 51, 47, 47, 47, 53, 50, 59, 42, 117, 118, 118, 119, 65, 66, 52, 85, 86, 53, 89, 90, 54, 311, 312, 69, 70, 52, 49, 50, 51, 61, 60, 61, 51, 295, 296, 51, 51, 47, 47, 47, 53, 50, 59, 42, 121, 122, 114, 115, 65, 66, 52, 85, 86, 53, 94, 95, 54, 289, 290, 69, 70, 52, 49, 50, 51, 61, 60, 61, 51, 300, 301, 51, 51, 47, 47, 47, 53, 50, 59, 42, 120, 121, 117, 118, 65, 66, 52, 85, 86, 53, 93, 94, 54, 300, 301, 69, 70, 52, 49, 50, 51, 61, 60, 61, 51, 273, 274, 51, 51, 47, 47, 47, 53, 50, 59, 42, 118, 119, 120, 121, 65, 66, 52, 85, 86, 53, 88, 89, 54, 315, 316, 69, 70, 52, 49, 50, 51, 61, 60, 61, 51, 282, 283, 51, 51, 47, 47, 47, 53, 50, 59, 42, 120, 121, 118, 119, 65, 66, 52, 85, 86, 53, 94, 95, 54, 344, 345, 69, 70, 52, 49, 50, 51, 61, 60, 61, 51, 294, 295, 51, 51, 47, 47, 47, 53, 50, 59, 42, 117, 118, 118, 119, 65, 66, 52, 85, 86, 53, 94, 95, 54, 299, 300, 69, 70, 52, 49, 50, 51, 61, 60, 61, 51, 296, 297, 51, 51, 47, 47, 47, 53, 50, 59, 42, 121, 122, 114, 115, 65, 66, 52, 85, 86, 53, 94, 95, 54, 299, 300, 69, 70, 52, 49, 50, 51, 61, 60, 61, 51, 312, 313, 51, 51, 47, 47, 47, 53, 50, 59, 42, 121, 122, 117, 118, 65, 66, 52, 85, 86, 53, 89, 90, 54, 295, 296, 69, 70, 52, 49, 50, 51, 61, 60, 61, 51, 291, 292, 51, 51, 47, 47, 47, 53, 50, 59, 42, 117, 118, 119, 120, 65, 66, 52, 85, 86, 53, 94, 95, 54, 301, 302, 69, 70, 52, 49, 50, 51, 61, 60, 61, 51, 295, 296, 51, 51, 47, 47, 47, 53, 50, 59, 42, 117, 118, 113, 114, 65, 66, 52, 85, 86, 53, 94, 95, 54, 290, 291, 69, 70, 52, 49, 50, 51, 61, 60, 61, 51, 303, 304, 51, 51, 47, 47, 47, 53, 50, 59, 42, 117, 118, 118, 119, 65, 66, 52, 85, 86, 53, 94, 95, 54, 274, 275, 69, 70, 52, 49, 50, 51, 61, 60, 61, 51, 280, 281, 51, 51, 47, 47, 47, 53, 50, 59, 42, 120, 121, 117, 118, 65, 66, 52, 85, 86, 53, 89, 90, 54, 306, 307, 69, 70, 52, 49, 50, 51, 61, 60, 61, 51, 295, 296, 51, 51, 47, 47, 47, 53, 50, 59, 42, 120, 121, 115, 116, 65, 66, 52, 85, 86, 53, 94, 95, 54, 317, 318, 69, 70, 52, 49, 50, 51, 61, 60, 61, 51, 299, 300, 51, 51, 47, 47, 47, 53, 50, 59, 42, 118, 119, 117, 118, 65, 66, 52, 85, 86, 53, 94, 95, 54, 302, 303, 69, 70, 52, 49, 50, 51, 61, 60, 61, 51, 318, 319, 51, 51, 47, 47, 47, 53, 50, 59, 42, 121, 122, 113, 114, 65, 66, 52, 85, 86, 53, 94, 95, 54, 302, 303, 69, 70, 52, 49, 50, 51, 61, 60, 61, 51, 310, 311, 51, 51, 47, 47, 47, 53, 50, 59, 42, 121, 122, 117, 118, 65, 66, 52, 85, 86, 53, 89, 90, 54, 300, 301, 69, 70, 52, 49, 50, 51, 61, 60, 61, 51, 299, 300, 51, 51, 47, 47, 47, 53, 50, 59, 42, 117, 118, 116, 117, 65, 66, 52, 85, 86, 53, 94, 95, 54, 302, 303, 69, 70, 52, 49, 50, 51, 61, 60, 61, 51, 307, 308, 51, 51, 47, 47, 47, 53, 50, 59, 42, 118, 119, 115, 116, 65, 66, 52, 85, 86, 53, 89, 90, 54, 318, 319, 69, 70, 52, 49, 50, 51, 61, 60, 61, 51, 314, 315, 51, 51, 47, 47, 47, 53, 50, 59, 42, 121, 122, 123, 124, 65, 66, 52, 85, 86, 53, 89, 90, 54, 287, 288, 69, 70, 52, 49, 50, 51, 61, 60, 61, 51, 306, 307, 51, 51, 47, 47, 47, 53, 50, 59, 42, 121, 122, 119, 120, 65, 66, 52, 85, 86, 53, 94, 95, 54, 283, 284, 69, 70, 52, 49, 50, 51, 61, 60, 61, 51, 282, 283, 51, 51, 47, 47, 47, 53, 50, 59, 42, 120, 121, 115, 116, 65, 66, 52, 85, 86, 53, 89, 90, 54, 308, 309, 69, 70, 52, 49, 50, 51, 61, 60, 61, 51, 300, 301, 51, 51, 47, 47, 47, 53, 50, 59, 42, 117, 118, 119, 120, 65, 66, 52, 85, 86, 53, 94, 95, 54, 327, 328, 69, 70, 52, 49, 50, 51, 61, 60, 61, 51, 321, 322, 51, 51, 47, 47, 47, 53, 50, 59, 42, 121, 122, 117, 118, 65, 66, 52, 85, 86, 53, 94, 95, 54, 298, 299, 69, 70, 52, 49, 50, 51, 61, 60, 61, 51, 299, 300, 51, 51, 47, 47, 47, 53, 50, 59, 42, 121, 122, 117, 118, 65, 66, 52, 85, 86, 53, 89, 90, 54, 307, 308, 69, 70, 52, 49, 50, 51, 61, 60, 61, 51, 288, 289, 51, 51, 47, 47, 47, 53, 50, 59, 42, 121, 122, 117, 118, 65, 66, 52, 85, 86, 53, 89, 90, 54, 289, 290, 69, 70, 52, 49, 50, 51, 61, 60, 61, 51, 286, 287, 51, 51, 47, 47, 47, 53, 50, 59, 42, 121, 122, 116, 117, 65, 66, 52, 85, 86, 53, 91, 92, 54, 307, 308, 69, 70, 52, 49, 50, 51, 61, 60, 61, 51, 297, 298, 51, 51, 47, 47, 47, 53, 50, 59, 42, 120, 121, 122, 123, 65, 66, 52, 85, 86, 53, 94, 95, 54, 310, 311, 69, 70, 52, 49, 50, 51, 61, 60, 61, 51, 295, 296, 51, 51, 47, 47, 47, 53, 50, 59, 42, 118, 119, 125, 126, 65, 66, 52, 85, 86, 53, 94, 95, 54, 311, 312, 69, 70, 52, 49, 50, 51, 61, 60, 61, 51, 308, 309, 51, 51, 47, 47, 47, 53, 50, 59, 42, 120, 121, 115, 116, 65, 66, 52, 85, 86, 53, 88, 89, 54, 289, 290, 69, 70, 52, 49, 50, 51, 61, 60, 61, 51, 354, 355, 51, 51, 47, 47, 47, 53, 50, 59, 42, 121, 122, 115, 116, 65, 66, 52, 85, 86, 53, 89, 90, 54, 287, 288, 69, 70, 52, 49, 50, 51, 61, 60, 61, 51, 294, 295, 51, 51, 47, 47, 47, 53, 50, 59, 42, 121, 122, 115, 116, 65, 66, 52, 85, 86, 53, 89, 90, 54, 299, 300, 69, 70, 52, 49, 50, 51, 61, 60, 61, 51, 305, 306, 51, 51, 47, 47, 47, 53, 50, 59, 42, 117, 118, 115, 116, 65, 66, 52, 85, 86, 53, 94, 95, 54, 295, 296, 69, 70, 52, 49, 50, 51, 61, 60, 61, 51, 293, 294, 51, 51, 47, 47, 47, 53, 50, 59, 42, 121, 122, 114, 115, 65, 66, 52, 85, 86, 53, 89, 90, 54, 286, 287, 69, 70, 52, 49, 50, 51, 61, 60, 61, 51, 291, 292, 51, 51, 47, 47, 47, 53, 50, 59, 42, 118, 119, 114, 115, 65, 66, 52, 85, 86, 53, 89, 90, 54, 280, 281, 69, 70, 52, 49, 50, 51, 61, 60, 61, 51, 316, 317, 51, 51, 47, 47, 47, 53, 50, 59, 42, 120, 121, 116, 117, 65, 66, 52, 85, 86, 53, 89, 90, 54, 311, 312, 69, 70, 52, 49, 50, 51, 61, 60, 61, 51, 295, 296, 51, 51, 47, 47, 47, 53, 50, 59, 42, 121, 122, 109, 110, 65, 66, 52, 85, 86, 53, 89, 90, 54, 314, 315, 69, 70, 52, 49, 50, 51, 61, 60, 61, 51, 281, 282, 51, 51, 47, 47, 47, 53, 50, 59, 42, 120, 121, 119, 120, 65, 66, 52, 85, 86, 53, 94, 95, 54, 291, 292, 69, 70, 52, 49, 50, 51, 61, 60, 61, 51, 307, 308, 51, 51, 47, 47, 47, 53, 50, 59, 42, 121, 122, 114, 115, 65, 66, 52, 85, 86, 53, 94, 95, 54, 307, 308, 69, 70, 52, 49, 50, 51, 61, 60, 61, 51, 317, 318, 51, 51, 47, 47, 47, 53, 50, 59, 42, 120, 121, 116, 117, 65, 66, 52, 85, 86, 53, 89, 90, 54, 299, 300, 69, 70, 52, 49, 50, 51, 61, 60, 61, 51, 300, 301, 51, 51, 47, 47, 47, 53, 50, 59, 42, 118, 119, 113, 114, 65, 66, 52, 85, 86, 53, 94, 95, 54, 303, 304, 69, 70, 52, 49, 50, 51, 61, 60, 61, 51, 289, 290, 51, 51, 47, 47, 47, 53, 50, 59, 42, 120, 121, 117, 118, 65, 66, 52, 85, 86, 53, 94, 95, 54, 280, 281, 69, 70, 52, 49, 50, 51, 61, 60, 61, 51, 302, 303, 51, 51, 47, 47, 47, 53, 50, 59, 42, 121, 122, 116, 117, 65, 66, 52, 85, 86, 53, 94, 95, 54, 291, 292, 69, 70, 52, 49, 50, 51, 61, 60, 61, 51, 295, 296, 51, 51, 47, 47, 47, 53, 50, 59, 42, 122, 123, 118, 119, 65, 66, 52, 85, 86, 53, 94, 95, 54, 285, 286, 69, 70, 52, 49, 50, 51, 61, 60, 61, 51, 324, 325, 51, 51, 47, 47, 47, 53, 50, 59, 42, 121, 122, 116, 117, 65, 66, 52, 85, 86, 53, 89, 90, 54, 316, 317, 69, 70, 52, 49, 50, 51, 61, 60, 61, 51, 307, 308, 51, 51, 47, 47, 47, 53, 50, 59, 42, 121, 122, 118, 119, 65, 66, 52, 85, 86, 53, 89, 90, 54, 300, 301, 69, 70, 52, 49, 50, 51, 61, 60, 61, 51, 278, 279, 51, 51, 47, 47, 47, 53, 50, 59, 42, 120, 121, 118, 119, 65, 66, 52, 85, 86, 53, 89, 90, 54, 298, 299, 69, 70, 52, 49, 50, 51, 61, 60, 61, 51, 305, 306, 51, 51, 47, 47, 47, 53, 50, 59, 42, 117, 118, 120, 121, 65, 66, 52, 85, 86, 53, 89, 90, 54, 312, 313, 69, 70, 52, 49, 50, 51, 61, 60, 61, 51, 304, 305, 51, 51, 47, 47, 47, 53, 50, 59, 42, 121, 122, 122, 123, 65, 66, 52, 85, 86, 53, 89, 90, 54, 288, 289, 69, 70, 52, 49, 50, 51, 61, 60, 61, 51, 286, 287, 51, 51, 47, 47, 47, 53, 50, 59, 42, 120, 121, 122, 123, 65, 66, 52, 85, 86, 53, 94, 95, 54, 284, 285, 69, 70, 52, 49, 50, 51, 61, 60, 61, 51, 293, 294, 51, 51, 47, 47, 47, 53, 50, 59, 42, 121, 122, 114, 115, 65, 66, 52, 85, 86, 53, 88, 89, 54, 311, 312, 69, 70, 52, 49, 50, 51, 61, 60, 61, 51, 296, 297, 51, 51, 47, 47, 47, 53, 50, 59, 42, 120, 121, 117, 118, 65, 66, 52, 85, 86, 53, 94, 95, 54, 298, 299, 69, 70, 52, 49, 50, 51, 61, 60, 61, 51, 280, 281, 51, 51, 47, 47, 47, 53, 50, 59, 42, 121, 122, 119, 120, 65, 66, 52, 85, 86, 53, 89, 90, 54, 296, 297, 69, 70, 52, 49, 50, 51, 61, 60, 61, 51, 314, 315, 51, 51, 47, 47, 47, 53, 50, 59, 42, 120, 121, 116, 117, 65, 66, 52, 85, 86, 53, 94, 95, 54, 304, 305, 69, 70, 52, 49, 50, 51, 61, 60, 61, 51, 305, 306, 51, 51, 47, 47, 47, 53, 50, 59, 42, 121, 122, 114, 115, 65, 66, 52, 85, 86, 53, 93, 94, 54, 304, 305, 69, 70, 52, 49, 50, 51, 61, 60, 61, 51, 292, 293, 51, 51, 47, 47, 47, 53, 50, 59, 42, 117, 118, 114, 115, 65, 66, 52, 85, 86, 53, 94, 95, 54, 299, 300, 69, 70, 52, 49, 50, 51, 61, 60, 61, 51, 301, 302, 51, 51, 47, 47, 47, 53, 50, 59, 42, 122, 123, 117, 118, 65, 66, 52, 85, 86, 53, 94, 95, 54, 301, 302, 69, 70, 52, 49, 50, 51, 61, 60, 61, 51, 306, 307, 51, 51, 47, 47, 47, 53, 50, 59, 42, 120, 121, 120, 121, 65, 66, 52, 85, 86, 53, 94, 95, 54, 292, 293, 69, 70, 52, 49, 50, 51, 61, 60, 61, 51, 315, 316, 51, 51, 47, 47, 47, 53, 50, 59, 42, 117, 118, 113, 114, 65, 66, 52, 85, 86, 53, 89, 90, 54, 292, 293, 69, 70, 52, 49, 50, 51, 61, 60, 61, 51, 309, 310, 51, 51, 47, 47, 47, 53, 50, 59, 42, 117, 118, 118, 119, 65, 66, 52, 85, 86, 53, 89, 90, 54, 310, 311, 69, 70, 52, 49, 50, 51, 61, 60, 61, 51, 280, 281, 51, 51, 47, 47, 47, 53, 50, 59, 42, 120, 121, 116, 117, 65, 66, 52, 85, 86, 53, 94, 95, 54, 296, 297, 69, 70, 52, 49, 50, 51, 61, 60, 61, 51, 305, 306, 51, 51, 47, 47, 47, 53, 50, 59, 42, 121, 122, 117, 118, 65, 66, 52, 85, 86, 53, 89, 90, 54, 291, 292, 69, 70, 52, 49, 50, 51, 61, 60, 61, 51, 305, 306, 51, 51, 47, 47, 47, 53, 50, 59, 42, 119, 120, 117, 118, 65, 66, 52, 85, 86, 53, 88, 89, 54, 300, 301, 69, 70, 52, 49, 50, 51, 61, 60, 61, 51, 321, 322, 51, 51, 47, 47, 47, 53, 50, 59, 42, 120, 121, 116, 117, 65, 66, 52, 85, 86, 53, 94, 95, 54, 276, 277, 69, 70, 52, 49, 50, 51, 61, 60, 61, 51, 285, 286, 51, 51, 47, 47, 47, 53, 50, 59, 42, 121, 122, 115, 116, 65, 66, 52, 85, 86, 53, 94, 95, 54, 277, 278, 69, 70, 52, 49, 50, 51, 61, 60, 61, 51, 298, 299, 51, 51, 47, 47, 47, 53, 50, 59, 42, 121, 122, 116, 117, 65, 66, 52, 85, 86, 53, 94, 95, 54, 310, 311, 69, 70, 52, 49, 50, 51, 61, 60, 61, 51, 312, 313, 51, 51, 47, 47, 47, 53, 50, 59, 42, 120, 121, 113, 114, 65, 66, 52, 85, 86, 53, 89, 90, 54, 290, 291, 69, 70, 52, 49, 50, 51, 61, 60, 61, 51, 298, 299, 51, 51, 47, 47, 47, 53, 50, 59, 42, 120, 121, 118, 119, 65, 66, 52, 85, 86, 53, 89, 90, 54, 312, 313, 69, 70, 52, 49, 50, 51, 61, 60, 61, 51, 296, 297, 51, 51, 47, 47, 47, 53, 50, 59, 42, 121, 122, 115, 116, 65, 66, 52, 85, 86, 53, 89, 90, 54, 308, 309, 69, 70, 52, 49, 50, 51, 61, 60, 61, 51, 286, 287, 51, 51, 47, 47, 47, 53, 50, 59, 42, 116, 117, 120, 121, 65, 66, 52, 85, 86, 53, 89, 90, 54, 315, 316, 69, 70, 52, 49, 50, 51, 61, 60, 61, 51, 290, 291, 51, 51, 47, 47, 47, 53, 50, 59, 42, 122, 123, 112, 113, 65, 66, 52, 85, 86, 53, 89, 90, 54, 276, 277, 69, 70, 52, 49, 50, 51, 61, 60, 61, 51, 295, 296, 51, 51, 47, 47, 47, 53, 50, 59, 42, 117, 118, 116, 117, 65, 66, 52, 85, 86, 53, 94, 95, 54, 319, 320, 69, 70, 52, 49, 50, 51, 61, 60, 61, 51, 285, 286, 51, 51, 47, 47, 47, 53, 50, 59, 42, 120, 121, 116, 117, 65, 66, 52, 85, 86, 53, 94, 95, 54, 305, 306, 69, 70, 52, 49, 50, 51, 61, 60, 61, 51, 308, 309, 51, 51, 47, 47, 47, 53, 50, 59, 42, 121, 122, 114, 115, 65, 66, 52, 85, 86, 53, 89, 90, 54, 294, 295, 69, 70, 52, 49, 50, 51, 61, 60, 61, 51, 297, 298, 51, 51, 47, 47, 47, 53, 50, 59, 42, 116, 117, 118, 119, 65, 66, 52, 85, 86, 53, 93, 94, 54, 317, 318, 69, 70, 52, 49, 50, 51, 61, 60, 61, 51, 310, 311, 51, 51, 47, 47, 47, 53, 50, 59, 42, 118, 119, 118, 119, 65, 66, 52, 85, 86, 53, 89, 90, 54, 291, 292, 69, 70, 52, 49, 50, 51, 61, 60, 61, 51, 286, 287, 51, 51, 47, 47, 47, 53, 50, 59, 42, 122, 123, 117, 118, 65, 66, 52, 85, 86, 53, 94, 95, 54, 285, 286, 69, 70, 52, 49, 50, 51, 61, 60, 61, 51, 291, 292, 51, 51, 47, 47, 47, 53, 50, 59, 42, 121, 122, 117, 118, 65, 66, 52, 85, 86, 53, 94, 95, 54, 300, 301, 69, 70, 52, 49, 50, 51, 61, 60, 61, 51, 296, 297, 51, 51, 47, 47, 47, 53, 50, 59, 42, 122, 123, 114, 115, 65, 66, 52, 85, 86, 53, 94, 95, 54, 291, 292, 69, 70, 52, 49, 50, 51, 61, 60, 61, 51, 299, 300, 51, 51, 47, 47, 47, 53, 50, 59, 42, 121, 122, 115, 116, 65, 66, 52, 85, 86, 53, 89, 90, 54, 270, 271, 69, 70, 52, 49, 50, 51, 61, 60, 61, 51, 335, 336, 51, 51, 47, 47, 47, 53, 50, 59, 42, 117, 118, 116, 117, 65, 66, 52, 85, 86, 53, 89, 90, 54, 306, 307, 69, 70, 52, 49, 50, 51, 61, 60, 61, 51, 287, 288, 51, 51, 47, 47, 47, 53, 50, 59, 42, 121, 122, 115, 116, 65, 66, 52, 85, 86, 53, 89, 90, 54, 301, 302, 69, 70, 52, 49, 50, 51, 61, 60, 61, 51, 281, 282, 51, 51, 47, 47, 47, 53, 50, 59, 42, 121, 122, 118, 119, 65, 66, 52, 85, 86, 53, 89, 90, 54, 311, 312, 69, 70, 52, 49, 50, 51, 61, 60, 61, 51, 316, 317, 51, 51, 47, 47, 47, 53, 50, 59, 42, 117, 118, 120, 121, 65, 66, 52, 85, 86, 53, 94, 95, 54, 308, 309, 69, 70, 52, 49, 50, 51, 61, 60, 61, 51, 289, 290, 51, 51, 47, 47, 47, 53, 50, 59, 42, 120, 121, 112, 113, 65, 66, 52, 85, 86, 53, 94, 95, 54, 285, 286, 69, 70, 52, 49, 50, 51, 61, 60, 61, 51, 295, 296, 51, 51, 47, 47, 47, 53, 50, 59, 42, 122, 123, 120, 121, 65, 66, 52, 85, 86, 53, 88, 89, 54, 291, 292, 69, 70, 52, 49, 50, 51, 61, 60, 61, 51, 303, 304, 51, 51, 47, 47, 47, 53, 50, 59, 42, 122, 123, 116, 117, 65, 66, 52, 85, 86, 53, 94, 95, 54, 298, 299, 69, 70, 52, 49, 50, 51, 61, 60, 61, 51, 279, 280, 51, 51, 47, 47, 47, 53, 50, 59, 42, 117, 118, 118, 119, 65, 66, 52, 85, 86, 53, 94, 95, 54, 289, 290, 69, 70, 52, 49, 50, 51, 61, 60, 61, 51, 302, 303, 51, 51, 47, 47, 47, 53, 50, 59, 42, 116, 117, 115, 116, 65, 66, 52, 85, 86, 53, 89, 90, 54, 305, 306, 69, 70, 52, 49, 50, 51, 61, 60, 61, 51, 275, 276, 51, 51, 47, 47, 47, 53, 50, 59, 42, 117, 118, 117, 118, 65, 66, 52, 85, 86, 53, 94, 95, 54, 294, 295, 69, 70, 52, 49, 50, 51, 61, 60, 61, 51, 303, 304, 51, 51, 47, 47, 47, 53, 50, 59, 42, 122, 123, 117, 118, 65, 66, 52, 85, 86, 53, 94, 95, 54, 324, 325, 69, 70, 52, 49, 50, 51, 61, 60, 61, 51, 305, 306, 51, 51, 47, 47, 47, 53, 50, 59, 42, 122, 123, 116, 117, 65, 66, 52, 85, 86, 53, 94, 95, 54, 310, 311, 69, 70, 52, 49, 50, 51, 61, 60, 61, 51, 318, 319, 51, 51, 47, 47, 47, 53, 50, 59, 42, 118, 119, 115, 116, 65, 66, 52, 85, 86, 53, 89, 90, 54, 292, 293, 69, 70, 52, 49, 50, 51, 61, 60, 61, 51, 290, 291, 51, 51, 47, 47, 47, 53, 50, 59, 42, 122, 123, 115, 116, 65, 66, 52, 85, 86, 53, 89, 90, 54, 306, 307, 69, 70, 52, 49, 50, 51, 61, 60, 61, 51, 287, 288, 51, 51, 47, 47, 47, 53, 50, 59, 42, 117, 118, 119, 120, 65, 66, 52, 85, 86, 53, 89, 90, 54, 282, 283, 69, 70, 52, 49, 50, 51, 61, 60, 61, 51, 304, 305, 51, 51, 47, 47, 47, 53, 50, 59, 42, 120, 121, 118, 119, 65, 66, 52, 85, 86, 53, 89, 90, 54, 304, 305, 69, 70, 52, 49, 50, 51, 61, 60, 61, 51, 306, 307, 51, 51, 47, 47, 47, 53, 50, 59, 42, 117, 118, 116, 117, 65, 66, 52, 85, 86, 53, 89, 90, 54, 300, 301, 69, 70, 52, 49, 50, 51, 61, 60, 61, 51, 282, 283, 51, 51, 47, 47, 47, 53, 50, 59, 42, 117, 118, 117, 118, 65, 66, 52, 85, 86, 53, 89, 90, 54, 302, 303, 69, 70, 52, 49, 50, 51, 61, 60, 61, 51, 300, 301, 51, 51, 47, 47, 47, 53, 50, 59, 42, 116, 117, 120, 121, 65, 66, 52, 85, 86, 53, 94, 95, 54, 317, 318, 69, 70, 52, 49, 50, 51, 61, 60, 61, 51, 269, 270, 51, 51, 47, 47, 47, 53, 50, 59, 42, 116, 117, 111, 112, 65, 66, 52, 85, 86, 53, 94, 95, 54, 291, 292, 69, 70, 52, 49, 50, 51, 61, 60, 61, 51, 298, 299, 51, 51, 47, 47, 47, 53, 50, 59, 42, 121, 122, 118, 119, 65, 66, 52, 85, 86, 53, 89, 90, 54, 277, 278, 69, 70, 52, 49, 50, 51, 61, 60, 61, 51, 286, 287, 51, 51, 47, 47, 47, 53, 50, 59, 42, 121, 122, 120, 121, 65, 66, 52, 85, 86, 53, 89, 90, 54, 304, 305, 69, 70, 52, 49, 50, 51, 61, 60, 61, 51, 294, 295, 51, 51, 47, 47, 47, 53, 50, 59, 42, 120, 121, 120, 121, 65, 66, 52, 85, 86, 53, 94, 95, 54, 291, 292, 69, 70, 52, 49, 50, 51, 61, 60, 61, 51, 309, 310, 51, 51, 47, 47, 47, 53, 50, 59, 42, 117, 118, 117, 118, 65, 66, 52, 85, 86, 53, 89, 90, 54, 293, 294, 69, 70, 52, 49, 50, 51, 61, 60, 61, 51, 291, 292, 51, 51, 47, 47, 47, 53, 50, 59, 42, 121, 122, 111, 112, 65, 66, 52, 85, 86, 53, 94, 95, 54, 301, 302, 69, 70, 52, 49, 50, 51, 61, 60, 61, 51, 288, 289, 51, 51, 47, 47, 47, 53, 50, 59, 42, 120, 121, 114, 115, 65, 66, 52, 85, 86, 53, 94, 95, 54, 327, 328, 69, 70, 52, 49, 50, 51, 61, 60, 61, 51, 291, 292, 51, 51, 47, 47, 47, 53, 50, 59, 42, 117, 118, 114, 115, 65, 66, 52, 85, 86, 53, 94, 95, 54, 297, 298, 69, 70, 52, 49, 50, 51, 61, 60, 61, 51, 277, 278, 51, 51, 47, 47, 47, 53, 50, 59, 42, 121, 122, 118, 119, 65, 66, 52, 85, 86, 53, 94, 95, 54, 309, 310, 69, 70, 52, 49, 50, 51, 61, 60, 61, 51, 299, 300, 51, 51, 47, 47, 47, 53, 50, 59, 42, 118, 119, 119, 120, 65, 66, 52, 85, 86, 53, 94, 95, 54, 320, 321, 69, 70, 52, 49, 50, 51, 61, 60, 61, 51, 277, 278, 51, 51, 47, 47, 47, 53, 50, 59, 42, 117, 118, 119, 120, 65, 66, 52, 85, 86, 53, 94, 95, 54, 301, 302, 69, 70, 52, 49, 50, 51, 61, 60, 61, 51, 301, 302, 51, 51, 47, 47, 47, 53, 50, 59, 42, 121, 122, 120, 121, 65, 66, 52, 85, 86, 53, 89, 90, 54, 296, 297, 69, 70, 52, 49, 50, 51, 61, 60, 61, 51, 285, 286, 51, 51, 47, 47, 47, 53, 50, 59, 42, 117, 118, 120, 121, 65, 66, 52, 85, 86, 53, 89, 90, 54, 285, 286, 69, 70, 52, 49, 50, 51, 61, 60, 61, 51, 293, 294, 51, 51, 47, 47, 47, 53, 50, 59, 42, 118, 119, 123, 124, 65, 66, 52, 85, 86, 53, 94, 95, 54, 311, 312, 69, 70, 52, 49, 50, 51, 61, 60, 61, 51, 298, 299, 51, 51, 47, 47, 47, 53, 50, 59, 42, 121, 122, 114, 115, 65, 66, 52, 85, 86, 53, 89, 90, 54, 280, 281, 69, 70, 52, 49, 50, 51, 61, 60, 61, 51, 303, 304, 51, 51, 47, 47, 47, 53, 50, 59, 42, 117, 118, 115, 116, 65, 66, 52, 85, 86, 53, 89, 90, 54, 311, 312, 69, 70, 52, 49, 50, 51, 61, 60, 61, 51, 297, 298, 51, 51, 47, 47, 47, 53, 50, 59, 42, 118, 119, 118, 119, 65, 66, 52, 85, 86, 53, 94, 95, 54, 304, 305, 69, 70, 52, 49, 50, 51, 61, 60, 61, 51, 304, 305, 51, 51, 47, 47, 47, 53, 50, 59, 42, 120, 121, 118, 119, 65, 66, 52, 85, 86, 53, 89, 90, 54, 296, 297, 69, 70, 52, 49, 50, 51, 61, 60, 61, 51, 321, 322, 51, 51, 47, 47, 47, 53, 50, 59, 42, 116, 117, 123, 124, 65, 66, 52, 85, 86, 53, 89, 90, 54, 317, 318, 69, 70, 52, 49, 50, 51, 61, 60, 61, 51, 315, 316, 51, 51, 47, 47, 47, 53, 50, 59, 42, 120, 121, 118, 119, 65, 66, 52, 85, 86, 53, 94, 95, 54, 304, 305, 69, 70, 52, 49, 50, 51, 61, 60, 61, 51, 298, 299, 51, 51, 47, 47, 47, 53, 50, 59, 42, 121, 122, 113, 114, 65, 66, 52, 85, 86, 53, 94, 95, 54, 294, 295, 69, 70, 52, 49, 50, 51, 61, 60, 61, 51, 279, 280, 51, 51, 47, 47, 47, 53, 50, 59, 42, 118, 119, 110, 111, 65, 66, 52, 85, 86, 53, 94, 95, 54, 293, 294, 69, 70, 52, 49, 50, 51, 61, 60, 61, 51, 295, 296, 51, 51, 47, 47, 47, 53, 50, 59, 42, 121, 122, 114, 115, 65, 66, 52, 85, 86, 53, 89, 90, 54, 275, 276, 69, 70, 52, 49, 50, 51, 61, 60, 61, 51, 341, 342, 51, 51, 47, 47, 47, 53, 50, 59, 42, 118, 119, 117, 118, 65, 66, 52, 85, 86, 53, 89, 90, 54, 298, 299, 69, 70, 52, 49, 50, 51, 61, 60, 61, 51, 316, 317, 51, 51, 47, 47, 47, 53, 50, 59, 42, 121, 122, 118, 119, 65, 66, 52, 85, 86, 53, 89, 90, 54, 322, 323, 69, 70, 52, 49, 50, 51, 61, 60, 61, 51, 292, 293, 51, 51, 47, 47, 47, 53, 50, 59, 42, 117, 118, 116, 117, 65, 66, 52, 85, 86, 53, 94, 95, 54, 298, 299, 69, 70, 52, 49, 50, 51, 61, 60, 61, 51, 312, 313, 51, 51, 47, 47, 47, 53, 50, 59, 42, 122, 123, 118, 119, 65, 66, 52, 85, 86, 53, 94, 95, 54, 308, 309, 69, 70, 52, 49, 50, 51, 61, 60, 61, 51, 297, 298, 51, 51, 47, 47, 47, 53, 50, 59, 42, 118, 119, 117, 118, 65, 66, 52, 85, 86, 53, 89, 90, 54, 302, 303, 69, 70, 52, 49, 50, 51, 61, 60, 61, 51, 282, 283, 51, 51, 47, 47, 47, 53, 50, 59, 42, 117, 118, 125, 126, 65, 66, 52, 85, 86, 53, 89, 90, 54, 297, 298, 69, 70, 52, 49, 50, 51, 61, 60, 61, 51, 305, 306, 51, 51, 47, 47, 47, 53, 50, 59, 42, 120, 121, 116, 117, 65, 66, 52, 85, 86, 53, 94, 95, 54, 299, 300, 69, 70, 52, 49, 50, 51, 61, 60, 61, 51, 294, 295, 51, 51, 47, 47, 47, 53, 50, 59, 42, 120, 121, 117, 118, 65, 66, 52, 85, 86, 53, 89, 90, 54, 294, 295, 69, 70, 52, 49, 50, 51, 61, 60, 61, 51, 311, 312, 51, 51, 47, 47, 47, 53, 50, 59, 42, 122, 123, 114, 115, 65, 66, 52, 85, 86, 53, 94, 95, 54, 290, 291, 69, 70, 52, 49, 50, 51, 61, 60, 61, 51, 305, 306, 51, 51, 47, 47, 47, 53, 50, 59, 42, 121, 122, 116, 117, 65, 66, 52, 85, 86, 53, 89, 90, 54, 318, 319, 69, 70, 52, 49, 50, 51, 61, 60, 61, 51, 310, 311, 51, 51, 47, 47, 47, 53, 50, 59, 42, 122, 123, 115, 116, 65, 66, 52, 85, 86, 53, 89, 90, 54, 291, 292, 69, 70, 52, 49, 50, 51, 61, 60, 61, 51, 289, 290, 51, 51, 47, 47, 47, 53, 50, 59, 42, 117, 118, 116, 117, 65, 66, 52, 85, 86, 53, 94, 95, 54, 289, 290, 69, 70, 52, 49, 50, 51, 61, 60, 61, 51, 293, 294, 51, 51, 47, 47, 47, 53, 50, 59, 42, 122, 123, 119, 120, 65, 66, 52, 85, 86, 53, 94, 95, 54, 294, 295, 69, 70, 52, 49, 50, 51, 61, 60, 61, 51, 301, 302, 51, 51, 47, 47, 47, 53, 50, 59, 42, 121, 122, 117, 118, 65, 66, 52, 85, 86, 53, 89, 90, 54, 293, 294, 69, 70, 52, 49, 50, 51, 61, 60, 61, 51, 292, 293, 51, 51, 47, 47, 47, 53, 50, 59, 42, 118, 119, 114, 115, 65, 66, 52, 85, 86, 53, 89, 90, 54, 330, 331, 69, 70, 52, 49, 50, 51, 61, 60, 61, 51, 308, 309, 51, 51, 47, 47, 47, 53, 50, 59, 42, 118, 119, 115, 116, 65, 66, 52, 85, 86, 53, 94, 95, 54, 292, 293, 69, 70, 52, 49, 50, 51, 61, 60, 61, 51, 293, 294, 51, 51, 47, 47, 47, 53, 50, 59, 42, 117, 118, 113, 114, 65, 66, 52, 85, 86, 53, 89, 90, 54, 297, 298, 69, 70, 52, 49, 50, 51, 61, 60, 61, 51, 294, 295, 51, 51, 47, 47, 47, 53, 50, 59, 42, 120, 121, 124, 125, 65, 66, 52, 85, 86, 53, 88, 89, 54, 304, 305, 69, 70, 52, 49, 50, 51, 61, 60, 61, 51, 287, 288, 51, 51, 47, 47, 47, 53, 50, 59, 42, 117, 118, 115, 116, 65, 66, 52, 85, 86, 53, 89, 90, 54, 308, 309, 69, 70, 52, 49, 50, 51, 61, 60, 61, 51, 282, 283, 51, 51, 47, 47, 47, 53, 50, 59, 42, 117, 118, 114, 115, 65, 66, 52, 85, 86, 53, 88, 89, 54, 302, 303, 69, 70, 52, 49, 50, 51, 61, 60, 61, 51, 291, 292, 51, 51, 47, 47, 47, 53, 50, 59, 42, 120, 121, 116, 117, 65, 66, 52, 85, 86, 53, 89, 90, 54, 301, 302, 69, 70, 52, 49, 50, 51, 61, 60, 61, 51, 299, 300, 51, 51, 47, 47, 47, 53, 50, 59, 42, 118, 119, 121, 122, 65, 66, 52, 85, 86, 53, 89, 90, 54, 310, 311, 69, 70, 52, 49, 50, 51, 61, 60, 61, 51, 289, 290, 51, 51, 47, 47, 47, 53, 50, 59, 42, 121, 122, 119, 120, 65, 66, 52, 85, 86, 53, 89, 90, 54, 295, 296, 69, 70, 52, 49, 50, 51, 61, 60, 61, 51, 278, 279, 51, 51, 47, 47, 47, 53, 50, 59, 42, 120, 121, 115, 116, 65, 66, 52, 85, 86, 53, 89, 90, 54, 296, 297, 69, 70, 52, 49, 50, 51, 61, 60, 61, 51, 276, 277, 51, 51, 47, 47, 47, 53, 50, 59, 42, 117, 118, 115, 116, 65, 66, 52, 85, 86, 53, 88, 89, 54, 300, 301, 69, 70, 52, 49, 50, 51, 61, 60, 61, 51, 305, 306, 51, 51, 47, 47, 47, 53, 50, 59, 42, 117, 118, 118, 119, 65, 66, 52, 85, 86, 53, 89, 90, 54, 280, 281, 69, 70, 52, 49, 50, 51, 61, 60, 61, 51, 299, 300, 51, 51, 47, 47, 47, 53, 50, 59, 42, 116, 117, 124, 125, 65, 66, 52, 85, 86, 53, 89, 90, 54, 292, 293, 69, 70, 52, 49, 50, 51, 61, 60, 61, 51, 289, 290, 51, 51, 47, 47, 47, 53, 50, 59, 42, 118, 119, 118, 119, 65, 66, 52, 85, 86, 53, 94, 95, 54, 292, 293, 69, 70, 52, 49, 50, 51, 61, 60, 61, 51, 313, 314, 51, 51, 47, 47, 47, 53, 50, 59, 42, 122, 123, 113, 114, 65, 66, 52, 85, 86, 53, 94, 95, 54, 293, 294, 69, 70, 52, 49, 50, 51, 61, 60, 61, 51, 287, 288, 51, 51, 47, 47, 47, 53, 50, 59, 42, 118, 119, 119, 120, 65, 66, 52, 85, 86, 53, 89, 90, 54, 305, 306, 69, 70, 52, 49, 50, 51, 61, 60, 61, 51, 298, 299, 51, 51, 47, 47, 47, 53, 50, 59, 42, 122, 123, 118, 119, 65, 66, 52, 85, 86, 53, 94, 95, 54, 294, 295, 69, 70, 52, 49, 50, 51, 61, 60, 61, 51, 291, 292, 51, 51, 47, 47, 47, 53, 50, 59, 42, 121, 122, 121, 122, 65, 66, 52, 85, 86, 53, 94, 95, 54, 293, 294, 69, 70, 52, 49, 50, 51, 61, 60, 61, 51, 317, 318, 51, 51, 47, 47, 47, 53, 50, 59, 42, 121, 122, 117, 118, 65, 66, 52, 85, 86, 53, 94, 95, 54, 329, 330, 69, 70, 52, 49, 50, 51, 61, 60, 61, 51, 298, 299, 51, 51, 47, 47, 47, 53, 50, 59, 42, 122, 123, 119, 120, 65, 66, 52, 85, 86, 53, 89, 90, 54, 313, 314, 69, 70, 52, 49, 50, 51, 61, 60, 61, 51, 312, 313, 51, 51, 47, 47, 47, 53, 50, 59, 42, 120, 121, 115, 116, 65, 66, 52, 85, 86, 53, 89, 90, 54, 306, 307, 69, 70, 52, 49, 50, 51, 61, 60, 61, 51, 314, 315, 51, 51, 47, 47, 47, 53, 50, 59, 42, 121, 122, 114, 115, 65, 66, 52, 85, 86, 53, 94, 95, 54, 280, 281, 69, 70, 52, 49, 50, 51, 61, 60, 61, 51, 300, 301, 51, 51, 47, 47, 47, 53, 50, 59, 42, 118, 119, 119, 120, 65, 66, 52, 85, 86, 53, 94, 95, 54, 285, 286, 69, 70, 52, 49, 50, 51, 61, 60, 61, 51, 294, 295, 51, 51, 47, 47, 47, 53, 50, 59, 42, 120, 121, 116, 117, 65, 66, 52, 85, 86, 53, 94, 95, 54, 321, 322, 69, 70, 52, 49, 50, 51, 61, 60, 61, 51, 314, 315, 51, 51, 47, 47, 47, 53, 50, 59, 42, 120, 121, 123, 124, 65, 66, 52, 85, 86, 53, 89, 90, 54, 295, 296, 69, 70, 52, 49, 50, 51, 61, 60, 61, 51, 294, 295, 51, 51, 47, 47, 47, 53, 50, 59, 42, 120, 121, 114, 115, 65, 66, 52, 85, 86, 53, 94, 95, 54, 281, 282, 69, 70, 52, 49, 50, 51, 61, 60, 61, 51, 283, 284, 51, 51, 47, 47, 47, 53, 50, 59, 42, 122, 123, 114, 115, 65, 66, 52, 85, 86, 53, 89, 90, 54, 306, 307, 69, 70, 52, 49, 50, 51, 61, 60, 61, 51, 283, 284, 51, 51, 47, 47, 47, 53, 50, 59, 42, 121, 122, 115, 116, 65, 66, 52, 85, 86, 53, 93, 94, 54, 293, 294, 69, 70, 52, 49, 50, 51, 61, 60, 61, 51, 277, 278, 51, 51, 47, 47, 47, 53, 50, 59, 42, 121, 122, 120, 121, 65, 66, 52, 85, 86, 53, 89, 90, 54, 280, 281, 69, 70, 52, 49, 50, 51, 61, 60, 61, 51, 306, 307, 51, 51, 47, 47, 47, 53, 50, 59, 42, 118, 119, 124, 125, 65, 66, 52, 85, 86, 53, 89, 90, 54, 283, 284, 69, 70, 52, 49, 50, 51, 61, 60, 61, 51, 271, 272, 51, 51, 47, 47, 47, 53, 50, 59, 42, 117, 118, 114, 115, 65, 66, 52, 85, 86, 53, 89, 90, 54, 285, 286, 69, 70, 52, 49, 50, 51, 61, 60, 61, 51, 320, 321, 51, 51, 47, 47, 47, 53, 50, 59, 42, 122, 123, 114, 115, 65, 66, 52, 85, 86, 53, 94, 95, 54, 299, 300, 69, 70, 52, 49, 50, 51, 61, 60, 61, 51, 278, 279, 51, 51, 47, 47, 47, 53, 50, 59, 42, 117, 118, 119, 120, 65, 66, 52, 85, 86, 53, 93, 94, 54, 316, 317, 69, 70, 52, 49, 50, 51, 61, 60, 61, 51, 294, 295, 51, 51, 47, 47, 47, 53, 50, 59, 42, 117, 118, 114, 115, 65, 66, 52, 85, 86, 53, 94, 95, 54, 308, 309, 69, 70, 52, 49, 50, 51, 61, 60, 61, 51, 301, 302, 51, 51, 47, 47, 47, 53, 50, 59, 42, 118, 119, 118, 119, 65, 66, 52, 85, 86, 53, 94, 95, 54, 276, 277, 69, 70, 52, 49, 50, 51, 61, 60, 61, 51, 303, 304, 51, 51, 47, 47, 47, 53, 50, 59, 42, 121, 122, 119, 120, 65, 66, 52, 85, 86, 53, 94, 95, 54, 286, 287, 69, 70, 52, 49, 50, 51, 61, 60, 61, 51, 316, 317, 51, 51, 47, 47, 47, 53, 50, 59, 42, 120, 121, 117, 118, 65, 66, 52, 85, 86, 53, 89, 90, 54, 312, 313, 69, 70, 52, 49, 50, 51, 61, 60, 61, 51, 304, 305, 51, 51, 47, 47, 47, 53, 50, 59, 42, 120, 121, 120, 121, 65, 66, 52, 85, 86, 53, 94, 95, 54, 316, 317, 69, 70, 52, 49, 50, 51, 61, 60, 61, 51, 303, 304, 51, 51, 47, 47, 47, 53, 50, 59, 42, 119, 120, 119, 120, 65, 66, 52, 85, 86, 53, 89, 90, 54, 299, 300, 69, 70, 52, 49, 50, 51, 61, 60, 61, 51, 286, 287, 51, 51, 47, 47, 47, 53, 50, 59, 42, 121, 122, 124, 125, 65, 66, 52, 85, 86, 53, 94, 95, 54, 289, 290, 69, 70, 52, 49, 50, 51, 61, 60, 61, 51, 312, 313, 51, 51, 47, 47, 47, 53, 50, 59, 42, 120, 121, 123, 124, 65, 66, 52, 85, 86, 53, 94, 95, 54, 286, 287, 69, 70, 52, 49, 50, 51, 61, 60, 61, 51, 286, 287, 51, 51, 47, 47, 47, 53, 50, 59, 42, 122, 123, 118, 119, 65, 66, 52, 85, 86, 53, 94, 95, 54, 287, 288, 69, 70, 52, 49, 50, 51, 61, 60, 61, 51, 288, 289, 51, 51, 47, 47, 47, 53, 50, 59, 42, 120, 121, 116, 117, 65, 66, 52, 85, 86, 53, 89, 90, 54, 303, 304, 69, 70, 52, 49, 50, 51, 61, 60, 61, 51, 320, 321, 51, 51, 47, 47, 47, 53, 50, 59, 42, 121, 122, 125, 126, 65, 66, 52, 85, 86, 53, 94, 95, 54, 304, 305, 69, 70, 52, 49, 50, 51, 61, 60, 61, 51, 302, 303, 51, 51, 47, 47, 47, 53, 50, 59, 42, 120, 121, 118, 119, 65, 66, 52, 85, 86, 53, 89, 90, 54, 271, 272, 69, 70, 52, 49, 50, 51, 61, 60, 61, 51, 281, 282, 51, 51, 47, 47, 47, 53, 50, 59, 42, 120, 121, 116, 117, 65, 66, 52, 85, 86, 53, 88, 89, 54, 295, 296, 69, 70, 52, 49, 50, 51, 61, 60, 61, 51, 293, 294, 51, 51, 47, 47, 47, 53, 50, 59, 42, 121, 122, 120, 121, 65, 66, 52, 85, 86, 53, 94, 95, 54, 284, 285, 69, 70, 52, 49, 50, 51, 61, 60, 61, 51, 301, 302, 51, 51, 47, 47, 47, 53, 50, 59, 42, 121, 122, 113, 114, 65, 66, 52, 85, 86, 53, 89, 90, 54, 309, 310, 69, 70, 52, 49, 50, 51, 61, 60, 61, 51, 296, 297, 51, 51, 47, 47, 47, 53, 50, 59, 42, 120, 121, 113, 114, 65, 66, 52, 85, 86, 53, 94, 95, 54, 280, 281, 69, 70, 52, 49, 50, 51, 61, 60, 61, 51, 287, 288, 51, 51, 47, 47, 47, 53, 50, 59, 42, 117, 118, 122, 123, 65, 66, 52, 85, 86, 53, 94, 95, 54, 287, 288, 69, 70, 52, 49, 50, 51, 61, 60, 61, 51, 296, 297, 51, 51, 47, 47, 47, 53, 50, 59, 42, 116, 117, 118, 119, 65, 66, 52, 85, 86, 53, 93, 94, 54, 329, 330, 69, 70, 52, 49, 50, 51, 61, 60, 61, 51, 307, 308, 51, 51, 47, 47, 47, 53, 50, 59, 42, 122, 123, 116, 117, 65, 66, 52, 85, 86, 53, 89, 90, 54, 306, 307, 69, 70, 52, 49, 50, 51, 61, 60, 61, 51, 295, 296, 51, 51, 47, 47, 47, 53, 50, 59, 42, 117, 118, 116, 117, 65, 66, 52, 85, 86, 53, 88, 89, 54, 301, 302, 69, 70, 52, 49, 50, 51, 61, 60, 61, 51, 304, 305, 51, 51, 47, 47, 47, 53, 50, 59, 42, 117, 118, 114, 115, 65, 66, 52, 85, 86, 53, 93, 94, 54, 283, 284, 69, 70, 52, 49, 50, 51, 61, 60, 61, 51, 282, 283, 51, 51, 47, 47, 47, 53, 50, 59, 42, 118, 119, 118, 119, 65, 66, 52, 85, 86, 53, 94, 95, 54, 300, 301, 69, 70, 52, 49, 50, 51, 61, 60, 61, 51, 308, 309, 51, 51, 47, 47, 47, 53, 50, 59, 42, 122, 123, 118, 119, 65, 66, 52, 85, 86, 53, 89, 90, 54, 310, 311, 69, 70, 52, 49, 50, 51, 61, 60, 61, 51, 303, 304, 51, 51, 47, 47, 47, 53, 50, 59, 42, 118, 119, 117, 118, 65, 66, 52, 85, 86, 53, 89, 90, 54, 280, 281, 69, 70, 52, 49, 50, 51, 61, 60, 61, 51, 319, 320, 51, 51, 47, 47, 47, 53, 50, 59, 42, 117, 118, 119, 120, 65, 66, 52, 85, 86, 53, 94, 95, 54, 291, 292, 69, 70, 52, 49, 50, 51, 61, 60, 61, 51, 289, 290, 51, 51, 47, 47, 47, 53, 50, 59, 42, 120, 121, 120, 121, 65, 66, 52, 85, 86, 53, 89, 90, 54, 307, 308, 69, 70, 52, 49, 50, 51, 61, 60, 61, 51, 310, 311, 51, 51, 47, 47, 47, 53, 50, 59, 42, 121, 122, 120, 121, 65, 66, 52, 85, 86, 53, 89, 90, 54, 292, 293, 69, 70, 52, 49, 50, 51, 61, 60, 61, 51, 307, 308, 51, 51, 47, 47, 47, 53, 50, 59, 42, 121, 122, 121, 122, 65, 66, 52, 85, 86, 53, 94, 95, 54, 288, 289, 69, 70, 52, 49, 50, 51, 61, 60, 61, 51, 342, 343, 51, 51, 47, 47, 47, 53, 50, 59, 42, 117, 118, 121, 122, 65, 66, 52, 85, 86, 53, 94, 95, 54, 292, 293, 69, 70, 52, 49, 50, 51, 61, 60, 61, 51, 289, 290, 51, 51, 47, 47, 47, 53, 50, 59, 42, 122, 123, 113, 114, 65, 66, 52, 85, 86, 53, 94, 95, 54, 289, 290, 69, 70, 52, 49, 50, 51, 61, 60, 61, 51, 306, 307, 51, 51, 47, 47, 47, 53, 50, 59, 42, 118, 119, 114, 115, 65, 66, 52, 85, 86, 53, 89, 90, 54, 311, 312, 69, 70, 52, 49, 50, 51, 61, 60, 61, 51, 281, 282, 51, 51, 47, 47, 47, 53, 50, 59, 42, 121, 122, 112, 113, 65, 66, 52, 85, 86, 53, 94, 95, 54, 300, 301, 69, 70, 52, 49, 50, 51, 61, 60, 61, 51, 300, 301, 51, 51, 47, 47, 47, 53, 50, 59, 42, 121, 122, 120, 121, 65, 66, 52, 85, 86, 53, 89, 90, 54, 321, 322, 69, 70, 52, 49, 50, 51, 61, 60, 61, 51, 300, 301, 51, 51, 47, 47, 47, 53, 50, 59, 42, 120, 121, 116, 117, 65, 66, 52, 85, 86, 53, 94, 95, 54, 305, 306, 69, 70, 52, 49, 50, 51, 61, 60, 61, 51, 297, 298, 51, 51, 47, 47, 47, 53, 50, 59, 42, 117, 118, 112, 113, 65, 66, 52, 85, 86, 53, 89, 90, 54, 306, 307, 69, 70, 52, 49, 50, 51, 61, 60, 61, 51, 323, 324, 51, 51, 47, 47, 47, 53, 50, 59, 42, 121, 122, 113, 114, 65, 66, 52, 85, 86, 53, 89, 90, 54, 302, 303, 69, 70, 52, 49, 50, 51, 61, 60, 61, 51, 349, 350, 51, 51, 47, 47, 47, 53, 50, 59, 42, 121, 122, 120, 121, 65, 66, 52, 85, 86, 53, 94, 95, 54, 278, 279, 69, 70, 52, 49, 50, 51, 61, 60, 61, 51, 296, 297, 51, 51, 47, 47, 47, 53, 50, 59, 42, 117, 118, 122, 123, 65, 66, 52, 85, 86, 53, 89, 90, 54, 299, 300, 69, 70, 52, 49, 50, 51, 61, 60, 61, 51, 298, 299, 51, 51, 47, 47, 47, 53, 50, 59, 42, 118, 119, 115, 116, 65, 66, 52, 85, 86, 53, 89, 90, 54, 293, 294, 69, 70, 52, 49, 50, 51, 61, 60, 61, 51, 292, 293, 51, 51, 47, 47, 47, 53, 50, 59, 42, 120, 121, 117, 118, 65, 66, 52, 85, 86, 53, 89, 90, 54, 314, 315, 69, 70, 52, 49, 50, 51, 61, 60, 61, 51, 297, 298, 51, 51, 47, 47, 47, 53, 50, 59, 42, 120, 121, 114, 115, 65, 66, 52, 85, 86, 53, 89, 90, 54, 300, 301, 69, 70, 52, 49, 50, 51, 61, 60, 61, 51, 294, 295, 51, 51, 47, 47, 47, 53, 50, 59, 42, 120, 121, 113, 114, 65, 66, 52, 85, 86, 53, 89, 90, 54, 313, 314, 69, 70, 52, 49, 50, 51, 61, 60, 61, 51, 310, 311, 51, 51, 47, 47, 47, 53, 50, 59, 42, 121, 122, 115, 116, 65, 66, 52, 85, 86, 53, 89, 90, 54, 285, 286, 69, 70, 52, 49, 50, 51, 61, 60, 61, 51, 319, 320, 51, 51, 47, 47, 47, 53, 50, 59, 42, 121, 122, 118, 119, 65, 66, 52, 85, 86, 53, 94, 95, 54, 294, 295, 69, 70, 52, 49, 50, 51, 61, 60, 61, 51, 279, 280, 51, 51, 47, 47, 47, 53, 50, 59, 42, 117, 118, 118, 119, 65, 66, 52, 85, 86, 53, 94, 95, 54, 282, 283, 69, 70, 52, 49, 50, 51, 61, 60, 61, 51, 282, 283, 51, 51, 47, 47, 47, 53, 50, 59, 42, 119, 120, 116, 117, 65, 66, 52, 85, 86, 53, 89, 90, 54, 300, 301, 69, 70, 52, 49, 50, 51, 61, 60, 61, 51, 310, 311, 51, 51, 47, 47, 47, 53, 50, 59, 42, 117, 118, 121, 122, 65, 66, 52, 85, 86, 53, 93, 94, 54, 322, 323, 69, 70, 52, 49, 50, 51, 61, 60, 61, 51, 294, 295, 51, 51, 47, 47, 47, 53, 50, 59, 42, 121, 122, 112, 113, 65, 66, 52, 85, 86, 53, 89, 90, 54, 319, 320, 69, 70, 52, 49, 50, 51, 61, 60, 61, 51, 326, 327, 51, 51, 47, 47, 47, 53, 50, 59, 42, 117, 118, 115, 116, 65, 66, 52, 85, 86, 53, 89, 90, 54, 288, 289, 69, 70, 52, 49, 50, 51, 61, 60, 61, 51, 306, 307, 51, 51, 47, 47, 47, 53, 50, 59, 42, 121, 122, 119, 120, 65, 66, 52, 85, 86, 53, 94, 95, 54, 314, 315, 69, 70, 52, 49, 50, 51, 61, 60, 61, 51, 296, 297, 51, 51, 47, 47, 47, 53, 50, 59, 42, 121, 122, 116, 117, 65, 66, 52, 85, 86, 53, 89, 90, 54, 309, 310, 69, 70, 52, 49, 50, 51, 61, 60, 61, 51, 289, 290, 51, 51, 47, 47, 47, 53, 50, 59, 42, 120, 121, 119, 120, 65, 66, 52, 85, 86, 53, 93, 94, 54, 303, 304, 69, 70, 52, 49, 50, 51, 61, 60, 61, 51, 301, 302, 51, 51, 47, 47, 47, 53, 50, 59, 42, 120, 121, 114, 115, 65, 66, 52, 85, 86, 53, 89, 90, 54, 303, 304, 69, 70, 52, 49, 50, 51, 61, 60, 61, 51, 289, 290, 51, 51, 47, 47, 47, 53, 50, 59, 42, 121, 122, 118, 119, 65, 66, 52, 85, 86, 53, 89, 90, 54, 291, 292, 69, 70, 52, 49, 50, 51, 61, 60, 61, 51, 292, 293, 51, 51, 47, 47, 47, 53, 50, 59, 42, 121, 122, 118, 119, 65, 66, 52, 85, 86, 53, 94, 95, 54, 290, 291, 69, 70, 52, 49, 50, 51, 61, 60, 61, 51, 293, 294, 51, 51, 47, 47, 47, 53, 50, 59, 42, 116, 117, 115, 116, 65, 66, 52, 85, 86, 53, 89, 90, 54, 274, 275, 69, 70, 52, 49, 50, 51, 61, 60, 61, 51, 337, 338, 51, 51, 47, 47, 47, 53, 50, 59, 42, 121, 122, 120, 121, 65, 66, 52, 85, 86, 53, 94, 95, 54, 278, 279, 69, 70, 52, 49, 50, 51, 61, 60, 61, 51, 313, 314, 51, 51, 47, 47, 47, 53, 50, 59, 42, 120, 121, 114, 115, 65, 66, 52, 85, 86, 53, 94, 95, 54, 284, 285, 69, 70, 52, 49, 50, 51, 61, 60, 61, 51, 293, 294, 51, 51, 47, 47, 47, 53, 50, 59, 42, 121, 122, 117, 118, 65, 66, 52, 85, 86, 53, 89, 90, 54, 306, 307, 69, 70, 52, 49, 50, 51, 61, 60, 61, 51, 312, 313, 51, 51, 47, 47, 47, 53, 50, 59, 42, 120, 121, 115, 116, 65, 66, 52, 85, 86, 53, 89, 90, 54, 301, 302, 69, 70, 52, 49, 50, 51, 61, 60, 61, 51, 297, 298, 51, 51, 47, 47, 47, 53, 50, 59, 42, 117, 118, 118, 119, 65, 66, 52, 85, 86, 53, 93, 94, 54, 319, 320, 69, 70, 52, 49, 50, 51, 61, 60, 61, 51, 301, 302, 51, 51, 47, 47, 47, 53, 50, 59, 42, 117, 118, 115, 116, 65, 66, 52, 85, 86, 53, 94, 95, 54, 287, 288, 69, 70, 52, 49, 50, 51, 61, 60, 61, 51, 302, 303, 51, 51, 47, 47, 47, 53, 50, 59, 42, 121, 122, 116, 117, 65, 66, 52, 85, 86, 53, 89, 90, 54, 294, 295, 69, 70, 52, 49, 50, 51, 61, 60, 61, 51, 316, 317, 51, 51, 47, 47, 47, 53, 50, 59, 42, 117, 118, 116, 117, 65, 66, 52, 85, 86, 53, 94, 95, 54, 303, 304, 69, 70, 52, 49, 50, 51, 61, 60, 61, 51, 297, 298, 51, 51, 47, 47, 47, 53, 50, 59, 42, 122, 123, 115, 116, 65, 66, 52, 85, 86, 53, 94, 95, 54, 296, 297, 69, 70, 52, 49, 50, 51, 61, 60, 61, 51, 295, 296, 51, 51, 47, 47, 47, 53, 50, 59, 42, 121, 122, 119, 120, 65, 66, 52, 85, 86, 53, 94, 95, 54, 316, 317, 69, 70, 52, 49, 50, 51, 61, 60, 61, 51, 288, 289, 51, 51, 47, 47, 47, 53, 50, 59, 42, 121, 122, 111, 112, 65, 66, 52, 85, 86, 53, 89, 90, 54, 279, 280, 69, 70, 52, 49, 50, 51, 61, 60, 61, 51, 292, 293, 51, 51, 47, 47, 47, 53, 50, 59, 42, 121, 122, 114, 115, 65, 66, 52, 85, 86, 53, 89, 90, 54, 303, 304, 69, 70, 52, 49, 50, 51, 61, 60, 61, 51, 303, 304, 51, 51, 47, 47, 47, 53, 50, 59, 42, 120, 121, 115, 116, 65, 66, 52, 85, 86, 53, 94, 95, 54, 304, 305, 69, 70, 52, 49, 50, 51, 61, 60, 61, 51, 283, 284, 51, 51, 47, 47, 47, 53, 50, 59, 42, 118, 119, 117, 118, 65, 66, 52, 85, 86, 53, 89, 90, 54, 308, 309, 69, 70, 52, 49, 50, 51, 61, 60, 61, 51, 309, 310, 51, 51, 47, 47, 47, 53, 50, 59, 42, 116, 117, 119, 120, 65, 66, 52, 85, 86, 53, 94, 95, 54, 295, 296, 69, 70, 52, 49, 50, 51, 61, 60, 61, 51, 281, 282, 51, 51, 47, 47, 47, 53, 50, 59, 42, 121, 122, 114, 115, 65, 66, 52, 85, 86, 53, 94, 95, 54, 313, 314, 69, 70, 52, 49, 50, 51, 61, 60, 61, 51, 313, 314, 51, 51, 47, 47, 47, 53, 50, 59, 42, 117, 118, 118, 119, 65, 66, 52, 85, 86, 53, 93, 94, 54, 310, 311, 69, 70, 52, 49, 50, 51, 61, 60, 61, 51, 309, 310, 51, 51, 47, 47, 47, 53, 50, 59, 42, 121, 122, 118, 119, 65, 66, 52, 85, 86, 53, 89, 90, 54, 294, 295, 69, 70, 52, 49, 50, 51, 61, 60, 61, 51, 281, 282, 51, 51, 47, 47, 47, 53, 50, 59, 42, 121, 122, 118, 119, 65, 66, 52, 85, 86, 53, 94, 95, 54, 316, 317, 69, 70, 52, 49, 50, 51, 61, 60, 61, 51, 328, 329, 51, 51, 47, 47, 47, 53, 50, 59, 42, 120, 121, 116, 117, 65, 66, 52, 85, 86, 53, 94, 95, 54, 294, 295, 69, 70, 52, 49, 50, 51, 61, 60, 61, 51, 292, 293, 51, 51, 47, 47, 47, 53, 50, 59, 42, 121, 122, 115, 116, 65, 66, 52, 85, 86, 53, 93, 94, 54, 294, 295, 69, 70, 52, 49, 50, 51, 61, 60, 61, 51, 287, 288, 51, 51, 47, 47, 47, 53, 50, 59, 42, 117, 118, 120, 121, 65, 66, 52, 85, 86, 53, 89, 90, 54, 281, 282, 69, 70, 52, 49, 50, 51, 61, 60, 61, 51, 281, 282, 51, 51, 47, 47, 47, 53, 50, 59, 42, 121, 122, 121, 122, 65, 66, 52, 85, 86, 53, 89, 90, 54, 288, 289, 69, 70, 52, 49, 50, 51, 61, 60, 61, 51, 315, 316, 51, 51, 47, 47, 47, 53, 50, 59, 42, 122, 123, 121, 122, 65, 66, 52, 85, 86, 53, 94, 95, 54, 280, 281, 69, 70, 52, 49, 50, 51, 61, 60, 61, 51, 318, 319, 51, 51, 47, 47, 47, 53, 50, 59, 42, 121, 122, 114, 115, 65, 66, 52, 85, 86, 53, 94, 95, 54, 299, 300, 69, 70, 52, 49, 50, 51, 61, 60, 61, 51, 310, 311, 51, 51, 47, 47, 47, 53, 50, 59, 42, 121, 122, 113, 114, 65, 66, 52, 85, 86, 53, 94, 95, 54, 339, 340, 69, 70, 52, 49, 50, 51, 61, 60, 61, 51, 288, 289, 51, 51, 47, 47, 47, 53, 50, 59, 42, 120, 121, 121, 122, 65, 66, 52, 85, 86, 53, 94, 95, 54, 307, 308, 69, 70, 52, 49, 50, 51, 61, 60, 61, 51, 312, 313, 51, 51, 47, 47, 47, 53, 50, 59, 42, 119, 120, 118, 119, 65, 66, 52, 85, 86, 53, 89, 90, 54, 294, 295, 69, 70, 52, 49, 50, 51, 61, 60, 61, 51, 310, 311, 51, 51, 47, 47, 47, 53, 50, 59, 42, 121, 122, 124, 125, 65, 66, 52, 85, 86, 53, 89, 90, 54, 294, 295, 69, 70, 52, 49, 50, 51, 61, 60, 61, 51, 320, 321, 51, 51, 47, 47, 47, 53, 50, 59, 42, 117, 118, 118, 119, 65, 66, 52, 85, 86, 53, 94, 95, 54, 292, 293, 69, 70, 52, 49, 50, 51, 61, 60, 61, 51, 294, 295, 51, 51, 47, 47, 47, 53, 50, 59, 42, 122, 123, 115, 116, 65, 66, 52, 85, 86, 53, 89, 90, 54, 283, 284, 69, 70, 52, 49, 50, 51, 61, 60, 61, 51, 333, 334, 51, 51, 47, 47, 47, 53, 50, 59, 42, 121, 122, 120, 121, 65, 66, 52, 85, 86, 53, 89, 90, 54, 297, 298, 69, 70, 52, 49, 50, 51, 61, 60, 61, 51, 283, 284, 51, 51, 47, 47, 47, 53, 50, 59, 42, 117, 118, 114, 115, 65, 66, 52, 85, 86, 53, 89, 90, 54, 290, 291, 69, 70, 52, 49, 50, 51, 61, 60, 61, 51, 296, 297, 51, 51, 47, 47, 47, 53, 50, 59, 42, 121, 122, 119, 120, 65, 66, 52, 85, 86, 53, 89, 90, 54, 304, 305, 69, 70, 52, 49, 50, 51, 61, 60, 61, 51, 310, 311, 51, 51, 47, 47, 47, 53, 50, 59, 42, 122, 123, 117, 118, 65, 66, 52, 85, 86, 53, 94, 95, 54, 318, 319, 69, 70, 52, 49, 50, 51, 61, 60, 61, 51, 290, 291, 51, 51, 47, 47, 47, 53, 50, 59, 42, 121, 122, 115, 116, 65, 66, 52, 85, 86, 53, 89, 90, 54, 297, 298, 69, 70, 52, 49, 50, 51, 61, 60, 61, 51, 295, 296, 51, 51, 47, 47, 47, 53, 50, 59, 42, 122, 123, 120, 121, 65, 66, 52, 85, 86, 53, 89, 90, 54, 291, 292, 69, 70, 52, 49, 50, 51, 61, 60, 61, 51, 295, 296, 51, 51, 47, 47, 47, 53, 50, 59, 42, 117, 118, 117, 118, 65, 66, 52, 85, 86, 53, 88, 89, 54, 301, 302, 69, 70, 52, 49, 50, 51, 61, 60, 61, 51, 281, 282, 51, 51, 47, 47, 47, 53, 50, 59, 42, 121, 122, 116, 117, 65, 66, 52, 85, 86, 53, 93, 94, 54, 294, 295, 69, 70, 52, 49, 50, 51, 61, 60, 61, 51, 296, 297, 51, 51, 47, 47, 47, 53, 50, 59, 42, 117, 118, 119, 120, 65, 66, 52, 85, 86, 53, 94, 95, 54, 296, 297, 69, 70, 52, 49, 50, 51, 61, 60, 61, 51, 290, 291, 51, 51, 47, 47, 47, 53, 50, 59, 42, 121, 122, 120, 121, 65, 66, 52, 85, 86, 53, 89, 90, 54, 297, 298, 69, 70, 52, 49, 50, 51, 61, 60, 61, 51, 295, 296, 51, 51, 47, 47, 47, 53, 50, 59, 42, 121, 122, 117, 118, 65, 66, 52, 85, 86, 53, 94, 95, 54, 318, 319, 69, 70, 52, 49, 50, 51, 61, 60, 61, 51, 301, 302, 51, 51, 47, 47, 47, 53, 50, 59, 42, 117, 118, 114, 115, 65, 66, 52, 85, 86, 53, 93, 94, 54, 301, 302, 69, 70, 52, 49, 50, 51, 61, 60, 61, 51, 300, 301, 51, 51, 47, 47, 47, 53, 50, 59, 42, 117, 118, 121, 122, 65, 66, 52, 85, 86, 53, 94, 95, 54, 284, 285, 69, 70, 52, 49, 50, 51, 61, 60, 61, 51, 294, 295, 51, 51, 47, 47, 47, 53, 50, 59, 42, 121, 122, 113, 114, 65, 66, 52, 85, 86, 53, 89, 90, 54, 294, 295, 69, 70, 52, 49, 50, 51, 61, 60, 61, 51, 292, 293, 51, 51, 47, 47, 47, 53, 50, 59, 42, 121, 122, 115, 116, 65, 66, 52, 85, 86, 53, 89, 90, 54, 304, 305, 69, 70, 52, 49, 50, 51, 61, 60, 61, 51, 323, 324, 51, 51, 47, 47, 47, 53, 50, 59, 42, 120, 121, 115, 116, 65, 66, 52, 85, 86, 53, 94, 95, 54, 297, 298, 69, 70, 52, 49, 50, 51, 61, 60, 61, 51, 309, 310, 51, 51, 47, 47, 47, 53, 50, 59, 42, 120, 121, 116, 117, 65, 66, 52, 85, 86, 53, 93, 94, 54, 277, 278, 69, 70, 52, 49, 50, 51, 61, 60, 61, 51, 300, 301, 51, 51, 47, 47, 47, 53, 50, 59, 42, 117, 118, 121, 122, 65, 66, 52, 85, 86, 53, 94, 95, 54, 318, 319, 69, 70, 52, 49, 50, 51, 61, 60, 61, 51, 292, 293, 51, 51, 47, 47, 47, 53, 50, 59, 42, 120, 121, 118, 119, 65, 66, 52, 85, 86, 53, 94, 95, 54, 296, 297, 69, 70, 52, 49, 50, 51, 61, 60, 61, 51, 284, 285, 51, 51, 47, 47, 47, 53, 50, 59, 42, 117, 118, 116, 117, 65, 66, 52, 85, 86, 53, 89, 90, 54, 301, 302, 69, 70, 52, 49, 50, 51, 61, 60, 61, 51, 322, 323, 51, 51, 47, 47, 47, 53, 50, 59, 42, 117, 118, 122, 123, 65, 66, 52, 85, 86, 53, 94, 95, 54, 295, 296, 69, 70, 52, 49, 50, 51, 61, 60, 61, 51, 292, 293, 51, 51, 47, 47, 47, 53, 50, 59, 42, 117, 118, 122, 123, 65, 66, 52, 85, 86, 53, 89, 90, 54, 310, 311, 69, 70, 52, 49, 50, 51, 61, 60, 61, 51, 299, 300, 51, 51, 47, 47, 47, 53, 50, 59, 42, 120, 121, 121, 122, 65, 66, 52, 85, 86, 53, 94, 95, 54, 282, 283, 69, 70, 52, 49, 50, 51, 61, 60, 61, 51, 336, 337, 51, 51, 47, 47, 47, 53, 50, 59, 42, 121, 122, 114, 115, 65, 66, 52, 85, 86, 53, 89, 90, 54, 297, 298, 69, 70, 52, 49, 50, 51, 61, 60, 61, 51, 294, 295, 51, 51, 47, 47, 47, 53, 50, 59, 42, 120, 121, 115, 116, 65, 66, 52, 85, 86, 53, 89, 90, 54, 297, 298, 69, 70, 52, 49, 50, 51, 61, 60, 61, 51, 303, 304, 51, 51, 47, 47, 47, 53, 50, 59, 42, 117, 118, 117, 118, 65, 66, 52, 85, 86, 53, 94, 95, 54, 311, 312, 69, 70, 52, 49, 50, 51, 61, 60, 61, 51, 304, 305, 51, 51, 47, 47, 47, 53, 50, 59, 42, 118, 119, 116, 117, 65, 66, 52, 85, 86, 53, 89, 90, 54, 285, 286, 69, 70, 52, 49, 50, 51, 61, 60, 61, 51, 315, 316, 51, 51, 47, 47, 47, 53, 50, 59, 42, 121, 122, 121, 122, 65, 66, 52, 85, 86, 53, 89, 90, 54, 297, 298, 69, 70, 52, 49, 50, 51, 61, 60, 61, 51, 295, 296, 51, 51, 47, 47, 47, 53, 50, 59, 42, 118, 119, 120, 121, 65, 66, 52, 85, 86, 53, 93, 94, 54, 317, 318, 69, 70, 52, 49, 50, 51, 61, 60, 61, 51, 308, 309, 51, 51, 47, 47, 47, 53, 50, 59, 42, 121, 122, 119, 120, 65, 66, 52, 85, 86, 53, 94, 95, 54, 296, 297, 69, 70, 52, 49, 50, 51, 61, 60, 61, 51, 313, 314, 51, 51, 47, 47, 47, 53, 50, 59, 42, 117, 118, 120, 121, 65, 66, 52, 85, 86, 53, 89, 90, 54, 290, 291, 69, 70, 52, 49, 50, 51, 61, 60, 61, 51, 324, 325, 51, 51, 47, 47, 47, 53, 50, 59, 42, 121, 122, 115, 116, 65, 66, 52, 85, 86, 53, 94, 95, 54, 303, 304, 69, 70, 52, 49, 50, 51, 61, 60, 61, 51, 296, 297, 51, 51, 47, 47, 47, 53, 50, 59, 42, 117, 118, 116, 117, 65, 66, 52, 85, 86, 53, 94, 95, 54, 293, 294, 69, 70, 52, 49, 50, 51, 61, 60, 61, 51, 317, 318, 51, 51, 47, 47, 47, 53, 50, 59, 42, 122, 123, 115, 116, 65, 66, 52, 85, 86, 53, 94, 95, 54, 292, 293, 69, 70, 52, 49, 50, 51, 61, 60, 61, 51, 310, 311, 51, 51, 47, 47, 47, 53, 50, 59, 42, 117, 118, 116, 117, 65, 66, 52, 85, 86, 53, 89, 90, 54, 302, 303, 69, 70, 52, 49, 50, 51, 61, 60, 61, 51, 317, 318, 51, 51, 47, 47, 47, 53, 50, 59, 42, 117, 118, 118, 119, 65, 66, 52, 85, 86, 53, 94, 95, 54, 283, 284, 69, 70, 52, 49, 50, 51, 61, 60, 61, 51, 293, 294, 51, 51, 47, 47, 47, 53, 50, 59, 42, 120, 121, 121, 122, 65, 66, 52, 85, 86, 53, 89, 90, 54, 291, 292, 69, 70, 52, 49, 50, 51, 61, 60, 61, 51, 284, 285, 51, 51, 47, 47, 47, 53, 50, 59, 42, 118, 119, 116, 117, 65, 66, 52, 85, 86, 53, 89, 90, 54, 301, 302, 69, 70, 52, 49, 50, 51, 61, 60, 61, 51, 300, 301, 51, 51, 47, 47, 47, 53, 50, 59, 42, 121, 122, 112, 113, 65, 66, 52, 85, 86, 53, 93, 94, 54, 283, 284, 69, 70, 52, 49, 50, 51, 61, 60, 61, 51, 289, 290, 51, 51, 47, 47, 47, 53, 50, 59, 42, 117, 118, 117, 118, 65, 66, 52, 85, 86, 53, 94, 95, 54, 293, 294, 69, 70, 52, 49, 50, 51, 61, 60, 61, 51, 298, 299, 51, 51, 47, 47, 47, 53, 50, 59, 42, 122, 123, 120, 121, 65, 66, 52, 85, 86, 53, 89, 90, 54, 308, 309, 69, 70, 52, 49, 50, 51, 61, 60, 61, 51, 309, 310, 51, 51, 47, 47, 47, 53, 50, 59, 42, 117, 118, 119, 120, 65, 66, 52, 85, 86, 53, 93, 94, 54, 275, 276, 69, 70, 52, 49, 50, 51, 61, 60, 61, 51, 297, 298, 51, 51, 47, 47, 47, 53, 50, 59, 42, 122, 123, 117, 118, 65, 66, 52, 85, 86, 53, 94, 95, 54, 294, 295, 69, 70, 52, 49, 50, 51, 61, 60, 61, 51, 311, 312, 51, 51, 47, 47, 47, 53, 50, 59, 42, 117, 118, 118, 119, 65, 66, 52, 85, 86, 53, 94, 95, 54, 309, 310, 69, 70, 52, 49, 50, 51, 61, 60, 61, 51, 300, 301, 51, 51, 47, 47, 47, 53, 50, 59, 42, 117, 118, 116, 117, 65, 66, 52, 85, 86, 53, 89, 90, 54, 302, 303, 69, 70, 52, 49, 50, 51, 61, 60, 61, 51, 302, 303, 51, 51, 47, 47, 47, 53, 50, 59, 42, 120, 121, 118, 119, 65, 66, 52, 85, 86, 53, 94, 95, 54, 305, 306, 69, 70, 52, 49, 50, 51, 61, 60, 61, 51, 308, 309, 51, 51, 47, 47, 47, 53, 50, 59, 42, 121, 122, 117, 118, 65, 66, 52, 85, 86, 53, 89, 90, 54, 300, 301, 69, 70, 52, 49, 50, 51, 61, 60, 61, 51, 305, 306, 51, 51, 47, 47, 47, 53, 50, 59, 42, 121, 122, 118, 119, 65, 66, 52, 85, 86, 53, 89, 90, 54, 300, 301, 69, 70, 52, 49, 50, 51, 61, 60, 61, 51, 295, 296, 51, 51, 47, 47, 47, 53, 50, 59, 42, 121, 122, 117, 118, 65, 66, 52, 85, 86, 53, 94, 95, 54, 313, 314, 69, 70, 52, 49, 50, 51, 61, 60, 61, 51, 315, 316, 51, 51, 47, 47, 47, 53, 50, 59, 42, 120, 121, 119, 120, 65, 66, 52, 85, 86, 53, 94, 95, 54, 296, 297, 69, 70, 52, 49, 50, 51, 61, 60, 61, 51, 285, 286, 51, 51, 47, 47, 47, 53, 50, 59, 42, 117, 118, 118, 119, 65, 66, 52, 85, 86, 53, 88, 89, 54, 282, 283, 69, 70, 52, 49, 50, 51, 61, 60, 61, 51, 277, 278, 51, 51, 47, 47, 47, 53, 50, 59, 42, 120, 121, 119, 120, 65, 66, 52, 85, 86, 53, 89, 90, 54, 298, 299, 69, 70, 52, 49, 50, 51, 61, 60, 61, 51, 288, 289, 51, 51, 47, 47, 47, 53, 50, 59, 42, 121, 122, 121, 122, 65, 66, 52, 85, 86, 53, 94, 95, 54, 288, 289, 69, 70, 52, 49, 50, 51, 61, 60, 61, 51, 285, 286, 51, 51, 47, 47, 47, 53, 50, 59, 42, 120, 121, 117, 118, 65, 66, 52, 85, 86, 53, 89, 90, 54, 312, 313, 69, 70, 52, 49, 50, 51, 61, 60, 61, 51, 310, 311, 51, 51, 47, 47, 47, 53, 50, 59, 42, 117, 118, 115, 116, 65, 66, 52, 85, 86, 53, 89, 90, 54, 297, 298, 69, 70, 52, 49, 50, 51, 61, 60, 61, 51, 299, 300, 51, 51, 47, 47, 47, 53, 50, 59, 42, 121, 122, 114, 115, 65, 66, 52, 85, 86, 53, 89, 90, 54, 306, 307, 69, 70, 52, 49, 50, 51, 61, 60, 61, 51, 291, 292, 51, 51, 47, 47, 47, 53, 50, 59, 42, 117, 118, 119, 120, 65, 66, 52, 85, 86, 53, 89, 90, 54, 304, 305, 69, 70, 52, 49, 50, 51, 61, 60, 61, 51, 302, 303, 51, 51, 47, 47, 47, 53, 50, 59, 42, 120, 121, 117, 118, 65, 66, 52, 85, 86, 53, 94, 95, 54, 297, 298, 69, 70, 52, 49, 50, 51, 61, 60, 61, 51, 302, 303, 51, 51, 47, 47, 47, 53, 50, 59, 42, 117, 118, 118, 119, 65, 66, 52, 85, 86, 53, 93, 94, 54, 284, 285, 69, 70, 52, 49, 50, 51, 61, 60, 61, 51, 307, 308, 51, 51, 47, 47, 47, 53, 50, 59, 42, 118, 119, 121, 122, 65, 66, 52, 85, 86, 53, 89, 90, 54, 295, 296, 69, 70, 52, 49, 50, 51, 61, 60, 61, 51, 287, 288, 51, 51, 47, 47, 47, 53, 50, 59, 42, 121, 122, 123, 124, 65, 66, 52, 85, 86, 53, 94, 95, 54, 288, 289, 69, 70, 52, 49, 50, 51, 61, 60, 61, 51, 277, 278, 51, 51, 47, 47, 47, 53, 50, 59, 42, 120, 121, 116, 117, 65, 66, 52, 85, 86, 53, 94, 95, 54, 291, 292, 69, 70, 52, 49, 50, 51, 61, 60, 61, 51, 283, 284, 51, 51, 47, 47, 47, 53, 50, 59, 42, 120, 121, 114, 115, 65, 66, 52, 85, 86, 53, 94, 95, 54, 305, 306, 69, 70, 52, 49, 50, 51, 61, 60, 61, 51, 274, 275, 51, 51, 47, 47, 47, 53, 50, 59, 42, 118, 119, 119, 120, 65, 66, 52, 85, 86, 53, 94, 95, 54, 303, 304, 69, 70, 52, 49, 50, 51, 61, 60, 61, 51, 317, 318, 51, 51, 47, 47, 47, 53, 50, 59, 42, 118, 119, 114, 115, 65, 66, 52, 85, 86, 53, 89, 90, 54, 291, 292, 69, 70, 52, 49, 50, 51, 61, 60, 61, 51, 303, 304, 51, 51, 47, 47, 47, 53, 50, 59, 42, 117, 118, 118, 119, 65, 66, 52, 85, 86, 53, 89, 90, 54, 304, 305, 69, 70, 52, 49, 50, 51, 61, 60, 61, 51, 329, 330, 51, 51, 47, 47, 47, 53, 50, 59, 42, 120, 121, 122, 123, 65, 66, 52, 85, 86, 53, 94, 95, 54, 294, 295, 69, 70, 52, 49, 50, 51, 61, 60, 61, 51, 278, 279, 51, 51, 47, 47, 47, 53, 50, 59, 42, 120, 121, 111, 112, 65, 66, 52, 85, 86, 53, 94, 95, 54, 299, 300, 69, 70, 52, 49, 50, 51, 61, 60, 61, 51, 291, 292, 51, 51, 47, 47, 47, 53, 50, 59, 42, 117, 118, 116, 117, 65, 66, 52, 85, 86, 53, 94, 95, 54, 293, 294, 69, 70, 52, 49, 50, 51, 61, 60, 61, 51, 294, 295, 51, 51, 47, 47, 47, 53, 50, 59, 42, 117, 118, 111, 112, 65, 66, 52, 85, 86, 53, 94, 95, 54, 301, 302, 69, 70, 52, 49, 50, 51, 61, 60, 61, 51, 314, 315, 51, 51, 47, 47, 47, 53, 50, 59, 42, 118, 119, 119, 120, 65, 66, 52, 85, 86, 53, 94, 95, 54, 304, 305, 69, 70, 52, 49, 50, 51, 61, 60, 61, 51, 269, 270, 51, 51, 47, 47, 47, 53, 50, 59, 42, 121, 122, 119, 120, 65, 66, 52, 85, 86, 53, 94, 95, 54, 297, 298, 69, 70, 52, 49, 50, 51, 61, 60, 61, 51, 297, 298, 51, 51, 47, 47, 47, 53, 50, 59, 42, 121, 122, 120, 121, 65, 66, 52, 85, 86, 53, 94, 95, 54, 306, 307, 69, 70, 52, 49, 50, 51, 61, 60, 61, 51, 306, 307, 51, 51, 47, 47, 47, 53, 50, 59, 42, 117, 118, 114, 115, 65, 66, 52, 85, 86, 53, 94, 95, 54, 290, 291, 69, 70, 52, 49, 50, 51, 61, 60, 61, 51, 306, 307, 51, 51, 47, 47, 47, 53, 50, 59, 42, 118, 119, 115, 116, 65, 66, 52, 85, 86, 53, 89, 90, 54, 290, 291, 69, 70, 52, 49, 50, 51, 61, 60, 61, 51, 295, 296, 51, 51, 47, 47, 47, 53, 50, 59, 42, 122, 123, 114, 115, 65, 66, 52, 85, 86, 53, 94, 95, 54, 294, 295, 69, 70, 52, 49, 50, 51, 61, 60, 61, 51, 310, 311, 51, 51, 47, 47, 47, 53, 50, 59, 42, 118, 119, 118, 119, 65, 66, 52, 85, 86, 53, 94, 95, 54, 286, 287, 69, 70, 52, 49, 50, 51, 61, 60, 61, 51, 296, 297, 51, 51, 47, 47, 47, 53, 50, 59, 42, 118, 119, 116, 117, 65, 66, 52, 85, 86, 53, 94, 95, 54, 314, 315, 69, 70, 52, 49, 50, 51, 61, 60, 61, 51, 309, 310, 51, 51, 47, 47, 47, 53, 50, 59, 42, 121, 122, 118, 119, 65, 66, 52, 85, 86, 53, 89, 90, 54, 303, 304, 69, 70, 52, 49, 50, 51, 61, 60, 61, 51, 293, 294, 51, 51, 47, 47, 47, 53, 50, 59, 42, 117, 118, 113, 114, 65, 66, 52, 85, 86, 53, 89, 90, 54, 314, 315, 69, 70, 52, 49, 50, 51, 61, 60, 61, 51, 308, 309, 51, 51, 47, 47, 47, 53, 50, 59, 42, 122, 123, 113, 114, 65, 66, 52, 85, 86, 53, 89, 90, 54, 302, 303, 69, 70, 52, 49, 50, 51, 61, 60, 61, 51, 317, 318, 51, 51, 47, 47, 47, 53, 50, 59, 42, 120, 121, 116, 117, 65, 66, 52, 85, 86, 53, 94, 95, 54, 293, 294, 69, 70, 52, 49, 50, 51, 61, 60, 61, 51, 299, 300, 51, 51, 47, 47, 47, 53, 50, 59, 42, 120, 121, 115, 116, 65, 66, 52, 85, 86, 53, 89, 90, 54, 295, 296, 69, 70, 52, 49, 50, 51, 61, 60, 61, 51, 300, 301, 51, 51, 47, 47, 47, 53, 50, 59, 42, 122, 123, 115, 116, 65, 66, 52, 85, 86, 53, 94, 95, 54, 287, 288, 69, 70, 52, 49, 50, 51, 61, 60, 61, 51, 283, 284, 51, 51, 47, 47, 47, 53, 50, 59, 42, 122, 123, 115, 116, 65, 66, 52, 85, 86, 53, 94, 95, 54, 298, 299, 69, 70, 52, 49, 50, 51, 61, 60, 61, 51, 323, 324, 51, 51, 47, 47, 47, 53, 50, 59, 42, 121, 122, 115, 116, 65, 66, 52, 85, 86, 53, 89, 90, 54, 298, 299, 69, 70, 52, 49, 50, 51, 61, 60, 61, 51, 309, 310, 51, 51, 47, 47, 47, 53, 50, 59, 42, 118, 119, 118, 119, 65, 66, 52, 85, 86, 53, 89, 90, 54, 303, 304, 69, 70, 52, 49, 50, 51, 61, 60, 61, 51, 316, 317, 51, 51, 47, 47, 47, 53, 50, 59, 42, 118, 119, 118, 119, 65, 66, 52, 85, 86, 53, 94, 95, 54, 313, 314, 69, 70, 52, 49, 50, 51, 61, 60, 61, 51, 312, 313, 51, 51, 47, 47, 47, 53, 50, 59, 42, 121, 122, 115, 116, 65, 66, 52, 85, 86, 53, 94, 95, 54, 277, 278, 69, 70, 52, 49, 50, 51, 61, 60, 61, 51, 305, 306, 51, 51, 47, 47, 47, 53, 50, 59, 42, 120, 121, 121, 122, 65, 66, 52, 85, 86, 53, 89, 90, 54, 315, 316, 69, 70, 52, 49, 50, 51, 61, 60, 61, 51, 298, 299, 51, 51, 47, 47, 47, 53, 50, 59, 42, 121, 122, 114, 115, 65, 66, 52, 85, 86, 53, 94, 95, 54, 311, 312, 69, 70, 52, 49, 50, 51, 61, 60, 61, 51, 297, 298, 51, 51, 47, 47, 47, 53, 50, 59, 42, 116, 117, 117, 118, 65, 66, 52, 85, 86, 53, 89, 90, 54, 295, 296, 69, 70, 52, 49, 50, 51, 61, 60, 61, 51, 284, 285, 51, 51, 47, 47, 47, 53, 50, 59, 42, 120, 121, 123, 124, 65, 66, 52, 85, 86, 53, 94, 95, 54, 305, 306, 69, 70, 52, 49, 50, 51, 61, 60, 61, 51, 293, 294, 51, 51, 47, 47, 47, 53, 50, 59, 42, 117, 118, 118, 119, 65, 66, 52, 85, 86, 53, 94, 95, 54, 318, 319, 69, 70, 52, 49, 50, 51, 61, 60, 61, 51, 287, 288, 51, 51, 47, 47, 47, 53, 50, 59, 42, 117, 118, 115, 116, 65, 66, 52, 85, 86, 53, 94, 95, 54, 312, 313, 69, 70, 52, 49, 50, 51, 61, 60, 61, 51, 289, 290, 51, 51, 47, 47, 47, 53, 50, 59, 42, 116, 117, 116, 117, 65, 66, 52, 85, 86, 53, 89, 90, 54, 292, 293, 69, 70, 52, 49, 50, 51, 61, 60, 61, 51, 274, 275, 51, 51, 47, 47, 47, 53, 50, 59, 42, 120, 121, 118, 119, 65, 66, 52, 85, 86, 53, 89, 90, 54, 296, 297, 69, 70, 52, 49, 50, 51, 61, 60, 61, 51, 280, 281, 51, 51, 47, 47, 47, 53, 50, 59, 42, 118, 119, 116, 117, 65, 66, 52, 85, 86, 53, 94, 95, 54, 292, 293, 69, 70, 52, 49, 50, 51, 61, 60, 61, 51, 299, 300, 51, 51, 47, 47, 47, 53, 50, 59, 42, 120, 121, 114, 115, 65, 66, 52, 85, 86, 53, 88, 89, 54, 289, 290, 69, 70, 52, 49, 50, 51, 61, 60, 61, 51, 303, 304, 51, 51, 47, 47, 47, 53, 50, 59, 42, 121, 122, 122, 123, 65, 66, 52, 85, 86, 53, 89, 90, 54, 306, 307, 69, 70, 52, 49, 50, 51, 61, 60, 61, 51, 295, 296, 51, 51, 47, 47, 47, 53, 50, 59, 42, 118, 119, 114, 115, 65, 66, 52, 85, 86, 53, 89, 90, 54, 311, 312, 69, 70, 52, 49, 50, 51, 61, 60, 61, 51, 298, 299, 51, 51, 47, 47, 47, 53, 50, 59, 42, 121, 122, 118, 119, 65, 66, 52, 85, 86, 53, 94, 95, 54, 298, 299, 69, 70, 52, 49, 50, 51, 61, 60, 61, 51, 301, 302, 51, 51, 47, 47, 47, 53, 50, 59, 42, 117, 118, 119, 120, 65, 66, 52, 85, 86, 53, 89, 90, 54, 295, 296, 69, 70, 52, 49, 50, 51, 61, 60, 61, 51, 313, 314, 51, 51, 47, 47, 47, 53, 50, 59, 42, 120, 121, 115, 116, 65, 66, 52, 85, 86, 53, 94, 95, 54, 285, 286, 69, 70, 52, 49, 50, 51, 61, 60, 61, 51, 299, 300, 51, 51, 47, 47, 47, 53, 50, 59, 42, 117, 118, 119, 120, 65, 66, 52, 85, 86, 53, 94, 95, 54, 285, 286, 69, 70, 52, 49, 50, 51, 61, 60, 61, 51, 287, 288, 51, 51, 47, 47, 47, 53, 50, 59, 42, 120, 121, 115, 116, 65, 66, 52, 85, 86, 53, 89, 90, 54, 281, 282, 69, 70, 52, 49, 50, 51, 61, 60, 61, 51, 303, 304, 51, 51, 47, 47, 47, 53, 50, 59, 42, 122, 123, 111, 112, 65, 66, 52, 85, 86, 53, 89, 90, 54, 291, 292, 69, 70, 52, 49, 50, 51, 61, 60, 61, 51, 283, 284, 51, 51, 47, 47, 47, 53, 50, 59, 42, 120, 121, 119, 120, 65, 66, 52, 85, 86, 53, 89, 90, 54, 295, 296, 69, 70, 52, 49, 50, 51, 61, 60, 61, 51, 309, 310, 51, 51, 47, 47, 47, 53, 50, 59, 42, 117, 118, 115, 116, 65, 66, 52, 85, 86, 53, 93, 94, 54, 302, 303, 69, 70, 52, 49, 50, 51, 61, 60, 61, 51, 289, 290, 51, 51, 47, 47, 47, 53, 50, 59, 42, 121, 122, 113, 114, 65, 66, 52, 85, 86, 53, 94, 95, 54, 303, 304, 69, 70, 52, 49, 50, 51, 61, 60, 61, 51, 306, 307, 51, 51, 47, 47, 47, 53, 50, 59, 42, 117, 118, 120, 121, 65, 66, 52, 85, 86, 53, 94, 95, 54, 288, 289, 69, 70, 52, 49, 50, 51, 61, 60, 61, 51, 312, 313, 51, 51, 47, 47, 47, 53, 50, 59, 42, 118, 119, 115, 116, 65, 66, 52, 85, 86, 53, 93, 94, 54, 306, 307, 69, 70, 52, 49, 50, 51, 61, 60, 61, 51, 327, 328, 51, 51, 47, 47, 47, 53, 50, 59, 42, 122, 123, 117, 118, 65, 66, 52, 85, 86, 53, 94, 95, 54, 314, 315, 69, 70, 52, 49, 50, 51, 61, 60, 61, 51, 294, 295, 51, 51, 47, 47, 47, 53, 50, 59, 42, 121, 122, 116, 117, 65, 66, 52, 85, 86, 53, 94, 95, 54, 305, 306, 69, 70, 52, 49, 50, 51, 61, 60, 61, 51, 276, 277, 51, 51, 47, 47, 47, 53, 50, 59, 42, 118, 119, 114, 115, 65, 66, 52, 85, 86, 53, 94, 95, 54, 315, 316, 69, 70, 52, 49, 50, 51, 61, 60, 61, 51, 322, 323, 51, 51, 47, 47, 47, 53, 50, 59, 42, 120, 121, 117, 118, 65, 66, 52, 85, 86, 53, 94, 95, 54, 293, 294, 69, 70, 52, 49, 50, 51, 61, 60, 61, 51, 304, 305, 51, 51, 47, 47, 47, 53, 50, 59, 42, 119, 120, 112, 113, 65, 66, 52, 85, 86, 53, 93, 94, 54, 289, 290, 69, 70, 52, 49, 50, 51, 61, 60, 61, 51, 323, 324, 51, 51, 47, 47, 47, 53, 50, 59, 42, 121, 122, 114, 115, 65, 66, 52, 85, 86, 53, 89, 90, 54, 318, 319, 69, 70, 52, 49, 50, 51, 61, 60, 61, 51, 284, 285, 51, 51, 47, 47, 47, 53, 50, 59, 42, 120, 121, 117, 118, 65, 66, 52, 85, 86, 53, 94, 95, 54, 281, 282, 69, 70, 52, 49, 50, 51, 61, 60, 61, 51, 293, 294, 51, 51, 47, 47, 47, 53, 50, 59, 42, 122, 123, 114, 115, 65, 66, 52, 85, 86, 53, 89, 90, 54, 286, 287, 69, 70, 52, 49, 50, 51, 61, 60, 61, 51, 268, 269, 51, 51, 47, 47, 47, 53, 50, 59, 42, 122, 123, 120, 121, 65, 66, 52, 85, 86, 53, 89, 90, 54, 313, 314, 69, 70, 52, 49, 50, 51, 61, 60, 61, 51, 326, 327, 51, 51, 47, 47, 47, 53, 50, 59, 42, 117, 118, 113, 114, 65, 66, 52, 85, 86, 53, 94, 95, 54, 295, 296, 69, 70, 52, 49, 50, 51, 61, 60, 61, 51, 293, 294, 51, 51, 47, 47, 47, 53, 50, 59, 42, 121, 122, 120, 121, 65, 66, 52, 85, 86, 53, 89, 90, 54, 326, 327, 69, 70, 52, 49, 50, 51, 61, 60, 61, 51, 285, 286, 51, 51, 47, 47, 47, 53, 50, 59, 42, 120, 121, 115, 116, 65, 66, 52, 85, 86, 53, 88, 89, 54, 300, 301, 69, 70, 52, 49, 50, 51, 61, 60, 61, 51, 299, 300, 51, 51, 47, 47, 47, 53, 50, 59, 42, 121, 122, 114, 115, 65, 66, 52, 85, 86, 53, 89, 90, 54, 301, 302, 69, 70, 52, 49, 50, 51, 61, 60, 61, 51, 306, 307, 51, 51, 47, 47, 47, 53, 50, 59, 42, 120, 121, 118, 119, 65, 66, 52, 85, 86, 53, 89, 90, 54, 308, 309, 69, 70, 52, 49, 50, 51, 61, 60, 61, 51, 287, 288, 51, 51, 47, 47, 47, 53, 50, 59, 42, 121, 122, 118, 119, 65, 66, 52, 85, 86, 53, 89, 90, 54, 339, 340, 69, 70, 52, 49, 50, 51, 61, 60, 61, 51, 316, 317, 51, 51, 47, 47, 47, 53, 50, 59, 42, 121, 122, 118, 119, 65, 66, 52, 85, 86, 53, 89, 90, 54, 294, 295, 69, 70, 52, 49, 50, 51, 61, 60, 61, 51, 307, 308, 51, 51, 47, 47, 47, 53, 50, 59, 42, 122, 123, 115, 116, 65, 66, 52, 85, 86, 53, 94, 95, 54, 297, 298, 69, 70, 52, 49, 50, 51, 61, 60, 61, 51, 309, 310, 51, 51, 47, 47, 47, 53, 50, 59, 42, 118, 119, 119, 120, 65, 66, 52, 85, 86, 53, 89, 90, 54, 304, 305, 69, 70, 52, 49, 50, 51, 61, 60, 61, 51, 295, 296, 51, 51, 47, 47, 47, 53, 50, 59, 42, 118, 119, 114, 115, 65, 66, 52, 85, 86, 53, 89, 90, 54, 305, 306, 69, 70, 52, 49, 50, 51, 61, 60, 61, 51, 304, 305, 51, 51, 47, 47, 47, 53, 50, 59, 42, 120, 121, 115, 116, 65, 66, 52, 85, 86, 53, 94, 95, 54, 298, 299, 69, 70, 52, 49, 50, 51, 61, 60, 61, 51, 304, 305, 51, 51, 47, 47, 47, 53, 50, 59, 42, 120, 121, 120, 121, 65, 66, 52, 85, 86, 53, 94, 95, 54, 299, 300, 69, 70, 52, 49, 50, 51, 61, 60, 61, 51, 282, 283, 51, 51, 47, 47, 47, 53, 50, 59, 42, 117, 118, 119, 120, 65, 66, 52, 85, 86, 53, 93, 94, 54, 329, 330, 69, 70, 52, 49, 50, 51, 61, 60, 61, 51, 295, 296, 51, 51, 47, 47, 47, 53, 50, 59, 42, 120, 121, 118, 119, 65, 66, 52, 85, 86, 53, 88, 89, 54, 327, 328, 69, 70, 52, 49, 50, 51, 61, 60, 61, 51, 305, 306, 51, 51, 47, 47, 47, 53, 50, 59, 42, 121, 122, 116, 117, 65, 66, 52, 85, 86, 53, 94, 95, 54, 306, 307, 69, 70, 52, 49, 50, 51, 61, 60, 61, 51, 275, 276, 51, 51, 47, 47, 47, 53, 50, 59, 42, 120, 121, 117, 118, 65, 66, 52, 85, 86, 53, 94, 95, 54, 287, 288, 69, 70, 52, 49, 50, 51, 61, 60, 61, 51, 330, 331, 51, 51, 47, 47, 47, 53, 50, 59, 42, 118, 119, 122, 123, 65, 66, 52, 85, 86, 53, 89, 90, 54, 299, 300, 69, 70, 52, 49, 50, 51, 61, 60, 61, 51, 279, 280, 51, 51, 47, 47, 47, 53, 50, 59, 42, 118, 119, 116, 117, 65, 66, 52, 85, 86, 53, 94, 95, 54, 313, 314, 69, 70, 52, 49, 50, 51, 61, 60, 61, 51, 277, 278, 51, 51, 47, 47, 47, 53, 50, 59, 42, 117, 118, 119, 120, 65, 66, 52, 85, 86, 53, 94, 95, 54, 307, 308, 69, 70, 52, 49, 50, 51, 61, 60, 61, 51, 290, 291, 51, 51, 47, 47, 47, 53, 50, 59, 42, 121, 122, 115, 116, 65, 66, 52, 85, 86, 53, 89, 90, 54, 295, 296, 69, 70, 52, 49, 50, 51, 61, 60, 61, 51, 277, 278, 51, 51, 47, 47, 47, 53, 50, 59, 42, 122, 123, 119, 120, 65, 66, 52, 85, 86, 53, 94, 95, 54, 291, 292, 69, 70, 52, 49, 50, 51, 61, 60, 61, 51, 293, 294, 51, 51, 47, 47, 47, 53, 50, 59, 42, 121, 122, 116, 117, 65, 66, 52, 85, 86, 53, 89, 90, 54, 297, 298, 69, 70, 52, 49, 50, 51, 61, 60, 61, 51, 308, 309, 51, 51, 47, 47, 47, 53, 50, 59, 42, 120, 121, 117, 118, 65, 66, 52, 85, 86, 53, 89, 90, 54, 295, 296, 69, 70, 52, 49, 50, 51, 61, 60, 61, 51, 293, 294, 51, 51, 47, 47, 47, 53, 50, 59, 42, 120, 121, 118, 119, 65, 66, 52, 85, 86, 53, 89, 90, 54, 288, 289, 69, 70, 52, 49, 50, 51, 61, 60, 61, 51, 295, 296, 51, 51, 47, 47, 47, 53, 50, 59, 42, 122, 123, 121, 122, 65, 66, 52, 85, 86, 53, 94, 95, 54, 293, 294, 69, 70, 52, 49, 50, 51, 61, 60, 61, 51, 299, 300, 51, 51, 47, 47, 47, 53, 50, 59, 42, 117, 118, 121, 122, 65, 66, 52, 85, 86, 53, 94, 95, 54, 297, 298, 69, 70, 52, 49, 50, 51, 61, 60, 61, 51, 291, 292, 51, 51, 47, 47, 47, 53, 50, 59, 42, 121, 122, 119, 120, 65, 66, 52, 85, 86, 53, 94, 95, 54, 312, 313, 69, 70, 52, 49, 50, 51, 61, 60, 61, 51, 310, 311, 51, 51, 47, 47, 47, 53, 50, 59, 42, 121, 122, 114, 115, 65, 66, 52, 85, 86, 53, 89, 90, 54, 307, 308, 69, 70, 52, 49, 50, 51, 61, 60, 61, 51, 314, 315, 51, 51, 47, 47, 47, 53, 50, 59, 42, 122, 123, 112, 113, 65, 66, 52, 85, 86, 53, 94, 95, 54, 292, 293, 69, 70, 52, 49, 50, 51, 61, 60, 61, 51, 287, 288, 51, 51, 47, 47, 47, 53, 50, 59, 42, 120, 121, 117, 118, 65, 66, 52, 85, 86, 53, 94, 95, 54, 311, 312, 69, 70, 52, 49, 50, 51, 61, 60, 61, 51, 322, 323, 51, 51, 47, 47, 47, 53, 50, 59, 42, 117, 118, 115, 116, 65, 66, 52, 85, 86, 53, 89, 90, 54, 290, 291, 69, 70, 52, 49, 50, 51, 61, 60, 61, 51, 324, 325, 51, 51, 47, 47, 47, 53, 50, 59, 42, 120, 121, 115, 116, 65, 66, 52, 85, 86, 53, 94, 95, 54, 293, 294, 69, 70, 52, 49, 50, 51, 61, 60, 61, 51, 293, 294, 51, 51, 47, 47, 47, 53, 50, 59, 42, 118, 119, 113, 114, 65, 66, 52, 85, 86, 53, 89, 90, 54, 322, 323, 69, 70, 52, 49, 50, 51, 61, 60, 61, 51, 281, 282, 51, 51, 47, 47, 47, 53, 50, 59, 42, 121, 122, 123, 124, 65, 66, 52, 85, 86, 53, 93, 94, 54, 293, 294, 69, 70, 52, 49, 50, 51, 61, 60, 61, 51, 290, 291, 51, 51, 47, 47, 47, 53, 50, 59, 42, 117, 118, 116, 117, 65, 66, 52, 85, 86, 53, 87, 88, 54, 284, 285, 69, 70, 52, 49, 50, 51, 61, 60, 61, 51, 273, 274, 51, 51, 47, 47, 47, 53, 50, 59, 42, 121, 122, 116, 117, 65, 66, 52, 85, 86, 53, 94, 95, 54, 293, 294, 69, 70, 52, 49, 50, 51, 61, 60, 61, 51, 309, 310, 51, 51, 47, 47, 47, 53, 50, 59, 42, 117, 118, 121, 122, 65, 66, 52, 85, 86, 53, 89, 90, 54, 305, 306, 69, 70, 52, 49, 50, 51, 61, 60, 61, 51, 320, 321, 51, 51, 47, 47, 47, 53, 50, 59, 42, 120, 121, 116, 117, 65, 66, 52, 85, 86, 53, 89, 90, 54, 289, 290, 69, 70, 52, 49, 50, 51, 61, 60, 61, 51, 297, 298, 51, 51, 47, 47, 47, 53, 50, 59, 42, 117, 118, 112, 113, 65, 66, 52, 85, 86, 53, 93, 94, 54, 323, 324, 69, 70, 52, 49, 50, 51, 61, 60, 61, 51, 297, 298, 51, 51, 47, 47, 47, 53, 50, 59, 42, 121, 122, 115, 116, 65, 66, 52, 85, 86, 53, 94, 95, 54, 278, 279, 69, 70, 52, 49, 50, 51, 61, 60, 61, 51, 291, 292, 51, 51, 47, 47, 47, 53, 50, 59, 42, 122, 123, 116, 117, 65, 66, 52, 85, 86, 53, 89, 90, 54, 310, 311, 69, 70, 52, 49, 50, 51, 61, 60, 61, 51, 288, 289, 51, 51, 47, 47, 47, 53, 50, 59, 42, 121, 122, 115, 116, 65, 66, 52, 85, 86, 53, 89, 90, 54, 281, 282, 69, 70, 52, 49, 50, 51, 61, 60, 61, 51, 290, 291, 51, 51, 47, 47, 47, 53, 50, 59, 42, 121, 122, 118, 119, 65, 66, 52, 85, 86, 53, 94, 95, 54, 313, 314, 69, 70, 52, 49, 50, 51, 61, 60, 61, 51, 293, 294, 51, 51, 47, 47, 47, 53, 50, 59, 42, 121, 122, 119, 120, 65, 66, 52, 85, 86, 53, 94, 95, 54, 288, 289, 69, 70, 52, 49, 50, 51, 61, 60, 61, 51, 297, 298, 51, 51, 47, 47, 47, 53, 50, 59, 42, 120, 121, 113, 114, 65, 66, 52, 85, 86, 53, 94, 95, 54, 293, 294, 69, 70, 52, 49, 50, 51, 61, 60, 61, 51, 288, 289, 51, 51, 47, 47, 47, 53, 50, 59, 42, 122, 123, 116, 117, 65, 66, 52, 85, 86, 53, 94, 95, 54, 288, 289, 69, 70, 52, 49, 50, 51, 61, 60, 61, 51, 315, 316, 51, 51, 47, 47, 47, 53, 50, 59, 42, 117, 118, 121, 122, 65, 66, 52, 85, 86, 53, 89, 90, 54, 311, 312, 69, 70, 52, 49, 50, 51, 61, 60, 61, 51, 318, 319, 51, 51, 47, 47, 47, 53, 50, 59, 42, 121, 122, 118, 119, 65, 66, 52, 85, 86, 53, 94, 95, 54, 292, 293, 69, 70, 52, 49, 50, 51, 61, 60, 61, 51, 287, 288, 51, 51, 47, 47, 47, 53, 50, 59, 42, 117, 118, 115, 116, 65, 66, 52, 85, 86, 53, 89, 90, 54, 291, 292, 69, 70, 52, 49, 50, 51, 61, 60, 61, 51, 321, 322, 51, 51, 47, 47, 47, 53, 50, 59, 42, 118, 119, 117, 118, 65, 66, 52, 85, 86, 53, 94, 95, 54, 315, 316, 69, 70, 52, 49, 50, 51, 61, 60, 61, 51, 283, 284, 51, 51, 47, 47, 47, 53, 50, 59, 42, 118, 119, 111, 112, 65, 66, 52, 85, 86, 53, 89, 90, 54, 286, 287, 69, 70, 52, 49, 50, 51, 61, 60, 61, 51, 304, 305, 51, 51, 47, 47, 47, 53, 50, 59, 42, 122, 123, 119, 120, 65, 66, 52, 85, 86, 53, 94, 95, 54, 288, 289, 69, 70, 52, 49, 50, 51, 61, 60, 61, 51, 293, 294, 51, 51, 47, 47, 47, 53, 50, 59, 42, 117, 118, 118, 119, 65, 66, 52, 85, 86, 53, 89, 90, 54, 287, 288, 69, 70, 52, 49, 50, 51, 61, 60, 61, 51, 303, 304, 51, 51, 47, 47, 47, 53, 50, 59, 42, 120, 121, 123, 124, 65, 66, 52, 85, 86, 53, 94, 95, 54, 303, 304, 69, 70, 52, 49, 50, 51, 61, 60, 61, 51, 285, 286, 51, 51, 47, 47, 47, 53, 50, 59, 42, 117, 118, 118, 119, 65, 66, 52, 85, 86, 53, 89, 90, 54, 286, 287, 69, 70, 52, 49, 50, 51, 61, 60, 61, 51, 288, 289, 51, 51, 47, 47, 47, 53, 50, 59, 42, 117, 118, 116, 117, 65, 66, 52, 85, 86, 53, 94, 95, 54, 325, 326, 69, 70, 52, 49, 50, 51, 61, 60, 61, 51, 304, 305, 51, 51, 47, 47, 47, 53, 50, 59, 42, 118, 119, 122, 123, 65, 66, 52, 85, 86, 53, 89, 90, 54, 297, 298, 69, 70, 52, 49, 50, 51, 61, 60, 61, 51, 297, 298, 51, 51, 47, 47, 47, 53, 50, 59, 42, 121, 122, 117, 118, 65, 66, 52, 85, 86, 53, 94, 95, 54, 318, 319, 69, 70, 52, 49, 50, 51, 61, 60, 61, 51, 295, 296, 51, 51, 47, 47, 47, 53, 50, 59, 42, 117, 118, 111, 112, 65, 66, 52, 85, 86, 53, 89, 90, 54, 295, 296, 69, 70, 52, 49, 50, 51, 61, 60, 61, 51, 280, 281, 51, 51, 47, 47, 47, 53, 50, 59, 42, 117, 118, 119, 120, 65, 66, 52, 85, 86, 53, 94, 95, 54, 288, 289, 69, 70, 52, 49, 50, 51, 61, 60, 61, 51, 329, 330, 51, 51, 47, 47, 47, 53, 50, 59, 42, 121, 122, 113, 114, 65, 66, 52, 85, 86, 53, 89, 90, 54, 304, 305, 69, 70, 52, 49, 50, 51, 61, 60, 61, 51, 305, 306, 51, 51, 47, 47, 47, 53, 50, 59, 42, 121, 122, 119, 120, 65, 66, 52, 85, 86, 53, 89, 90, 54, 286, 287, 69, 70, 52, 49, 50, 51, 61, 60, 61, 51, 319, 320, 51, 51, 47, 47, 47, 53, 50, 59, 42, 122, 123, 116, 117, 65, 66, 52, 85, 86, 53, 89, 90, 54, 311, 312, 69, 70, 52, 49, 50, 51, 61, 60, 61, 51, 296, 297, 51, 51, 47, 47, 47, 53, 50, 59, 42, 122, 123, 115, 116, 65, 66, 52, 85, 86, 53, 94, 95, 54, 306, 307, 69, 70, 52, 49, 50, 51, 61, 60, 61, 51, 302, 303, 51, 51, 47, 47, 47, 53, 50, 59, 42, 120, 121, 118, 119, 65, 66, 52, 85, 86, 53, 94, 95, 54, 322, 323, 69, 70, 52, 49, 50, 51, 61, 60, 61, 51, 290, 291, 51, 51, 47, 47, 47, 53, 50, 59, 42, 121, 122, 112, 113, 65, 66, 52, 85, 86, 53, 94, 95, 54, 298, 299, 69, 70, 52, 49, 50, 51, 61, 60, 61, 51, 295, 296, 51, 51, 47, 47, 47, 53, 50, 59, 42, 121, 122, 113, 114, 65, 66, 52, 85, 86, 53, 89, 90, 54, 303, 304, 69, 70, 52, 49, 50, 51, 61, 60, 61, 51, 299, 300, 51, 51, 47, 47, 47, 53, 50, 59, 42, 120, 121, 117, 118, 65, 66, 52, 85, 86, 53, 94, 95, 54, 307, 308, 69, 70, 52, 49, 50, 51, 61, 60, 61, 51, 296, 297, 51, 51, 47, 47, 47, 53, 50, 59, 42, 122, 123, 117, 118, 65, 66, 52, 85, 86, 53, 89, 90, 54, 283, 284, 69, 70, 52, 49, 50, 51, 61, 60, 61, 51, 282, 283, 51, 51, 47, 47, 47, 53, 50, 59, 42, 117, 118, 114, 115, 65, 66, 52, 85, 86, 53, 89, 90, 54, 292, 293, 69, 70, 52, 49, 50, 51, 61, 60, 61, 51, 306, 307, 51, 51, 47, 47, 47, 53, 50, 59, 42, 121, 122, 118, 119, 65, 66, 52, 85, 86, 53, 94, 95, 54, 309, 310, 69, 70, 52, 49, 50, 51, 61, 60, 61, 51, 297, 298, 51, 51, 47, 47, 47, 53, 50, 59, 42, 121, 122, 121, 122, 65, 66, 52, 85, 86, 53, 94, 95, 54, 283, 284, 69, 70, 52, 49, 50, 51, 61, 60, 61, 51, 316, 317, 51, 51, 47, 47, 47, 53, 50, 59, 42, 120, 121, 115, 116, 65, 66, 52, 85, 86, 53, 94, 95, 54, 313, 314, 69, 70, 52, 49, 50, 51, 61, 60, 61, 51, 290, 291, 51, 51, 47, 47, 47, 53, 50, 59, 42, 122, 123, 117, 118, 65, 66, 52, 85, 86, 53, 89, 90, 54, 325, 326, 69, 70, 52, 49, 50, 51, 61, 60, 61, 51, 290, 291, 51, 51, 47, 47, 47, 53, 50, 59, 42, 117, 118, 120, 121, 65, 66, 52, 85, 86, 53, 94, 95, 54, 309, 310, 69, 70, 52, 49, 50, 51, 61, 60, 61, 51, 308, 309, 51, 51, 47, 47, 47, 53, 50, 59, 42, 121, 122, 117, 118, 65, 66, 52, 85, 86, 53, 89, 90, 54, 282, 283, 69, 70, 52, 49, 50, 51, 61, 60, 61, 51, 276, 277, 51, 51, 47, 47, 47, 53, 50, 59, 42, 119, 120, 118, 119, 65, 66, 52, 85, 86, 53, 94, 95, 54, 300, 301, 69, 70, 52, 49, 50, 51, 61, 60, 61, 51, 297, 298, 51, 51, 47, 47, 47, 53, 50, 59, 42, 117, 118, 117, 118, 65, 66, 52, 85, 86, 53, 94, 95, 54, 293, 294, 69, 70, 52, 49, 50, 51, 61, 60, 61, 51, 313, 314, 51, 51, 47, 47, 47, 53, 50, 59, 42, 120, 121, 114, 115, 65, 66, 52, 85, 86, 53, 89, 90, 54, 312, 313, 69, 70, 52, 49, 50, 51, 61, 60, 61, 51, 289, 290, 51, 51, 47, 47, 47, 53, 50, 59, 42, 120, 121, 114, 115, 65, 66, 52, 85, 86, 53, 94, 95, 54, 273, 274, 69, 70, 52, 49, 50, 51, 61, 60, 61, 51, 304, 305, 51, 51, 47, 47, 47, 53, 50, 59, 42, 121, 122, 116, 117, 65, 66, 52, 85, 86, 53, 94, 95, 54, 280, 281, 69, 70, 52, 49, 50, 51, 61, 60, 61, 51, 294, 295, 51, 51, 47, 47, 47, 53, 50, 59, 42, 120, 121, 118, 119, 65, 66, 52, 85, 86, 53, 88, 89, 54, 294, 295, 69, 70, 52, 49, 50, 51, 61, 60, 61, 51, 313, 314, 51, 51, 47, 47, 47, 53, 50, 59, 42, 117, 118, 116, 117, 65, 66, 52, 85, 86, 53, 94, 95, 54, 281, 282, 69, 70, 52, 49, 50, 51, 61, 60, 61, 51, 287, 288, 51, 51, 47, 47, 47, 53, 50, 59, 42, 118, 119, 115, 116, 65, 66, 52, 85, 86, 53, 94, 95, 54, 308, 309, 69, 70, 52, 49, 50, 51, 61, 60, 61, 51, 268, 269, 51, 51, 47, 47, 47, 53, 50, 59, 42, 117, 118, 115, 116, 65, 66, 52, 85, 86, 53, 92, 93, 54, 299, 300, 69, 70, 52, 49, 50, 51, 61, 60, 61, 51, 301, 302, 51, 51, 47, 47, 47, 53, 50, 59, 42, 120, 121, 117, 118, 65, 66, 52, 85, 86, 53, 89, 90, 54, 326, 327, 69, 70, 52, 49, 50, 51, 61, 60, 61, 51, 296, 297, 51, 51, 47, 47, 47, 53, 50, 59, 42, 117, 118, 112, 113, 65, 66, 52, 85, 86, 53, 94, 95, 54, 294, 295, 69, 70, 52, 49, 50, 51, 61, 60, 61, 51, 290, 291, 51, 51, 47, 47, 47, 53, 50, 59, 42, 117, 118, 116, 117, 65, 66, 52, 85, 86, 53, 89, 90, 54, 291, 292, 69, 70, 52, 49, 50, 51, 61, 60, 61, 51, 303, 304, 51, 51, 47, 47, 47, 53, 50, 59, 42, 121, 122, 119, 120, 65, 66, 52, 85, 86, 53, 94, 95, 54, 298, 299, 69, 70, 52, 49, 50, 51, 61, 60, 61, 51, 302, 303, 51, 51, 47, 47, 47, 53, 50, 59, 42, 121, 122, 116, 117, 65, 66, 52, 85, 86, 53, 88, 89, 54, 290, 291, 69, 70, 52, 49, 50, 51, 61, 60, 61, 51, 286, 287, 51, 51, 47, 47, 47, 53, 50, 59, 42, 118, 119, 117, 118, 65, 66, 52, 85, 86, 53, 89, 90, 54, 332, 333, 69, 70, 52, 49, 50, 51, 61, 60, 61, 51, 295, 296, 51, 51, 47, 47, 47, 53, 50, 59, 42, 121, 122, 119, 120, 65, 66, 52, 85, 86, 53, 93, 94, 54, 289, 290, 69, 70, 52, 49, 50, 51, 61, 60, 61, 51, 288, 289, 51, 51, 47, 47, 47, 53, 50, 59, 42, 122, 123, 115, 116, 65, 66, 52, 85, 86, 53, 89, 90, 54, 294, 295, 69, 70, 52, 49, 50, 51, 61, 60, 61, 51, 292, 293, 51, 51, 47, 47, 47, 53, 50, 59, 42, 119, 120, 114, 115, 65, 66, 52, 85, 86, 53, 89, 90, 54, 296, 297, 69, 70, 52, 49, 50, 51, 61, 60, 61, 51, 290, 291, 51, 51, 47, 47, 47, 53, 50, 59, 42, 118, 119, 122, 123, 65, 66, 52, 85, 86, 53, 94, 95, 54, 285, 286, 69, 70, 52, 49, 50, 51, 61, 60, 61, 51, 289, 290, 51, 51, 47, 47, 47, 53, 50, 59, 42, 121, 122, 121, 122, 65, 66, 52, 85, 86, 53, 93, 94, 54, 274, 275, 69, 70, 52, 49, 50, 51, 61, 60, 61, 51, 291, 292, 51, 51, 47, 47, 47, 53, 50, 59, 42, 120, 121, 117, 118, 65, 66, 52, 85, 86, 53, 94, 95, 54, 292, 293, 69, 70, 52, 49, 50, 51, 61, 60, 61, 51, 297, 298, 51, 51, 47, 47, 47, 53, 50, 59, 42, 117, 118, 115, 116, 65, 66, 52, 85, 86, 53, 88, 89, 54, 301, 302, 69, 70, 52, 49, 50, 51, 61, 60, 61, 51, 278, 279, 51, 51, 47, 47, 47, 53, 50, 59, 42, 121, 122, 118, 119, 65, 66, 52, 85, 86, 53, 89, 90, 54, 329, 330, 69, 70, 52, 49, 50, 51, 61, 60, 61, 51, 302, 303, 51, 51, 47, 47, 47, 53, 50, 59, 42, 117, 118, 116, 117, 65, 66, 52, 85, 86, 53, 93, 94, 54, 296, 297, 69, 70, 52, 49, 50, 51, 61, 60, 61, 51, 295, 296, 51, 51, 47, 47, 47, 53, 50, 59, 42, 117, 118, 116, 117, 65, 66, 52, 85, 86, 53, 88, 89, 54, 289, 290, 69, 70, 52, 49, 50, 51, 61, 60, 61, 51, 312, 313, 51, 51, 47, 47, 47, 53, 50, 59, 42, 122, 123, 120, 121, 65, 66, 52, 85, 86, 53, 88, 89, 54, 299, 300, 69, 70, 52, 49, 50, 51, 61, 60, 61, 51, 316, 317, 51, 51, 47, 47, 47, 53, 50, 59, 42, 120, 121, 116, 117, 65, 66, 52, 85, 86, 53, 93, 94, 54, 297, 298, 69, 70, 52, 49, 50, 51, 61, 60, 61, 51, 311, 312, 51, 51, 47, 47, 47, 53, 50, 59, 42, 117, 118, 121, 122, 65, 66, 52, 85, 86, 53, 94, 95, 54, 294, 295, 69, 70, 52, 49, 50, 51, 61, 60, 61, 51, 301, 302, 51, 51, 47, 47, 47, 53, 50, 59, 42, 120, 121, 111, 112, 65, 66, 52, 85, 86, 53, 89, 90, 54, 289, 290, 69, 70, 52, 49, 50, 51, 61, 60, 61, 51, 300, 301, 51, 51, 47, 47, 47, 53, 50, 59, 42, 121, 122, 121, 122, 65, 66, 52, 85, 86, 53, 94, 95, 54, 297, 298, 69, 70, 52, 49, 50, 51, 61, 60, 61, 51, 318, 319, 51, 51, 47, 47, 47, 53, 50, 59, 42, 117, 118, 122, 123, 65, 66, 52, 85, 86, 53, 89, 90, 54, 318, 319, 69, 70, 52, 49, 50, 51, 61, 60, 61, 51, 285, 286, 51, 51, 47, 47, 47, 53, 50, 59, 42, 121, 122, 119, 120, 65, 66, 52, 85, 86, 53, 94, 95, 54, 314, 315, 69, 70, 52, 49, 50, 51, 61, 60, 61, 51, 290, 291, 51, 51, 47, 47, 47, 53, 50, 59, 42, 118, 119, 116, 117, 65, 66, 52, 85, 86, 53, 94, 95, 54, 307, 308, 69, 70, 52, 49, 50, 51, 61, 60, 61, 51, 303, 304, 51, 51, 47, 47, 47, 53, 50, 59, 42, 121, 122, 115, 116, 65, 66, 52, 85, 86, 53, 93, 94, 54, 305, 306, 69, 70, 52, 49, 50, 51, 61, 60, 61, 51, 293, 294, 51, 51, 47, 47, 47, 53, 50, 59, 42, 122, 123, 120, 121, 65, 66, 52, 85, 86, 53, 89, 90, 54, 297, 298, 69, 70, 52, 49, 50, 51, 61, 60, 61, 51, 287, 288, 51, 51, 47, 47, 47, 53, 50, 59, 42, 117, 118, 114, 115, 65, 66, 52, 85, 86, 53, 89, 90, 54, 295, 296, 69, 70, 52, 49, 50, 51, 61, 60, 61, 51, 306, 307, 51, 51, 47, 47, 47, 53, 50, 59, 42, 117, 118, 118, 119, 65, 66, 52, 85, 86, 53, 93, 94, 54, 293, 294, 69, 70, 52, 49, 50, 51, 61, 60, 61, 51, 336, 337, 51, 51, 47, 47, 47, 53, 50, 59, 42, 117, 118, 121, 122, 65, 66, 52, 85, 86, 53, 89, 90, 54, 313, 314, 69, 70, 52, 49, 50, 51, 61, 60, 61, 51, 303, 304, 51, 51, 47, 47, 47, 53, 50, 59, 42, 118, 119, 121, 122, 65, 66, 52, 85, 86, 53, 94, 95, 54, 292, 293, 69, 70, 52, 49, 50, 51, 61, 60, 61, 51, 313, 314, 51, 51, 47, 47, 47, 53, 50, 59, 42, 122, 123, 116, 117, 65, 66, 52, 85, 86, 53, 89, 90, 54, 304, 305, 69, 70, 52, 49, 50, 51, 61, 60, 61, 51, 288, 289, 51, 51, 47, 47, 47, 53, 50, 59, 42, 121, 122, 117, 118, 65, 66, 52, 85, 86, 53, 89, 90, 54, 300, 301, 69, 70, 52, 49, 50, 51, 61, 60, 61, 51, 280, 281, 51, 51, 47, 47, 47, 53, 50, 59, 42, 121, 122, 118, 119, 65, 66, 52, 85, 86, 53, 94, 95, 54, 277, 278, 69, 70, 52, 49, 50, 51, 61, 60, 61, 51, 296, 297, 51, 51, 47, 47, 47, 53, 50, 59, 42, 119, 120, 114, 115, 65, 66, 52, 85, 86, 53, 89, 90, 54, 311, 312, 69, 70, 52, 49, 50, 51, 61, 60, 61, 51, 301, 302, 51, 51, 47, 47, 47, 53, 50, 59, 42, 117, 118, 119, 120, 65, 66, 52, 85, 86, 53, 89, 90, 54, 289, 290, 69, 70, 52, 49, 50, 51, 61, 60, 61, 51, 317, 318, 51, 51, 47, 47, 47, 53, 50, 59, 42, 122, 123, 115, 116, 65, 66, 52, 85, 86, 53, 93, 94, 54, 308, 309, 69, 70, 52, 49, 50, 51, 61, 60, 61, 51, 274, 275, 51, 51, 47, 47, 47, 53, 50, 59, 42, 120, 121, 117, 118, 65, 66, 52, 85, 86, 53, 88, 89, 54, 298, 299, 69, 70, 52, 49, 50, 51, 61, 60, 61, 51, 282, 283, 51, 51, 47, 47, 47, 53, 50, 59, 42, 121, 122, 119, 120, 65, 66, 52, 85, 86, 53, 89, 90, 54, 298, 299, 69, 70, 52, 49, 50, 51, 61, 60, 61, 51, 298, 299, 51, 51, 47, 47, 47, 53, 50, 59, 42, 117, 118, 116, 117, 65, 66, 52, 85, 86, 53, 89, 90, 54, 313, 314, 69, 70, 52, 49, 50, 51, 61, 60, 61, 51, 289, 290, 51, 51, 47, 47, 47, 53, 50, 59, 42, 117, 118, 116, 117, 65, 66, 52, 85, 86, 53, 94, 95, 54, 296, 297, 69, 70, 52, 49, 50, 51, 61, 60, 61, 51, 303, 304, 51, 51, 47, 47, 47, 53, 50, 59, 42, 121, 122, 115, 116, 65, 66, 52, 85, 86, 53, 89, 90, 54, 298, 299, 69, 70, 52, 49, 50, 51, 61, 60, 61, 51, 306, 307, 51, 51, 47, 47, 47, 53, 50, 59, 42, 118, 119, 123, 124, 65, 66, 52, 85, 86, 53, 94, 95, 54, 300, 301, 69, 70, 52, 49, 50, 51, 61, 60, 61, 51, 291, 292, 51, 51, 47, 47, 47, 53, 50, 59, 42, 120, 121, 119, 120, 65, 66, 52, 85, 86, 53, 89, 90, 54, 298, 299, 69, 70, 52, 49, 50, 51, 61, 60, 61, 51, 296, 297, 51, 51, 47, 47, 47, 53, 50, 59, 42, 121, 122, 117, 118, 65, 66, 52, 85, 86, 53, 94, 95, 54, 305, 306, 69, 70, 52, 49, 50, 51, 61, 60, 61, 51, 295, 296, 51, 51, 47, 47, 47, 53, 50, 59, 42, 117, 118, 117, 118, 65, 66, 52, 85, 86, 53, 89, 90, 54, 299, 300, 69, 70, 52, 49, 50, 51, 61, 60, 61, 51, 306, 307, 51, 51, 47, 47, 47, 53, 50, 59, 42, 120, 121, 118, 119, 65, 66, 52, 85, 86, 53, 89, 90, 54, 328, 329, 69, 70, 52, 49, 50, 51, 61, 60, 61, 51, 298, 299, 51, 51, 47, 47, 47, 53, 50, 59, 42, 120, 121, 113, 114, 65, 66, 52, 85, 86, 53, 89, 90, 54, 287, 288, 69, 70, 52, 49, 50, 51, 61, 60, 61, 51, 319, 320, 51, 51, 47, 47, 47, 53, 50, 59, 42, 120, 121, 120, 121, 65, 66, 52, 85, 86, 53, 93, 94, 54, 285, 286, 69, 70, 52, 49, 50, 51, 61, 60, 61, 51, 305, 306, 51, 51, 47, 47, 47, 53, 50, 59, 42, 120, 121, 114, 115, 65, 66, 52, 85, 86, 53, 94, 95, 54, 300, 301, 69, 70, 52, 49, 50, 51, 61, 60, 61, 51, 300, 301, 51, 51, 47, 47, 47, 53, 50, 59, 42, 117, 118, 116, 117, 65, 66, 52, 85, 86, 53, 93, 94, 54, 312, 313, 69, 70, 52, 49, 50, 51, 61, 60, 61, 51, 274, 275, 51, 51, 47, 47, 47, 53, 50, 59, 42, 121, 122, 116, 117, 65, 66, 52, 85, 86, 53, 89, 90, 54, 283, 284, 69, 70, 52, 49, 50, 51, 61, 60, 61, 51, 301, 302, 51, 51, 47, 47, 47, 53, 50, 59, 42, 120, 121, 120, 121, 65, 66, 52, 85, 86, 53, 94, 95, 54, 310, 311, 69, 70, 52, 49, 50, 51, 61, 60, 61, 51, 311, 312, 51, 51, 47, 47, 47, 53, 50, 59, 42, 121, 122, 116, 117, 65, 66, 52, 85, 86, 53, 89, 90, 54, 288, 289, 69, 70, 52, 49, 50, 51, 61, 60, 61, 51, 313, 314, 51, 51, 47, 47, 47, 53, 50, 59, 42, 122, 123, 119, 120, 65, 66, 52, 85, 86, 53, 89, 90, 54, 298, 299, 69, 70, 52, 49, 50, 51, 61, 60, 61, 51, 339, 340, 51, 51, 47, 47, 47, 53, 50, 59, 42, 120, 121, 117, 118, 65, 66, 52, 85, 86, 53, 94, 95, 54, 303, 304, 69, 70, 52, 49, 50, 51, 61, 60, 61, 51, 284, 285, 51, 51, 47, 47, 47, 53, 50, 59, 42, 117, 118, 118, 119, 65, 66, 52, 85, 86, 53, 94, 95, 54, 314, 315, 69, 70, 52, 49, 50, 51, 61, 60, 61, 51, 296, 297, 51, 51, 47, 47, 47, 53, 50, 59, 42, 122, 123, 117, 118, 65, 66, 52, 85, 86, 53, 94, 95, 54, 300, 301, 69, 70, 52, 49, 50, 51, 61, 60, 61, 51, 310, 311, 51, 51, 47, 47, 47, 53, 50, 59, 42, 121, 122, 112, 113, 65, 66, 52, 85, 86, 53, 94, 95, 54, 295, 296, 69, 70, 52, 49, 50, 51, 61, 60, 61, 51, 295, 296, 51, 51, 47, 47, 47, 53, 50, 59, 42, 117, 118, 116, 117, 65, 66, 52, 85, 86, 53, 94, 95, 54, 321, 322, 69, 70, 52, 49, 50, 51, 61, 60, 61, 51, 300, 301, 51, 51, 47, 47, 47, 53, 50, 59, 42, 122, 123, 119, 120, 65, 66, 52, 85, 86, 53, 89, 90, 54, 294, 295, 69, 70, 52, 49, 50, 51, 61, 60, 61, 51, 281, 282, 51, 51, 47, 47, 47, 53, 50, 59, 42, 120, 121, 116, 117, 65, 66, 52, 85, 86, 53, 94, 95, 54, 294, 295, 69, 70, 52, 49, 50, 51, 61, 60, 61, 51, 313, 314, 51, 51, 47, 47, 47, 53, 50, 59, 42, 121, 122, 115, 116, 65, 66, 52, 85, 86, 53, 94, 95, 54, 295, 296, 69, 70, 52, 49, 50, 51, 61, 60, 61, 51, 291, 292, 51, 51, 47, 47, 47, 53, 50, 59, 42, 120, 121, 118, 119, 65, 66, 52, 85, 86, 53, 89, 90, 54, 305, 306, 69, 70, 52, 49, 50, 51, 61, 60, 61, 51, 309, 310, 51, 51, 47, 47, 47, 53, 50, 59, 42, 116, 117, 116, 117, 65, 66, 52, 85, 86, 53, 89, 90, 54, 291, 292, 69, 70, 52, 49, 50, 51, 61, 60, 61, 51, 315, 316, 51, 51, 47, 47, 47, 53, 50, 59, 42, 117, 118, 116, 117, 65, 66, 52, 85, 86, 53, 89, 90, 54, 322, 323, 69, 70, 52, 49, 50, 51, 61, 60, 61, 51, 298, 299, 51, 51, 47, 47, 47, 53, 50, 59, 42, 120, 121, 116, 117, 65, 66, 52, 85, 86, 53, 89, 90, 54, 280, 281, 69, 70, 52, 49, 50, 51, 61, 60, 61, 51, 288, 289, 51, 51, 47, 47, 47, 53, 50, 59, 42, 117, 118, 119, 120, 65, 66, 52, 85, 86, 53, 89, 90, 54, 294, 295, 69, 70, 52, 49, 50, 51, 61, 60, 61, 51, 324, 325, 51, 51, 47, 47, 47, 53, 50, 59, 42, 117, 118, 118, 119, 65, 66, 52, 85, 86, 53, 89, 90, 54, 298, 299, 69, 70, 52, 49, 50, 51, 61, 60, 61, 51, 286, 287, 51, 51, 47, 47, 47, 53, 50, 59, 42, 118, 119, 116, 117, 65, 66, 52, 85, 86, 53, 94, 95, 54, 306, 307, 69, 70, 52, 49, 50, 51, 61, 60, 61, 51, 288, 289, 51, 51, 47, 47, 47, 53, 50, 59, 42, 117, 118, 120, 121, 65, 66, 52, 85, 86, 53, 94, 95, 54, 319, 320, 69, 70, 52, 49, 50, 51, 61, 60, 61, 51, 280, 281, 51, 51, 47, 47, 47, 53, 50, 59, 42, 121, 122, 119, 120, 65, 66, 52, 85, 86, 53, 89, 90, 54, 303, 304, 69, 70, 52, 49, 50, 51, 61, 60, 61, 51, 310, 311, 51, 51, 47, 47, 47, 53, 50, 59, 42, 122, 123, 121, 122, 65, 66, 52, 85, 86, 53, 94, 95, 54, 275, 276, 69, 70, 52, 49, 50, 51, 61, 60, 61, 51, 346, 347, 51, 51, 47, 47, 47, 53, 50, 59, 42, 120, 121, 118, 119, 65, 66, 52, 85, 86, 53, 94, 95, 54, 306, 307, 69, 70, 52, 49, 50, 51, 61, 60, 61, 51, 272, 273, 51, 51, 47, 47, 47, 53, 50, 59, 42, 121, 122, 116, 117, 65, 66, 52, 85, 86, 53, 93, 94, 54, 305, 306, 69, 70, 52, 49, 50, 51, 61, 60, 61, 51, 279, 280, 51, 51, 47, 47, 47, 53, 50, 59, 42, 122, 123, 122, 123, 65, 66, 52, 85, 86, 53, 89, 90, 54, 281, 282, 69, 70, 52, 49, 50, 51, 61, 60, 61, 51, 307, 308, 51, 51, 47, 47, 47, 53, 50, 59, 42, 119, 120, 122, 123, 65, 66, 52, 85, 86, 53, 89, 90, 54, 294, 295, 69, 70, 52, 49, 50, 51, 61, 60, 61, 51, 293, 294, 51, 51, 47, 47, 47, 53, 50, 59, 42, 122, 123, 114, 115, 65, 66, 52, 85, 86, 53, 94, 95, 54, 320, 321, 69, 70, 52, 49, 50, 51, 61, 60, 61, 51, 318, 319, 51, 51, 47, 47, 47, 53, 50, 59, 42, 117, 118, 111, 112, 65, 66, 52, 85, 86, 53, 89, 90, 54, 305, 306, 69, 70, 52, 49, 50, 51, 61, 60, 61, 51, 296, 297, 51, 51, 47, 47, 47, 53, 50, 59, 42, 121, 122, 117, 118, 65, 66, 52, 85, 86, 53, 94, 95, 54, 289, 290, 69, 70, 52, 49, 50, 51, 61, 60, 61, 51, 292, 293, 51, 51, 47, 47, 47, 53, 50, 59, 42, 121, 122, 121, 122, 65, 66, 52, 85, 86, 53, 94, 95, 54, 300, 301, 69, 70, 52, 49, 50, 51, 61, 60, 61, 51, 297, 298, 51, 51, 47, 47, 47, 53, 50, 59, 42, 122, 123, 114, 115, 65, 66, 52, 85, 86, 53, 94, 95, 54, 305, 306, 69, 70, 52, 49, 50, 51, 61, 60, 61, 51, 296, 297, 51, 51, 47, 47, 47, 53, 50, 59, 42, 117, 118, 119, 120, 65, 66, 52, 85, 86, 53, 93, 94, 54, 313, 314, 69, 70, 52, 49, 50, 51, 61, 60, 61, 51, 299, 300, 51, 51, 47, 47, 47, 53, 50, 59, 42, 121, 122, 115, 116, 65, 66, 52, 85, 86, 53, 89, 90, 54, 294, 295, 69, 70, 52, 49, 50, 51, 61, 60, 61, 51, 290, 291, 51, 51, 47, 47, 47, 53, 50, 59, 42, 117, 118, 115, 116, 65, 66, 52, 85, 86, 53, 94, 95, 54, 309, 310, 69, 70, 52, 49, 50, 51, 61, 60, 61, 51, 315, 316, 51, 51, 47, 47, 47, 53, 50, 59, 42, 117, 118, 114, 115, 65, 66, 52, 85, 86, 53, 89, 90, 54, 288, 289, 69, 70, 52, 49, 50, 51, 61, 60, 61, 51, 294, 295, 51, 51, 47, 47, 47, 53, 50, 59, 42, 121, 122, 121, 122, 65, 66, 52, 85, 86, 53, 89, 90, 54, 303, 304, 69, 70, 52, 49, 50, 51, 61, 60, 61, 51, 303, 304, 51, 51, 47, 47, 47, 53, 50, 59, 42, 121, 122, 117, 118, 65, 66, 52, 85, 86, 53, 94, 95, 54, 327, 328, 69, 70, 52, 49, 50, 51, 61, 60, 61, 51, 292, 293, 51, 51, 47, 47, 47, 53, 50, 59, 42, 120, 121, 114, 115, 65, 66, 52, 85, 86, 53, 89, 90, 54, 282, 283, 69, 70, 52, 49, 50, 51, 61, 60, 61, 51, 308, 309, 51, 51, 47, 47, 47, 53, 50, 59, 42, 118, 119, 113, 114, 65, 66, 52, 85, 86, 53, 89, 90, 54, 309, 310, 69, 70, 52, 49, 50, 51, 61, 60, 61, 51, 304, 305, 51, 51, 47, 47, 47, 53, 50, 59, 42, 120, 121, 118, 119, 65, 66, 52, 85, 86, 53, 94, 95, 54, 322, 323, 69, 70, 52, 49, 50, 51, 61, 60, 61, 51, 302, 303, 51, 51, 47, 47, 47, 53, 50, 59, 42, 121, 122, 114, 115, 65, 66, 52, 85, 86, 53, 94, 95, 54, 274, 275, 69, 70, 52, 49, 50, 51, 61, 60, 61, 51, 300, 301, 51, 51, 47, 47, 47, 53, 50, 59, 42, 121, 122, 116, 117, 65, 66, 52, 85, 86, 53, 94, 95, 54, 304, 305, 69, 70, 52, 49, 50, 51, 61, 60, 61, 51, 294, 295, 51, 51, 47, 47, 47, 53, 50, 59, 42, 117, 118, 112, 113, 65, 66, 52, 85, 86, 53, 94, 95, 54, 294, 295, 69, 70, 52, 49, 50, 51, 61, 60, 61, 51, 279, 280, 51, 51, 47, 47, 47, 53, 50, 59, 42, 120, 121, 118, 119, 65, 66, 52, 85, 86, 53, 89, 90, 54, 301, 302, 69, 70, 52, 49, 50, 51, 61, 60, 61, 51, 296, 297, 51, 51, 47, 47, 47, 53, 50, 59, 42, 120, 121, 121, 122, 65, 66, 52, 85, 86, 53, 94, 95, 54, 314, 315, 69, 70, 52, 49, 50, 51, 61, 60, 61, 51, 311, 312, 51, 51, 47, 47, 47, 53, 50, 59, 42, 121, 122, 113, 114, 65, 66, 52, 85, 86, 53, 94, 95, 54, 283, 284, 69, 70, 52, 49, 50, 51, 61, 60, 61, 51, 300, 301, 51, 51, 47, 47, 47, 53, 50, 59, 42, 121, 122, 118, 119, 65, 66, 52, 85, 86, 53, 93, 94, 54, 318, 319, 69, 70, 52, 49, 50, 51, 61, 60, 61, 51, 300, 301, 51, 51, 47, 47, 47, 53, 50, 59, 42, 120, 121, 123, 124, 65, 66, 52, 85, 86, 53, 94, 95, 54, 313, 314, 69, 70, 52, 49, 50, 51, 61, 60, 61, 51, 283, 284, 51, 51, 47, 47, 47, 53, 50, 59, 42, 122, 123, 119, 120, 65, 66, 52, 85, 86, 53, 89, 90, 54, 283, 284, 69, 70, 52, 49, 50, 51, 61, 60, 61, 51, 278, 279, 51, 51, 47, 47, 47, 53, 50, 59, 42, 119, 120, 119, 120, 65, 66, 52, 85, 86, 53, 94, 95, 54, 298, 299, 69, 70, 52, 49, 50, 51, 61, 60, 61, 51, 281, 282, 51, 51, 47, 47, 47, 53, 50, 59, 42, 118, 119, 120, 121, 65, 66, 52, 85, 86, 53, 89, 90, 54, 295, 296, 69, 70, 52, 49, 50, 51, 61, 60, 61, 51, 314, 315, 51, 51, 47, 47, 47, 53, 50, 59, 42, 120, 121, 113, 114, 65, 66, 52, 85, 86, 53, 89, 90, 54, 326, 327, 69, 70, 52, 49, 50, 51, 61, 60, 61, 51, 322, 323, 51, 51, 47, 47, 47, 53, 50, 59, 42, 118, 119, 120, 121, 65, 66, 52, 85, 86, 53, 88, 89, 54, 315, 316, 69, 70, 52, 49, 50, 51, 61, 60, 61, 51, 285, 286, 51, 51, 47, 47, 47, 53, 50, 59, 42, 122, 123, 113, 114, 65, 66, 52, 85, 86, 53, 94, 95, 54, 305, 306, 69, 70, 52, 49, 50, 51, 61, 60, 61, 51, 314, 315, 51, 51, 47, 47, 47, 53, 50, 59, 42, 120, 121, 121, 122, 65, 66, 52, 85, 86, 53, 94, 95, 54, 290, 291, 69, 70, 52, 49, 50, 51, 61, 60, 61, 51, 284, 285, 51, 51, 47, 47, 47, 53, 50, 59, 42, 121, 122, 119, 120, 65, 66, 52, 85, 86, 53, 94, 95, 54, 313, 314, 69, 70, 52, 49, 50, 51, 61, 60, 61, 51, 295, 296, 51, 51, 47, 47, 47, 53, 50, 59, 42, 117, 118, 122, 123, 65, 66, 52, 85, 86, 53, 89, 90, 54, 297, 298, 69, 70, 52, 49, 50, 51, 61, 60, 61, 51, 297, 298, 51, 51, 47, 47, 47, 53, 50, 59, 42, 120, 121, 116, 117, 65, 66, 52, 85, 86, 53, 89, 90, 54, 298, 299, 69, 70, 52, 49, 50, 51, 61, 60, 61, 51, 310, 311, 51, 51, 47, 47, 47, 53, 50, 59, 42, 120, 121, 115, 116, 65, 66, 52, 85, 86, 53, 94, 95, 54, 294, 295, 69, 70, 52, 49, 50, 51, 61, 60, 61, 51, 289, 290, 51, 51, 47, 47, 47, 53, 50, 59]\n",
            "max --- \n",
            "666\n",
            "355\n",
            "min --- \n",
            "25\n",
            "42\n",
            "avg --- \n",
            "142.32268102932375\n",
            "92.74716666666667\n"
          ]
        }
      ],
      "source": [
        "malicious_lengths = [len(url) for url in bad_requests]\n",
        "normal_lengths = [len(url) for url in good_requests]\n",
        "\n",
        "print(\"Malicious URL Lengths:\", malicious_lengths)\n",
        "print(\"Normal URL Lengths:\", normal_lengths)\n",
        "\n",
        "print('max --- ')\n",
        "print(max(malicious_lengths))\n",
        "print(max(normal_lengths))\n",
        "print('min --- ')\n",
        "print(min(malicious_lengths))\n",
        "print(min(normal_lengths))\n",
        "print('avg --- ')\n",
        "print(sum(malicious_lengths)/len(malicious_lengths))\n",
        "print(sum(normal_lengths)/len(normal_lengths))"
      ]
    },
    {
      "cell_type": "markdown",
      "metadata": {
        "id": "Y8GLsDDOQcTa"
      },
      "source": [
        "## Preprocessing"
      ]
    },
    {
      "cell_type": "code",
      "execution_count": null,
      "metadata": {
        "id": "NDyZpxqIQoLc"
      },
      "outputs": [],
      "source": [
        "df = data"
      ]
    },
    {
      "cell_type": "code",
      "execution_count": null,
      "metadata": {
        "colab": {
          "base_uri": "https://localhost:8080/"
        },
        "id": "0Hd_Y78FdPDt",
        "outputId": "f4575ff4-2e9a-4d96-add2-b907708c9ef9"
      },
      "outputs": [
        {
          "output_type": "execute_result",
          "data": {
            "text/plain": [
              "Index(['URL', 'URL Length', 'Question Mark Count', 'Special Char Count',\n",
              "       'Digit Count', 'Slash Count', 'Contains IP', 'Subdomain Count',\n",
              "       'Uses HTTPS', 'Has TLD', 'Label'],\n",
              "      dtype='object')"
            ]
          },
          "metadata": {},
          "execution_count": 61
        }
      ],
      "source": [
        "data.columns"
      ]
    },
    {
      "cell_type": "code",
      "execution_count": null,
      "metadata": {
        "id": "ic_nfBr-dROx"
      },
      "outputs": [],
      "source": [
        "features = data[['URL Length', 'Question Mark Count', 'Special Char Count',\n",
        "       'Digit Count', 'Slash Count', 'Contains IP', 'Subdomain Count',\n",
        "       'Uses HTTPS', 'Has TLD',]]"
      ]
    },
    {
      "cell_type": "code",
      "execution_count": null,
      "metadata": {
        "colab": {
          "base_uri": "https://localhost:8080/"
        },
        "id": "2af7OzVadvBg",
        "outputId": "294172fa-ce72-4f53-c4ed-c332ad406127"
      },
      "outputs": [
        {
          "output_type": "execute_result",
          "data": {
            "text/plain": [
              "                                                     URL  URL Length  \\\n",
              "983    gethttp://localhost:8080/tienda1/publico/regis...         627   \n",
              "984    posthttp://localhost:8080/tienda1/publico/regi...         628   \n",
              "1293   gethttp://localhost:8080/tienda1/publico/regis...         652   \n",
              "1294   posthttp://localhost:8080/tienda1/publico/regi...         653   \n",
              "1500   gethttp://localhost:8080/tienda1/publico/regis...         665   \n",
              "1501   posthttp://localhost:8080/tienda1/publico/regi...         666   \n",
              "1910   gethttp://localhost:8080/tienda1/publico/regis...         649   \n",
              "1911   posthttp://localhost:8080/tienda1/publico/regi...         650   \n",
              "2085   gethttp://localhost:8080/tienda1/miembros/edit...         615   \n",
              "2086   posthttp://localhost:8080/tienda1/miembros/edi...         616   \n",
              "2403   gethttp://localhost:8080/tienda1/miembros/edit...         657   \n",
              "2404   posthttp://localhost:8080/tienda1/miembros/edi...         658   \n",
              "5452   gethttp://localhost:8080/tienda1/miembros/edit...         646   \n",
              "5453   posthttp://localhost:8080/tienda1/miembros/edi...         647   \n",
              "6717   gethttp://localhost:8080/tienda1/miembros/edit...         623   \n",
              "6718   posthttp://localhost:8080/tienda1/miembros/edi...         624   \n",
              "7031   gethttp://localhost:8080/tienda1/publico/regis...         628   \n",
              "7032   posthttp://localhost:8080/tienda1/publico/regi...         629   \n",
              "8778   gethttp://localhost:8080/tienda1/miembros/edit...         608   \n",
              "8779   posthttp://localhost:8080/tienda1/miembros/edi...         609   \n",
              "8954   gethttp://localhost:8080/tienda1/publico/regis...         616   \n",
              "8955   posthttp://localhost:8080/tienda1/publico/regi...         617   \n",
              "13579  gethttp://localhost:8080/tienda1/miembros/edit...         651   \n",
              "13580  posthttp://localhost:8080/tienda1/miembros/edi...         652   \n",
              "14118  gethttp://localhost:8080/tienda1/miembros/edit...         647   \n",
              "14119  posthttp://localhost:8080/tienda1/miembros/edi...         648   \n",
              "15535  gethttp://localhost:8080/tienda1/miembros/edit...         661   \n",
              "15536  posthttp://localhost:8080/tienda1/miembros/edi...         662   \n",
              "15620  gethttp://localhost:8080/tienda1/publico/regis...         630   \n",
              "15621  posthttp://localhost:8080/tienda1/publico/regi...         631   \n",
              "17425  gethttp://localhost:8080/tienda1/publico/regis...         646   \n",
              "17426  posthttp://localhost:8080/tienda1/publico/regi...         647   \n",
              "21772  gethttp://localhost:8080/tienda1/publico/regis...         611   \n",
              "21773  posthttp://localhost:8080/tienda1/publico/regi...         612   \n",
              "24132  gethttp://localhost:8080/tienda1/publico/regis...         647   \n",
              "24133  posthttp://localhost:8080/tienda1/publico/regi...         648   \n",
              "\n",
              "       Question Mark Count  Special Char Count  Digit Count  Slash Count  \\\n",
              "983                      2                 473          217            5   \n",
              "984                      2                 474          217            5   \n",
              "1293                     2                 493          215            5   \n",
              "1294                     2                 494          215            5   \n",
              "1500                     2                 508          221            5   \n",
              "1501                     2                 509          221            5   \n",
              "1910                     2                 493          219            5   \n",
              "1911                     2                 494          219            5   \n",
              "2085                     2                 462          218            5   \n",
              "2086                     2                 463          218            5   \n",
              "2403                     2                 501          215            5   \n",
              "2404                     2                 502          215            5   \n",
              "5452                     2                 489          217            5   \n",
              "5453                     2                 490          217            5   \n",
              "6717                     2                 466          216            5   \n",
              "6718                     2                 467          216            5   \n",
              "7031                     2                 476          219            5   \n",
              "7032                     2                 477          219            5   \n",
              "8778                     2                 456          214            5   \n",
              "8779                     2                 457          214            5   \n",
              "8954                     2                 465          213            5   \n",
              "8955                     2                 466          213            5   \n",
              "13579                    3                 494          223            6   \n",
              "13580                    3                 495          223            6   \n",
              "14118                    2                 487          216            5   \n",
              "14119                    2                 488          216            5   \n",
              "15535                    2                 500          217            5   \n",
              "15536                    2                 501          217            5   \n",
              "15620                    3                 476          219            6   \n",
              "15621                    3                 477          219            6   \n",
              "17425                    3                 489          217            5   \n",
              "17426                    3                 490          217            5   \n",
              "21772                    2                 457          217            7   \n",
              "21773                    2                 458          217            7   \n",
              "24132                    2                 493          215            6   \n",
              "24133                    2                 494          215            6   \n",
              "\n",
              "       Contains IP  Subdomain Count  Uses HTTPS  Has TLD  Label  \n",
              "983          False                1       False    False      1  \n",
              "984          False                1       False    False      1  \n",
              "1293         False                1       False    False      1  \n",
              "1294         False                1       False    False      1  \n",
              "1500         False                1       False    False      1  \n",
              "1501         False                1       False    False      1  \n",
              "1910         False                1       False    False      1  \n",
              "1911         False                1       False    False      1  \n",
              "2085         False                2       False    False      1  \n",
              "2086         False                2       False    False      1  \n",
              "2403         False                1       False    False      1  \n",
              "2404         False                1       False    False      1  \n",
              "5452         False                2       False    False      1  \n",
              "5453         False                2       False    False      1  \n",
              "6717         False                2       False    False      1  \n",
              "6718         False                2       False    False      1  \n",
              "7031         False                1       False    False      1  \n",
              "7032         False                1       False    False      1  \n",
              "8778         False                1       False    False      1  \n",
              "8779         False                1       False    False      1  \n",
              "8954         False                1       False    False      1  \n",
              "8955         False                1       False    False      1  \n",
              "13579        False                1       False    False      1  \n",
              "13580        False                1       False    False      1  \n",
              "14118        False                1       False    False      1  \n",
              "14119        False                1       False    False      1  \n",
              "15535        False                1       False    False      1  \n",
              "15536        False                1       False    False      1  \n",
              "15620        False                1       False    False      1  \n",
              "15621        False                1       False    False      1  \n",
              "17425        False                1       False    False      1  \n",
              "17426        False                1       False    False      1  \n",
              "21772        False                0       False    False      1  \n",
              "21773        False                0       False    False      1  \n",
              "24132        False                2       False    False      1  \n",
              "24133        False                2       False    False      1  "
            ],
            "text/html": [
              "\n",
              "  <div id=\"df-08aff427-ed28-4a49-a788-5f998255260e\" class=\"colab-df-container\">\n",
              "    <div>\n",
              "<style scoped>\n",
              "    .dataframe tbody tr th:only-of-type {\n",
              "        vertical-align: middle;\n",
              "    }\n",
              "\n",
              "    .dataframe tbody tr th {\n",
              "        vertical-align: top;\n",
              "    }\n",
              "\n",
              "    .dataframe thead th {\n",
              "        text-align: right;\n",
              "    }\n",
              "</style>\n",
              "<table border=\"1\" class=\"dataframe\">\n",
              "  <thead>\n",
              "    <tr style=\"text-align: right;\">\n",
              "      <th></th>\n",
              "      <th>URL</th>\n",
              "      <th>URL Length</th>\n",
              "      <th>Question Mark Count</th>\n",
              "      <th>Special Char Count</th>\n",
              "      <th>Digit Count</th>\n",
              "      <th>Slash Count</th>\n",
              "      <th>Contains IP</th>\n",
              "      <th>Subdomain Count</th>\n",
              "      <th>Uses HTTPS</th>\n",
              "      <th>Has TLD</th>\n",
              "      <th>Label</th>\n",
              "    </tr>\n",
              "  </thead>\n",
              "  <tbody>\n",
              "    <tr>\n",
              "      <th>983</th>\n",
              "      <td>gethttp://localhost:8080/tienda1/publico/regis...</td>\n",
              "      <td>627</td>\n",
              "      <td>2</td>\n",
              "      <td>473</td>\n",
              "      <td>217</td>\n",
              "      <td>5</td>\n",
              "      <td>False</td>\n",
              "      <td>1</td>\n",
              "      <td>False</td>\n",
              "      <td>False</td>\n",
              "      <td>1</td>\n",
              "    </tr>\n",
              "    <tr>\n",
              "      <th>984</th>\n",
              "      <td>posthttp://localhost:8080/tienda1/publico/regi...</td>\n",
              "      <td>628</td>\n",
              "      <td>2</td>\n",
              "      <td>474</td>\n",
              "      <td>217</td>\n",
              "      <td>5</td>\n",
              "      <td>False</td>\n",
              "      <td>1</td>\n",
              "      <td>False</td>\n",
              "      <td>False</td>\n",
              "      <td>1</td>\n",
              "    </tr>\n",
              "    <tr>\n",
              "      <th>1293</th>\n",
              "      <td>gethttp://localhost:8080/tienda1/publico/regis...</td>\n",
              "      <td>652</td>\n",
              "      <td>2</td>\n",
              "      <td>493</td>\n",
              "      <td>215</td>\n",
              "      <td>5</td>\n",
              "      <td>False</td>\n",
              "      <td>1</td>\n",
              "      <td>False</td>\n",
              "      <td>False</td>\n",
              "      <td>1</td>\n",
              "    </tr>\n",
              "    <tr>\n",
              "      <th>1294</th>\n",
              "      <td>posthttp://localhost:8080/tienda1/publico/regi...</td>\n",
              "      <td>653</td>\n",
              "      <td>2</td>\n",
              "      <td>494</td>\n",
              "      <td>215</td>\n",
              "      <td>5</td>\n",
              "      <td>False</td>\n",
              "      <td>1</td>\n",
              "      <td>False</td>\n",
              "      <td>False</td>\n",
              "      <td>1</td>\n",
              "    </tr>\n",
              "    <tr>\n",
              "      <th>1500</th>\n",
              "      <td>gethttp://localhost:8080/tienda1/publico/regis...</td>\n",
              "      <td>665</td>\n",
              "      <td>2</td>\n",
              "      <td>508</td>\n",
              "      <td>221</td>\n",
              "      <td>5</td>\n",
              "      <td>False</td>\n",
              "      <td>1</td>\n",
              "      <td>False</td>\n",
              "      <td>False</td>\n",
              "      <td>1</td>\n",
              "    </tr>\n",
              "    <tr>\n",
              "      <th>1501</th>\n",
              "      <td>posthttp://localhost:8080/tienda1/publico/regi...</td>\n",
              "      <td>666</td>\n",
              "      <td>2</td>\n",
              "      <td>509</td>\n",
              "      <td>221</td>\n",
              "      <td>5</td>\n",
              "      <td>False</td>\n",
              "      <td>1</td>\n",
              "      <td>False</td>\n",
              "      <td>False</td>\n",
              "      <td>1</td>\n",
              "    </tr>\n",
              "    <tr>\n",
              "      <th>1910</th>\n",
              "      <td>gethttp://localhost:8080/tienda1/publico/regis...</td>\n",
              "      <td>649</td>\n",
              "      <td>2</td>\n",
              "      <td>493</td>\n",
              "      <td>219</td>\n",
              "      <td>5</td>\n",
              "      <td>False</td>\n",
              "      <td>1</td>\n",
              "      <td>False</td>\n",
              "      <td>False</td>\n",
              "      <td>1</td>\n",
              "    </tr>\n",
              "    <tr>\n",
              "      <th>1911</th>\n",
              "      <td>posthttp://localhost:8080/tienda1/publico/regi...</td>\n",
              "      <td>650</td>\n",
              "      <td>2</td>\n",
              "      <td>494</td>\n",
              "      <td>219</td>\n",
              "      <td>5</td>\n",
              "      <td>False</td>\n",
              "      <td>1</td>\n",
              "      <td>False</td>\n",
              "      <td>False</td>\n",
              "      <td>1</td>\n",
              "    </tr>\n",
              "    <tr>\n",
              "      <th>2085</th>\n",
              "      <td>gethttp://localhost:8080/tienda1/miembros/edit...</td>\n",
              "      <td>615</td>\n",
              "      <td>2</td>\n",
              "      <td>462</td>\n",
              "      <td>218</td>\n",
              "      <td>5</td>\n",
              "      <td>False</td>\n",
              "      <td>2</td>\n",
              "      <td>False</td>\n",
              "      <td>False</td>\n",
              "      <td>1</td>\n",
              "    </tr>\n",
              "    <tr>\n",
              "      <th>2086</th>\n",
              "      <td>posthttp://localhost:8080/tienda1/miembros/edi...</td>\n",
              "      <td>616</td>\n",
              "      <td>2</td>\n",
              "      <td>463</td>\n",
              "      <td>218</td>\n",
              "      <td>5</td>\n",
              "      <td>False</td>\n",
              "      <td>2</td>\n",
              "      <td>False</td>\n",
              "      <td>False</td>\n",
              "      <td>1</td>\n",
              "    </tr>\n",
              "    <tr>\n",
              "      <th>2403</th>\n",
              "      <td>gethttp://localhost:8080/tienda1/miembros/edit...</td>\n",
              "      <td>657</td>\n",
              "      <td>2</td>\n",
              "      <td>501</td>\n",
              "      <td>215</td>\n",
              "      <td>5</td>\n",
              "      <td>False</td>\n",
              "      <td>1</td>\n",
              "      <td>False</td>\n",
              "      <td>False</td>\n",
              "      <td>1</td>\n",
              "    </tr>\n",
              "    <tr>\n",
              "      <th>2404</th>\n",
              "      <td>posthttp://localhost:8080/tienda1/miembros/edi...</td>\n",
              "      <td>658</td>\n",
              "      <td>2</td>\n",
              "      <td>502</td>\n",
              "      <td>215</td>\n",
              "      <td>5</td>\n",
              "      <td>False</td>\n",
              "      <td>1</td>\n",
              "      <td>False</td>\n",
              "      <td>False</td>\n",
              "      <td>1</td>\n",
              "    </tr>\n",
              "    <tr>\n",
              "      <th>5452</th>\n",
              "      <td>gethttp://localhost:8080/tienda1/miembros/edit...</td>\n",
              "      <td>646</td>\n",
              "      <td>2</td>\n",
              "      <td>489</td>\n",
              "      <td>217</td>\n",
              "      <td>5</td>\n",
              "      <td>False</td>\n",
              "      <td>2</td>\n",
              "      <td>False</td>\n",
              "      <td>False</td>\n",
              "      <td>1</td>\n",
              "    </tr>\n",
              "    <tr>\n",
              "      <th>5453</th>\n",
              "      <td>posthttp://localhost:8080/tienda1/miembros/edi...</td>\n",
              "      <td>647</td>\n",
              "      <td>2</td>\n",
              "      <td>490</td>\n",
              "      <td>217</td>\n",
              "      <td>5</td>\n",
              "      <td>False</td>\n",
              "      <td>2</td>\n",
              "      <td>False</td>\n",
              "      <td>False</td>\n",
              "      <td>1</td>\n",
              "    </tr>\n",
              "    <tr>\n",
              "      <th>6717</th>\n",
              "      <td>gethttp://localhost:8080/tienda1/miembros/edit...</td>\n",
              "      <td>623</td>\n",
              "      <td>2</td>\n",
              "      <td>466</td>\n",
              "      <td>216</td>\n",
              "      <td>5</td>\n",
              "      <td>False</td>\n",
              "      <td>2</td>\n",
              "      <td>False</td>\n",
              "      <td>False</td>\n",
              "      <td>1</td>\n",
              "    </tr>\n",
              "    <tr>\n",
              "      <th>6718</th>\n",
              "      <td>posthttp://localhost:8080/tienda1/miembros/edi...</td>\n",
              "      <td>624</td>\n",
              "      <td>2</td>\n",
              "      <td>467</td>\n",
              "      <td>216</td>\n",
              "      <td>5</td>\n",
              "      <td>False</td>\n",
              "      <td>2</td>\n",
              "      <td>False</td>\n",
              "      <td>False</td>\n",
              "      <td>1</td>\n",
              "    </tr>\n",
              "    <tr>\n",
              "      <th>7031</th>\n",
              "      <td>gethttp://localhost:8080/tienda1/publico/regis...</td>\n",
              "      <td>628</td>\n",
              "      <td>2</td>\n",
              "      <td>476</td>\n",
              "      <td>219</td>\n",
              "      <td>5</td>\n",
              "      <td>False</td>\n",
              "      <td>1</td>\n",
              "      <td>False</td>\n",
              "      <td>False</td>\n",
              "      <td>1</td>\n",
              "    </tr>\n",
              "    <tr>\n",
              "      <th>7032</th>\n",
              "      <td>posthttp://localhost:8080/tienda1/publico/regi...</td>\n",
              "      <td>629</td>\n",
              "      <td>2</td>\n",
              "      <td>477</td>\n",
              "      <td>219</td>\n",
              "      <td>5</td>\n",
              "      <td>False</td>\n",
              "      <td>1</td>\n",
              "      <td>False</td>\n",
              "      <td>False</td>\n",
              "      <td>1</td>\n",
              "    </tr>\n",
              "    <tr>\n",
              "      <th>8778</th>\n",
              "      <td>gethttp://localhost:8080/tienda1/miembros/edit...</td>\n",
              "      <td>608</td>\n",
              "      <td>2</td>\n",
              "      <td>456</td>\n",
              "      <td>214</td>\n",
              "      <td>5</td>\n",
              "      <td>False</td>\n",
              "      <td>1</td>\n",
              "      <td>False</td>\n",
              "      <td>False</td>\n",
              "      <td>1</td>\n",
              "    </tr>\n",
              "    <tr>\n",
              "      <th>8779</th>\n",
              "      <td>posthttp://localhost:8080/tienda1/miembros/edi...</td>\n",
              "      <td>609</td>\n",
              "      <td>2</td>\n",
              "      <td>457</td>\n",
              "      <td>214</td>\n",
              "      <td>5</td>\n",
              "      <td>False</td>\n",
              "      <td>1</td>\n",
              "      <td>False</td>\n",
              "      <td>False</td>\n",
              "      <td>1</td>\n",
              "    </tr>\n",
              "    <tr>\n",
              "      <th>8954</th>\n",
              "      <td>gethttp://localhost:8080/tienda1/publico/regis...</td>\n",
              "      <td>616</td>\n",
              "      <td>2</td>\n",
              "      <td>465</td>\n",
              "      <td>213</td>\n",
              "      <td>5</td>\n",
              "      <td>False</td>\n",
              "      <td>1</td>\n",
              "      <td>False</td>\n",
              "      <td>False</td>\n",
              "      <td>1</td>\n",
              "    </tr>\n",
              "    <tr>\n",
              "      <th>8955</th>\n",
              "      <td>posthttp://localhost:8080/tienda1/publico/regi...</td>\n",
              "      <td>617</td>\n",
              "      <td>2</td>\n",
              "      <td>466</td>\n",
              "      <td>213</td>\n",
              "      <td>5</td>\n",
              "      <td>False</td>\n",
              "      <td>1</td>\n",
              "      <td>False</td>\n",
              "      <td>False</td>\n",
              "      <td>1</td>\n",
              "    </tr>\n",
              "    <tr>\n",
              "      <th>13579</th>\n",
              "      <td>gethttp://localhost:8080/tienda1/miembros/edit...</td>\n",
              "      <td>651</td>\n",
              "      <td>3</td>\n",
              "      <td>494</td>\n",
              "      <td>223</td>\n",
              "      <td>6</td>\n",
              "      <td>False</td>\n",
              "      <td>1</td>\n",
              "      <td>False</td>\n",
              "      <td>False</td>\n",
              "      <td>1</td>\n",
              "    </tr>\n",
              "    <tr>\n",
              "      <th>13580</th>\n",
              "      <td>posthttp://localhost:8080/tienda1/miembros/edi...</td>\n",
              "      <td>652</td>\n",
              "      <td>3</td>\n",
              "      <td>495</td>\n",
              "      <td>223</td>\n",
              "      <td>6</td>\n",
              "      <td>False</td>\n",
              "      <td>1</td>\n",
              "      <td>False</td>\n",
              "      <td>False</td>\n",
              "      <td>1</td>\n",
              "    </tr>\n",
              "    <tr>\n",
              "      <th>14118</th>\n",
              "      <td>gethttp://localhost:8080/tienda1/miembros/edit...</td>\n",
              "      <td>647</td>\n",
              "      <td>2</td>\n",
              "      <td>487</td>\n",
              "      <td>216</td>\n",
              "      <td>5</td>\n",
              "      <td>False</td>\n",
              "      <td>1</td>\n",
              "      <td>False</td>\n",
              "      <td>False</td>\n",
              "      <td>1</td>\n",
              "    </tr>\n",
              "    <tr>\n",
              "      <th>14119</th>\n",
              "      <td>posthttp://localhost:8080/tienda1/miembros/edi...</td>\n",
              "      <td>648</td>\n",
              "      <td>2</td>\n",
              "      <td>488</td>\n",
              "      <td>216</td>\n",
              "      <td>5</td>\n",
              "      <td>False</td>\n",
              "      <td>1</td>\n",
              "      <td>False</td>\n",
              "      <td>False</td>\n",
              "      <td>1</td>\n",
              "    </tr>\n",
              "    <tr>\n",
              "      <th>15535</th>\n",
              "      <td>gethttp://localhost:8080/tienda1/miembros/edit...</td>\n",
              "      <td>661</td>\n",
              "      <td>2</td>\n",
              "      <td>500</td>\n",
              "      <td>217</td>\n",
              "      <td>5</td>\n",
              "      <td>False</td>\n",
              "      <td>1</td>\n",
              "      <td>False</td>\n",
              "      <td>False</td>\n",
              "      <td>1</td>\n",
              "    </tr>\n",
              "    <tr>\n",
              "      <th>15536</th>\n",
              "      <td>posthttp://localhost:8080/tienda1/miembros/edi...</td>\n",
              "      <td>662</td>\n",
              "      <td>2</td>\n",
              "      <td>501</td>\n",
              "      <td>217</td>\n",
              "      <td>5</td>\n",
              "      <td>False</td>\n",
              "      <td>1</td>\n",
              "      <td>False</td>\n",
              "      <td>False</td>\n",
              "      <td>1</td>\n",
              "    </tr>\n",
              "    <tr>\n",
              "      <th>15620</th>\n",
              "      <td>gethttp://localhost:8080/tienda1/publico/regis...</td>\n",
              "      <td>630</td>\n",
              "      <td>3</td>\n",
              "      <td>476</td>\n",
              "      <td>219</td>\n",
              "      <td>6</td>\n",
              "      <td>False</td>\n",
              "      <td>1</td>\n",
              "      <td>False</td>\n",
              "      <td>False</td>\n",
              "      <td>1</td>\n",
              "    </tr>\n",
              "    <tr>\n",
              "      <th>15621</th>\n",
              "      <td>posthttp://localhost:8080/tienda1/publico/regi...</td>\n",
              "      <td>631</td>\n",
              "      <td>3</td>\n",
              "      <td>477</td>\n",
              "      <td>219</td>\n",
              "      <td>6</td>\n",
              "      <td>False</td>\n",
              "      <td>1</td>\n",
              "      <td>False</td>\n",
              "      <td>False</td>\n",
              "      <td>1</td>\n",
              "    </tr>\n",
              "    <tr>\n",
              "      <th>17425</th>\n",
              "      <td>gethttp://localhost:8080/tienda1/publico/regis...</td>\n",
              "      <td>646</td>\n",
              "      <td>3</td>\n",
              "      <td>489</td>\n",
              "      <td>217</td>\n",
              "      <td>5</td>\n",
              "      <td>False</td>\n",
              "      <td>1</td>\n",
              "      <td>False</td>\n",
              "      <td>False</td>\n",
              "      <td>1</td>\n",
              "    </tr>\n",
              "    <tr>\n",
              "      <th>17426</th>\n",
              "      <td>posthttp://localhost:8080/tienda1/publico/regi...</td>\n",
              "      <td>647</td>\n",
              "      <td>3</td>\n",
              "      <td>490</td>\n",
              "      <td>217</td>\n",
              "      <td>5</td>\n",
              "      <td>False</td>\n",
              "      <td>1</td>\n",
              "      <td>False</td>\n",
              "      <td>False</td>\n",
              "      <td>1</td>\n",
              "    </tr>\n",
              "    <tr>\n",
              "      <th>21772</th>\n",
              "      <td>gethttp://localhost:8080/tienda1/publico/regis...</td>\n",
              "      <td>611</td>\n",
              "      <td>2</td>\n",
              "      <td>457</td>\n",
              "      <td>217</td>\n",
              "      <td>7</td>\n",
              "      <td>False</td>\n",
              "      <td>0</td>\n",
              "      <td>False</td>\n",
              "      <td>False</td>\n",
              "      <td>1</td>\n",
              "    </tr>\n",
              "    <tr>\n",
              "      <th>21773</th>\n",
              "      <td>posthttp://localhost:8080/tienda1/publico/regi...</td>\n",
              "      <td>612</td>\n",
              "      <td>2</td>\n",
              "      <td>458</td>\n",
              "      <td>217</td>\n",
              "      <td>7</td>\n",
              "      <td>False</td>\n",
              "      <td>0</td>\n",
              "      <td>False</td>\n",
              "      <td>False</td>\n",
              "      <td>1</td>\n",
              "    </tr>\n",
              "    <tr>\n",
              "      <th>24132</th>\n",
              "      <td>gethttp://localhost:8080/tienda1/publico/regis...</td>\n",
              "      <td>647</td>\n",
              "      <td>2</td>\n",
              "      <td>493</td>\n",
              "      <td>215</td>\n",
              "      <td>6</td>\n",
              "      <td>False</td>\n",
              "      <td>2</td>\n",
              "      <td>False</td>\n",
              "      <td>False</td>\n",
              "      <td>1</td>\n",
              "    </tr>\n",
              "    <tr>\n",
              "      <th>24133</th>\n",
              "      <td>posthttp://localhost:8080/tienda1/publico/regi...</td>\n",
              "      <td>648</td>\n",
              "      <td>2</td>\n",
              "      <td>494</td>\n",
              "      <td>215</td>\n",
              "      <td>6</td>\n",
              "      <td>False</td>\n",
              "      <td>2</td>\n",
              "      <td>False</td>\n",
              "      <td>False</td>\n",
              "      <td>1</td>\n",
              "    </tr>\n",
              "  </tbody>\n",
              "</table>\n",
              "</div>\n",
              "    <div class=\"colab-df-buttons\">\n",
              "\n",
              "  <div class=\"colab-df-container\">\n",
              "    <button class=\"colab-df-convert\" onclick=\"convertToInteractive('df-08aff427-ed28-4a49-a788-5f998255260e')\"\n",
              "            title=\"Convert this dataframe to an interactive table.\"\n",
              "            style=\"display:none;\">\n",
              "\n",
              "  <svg xmlns=\"http://www.w3.org/2000/svg\" height=\"24px\" viewBox=\"0 -960 960 960\">\n",
              "    <path d=\"M120-120v-720h720v720H120Zm60-500h600v-160H180v160Zm220 220h160v-160H400v160Zm0 220h160v-160H400v160ZM180-400h160v-160H180v160Zm440 0h160v-160H620v160ZM180-180h160v-160H180v160Zm440 0h160v-160H620v160Z\"/>\n",
              "  </svg>\n",
              "    </button>\n",
              "\n",
              "  <style>\n",
              "    .colab-df-container {\n",
              "      display:flex;\n",
              "      gap: 12px;\n",
              "    }\n",
              "\n",
              "    .colab-df-convert {\n",
              "      background-color: #E8F0FE;\n",
              "      border: none;\n",
              "      border-radius: 50%;\n",
              "      cursor: pointer;\n",
              "      display: none;\n",
              "      fill: #1967D2;\n",
              "      height: 32px;\n",
              "      padding: 0 0 0 0;\n",
              "      width: 32px;\n",
              "    }\n",
              "\n",
              "    .colab-df-convert:hover {\n",
              "      background-color: #E2EBFA;\n",
              "      box-shadow: 0px 1px 2px rgba(60, 64, 67, 0.3), 0px 1px 3px 1px rgba(60, 64, 67, 0.15);\n",
              "      fill: #174EA6;\n",
              "    }\n",
              "\n",
              "    .colab-df-buttons div {\n",
              "      margin-bottom: 4px;\n",
              "    }\n",
              "\n",
              "    [theme=dark] .colab-df-convert {\n",
              "      background-color: #3B4455;\n",
              "      fill: #D2E3FC;\n",
              "    }\n",
              "\n",
              "    [theme=dark] .colab-df-convert:hover {\n",
              "      background-color: #434B5C;\n",
              "      box-shadow: 0px 1px 3px 1px rgba(0, 0, 0, 0.15);\n",
              "      filter: drop-shadow(0px 1px 2px rgba(0, 0, 0, 0.3));\n",
              "      fill: #FFFFFF;\n",
              "    }\n",
              "  </style>\n",
              "\n",
              "    <script>\n",
              "      const buttonEl =\n",
              "        document.querySelector('#df-08aff427-ed28-4a49-a788-5f998255260e button.colab-df-convert');\n",
              "      buttonEl.style.display =\n",
              "        google.colab.kernel.accessAllowed ? 'block' : 'none';\n",
              "\n",
              "      async function convertToInteractive(key) {\n",
              "        const element = document.querySelector('#df-08aff427-ed28-4a49-a788-5f998255260e');\n",
              "        const dataTable =\n",
              "          await google.colab.kernel.invokeFunction('convertToInteractive',\n",
              "                                                    [key], {});\n",
              "        if (!dataTable) return;\n",
              "\n",
              "        const docLinkHtml = 'Like what you see? Visit the ' +\n",
              "          '<a target=\"_blank\" href=https://colab.research.google.com/notebooks/data_table.ipynb>data table notebook</a>'\n",
              "          + ' to learn more about interactive tables.';\n",
              "        element.innerHTML = '';\n",
              "        dataTable['output_type'] = 'display_data';\n",
              "        await google.colab.output.renderOutput(dataTable, element);\n",
              "        const docLink = document.createElement('div');\n",
              "        docLink.innerHTML = docLinkHtml;\n",
              "        element.appendChild(docLink);\n",
              "      }\n",
              "    </script>\n",
              "  </div>\n",
              "\n",
              "\n",
              "<div id=\"df-a4ddb269-efe6-4165-8774-c7d1bfca2247\">\n",
              "  <button class=\"colab-df-quickchart\" onclick=\"quickchart('df-a4ddb269-efe6-4165-8774-c7d1bfca2247')\"\n",
              "            title=\"Suggest charts\"\n",
              "            style=\"display:none;\">\n",
              "\n",
              "<svg xmlns=\"http://www.w3.org/2000/svg\" height=\"24px\"viewBox=\"0 0 24 24\"\n",
              "     width=\"24px\">\n",
              "    <g>\n",
              "        <path d=\"M19 3H5c-1.1 0-2 .9-2 2v14c0 1.1.9 2 2 2h14c1.1 0 2-.9 2-2V5c0-1.1-.9-2-2-2zM9 17H7v-7h2v7zm4 0h-2V7h2v10zm4 0h-2v-4h2v4z\"/>\n",
              "    </g>\n",
              "</svg>\n",
              "  </button>\n",
              "\n",
              "<style>\n",
              "  .colab-df-quickchart {\n",
              "      --bg-color: #E8F0FE;\n",
              "      --fill-color: #1967D2;\n",
              "      --hover-bg-color: #E2EBFA;\n",
              "      --hover-fill-color: #174EA6;\n",
              "      --disabled-fill-color: #AAA;\n",
              "      --disabled-bg-color: #DDD;\n",
              "  }\n",
              "\n",
              "  [theme=dark] .colab-df-quickchart {\n",
              "      --bg-color: #3B4455;\n",
              "      --fill-color: #D2E3FC;\n",
              "      --hover-bg-color: #434B5C;\n",
              "      --hover-fill-color: #FFFFFF;\n",
              "      --disabled-bg-color: #3B4455;\n",
              "      --disabled-fill-color: #666;\n",
              "  }\n",
              "\n",
              "  .colab-df-quickchart {\n",
              "    background-color: var(--bg-color);\n",
              "    border: none;\n",
              "    border-radius: 50%;\n",
              "    cursor: pointer;\n",
              "    display: none;\n",
              "    fill: var(--fill-color);\n",
              "    height: 32px;\n",
              "    padding: 0;\n",
              "    width: 32px;\n",
              "  }\n",
              "\n",
              "  .colab-df-quickchart:hover {\n",
              "    background-color: var(--hover-bg-color);\n",
              "    box-shadow: 0 1px 2px rgba(60, 64, 67, 0.3), 0 1px 3px 1px rgba(60, 64, 67, 0.15);\n",
              "    fill: var(--button-hover-fill-color);\n",
              "  }\n",
              "\n",
              "  .colab-df-quickchart-complete:disabled,\n",
              "  .colab-df-quickchart-complete:disabled:hover {\n",
              "    background-color: var(--disabled-bg-color);\n",
              "    fill: var(--disabled-fill-color);\n",
              "    box-shadow: none;\n",
              "  }\n",
              "\n",
              "  .colab-df-spinner {\n",
              "    border: 2px solid var(--fill-color);\n",
              "    border-color: transparent;\n",
              "    border-bottom-color: var(--fill-color);\n",
              "    animation:\n",
              "      spin 1s steps(1) infinite;\n",
              "  }\n",
              "\n",
              "  @keyframes spin {\n",
              "    0% {\n",
              "      border-color: transparent;\n",
              "      border-bottom-color: var(--fill-color);\n",
              "      border-left-color: var(--fill-color);\n",
              "    }\n",
              "    20% {\n",
              "      border-color: transparent;\n",
              "      border-left-color: var(--fill-color);\n",
              "      border-top-color: var(--fill-color);\n",
              "    }\n",
              "    30% {\n",
              "      border-color: transparent;\n",
              "      border-left-color: var(--fill-color);\n",
              "      border-top-color: var(--fill-color);\n",
              "      border-right-color: var(--fill-color);\n",
              "    }\n",
              "    40% {\n",
              "      border-color: transparent;\n",
              "      border-right-color: var(--fill-color);\n",
              "      border-top-color: var(--fill-color);\n",
              "    }\n",
              "    60% {\n",
              "      border-color: transparent;\n",
              "      border-right-color: var(--fill-color);\n",
              "    }\n",
              "    80% {\n",
              "      border-color: transparent;\n",
              "      border-right-color: var(--fill-color);\n",
              "      border-bottom-color: var(--fill-color);\n",
              "    }\n",
              "    90% {\n",
              "      border-color: transparent;\n",
              "      border-bottom-color: var(--fill-color);\n",
              "    }\n",
              "  }\n",
              "</style>\n",
              "\n",
              "  <script>\n",
              "    async function quickchart(key) {\n",
              "      const quickchartButtonEl =\n",
              "        document.querySelector('#' + key + ' button');\n",
              "      quickchartButtonEl.disabled = true;  // To prevent multiple clicks.\n",
              "      quickchartButtonEl.classList.add('colab-df-spinner');\n",
              "      try {\n",
              "        const charts = await google.colab.kernel.invokeFunction(\n",
              "            'suggestCharts', [key], {});\n",
              "      } catch (error) {\n",
              "        console.error('Error during call to suggestCharts:', error);\n",
              "      }\n",
              "      quickchartButtonEl.classList.remove('colab-df-spinner');\n",
              "      quickchartButtonEl.classList.add('colab-df-quickchart-complete');\n",
              "    }\n",
              "    (() => {\n",
              "      let quickchartButtonEl =\n",
              "        document.querySelector('#df-a4ddb269-efe6-4165-8774-c7d1bfca2247 button');\n",
              "      quickchartButtonEl.style.display =\n",
              "        google.colab.kernel.accessAllowed ? 'block' : 'none';\n",
              "    })();\n",
              "  </script>\n",
              "</div>\n",
              "\n",
              "    </div>\n",
              "  </div>\n"
            ],
            "application/vnd.google.colaboratory.intrinsic+json": {
              "type": "dataframe",
              "summary": "{\n  \"name\": \"data[data['URL Length'] > 600]\",\n  \"rows\": 36,\n  \"fields\": [\n    {\n      \"column\": \"URL\",\n      \"properties\": {\n        \"dtype\": \"string\",\n        \"num_unique_values\": 36,\n        \"samples\": [\n          \"posthttp://localhost:8080/tienda1/publico/registro.jsp?modo=registrosessionid=12312312&+username=%3c%73%63%72%69%70%74%3e%64%6f%63%75%6d%65%6e%74%2e%6c%6f%63%61%74%69%6f%6e%3d%27%68%74%74%70%3a%2f%2f%61%74%74%61%63%6b%65%72%68%6f%73%74%2e%65%78%61%6d%70%6c%65%2f%63%67%69%2d%62%69%6e%2f%63%6f%6f%6b%69%65%73%74%65%61%6c%2e%63%67%69%3f%27%2b%64%6f%63%75%6d%65%6e%74%2e%63%6f%6f%6b%69%65%3c%2f%73+%63%72%69%70%74%3e?&login=turnbull&password=sinople&nombre=castorio&apellidos=nal\\ufffdn&email=cumming.lotti@grancolisionadordehadrones.nf&dni=13641255r&direccion=c/+alfambra+89,+&ciudad=ayamonte&cp=04888&provincia=salamanca&ntc=6332398372339556&b1=registrar\",\n          \"posthttp://localhost:8080/tienda1/miembros/editar.jsp?modo=registro&login=bernarr&password=sessionid=12312312&+username=%3c%73%63%72%69%70%74%3e%64%6f%63%75%6d%65%6e%74%2e%6c%6f%63%61%74%69%6f%6e%3d%27%68%74%74%70%3a%2f%2f%61%74%74%61%63%6b%65%72%68%6f%73%74%2e%65%78%61%6d%70%6c%65%2f%63%67%69%2d%62%69%6e%2f%63%6f%6f%6b%69%65%73%74%65%61%6c%2e%63%67%69%3f%27%2b%64%6f%63%75%6d%65%6e%74%2e%63%6f%6f%6b%69%65%3c%2f%73+%63%72%69%70%74%3e?&nombre=uriel&apellidos=cloquell+pesarrodona&email=moorehead-hamlett@touringa.pw&dni=64688843d&direccion=pl.+la+merced,+107+4c&ciudad=cuarte+de+huerva&cp=19420&provincia=teruel&ntc=4593991243170323&b1=registrar\",\n          \"gethttp://localhost:8080/tienda1/miembros/editar.jsp?modo=registro&login=sessionid=12312312&+username=%3c%73%63%72%69%70%74%3e%64%6f%63%75%6d%65%6e%74%2e%6c%6f%63%61%74%69%6f%6e%3d%27%68%74%74%70%3a%2f%2f%61%74%74%61%63%6b%65%72%68%6f%73%74%2e%65%78%61%6d%70%6c%65%2f%63%67%69%2d%62%69%6e%2f%63%6f%6f%6b%69%65%73%74%65%61%6c%2e%63%67%69%3f%27%2b%64%6f%63%75%6d%65%6e%74%2e%63%6f%6f%6b%69%65%3c%2f%73+%63%72%69%70%74%3e?&password=e!sca3zo&nombre=aixa&apellidos=lagares+planelles&email=sclommari@ceramicasmi\\ufffdo.gm&dni=70803791q&direccion=plaza+santa+maria+la+rica,+77,+4d&ciudad=chalamera&cp=33777&provincia=santa+cruz+de+tenerife&ntc=1250583387066531&b1=registrar\"\n        ],\n        \"semantic_type\": \"\",\n        \"description\": \"\"\n      }\n    },\n    {\n      \"column\": \"URL Length\",\n      \"properties\": {\n        \"dtype\": \"number\",\n        \"std\": 17,\n        \"min\": 608,\n        \"max\": 666,\n        \"num_unique_values\": 28,\n        \"samples\": [\n          616,\n          631,\n          615\n        ],\n        \"semantic_type\": \"\",\n        \"description\": \"\"\n      }\n    },\n    {\n      \"column\": \"Question Mark Count\",\n      \"properties\": {\n        \"dtype\": \"number\",\n        \"std\": 0,\n        \"min\": 2,\n        \"max\": 3,\n        \"num_unique_values\": 2,\n        \"samples\": [\n          3,\n          2\n        ],\n        \"semantic_type\": \"\",\n        \"description\": \"\"\n      }\n    },\n    {\n      \"column\": \"Special Char Count\",\n      \"properties\": {\n        \"dtype\": \"number\",\n        \"std\": 15,\n        \"min\": 456,\n        \"max\": 509,\n        \"num_unique_values\": 24,\n        \"samples\": [\n          501,\n          456\n        ],\n        \"semantic_type\": \"\",\n        \"description\": \"\"\n      }\n    },\n    {\n      \"column\": \"Digit Count\",\n      \"properties\": {\n        \"dtype\": \"number\",\n        \"std\": 2,\n        \"min\": 213,\n        \"max\": 223,\n        \"num_unique_values\": 9,\n        \"samples\": [\n          213,\n          215\n        ],\n        \"semantic_type\": \"\",\n        \"description\": \"\"\n      }\n    },\n    {\n      \"column\": \"Slash Count\",\n      \"properties\": {\n        \"dtype\": \"number\",\n        \"std\": 0,\n        \"min\": 5,\n        \"max\": 7,\n        \"num_unique_values\": 3,\n        \"samples\": [\n          5,\n          6\n        ],\n        \"semantic_type\": \"\",\n        \"description\": \"\"\n      }\n    },\n    {\n      \"column\": \"Contains IP\",\n      \"properties\": {\n        \"dtype\": \"boolean\",\n        \"num_unique_values\": 1,\n        \"samples\": [\n          false\n        ],\n        \"semantic_type\": \"\",\n        \"description\": \"\"\n      }\n    },\n    {\n      \"column\": \"Subdomain Count\",\n      \"properties\": {\n        \"dtype\": \"number\",\n        \"std\": 0,\n        \"min\": 0,\n        \"max\": 2,\n        \"num_unique_values\": 3,\n        \"samples\": [\n          1\n        ],\n        \"semantic_type\": \"\",\n        \"description\": \"\"\n      }\n    },\n    {\n      \"column\": \"Uses HTTPS\",\n      \"properties\": {\n        \"dtype\": \"boolean\",\n        \"num_unique_values\": 1,\n        \"samples\": [\n          false\n        ],\n        \"semantic_type\": \"\",\n        \"description\": \"\"\n      }\n    },\n    {\n      \"column\": \"Has TLD\",\n      \"properties\": {\n        \"dtype\": \"boolean\",\n        \"num_unique_values\": 1,\n        \"samples\": [\n          false\n        ],\n        \"semantic_type\": \"\",\n        \"description\": \"\"\n      }\n    },\n    {\n      \"column\": \"Label\",\n      \"properties\": {\n        \"dtype\": \"number\",\n        \"std\": 0,\n        \"min\": 1,\n        \"max\": 1,\n        \"num_unique_values\": 1,\n        \"samples\": [\n          1\n        ],\n        \"semantic_type\": \"\",\n        \"description\": \"\"\n      }\n    }\n  ]\n}"
            }
          },
          "metadata": {},
          "execution_count": 63
        }
      ],
      "source": [
        "data[data['URL Length'] > 600]"
      ]
    },
    {
      "cell_type": "code",
      "execution_count": null,
      "metadata": {
        "colab": {
          "base_uri": "https://localhost:8080/"
        },
        "id": "QohpXUneQhDv",
        "outputId": "b3d566d8-f62d-48a6-aba7-1c23d88d9e14"
      },
      "outputs": [
        {
          "output_type": "stream",
          "name": "stdout",
          "text": [
            "Padded Sequences Shape: (97065, 666)\n",
            "Count Vectorized Data Shape: (97065, 48668)\n",
            "TF-IDF Vectorized Data Shape: (97065, 48668)\n",
            "Scaled Features Shape: (97065, 9)\n",
            "X_train Shape: (77652, 1, 675)\n",
            "X_test Shape: (19413, 1, 675)\n",
            "y_train Shape: (77652,)\n",
            "y_test Shape: (19413,)\n"
          ]
        }
      ],
      "source": [
        "import pandas as pd\n",
        "from sklearn.model_selection import train_test_split\n",
        "from sklearn.feature_extraction.text import CountVectorizer, TfidfVectorizer\n",
        "from sklearn.preprocessing import StandardScaler\n",
        "from keras.preprocessing.text import Tokenizer\n",
        "from keras.preprocessing.sequence import pad_sequences\n",
        "import numpy as np\n",
        "\n",
        "# Tokenization\n",
        "tokenizer = Tokenizer()\n",
        "tokenizer.fit_on_texts(df['URL'])\n",
        "sequences = tokenizer.texts_to_sequences(df['URL'])\n",
        "\n",
        "# Sequence Padding\n",
        "max_sequence_length = 666\n",
        "padded_sequences = pad_sequences(sequences, maxlen=max_sequence_length, padding='post', truncating='post')\n",
        "\n",
        "# Vectorization - Count Vectorization\n",
        "count_vectorizer = CountVectorizer()\n",
        "count_vectorized_data = count_vectorizer.fit_transform(df['URL'])\n",
        "\n",
        "# Vectorization - TF-IDF Vectorization\n",
        "tfidf_vectorizer = TfidfVectorizer()\n",
        "tfidf_vectorized_data = tfidf_vectorizer.fit_transform(df['URL'])\n",
        "\n",
        "# Standard Scaling (Assuming 'Label' is the target variable)\n",
        "standard_scaler = StandardScaler()\n",
        "scaled_features = standard_scaler.fit_transform(features)\n",
        "\n",
        "X = np.hstack((scaled_features, padded_sequences))\n",
        "X = X.reshape(X.shape[0], 1, X.shape[1])\n",
        "\n",
        "# Splitting the data into training and testing sets\n",
        "X_train, X_test, y_train, y_test = train_test_split(\n",
        "    X, df['Label'], test_size=0.2, random_state=42\n",
        ")\n",
        "\n",
        "# Example: Display the shape of the preprocessed data\n",
        "print(\"Padded Sequences Shape:\", padded_sequences.shape)\n",
        "print(\"Count Vectorized Data Shape:\", count_vectorized_data.shape)\n",
        "print(\"TF-IDF Vectorized Data Shape:\", tfidf_vectorized_data.shape)\n",
        "print(\"Scaled Features Shape:\", scaled_features.shape)\n",
        "print(\"X_train Shape:\", X_train.shape)\n",
        "print(\"X_test Shape:\", X_test.shape)\n",
        "print(\"y_train Shape:\", y_train.shape)\n",
        "print(\"y_test Shape:\", y_test.shape)"
      ]
    },
    {
      "cell_type": "markdown",
      "metadata": {
        "id": "RFm5tpicRks6"
      },
      "source": [
        "# Tensorflow"
      ]
    },
    {
      "cell_type": "markdown",
      "metadata": {
        "id": "69VoAh8msMop"
      },
      "source": [
        "## LSTM"
      ]
    },
    {
      "cell_type": "code",
      "execution_count": null,
      "metadata": {
        "id": "rzmfNOzysLyQ"
      },
      "outputs": [],
      "source": [
        "from keras.models import Sequential\n",
        "from keras.layers import Embedding, LSTM, Bidirectional, Dense, Dropout\n",
        "from keras.optimizers import Adam\n"
      ]
    },
    {
      "cell_type": "code",
      "execution_count": null,
      "metadata": {
        "id": "0RhKF14P0BR5"
      },
      "outputs": [],
      "source": [
        "import tensorflow as tf\n",
        "early_stopping = tf.keras.callbacks.EarlyStopping(\n",
        "    monitor='val_loss',\n",
        "    min_delta=0.001,\n",
        "    patience=20,\n",
        "    verbose=1,\n",
        "    mode='auto',\n",
        "    baseline=None,\n",
        "    restore_best_weights=False,\n",
        "    start_from_epoch=0\n",
        ")"
      ]
    },
    {
      "cell_type": "code",
      "execution_count": null,
      "metadata": {
        "colab": {
          "base_uri": "https://localhost:8080/"
        },
        "id": "gJPUii-60SVe",
        "outputId": "0a0aad91-903b-4052-b0c2-463cf1b87d21"
      },
      "outputs": [
        {
          "output_type": "stream",
          "name": "stdout",
          "text": [
            "Epoch 1/50\n",
            "113/113 [==============================] - 10s 32ms/step - loss: 7.2705 - accuracy: 0.7782 - val_loss: 3.3397 - val_accuracy: 0.8384\n",
            "Epoch 2/50\n",
            "113/113 [==============================] - 3s 25ms/step - loss: 2.6041 - accuracy: 0.8306 - val_loss: 2.2313 - val_accuracy: 0.8179\n",
            "Epoch 3/50\n",
            "113/113 [==============================] - 3s 24ms/step - loss: 1.4055 - accuracy: 0.8511 - val_loss: 1.1927 - val_accuracy: 0.8381\n",
            "Epoch 4/50\n",
            "113/113 [==============================] - 4s 31ms/step - loss: 1.0164 - accuracy: 0.8605 - val_loss: 1.0296 - val_accuracy: 0.8717\n",
            "Epoch 5/50\n",
            "113/113 [==============================] - 2s 19ms/step - loss: 0.6996 - accuracy: 0.8725 - val_loss: 0.8051 - val_accuracy: 0.8768\n",
            "Epoch 6/50\n",
            "113/113 [==============================] - 1s 12ms/step - loss: 0.5562 - accuracy: 0.8798 - val_loss: 0.5814 - val_accuracy: 0.8759\n",
            "Epoch 7/50\n",
            "113/113 [==============================] - 1s 12ms/step - loss: 0.4154 - accuracy: 0.8982 - val_loss: 0.4821 - val_accuracy: 0.9029\n",
            "Epoch 8/50\n",
            "113/113 [==============================] - 1s 12ms/step - loss: 0.3358 - accuracy: 0.9003 - val_loss: 0.4362 - val_accuracy: 0.8992\n",
            "Epoch 9/50\n",
            "113/113 [==============================] - 1s 12ms/step - loss: 0.2795 - accuracy: 0.9081 - val_loss: 0.4050 - val_accuracy: 0.9064\n",
            "Epoch 10/50\n",
            "113/113 [==============================] - 1s 12ms/step - loss: 0.2677 - accuracy: 0.9145 - val_loss: 0.3012 - val_accuracy: 0.9228\n",
            "Epoch 11/50\n",
            "113/113 [==============================] - 2s 15ms/step - loss: 0.2456 - accuracy: 0.9196 - val_loss: 0.3353 - val_accuracy: 0.9017\n",
            "Epoch 12/50\n",
            "113/113 [==============================] - 2s 18ms/step - loss: 0.2194 - accuracy: 0.9243 - val_loss: 0.2544 - val_accuracy: 0.9314\n",
            "Epoch 13/50\n",
            "113/113 [==============================] - 1s 12ms/step - loss: 0.1977 - accuracy: 0.9345 - val_loss: 0.2354 - val_accuracy: 0.9292\n",
            "Epoch 14/50\n",
            "113/113 [==============================] - 2s 15ms/step - loss: 0.1813 - accuracy: 0.9397 - val_loss: 0.2533 - val_accuracy: 0.9383\n",
            "Epoch 15/50\n",
            "113/113 [==============================] - 1s 12ms/step - loss: 0.1808 - accuracy: 0.9377 - val_loss: 0.2363 - val_accuracy: 0.9310\n",
            "Epoch 16/50\n",
            "113/113 [==============================] - 2s 19ms/step - loss: 0.1863 - accuracy: 0.9365 - val_loss: 0.2911 - val_accuracy: 0.9358\n",
            "Epoch 17/50\n",
            "113/113 [==============================] - 3s 24ms/step - loss: 0.1726 - accuracy: 0.9393 - val_loss: 0.2378 - val_accuracy: 0.9422\n",
            "Epoch 18/50\n",
            "113/113 [==============================] - 4s 31ms/step - loss: 0.1613 - accuracy: 0.9422 - val_loss: 0.2114 - val_accuracy: 0.9435\n",
            "Epoch 19/50\n",
            "113/113 [==============================] - 3s 23ms/step - loss: 0.1541 - accuracy: 0.9427 - val_loss: 0.2196 - val_accuracy: 0.9353\n",
            "Epoch 20/50\n",
            "113/113 [==============================] - 3s 24ms/step - loss: 0.1444 - accuracy: 0.9466 - val_loss: 0.2132 - val_accuracy: 0.9407\n",
            "Epoch 21/50\n",
            "113/113 [==============================] - 2s 14ms/step - loss: 0.1456 - accuracy: 0.9473 - val_loss: 0.2109 - val_accuracy: 0.9465\n",
            "Epoch 22/50\n",
            "113/113 [==============================] - 1s 12ms/step - loss: 0.1423 - accuracy: 0.9489 - val_loss: 0.2015 - val_accuracy: 0.9457\n",
            "Epoch 23/50\n",
            "113/113 [==============================] - 1s 12ms/step - loss: 0.1446 - accuracy: 0.9506 - val_loss: 0.2111 - val_accuracy: 0.9450\n",
            "Epoch 24/50\n",
            "113/113 [==============================] - 2s 20ms/step - loss: 0.1362 - accuracy: 0.9493 - val_loss: 0.1977 - val_accuracy: 0.9470\n",
            "Epoch 25/50\n",
            "113/113 [==============================] - 2s 13ms/step - loss: 0.1308 - accuracy: 0.9511 - val_loss: 0.2154 - val_accuracy: 0.9392\n",
            "Epoch 26/50\n",
            "113/113 [==============================] - 1s 12ms/step - loss: 0.1360 - accuracy: 0.9519 - val_loss: 0.1788 - val_accuracy: 0.9488\n",
            "Epoch 27/50\n",
            "113/113 [==============================] - 1s 12ms/step - loss: 0.1287 - accuracy: 0.9538 - val_loss: 0.1992 - val_accuracy: 0.9447\n",
            "Epoch 28/50\n",
            "113/113 [==============================] - 1s 12ms/step - loss: 0.1381 - accuracy: 0.9493 - val_loss: 0.1898 - val_accuracy: 0.9501\n",
            "Epoch 29/50\n",
            "113/113 [==============================] - 1s 12ms/step - loss: 0.1395 - accuracy: 0.9509 - val_loss: 0.1863 - val_accuracy: 0.9490\n",
            "Epoch 30/50\n",
            "113/113 [==============================] - 1s 12ms/step - loss: 0.1333 - accuracy: 0.9539 - val_loss: 0.2195 - val_accuracy: 0.9504\n",
            "Epoch 31/50\n",
            "113/113 [==============================] - 1s 12ms/step - loss: 0.1264 - accuracy: 0.9558 - val_loss: 0.1989 - val_accuracy: 0.9521\n",
            "Epoch 32/50\n",
            "113/113 [==============================] - 2s 18ms/step - loss: 0.1213 - accuracy: 0.9565 - val_loss: 0.2086 - val_accuracy: 0.9529\n",
            "Epoch 33/50\n",
            "113/113 [==============================] - 2s 18ms/step - loss: 0.1265 - accuracy: 0.9564 - val_loss: 0.1941 - val_accuracy: 0.9557\n",
            "Epoch 34/50\n",
            "113/113 [==============================] - 2s 19ms/step - loss: 0.1302 - accuracy: 0.9544 - val_loss: 0.2122 - val_accuracy: 0.9479\n",
            "Epoch 35/50\n",
            "113/113 [==============================] - 3s 23ms/step - loss: 0.1288 - accuracy: 0.9556 - val_loss: 0.1799 - val_accuracy: 0.9529\n",
            "Epoch 36/50\n",
            "113/113 [==============================] - 2s 22ms/step - loss: 0.1271 - accuracy: 0.9552 - val_loss: 0.2152 - val_accuracy: 0.9521\n",
            "Epoch 37/50\n",
            "113/113 [==============================] - 3s 26ms/step - loss: 0.1258 - accuracy: 0.9566 - val_loss: 0.1977 - val_accuracy: 0.9564\n",
            "Epoch 38/50\n",
            "113/113 [==============================] - 3s 26ms/step - loss: 0.1169 - accuracy: 0.9602 - val_loss: 0.2009 - val_accuracy: 0.9557\n",
            "Epoch 39/50\n",
            "113/113 [==============================] - 2s 14ms/step - loss: 0.1149 - accuracy: 0.9619 - val_loss: 0.2113 - val_accuracy: 0.9556\n",
            "Epoch 40/50\n",
            "113/113 [==============================] - 1s 12ms/step - loss: 0.1124 - accuracy: 0.9611 - val_loss: 0.2143 - val_accuracy: 0.9582\n",
            "Epoch 41/50\n",
            "113/113 [==============================] - 1s 12ms/step - loss: 0.1090 - accuracy: 0.9612 - val_loss: 0.2044 - val_accuracy: 0.9593\n",
            "Epoch 42/50\n",
            "113/113 [==============================] - 1s 12ms/step - loss: 0.1143 - accuracy: 0.9606 - val_loss: 0.1579 - val_accuracy: 0.9592\n",
            "Epoch 43/50\n",
            "113/113 [==============================] - 1s 12ms/step - loss: 0.1093 - accuracy: 0.9631 - val_loss: 0.1667 - val_accuracy: 0.9615\n",
            "Epoch 44/50\n",
            "113/113 [==============================] - 1s 12ms/step - loss: 0.1027 - accuracy: 0.9672 - val_loss: 0.1716 - val_accuracy: 0.9549\n",
            "Epoch 45/50\n",
            "113/113 [==============================] - 2s 16ms/step - loss: 0.1019 - accuracy: 0.9666 - val_loss: 0.1763 - val_accuracy: 0.9640\n",
            "Epoch 46/50\n",
            "113/113 [==============================] - 2s 17ms/step - loss: 0.1017 - accuracy: 0.9680 - val_loss: 0.1584 - val_accuracy: 0.9643\n",
            "Epoch 47/50\n",
            "113/113 [==============================] - 1s 12ms/step - loss: 0.1013 - accuracy: 0.9685 - val_loss: 0.1549 - val_accuracy: 0.9660\n",
            "Epoch 48/50\n",
            "113/113 [==============================] - 1s 12ms/step - loss: 0.0992 - accuracy: 0.9697 - val_loss: 0.1483 - val_accuracy: 0.9586\n",
            "Epoch 49/50\n",
            "113/113 [==============================] - 1s 12ms/step - loss: 0.0997 - accuracy: 0.9665 - val_loss: 0.1372 - val_accuracy: 0.9624\n",
            "Epoch 50/50\n",
            "113/113 [==============================] - 1s 12ms/step - loss: 0.0982 - accuracy: 0.9665 - val_loss: 0.1484 - val_accuracy: 0.9561\n"
          ]
        }
      ],
      "source": [
        "model = Sequential()\n",
        "model.add(LSTM(units=50, activation='relu', return_sequences=True))\n",
        "# model.add(Dropout(0.1))  # Example dropout layer\n",
        "model.add(LSTM(units=50, activation='relu'))\n",
        "# model.add(Dense(units=10, activation='relu'))\n",
        "model.add(Dense(units=1, activation='sigmoid'))\n",
        "\n",
        "optimizer = Adam(learning_rate=0.001)  # Adjust the learning rate\n",
        "model.compile(optimizer=optimizer, loss='binary_crossentropy', metrics=['accuracy'])\n",
        "\n",
        "import time\n",
        "\n",
        "start_time = time.time()\n",
        "model.fit(X_train, y_train, epochs=50, batch_size=256, validation_split=0.2,callbacks = early_stopping)\n",
        "end_time = time.time()\n",
        "\n",
        "training_time_tensorflow = end_time - start_time\n",
        "\n"
      ]
    },
    {
      "cell_type": "code",
      "execution_count": null,
      "metadata": {
        "colab": {
          "base_uri": "https://localhost:8080/"
        },
        "id": "8zS7RJglstcF",
        "outputId": "03efaf8d-9f1c-4056-b338-261de355b270"
      },
      "outputs": [
        {
          "output_type": "execute_result",
          "data": {
            "text/plain": [
              "148.62451648712158"
            ]
          },
          "metadata": {},
          "execution_count": 24
        }
      ],
      "source": [
        "training_time_tensorflow"
      ]
    },
    {
      "cell_type": "code",
      "execution_count": null,
      "metadata": {
        "colab": {
          "base_uri": "https://localhost:8080/"
        },
        "id": "S_QD1Arx1COx",
        "outputId": "154d5419-d364-422a-c72b-d609435d78e4"
      },
      "outputs": [
        {
          "output_type": "stream",
          "name": "stdout",
          "text": [
            "282/282 [==============================] - 1s 5ms/step - loss: 0.1429 - accuracy: 0.9547\n",
            "Test Loss: 0.1429, Test Accuracy: 0.9547\n"
          ]
        }
      ],
      "source": [
        "# Evaluate the model\n",
        "loss, accuracy = model.evaluate(X_test, y_test)\n",
        "print(f'Test Loss: {loss:.4f}, Test Accuracy: {accuracy:.4f}')"
      ]
    },
    {
      "cell_type": "code",
      "execution_count": null,
      "metadata": {
        "colab": {
          "base_uri": "https://localhost:8080/"
        },
        "id": "Uo6K3R3HXcRo",
        "outputId": "8604bfd8-2aa1-4cbe-dbcb-fb3ec1d20971"
      },
      "outputs": [
        {
          "output_type": "stream",
          "name": "stdout",
          "text": [
            "282/282 [==============================] - 2s 3ms/step\n",
            "Accuracy for TensorFlow LSTM: 95.47%\n",
            "Precision for TensorFlow LSTM: 0.9383\n",
            "Recall for TensorFlow LSTM: 0.9675\n",
            "F1 Score for TensorFlow LSTM: 0.9526\n",
            "ROC-AUC for TensorFlow LSTM: 0.9882\n"
          ]
        }
      ],
      "source": [
        "from sklearn.metrics import accuracy_score, precision_score, recall_score, f1_score, confusion_matrix, roc_auc_score\n",
        "\n",
        "# Evaluate the model\n",
        "import time\n",
        "\n",
        "start_time = time.time()\n",
        "outputs_test_tf_lstm = model.predict(X_test)\n",
        "y_pred_tf_lstm = (outputs_test_tf_lstm > 0.5).astype(int)\n",
        "end_time = time.time()\n",
        "\n",
        "prediction_time_tensorflow = end_time - start_time\n",
        "\n",
        "\n",
        "\n",
        "# Calculate metrics\n",
        "accuracy_tf_lstm = accuracy_score(y_test, y_pred_tf_lstm)\n",
        "precision_tf_lstm = precision_score(y_test, y_pred_tf_lstm)\n",
        "recall_tf_lstm = recall_score(y_test, y_pred_tf_lstm)\n",
        "f1_tf_lstm = f1_score(y_test, y_pred_tf_lstm)\n",
        "confusion_mat_tf_lstm = confusion_matrix(y_test, y_pred_tf_lstm)\n",
        "roc_auc_tf_lstm = roc_auc_score(y_test, outputs_test_tf_lstm)\n",
        "\n",
        "# Print the metrics\n",
        "print(f\"Accuracy for TensorFlow LSTM: {accuracy_tf_lstm * 100:.2f}%\")\n",
        "print(f\"Precision for TensorFlow LSTM: {precision_tf_lstm:.4f}\")\n",
        "print(f\"Recall for TensorFlow LSTM: {recall_tf_lstm:.4f}\")\n",
        "print(f\"F1 Score for TensorFlow LSTM: {f1_tf_lstm:.4f}\")\n",
        "print(f\"ROC-AUC for TensorFlow LSTM: {roc_auc_tf_lstm:.4f}\")"
      ]
    },
    {
      "cell_type": "code",
      "execution_count": null,
      "metadata": {
        "colab": {
          "base_uri": "https://localhost:8080/"
        },
        "id": "UxIYNZrjs8Yx",
        "outputId": "6b818dea-44ea-44ac-8a5c-7ad930dcf578"
      },
      "outputs": [
        {
          "output_type": "execute_result",
          "data": {
            "text/plain": [
              "2.149256706237793"
            ]
          },
          "metadata": {},
          "execution_count": 27
        }
      ],
      "source": [
        "prediction_time_tensorflow"
      ]
    },
    {
      "cell_type": "code",
      "execution_count": null,
      "metadata": {
        "colab": {
          "base_uri": "https://localhost:8080/"
        },
        "id": "Fd7kteTRYpnJ",
        "outputId": "aed92e36-0cfc-4a66-8351-fdfc60283837"
      },
      "outputs": [
        {
          "output_type": "stream",
          "name": "stdout",
          "text": [
            "Confusion Matrix for TensorFlow LSTM:\n",
            "[[4490  270]\n",
            " [ 138 4103]]\n"
          ]
        }
      ],
      "source": [
        "print(\"Confusion Matrix for TensorFlow LSTM:\")\n",
        "print(confusion_mat_tf_lstm)"
      ]
    },
    {
      "cell_type": "code",
      "execution_count": null,
      "metadata": {
        "colab": {
          "base_uri": "https://localhost:8080/"
        },
        "id": "FoosivaJtAm_",
        "outputId": "09c492ee-a15a-49dd-b18e-e620c9a264e0"
      },
      "outputs": [
        {
          "output_type": "stream",
          "name": "stderr",
          "text": [
            "/usr/local/lib/python3.10/dist-packages/keras/src/engine/training.py:3103: UserWarning: You are saving your model as an HDF5 file via `model.save()`. This file format is considered legacy. We recommend using instead the native Keras format, e.g. `model.save('my_model.keras')`.\n",
            "  saving_api.save_model(\n"
          ]
        }
      ],
      "source": [
        "import os\n",
        "from tensorflow.keras.models import load_model\n",
        "\n",
        "# Assuming model is your trained TensorFlow model\n",
        "model.save('tensorflow_model.h5')\n",
        "\n",
        "tensorflow_model_size = os.path.getsize('tensorflow_model.h5') / 1024"
      ]
    },
    {
      "cell_type": "code",
      "execution_count": null,
      "metadata": {
        "colab": {
          "base_uri": "https://localhost:8080/"
        },
        "id": "HeJMlQequi-B",
        "outputId": "5e938d74-9416-4dbe-d1d6-6fb2b4812ae6"
      },
      "outputs": [
        {
          "output_type": "execute_result",
          "data": {
            "text/plain": [
              "1981.0390625"
            ]
          },
          "metadata": {},
          "execution_count": 30
        }
      ],
      "source": [
        "tensorflow_model_size"
      ]
    },
    {
      "cell_type": "markdown",
      "metadata": {
        "id": "XifdzF1Nt_ko"
      },
      "source": [
        "## bidirectional LSTM"
      ]
    },
    {
      "cell_type": "code",
      "execution_count": null,
      "metadata": {
        "colab": {
          "base_uri": "https://localhost:8080/"
        },
        "id": "jI8unfWGtoet",
        "outputId": "16982157-e193-47da-c50a-1e92233546fc"
      },
      "outputs": [
        {
          "output_type": "stream",
          "name": "stdout",
          "text": [
            "Epoch 1/50\n",
            "113/113 [==============================] - 9s 27ms/step - loss: 8.1953 - accuracy: 0.7979 - val_loss: 4.7832 - val_accuracy: 0.8549\n",
            "Epoch 2/50\n",
            "113/113 [==============================] - 3s 26ms/step - loss: 2.9861 - accuracy: 0.8452 - val_loss: 2.1426 - val_accuracy: 0.8425\n",
            "Epoch 3/50\n",
            "113/113 [==============================] - 3s 24ms/step - loss: 1.2412 - accuracy: 0.8612 - val_loss: 1.0385 - val_accuracy: 0.8575\n",
            "Epoch 4/50\n",
            "113/113 [==============================] - 2s 21ms/step - loss: 0.6718 - accuracy: 0.8709 - val_loss: 0.6379 - val_accuracy: 0.8702\n",
            "Epoch 5/50\n",
            "113/113 [==============================] - 2s 21ms/step - loss: 0.4001 - accuracy: 0.8899 - val_loss: 0.3857 - val_accuracy: 0.8797\n",
            "Epoch 6/50\n",
            "113/113 [==============================] - 3s 23ms/step - loss: 0.3190 - accuracy: 0.9014 - val_loss: 0.3548 - val_accuracy: 0.8946\n",
            "Epoch 7/50\n",
            "113/113 [==============================] - 4s 36ms/step - loss: 0.2784 - accuracy: 0.9084 - val_loss: 0.2958 - val_accuracy: 0.9106\n",
            "Epoch 8/50\n",
            "113/113 [==============================] - 5s 40ms/step - loss: 0.2459 - accuracy: 0.9156 - val_loss: 0.2489 - val_accuracy: 0.9115\n",
            "Epoch 9/50\n",
            "113/113 [==============================] - 5s 41ms/step - loss: 0.2135 - accuracy: 0.9228 - val_loss: 0.2230 - val_accuracy: 0.9275\n",
            "Epoch 10/50\n",
            "113/113 [==============================] - 5s 41ms/step - loss: 0.1774 - accuracy: 0.9349 - val_loss: 0.1868 - val_accuracy: 0.9404\n",
            "Epoch 11/50\n",
            "113/113 [==============================] - 2s 22ms/step - loss: 0.1676 - accuracy: 0.9399 - val_loss: 0.2027 - val_accuracy: 0.9379\n",
            "Epoch 12/50\n",
            "113/113 [==============================] - 2s 21ms/step - loss: 0.1664 - accuracy: 0.9408 - val_loss: 0.1833 - val_accuracy: 0.9388\n",
            "Epoch 13/50\n",
            "113/113 [==============================] - 2s 21ms/step - loss: 0.1522 - accuracy: 0.9451 - val_loss: 0.1670 - val_accuracy: 0.9443\n",
            "Epoch 14/50\n",
            "113/113 [==============================] - 2s 21ms/step - loss: 0.1502 - accuracy: 0.9469 - val_loss: 0.1553 - val_accuracy: 0.9471\n",
            "Epoch 15/50\n",
            "113/113 [==============================] - 3s 29ms/step - loss: 0.1390 - accuracy: 0.9522 - val_loss: 0.1673 - val_accuracy: 0.9503\n",
            "Epoch 16/50\n",
            "113/113 [==============================] - 2s 21ms/step - loss: 0.1417 - accuracy: 0.9538 - val_loss: 0.1466 - val_accuracy: 0.9546\n",
            "Epoch 17/50\n",
            "113/113 [==============================] - 2s 22ms/step - loss: 0.1328 - accuracy: 0.9543 - val_loss: 0.1393 - val_accuracy: 0.9567\n",
            "Epoch 18/50\n",
            "113/113 [==============================] - 4s 32ms/step - loss: 0.1300 - accuracy: 0.9564 - val_loss: 0.1404 - val_accuracy: 0.9579\n",
            "Epoch 19/50\n",
            "113/113 [==============================] - 5s 45ms/step - loss: 0.1242 - accuracy: 0.9588 - val_loss: 0.1428 - val_accuracy: 0.9522\n",
            "Epoch 20/50\n",
            "113/113 [==============================] - 4s 37ms/step - loss: 0.1250 - accuracy: 0.9587 - val_loss: 0.1346 - val_accuracy: 0.9619\n",
            "Epoch 21/50\n",
            "113/113 [==============================] - 3s 24ms/step - loss: 0.1293 - accuracy: 0.9632 - val_loss: 0.1176 - val_accuracy: 0.9625\n",
            "Epoch 22/50\n",
            "113/113 [==============================] - 3s 23ms/step - loss: 0.1123 - accuracy: 0.9652 - val_loss: 0.1085 - val_accuracy: 0.9656\n",
            "Epoch 23/50\n",
            "113/113 [==============================] - 3s 27ms/step - loss: 0.1108 - accuracy: 0.9655 - val_loss: 0.1096 - val_accuracy: 0.9675\n",
            "Epoch 24/50\n",
            "113/113 [==============================] - 2s 20ms/step - loss: 0.1088 - accuracy: 0.9668 - val_loss: 0.1101 - val_accuracy: 0.9650\n",
            "Epoch 25/50\n",
            "113/113 [==============================] - 2s 20ms/step - loss: 0.1093 - accuracy: 0.9679 - val_loss: 0.1036 - val_accuracy: 0.9707\n",
            "Epoch 26/50\n",
            "113/113 [==============================] - 2s 20ms/step - loss: 0.1003 - accuracy: 0.9715 - val_loss: 0.1072 - val_accuracy: 0.9675\n",
            "Epoch 27/50\n",
            "113/113 [==============================] - 3s 23ms/step - loss: 0.0967 - accuracy: 0.9743 - val_loss: 0.1052 - val_accuracy: 0.9728\n",
            "Epoch 28/50\n",
            "113/113 [==============================] - 4s 31ms/step - loss: 0.0983 - accuracy: 0.9729 - val_loss: 0.1101 - val_accuracy: 0.9738\n",
            "Epoch 29/50\n",
            "113/113 [==============================] - 3s 23ms/step - loss: 0.0952 - accuracy: 0.9747 - val_loss: 0.1057 - val_accuracy: 0.9722\n",
            "Epoch 30/50\n",
            "113/113 [==============================] - 4s 39ms/step - loss: 0.0919 - accuracy: 0.9747 - val_loss: 0.1036 - val_accuracy: 0.9736\n",
            "Epoch 31/50\n",
            "113/113 [==============================] - 5s 47ms/step - loss: 0.0888 - accuracy: 0.9776 - val_loss: 0.1028 - val_accuracy: 0.9700\n",
            "Epoch 32/50\n",
            "113/113 [==============================] - 4s 36ms/step - loss: 0.0863 - accuracy: 0.9777 - val_loss: 0.0926 - val_accuracy: 0.9738\n",
            "Epoch 33/50\n",
            "113/113 [==============================] - 2s 20ms/step - loss: 0.0862 - accuracy: 0.9781 - val_loss: 0.1002 - val_accuracy: 0.9765\n",
            "Epoch 34/50\n",
            "113/113 [==============================] - 2s 21ms/step - loss: 0.0857 - accuracy: 0.9782 - val_loss: 0.0911 - val_accuracy: 0.9742\n",
            "Epoch 35/50\n",
            "113/113 [==============================] - 3s 31ms/step - loss: 0.0830 - accuracy: 0.9789 - val_loss: 0.0883 - val_accuracy: 0.9771\n",
            "Epoch 36/50\n",
            "113/113 [==============================] - 2s 21ms/step - loss: 0.0843 - accuracy: 0.9786 - val_loss: 0.0906 - val_accuracy: 0.9776\n",
            "Epoch 37/50\n",
            "113/113 [==============================] - 2s 22ms/step - loss: 0.0818 - accuracy: 0.9794 - val_loss: 0.0931 - val_accuracy: 0.9764\n",
            "Epoch 38/50\n",
            "113/113 [==============================] - 2s 21ms/step - loss: 0.0812 - accuracy: 0.9785 - val_loss: 0.0993 - val_accuracy: 0.9722\n",
            "Epoch 39/50\n",
            "113/113 [==============================] - 2s 21ms/step - loss: 0.0798 - accuracy: 0.9789 - val_loss: 0.0907 - val_accuracy: 0.9781\n",
            "Epoch 40/50\n",
            "113/113 [==============================] - 4s 32ms/step - loss: 0.0777 - accuracy: 0.9820 - val_loss: 0.0884 - val_accuracy: 0.9801\n",
            "Epoch 41/50\n",
            "113/113 [==============================] - 4s 37ms/step - loss: 0.0864 - accuracy: 0.9798 - val_loss: 0.0806 - val_accuracy: 0.9821\n",
            "Epoch 42/50\n",
            "113/113 [==============================] - 5s 41ms/step - loss: 0.0747 - accuracy: 0.9822 - val_loss: 0.0904 - val_accuracy: 0.9792\n",
            "Epoch 43/50\n",
            "113/113 [==============================] - 4s 40ms/step - loss: 0.0764 - accuracy: 0.9814 - val_loss: 0.0889 - val_accuracy: 0.9817\n",
            "Epoch 44/50\n",
            "113/113 [==============================] - 2s 21ms/step - loss: 0.0740 - accuracy: 0.9816 - val_loss: 0.0928 - val_accuracy: 0.9794\n",
            "Epoch 45/50\n",
            "113/113 [==============================] - 2s 21ms/step - loss: 0.0745 - accuracy: 0.9814 - val_loss: 0.0832 - val_accuracy: 0.9796\n",
            "Epoch 46/50\n",
            "113/113 [==============================] - 2s 21ms/step - loss: 0.0709 - accuracy: 0.9831 - val_loss: 0.0763 - val_accuracy: 0.9831\n",
            "Epoch 47/50\n",
            "113/113 [==============================] - 3s 24ms/step - loss: 0.0756 - accuracy: 0.9830 - val_loss: 0.0835 - val_accuracy: 0.9825\n",
            "Epoch 48/50\n",
            "113/113 [==============================] - 3s 26ms/step - loss: 0.0705 - accuracy: 0.9837 - val_loss: 0.0882 - val_accuracy: 0.9819\n",
            "Epoch 49/50\n",
            "113/113 [==============================] - 2s 21ms/step - loss: 0.0719 - accuracy: 0.9840 - val_loss: 0.0909 - val_accuracy: 0.9804\n",
            "Epoch 50/50\n",
            "113/113 [==============================] - 2s 22ms/step - loss: 0.0697 - accuracy: 0.9843 - val_loss: 0.0875 - val_accuracy: 0.9786\n"
          ]
        }
      ],
      "source": [
        "model1 = Sequential()\n",
        "model1.add(Bidirectional(LSTM(units=50, activation='relu', return_sequences=True)))\n",
        "# model.add(Dropout(0.1))  # Example dropout layer\n",
        "model1.add(Bidirectional(LSTM(units=50, activation='relu')))\n",
        "# model.add(Dense(units=10, activation='relu'))\n",
        "model1.add(Dense(units=1, activation='sigmoid'))\n",
        "\n",
        "optimizer = Adam(learning_rate=0.001)  # Adjust the learning rate\n",
        "model1.compile(optimizer=optimizer, loss='binary_crossentropy', metrics=['accuracy'])\n",
        "import time\n",
        "\n",
        "start_time = time.time()\n",
        "model1.fit(X_train, y_train, epochs=50, batch_size=256, validation_split=0.2,callbacks = early_stopping)\n",
        "end_time = time.time()\n",
        "\n",
        "training_time_tensorflow = end_time - start_time"
      ]
    },
    {
      "cell_type": "code",
      "execution_count": null,
      "metadata": {
        "colab": {
          "base_uri": "https://localhost:8080/"
        },
        "id": "UUs94nj0tUER",
        "outputId": "271b9c28-ffef-473f-fa56-49080d558a4d"
      },
      "outputs": [
        {
          "output_type": "execute_result",
          "data": {
            "text/plain": [
              "208.00319457054138"
            ]
          },
          "metadata": {},
          "execution_count": 32
        }
      ],
      "source": [
        "training_time_tensorflow"
      ]
    },
    {
      "cell_type": "code",
      "execution_count": null,
      "metadata": {
        "colab": {
          "base_uri": "https://localhost:8080/"
        },
        "id": "WUuCZ-93vNPM",
        "outputId": "21d28acb-f109-4624-8204-b1a87420b37e"
      },
      "outputs": [
        {
          "output_type": "stream",
          "name": "stdout",
          "text": [
            "282/282 [==============================] - 1s 3ms/step\n",
            "Accuracy for TensorFlow Bidirectional LSTM: 97.90%\n",
            "Precision for TensorFlow Bidirectional LSTM: 0.9756\n",
            "Recall for TensorFlow Bidirectional LSTM: 0.9800\n",
            "F1 Score for TensorFlow Bidirectional LSTM: 0.9778\n",
            "ROC-AUC for TensorFlow Bidirectional LSTM: 0.9939\n"
          ]
        }
      ],
      "source": [
        "from sklearn.metrics import accuracy_score, precision_score, recall_score, f1_score, confusion_matrix, roc_auc_score\n",
        "\n",
        "# Evaluate the model\n",
        "import time\n",
        "\n",
        "start_time = time.time()\n",
        "outputs_test_tf_bidirectional_lstm = model1.predict(X_test)\n",
        "y_pred_tf_bidirectional_lstm = (outputs_test_tf_bidirectional_lstm > 0.5).astype(int)\n",
        "end_time = time.time()\n",
        "\n",
        "prediction_time_tensorflow = end_time - start_time\n",
        "\n",
        "\n",
        "\n",
        "# Calculate metrics\n",
        "accuracy_tf_bidirectional_lstm = accuracy_score(y_test, y_pred_tf_bidirectional_lstm)\n",
        "precision_tf_bidirectional_lstm = precision_score(y_test, y_pred_tf_bidirectional_lstm)\n",
        "recall_tf_bidirectional_lstm = recall_score(y_test, y_pred_tf_bidirectional_lstm)\n",
        "f1_tf_bidirectional_lstm = f1_score(y_test, y_pred_tf_bidirectional_lstm)\n",
        "confusion_mat_tf_bidirectional_lstm = confusion_matrix(y_test, y_pred_tf_bidirectional_lstm)\n",
        "roc_auc_tf_bidirectional_lstm = roc_auc_score(y_test, outputs_test_tf_bidirectional_lstm)\n",
        "\n",
        "# Print the metrics\n",
        "print(f\"Accuracy for TensorFlow Bidirectional LSTM: {accuracy_tf_bidirectional_lstm * 100:.2f}%\")\n",
        "print(f\"Precision for TensorFlow Bidirectional LSTM: {precision_tf_bidirectional_lstm:.4f}\")\n",
        "print(f\"Recall for TensorFlow Bidirectional LSTM: {recall_tf_bidirectional_lstm:.4f}\")\n",
        "print(f\"F1 Score for TensorFlow Bidirectional LSTM: {f1_tf_bidirectional_lstm:.4f}\")\n",
        "print(f\"ROC-AUC for TensorFlow Bidirectional LSTM: {roc_auc_tf_bidirectional_lstm:.4f}\")"
      ]
    },
    {
      "cell_type": "code",
      "execution_count": null,
      "metadata": {
        "colab": {
          "base_uri": "https://localhost:8080/"
        },
        "id": "BV-2RtJOtWUM",
        "outputId": "9bdf8a3d-5f84-4723-b6b6-ef39dca5bd2b"
      },
      "outputs": [
        {
          "output_type": "execute_result",
          "data": {
            "text/plain": [
              "1.5285885334014893"
            ]
          },
          "metadata": {},
          "execution_count": 34
        }
      ],
      "source": [
        "prediction_time_tensorflow"
      ]
    },
    {
      "cell_type": "code",
      "execution_count": null,
      "metadata": {
        "colab": {
          "base_uri": "https://localhost:8080/"
        },
        "id": "DNgCzaT4ZG6q",
        "outputId": "0e1802a1-9175-4735-f8d6-ec71205c690e"
      },
      "outputs": [
        {
          "output_type": "stream",
          "name": "stdout",
          "text": [
            "Confusion Matrix for TensorFlow Bidirectional LSTM:\n",
            "[[4656  104]\n",
            " [  85 4156]]\n"
          ]
        }
      ],
      "source": [
        "print(\"Confusion Matrix for TensorFlow Bidirectional LSTM:\")\n",
        "print(confusion_mat_tf_bidirectional_lstm)"
      ]
    },
    {
      "cell_type": "code",
      "execution_count": null,
      "metadata": {
        "colab": {
          "base_uri": "https://localhost:8080/"
        },
        "id": "uLB0qCo5tDS7",
        "outputId": "02384471-d6f5-449b-9fa4-b408b0896bca"
      },
      "outputs": [
        {
          "output_type": "stream",
          "name": "stderr",
          "text": [
            "/usr/local/lib/python3.10/dist-packages/keras/src/engine/training.py:3103: UserWarning: You are saving your model as an HDF5 file via `model.save()`. This file format is considered legacy. We recommend using instead the native Keras format, e.g. `model.save('my_model.keras')`.\n",
            "  saving_api.save_model(\n"
          ]
        }
      ],
      "source": [
        "import os\n",
        "from tensorflow.keras.models import load_model\n",
        "\n",
        "# Assuming model is your trained TensorFlow model\n",
        "model1.save('tensorflow_model.h5')\n",
        "\n",
        "tensorflow_model_size = os.path.getsize('tensorflow_model.h5') / 1024\n"
      ]
    },
    {
      "cell_type": "code",
      "execution_count": null,
      "metadata": {
        "colab": {
          "base_uri": "https://localhost:8080/"
        },
        "id": "X1sEvytFuvL4",
        "outputId": "61b49cab-1114-4803-8872-09f25f209d1b"
      },
      "outputs": [
        {
          "output_type": "execute_result",
          "data": {
            "text/plain": [
              "4178.3359375"
            ]
          },
          "metadata": {},
          "execution_count": 37
        }
      ],
      "source": [
        "tensorflow_model_size"
      ]
    },
    {
      "cell_type": "markdown",
      "metadata": {
        "id": "kMVD15A9Rf93"
      },
      "source": [
        "# Pytorch"
      ]
    },
    {
      "cell_type": "markdown",
      "metadata": {
        "id": "FADSGW6QRqgI"
      },
      "source": [
        "## LSTM"
      ]
    },
    {
      "cell_type": "code",
      "execution_count": null,
      "metadata": {
        "id": "ineX7SnVRwPZ"
      },
      "outputs": [],
      "source": [
        "import torch\n",
        "import torch.nn as nn\n",
        "import torch.optim as optim\n",
        "from torch.utils.data import DataLoader, TensorDataset\n",
        "\n",
        "# Tokenization and Sequence Padding (similar to TensorFlow)\n",
        "tokenizer = Tokenizer()\n",
        "tokenizer.fit_on_texts(data['URL'])\n",
        "sequences = tokenizer.texts_to_sequences(data['URL'])\n",
        "max_sequence_length = 666\n",
        "padded_sequences = pad_sequences(sequences, maxlen=max_sequence_length, padding='post', truncating='post')\n",
        "\n",
        "# Standard Scaling (Assuming 'Label' is the target variable)\n",
        "standard_scaler = StandardScaler()\n",
        "scaled_features = standard_scaler.fit_transform(features)\n",
        "\n",
        "# Combine features and sequences\n",
        "X = np.hstack((scaled_features, padded_sequences))\n",
        "X = X.reshape(X.shape[0], 1, X.shape[1])\n",
        "\n",
        "# Convert data to PyTorch tensors\n",
        "X_tensor = torch.Tensor(X)\n",
        "y_tensor = torch.Tensor(df['Label'].values)"
      ]
    },
    {
      "cell_type": "code",
      "execution_count": null,
      "metadata": {
        "id": "V4hCPqmcR-ah"
      },
      "outputs": [],
      "source": [
        "# Define the LSTM model in PyTorch\n",
        "class LSTMModel(nn.Module):\n",
        "    def __init__(self, input_size, hidden_size, output_size):\n",
        "        super(LSTMModel, self).__init__()\n",
        "        self.lstm1 = nn.LSTM(input_size=input_size, hidden_size=hidden_size)\n",
        "        self.relu = nn.ReLU()\n",
        "        self.lstm2 = nn.LSTM(input_size=hidden_size, hidden_size=hidden_size)\n",
        "        self.fc = nn.Linear(hidden_size, output_size)\n",
        "        self.sigmoid = nn.Sigmoid()\n",
        "\n",
        "    def forward(self, x):\n",
        "        x, _ = self.lstm1(x)\n",
        "        x = self.relu(x)\n",
        "        x, _ = self.lstm2(x)\n",
        "        x = self.relu(x)\n",
        "        x = self.fc(x[:, -1, :])  # Taking the last time step's output\n",
        "        x = self.sigmoid(x)\n",
        "        return x\n",
        "\n",
        "# Instantiate the model\n",
        "input_size = X.shape[2]\n",
        "hidden_size = 50\n",
        "output_size = 1\n",
        "model_lstm_pt = LSTMModel(input_size=input_size, hidden_size=hidden_size, output_size=output_size)\n",
        "\n",
        "# Define loss and optimizer\n",
        "criterion_lstm_pt = nn.BCELoss()\n",
        "optimizer_lstm_pt = optim.Adam(model_lstm_pt.parameters(), lr=0.001)\n",
        "\n",
        "# Convert data to PyTorch DataLoader\n",
        "train_dataset_lstm = TensorDataset(X_tensor, y_tensor)\n",
        "train_loader_lstm = DataLoader(train_dataset_lstm, batch_size=512, shuffle=True)"
      ]
    },
    {
      "cell_type": "code",
      "execution_count": null,
      "metadata": {
        "colab": {
          "base_uri": "https://localhost:8080/"
        },
        "id": "zOPLpOV-SBW-",
        "outputId": "4a959aad-0ae8-40ea-efb5-1a838487e570"
      },
      "outputs": [
        {
          "output_type": "stream",
          "name": "stdout",
          "text": [
            "Epoch 1/50, Loss: 0.41510438919067383\n",
            "Epoch 2/50, Loss: 0.3326486647129059\n",
            "Epoch 3/50, Loss: 0.2961350083351135\n",
            "Epoch 4/50, Loss: 0.2703952193260193\n",
            "Epoch 5/50, Loss: 0.22807691991329193\n",
            "Epoch 6/50, Loss: 0.2382073849439621\n",
            "Epoch 7/50, Loss: 0.23917873203754425\n",
            "Epoch 8/50, Loss: 0.2178768515586853\n",
            "Epoch 9/50, Loss: 0.24902349710464478\n",
            "Epoch 10/50, Loss: 0.19088515639305115\n",
            "Epoch 11/50, Loss: 0.2673960328102112\n",
            "Epoch 12/50, Loss: 0.15304385125637054\n",
            "Epoch 13/50, Loss: 0.2093627154827118\n",
            "Epoch 14/50, Loss: 0.17754875123500824\n",
            "Epoch 15/50, Loss: 0.14051304757595062\n",
            "Epoch 16/50, Loss: 0.19713537395000458\n",
            "Epoch 17/50, Loss: 0.16148558259010315\n",
            "Epoch 18/50, Loss: 0.18824471533298492\n",
            "Epoch 19/50, Loss: 0.17721712589263916\n",
            "Epoch 20/50, Loss: 0.19519688189029694\n",
            "Epoch 21/50, Loss: 0.18938304483890533\n",
            "Epoch 22/50, Loss: 0.17469124495983124\n",
            "Epoch 23/50, Loss: 0.18476776778697968\n",
            "Epoch 24/50, Loss: 0.15393061935901642\n",
            "Epoch 25/50, Loss: 0.15214060246944427\n",
            "Epoch 26/50, Loss: 0.18512766063213348\n",
            "Epoch 27/50, Loss: 0.1888427734375\n",
            "Epoch 28/50, Loss: 0.14925961196422577\n",
            "Epoch 29/50, Loss: 0.18486462533473969\n",
            "Epoch 30/50, Loss: 0.14893190562725067\n",
            "Epoch 31/50, Loss: 0.17315945029258728\n",
            "Epoch 32/50, Loss: 0.15947328507900238\n",
            "Epoch 33/50, Loss: 0.17126703262329102\n",
            "Epoch 34/50, Loss: 0.16112394630908966\n",
            "Epoch 35/50, Loss: 0.13982322812080383\n",
            "Epoch 36/50, Loss: 0.16526560485363007\n",
            "Epoch 37/50, Loss: 0.1576673984527588\n",
            "Epoch 38/50, Loss: 0.1468937247991562\n",
            "Epoch 39/50, Loss: 0.2082250565290451\n",
            "Epoch 40/50, Loss: 0.15117593109607697\n",
            "Epoch 41/50, Loss: 0.1425296515226364\n",
            "Epoch 42/50, Loss: 0.16075840592384338\n",
            "Epoch 43/50, Loss: 0.16801083087921143\n",
            "Epoch 44/50, Loss: 0.17927931249141693\n",
            "Epoch 45/50, Loss: 0.172296404838562\n",
            "Epoch 46/50, Loss: 0.1651475876569748\n",
            "Epoch 47/50, Loss: 0.15834517776966095\n",
            "Epoch 48/50, Loss: 0.12526211142539978\n",
            "Epoch 49/50, Loss: 0.12836916744709015\n",
            "Epoch 50/50, Loss: 0.14414983987808228\n"
          ]
        }
      ],
      "source": [
        "import time\n",
        "\n",
        "start_time = time.time()\n",
        "# Train the model\n",
        "num_epochs_lstm_pt = 50\n",
        "for epoch in range(num_epochs_lstm_pt):\n",
        "    for inputs, labels in train_loader_lstm:\n",
        "        optimizer_lstm_pt.zero_grad()\n",
        "        outputs_lstm_pt = model_lstm_pt(inputs)\n",
        "        loss_lstm_pt = criterion_lstm_pt(outputs_lstm_pt, labels.view(-1, 1))\n",
        "        loss_lstm_pt.backward()\n",
        "        optimizer_lstm_pt.step()\n",
        "    print(f'Epoch {epoch + 1}/{num_epochs_lstm_pt}, Loss: {loss_lstm_pt.item()}')\n",
        "end_time = time.time()\n",
        "\n",
        "training_time_pytorch = end_time - start_time"
      ]
    },
    {
      "cell_type": "code",
      "execution_count": null,
      "metadata": {
        "colab": {
          "base_uri": "https://localhost:8080/"
        },
        "id": "PkdpYaVSwamR",
        "outputId": "bcf65154-288e-4b2b-9200-ce7afedb667a"
      },
      "outputs": [
        {
          "output_type": "execute_result",
          "data": {
            "text/plain": [
              "164.30045795440674"
            ]
          },
          "metadata": {},
          "execution_count": 41
        }
      ],
      "source": [
        "training_time_pytorch"
      ]
    },
    {
      "cell_type": "code",
      "execution_count": null,
      "metadata": {
        "colab": {
          "base_uri": "https://localhost:8080/"
        },
        "id": "ocpoOjrxULFM",
        "outputId": "67690bcd-791f-4e69-e88d-e15d1ca8405b"
      },
      "outputs": [
        {
          "output_type": "stream",
          "name": "stdout",
          "text": [
            "PyTorch LSTM Model Accuracy: 0.9266748139095656\n"
          ]
        }
      ],
      "source": [
        "from sklearn.metrics import accuracy_score\n",
        "\n",
        "# Assuming X_test and y_test are the NumPy arrays\n",
        "X_test_tensor = torch.Tensor(X_test)\n",
        "y_test_tensor = torch.Tensor(y_test.values)\n",
        "\n",
        "import time\n",
        "\n",
        "start_time = time.time()\n",
        "\n",
        "with torch.no_grad():\n",
        "    outputs_test_pt = model_lstm_pt(X_test_tensor)\n",
        "    y_pred_pt = (outputs_test_pt > 0.5).numpy().astype(int)\n",
        "end_time = time.time()\n",
        "\n",
        "prediction_time_pytorch = end_time - start_time\n",
        "\n",
        "\n",
        "accuracy_pt = accuracy_score(y_test, y_pred_pt)\n",
        "print(f\"PyTorch LSTM Model Accuracy: {accuracy_pt}\")"
      ]
    },
    {
      "cell_type": "code",
      "execution_count": null,
      "metadata": {
        "colab": {
          "base_uri": "https://localhost:8080/"
        },
        "id": "WRdrP8vIwdD3",
        "outputId": "5f3a5577-c0c0-4186-d6ad-a9b9fd278a2a"
      },
      "outputs": [
        {
          "output_type": "execute_result",
          "data": {
            "text/plain": [
              "0.24942803382873535"
            ]
          },
          "metadata": {},
          "execution_count": 43
        }
      ],
      "source": [
        "prediction_time_pytorch"
      ]
    },
    {
      "cell_type": "code",
      "execution_count": null,
      "metadata": {
        "colab": {
          "base_uri": "https://localhost:8080/"
        },
        "id": "I8ExnJ4ObFkV",
        "outputId": "c8cd5936-f372-43b9-a9a4-1128df1b41ac"
      },
      "outputs": [
        {
          "output_type": "stream",
          "name": "stdout",
          "text": [
            "Accuracy for PyTorch LSTM: 92.67%\n",
            "Precision for PyTorch LSTM: 0.9017\n",
            "Recall for PyTorch LSTM: 0.9477\n",
            "F1 Score for PyTorch LSTM: 0.9241\n",
            "ROC-AUC for PyTorch LSTM: 0.9827\n"
          ]
        }
      ],
      "source": [
        "from sklearn.metrics import accuracy_score, precision_score, recall_score, f1_score, confusion_matrix, roc_auc_score\n",
        "\n",
        "# Assuming you have X_test_tensor and y_test_tensor available for evaluation\n",
        "\n",
        "# Set the model to evaluation mode\n",
        "model_lstm_pt.eval()\n",
        "\n",
        "# Evaluate the model\n",
        "with torch.no_grad():\n",
        "    outputs_test_lstm_pt = model_lstm_pt(X_test_tensor)\n",
        "    y_pred_lstm_pt = (outputs_test_lstm_pt > 0.5).numpy().astype(int)\n",
        "\n",
        "# Calculate metrics\n",
        "accuracy_lstm_pt = accuracy_score(y_test, y_pred_lstm_pt)\n",
        "precision_lstm_pt = precision_score(y_test, y_pred_lstm_pt)\n",
        "recall_lstm_pt = recall_score(y_test, y_pred_lstm_pt)\n",
        "f1_lstm_pt = f1_score(y_test, y_pred_lstm_pt)\n",
        "confusion_mat_lstm_pt = confusion_matrix(y_test, y_pred_lstm_pt)\n",
        "roc_auc_lstm_pt = roc_auc_score(y_test, outputs_test_lstm_pt.numpy())\n",
        "\n",
        "# Print the metrics\n",
        "print(f\"Accuracy for PyTorch LSTM: {accuracy_lstm_pt * 100:.2f}%\")\n",
        "print(f\"Precision for PyTorch LSTM: {precision_lstm_pt:.4f}\")\n",
        "print(f\"Recall for PyTorch LSTM: {recall_lstm_pt:.4f}\")\n",
        "print(f\"F1 Score for PyTorch LSTM: {f1_lstm_pt:.4f}\")\n",
        "print(f\"ROC-AUC for PyTorch LSTM: {roc_auc_lstm_pt:.4f}\")"
      ]
    },
    {
      "cell_type": "code",
      "execution_count": null,
      "metadata": {
        "colab": {
          "base_uri": "https://localhost:8080/"
        },
        "id": "SgU2GKJabHj8",
        "outputId": "55813c98-e6ba-498c-e4b0-9a1d44e7147b"
      },
      "outputs": [
        {
          "output_type": "stream",
          "name": "stdout",
          "text": [
            "Confusion Matrix for PyTorch LSTM:\n",
            "[[4322  438]\n",
            " [ 222 4019]]\n"
          ]
        }
      ],
      "source": [
        "print(\"Confusion Matrix for PyTorch LSTM:\")\n",
        "print(confusion_mat_lstm_pt)"
      ]
    },
    {
      "cell_type": "code",
      "execution_count": null,
      "metadata": {
        "id": "oFZ7OgNKt-wq"
      },
      "outputs": [],
      "source": [
        "import os\n",
        "import torch\n",
        "\n",
        "# Assuming model_pt is your trained PyTorch model\n",
        "torch.save('LSTMModel(nn.Module)', 'pytorch_model.pth')\n",
        "#\n",
        "\n",
        "pytorch_model_size = os.path.getsize('pytorch_model.pth') / 1024"
      ]
    },
    {
      "cell_type": "code",
      "execution_count": null,
      "metadata": {
        "colab": {
          "base_uri": "https://localhost:8080/"
        },
        "id": "xDfbiTmFwer-",
        "outputId": "9e7b347e-5339-49b5-99f5-c8020b3dc3a2"
      },
      "outputs": [
        {
          "output_type": "execute_result",
          "data": {
            "text/plain": [
              "0.8671875"
            ]
          },
          "metadata": {},
          "execution_count": 47
        }
      ],
      "source": [
        "pytorch_model_size"
      ]
    },
    {
      "cell_type": "markdown",
      "metadata": {
        "id": "KCx_LANJRrtB"
      },
      "source": [
        "## Bidirectional LSTM"
      ]
    },
    {
      "cell_type": "code",
      "execution_count": null,
      "metadata": {
        "id": "_QKccAWnRfKs"
      },
      "outputs": [],
      "source": [
        "class BidirectionalLSTMModel(nn.Module):\n",
        "    def __init__(self, input_size, hidden_size, output_size):\n",
        "        super(BidirectionalLSTMModel, self).__init__()\n",
        "        self.lstm1 = nn.LSTM(input_size=input_size, hidden_size=hidden_size, batch_first=True, bidirectional=True)\n",
        "        self.relu = nn.ReLU()\n",
        "        self.lstm2 = nn.LSTM(input_size=2 * hidden_size, hidden_size=hidden_size, batch_first=True, bidirectional=True)\n",
        "        self.fc = nn.Linear(2 * hidden_size, output_size)\n",
        "        self.sigmoid = nn.Sigmoid()\n",
        "\n",
        "    def forward(self, x):\n",
        "        x, _ = self.lstm1(x)\n",
        "        x = self.relu(x)\n",
        "        x, _ = self.lstm2(x)\n",
        "        x = self.relu(x)\n",
        "        x = self.fc(x[:, -1, :])  # Taking the last time step's output\n",
        "        x = self.sigmoid(x)\n",
        "        return x\n",
        "\n",
        "# Instantiate the bidirectional LSTM model\n",
        "model_bidirectional_lstm_pt = BidirectionalLSTMModel(input_size=input_size, hidden_size=hidden_size, output_size=output_size)\n",
        "\n",
        "# Define loss and optimizer\n",
        "criterion_bidirectional_lstm_pt = nn.BCELoss()\n",
        "optimizer_bidirectional_lstm_pt = optim.Adam(model_bidirectional_lstm_pt.parameters(), lr=0.001)\n",
        "\n",
        "# Convert data to PyTorch DataLoader\n",
        "train_dataset_bidirectional_lstm = TensorDataset(X_tensor, y_tensor)\n",
        "train_loader_bidirectional_lstm = DataLoader(train_dataset_bidirectional_lstm, batch_size=256, shuffle=True)"
      ]
    },
    {
      "cell_type": "code",
      "execution_count": null,
      "metadata": {
        "colab": {
          "base_uri": "https://localhost:8080/"
        },
        "id": "Ubuu47eSU6YV",
        "outputId": "fc9db5f8-08fd-4f66-ed88-38d8d36281f9"
      },
      "outputs": [
        {
          "output_type": "stream",
          "name": "stdout",
          "text": [
            "Epoch 1/50, Loss: 0.2911882996559143\n",
            "Epoch 2/50, Loss: 0.23974545300006866\n",
            "Epoch 3/50, Loss: 0.286405473947525\n",
            "Epoch 4/50, Loss: 0.20096851885318756\n",
            "Epoch 5/50, Loss: 0.2003498524427414\n",
            "Epoch 6/50, Loss: 0.21651233732700348\n",
            "Epoch 7/50, Loss: 0.1822645217180252\n",
            "Epoch 8/50, Loss: 0.19102434813976288\n",
            "Epoch 9/50, Loss: 0.15932591259479523\n",
            "Epoch 10/50, Loss: 0.2617003619670868\n",
            "Epoch 11/50, Loss: 0.17070651054382324\n",
            "Epoch 12/50, Loss: 0.18157035112380981\n",
            "Epoch 13/50, Loss: 0.15831048786640167\n",
            "Epoch 14/50, Loss: 0.1454862803220749\n",
            "Epoch 15/50, Loss: 0.16875888407230377\n",
            "Epoch 16/50, Loss: 0.23338563740253448\n",
            "Epoch 17/50, Loss: 0.2123109996318817\n",
            "Epoch 18/50, Loss: 0.1799611747264862\n",
            "Epoch 19/50, Loss: 0.13611988723278046\n",
            "Epoch 20/50, Loss: 0.20208525657653809\n",
            "Epoch 21/50, Loss: 0.09253805875778198\n",
            "Epoch 22/50, Loss: 0.15536175668239594\n",
            "Epoch 23/50, Loss: 0.14868752658367157\n",
            "Epoch 24/50, Loss: 0.1744888424873352\n",
            "Epoch 25/50, Loss: 0.17432041466236115\n",
            "Epoch 26/50, Loss: 0.12416397780179977\n",
            "Epoch 27/50, Loss: 0.1465444713830948\n",
            "Epoch 28/50, Loss: 0.1643126904964447\n",
            "Epoch 29/50, Loss: 0.14449869096279144\n",
            "Epoch 30/50, Loss: 0.1319870501756668\n",
            "Epoch 31/50, Loss: 0.1337095946073532\n",
            "Epoch 32/50, Loss: 0.17746534943580627\n",
            "Epoch 33/50, Loss: 0.16107115149497986\n",
            "Epoch 34/50, Loss: 0.17605681717395782\n",
            "Epoch 35/50, Loss: 0.18871350586414337\n",
            "Epoch 36/50, Loss: 0.17781606316566467\n",
            "Epoch 37/50, Loss: 0.1975683718919754\n",
            "Epoch 38/50, Loss: 0.17177240550518036\n",
            "Epoch 39/50, Loss: 0.17898735404014587\n",
            "Epoch 40/50, Loss: 0.11669868230819702\n",
            "Epoch 41/50, Loss: 0.11493924260139465\n",
            "Epoch 42/50, Loss: 0.1333228051662445\n",
            "Epoch 43/50, Loss: 0.09861412644386292\n",
            "Epoch 44/50, Loss: 0.1958596110343933\n",
            "Epoch 45/50, Loss: 0.16251881420612335\n",
            "Epoch 46/50, Loss: 0.15893323719501495\n",
            "Epoch 47/50, Loss: 0.1295677274465561\n",
            "Epoch 48/50, Loss: 0.18280556797981262\n",
            "Epoch 49/50, Loss: 0.21198154985904694\n",
            "Epoch 50/50, Loss: 0.12276836484670639\n"
          ]
        }
      ],
      "source": [
        "import time\n",
        "\n",
        "start_time = time.time()\n",
        "\n",
        "# Train the bidirectional LSTM model\n",
        "num_epochs_bidirectional_lstm_pt = 50\n",
        "for epoch in range(num_epochs_bidirectional_lstm_pt):\n",
        "    for inputs, labels in train_loader_bidirectional_lstm:\n",
        "        optimizer_bidirectional_lstm_pt.zero_grad()\n",
        "        outputs_bidirectional_lstm_pt = model_bidirectional_lstm_pt(inputs)\n",
        "        loss_bidirectional_lstm_pt = criterion_bidirectional_lstm_pt(outputs_bidirectional_lstm_pt, labels.view(-1, 1))\n",
        "        loss_bidirectional_lstm_pt.backward()\n",
        "        optimizer_bidirectional_lstm_pt.step()\n",
        "    # Print the loss after each epoch\n",
        "    print(f'Epoch {epoch + 1}/{num_epochs_bidirectional_lstm_pt}, Loss: {loss_bidirectional_lstm_pt.item()}')\n",
        "end_time = time.time()\n",
        "\n",
        "training_time_pytorch = end_time - start_time\n"
      ]
    },
    {
      "cell_type": "code",
      "execution_count": null,
      "metadata": {
        "colab": {
          "base_uri": "https://localhost:8080/"
        },
        "id": "tdNLigIM1IBa",
        "outputId": "a976b5c8-919e-4f04-dcb2-0e5a4e45f9fa"
      },
      "outputs": [
        {
          "output_type": "execute_result",
          "data": {
            "text/plain": [
              "288.755202293396"
            ]
          },
          "metadata": {},
          "execution_count": 50
        }
      ],
      "source": [
        "training_time_pytorch"
      ]
    },
    {
      "cell_type": "code",
      "execution_count": null,
      "metadata": {
        "colab": {
          "base_uri": "https://localhost:8080/"
        },
        "id": "eK6S9c0EWbYG",
        "outputId": "e792a3db-5dad-4b31-93d1-3bde3b1f3897"
      },
      "outputs": [
        {
          "output_type": "stream",
          "name": "stdout",
          "text": [
            "PyTorch Bidirectional LSTM Model Accuracy: 0.9285634929452283\n"
          ]
        }
      ],
      "source": [
        "# Evaluate the bidirectional LSTM model on the test set\n",
        "import time\n",
        "\n",
        "start_time = time.time()\n",
        "\n",
        "with torch.no_grad():\n",
        "    outputs_test_bidirectional_lstm_pt = model_bidirectional_lstm_pt(X_test_tensor)\n",
        "    y_pred_bidirectional_lstm_pt = (outputs_test_bidirectional_lstm_pt > 0.5).numpy().astype(int)\n",
        "end_time = time.time()\n",
        "\n",
        "prediction_time_pytorch = end_time - start_time\n",
        "\n",
        "\n",
        "accuracy_bidirectional_lstm_pt = accuracy_score(y_test, y_pred_bidirectional_lstm_pt)\n",
        "print(f\"PyTorch Bidirectional LSTM Model Accuracy: {accuracy_bidirectional_lstm_pt}\")"
      ]
    },
    {
      "cell_type": "code",
      "execution_count": null,
      "metadata": {
        "colab": {
          "base_uri": "https://localhost:8080/"
        },
        "id": "kw48m5ju1Jtp",
        "outputId": "9d4601f8-28f2-4396-a855-e6138a660f0a"
      },
      "outputs": [
        {
          "output_type": "execute_result",
          "data": {
            "text/plain": [
              "0.46068286895751953"
            ]
          },
          "metadata": {},
          "execution_count": 52
        }
      ],
      "source": [
        "prediction_time_pytorch"
      ]
    },
    {
      "cell_type": "code",
      "execution_count": null,
      "metadata": {
        "colab": {
          "base_uri": "https://localhost:8080/"
        },
        "id": "gLmaXXFaca6o",
        "outputId": "cff14edd-39b8-48ee-bbeb-b8fe131007a0"
      },
      "outputs": [
        {
          "output_type": "stream",
          "name": "stdout",
          "text": [
            "PyTorch Bidirectional LSTM Model Accuracy: 92.86%\n",
            "PyTorch Bidirectional LSTM Model Precision: 0.9083\n",
            "PyTorch Bidirectional LSTM Model Recall: 0.9436\n",
            "PyTorch Bidirectional LSTM Model F1 Score: 0.9256\n",
            "PyTorch Bidirectional LSTM Model ROC-AUC: 0.9843\n"
          ]
        }
      ],
      "source": [
        "from sklearn.metrics import accuracy_score, precision_score, recall_score, f1_score, confusion_matrix, roc_auc_score\n",
        "\n",
        "# Assuming X_test and y_test are the NumPy arrays\n",
        "X_test_tensor = torch.Tensor(X_test)\n",
        "y_test_tensor = torch.Tensor(y_test.values)\n",
        "\n",
        "# Set the model to evaluation mode\n",
        "model_bidirectional_lstm_pt.eval()\n",
        "\n",
        "# Evaluate the bidirectional LSTM model\n",
        "with torch.no_grad():\n",
        "    outputs_test_bidirectional_lstm_pt = model_bidirectional_lstm_pt(X_test_tensor)\n",
        "    y_pred_bidirectional_lstm_pt = (outputs_test_bidirectional_lstm_pt > 0.5).numpy().astype(int)\n",
        "\n",
        "# Calculate evaluation metrics\n",
        "accuracy_bidirectional_lstm_pt = accuracy_score(y_test_tensor, y_pred_bidirectional_lstm_pt)\n",
        "precision_bidirectional_lstm_pt = precision_score(y_test_tensor, y_pred_bidirectional_lstm_pt)\n",
        "recall_bidirectional_lstm_pt = recall_score(y_test_tensor, y_pred_bidirectional_lstm_pt)\n",
        "f1_bidirectional_lstm_pt = f1_score(y_test_tensor, y_pred_bidirectional_lstm_pt)\n",
        "confusion_matrix_bidirectional_lstm_pt = confusion_matrix(y_test_tensor, y_pred_bidirectional_lstm_pt)\n",
        "roc_auc_bidirectional_lstm_pt = roc_auc_score(y_test_tensor, outputs_test_bidirectional_lstm_pt.numpy())\n",
        "\n",
        "# Print the results\n",
        "print(f\"PyTorch Bidirectional LSTM Model Accuracy: {accuracy_bidirectional_lstm_pt * 100:.2f}%\")\n",
        "print(f\"PyTorch Bidirectional LSTM Model Precision: {precision_bidirectional_lstm_pt:.4f}\")\n",
        "print(f\"PyTorch Bidirectional LSTM Model Recall: {recall_bidirectional_lstm_pt:.4f}\")\n",
        "print(f\"PyTorch Bidirectional LSTM Model F1 Score: {f1_bidirectional_lstm_pt:.4f}\")\n",
        "print(f\"PyTorch Bidirectional LSTM Model ROC-AUC: {roc_auc_bidirectional_lstm_pt:.4f}\")"
      ]
    },
    {
      "cell_type": "code",
      "execution_count": null,
      "metadata": {
        "colab": {
          "base_uri": "https://localhost:8080/"
        },
        "id": "OhMaYvPndYuv",
        "outputId": "26d32e4e-eabb-419e-9f63-17a9ea62a1ad"
      },
      "outputs": [
        {
          "output_type": "stream",
          "name": "stdout",
          "text": [
            "PyTorch Bidirectional LSTM Model Confusion Matrix:\n",
            "[[4356  404]\n",
            " [ 239 4002]]\n"
          ]
        }
      ],
      "source": [
        "print(\"PyTorch Bidirectional LSTM Model Confusion Matrix:\")\n",
        "print(confusion_matrix_bidirectional_lstm_pt)"
      ]
    },
    {
      "cell_type": "code",
      "execution_count": null,
      "metadata": {
        "id": "NUfcvv9iuOiD"
      },
      "outputs": [],
      "source": [
        "import os\n",
        "import torch\n",
        "\n",
        "# Assuming model_pt is your trained PyTorch model\n",
        "torch.save('BidirectionalLSTMModel(nn.Module)', 'pytorch_model.pth')\n",
        "\n",
        "pytorch_model_size = os.path.getsize('pytorch_model.pth') / 1024\n"
      ]
    },
    {
      "cell_type": "code",
      "execution_count": null,
      "metadata": {
        "colab": {
          "base_uri": "https://localhost:8080/"
        },
        "id": "G7lqSrLi1Me-",
        "outputId": "6a837eab-b69c-425c-e599-43044b262f67"
      },
      "outputs": [
        {
          "output_type": "execute_result",
          "data": {
            "text/plain": [
              "0.8671875"
            ]
          },
          "metadata": {},
          "execution_count": 56
        }
      ],
      "source": [
        "pytorch_model_size"
      ]
    },
    {
      "cell_type": "markdown",
      "source": [
        "# CNN Tensorflow"
      ],
      "metadata": {
        "id": "zwJy6avcCDob"
      }
    },
    {
      "cell_type": "code",
      "source": [
        "from keras.models import Sequential\n",
        "from keras.layers import Embedding, Conv1D, GlobalMaxPooling1D, Dense, Dropout\n",
        "from keras.initializers import RandomUniform\n",
        "from keras.optimizers import Adam\n",
        "\n",
        "def create_cnn_model(input_shape):\n",
        "    model = Sequential()\n",
        "\n",
        "    # Convolutional layers\n",
        "    # model.add(Conv1D(filters=64, kernel_size=5, activation='relu', kernel_initializer='uniform', input_shape=input_shape))\n",
        "    model.add(Conv1D(filters=64, kernel_size=1, activation='relu', kernel_initializer='uniform', input_shape=input_shape))\n",
        "    model.add(GlobalMaxPooling1D())\n",
        "\n",
        "    # Dense layers\n",
        "    model.add(Dense(64, activation='relu'))\n",
        "    # model.add(Dropout(0.5))\n",
        "\n",
        "    # Output layer\n",
        "    model.add(Dense(1, activation='sigmoid'))\n",
        "\n",
        "    optimizer = Adam(learning_rate=0.001)\n",
        "    model.compile(optimizer=optimizer, loss='binary_crossentropy', metrics=['accuracy'])\n",
        "\n",
        "    return model\n",
        "\n",
        "# Assuming X_train shape is (num_samples, 1, combined_features_shape)\n",
        "input_shape = X_train.shape[1:]\n",
        "\n",
        "# Create the CNN model\n",
        "cnn_model = create_cnn_model(input_shape)\n",
        "\n",
        "# Print the model summary\n",
        "cnn_model.summary()\n"
      ],
      "metadata": {
        "colab": {
          "base_uri": "https://localhost:8080/"
        },
        "id": "7k5a17HJMo4x",
        "outputId": "ccc1423e-1f66-40cd-b3c6-1f3f8969e6a1"
      },
      "execution_count": null,
      "outputs": [
        {
          "output_type": "stream",
          "name": "stdout",
          "text": [
            "Model: \"sequential\"\n",
            "_________________________________________________________________\n",
            " Layer (type)                Output Shape              Param #   \n",
            "=================================================================\n",
            " conv1d (Conv1D)             (None, 1, 64)             43264     \n",
            "                                                                 \n",
            " global_max_pooling1d (Glob  (None, 64)                0         \n",
            " alMaxPooling1D)                                                 \n",
            "                                                                 \n",
            " dense (Dense)               (None, 64)                4160      \n",
            "                                                                 \n",
            " dense_1 (Dense)             (None, 1)                 65        \n",
            "                                                                 \n",
            "=================================================================\n",
            "Total params: 47489 (185.50 KB)\n",
            "Trainable params: 47489 (185.50 KB)\n",
            "Non-trainable params: 0 (0.00 Byte)\n",
            "_________________________________________________________________\n"
          ]
        }
      ]
    },
    {
      "cell_type": "code",
      "source": [
        "# Train the CNN model\n",
        "epochs = 50  # You can adjust this based on your needs\n",
        "batch_size = 256  # Adjust as needed\n",
        "\n",
        "import time\n",
        "\n",
        "start_time = time.time()\n",
        "cnn_model.fit(X_train, y_train, epochs=epochs, batch_size=batch_size, validation_split=0.2)\n",
        "end_time = time.time()\n",
        "\n",
        "training_time_tensorflow = end_time - start_time\n",
        "\n",
        "\n",
        "# Evaluate the model on the test set\n",
        "loss, accuracy = cnn_model.evaluate(X_test, y_test, batch_size=batch_size)\n",
        "print(f'Test Loss: {loss}, Test Accuracy: {accuracy}')"
      ],
      "metadata": {
        "colab": {
          "base_uri": "https://localhost:8080/"
        },
        "id": "BpVja3trMr8L",
        "outputId": "432be0fd-ca25-4623-bab1-2e05de939e70"
      },
      "execution_count": null,
      "outputs": [
        {
          "output_type": "stream",
          "name": "stdout",
          "text": [
            "Epoch 1/50\n",
            "243/243 [==============================] - 3s 7ms/step - loss: 5.5844 - accuracy: 0.8462 - val_loss: 1.7167 - val_accuracy: 0.9002\n",
            "Epoch 2/50\n",
            "243/243 [==============================] - 2s 9ms/step - loss: 1.3647 - accuracy: 0.8948 - val_loss: 0.9091 - val_accuracy: 0.9033\n",
            "Epoch 3/50\n",
            "243/243 [==============================] - 1s 6ms/step - loss: 0.7705 - accuracy: 0.9085 - val_loss: 0.5238 - val_accuracy: 0.9269\n",
            "Epoch 4/50\n",
            "243/243 [==============================] - 1s 6ms/step - loss: 0.5402 - accuracy: 0.9129 - val_loss: 0.5159 - val_accuracy: 0.9189\n",
            "Epoch 5/50\n",
            "243/243 [==============================] - 1s 5ms/step - loss: 0.3633 - accuracy: 0.9233 - val_loss: 0.4640 - val_accuracy: 0.9095\n",
            "Epoch 6/50\n",
            "243/243 [==============================] - 1s 6ms/step - loss: 0.2979 - accuracy: 0.9307 - val_loss: 0.3780 - val_accuracy: 0.9209\n",
            "Epoch 7/50\n",
            "243/243 [==============================] - 1s 5ms/step - loss: 0.1973 - accuracy: 0.9413 - val_loss: 0.2515 - val_accuracy: 0.9438\n",
            "Epoch 8/50\n",
            "243/243 [==============================] - 1s 5ms/step - loss: 0.2115 - accuracy: 0.9428 - val_loss: 0.2457 - val_accuracy: 0.9384\n",
            "Epoch 9/50\n",
            "243/243 [==============================] - 1s 5ms/step - loss: 0.1991 - accuracy: 0.9443 - val_loss: 0.3204 - val_accuracy: 0.9281\n",
            "Epoch 10/50\n",
            "243/243 [==============================] - 2s 7ms/step - loss: 0.1904 - accuracy: 0.9478 - val_loss: 0.1351 - val_accuracy: 0.9589\n",
            "Epoch 11/50\n",
            "243/243 [==============================] - 2s 9ms/step - loss: 0.1491 - accuracy: 0.9570 - val_loss: 0.1458 - val_accuracy: 0.9633\n",
            "Epoch 12/50\n",
            "243/243 [==============================] - 1s 6ms/step - loss: 0.1364 - accuracy: 0.9587 - val_loss: 0.1745 - val_accuracy: 0.9472\n",
            "Epoch 13/50\n",
            "243/243 [==============================] - 1s 5ms/step - loss: 0.1225 - accuracy: 0.9617 - val_loss: 0.1957 - val_accuracy: 0.9493\n",
            "Epoch 14/50\n",
            "243/243 [==============================] - 1s 5ms/step - loss: 0.1041 - accuracy: 0.9693 - val_loss: 0.0812 - val_accuracy: 0.9791\n",
            "Epoch 15/50\n",
            "243/243 [==============================] - 1s 5ms/step - loss: 0.1005 - accuracy: 0.9710 - val_loss: 0.0922 - val_accuracy: 0.9733\n",
            "Epoch 16/50\n",
            "243/243 [==============================] - 1s 5ms/step - loss: 0.0804 - accuracy: 0.9769 - val_loss: 0.0846 - val_accuracy: 0.9746\n",
            "Epoch 17/50\n",
            "243/243 [==============================] - 1s 5ms/step - loss: 0.0844 - accuracy: 0.9741 - val_loss: 0.0736 - val_accuracy: 0.9762\n",
            "Epoch 18/50\n",
            "243/243 [==============================] - 1s 5ms/step - loss: 0.0800 - accuracy: 0.9762 - val_loss: 0.0755 - val_accuracy: 0.9757\n",
            "Epoch 19/50\n",
            "243/243 [==============================] - 2s 7ms/step - loss: 0.0743 - accuracy: 0.9776 - val_loss: 0.0545 - val_accuracy: 0.9868\n",
            "Epoch 20/50\n",
            "243/243 [==============================] - 2s 8ms/step - loss: 0.0687 - accuracy: 0.9809 - val_loss: 0.0858 - val_accuracy: 0.9743\n",
            "Epoch 21/50\n",
            "243/243 [==============================] - 1s 5ms/step - loss: 0.0693 - accuracy: 0.9793 - val_loss: 0.0527 - val_accuracy: 0.9863\n",
            "Epoch 22/50\n",
            "243/243 [==============================] - 1s 5ms/step - loss: 0.0585 - accuracy: 0.9825 - val_loss: 0.1664 - val_accuracy: 0.9357\n",
            "Epoch 23/50\n",
            "243/243 [==============================] - 1s 5ms/step - loss: 0.0780 - accuracy: 0.9760 - val_loss: 0.0571 - val_accuracy: 0.9840\n",
            "Epoch 24/50\n",
            "243/243 [==============================] - 1s 5ms/step - loss: 0.0572 - accuracy: 0.9826 - val_loss: 0.0567 - val_accuracy: 0.9850\n",
            "Epoch 25/50\n",
            "243/243 [==============================] - 1s 5ms/step - loss: 0.0579 - accuracy: 0.9823 - val_loss: 0.0567 - val_accuracy: 0.9820\n",
            "Epoch 26/50\n",
            "243/243 [==============================] - 1s 5ms/step - loss: 0.0839 - accuracy: 0.9745 - val_loss: 0.0667 - val_accuracy: 0.9791\n",
            "Epoch 27/50\n",
            "243/243 [==============================] - 1s 5ms/step - loss: 0.0600 - accuracy: 0.9815 - val_loss: 0.0476 - val_accuracy: 0.9863\n",
            "Epoch 28/50\n",
            "243/243 [==============================] - 2s 8ms/step - loss: 0.0514 - accuracy: 0.9843 - val_loss: 0.0409 - val_accuracy: 0.9880\n",
            "Epoch 29/50\n",
            "243/243 [==============================] - 2s 8ms/step - loss: 0.0486 - accuracy: 0.9855 - val_loss: 0.0445 - val_accuracy: 0.9845\n",
            "Epoch 30/50\n",
            "243/243 [==============================] - 1s 5ms/step - loss: 0.0515 - accuracy: 0.9837 - val_loss: 0.0590 - val_accuracy: 0.9796\n",
            "Epoch 31/50\n",
            "243/243 [==============================] - 1s 5ms/step - loss: 0.0565 - accuracy: 0.9835 - val_loss: 0.0472 - val_accuracy: 0.9835\n",
            "Epoch 32/50\n",
            "243/243 [==============================] - 1s 5ms/step - loss: 0.0527 - accuracy: 0.9834 - val_loss: 0.0443 - val_accuracy: 0.9851\n",
            "Epoch 33/50\n",
            "243/243 [==============================] - 1s 5ms/step - loss: 0.0448 - accuracy: 0.9866 - val_loss: 0.0368 - val_accuracy: 0.9903\n",
            "Epoch 34/50\n",
            "243/243 [==============================] - 1s 5ms/step - loss: 0.0465 - accuracy: 0.9864 - val_loss: 0.0640 - val_accuracy: 0.9776\n",
            "Epoch 35/50\n",
            "243/243 [==============================] - 1s 5ms/step - loss: 0.0433 - accuracy: 0.9871 - val_loss: 0.0383 - val_accuracy: 0.9879\n",
            "Epoch 36/50\n",
            "243/243 [==============================] - 1s 5ms/step - loss: 0.0492 - accuracy: 0.9855 - val_loss: 0.0457 - val_accuracy: 0.9861\n",
            "Epoch 37/50\n",
            "243/243 [==============================] - 2s 8ms/step - loss: 0.0816 - accuracy: 0.9768 - val_loss: 0.0512 - val_accuracy: 0.9855\n",
            "Epoch 38/50\n",
            "243/243 [==============================] - 2s 8ms/step - loss: 0.0767 - accuracy: 0.9775 - val_loss: 0.0473 - val_accuracy: 0.9842\n",
            "Epoch 39/50\n",
            "243/243 [==============================] - 1s 5ms/step - loss: 0.0469 - accuracy: 0.9867 - val_loss: 0.0356 - val_accuracy: 0.9907\n",
            "Epoch 40/50\n",
            "243/243 [==============================] - 1s 5ms/step - loss: 0.0453 - accuracy: 0.9868 - val_loss: 0.0768 - val_accuracy: 0.9800\n",
            "Epoch 41/50\n",
            "243/243 [==============================] - 1s 5ms/step - loss: 0.0435 - accuracy: 0.9876 - val_loss: 0.0349 - val_accuracy: 0.9906\n",
            "Epoch 42/50\n",
            "243/243 [==============================] - 1s 5ms/step - loss: 0.0431 - accuracy: 0.9871 - val_loss: 0.0333 - val_accuracy: 0.9910\n",
            "Epoch 43/50\n",
            "243/243 [==============================] - 1s 5ms/step - loss: 0.0417 - accuracy: 0.9885 - val_loss: 0.0503 - val_accuracy: 0.9888\n",
            "Epoch 44/50\n",
            "243/243 [==============================] - 1s 5ms/step - loss: 0.0445 - accuracy: 0.9869 - val_loss: 0.0314 - val_accuracy: 0.9917\n",
            "Epoch 45/50\n",
            "243/243 [==============================] - 1s 5ms/step - loss: 0.0416 - accuracy: 0.9877 - val_loss: 0.0318 - val_accuracy: 0.9900\n",
            "Epoch 46/50\n",
            "243/243 [==============================] - 2s 8ms/step - loss: 0.0374 - accuracy: 0.9894 - val_loss: 0.0344 - val_accuracy: 0.9885\n",
            "Epoch 47/50\n",
            "243/243 [==============================] - 2s 7ms/step - loss: 0.0440 - accuracy: 0.9867 - val_loss: 0.0361 - val_accuracy: 0.9892\n",
            "Epoch 48/50\n",
            "243/243 [==============================] - 1s 6ms/step - loss: 0.0396 - accuracy: 0.9886 - val_loss: 0.0334 - val_accuracy: 0.9900\n",
            "Epoch 49/50\n",
            "243/243 [==============================] - 1s 5ms/step - loss: 0.0452 - accuracy: 0.9872 - val_loss: 0.0344 - val_accuracy: 0.9891\n",
            "Epoch 50/50\n",
            "243/243 [==============================] - 1s 5ms/step - loss: 0.0381 - accuracy: 0.9890 - val_loss: 0.0331 - val_accuracy: 0.9878\n",
            "76/76 [==============================] - 0s 3ms/step - loss: 0.0408 - accuracy: 0.9868\n",
            "Test Loss: 0.040772441774606705, Test Accuracy: 0.986812949180603\n"
          ]
        }
      ]
    },
    {
      "cell_type": "code",
      "source": [
        "training_time_tensorflow"
      ],
      "metadata": {
        "colab": {
          "base_uri": "https://localhost:8080/"
        },
        "id": "hWtt03v_MyPb",
        "outputId": "e6b08267-a519-43a0-e85f-1d26f219e43f"
      },
      "execution_count": null,
      "outputs": [
        {
          "output_type": "execute_result",
          "data": {
            "text/plain": [
              "74.2938621044159"
            ]
          },
          "metadata": {},
          "execution_count": 67
        }
      ]
    },
    {
      "cell_type": "code",
      "source": [
        "from sklearn.metrics import accuracy_score, precision_score, recall_score, f1_score, roc_auc_score, roc_curve, auc\n",
        "import matplotlib.pyplot as plt\n",
        "\n",
        "# Assuming cnn_model.predict(X_test) returns the predicted probabilities\n",
        "import time\n",
        "\n",
        "start_time = time.time()\n",
        "# Make predictions on the test set\n",
        "y_pred_prob = cnn_model.predict(X_test)\n",
        "\n",
        "# Convert probabilities to binary predictions (0 or 1)\n",
        "y_pred = (y_pred_prob > 0.5).astype(int)\n",
        "end_time = time.time()\n",
        "\n",
        "prediction_time_tensorflow = end_time - start_time\n",
        "\n",
        "\n",
        "# Calculate and print accuracy\n",
        "accuracy = accuracy_score(y_test, y_pred)\n",
        "print(f'Accuracy: {accuracy}')\n",
        "\n",
        "# Calculate and print precision\n",
        "precision = precision_score(y_test, y_pred)\n",
        "print(f'Precision: {precision}')\n",
        "\n",
        "# Calculate and print recall\n",
        "recall = recall_score(y_test, y_pred)\n",
        "print(f'Recall: {recall}')\n",
        "\n",
        "# Calculate and print F1 score\n",
        "f1 = f1_score(y_test, y_pred)\n",
        "print(f'F1 Score: {f1}')\n",
        "\n",
        "# Calculate ROC AUC score\n",
        "roc_auc = roc_auc_score(y_test, y_pred_prob)\n",
        "print(f'ROC AUC Score: {roc_auc}')\n",
        "\n",
        "# Plot ROC curve\n",
        "fpr, tpr, _ = roc_curve(y_test, y_pred_prob)\n",
        "roc_auc_curve = auc(fpr, tpr)\n",
        "\n",
        "plt.figure(figsize=(8, 6))\n",
        "plt.plot(fpr, tpr, color='darkorange', lw=2, label=f'ROC curve (area = {roc_auc_curve:.2f})')\n",
        "plt.plot([0, 1], [0, 1], color='navy', lw=2, linestyle='--')\n",
        "plt.xlabel('False Positive Rate')\n",
        "plt.ylabel('True Positive Rate')\n",
        "plt.title('Receiver Operating Characteristic (ROC) Curve')\n",
        "plt.legend(loc='lower right')\n",
        "plt.show()"
      ],
      "metadata": {
        "colab": {
          "base_uri": "https://localhost:8080/",
          "height": 668
        },
        "id": "naAwNTUTMyMI",
        "outputId": "b44f3109-0061-4a64-cae0-cc8049939d49"
      },
      "execution_count": null,
      "outputs": [
        {
          "output_type": "stream",
          "name": "stdout",
          "text": [
            "607/607 [==============================] - 3s 4ms/step\n",
            "Accuracy: 0.9868129603873693\n",
            "Precision: 0.9683356421927568\n",
            "Recall: 0.9807576668671076\n",
            "F1 Score: 0.9745070703047203\n",
            "ROC AUC Score: 0.995678484901948\n"
          ]
        },
        {
          "output_type": "display_data",
          "data": {
            "text/plain": [
              "<Figure size 800x600 with 1 Axes>"
            ],
            "image/png": "[encoded data removed]"
          },
          "metadata": {}
        }
      ]
    },
    {
      "cell_type": "code",
      "source": [
        "prediction_time_tensorflow"
      ],
      "metadata": {
        "colab": {
          "base_uri": "https://localhost:8080/"
        },
        "id": "tF6QCeNSNIeS",
        "outputId": "4a8ffe91-9ac5-4a72-a43d-e0daf0c9b1e4"
      },
      "execution_count": null,
      "outputs": [
        {
          "output_type": "execute_result",
          "data": {
            "text/plain": [
              "5.628326416015625"
            ]
          },
          "metadata": {},
          "execution_count": 69
        }
      ]
    },
    {
      "cell_type": "code",
      "source": [
        "import os\n",
        "from tensorflow.keras.models import load_model\n",
        "\n",
        "# Assuming model is your trained TensorFlow model\n",
        "cnn_model.save('tensorflow_model.h5')\n",
        "\n",
        "tensorflow_model_size = os.path.getsize('tensorflow_model.h5') / 1024\n",
        "tensorflow_model_size"
      ],
      "metadata": {
        "colab": {
          "base_uri": "https://localhost:8080/"
        },
        "id": "AHL32fl0NJFW",
        "outputId": "7887d954-5f53-432f-a118-705b913482c2"
      },
      "execution_count": null,
      "outputs": [
        {
          "output_type": "stream",
          "name": "stderr",
          "text": [
            "/usr/local/lib/python3.10/dist-packages/keras/src/engine/training.py:3103: UserWarning: You are saving your model as an HDF5 file via `model.save()`. This file format is considered legacy. We recommend using instead the native Keras format, e.g. `model.save('my_model.keras')`.\n",
            "  saving_api.save_model(\n"
          ]
        },
        {
          "output_type": "execute_result",
          "data": {
            "text/plain": [
              "588.7734375"
            ]
          },
          "metadata": {},
          "execution_count": 71
        }
      ]
    },
    {
      "cell_type": "markdown",
      "source": [
        "# CNN PyTorch"
      ],
      "metadata": {
        "id": "gH-Gcy7jGcCM"
      }
    },
    {
      "cell_type": "code",
      "source": [
        "import torch\n",
        "import torch.nn as nn\n",
        "import torch.optim as optim\n",
        "from torch.utils.data import TensorDataset, DataLoader\n",
        "\n",
        "class CNNModel(nn.Module):\n",
        "    def __init__(self, input_shape):\n",
        "        super(CNNModel, self).__init__()\n",
        "\n",
        "        # Convolutional layers\n",
        "        self.conv1 = nn.Conv1d(in_channels=input_shape[1], out_channels=64, kernel_size=1)\n",
        "        self.relu = nn.ReLU()\n",
        "        self.pool = nn.AdaptiveMaxPool1d(1)\n",
        "\n",
        "        # Dense layers\n",
        "        self.fc1 = nn.Linear(64, 64)\n",
        "        self.fc2 = nn.Linear(64, 1)\n",
        "        self.sigmoid = nn.Sigmoid()\n",
        "\n",
        "    def forward(self, x):\n",
        "        # Convolutional layers\n",
        "        x = self.conv1(x)\n",
        "        x = self.relu(x)\n",
        "        x = self.pool(x)\n",
        "\n",
        "        # Flatten before dense layers\n",
        "        x = x.view(x.size(0), -1)\n",
        "\n",
        "        # Dense layers\n",
        "        x = self.fc1(x)\n",
        "        x = self.relu(x)\n",
        "        x = self.fc2(x)\n",
        "        x = self.sigmoid(x)\n",
        "\n",
        "        return x\n",
        "\n",
        "# Convert data to PyTorch tensors\n",
        "X_train_tensor = torch.Tensor(X_train)\n",
        "y_train_tensor = torch.Tensor(y_train.values)\n",
        "\n",
        "# Instantiate the model\n",
        "# Assuming X_train shape is (num_samples, 1, combined_features_shape)\n",
        "input_shape = X_train_tensor.shape[1:]\n",
        "cnn_model_pt = CNNModel(input_shape)\n",
        "\n",
        "# Define loss and optimizer\n",
        "criterion_pt = nn.BCELoss()\n",
        "optimizer_pt = optim.Adam(cnn_model_pt.parameters(), lr=0.001)\n",
        "\n",
        "# Convert data to PyTorch DataLoader\n",
        "train_dataset_pt = TensorDataset(X_train_tensor, y_train_tensor)\n",
        "train_loader_pt = DataLoader(train_dataset_pt, batch_size=256, shuffle=True)"
      ],
      "metadata": {
        "id": "G8ckdQ5bLnPh"
      },
      "execution_count": null,
      "outputs": []
    },
    {
      "cell_type": "code",
      "source": [
        "# Train the model\n",
        "start_time_pt = time.time()\n",
        "num_epochs_pt = 50\n",
        "for epoch in range(num_epochs_pt):\n",
        "    for inputs, labels in train_loader_pt:\n",
        "        optimizer_pt.zero_grad()\n",
        "        outputs_pt = cnn_model_pt(inputs.permute(0, 2, 1))\n",
        "        loss_pt = criterion_pt(outputs_pt, labels.view(-1, 1))\n",
        "        loss_pt.backward()\n",
        "        optimizer_pt.step()\n",
        "    print(f'Epoch {epoch + 1}/{num_epochs_pt}, Loss: {loss_pt.item()}')\n",
        "end_time_pt = time.time()\n",
        "# Calculate training time\n",
        "training_time_pytorch = end_time_pt - start_time_pt\n",
        "print(f'Training Time (PyTorch): {training_time_pytorch} seconds')"
      ],
      "metadata": {
        "colab": {
          "base_uri": "https://localhost:8080/"
        },
        "id": "gCEjRLi0NkFL",
        "outputId": "ebd55e53-51a1-4647-81d6-dbeadcee5de0"
      },
      "execution_count": null,
      "outputs": [
        {
          "output_type": "stream",
          "name": "stdout",
          "text": [
            "Epoch 1/50, Loss: 17.87425422668457\n",
            "Epoch 2/50, Loss: 27.436668395996094\n",
            "Epoch 3/50, Loss: 21.46675682067871\n",
            "Epoch 4/50, Loss: 25.092063903808594\n",
            "Epoch 5/50, Loss: 16.672855377197266\n",
            "Epoch 6/50, Loss: 17.864181518554688\n",
            "Epoch 7/50, Loss: 17.86188316345215\n",
            "Epoch 8/50, Loss: 10.719612121582031\n",
            "Epoch 9/50, Loss: 19.05044174194336\n",
            "Epoch 10/50, Loss: 16.668989181518555\n",
            "Epoch 11/50, Loss: 15.556778907775879\n",
            "Epoch 12/50, Loss: 21.431087493896484\n",
            "Epoch 13/50, Loss: 21.42954444885254\n",
            "Epoch 14/50, Loss: 10.714905738830566\n",
            "Epoch 15/50, Loss: 17.860254287719727\n",
            "Epoch 16/50, Loss: 13.102408409118652\n",
            "Epoch 17/50, Loss: 14.291704177856445\n",
            "Epoch 18/50, Loss: 19.04909324645996\n",
            "Epoch 19/50, Loss: 19.049102783203125\n",
            "Epoch 20/50, Loss: 13.101603507995605\n",
            "Epoch 21/50, Loss: 21.429641723632812\n",
            "Epoch 22/50, Loss: 11.906054496765137\n",
            "Epoch 23/50, Loss: 14.287361145019531\n",
            "Epoch 24/50, Loss: 15.478202819824219\n",
            "Epoch 25/50, Loss: 22.6201114654541\n",
            "Epoch 26/50, Loss: 15.478490829467773\n",
            "Epoch 27/50, Loss: 16.669645309448242\n",
            "Epoch 28/50, Loss: 14.288763046264648\n",
            "Epoch 29/50, Loss: 7.144999027252197\n",
            "Epoch 30/50, Loss: 13.09779167175293\n",
            "Epoch 31/50, Loss: 26.191301345825195\n",
            "Epoch 32/50, Loss: 15.480072021484375\n",
            "Epoch 33/50, Loss: 15.538043975830078\n",
            "Epoch 34/50, Loss: 20.242450714111328\n",
            "Epoch 35/50, Loss: 14.374595642089844\n",
            "Epoch 36/50, Loss: 9.526517868041992\n",
            "Epoch 37/50, Loss: 13.097196578979492\n",
            "Epoch 38/50, Loss: 29.76467514038086\n",
            "Epoch 39/50, Loss: 20.240449905395508\n",
            "Epoch 40/50, Loss: 19.048776626586914\n",
            "Epoch 41/50, Loss: 7.1447930335998535\n",
            "Epoch 42/50, Loss: 13.096765518188477\n",
            "Epoch 43/50, Loss: 13.096710205078125\n",
            "Epoch 44/50, Loss: 15.4778470993042\n",
            "Epoch 45/50, Loss: 8.336282730102539\n",
            "Epoch 46/50, Loss: 15.478792190551758\n",
            "Epoch 47/50, Loss: 21.429912567138672\n",
            "Epoch 48/50, Loss: 19.049856185913086\n",
            "Epoch 49/50, Loss: 22.62026023864746\n",
            "Epoch 50/50, Loss: 21.483657836914062\n",
            "Training Time (PyTorch): 181.0361979007721 seconds\n"
          ]
        }
      ]
    },
    {
      "cell_type": "code",
      "source": [
        "# Inference on the test set\n",
        "X_test_tensor_pt = torch.Tensor(X_test)\n",
        "\n",
        "start_time = time.time()\n",
        "\n",
        "outputs_test_pt = cnn_model_pt(X_test_tensor_pt.permute(0, 2, 1))\n",
        "y_pred_pt = (outputs_test_pt > 0.5).numpy().astype(int)\n",
        "\n",
        "end_time = time.time()\n",
        "\n",
        "prediction_time_tensorflow = end_time - start_time\n",
        "\n",
        "prediction_time_tensorflow"
      ],
      "metadata": {
        "colab": {
          "base_uri": "https://localhost:8080/"
        },
        "id": "UJBrrdQUNl-j",
        "outputId": "c61c9a07-1b46-4bd4-b3cd-992f45f0797c"
      },
      "execution_count": null,
      "outputs": [
        {
          "output_type": "execute_result",
          "data": {
            "text/plain": [
              "0.17441201210021973"
            ]
          },
          "metadata": {},
          "execution_count": 74
        }
      ]
    },
    {
      "cell_type": "code",
      "source": [
        "from sklearn.metrics import accuracy_score, precision_score, recall_score, f1_score, roc_auc_score, roc_curve, auc\n",
        "import matplotlib.pyplot as plt\n",
        "\n",
        "# Evaluation on the test set\n",
        "accuracy_pt = accuracy_score(y_test, y_pred_pt)\n",
        "print(f'Test Accuracy (PyTorch): {accuracy_pt}')\n"
      ],
      "metadata": {
        "colab": {
          "base_uri": "https://localhost:8080/"
        },
        "id": "aJ0KcM1ZNVFe",
        "outputId": "b3be06f5-6f09-4b2e-b5ec-20012ab8d8d4"
      },
      "execution_count": null,
      "outputs": [
        {
          "output_type": "stream",
          "name": "stdout",
          "text": [
            "Test Accuracy (PyTorch): 0.8316076855715242\n"
          ]
        }
      ]
    },
    {
      "cell_type": "code",
      "source": [
        "from sklearn.metrics import accuracy_score, precision_score, recall_score, f1_score, roc_auc_score\n",
        "\n",
        "# Calculate Metrics\n",
        "accuracy_pt = accuracy_score(y_test, y_pred_pt)\n",
        "precision_pt = precision_score(y_test, y_pred_pt)\n",
        "recall_pt = recall_score(y_test, y_pred_pt)\n",
        "f1_pt = f1_score(y_test, y_pred_pt)\n",
        "roc_auc_pt = roc_auc_score(y_test, outputs_test_pt.detach().numpy())\n",
        "\n",
        "# Display Metrics\n",
        "print(\"Accuracy (PyTorch):\", accuracy_pt)\n",
        "print(\"Precision (PyTorch):\", precision_pt)\n",
        "print(\"Recall (PyTorch):\", recall_pt)\n",
        "print(\"F1 Score (PyTorch):\", f1_pt)\n",
        "print(\"ROC-AUC (PyTorch):\", roc_auc_pt)"
      ],
      "metadata": {
        "colab": {
          "base_uri": "https://localhost:8080/"
        },
        "id": "7Je2i4FFOZr4",
        "outputId": "32bcc583-47f1-4546-f1bb-060b9892af3a"
      },
      "execution_count": null,
      "outputs": [
        {
          "output_type": "stream",
          "name": "stdout",
          "text": [
            "Accuracy (PyTorch): 0.8316076855715242\n",
            "Precision (PyTorch): 0.6060157790927022\n",
            "Recall (PyTorch): 0.9853678091801964\n",
            "F1 Score (PyTorch): 0.7504770628196321\n",
            "ROC-AUC (PyTorch): 0.8779418575552851\n"
          ]
        }
      ]
    },
    {
      "cell_type": "code",
      "source": [
        "import os\n",
        "import torch\n",
        "\n",
        "# Assuming model_pt is your trained PyTorch model\n",
        "torch.save('CNNModel(nn.Module)', 'pytorch_model.pth')\n",
        "\n",
        "pytorch_model_size = os.path.getsize('pytorch_model.pth') / 1024\n",
        "pytorch_model_size"
      ],
      "metadata": {
        "colab": {
          "base_uri": "https://localhost:8080/"
        },
        "id": "Rmx-LVR9Ojjt",
        "outputId": "20821027-1c87-43b4-e1ca-49a03e94a458"
      },
      "execution_count": null,
      "outputs": [
        {
          "output_type": "execute_result",
          "data": {
            "text/plain": [
              "0.8671875"
            ]
          },
          "metadata": {},
          "execution_count": 79
        }
      ]
    }
  ],
  "metadata": {
    "colab": {
      "collapsed_sections": [
        "CX9C0-48PD-K",
        "R74dSE5JPB3x",
        "Y8GLsDDOQcTa",
        "RFm5tpicRks6",
        "69VoAh8msMop",
        "XifdzF1Nt_ko",
        "kMVD15A9Rf93",
        "FADSGW6QRqgI",
        "KCx_LANJRrtB",
        "zwJy6avcCDob",
        "gH-Gcy7jGcCM"
      ],
      "provenance": []
    },
    "kernelspec": {
      "display_name": "Python 3",
      "name": "python3"
    },
    "language_info": {
      "name": "python"
    }
  },
  "nbformat": 4,
  "nbformat_minor": 0
}